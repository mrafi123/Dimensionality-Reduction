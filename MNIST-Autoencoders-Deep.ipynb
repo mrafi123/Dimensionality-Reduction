{
 "cells": [
  {
   "cell_type": "code",
   "execution_count": 1,
   "metadata": {
    "collapsed": false,
    "scrolled": true
   },
   "outputs": [
    {
     "name": "stderr",
     "output_type": "stream",
     "text": [
      "Using Theano backend.\n",
      "Using gpu device 0: GeForce 920M (CNMeM is disabled, cuDNN not available)\n"
     ]
    }
   ],
   "source": [
    "from keras.layers import Input, Dense\n",
    "from keras.models import Model\n",
    "from sklearn.cross_validation import train_test_split\n",
    "from keras.optimizers import *\n",
    "\n",
    "%matplotlib inline\n",
    "\n",
    "# this is the size of our encoded representations\n",
    "#encoding_dim = 32  # 32 floats -> compression of factor 24.5, assuming the input is 784 floats\n",
    "#encoding_dim = 3\n",
    "encoding_dim = 40\n",
    "\n",
    "\n",
    "# this is our input placeholder\n",
    "input_img = Input(shape=(784,))\n",
    "\n",
    "# \"encoded\" is the encoded representation of the input\n",
    "encoded = Dense(676, activation='relu')(input_img) #26X26\n",
    "encoded = Dense(484, activation='relu')(encoded) #22X22\n",
    "encoded = Dense(324, activation='relu')(encoded)  #18X18\n",
    "encoded = Dense(144, activation='relu')(encoded)  #12X12\n",
    "encoded = Dense(64, activation='relu')(encoded)  #8X8\n",
    "encoded = Dense(encoding_dim, activation='relu')(encoded)\n",
    "\n",
    "# \"decoded\" is the lossy reconstruction of the input\n",
    "\n",
    "decoded = Dense(784, activation='sigmoid')(encoded)\n",
    "\n",
    "# this model maps an input to its reconstruction\n",
    "autoencoder = Model(input=input_img, output=decoded)\n"
   ]
  },
  {
   "cell_type": "code",
   "execution_count": 2,
   "metadata": {
    "collapsed": false
   },
   "outputs": [
    {
     "name": "stdout",
     "output_type": "stream",
     "text": [
      "40\n",
      "input_1\n",
      "Elemwise{mul,no_inplace}.0\n",
      "sigmoid.0\n",
      "<keras.engine.training.Model object at 0x7fcfc621b1d0>\n"
     ]
    }
   ],
   "source": [
    "print (encoding_dim)\n",
    "print (input_img)\n",
    "print (encoded)\n",
    "print (decoded)\n",
    "print (autoencoder)\n",
    "#print(autoencoder.get_weights())"
   ]
  },
  {
   "cell_type": "code",
   "execution_count": 3,
   "metadata": {
    "collapsed": true,
    "scrolled": true
   },
   "outputs": [],
   "source": [
    "# this model maps an input to its encoded representation\n",
    "encoder = Model(input=input_img, output=encoded)"
   ]
  },
  {
   "cell_type": "code",
   "execution_count": 4,
   "metadata": {
    "collapsed": false
   },
   "outputs": [
    {
     "name": "stdout",
     "output_type": "stream",
     "text": [
      "<keras.engine.training.Model object at 0x7fd000806748>\n"
     ]
    }
   ],
   "source": [
    "print (encoder)"
   ]
  },
  {
   "cell_type": "code",
   "execution_count": 5,
   "metadata": {
    "collapsed": false,
    "scrolled": true
   },
   "outputs": [],
   "source": [
    "# create a placeholder for an encoded (32-dimensional) input\n",
    "encoded_input = Input(shape=(encoding_dim,))\n",
    "# retrieve the last layer of the autoencoder model\n",
    "decoder_layer = autoencoder.layers[-1]\n",
    "# create the decoder model\n",
    "decoder = Model(input=encoded_input, output=decoder_layer(encoded_input))"
   ]
  },
  {
   "cell_type": "code",
   "execution_count": 6,
   "metadata": {
    "collapsed": false
   },
   "outputs": [
    {
     "name": "stdout",
     "output_type": "stream",
     "text": [
      "input_2\n",
      "<keras.layers.core.Dense object at 0x7fcfc6282cc0>\n",
      "<keras.engine.training.Model object at 0x7fd000806208>\n"
     ]
    }
   ],
   "source": [
    "print (encoded_input)\n",
    "print (decoder_layer)\n",
    "print (decoder)"
   ]
  },
  {
   "cell_type": "code",
   "execution_count": 7,
   "metadata": {
    "collapsed": true,
    "scrolled": true
   },
   "outputs": [],
   "source": [
    "autoencoder.compile(optimizer=Adam(lr=1e-3), loss='categorical_crossentropy')"
   ]
  },
  {
   "cell_type": "code",
   "execution_count": 8,
   "metadata": {
    "collapsed": false,
    "scrolled": true
   },
   "outputs": [],
   "source": [
    "from keras.datasets import mnist\n",
    "import numpy as np\n",
    "(x_train, y_train), (x_test, y_test) = mnist.load_data()"
   ]
  },
  {
   "cell_type": "code",
   "execution_count": 9,
   "metadata": {
    "collapsed": false,
    "scrolled": true
   },
   "outputs": [
    {
     "name": "stdout",
     "output_type": "stream",
     "text": [
      "(60000, 784)\n",
      "(10000, 784)\n"
     ]
    }
   ],
   "source": [
    "x_train = x_train.astype('float32') / 255.\n",
    "x_test = x_test.astype('float32') / 255.\n",
    "x_train = x_train.reshape((len(x_train), np.prod(x_train.shape[1:])))\n",
    "x_test = x_test.reshape((len(x_test), np.prod(x_test.shape[1:])))\n",
    "print (x_train.shape)\n",
    "print (x_test.shape)"
   ]
  },
  {
   "cell_type": "code",
   "execution_count": 10,
   "metadata": {
    "collapsed": true
   },
   "outputs": [],
   "source": [
    "s_train, s_valid = train_test_split(x_train, test_size=0.3)"
   ]
  },
  {
   "cell_type": "code",
   "execution_count": 11,
   "metadata": {
    "collapsed": false,
    "scrolled": false
   },
   "outputs": [
    {
     "name": "stdout",
     "output_type": "stream",
     "text": [
      "Train on 42000 samples, validate on 18000 samples\n",
      "Epoch 1/50\n",
      "42000/42000 [==============================] - 4s - loss: 589.7049 - val_loss: 566.0448\n",
      "Epoch 2/50\n",
      "42000/42000 [==============================] - 4s - loss: 550.3698 - val_loss: 547.2214\n",
      "Epoch 3/50\n",
      "42000/42000 [==============================] - 4s - loss: 539.0425 - val_loss: 540.3159\n",
      "Epoch 4/50\n",
      "42000/42000 [==============================] - 4s - loss: 534.4794 - val_loss: 538.1459\n",
      "Epoch 5/50\n",
      "42000/42000 [==============================] - 4s - loss: 531.9632 - val_loss: 535.6587\n",
      "Epoch 6/50\n",
      "42000/42000 [==============================] - 4s - loss: 530.1424 - val_loss: 533.5154\n",
      "Epoch 7/50\n",
      "42000/42000 [==============================] - 4s - loss: 528.4157 - val_loss: 532.7773\n",
      "Epoch 8/50\n",
      "42000/42000 [==============================] - 4s - loss: 527.0300 - val_loss: 530.5541\n",
      "Epoch 9/50\n",
      "42000/42000 [==============================] - 4s - loss: 525.8729 - val_loss: 529.7362\n",
      "Epoch 10/50\n",
      "42000/42000 [==============================] - 4s - loss: 524.9355 - val_loss: 529.2703\n",
      "Epoch 11/50\n",
      "42000/42000 [==============================] - 4s - loss: 523.4411 - val_loss: 526.5314\n",
      "Epoch 12/50\n",
      "42000/42000 [==============================] - 4s - loss: 522.0382 - val_loss: 525.9507\n",
      "Epoch 13/50\n",
      "42000/42000 [==============================] - 4s - loss: 520.9969 - val_loss: 524.9996\n",
      "Epoch 14/50\n",
      "42000/42000 [==============================] - 4s - loss: 519.9508 - val_loss: 523.6549\n",
      "Epoch 15/50\n",
      "42000/42000 [==============================] - 4s - loss: 519.0100 - val_loss: 522.8691\n",
      "Epoch 16/50\n",
      "42000/42000 [==============================] - 4s - loss: 518.2078 - val_loss: 522.3635\n",
      "Epoch 17/50\n",
      "42000/42000 [==============================] - 5s - loss: 517.3997 - val_loss: 521.5269\n",
      "Epoch 18/50\n",
      "42000/42000 [==============================] - 5s - loss: 516.9114 - val_loss: 521.0198\n",
      "Epoch 19/50\n",
      "42000/42000 [==============================] - 4s - loss: 516.1516 - val_loss: 520.4175\n",
      "Epoch 20/50\n",
      "42000/42000 [==============================] - 4s - loss: 515.6807 - val_loss: 519.8881\n",
      "Epoch 21/50\n",
      "42000/42000 [==============================] - 4s - loss: 515.1572 - val_loss: 519.1401\n",
      "Epoch 22/50\n",
      "42000/42000 [==============================] - 4s - loss: 514.8731 - val_loss: 519.2407\n",
      "Epoch 23/50\n",
      "42000/42000 [==============================] - 4s - loss: 514.5499 - val_loss: 519.1490\n",
      "Epoch 24/50\n",
      "42000/42000 [==============================] - 4s - loss: 514.2233 - val_loss: 518.6772\n",
      "Epoch 25/50\n",
      "42000/42000 [==============================] - 5s - loss: 513.9523 - val_loss: 518.8641\n",
      "Epoch 26/50\n",
      "42000/42000 [==============================] - 5s - loss: 513.6361 - val_loss: 518.1513\n",
      "Epoch 27/50\n",
      "42000/42000 [==============================] - 5s - loss: 513.4332 - val_loss: 518.0946\n",
      "Epoch 28/50\n",
      "42000/42000 [==============================] - 5s - loss: 513.1493 - val_loss: 517.5043\n",
      "Epoch 29/50\n",
      "42000/42000 [==============================] - 5s - loss: 512.9358 - val_loss: 518.4621\n",
      "Epoch 30/50\n",
      "42000/42000 [==============================] - 4s - loss: 512.7680 - val_loss: 517.7729\n",
      "Epoch 31/50\n",
      "42000/42000 [==============================] - 5s - loss: 512.5613 - val_loss: 517.4554\n",
      "Epoch 32/50\n",
      "42000/42000 [==============================] - 5s - loss: 512.3452 - val_loss: 516.9895\n",
      "Epoch 33/50\n",
      "42000/42000 [==============================] - 4s - loss: 512.1899 - val_loss: 517.2195\n",
      "Epoch 34/50\n",
      "42000/42000 [==============================] - 5s - loss: 512.1271 - val_loss: 516.4318\n",
      "Epoch 35/50\n",
      "42000/42000 [==============================] - 5s - loss: 512.0149 - val_loss: 516.9318\n",
      "Epoch 36/50\n",
      "42000/42000 [==============================] - 5s - loss: 511.7532 - val_loss: 516.5754\n",
      "Epoch 37/50\n",
      "42000/42000 [==============================] - 5s - loss: 511.8753 - val_loss: 518.5322\n",
      "Epoch 38/50\n",
      "42000/42000 [==============================] - 5s - loss: 511.7818 - val_loss: 516.3004\n",
      "Epoch 39/50\n",
      "42000/42000 [==============================] - 5s - loss: 511.5744 - val_loss: 516.4943\n",
      "Epoch 40/50\n",
      "42000/42000 [==============================] - 5s - loss: 511.4859 - val_loss: 516.2757\n",
      "Epoch 41/50\n",
      "42000/42000 [==============================] - 5s - loss: 511.4962 - val_loss: 516.6838\n",
      "Epoch 42/50\n",
      "42000/42000 [==============================] - 5s - loss: 511.3713 - val_loss: 517.1193\n",
      "Epoch 43/50\n",
      "42000/42000 [==============================] - 5s - loss: 511.2777 - val_loss: 516.3493\n",
      "Epoch 44/50\n",
      "42000/42000 [==============================] - 5s - loss: 511.2889 - val_loss: 516.2649\n",
      "Epoch 45/50\n",
      "42000/42000 [==============================] - 4s - loss: 511.1966 - val_loss: 516.3485\n",
      "Epoch 46/50\n",
      "42000/42000 [==============================] - 5s - loss: 511.0461 - val_loss: 515.7925\n",
      "Epoch 47/50\n",
      "42000/42000 [==============================] - 5s - loss: 511.0640 - val_loss: 515.9735\n",
      "Epoch 48/50\n",
      "42000/42000 [==============================] - 5s - loss: 510.9710 - val_loss: 516.2311\n",
      "Epoch 49/50\n",
      "42000/42000 [==============================] - 5s - loss: 510.9485 - val_loss: 515.8500\n",
      "Epoch 50/50\n",
      "42000/42000 [==============================] - 5s - loss: 510.7889 - val_loss: 515.8769\n"
     ]
    },
    {
     "data": {
      "text/plain": [
       "<keras.callbacks.History at 0x7fcfa74369b0>"
      ]
     },
     "execution_count": 11,
     "metadata": {},
     "output_type": "execute_result"
    }
   ],
   "source": [
    "autoencoder.fit(s_train, s_train,\n",
    "                nb_epoch=50,\n",
    "                batch_size=256,\n",
    "                shuffle=True,\n",
    "                validation_data=(s_valid, s_valid))"
   ]
  },
  {
   "cell_type": "code",
   "execution_count": 12,
   "metadata": {
    "collapsed": false,
    "scrolled": true
   },
   "outputs": [
    {
     "name": "stdout",
     "output_type": "stream",
     "text": [
      "400000\n",
      "(10000, 40)\n",
      "3200000\n",
      "7840000\n",
      "(10000, 784)\n",
      "62720000\n"
     ]
    }
   ],
   "source": [
    "# encode and decode some digits\n",
    "# note that we take them from the *test* set\n",
    "encoded_imgs = encoder.predict(x_test)\n",
    "print (encoded_imgs.size)\n",
    "print (encoded_imgs.shape)\n",
    "print (encoded_imgs.nbytes)\n",
    "\n",
    "\n",
    "decoded_imgs = decoder.predict(encoded_imgs)\n",
    "print (decoded_imgs.size)\n",
    "print (decoded_imgs.shape)\n",
    "print (decoded_imgs.nbytes)"
   ]
  },
  {
   "cell_type": "code",
   "execution_count": 13,
   "metadata": {
    "collapsed": false
   },
   "outputs": [
    {
     "data": {
      "image/png": "[encoded data removed]",
      "text/plain": [
       "<matplotlib.figure.Figure at 0x7fcfa7339710>"
      ]
     },
     "metadata": {},
     "output_type": "display_data"
    }
   ],
   "source": [
    "import matplotlib.pyplot as plt\n",
    "\n",
    "n = 10  # how many digits we will display\n",
    "plt.figure(figsize=(20, 6))\n",
    "for i in range(n):\n",
    "    # display original\n",
    "    ax = plt.subplot(2, n, i + 1)\n",
    "    plt.imshow(x_test[i].reshape(28, 28))\n",
    "    plt.gray()\n",
    "    ax.get_xaxis().set_visible(False)\n",
    "    ax.get_yaxis().set_visible(False)\n",
    "\n",
    "    # display encoded\n",
    "    #ax = plt.subplot(2, n, i + 1 + n)\n",
    "    #plt.imshow(encoded_imgs[i].reshape(6, 6))\n",
    "    #plt.gray()\n",
    "    #ax.get_xaxis().set_visible(False)\n",
    "    #ax.get_yaxis().set_visible(False)\n",
    "   \n",
    "    # display reconstruction\n",
    "    ax = plt.subplot(2, n, i + 1 + n)\n",
    "    plt.imshow(decoded_imgs[i].reshape(28, 28))\n",
    "    plt.gray()\n",
    "    ax.get_xaxis().set_visible(False)\n",
    "    ax.get_yaxis().set_visible(False)\n",
    "plt.show()"
   ]
  },
  {
   "cell_type": "code",
   "execution_count": 14,
   "metadata": {
    "collapsed": false
   },
   "outputs": [
    {
     "name": "stdout",
     "output_type": "stream",
     "text": [
      "2400000\n",
      "(60000, 40)\n",
      "19200000\n"
     ]
    }
   ],
   "source": [
    "#Predict the digits using a classifier\n",
    "#Use the reduce Encoded train and test images\n",
    "encoded_train_imgs = encoder.predict(x_train)\n",
    "print (encoded_train_imgs.size)\n",
    "print (encoded_train_imgs.shape)\n",
    "print (encoded_train_imgs.nbytes)\n"
   ]
  },
  {
   "cell_type": "code",
   "execution_count": 15,
   "metadata": {
    "collapsed": false
   },
   "outputs": [
    {
     "name": "stdout",
     "output_type": "stream",
     "text": [
      "400000\n",
      "(10000, 40)\n",
      "3200000\n"
     ]
    }
   ],
   "source": [
    "encoded_test_imgs = encoder.predict(x_test)\n",
    "print (encoded_test_imgs.size)\n",
    "print (encoded_test_imgs.shape)\n",
    "print (encoded_test_imgs.nbytes)"
   ]
  },
  {
   "cell_type": "code",
   "execution_count": 16,
   "metadata": {
    "collapsed": true
   },
   "outputs": [],
   "source": [
    "from sklearn.neighbors import KNeighborsClassifier\n",
    "clf = KNeighborsClassifier()\n",
    "clf = clf.fit(encoded_train_imgs, y_train)"
   ]
  },
  {
   "cell_type": "code",
   "execution_count": 17,
   "metadata": {
    "collapsed": true
   },
   "outputs": [],
   "source": [
    "y_pred = clf.predict(encoded_test_imgs)\n"
   ]
  },
  {
   "cell_type": "code",
   "execution_count": 18,
   "metadata": {
    "collapsed": false
   },
   "outputs": [
    {
     "name": "stdout",
     "output_type": "stream",
     "text": [
      "tested  10000 digits\n",
      "correct:  9568 wrong:  432 error rate:  4.32 %\n",
      "got correctly  95.68 %\n"
     ]
    }
   ],
   "source": [
    "num=len(encoded_test_imgs)\n",
    "r=0\n",
    "w=0\n",
    "for i in range(num):\n",
    "        #print ('y_pred ',y_pred[i])\n",
    "        #print ('labels ',labels[i])\n",
    "        #without the use of all() returns error truth value of an array with more than one element is ambiguous\n",
    "        #if y_pred[i].all() == labels[i].all():\n",
    "        if np.array_equal(y_pred[i],y_test[i]):\n",
    "            r+=1\n",
    "        else:\n",
    "            w+=1\n",
    "print (\"tested \",  num, \"digits\")\n",
    "print (\"correct: \", r, \"wrong: \", w, \"error rate: \", float(w)*100/(r+w), \"%\")\n",
    "print (\"got correctly \", float(r)*100/(r+w), \"%\")\n"
   ]
  }
 ],
 "metadata": {
  "kernelspec": {
   "display_name": "Python 3",
   "language": "python",
   "name": "python3"
  },
  "language_info": {
   "codemirror_mode": {
    "name": "ipython",
    "version": 3
   },
   "file_extension": ".py",
   "mimetype": "text/x-python",
   "name": "python",
   "nbconvert_exporter": "python",
   "pygments_lexer": "ipython3",
   "version": "3.5.2"
  }
 },
 "nbformat": 4,
 "nbformat_minor": 0
}
