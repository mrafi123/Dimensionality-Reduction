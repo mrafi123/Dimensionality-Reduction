{
 "cells": [
  {
   "cell_type": "code",
   "execution_count": 1,
   "metadata": {
    "collapsed": false,
    "scrolled": true
   },
   "outputs": [
    {
     "name": "stdout",
     "output_type": "stream",
     "text": [
      "Couldn't import dot_parser, loading of dot files will not be possible.\n"
     ]
    },
    {
     "name": "stderr",
     "output_type": "stream",
     "text": [
      "Using gpu device 0: GeForce 920M (CNMeM is disabled, cuDNN not available)\n",
      "Using Theano backend.\n"
     ]
    }
   ],
   "source": [
    "import os    \n",
    "#os.environ['THEANO_FLAGS'] = \"device=gpu1\"  \n",
    "#os.environ[\"THEANO_FLAGS\"] = \"mode=FAST_RUN,device=gpu0,floatX=float32,lib.cnmem=1\"\n",
    "os.environ[\"THEANO_FLAGS\"] = \"mode=FAST_RUN,device=gpu0,floatX=float32\"\n",
    "import theano\n",
    "import numpy as np\n",
    "from keras.layers import Input, Dense, convolutional,Reshape, Flatten\n",
    "from keras.callbacks import EarlyStopping, ModelCheckpoint\n",
    "\n",
    "from keras.models import Model\n",
    "from keras.optimizers import *\n",
    "\n",
    "%matplotlib inline\n",
    "\n",
    "\n",
    "\n",
    "\n"
   ]
  },
  {
   "cell_type": "code",
   "execution_count": 79,
   "metadata": {
    "collapsed": false
   },
   "outputs": [],
   "source": [
    "# this is our input placeholder\n",
    "input_img = Input(shape=(1,28,28))\n",
    "\n",
    "x = convolutional.Convolution2D(10, 5, 5, activation='relu', border_mode='same')(input_img)\n",
    "x = convolutional.MaxPooling2D((2, 2), border_mode='same')(x)\n",
    "x = convolutional.Convolution2D(10, 3, 3, activation='relu', border_mode='same')(x) \n",
    "x = convolutional.MaxPooling2D((2, 2), border_mode='same')(x) \n",
    "#x = convolutional.Convolution2D(20, 5, 5, activation='relu', border_mode='same')(x) \n",
    "##x = convolutional.MaxPooling2D((2, 2), border_mode='same')(x) \n",
    "##x = convolutional.Convolution2D(10, 2, 2, activation='relu', border_mode='same')(x)\n",
    "#encoded = convolutional.MaxPooling2D((2, 2), border_mode='same')(x) \n",
    "\n",
    "x = Flatten()(x)\n",
    "encoded = Dense(40, activation='relu')(x)\n",
    "x= Dense (490, activation = 'relu')(encoded)\n",
    "x = Reshape((10,7,7))(x) \n",
    "x = convolutional.UpSampling2D((2, 2))(x) \n",
    "##x = convolutional.Convolution2D(10, 2, 2, activation='relu', border_mode='same')(x)\n",
    "##x = convolutional.UpSampling2D((2, 2))(x) \n",
    "x = convolutional.Convolution2D(10, 3, 3, activation='relu', border_mode='same')(x) \n",
    "#x = convolutional.UpSampling2D((2, 2))(x) \n",
    "#x = convolutional.Convolution2D(20, 5, 5, activation='relu', border_mode='same')(x) \n",
    "x = convolutional.UpSampling2D((2, 2))(x)\n",
    "x = convolutional.Convolution2D(10, 5, 5, activation='relu',border_mode='same')(x) \n",
    "decoded = convolutional.Convolution2D(1, 5, 5, activation='sigmoid', border_mode='same')(x) \n",
    "#x = Flatten()(x) ##3072\n",
    "#x = Dense(3072, activation='linear')(x)\n",
    "#decoded = Reshape((3,32,32))(x) ##3, 32, 32\n",
    "#decoded = convolutional.Convolution2D(3, 5, 5, activation='sigmoid', border_mode='same')(x)\n",
    "autoencoder = Model(input_img, decoded)\n",
    "#sgd=SGD(lr=0.002, momentum=0.1, decay=0.0, nesterov=False)\n",
    "autoencoder.compile(optimizer='Adam', loss='mean_squared_error',metrics=['accuracy'])"
   ]
  },
  {
   "cell_type": "code",
   "execution_count": 80,
   "metadata": {
    "collapsed": false
   },
   "outputs": [
    {
     "name": "stdout",
     "output_type": "stream",
     "text": [
      "____________________________________________________________________________________________________\n",
      "Layer (type)                     Output Shape          Param #     Connected to                     \n",
      "====================================================================================================\n",
      "input_14 (InputLayer)            (None, 1, 28, 28)     0                                            \n",
      "____________________________________________________________________________________________________\n",
      "convolution2d_49 (Convolution2D) (None, 10, 28, 28)    260         input_14[0][0]                   \n",
      "____________________________________________________________________________________________________\n",
      "maxpooling2d_26 (MaxPooling2D)   (None, 10, 14, 14)    0           convolution2d_49[0][0]           \n",
      "____________________________________________________________________________________________________\n",
      "convolution2d_50 (Convolution2D) (None, 10, 14, 14)    910         maxpooling2d_26[0][0]            \n",
      "____________________________________________________________________________________________________\n",
      "maxpooling2d_27 (MaxPooling2D)   (None, 10, 7, 7)      0           convolution2d_50[0][0]           \n",
      "____________________________________________________________________________________________________\n",
      "flatten_9 (Flatten)              (None, 490)           0           maxpooling2d_27[0][0]            \n",
      "____________________________________________________________________________________________________\n",
      "dense_15 (Dense)                 (None, 40)            19640       flatten_9[0][0]                  \n",
      "____________________________________________________________________________________________________\n",
      "dense_16 (Dense)                 (None, 490)           20090       dense_15[0][0]                   \n",
      "____________________________________________________________________________________________________\n",
      "reshape_6 (Reshape)              (None, 10, 7, 7)      0           dense_16[0][0]                   \n",
      "____________________________________________________________________________________________________\n",
      "upsampling2d_19 (UpSampling2D)   (None, 10, 14, 14)    0           reshape_6[0][0]                  \n",
      "____________________________________________________________________________________________________\n",
      "convolution2d_51 (Convolution2D) (None, 10, 14, 14)    910         upsampling2d_19[0][0]            \n",
      "____________________________________________________________________________________________________\n",
      "upsampling2d_20 (UpSampling2D)   (None, 10, 28, 28)    0           convolution2d_51[0][0]           \n",
      "____________________________________________________________________________________________________\n",
      "convolution2d_52 (Convolution2D) (None, 10, 28, 28)    2510        upsampling2d_20[0][0]            \n",
      "____________________________________________________________________________________________________\n",
      "convolution2d_53 (Convolution2D) (None, 1, 28, 28)     251         convolution2d_52[0][0]           \n",
      "====================================================================================================\n",
      "Total params: 44571\n",
      "____________________________________________________________________________________________________\n"
     ]
    }
   ],
   "source": [
    "autoencoder.summary()"
   ]
  },
  {
   "cell_type": "code",
   "execution_count": 8,
   "metadata": {
    "collapsed": false,
    "scrolled": true
   },
   "outputs": [],
   "source": [
    "x_train = np.genfromtxt('x_train.out')\n",
    "y_train = np.genfromtxt('y_train.out')\n",
    "vx_train = np.genfromtxt('vx_train.out')\n",
    "vy_train = np.genfromtxt('vy_train.out')\n",
    "x_test = np.genfromtxt('x_test.out')\n",
    "y_test = np.genfromtxt('y_test.out')"
   ]
  },
  {
   "cell_type": "code",
   "execution_count": 81,
   "metadata": {
    "collapsed": false
   },
   "outputs": [
    {
     "name": "stdout",
     "output_type": "stream",
     "text": [
      "(50000, 784)\n",
      "(50000,)\n",
      "(10000, 784)\n",
      "(10000,)\n",
      "(10000, 784)\n",
      "(10000,)\n"
     ]
    }
   ],
   "source": [
    "print (x_train.shape)\n",
    "print (y_train.shape)\n",
    "print (vx_train.shape)\n",
    "print (vy_train.shape)\n",
    "print (x_test.shape)\n",
    "print (y_test.shape)"
   ]
  },
  {
   "cell_type": "code",
   "execution_count": 11,
   "metadata": {
    "collapsed": false
   },
   "outputs": [
    {
     "name": "stderr",
     "output_type": "stream",
     "text": [
      "/home/mrafi123/anaconda3/lib/python3.5/site-packages/keras/utils/np_utils.py:14: VisibleDeprecationWarning: using a non-integer number instead of an integer will result in an error in the future\n",
      "  Y = np.zeros((len(y), nb_classes))\n",
      "/home/mrafi123/anaconda3/lib/python3.5/site-packages/keras/utils/np_utils.py:16: VisibleDeprecationWarning: using a non-integer number instead of an integer will result in an error in the future\n",
      "  Y[i, y[i]] = 1.\n"
     ]
    }
   ],
   "source": [
    "from keras.utils.np_utils import *\n",
    "label_train=to_categorical(y_train)\n",
    "label_valid=to_categorical(vy_train)\n",
    "label_test= to_categorical(y_test)"
   ]
  },
  {
   "cell_type": "code",
   "execution_count": 82,
   "metadata": {
    "collapsed": false
   },
   "outputs": [
    {
     "name": "stdout",
     "output_type": "stream",
     "text": [
      "(50000, 1, 28, 28)\n",
      "(10000, 1, 28, 28)\n",
      "(10000, 1, 28, 28)\n"
     ]
    }
   ],
   "source": [
    "train_x_temp = x_train.reshape(-1,1, 28, 28)\n",
    "val_x_temp = vx_train.reshape(-1,1, 28, 28)\n",
    "test_x_temp=x_test.reshape(-1,1, 28, 28)\n",
    "print(train_x_temp.shape)\n",
    "print(val_x_temp.shape)\n",
    "print(test_x_temp.shape)"
   ]
  },
  {
   "cell_type": "code",
   "execution_count": 84,
   "metadata": {
    "collapsed": false
   },
   "outputs": [],
   "source": [
    "# this model maps an input to its encoded representation\n",
    "#encoding_dim=40\n",
    "#encoded = convolutional.Convolution2D(3, 5, 5, activation='relu', border_mode='same')(encoded)\n",
    "#encoded = Flatten()(encoded)\n",
    "#encoded = Dense(encoding_dim, activation='sigmoid')(encoded)\n",
    "#encoded = convolutional.Convolution2D(3, 5, 5, activation='relu', border_mode='same')(encoded)\n",
    "#encoded = Reshape((3,32,32))(encoded) ##3, 32, 32\n",
    "\n",
    "encoder = Model(input_img, encoded)"
   ]
  },
  {
   "cell_type": "code",
   "execution_count": 85,
   "metadata": {
    "collapsed": false,
    "scrolled": true
   },
   "outputs": [
    {
     "name": "stdout",
     "output_type": "stream",
     "text": [
      "____________________________________________________________________________________________________\n",
      "Layer (type)                     Output Shape          Param #     Connected to                     \n",
      "====================================================================================================\n",
      "input_14 (InputLayer)            (None, 1, 28, 28)     0                                            \n",
      "____________________________________________________________________________________________________\n",
      "convolution2d_49 (Convolution2D) (None, 10, 28, 28)    260         input_14[0][0]                   \n",
      "____________________________________________________________________________________________________\n",
      "maxpooling2d_26 (MaxPooling2D)   (None, 10, 14, 14)    0           convolution2d_49[0][0]           \n",
      "____________________________________________________________________________________________________\n",
      "convolution2d_50 (Convolution2D) (None, 10, 14, 14)    910         maxpooling2d_26[0][0]            \n",
      "____________________________________________________________________________________________________\n",
      "maxpooling2d_27 (MaxPooling2D)   (None, 10, 7, 7)      0           convolution2d_50[0][0]           \n",
      "____________________________________________________________________________________________________\n",
      "flatten_9 (Flatten)              (None, 490)           0           maxpooling2d_27[0][0]            \n",
      "____________________________________________________________________________________________________\n",
      "dense_15 (Dense)                 (None, 40)            19640       flatten_9[0][0]                  \n",
      "====================================================================================================\n",
      "Total params: 20810\n",
      "____________________________________________________________________________________________________\n",
      "None\n"
     ]
    }
   ],
   "source": [
    "print (encoder.summary())"
   ]
  },
  {
   "cell_type": "code",
   "execution_count": 86,
   "metadata": {
    "collapsed": true
   },
   "outputs": [],
   "source": [
    "nb_epoch=5\n",
    "batch_size=64\n",
    "random_state =5578"
   ]
  },
  {
   "cell_type": "code",
   "execution_count": 87,
   "metadata": {
    "collapsed": false
   },
   "outputs": [
    {
     "name": "stdout",
     "output_type": "stream",
     "text": [
      "weights_kfold_MNIST-Conv-AutoEncoder-Ver7.6_epoch_10_batch_64.h5\n"
     ]
    }
   ],
   "source": [
    "kfold_weights_path = os.path.join('weights_kfold_' +  'MNIST-Conv-AutoEncoder-Ver7.6' +\n",
    "                                  '_epoch_'+str(nb_epoch)+\n",
    "                                  '_batch_'+str(batch_size)\n",
    "                                  +'.h5')\n",
    "print(kfold_weights_path)"
   ]
  },
  {
   "cell_type": "code",
   "execution_count": 88,
   "metadata": {
    "collapsed": false
   },
   "outputs": [
    {
     "data": {
      "text/plain": [
       "True"
      ]
     },
     "execution_count": 88,
     "metadata": {},
     "output_type": "execute_result"
    }
   ],
   "source": [
    "os.path.isfile(kfold_weights_path)"
   ]
  },
  {
   "cell_type": "code",
   "execution_count": 18,
   "metadata": {
    "collapsed": false
   },
   "outputs": [
    {
     "name": "stdout",
     "output_type": "stream",
     "text": [
      "Training for the first time...\n"
     ]
    }
   ],
   "source": [
    "# Some transfer learning\n",
    "if os.path.isfile(kfold_weights_path):\n",
    "    print ('Loading already stored weights...')\n",
    "    autoencoder.load_weights(kfold_weights_path)\n",
    "else:\n",
    "    print ('Training for the first time...')\n",
    "    "
   ]
  },
  {
   "cell_type": "code",
   "execution_count": 89,
   "metadata": {
    "collapsed": true
   },
   "outputs": [],
   "source": [
    "noise_factor = 0.2\n",
    "s_train_noisy = train_x_temp + noise_factor * np.random.normal(loc=0.0, scale=1.0, size=train_x_temp.shape) \n",
    "s_val_noisy = val_x_temp + noise_factor * np.random.normal(loc=0.0, scale=1.0, size=val_x_temp.shape) \n",
    "\n",
    "s_train_noisy = np.clip(s_train_noisy, 0., 1.)\n",
    "s_val_noisy = np.clip(s_val_noisy, 0., 1.)"
   ]
  },
  {
   "cell_type": "code",
   "execution_count": 90,
   "metadata": {
    "collapsed": false,
    "scrolled": false
   },
   "outputs": [
    {
     "name": "stdout",
     "output_type": "stream",
     "text": [
      "Train on 50000 samples, validate on 10000 samples\n",
      "Epoch 1/10\n",
      "49984/50000 [============================>.] - ETA: 0s - loss: 0.0374 - acc: 0.2108Epoch 00000: val_loss improved from inf to 0.01715, saving model to weights_kfold_MNIST-Conv-AutoEncoder-Ver7.6_epoch_10_batch_64.h5\n",
      "50000/50000 [==============================] - 117s - loss: 0.0374 - acc: 0.2108 - val_loss: 0.0171 - val_acc: 0.2782\n",
      "Epoch 2/10\n",
      "49984/50000 [============================>.] - ETA: 0s - loss: 0.0146 - acc: 0.3189Epoch 00001: val_loss improved from 0.01715 to 0.01306, saving model to weights_kfold_MNIST-Conv-AutoEncoder-Ver7.6_epoch_10_batch_64.h5\n",
      "50000/50000 [==============================] - 118s - loss: 0.0146 - acc: 0.3189 - val_loss: 0.0131 - val_acc: 0.3442\n",
      "Epoch 3/10\n",
      "49984/50000 [============================>.] - ETA: 0s - loss: 0.0120 - acc: 0.3580Epoch 00002: val_loss improved from 0.01306 to 0.01124, saving model to weights_kfold_MNIST-Conv-AutoEncoder-Ver7.6_epoch_10_batch_64.h5\n",
      "50000/50000 [==============================] - 118s - loss: 0.0120 - acc: 0.3580 - val_loss: 0.0112 - val_acc: 0.3681\n",
      "Epoch 4/10\n",
      "49984/50000 [============================>.] - ETA: 0s - loss: 0.0108 - acc: 0.3664Epoch 00003: val_loss improved from 0.01124 to 0.01043, saving model to weights_kfold_MNIST-Conv-AutoEncoder-Ver7.6_epoch_10_batch_64.h5\n",
      "50000/50000 [==============================] - 119s - loss: 0.0108 - acc: 0.3664 - val_loss: 0.0104 - val_acc: 0.3812\n",
      "Epoch 5/10\n",
      "49984/50000 [============================>.] - ETA: 0s - loss: 0.0101 - acc: 0.3763Epoch 00004: val_loss improved from 0.01043 to 0.01005, saving model to weights_kfold_MNIST-Conv-AutoEncoder-Ver7.6_epoch_10_batch_64.h5\n",
      "50000/50000 [==============================] - 118s - loss: 0.0101 - acc: 0.3763 - val_loss: 0.0100 - val_acc: 0.3980\n",
      "Epoch 6/10\n",
      "49984/50000 [============================>.] - ETA: 0s - loss: 0.0095 - acc: 0.3862Epoch 00005: val_loss improved from 0.01005 to 0.00952, saving model to weights_kfold_MNIST-Conv-AutoEncoder-Ver7.6_epoch_10_batch_64.h5\n",
      "50000/50000 [==============================] - 118s - loss: 0.0095 - acc: 0.3862 - val_loss: 0.0095 - val_acc: 0.4087\n",
      "Epoch 7/10\n",
      "49984/50000 [============================>.] - ETA: 0s - loss: 0.0092 - acc: 0.3946Epoch 00006: val_loss improved from 0.00952 to 0.00895, saving model to weights_kfold_MNIST-Conv-AutoEncoder-Ver7.6_epoch_10_batch_64.h5\n",
      "50000/50000 [==============================] - 118s - loss: 0.0092 - acc: 0.3946 - val_loss: 0.0090 - val_acc: 0.4097\n",
      "Epoch 8/10\n",
      "49984/50000 [============================>.] - ETA: 0s - loss: 0.0089 - acc: 0.4012Epoch 00007: val_loss improved from 0.00895 to 0.00885, saving model to weights_kfold_MNIST-Conv-AutoEncoder-Ver7.6_epoch_10_batch_64.h5\n",
      "50000/50000 [==============================] - 119s - loss: 0.0089 - acc: 0.4012 - val_loss: 0.0088 - val_acc: 0.4033\n",
      "Epoch 9/10\n",
      "49984/50000 [============================>.] - ETA: 0s - loss: 0.0086 - acc: 0.4042Epoch 00008: val_loss improved from 0.00885 to 0.00848, saving model to weights_kfold_MNIST-Conv-AutoEncoder-Ver7.6_epoch_10_batch_64.h5\n",
      "50000/50000 [==============================] - 118s - loss: 0.0086 - acc: 0.4042 - val_loss: 0.0085 - val_acc: 0.4125\n",
      "Epoch 10/10\n",
      "49984/50000 [============================>.] - ETA: 0s - loss: 0.0084 - acc: 0.4067Epoch 00009: val_loss did not improve\n",
      "50000/50000 [==============================] - 119s - loss: 0.0084 - acc: 0.4067 - val_loss: 0.0087 - val_acc: 0.4047\n"
     ]
    },
    {
     "data": {
      "text/plain": [
       "<keras.callbacks.History at 0x7fd69c8b80f0>"
      ]
     },
     "execution_count": 90,
     "metadata": {},
     "output_type": "execute_result"
    }
   ],
   "source": [
    "callbacks = [\n",
    "                EarlyStopping(monitor='val_loss', patience=2, verbose=1),\n",
    "                ModelCheckpoint(kfold_weights_path, monitor='val_loss', save_best_only=True, verbose=1),\n",
    "            ]\n",
    "autoencoder.fit(s_train_noisy, train_x_temp,\n",
    "            nb_epoch=nb_epoch,\n",
    "            batch_size=batch_size,\n",
    "            shuffle=True,\n",
    "            validation_data=(s_val_noisy, val_x_temp),\n",
    "            callbacks=callbacks\n",
    "            )"
   ]
  },
  {
   "cell_type": "code",
   "execution_count": 91,
   "metadata": {
    "collapsed": false,
    "scrolled": true
   },
   "outputs": [
    {
     "name": "stdout",
     "output_type": "stream",
     "text": [
      "____________________________________________________________________________________________________\n",
      "Layer (type)                     Output Shape          Param #     Connected to                     \n",
      "====================================================================================================\n",
      "input_14 (InputLayer)            (None, 1, 28, 28)     0                                            \n",
      "____________________________________________________________________________________________________\n",
      "convolution2d_49 (Convolution2D) (None, 10, 28, 28)    260         input_14[0][0]                   \n",
      "____________________________________________________________________________________________________\n",
      "maxpooling2d_26 (MaxPooling2D)   (None, 10, 14, 14)    0           convolution2d_49[0][0]           \n",
      "____________________________________________________________________________________________________\n",
      "convolution2d_50 (Convolution2D) (None, 10, 14, 14)    910         maxpooling2d_26[0][0]            \n",
      "____________________________________________________________________________________________________\n",
      "maxpooling2d_27 (MaxPooling2D)   (None, 10, 7, 7)      0           convolution2d_50[0][0]           \n",
      "____________________________________________________________________________________________________\n",
      "flatten_9 (Flatten)              (None, 490)           0           maxpooling2d_27[0][0]            \n",
      "____________________________________________________________________________________________________\n",
      "dense_15 (Dense)                 (None, 40)            19640       flatten_9[0][0]                  \n",
      "____________________________________________________________________________________________________\n",
      "dense_16 (Dense)                 (None, 490)           20090       dense_15[0][0]                   \n",
      "____________________________________________________________________________________________________\n",
      "reshape_6 (Reshape)              (None, 10, 7, 7)      0           dense_16[0][0]                   \n",
      "____________________________________________________________________________________________________\n",
      "upsampling2d_19 (UpSampling2D)   (None, 10, 14, 14)    0           reshape_6[0][0]                  \n",
      "____________________________________________________________________________________________________\n",
      "convolution2d_51 (Convolution2D) (None, 10, 14, 14)    910         upsampling2d_19[0][0]            \n",
      "____________________________________________________________________________________________________\n",
      "upsampling2d_20 (UpSampling2D)   (None, 10, 28, 28)    0           convolution2d_51[0][0]           \n",
      "____________________________________________________________________________________________________\n",
      "convolution2d_52 (Convolution2D) (None, 10, 28, 28)    2510        upsampling2d_20[0][0]            \n",
      "____________________________________________________________________________________________________\n",
      "convolution2d_53 (Convolution2D) (None, 1, 28, 28)     251         convolution2d_52[0][0]           \n",
      "====================================================================================================\n",
      "Total params: 44571\n",
      "____________________________________________________________________________________________________\n"
     ]
    }
   ],
   "source": [
    "autoencoder.summary()"
   ]
  },
  {
   "cell_type": "code",
   "execution_count": 92,
   "metadata": {
    "collapsed": false
   },
   "outputs": [],
   "source": [
    "reconstructed_test_imgs = autoencoder.predict(test_x_temp)\n"
   ]
  },
  {
   "cell_type": "code",
   "execution_count": 93,
   "metadata": {
    "collapsed": false
   },
   "outputs": [
    {
     "data": {
      "text/plain": [
       "(10000, 1, 28, 28)"
      ]
     },
     "execution_count": 93,
     "metadata": {},
     "output_type": "execute_result"
    }
   ],
   "source": [
    "reconstructed_test_imgs.shape"
   ]
  },
  {
   "cell_type": "code",
   "execution_count": 94,
   "metadata": {
    "collapsed": false,
    "scrolled": true
   },
   "outputs": [
    {
     "data": {
      "image/png": "[encoded data removed]",
      "text/plain": [
       "<matplotlib.figure.Figure at 0x7fd6adc22908>"
      ]
     },
     "metadata": {},
     "output_type": "display_data"
    }
   ],
   "source": [
    "import matplotlib.pyplot as plt\n",
    "\n",
    "n = 10 # how many digits we will display\n",
    "plt.figure(figsize=(20, 6))\n",
    "for i in range(n):\n",
    "    # display original\n",
    "    ax = plt.subplot(2, n, i + 1)\n",
    "    plt.imshow(test_x_temp[i].reshape(28,28))\n",
    "    plt.gray()\n",
    "    ax.get_xaxis().set_visible(False)\n",
    "    ax.get_yaxis().set_visible(False)\n",
    "\n",
    "    # display encoded\n",
    "    #ax = plt.subplot(2, n, i + 1 + n)\n",
    "    #plt.imshow(encoded_imgs[i].reshape(6, 6))\n",
    "    #plt.gray()\n",
    "    #ax.get_xaxis().set_visible(False)\n",
    "    #ax.get_yaxis().set_visible(False)\n",
    "   \n",
    "    # display reconstruction\n",
    "    ax = plt.subplot(2, n, i + 1 + n)\n",
    "    plt.imshow(reconstructed_test_imgs[i].reshape(28,28))\n",
    "    plt.gray()\n",
    "    ax.get_xaxis().set_visible(False)\n",
    "    ax.get_yaxis().set_visible(False)\n",
    "plt.show()"
   ]
  },
  {
   "cell_type": "code",
   "execution_count": 95,
   "metadata": {
    "collapsed": false
   },
   "outputs": [
    {
     "name": "stdout",
     "output_type": "stream",
     "text": [
      "____________________________________________________________________________________________________\n",
      "Layer (type)                     Output Shape          Param #     Connected to                     \n",
      "====================================================================================================\n",
      "input_14 (InputLayer)            (None, 1, 28, 28)     0                                            \n",
      "____________________________________________________________________________________________________\n",
      "convolution2d_49 (Convolution2D) (None, 10, 28, 28)    260         input_14[0][0]                   \n",
      "____________________________________________________________________________________________________\n",
      "maxpooling2d_26 (MaxPooling2D)   (None, 10, 14, 14)    0           convolution2d_49[0][0]           \n",
      "____________________________________________________________________________________________________\n",
      "convolution2d_50 (Convolution2D) (None, 10, 14, 14)    910         maxpooling2d_26[0][0]            \n",
      "____________________________________________________________________________________________________\n",
      "maxpooling2d_27 (MaxPooling2D)   (None, 10, 7, 7)      0           convolution2d_50[0][0]           \n",
      "____________________________________________________________________________________________________\n",
      "flatten_9 (Flatten)              (None, 490)           0           maxpooling2d_27[0][0]            \n",
      "____________________________________________________________________________________________________\n",
      "dense_15 (Dense)                 (None, 40)            19640       flatten_9[0][0]                  \n",
      "====================================================================================================\n",
      "Total params: 20810\n",
      "____________________________________________________________________________________________________\n",
      "None\n"
     ]
    }
   ],
   "source": [
    "print (encoder.summary())"
   ]
  },
  {
   "cell_type": "code",
   "execution_count": 96,
   "metadata": {
    "collapsed": false
   },
   "outputs": [
    {
     "name": "stdout",
     "output_type": "stream",
     "text": [
      "2000000\n",
      "(50000, 40)\n",
      "16000000\n"
     ]
    }
   ],
   "source": [
    "encoded_train_imgs = encoder.predict(train_x_temp)\n",
    "print (encoded_train_imgs.size)\n",
    "print (encoded_train_imgs.shape)\n",
    "print (encoded_train_imgs.nbytes)"
   ]
  },
  {
   "cell_type": "code",
   "execution_count": 97,
   "metadata": {
    "collapsed": false
   },
   "outputs": [
    {
     "name": "stdout",
     "output_type": "stream",
     "text": [
      "400000\n",
      "(10000, 40)\n",
      "3200000\n"
     ]
    }
   ],
   "source": [
    "encoded_test_imgs = encoder.predict(test_x_temp)\n",
    "print (encoded_test_imgs.size)\n",
    "print (encoded_test_imgs.shape)\n",
    "print (encoded_test_imgs.nbytes)"
   ]
  },
  {
   "cell_type": "code",
   "execution_count": 98,
   "metadata": {
    "collapsed": false
   },
   "outputs": [],
   "source": [
    "from sklearn.neighbors import KNeighborsClassifier\n",
    "clf = KNeighborsClassifier(n_neighbors=5)\n",
    "clf = clf.fit(encoded_train_imgs, y_train)"
   ]
  },
  {
   "cell_type": "code",
   "execution_count": 99,
   "metadata": {
    "collapsed": true
   },
   "outputs": [],
   "source": [
    "y_pred = clf.predict(encoded_test_imgs)\n"
   ]
  },
  {
   "cell_type": "code",
   "execution_count": 100,
   "metadata": {
    "collapsed": false
   },
   "outputs": [
    {
     "data": {
      "text/plain": [
       "array([ 7.,  2.,  1., ...,  4.,  5.,  6.])"
      ]
     },
     "execution_count": 100,
     "metadata": {},
     "output_type": "execute_result"
    }
   ],
   "source": [
    "y_pred"
   ]
  },
  {
   "cell_type": "code",
   "execution_count": 101,
   "metadata": {
    "collapsed": false
   },
   "outputs": [
    {
     "name": "stdout",
     "output_type": "stream",
     "text": [
      "tested  10000 digits\n",
      "correct:  9716 wrong:  284 error rate:  2.84 %\n",
      "got correctly  97.16 %\n"
     ]
    }
   ],
   "source": [
    "num=len(encoded_test_imgs)\n",
    "r=0\n",
    "w=0\n",
    "for i in range(num):\n",
    "        #print ('y_pred ',y_pred[i])\n",
    "        #print ('labels ',labels[i])\n",
    "        #without the use of all() returns error truth value of an array with more than one element is ambiguous\n",
    "        #if y_pred[i].all() == labels[i].all():\n",
    "        if np.array_equal(y_pred[i],y_test[i]):\n",
    "            r+=1\n",
    "        else:\n",
    "            w+=1\n",
    "print (\"tested \",  num, \"digits\")\n",
    "print (\"correct: \", r, \"wrong: \", w, \"error rate: \", float(w)*100/(r+w), \"%\")\n",
    "print (\"got correctly \", float(r)*100/(r+w), \"%\")\n"
   ]
  },
  {
   "cell_type": "code",
   "execution_count": 103,
   "metadata": {
    "collapsed": false
   },
   "outputs": [],
   "source": [
    "input_dim = Input(shape=(40,))\n",
    "x = Dense(100, activation='relu')(input_dim)\n",
    "classifier = Dense(10, activation='softmax')(x)\n",
    "nn = Model(input=input_dim, output=classifier)\n",
    "\n",
    "nn.compile(optimizer=Adam(lr=0.0001), loss='categorical_crossentropy',metrics=['accuracy'])"
   ]
  },
  {
   "cell_type": "code",
   "execution_count": 104,
   "metadata": {
    "collapsed": false
   },
   "outputs": [
    {
     "name": "stdout",
     "output_type": "stream",
     "text": [
      "(50000, 10)\n",
      "(10000, 10)\n"
     ]
    },
    {
     "name": "stderr",
     "output_type": "stream",
     "text": [
      "/home/mrafi123/anaconda3/lib/python3.5/site-packages/keras/utils/np_utils.py:14: VisibleDeprecationWarning: using a non-integer number instead of an integer will result in an error in the future\n",
      "  Y = np.zeros((len(y), nb_classes))\n",
      "/home/mrafi123/anaconda3/lib/python3.5/site-packages/keras/utils/np_utils.py:16: VisibleDeprecationWarning: using a non-integer number instead of an integer will result in an error in the future\n",
      "  Y[i, y[i]] = 1.\n"
     ]
    }
   ],
   "source": [
    "from keras.utils.np_utils import *\n",
    "\n",
    "label_train=to_categorical(y_train)\n",
    "label_test= to_categorical(y_test)\n",
    "print (label_train.shape)\n",
    "print (label_test.shape)"
   ]
  },
  {
   "cell_type": "code",
   "execution_count": 105,
   "metadata": {
    "collapsed": false
   },
   "outputs": [
    {
     "name": "stdout",
     "output_type": "stream",
     "text": [
      "Epoch 1/50\n",
      "50000/50000 [==============================] - 2s - loss: 1.7526 - acc: 0.4693     \n",
      "Epoch 2/50\n",
      "50000/50000 [==============================] - 1s - loss: 0.7390 - acc: 0.8249     \n",
      "Epoch 3/50\n",
      "50000/50000 [==============================] - 1s - loss: 0.5005 - acc: 0.8734     \n",
      "Epoch 4/50\n",
      "50000/50000 [==============================] - 2s - loss: 0.4067 - acc: 0.8903     \n",
      "Epoch 5/50\n",
      "50000/50000 [==============================] - 2s - loss: 0.3564 - acc: 0.9011     \n",
      "Epoch 6/50\n",
      "50000/50000 [==============================] - 2s - loss: 0.3254 - acc: 0.9083     \n",
      "Epoch 7/50\n",
      "50000/50000 [==============================] - 1s - loss: 0.3043 - acc: 0.9133     \n",
      "Epoch 8/50\n",
      "50000/50000 [==============================] - 2s - loss: 0.2887 - acc: 0.9165     \n",
      "Epoch 9/50\n",
      "50000/50000 [==============================] - 2s - loss: 0.2762 - acc: 0.9189     \n",
      "Epoch 10/50\n",
      "50000/50000 [==============================] - 2s - loss: 0.2661 - acc: 0.9215     \n",
      "Epoch 11/50\n",
      "50000/50000 [==============================] - 2s - loss: 0.2575 - acc: 0.9235     \n",
      "Epoch 12/50\n",
      "50000/50000 [==============================] - 2s - loss: 0.2500 - acc: 0.9257     \n",
      "Epoch 13/50\n",
      "50000/50000 [==============================] - 2s - loss: 0.2433 - acc: 0.9278     \n",
      "Epoch 14/50\n",
      "50000/50000 [==============================] - 2s - loss: 0.2372 - acc: 0.9290     \n",
      "Epoch 15/50\n",
      "50000/50000 [==============================] - 2s - loss: 0.2314 - acc: 0.9307     \n",
      "Epoch 16/50\n",
      "50000/50000 [==============================] - 2s - loss: 0.2263 - acc: 0.9320     \n",
      "Epoch 17/50\n",
      "50000/50000 [==============================] - 2s - loss: 0.2215 - acc: 0.9334     \n",
      "Epoch 18/50\n",
      "50000/50000 [==============================] - 2s - loss: 0.2170 - acc: 0.9356     \n",
      "Epoch 19/50\n",
      "50000/50000 [==============================] - 2s - loss: 0.2124 - acc: 0.9370     \n",
      "Epoch 20/50\n",
      "50000/50000 [==============================] - 2s - loss: 0.2083 - acc: 0.9377     \n",
      "Epoch 21/50\n",
      "50000/50000 [==============================] - 2s - loss: 0.2045 - acc: 0.9385     \n",
      "Epoch 22/50\n",
      "50000/50000 [==============================] - 2s - loss: 0.2006 - acc: 0.9401     \n",
      "Epoch 23/50\n",
      "50000/50000 [==============================] - 2s - loss: 0.1971 - acc: 0.9413     \n",
      "Epoch 24/50\n",
      "50000/50000 [==============================] - 2s - loss: 0.1934 - acc: 0.9420     \n",
      "Epoch 25/50\n",
      "50000/50000 [==============================] - 2s - loss: 0.1903 - acc: 0.9425     \n",
      "Epoch 26/50\n",
      "50000/50000 [==============================] - 2s - loss: 0.1869 - acc: 0.9439     \n",
      "Epoch 27/50\n",
      "50000/50000 [==============================] - 2s - loss: 0.1839 - acc: 0.9448     \n",
      "Epoch 28/50\n",
      "50000/50000 [==============================] - 1s - loss: 0.1807 - acc: 0.9458     \n",
      "Epoch 29/50\n",
      "50000/50000 [==============================] - 1s - loss: 0.1779 - acc: 0.9468     \n",
      "Epoch 30/50\n",
      "50000/50000 [==============================] - 1s - loss: 0.1751 - acc: 0.9472     \n",
      "Epoch 31/50\n",
      "50000/50000 [==============================] - 1s - loss: 0.1723 - acc: 0.9486     \n",
      "Epoch 32/50\n",
      "50000/50000 [==============================] - 1s - loss: 0.1694 - acc: 0.9496     \n",
      "Epoch 33/50\n",
      "50000/50000 [==============================] - 1s - loss: 0.1670 - acc: 0.9500     \n",
      "Epoch 34/50\n",
      "50000/50000 [==============================] - 1s - loss: 0.1646 - acc: 0.9508     \n",
      "Epoch 35/50\n",
      "50000/50000 [==============================] - 2s - loss: 0.1622 - acc: 0.9513     \n",
      "Epoch 36/50\n",
      "50000/50000 [==============================] - 1s - loss: 0.1597 - acc: 0.9521     \n",
      "Epoch 37/50\n",
      "50000/50000 [==============================] - 1s - loss: 0.1576 - acc: 0.9528     \n",
      "Epoch 38/50\n",
      "50000/50000 [==============================] - 1s - loss: 0.1551 - acc: 0.9537     \n",
      "Epoch 39/50\n",
      "50000/50000 [==============================] - 1s - loss: 0.1527 - acc: 0.9544     \n",
      "Epoch 40/50\n",
      "50000/50000 [==============================] - 2s - loss: 0.1505 - acc: 0.9555     \n",
      "Epoch 41/50\n",
      "50000/50000 [==============================] - 2s - loss: 0.1484 - acc: 0.9562     \n",
      "Epoch 42/50\n",
      "50000/50000 [==============================] - 1s - loss: 0.1464 - acc: 0.9564     \n",
      "Epoch 43/50\n",
      "50000/50000 [==============================] - 1s - loss: 0.1445 - acc: 0.9569     \n",
      "Epoch 44/50\n",
      "50000/50000 [==============================] - 1s - loss: 0.1425 - acc: 0.9577     \n",
      "Epoch 45/50\n",
      "50000/50000 [==============================] - 1s - loss: 0.1404 - acc: 0.9583     \n",
      "Epoch 46/50\n",
      "50000/50000 [==============================] - 1s - loss: 0.1387 - acc: 0.9585     \n",
      "Epoch 47/50\n",
      "50000/50000 [==============================] - 1s - loss: 0.1369 - acc: 0.9596     \n",
      "Epoch 48/50\n",
      "50000/50000 [==============================] - 1s - loss: 0.1352 - acc: 0.9599     \n",
      "Epoch 49/50\n",
      "50000/50000 [==============================] - 1s - loss: 0.1335 - acc: 0.9603     \n",
      "Epoch 50/50\n",
      "50000/50000 [==============================] - 1s - loss: 0.1319 - acc: 0.9613     \n"
     ]
    },
    {
     "data": {
      "text/plain": [
       "<keras.callbacks.History at 0x7fd69cb43588>"
      ]
     },
     "execution_count": 105,
     "metadata": {},
     "output_type": "execute_result"
    }
   ],
   "source": [
    "nn.fit(encoded_train_imgs, label_train,\n",
    "            nb_epoch=50,\n",
    "            batch_size=batch_size,\n",
    "            shuffle=True)"
   ]
  },
  {
   "cell_type": "code",
   "execution_count": 106,
   "metadata": {
    "collapsed": true
   },
   "outputs": [],
   "source": [
    "label_y_pred = nn.predict(encoded_test_imgs)\n"
   ]
  },
  {
   "cell_type": "code",
   "execution_count": 107,
   "metadata": {
    "collapsed": false
   },
   "outputs": [],
   "source": [
    "new_y_pred=[]\n",
    "for i in range (len(label_y_pred)):\n",
    "    new_y_pred.append([np.argmax(label_y_pred[i])])\n"
   ]
  },
  {
   "cell_type": "code",
   "execution_count": 108,
   "metadata": {
    "collapsed": true
   },
   "outputs": [],
   "source": [
    "new_y_pred=np.asarray(new_y_pred)"
   ]
  },
  {
   "cell_type": "code",
   "execution_count": 109,
   "metadata": {
    "collapsed": false
   },
   "outputs": [
    {
     "name": "stdout",
     "output_type": "stream",
     "text": [
      "(10000, 1)\n",
      "(10000, 10)\n"
     ]
    }
   ],
   "source": [
    "print (new_y_pred.shape)\n",
    "new_y_pred=to_categorical(new_y_pred)\n",
    "print (new_y_pred.shape)\n"
   ]
  },
  {
   "cell_type": "code",
   "execution_count": 110,
   "metadata": {
    "collapsed": false
   },
   "outputs": [
    {
     "name": "stdout",
     "output_type": "stream",
     "text": [
      "tested  10000 digits\n",
      "correct:  9634 wrong:  366 error rate:  3.66 %\n",
      "got correctly  96.34 %\n"
     ]
    }
   ],
   "source": [
    "num=len(label_y_pred)\n",
    "r=0\n",
    "w=0\n",
    "for i in range(num):\n",
    "        #print ('y_pred ',y_pred[i])\n",
    "        #print ('labels ',labels[i])\n",
    "        #without the use of all() returns error truth value of an array with more than one element is ambiguous\n",
    "        #if y_pred[i].all() == labels[i].all():\n",
    "        if np.array_equal(new_y_pred[i],label_test[i]):\n",
    "            r+=1\n",
    "        else:\n",
    "            w+=1\n",
    "print (\"tested \",  num, \"digits\")\n",
    "print (\"correct: \", r, \"wrong: \", w, \"error rate: \", float(w)*100/(r+w), \"%\")\n",
    "print (\"got correctly \", float(r)*100/(r+w), \"%\")\n"
   ]
  },
  {
   "cell_type": "markdown",
   "metadata": {
    "collapsed": true
   },
   "source": [
    "Clustering..."
   ]
  },
  {
   "cell_type": "code",
   "execution_count": 111,
   "metadata": {
    "collapsed": true
   },
   "outputs": [],
   "source": [
    "from sklearn import linear_model\n",
    "from sklearn.preprocessing import scale\n",
    "import matplotlib.pyplot as plt\n",
    "import seaborn as sb\n",
    "%matplotlib inline\n",
    "from sklearn.cluster import KMeans\n",
    "import pandas as pd\n",
    "from sklearn.decomposition import PCA"
   ]
  },
  {
   "cell_type": "code",
   "execution_count": 43,
   "metadata": {
    "collapsed": true
   },
   "outputs": [],
   "source": [
    "# apply pca to reduce to 2 dimensions\n",
    "reduced_train_data = PCA(n_components=2).fit_transform(encoded_train_imgs)\n",
    "reduced_test_data = PCA(n_components=2).fit_transform(encoded_test_imgs)\n"
   ]
  },
  {
   "cell_type": "code",
   "execution_count": 112,
   "metadata": {
    "collapsed": true
   },
   "outputs": [],
   "source": [
    "# dont appy and further DR\n",
    "reduced_train_data = encoded_train_imgs\n",
    "reduced_test_data = encoded_test_imgs\n"
   ]
  },
  {
   "cell_type": "code",
   "execution_count": 113,
   "metadata": {
    "collapsed": false
   },
   "outputs": [
    {
     "name": "stdout",
     "output_type": "stream",
     "text": [
      "(50000, 40)\n",
      "(10000, 40)\n"
     ]
    }
   ],
   "source": [
    "print (reduced_train_data.shape)\n",
    "print (reduced_test_data.shape)"
   ]
  },
  {
   "cell_type": "code",
   "execution_count": 114,
   "metadata": {
    "collapsed": false
   },
   "outputs": [
    {
     "name": "stdout",
     "output_type": "stream",
     "text": [
      "(50000,)\n",
      "(50000, 1)\n",
      "(10000,)\n",
      "(10000, 1)\n"
     ]
    }
   ],
   "source": [
    "print(y_train.shape)\n",
    "y_train_pd=y_train.reshape(50000,1)\n",
    "print(y_train_pd.shape)\n",
    "print (y_test.shape)\n",
    "y_test_pd=y_test.reshape(10000,1)\n",
    "\n",
    "print (y_test_pd.shape)"
   ]
  },
  {
   "cell_type": "code",
   "execution_count": 115,
   "metadata": {
    "collapsed": true
   },
   "outputs": [],
   "source": [
    "train_df = pd.DataFrame(reduced_train_data)"
   ]
  },
  {
   "cell_type": "code",
   "execution_count": 116,
   "metadata": {
    "collapsed": false
   },
   "outputs": [],
   "source": [
    "train_df['Label'] = pd.DataFrame(y_train_pd)"
   ]
  },
  {
   "cell_type": "code",
   "execution_count": 117,
   "metadata": {
    "collapsed": false
   },
   "outputs": [
    {
     "data": {
      "text/html": [
       "<div>\n",
       "<table border=\"1\" class=\"dataframe\">\n",
       "  <thead>\n",
       "    <tr style=\"text-align: right;\">\n",
       "      <th></th>\n",
       "      <th>0</th>\n",
       "      <th>1</th>\n",
       "      <th>2</th>\n",
       "      <th>3</th>\n",
       "      <th>4</th>\n",
       "      <th>5</th>\n",
       "      <th>6</th>\n",
       "      <th>7</th>\n",
       "      <th>8</th>\n",
       "      <th>9</th>\n",
       "      <th>...</th>\n",
       "      <th>31</th>\n",
       "      <th>32</th>\n",
       "      <th>33</th>\n",
       "      <th>34</th>\n",
       "      <th>35</th>\n",
       "      <th>36</th>\n",
       "      <th>37</th>\n",
       "      <th>38</th>\n",
       "      <th>39</th>\n",
       "      <th>Label</th>\n",
       "    </tr>\n",
       "  </thead>\n",
       "  <tbody>\n",
       "    <tr>\n",
       "      <th>0</th>\n",
       "      <td>2.110757</td>\n",
       "      <td>1.374059</td>\n",
       "      <td>2.760755</td>\n",
       "      <td>1.789018</td>\n",
       "      <td>2.266376</td>\n",
       "      <td>3.319240</td>\n",
       "      <td>2.955837</td>\n",
       "      <td>3.049902</td>\n",
       "      <td>4.466484</td>\n",
       "      <td>2.122276</td>\n",
       "      <td>...</td>\n",
       "      <td>0.0</td>\n",
       "      <td>2.105577</td>\n",
       "      <td>1.041925</td>\n",
       "      <td>0.0</td>\n",
       "      <td>0.0</td>\n",
       "      <td>1.348392</td>\n",
       "      <td>5.963332</td>\n",
       "      <td>0.0</td>\n",
       "      <td>4.198803</td>\n",
       "      <td>5.0</td>\n",
       "    </tr>\n",
       "    <tr>\n",
       "      <th>1</th>\n",
       "      <td>3.958119</td>\n",
       "      <td>2.888468</td>\n",
       "      <td>1.633367</td>\n",
       "      <td>1.807861</td>\n",
       "      <td>6.886374</td>\n",
       "      <td>1.630645</td>\n",
       "      <td>2.795530</td>\n",
       "      <td>1.614581</td>\n",
       "      <td>3.234618</td>\n",
       "      <td>4.227332</td>\n",
       "      <td>...</td>\n",
       "      <td>0.0</td>\n",
       "      <td>2.523572</td>\n",
       "      <td>3.154370</td>\n",
       "      <td>0.0</td>\n",
       "      <td>0.0</td>\n",
       "      <td>1.017639</td>\n",
       "      <td>3.534272</td>\n",
       "      <td>0.0</td>\n",
       "      <td>3.413263</td>\n",
       "      <td>0.0</td>\n",
       "    </tr>\n",
       "    <tr>\n",
       "      <th>2</th>\n",
       "      <td>0.000000</td>\n",
       "      <td>3.998143</td>\n",
       "      <td>3.932147</td>\n",
       "      <td>0.548079</td>\n",
       "      <td>1.303530</td>\n",
       "      <td>2.135028</td>\n",
       "      <td>1.189166</td>\n",
       "      <td>1.046939</td>\n",
       "      <td>2.044725</td>\n",
       "      <td>0.764428</td>\n",
       "      <td>...</td>\n",
       "      <td>0.0</td>\n",
       "      <td>2.577649</td>\n",
       "      <td>2.096139</td>\n",
       "      <td>0.0</td>\n",
       "      <td>0.0</td>\n",
       "      <td>1.452031</td>\n",
       "      <td>0.609048</td>\n",
       "      <td>0.0</td>\n",
       "      <td>3.294518</td>\n",
       "      <td>4.0</td>\n",
       "    </tr>\n",
       "    <tr>\n",
       "      <th>3</th>\n",
       "      <td>0.000000</td>\n",
       "      <td>1.152269</td>\n",
       "      <td>2.917286</td>\n",
       "      <td>2.352459</td>\n",
       "      <td>3.053255</td>\n",
       "      <td>1.396024</td>\n",
       "      <td>3.391266</td>\n",
       "      <td>0.784943</td>\n",
       "      <td>2.891705</td>\n",
       "      <td>0.000000</td>\n",
       "      <td>...</td>\n",
       "      <td>0.0</td>\n",
       "      <td>3.155274</td>\n",
       "      <td>3.705480</td>\n",
       "      <td>0.0</td>\n",
       "      <td>0.0</td>\n",
       "      <td>2.426465</td>\n",
       "      <td>5.664213</td>\n",
       "      <td>0.0</td>\n",
       "      <td>1.082456</td>\n",
       "      <td>1.0</td>\n",
       "    </tr>\n",
       "    <tr>\n",
       "      <th>4</th>\n",
       "      <td>1.663218</td>\n",
       "      <td>2.514766</td>\n",
       "      <td>2.498519</td>\n",
       "      <td>5.584323</td>\n",
       "      <td>1.849213</td>\n",
       "      <td>1.934700</td>\n",
       "      <td>3.900078</td>\n",
       "      <td>2.231761</td>\n",
       "      <td>1.217425</td>\n",
       "      <td>2.434751</td>\n",
       "      <td>...</td>\n",
       "      <td>0.0</td>\n",
       "      <td>3.164061</td>\n",
       "      <td>2.508308</td>\n",
       "      <td>0.0</td>\n",
       "      <td>0.0</td>\n",
       "      <td>2.591481</td>\n",
       "      <td>1.566767</td>\n",
       "      <td>0.0</td>\n",
       "      <td>1.637042</td>\n",
       "      <td>9.0</td>\n",
       "    </tr>\n",
       "  </tbody>\n",
       "</table>\n",
       "<p>5 rows × 41 columns</p>\n",
       "</div>"
      ],
      "text/plain": [
       "          0         1         2         3         4         5         6  \\\n",
       "0  2.110757  1.374059  2.760755  1.789018  2.266376  3.319240  2.955837   \n",
       "1  3.958119  2.888468  1.633367  1.807861  6.886374  1.630645  2.795530   \n",
       "2  0.000000  3.998143  3.932147  0.548079  1.303530  2.135028  1.189166   \n",
       "3  0.000000  1.152269  2.917286  2.352459  3.053255  1.396024  3.391266   \n",
       "4  1.663218  2.514766  2.498519  5.584323  1.849213  1.934700  3.900078   \n",
       "\n",
       "          7         8         9  ...     31        32        33   34   35  \\\n",
       "0  3.049902  4.466484  2.122276  ...    0.0  2.105577  1.041925  0.0  0.0   \n",
       "1  1.614581  3.234618  4.227332  ...    0.0  2.523572  3.154370  0.0  0.0   \n",
       "2  1.046939  2.044725  0.764428  ...    0.0  2.577649  2.096139  0.0  0.0   \n",
       "3  0.784943  2.891705  0.000000  ...    0.0  3.155274  3.705480  0.0  0.0   \n",
       "4  2.231761  1.217425  2.434751  ...    0.0  3.164061  2.508308  0.0  0.0   \n",
       "\n",
       "         36        37   38        39  Label  \n",
       "0  1.348392  5.963332  0.0  4.198803    5.0  \n",
       "1  1.017639  3.534272  0.0  3.413263    0.0  \n",
       "2  1.452031  0.609048  0.0  3.294518    4.0  \n",
       "3  2.426465  5.664213  0.0  1.082456    1.0  \n",
       "4  2.591481  1.566767  0.0  1.637042    9.0  \n",
       "\n",
       "[5 rows x 41 columns]"
      ]
     },
     "execution_count": 117,
     "metadata": {},
     "output_type": "execute_result"
    }
   ],
   "source": [
    "train_df.head()"
   ]
  },
  {
   "cell_type": "code",
   "execution_count": 118,
   "metadata": {
    "collapsed": false
   },
   "outputs": [
    {
     "data": {
      "text/html": [
       "<div>\n",
       "<table border=\"1\" class=\"dataframe\">\n",
       "  <thead>\n",
       "    <tr style=\"text-align: right;\">\n",
       "      <th></th>\n",
       "      <th>0</th>\n",
       "      <th>1</th>\n",
       "      <th>2</th>\n",
       "      <th>3</th>\n",
       "      <th>4</th>\n",
       "      <th>5</th>\n",
       "      <th>6</th>\n",
       "      <th>7</th>\n",
       "      <th>8</th>\n",
       "      <th>9</th>\n",
       "      <th>...</th>\n",
       "      <th>31</th>\n",
       "      <th>32</th>\n",
       "      <th>33</th>\n",
       "      <th>34</th>\n",
       "      <th>35</th>\n",
       "      <th>36</th>\n",
       "      <th>37</th>\n",
       "      <th>38</th>\n",
       "      <th>39</th>\n",
       "      <th>Label</th>\n",
       "    </tr>\n",
       "  </thead>\n",
       "  <tbody>\n",
       "    <tr>\n",
       "      <th>0</th>\n",
       "      <td>1.439396</td>\n",
       "      <td>1.533758</td>\n",
       "      <td>1.705850</td>\n",
       "      <td>2.993416</td>\n",
       "      <td>2.606283</td>\n",
       "      <td>3.178577</td>\n",
       "      <td>2.522242</td>\n",
       "      <td>2.848150</td>\n",
       "      <td>1.819115</td>\n",
       "      <td>0.940211</td>\n",
       "      <td>...</td>\n",
       "      <td>0.0</td>\n",
       "      <td>0.962655</td>\n",
       "      <td>1.472043</td>\n",
       "      <td>0.0</td>\n",
       "      <td>0.0</td>\n",
       "      <td>2.228551</td>\n",
       "      <td>0.698205</td>\n",
       "      <td>0.0</td>\n",
       "      <td>1.091734</td>\n",
       "      <td>7.0</td>\n",
       "    </tr>\n",
       "    <tr>\n",
       "      <th>1</th>\n",
       "      <td>3.876988</td>\n",
       "      <td>0.288837</td>\n",
       "      <td>1.514825</td>\n",
       "      <td>2.628214</td>\n",
       "      <td>4.046387</td>\n",
       "      <td>0.837923</td>\n",
       "      <td>2.547393</td>\n",
       "      <td>1.315813</td>\n",
       "      <td>2.081404</td>\n",
       "      <td>6.372713</td>\n",
       "      <td>...</td>\n",
       "      <td>0.0</td>\n",
       "      <td>1.920950</td>\n",
       "      <td>3.983616</td>\n",
       "      <td>0.0</td>\n",
       "      <td>0.0</td>\n",
       "      <td>1.879533</td>\n",
       "      <td>7.051126</td>\n",
       "      <td>0.0</td>\n",
       "      <td>1.306167</td>\n",
       "      <td>2.0</td>\n",
       "    </tr>\n",
       "    <tr>\n",
       "      <th>2</th>\n",
       "      <td>0.000000</td>\n",
       "      <td>0.860552</td>\n",
       "      <td>1.039834</td>\n",
       "      <td>2.888837</td>\n",
       "      <td>1.980653</td>\n",
       "      <td>1.164428</td>\n",
       "      <td>2.667731</td>\n",
       "      <td>1.959471</td>\n",
       "      <td>1.125587</td>\n",
       "      <td>0.797308</td>\n",
       "      <td>...</td>\n",
       "      <td>0.0</td>\n",
       "      <td>1.085797</td>\n",
       "      <td>1.518367</td>\n",
       "      <td>0.0</td>\n",
       "      <td>0.0</td>\n",
       "      <td>1.280862</td>\n",
       "      <td>3.333719</td>\n",
       "      <td>0.0</td>\n",
       "      <td>0.862952</td>\n",
       "      <td>1.0</td>\n",
       "    </tr>\n",
       "    <tr>\n",
       "      <th>3</th>\n",
       "      <td>4.746442</td>\n",
       "      <td>2.616378</td>\n",
       "      <td>1.453264</td>\n",
       "      <td>1.690279</td>\n",
       "      <td>7.269545</td>\n",
       "      <td>2.916892</td>\n",
       "      <td>3.879184</td>\n",
       "      <td>2.672343</td>\n",
       "      <td>2.504143</td>\n",
       "      <td>5.752549</td>\n",
       "      <td>...</td>\n",
       "      <td>0.0</td>\n",
       "      <td>2.177196</td>\n",
       "      <td>3.035470</td>\n",
       "      <td>0.0</td>\n",
       "      <td>0.0</td>\n",
       "      <td>2.508161</td>\n",
       "      <td>2.855093</td>\n",
       "      <td>0.0</td>\n",
       "      <td>2.298105</td>\n",
       "      <td>0.0</td>\n",
       "    </tr>\n",
       "    <tr>\n",
       "      <th>4</th>\n",
       "      <td>0.785093</td>\n",
       "      <td>2.686178</td>\n",
       "      <td>2.199318</td>\n",
       "      <td>1.730256</td>\n",
       "      <td>1.738629</td>\n",
       "      <td>2.907272</td>\n",
       "      <td>0.339924</td>\n",
       "      <td>0.638922</td>\n",
       "      <td>1.014574</td>\n",
       "      <td>2.956997</td>\n",
       "      <td>...</td>\n",
       "      <td>0.0</td>\n",
       "      <td>3.805755</td>\n",
       "      <td>1.695995</td>\n",
       "      <td>0.0</td>\n",
       "      <td>0.0</td>\n",
       "      <td>1.575763</td>\n",
       "      <td>1.248279</td>\n",
       "      <td>0.0</td>\n",
       "      <td>0.966686</td>\n",
       "      <td>4.0</td>\n",
       "    </tr>\n",
       "  </tbody>\n",
       "</table>\n",
       "<p>5 rows × 41 columns</p>\n",
       "</div>"
      ],
      "text/plain": [
       "          0         1         2         3         4         5         6  \\\n",
       "0  1.439396  1.533758  1.705850  2.993416  2.606283  3.178577  2.522242   \n",
       "1  3.876988  0.288837  1.514825  2.628214  4.046387  0.837923  2.547393   \n",
       "2  0.000000  0.860552  1.039834  2.888837  1.980653  1.164428  2.667731   \n",
       "3  4.746442  2.616378  1.453264  1.690279  7.269545  2.916892  3.879184   \n",
       "4  0.785093  2.686178  2.199318  1.730256  1.738629  2.907272  0.339924   \n",
       "\n",
       "          7         8         9  ...     31        32        33   34   35  \\\n",
       "0  2.848150  1.819115  0.940211  ...    0.0  0.962655  1.472043  0.0  0.0   \n",
       "1  1.315813  2.081404  6.372713  ...    0.0  1.920950  3.983616  0.0  0.0   \n",
       "2  1.959471  1.125587  0.797308  ...    0.0  1.085797  1.518367  0.0  0.0   \n",
       "3  2.672343  2.504143  5.752549  ...    0.0  2.177196  3.035470  0.0  0.0   \n",
       "4  0.638922  1.014574  2.956997  ...    0.0  3.805755  1.695995  0.0  0.0   \n",
       "\n",
       "         36        37   38        39  Label  \n",
       "0  2.228551  0.698205  0.0  1.091734    7.0  \n",
       "1  1.879533  7.051126  0.0  1.306167    2.0  \n",
       "2  1.280862  3.333719  0.0  0.862952    1.0  \n",
       "3  2.508161  2.855093  0.0  2.298105    0.0  \n",
       "4  1.575763  1.248279  0.0  0.966686    4.0  \n",
       "\n",
       "[5 rows x 41 columns]"
      ]
     },
     "execution_count": 118,
     "metadata": {},
     "output_type": "execute_result"
    }
   ],
   "source": [
    "#test_df = pd.DataFrame(reduced_test_data,columns=list('AB'))\n",
    "test_df = pd.DataFrame(reduced_test_data)\n",
    "test_df['Label'] = pd.DataFrame(y_test_pd)\n",
    "test_df.head()"
   ]
  },
  {
   "cell_type": "code",
   "execution_count": 119,
   "metadata": {
    "collapsed": false
   },
   "outputs": [
    {
     "data": {
      "text/plain": [
       "KMeans(algorithm='auto', copy_x=True, init='k-means++', max_iter=300,\n",
       "    n_clusters=10, n_init=10, n_jobs=1, precompute_distances='auto',\n",
       "    random_state=None, tol=0.0001, verbose=0)"
      ]
     },
     "execution_count": 119,
     "metadata": {},
     "output_type": "execute_result"
    }
   ],
   "source": [
    "# Create kmeans\n",
    "clstr = KMeans(n_clusters=10)\n",
    "clstr.fit(reduced_train_data) "
   ]
  },
  {
   "cell_type": "code",
   "execution_count": 136,
   "metadata": {
    "collapsed": false
   },
   "outputs": [
    {
     "data": {
      "text/plain": [
       "array([[ 1.81141448,  0.4671192 ,  1.02058318, ...,  0.        ,\n",
       "         0.49137219,  1.41347396],\n",
       "       [ 2.59689069,  0.71984127,  1.48540811, ...,  0.        ,\n",
       "         0.59715393,  1.46986914],\n",
       "       [ 1.8940168 ,  0.65790261,  1.38038518, ...,  0.        ,\n",
       "         0.50923645,  1.45611537],\n",
       "       ..., \n",
       "       [ 1.67638564,  0.40097566,  0.57883746, ...,  0.        ,\n",
       "         0.38350861,  0.76492286],\n",
       "       [ 2.04537642,  0.44534843,  0.99352105, ...,  0.        ,\n",
       "         0.48418196,  1.25580359],\n",
       "       [ 1.8959285 ,  0.65028018,  1.03405117, ...,  0.        ,\n",
       "         0.41323781,  0.94610673]])"
      ]
     },
     "execution_count": 136,
     "metadata": {},
     "output_type": "execute_result"
    }
   ],
   "source": [
    "# Create feature agglomeration\n",
    "from sklearn.cluster import FeatureAgglomeration\n",
    "clstr = FeatureAgglomeration(n_clusters=10)\n",
    "clstr.fit_transform(reduced_train_data) \n",
    "clstr.fit_transform(reduced_test_data) "
   ]
  },
  {
   "cell_type": "code",
   "execution_count": 142,
   "metadata": {
    "collapsed": false
   },
   "outputs": [
    {
     "ename": "MemoryError",
     "evalue": "",
     "output_type": "error",
     "traceback": [
      "\u001b[1;31m---------------------------------------------------------------------------\u001b[0m",
      "\u001b[1;31mMemoryError\u001b[0m                               Traceback (most recent call last)",
      "\u001b[1;32m<ipython-input-142-bffb221b2da7>\u001b[0m in \u001b[0;36m<module>\u001b[1;34m()\u001b[0m\n\u001b[0;32m      2\u001b[0m \u001b[1;33m\u001b[0m\u001b[0m\n\u001b[0;32m      3\u001b[0m \u001b[0mclstr\u001b[0m\u001b[1;33m=\u001b[0m\u001b[0mBirch\u001b[0m\u001b[1;33m(\u001b[0m\u001b[0mbranching_factor\u001b[0m\u001b[1;33m=\u001b[0m\u001b[1;36m50\u001b[0m\u001b[1;33m,\u001b[0m \u001b[0mn_clusters\u001b[0m\u001b[1;33m=\u001b[0m\u001b[1;36m10\u001b[0m\u001b[1;33m,\u001b[0m \u001b[0mthreshold\u001b[0m\u001b[1;33m=\u001b[0m\u001b[1;36m0.5\u001b[0m\u001b[1;33m,\u001b[0m\u001b[0mcompute_labels\u001b[0m\u001b[1;33m=\u001b[0m\u001b[1;32mTrue\u001b[0m\u001b[1;33m)\u001b[0m\u001b[1;33m\u001b[0m\u001b[0m\n\u001b[1;32m----> 4\u001b[1;33m \u001b[0mclstr\u001b[0m\u001b[1;33m.\u001b[0m\u001b[0mfit\u001b[0m\u001b[1;33m(\u001b[0m\u001b[0mreduced_train_data\u001b[0m\u001b[1;33m)\u001b[0m\u001b[1;33m\u001b[0m\u001b[0m\n\u001b[0m",
      "\u001b[1;32m/home/mrafi123/anaconda3/lib/python3.5/site-packages/sklearn/cluster/birch.py\u001b[0m in \u001b[0;36mfit\u001b[1;34m(self, X, y)\u001b[0m\n\u001b[0;32m    423\u001b[0m         \"\"\"\n\u001b[0;32m    424\u001b[0m         \u001b[0mself\u001b[0m\u001b[1;33m.\u001b[0m\u001b[0mfit_\u001b[0m\u001b[1;33m,\u001b[0m \u001b[0mself\u001b[0m\u001b[1;33m.\u001b[0m\u001b[0mpartial_fit_\u001b[0m \u001b[1;33m=\u001b[0m \u001b[1;32mTrue\u001b[0m\u001b[1;33m,\u001b[0m \u001b[1;32mFalse\u001b[0m\u001b[1;33m\u001b[0m\u001b[0m\n\u001b[1;32m--> 425\u001b[1;33m         \u001b[1;32mreturn\u001b[0m \u001b[0mself\u001b[0m\u001b[1;33m.\u001b[0m\u001b[0m_fit\u001b[0m\u001b[1;33m(\u001b[0m\u001b[0mX\u001b[0m\u001b[1;33m)\u001b[0m\u001b[1;33m\u001b[0m\u001b[0m\n\u001b[0m\u001b[0;32m    426\u001b[0m \u001b[1;33m\u001b[0m\u001b[0m\n\u001b[0;32m    427\u001b[0m     \u001b[1;32mdef\u001b[0m \u001b[0m_fit\u001b[0m\u001b[1;33m(\u001b[0m\u001b[0mself\u001b[0m\u001b[1;33m,\u001b[0m \u001b[0mX\u001b[0m\u001b[1;33m)\u001b[0m\u001b[1;33m:\u001b[0m\u001b[1;33m\u001b[0m\u001b[0m\n",
      "\u001b[1;32m/home/mrafi123/anaconda3/lib/python3.5/site-packages/sklearn/cluster/birch.py\u001b[0m in \u001b[0;36m_fit\u001b[1;34m(self, X)\u001b[0m\n\u001b[0;32m    473\u001b[0m         \u001b[0mself\u001b[0m\u001b[1;33m.\u001b[0m\u001b[0msubcluster_centers_\u001b[0m \u001b[1;33m=\u001b[0m \u001b[0mcentroids\u001b[0m\u001b[1;33m\u001b[0m\u001b[0m\n\u001b[0;32m    474\u001b[0m \u001b[1;33m\u001b[0m\u001b[0m\n\u001b[1;32m--> 475\u001b[1;33m         \u001b[0mself\u001b[0m\u001b[1;33m.\u001b[0m\u001b[0m_global_clustering\u001b[0m\u001b[1;33m(\u001b[0m\u001b[0mX\u001b[0m\u001b[1;33m)\u001b[0m\u001b[1;33m\u001b[0m\u001b[0m\n\u001b[0m\u001b[0;32m    476\u001b[0m         \u001b[1;32mreturn\u001b[0m \u001b[0mself\u001b[0m\u001b[1;33m\u001b[0m\u001b[0m\n\u001b[0;32m    477\u001b[0m \u001b[1;33m\u001b[0m\u001b[0m\n",
      "\u001b[1;32m/home/mrafi123/anaconda3/lib/python3.5/site-packages/sklearn/cluster/birch.py\u001b[0m in \u001b[0;36m_global_clustering\u001b[1;34m(self, X)\u001b[0m\n\u001b[0;32m    609\u001b[0m \u001b[1;33m\u001b[0m\u001b[0m\n\u001b[0;32m    610\u001b[0m         \u001b[1;32mif\u001b[0m \u001b[0mcompute_labels\u001b[0m\u001b[1;33m:\u001b[0m\u001b[1;33m\u001b[0m\u001b[0m\n\u001b[1;32m--> 611\u001b[1;33m             \u001b[0mself\u001b[0m\u001b[1;33m.\u001b[0m\u001b[0mlabels_\u001b[0m \u001b[1;33m=\u001b[0m \u001b[0mself\u001b[0m\u001b[1;33m.\u001b[0m\u001b[0mpredict\u001b[0m\u001b[1;33m(\u001b[0m\u001b[0mX\u001b[0m\u001b[1;33m)\u001b[0m\u001b[1;33m\u001b[0m\u001b[0m\n\u001b[0m",
      "\u001b[1;32m/home/mrafi123/anaconda3/lib/python3.5/site-packages/sklearn/cluster/birch.py\u001b[0m in \u001b[0;36mpredict\u001b[1;34m(self, X)\u001b[0m\n\u001b[0;32m    544\u001b[0m         \u001b[0mX\u001b[0m \u001b[1;33m=\u001b[0m \u001b[0mcheck_array\u001b[0m\u001b[1;33m(\u001b[0m\u001b[0mX\u001b[0m\u001b[1;33m,\u001b[0m \u001b[0maccept_sparse\u001b[0m\u001b[1;33m=\u001b[0m\u001b[1;34m'csr'\u001b[0m\u001b[1;33m)\u001b[0m\u001b[1;33m\u001b[0m\u001b[0m\n\u001b[0;32m    545\u001b[0m         \u001b[0mself\u001b[0m\u001b[1;33m.\u001b[0m\u001b[0m_check_fit\u001b[0m\u001b[1;33m(\u001b[0m\u001b[0mX\u001b[0m\u001b[1;33m)\u001b[0m\u001b[1;33m\u001b[0m\u001b[0m\n\u001b[1;32m--> 546\u001b[1;33m         \u001b[0mreduced_distance\u001b[0m \u001b[1;33m=\u001b[0m \u001b[0msafe_sparse_dot\u001b[0m\u001b[1;33m(\u001b[0m\u001b[0mX\u001b[0m\u001b[1;33m,\u001b[0m \u001b[0mself\u001b[0m\u001b[1;33m.\u001b[0m\u001b[0msubcluster_centers_\u001b[0m\u001b[1;33m.\u001b[0m\u001b[0mT\u001b[0m\u001b[1;33m)\u001b[0m\u001b[1;33m\u001b[0m\u001b[0m\n\u001b[0m\u001b[0;32m    547\u001b[0m         \u001b[0mreduced_distance\u001b[0m \u001b[1;33m*=\u001b[0m \u001b[1;33m-\u001b[0m\u001b[1;36m2\u001b[0m\u001b[1;33m\u001b[0m\u001b[0m\n\u001b[0;32m    548\u001b[0m         \u001b[0mreduced_distance\u001b[0m \u001b[1;33m+=\u001b[0m \u001b[0mself\u001b[0m\u001b[1;33m.\u001b[0m\u001b[0m_subcluster_norms\u001b[0m\u001b[1;33m\u001b[0m\u001b[0m\n",
      "\u001b[1;32m/home/mrafi123/anaconda3/lib/python3.5/site-packages/sklearn/utils/extmath.py\u001b[0m in \u001b[0;36msafe_sparse_dot\u001b[1;34m(a, b, dense_output)\u001b[0m\n\u001b[0;32m    187\u001b[0m         \u001b[1;32mreturn\u001b[0m \u001b[0mret\u001b[0m\u001b[1;33m\u001b[0m\u001b[0m\n\u001b[0;32m    188\u001b[0m     \u001b[1;32melse\u001b[0m\u001b[1;33m:\u001b[0m\u001b[1;33m\u001b[0m\u001b[0m\n\u001b[1;32m--> 189\u001b[1;33m         \u001b[1;32mreturn\u001b[0m \u001b[0mfast_dot\u001b[0m\u001b[1;33m(\u001b[0m\u001b[0ma\u001b[0m\u001b[1;33m,\u001b[0m \u001b[0mb\u001b[0m\u001b[1;33m)\u001b[0m\u001b[1;33m\u001b[0m\u001b[0m\n\u001b[0m\u001b[0;32m    190\u001b[0m \u001b[1;33m\u001b[0m\u001b[0m\n\u001b[0;32m    191\u001b[0m \u001b[1;33m\u001b[0m\u001b[0m\n",
      "\u001b[1;31mMemoryError\u001b[0m: "
     ]
    }
   ],
   "source": [
    "from sklearn.cluster import Birch\n",
    "\n",
    "clstr=Birch(branching_factor=50, n_clusters=10, threshold=0.5,compute_labels=True)\n",
    "clstr.fit(reduced_train_data) "
   ]
  },
  {
   "cell_type": "code",
   "execution_count": 120,
   "metadata": {
    "collapsed": false
   },
   "outputs": [
    {
     "data": {
      "text/plain": [
       "(10, 40)"
      ]
     },
     "execution_count": 120,
     "metadata": {},
     "output_type": "execute_result"
    }
   ],
   "source": [
    "clstr.cluster_centers_.shape"
   ]
  },
  {
   "cell_type": "code",
   "execution_count": 121,
   "metadata": {
    "collapsed": false
   },
   "outputs": [
    {
     "data": {
      "text/plain": [
       "array([[ 2.13042571,  2.01521862,  2.28947787,  3.671002  ,  3.75299726,\n",
       "         3.1674952 ,  3.31371772,  2.6505443 ,  2.15138824,  1.75159468,\n",
       "         4.01305798,  2.62718822,  3.09343981,  1.62868044,  2.28790049,\n",
       "         0.        ,  3.26977166,  2.93311165,  0.        ,  0.        ,\n",
       "         0.        ,  3.9603217 ,  1.6431366 ,  2.65388701,  0.        ,\n",
       "         2.0288977 ,  1.34957729,  0.        ,  0.        ,  3.67242154,\n",
       "         2.27213793,  0.        ,  3.43810674,  1.99683701,  0.        ,\n",
       "         0.        ,  2.64350504,  2.36368002,  0.        ,  2.00088676],\n",
       "       [ 3.9368753 ,  2.32765874,  1.42329208,  1.34509538,  4.92946841,\n",
       "         2.23984833,  2.47458964,  1.81885528,  2.35366523,  3.68895045,\n",
       "         2.12484993,  3.2591988 ,  2.00740454,  2.73070576,  2.11671215,\n",
       "         0.        ,  1.58076236,  4.25203605,  0.        ,  0.        ,\n",
       "         0.        ,  1.31553219,  4.23551445,  3.67836349,  0.        ,\n",
       "         1.6103709 ,  2.27778752,  0.        ,  0.        ,  4.09709934,\n",
       "         3.57037617,  0.        ,  2.92605674,  1.87522761,  0.        ,\n",
       "         0.        ,  2.50265319,  4.11369587,  0.        ,  2.37240937],\n",
       "       [ 2.7692959 ,  2.73526116,  2.82898629,  1.89138243,  2.42513195,\n",
       "         3.18765207,  3.18689826,  2.23981422,  3.38826546,  5.07804049,\n",
       "         2.17882398,  3.73078988,  1.65746778,  2.0977046 ,  2.70426251,\n",
       "         0.        ,  2.19224922,  3.32734574,  0.        ,  0.        ,\n",
       "         0.        ,  2.9671337 ,  2.76110238,  2.3754262 ,  0.        ,\n",
       "         2.58823135,  1.31186495,  0.        ,  0.        ,  2.41089893,\n",
       "         2.24474292,  0.        ,  2.89845762,  3.36172042,  0.        ,\n",
       "         0.        ,  1.90607743,  3.84075759,  0.        ,  2.59537617],\n",
       "       [ 2.08877639,  1.1199902 ,  4.49066174,  2.12473257,  5.42798126,\n",
       "         1.9619524 ,  2.28934603,  1.7274904 ,  3.58921061,  3.58543456,\n",
       "         2.69020106,  2.00508438,  1.15309491,  3.15629807,  2.02110139,\n",
       "         0.        ,  2.62262726,  3.98645494,  0.        ,  0.        ,\n",
       "         0.        ,  2.79863568,  3.00737345,  2.2901096 ,  0.        ,\n",
       "         3.09714228,  1.67787921,  0.        ,  0.        ,  2.7929808 ,\n",
       "         3.84562593,  0.        ,  2.59283511,  2.76425614,  0.        ,\n",
       "         0.        ,  1.95716791,  4.28841012,  0.        ,  2.3798438 ],\n",
       "       [ 0.55531328,  0.67126851,  1.33380361,  3.15247669,  1.76119205,\n",
       "         1.4845895 ,  2.85173649,  2.23117338,  1.53444986,  1.96611134,\n",
       "         1.19963903,  1.82141763,  2.16651896,  1.31238576,  1.28247514,\n",
       "         0.        ,  2.67717954,  2.64401323,  0.        ,  0.        ,\n",
       "         0.        ,  2.03031098,  3.24799987,  1.90997325,  0.        ,\n",
       "         1.76483275,  2.29132435,  0.        ,  0.        ,  1.6918963 ,\n",
       "         1.82891554,  0.        ,  1.03008448,  1.27566987,  0.        ,\n",
       "         0.        ,  1.54414956,  3.7113455 ,  0.        ,  1.3352224 ],\n",
       "       [ 1.53874283,  1.58152941,  2.74415317,  2.44790273,  3.79741565,\n",
       "         1.97817933,  3.09036   ,  1.69045807,  3.01492449,  1.68541687,\n",
       "         3.00389594,  2.48296757,  2.14830193,  1.84332984,  1.67784276,\n",
       "         0.        ,  2.61869205,  1.69483442,  0.        ,  0.        ,\n",
       "         0.        ,  2.45451204,  2.17391168,  2.43048727,  0.        ,\n",
       "         1.97751094,  1.60815062,  0.        ,  0.        ,  3.31112563,\n",
       "         1.69807055,  0.        ,  2.83287294,  2.49520508,  0.        ,\n",
       "         0.        ,  1.55368619,  4.99007847,  0.        ,  2.33833362],\n",
       "       [ 3.32385534,  2.46935653,  3.13175529,  2.76872541,  4.81800967,\n",
       "         3.1638308 ,  4.00830831,  2.66596333,  4.48524964,  4.05543409,\n",
       "         4.23999385,  3.44128537,  2.23987808,  3.1206863 ,  3.07025505,\n",
       "         0.        ,  3.52346335,  3.56184184,  0.        ,  0.        ,\n",
       "         0.        ,  3.46658389,  3.02302025,  3.35078066,  0.        ,\n",
       "         3.82459489,  2.12031593,  0.        ,  0.        ,  3.84606168,\n",
       "         2.12468387,  0.        ,  4.36429167,  3.32440501,  0.        ,\n",
       "         0.        ,  2.53762622,  4.70867485,  0.        ,  2.93525093],\n",
       "       [ 1.93784657,  3.31229108,  2.59347384,  3.17958889,  2.27123746,\n",
       "         2.89114747,  2.79553908,  2.15153002,  1.56371169,  2.73259166,\n",
       "         4.05489246,  2.16726129,  1.79690868,  2.88787886,  2.44365157,\n",
       "         0.        ,  1.48149638,  3.50247149,  0.        ,  0.        ,\n",
       "         0.        ,  1.63039497,  2.79154166,  2.08384325,  0.        ,\n",
       "         3.51088636,  1.60804921,  0.        ,  0.        ,  3.57631921,\n",
       "         2.95275025,  0.        ,  4.00393062,  2.83861924,  0.        ,\n",
       "         0.        ,  2.18609223,  1.52757246,  0.        ,  2.57151764],\n",
       "       [ 1.57156331,  1.88855486,  1.69697423,  2.7170891 ,  1.63395871,\n",
       "         2.07306757,  2.43364952,  1.72441809,  1.41883877,  2.18630847,\n",
       "         2.57148018,  1.99252959,  1.42157979,  1.46594241,  1.46951746,\n",
       "         0.        ,  1.66194386,  2.08173161,  0.        ,  0.        ,\n",
       "         0.        ,  1.95220465,  1.99119726,  1.76558972,  0.        ,\n",
       "         1.69875594,  1.01406101,  0.        ,  0.        ,  2.83748685,\n",
       "         1.89073932,  0.        ,  2.09753268,  1.58527245,  0.        ,\n",
       "         0.        ,  1.42081183,  2.03387985,  0.        ,  1.30798753],\n",
       "       [ 4.14084007,  3.46168942,  1.74960459,  1.27950236,  6.59320239,\n",
       "         1.78157447,  2.61473217,  1.6631667 ,  3.72785018,  4.60427093,\n",
       "         5.3403321 ,  3.13519727,  1.65847063,  1.36428294,  2.08986123,\n",
       "         0.        ,  1.9083308 ,  3.07514841,  0.        ,  0.        ,\n",
       "         0.        ,  2.26549106,  1.81391139,  4.42039979,  0.        ,\n",
       "         3.29127136,  2.18600673,  0.        ,  0.        ,  2.95226463,\n",
       "         2.37878607,  0.        ,  2.80058518,  3.7330218 ,  0.        ,\n",
       "         0.        ,  2.08497677,  2.97764718,  0.        ,  3.15583272]])"
      ]
     },
     "execution_count": 121,
     "metadata": {},
     "output_type": "execute_result"
    }
   ],
   "source": [
    "clstr.cluster_centers_"
   ]
  },
  {
   "cell_type": "code",
   "execution_count": 122,
   "metadata": {
    "collapsed": false
   },
   "outputs": [
    {
     "data": {
      "text/plain": [
       "(50000,)"
      ]
     },
     "execution_count": 122,
     "metadata": {},
     "output_type": "execute_result"
    }
   ],
   "source": [
    "clstr.labels_.shape"
   ]
  },
  {
   "cell_type": "code",
   "execution_count": 123,
   "metadata": {
    "collapsed": false
   },
   "outputs": [],
   "source": [
    "clstr_predicted = clstr.predict(reduced_test_data)\n",
    "#clstr_predicted = clstr.fit_transform(reduced_test_data) "
   ]
  },
  {
   "cell_type": "code",
   "execution_count": 124,
   "metadata": {
    "collapsed": false
   },
   "outputs": [
    {
     "name": "stdout",
     "output_type": "stream",
     "text": [
      "(10000,)\n",
      "(10000, 1)\n"
     ]
    }
   ],
   "source": [
    "cluster= clstr_predicted\n",
    "print (cluster.shape)\n",
    "cluster=cluster.reshape(10000,1)\n",
    "print (cluster.shape)"
   ]
  },
  {
   "cell_type": "code",
   "execution_count": 125,
   "metadata": {
    "collapsed": false
   },
   "outputs": [
    {
     "data": {
      "text/plain": [
       "array([0, 1, 2, 3, 4, 5, 6, 7, 8, 9], dtype=int32)"
      ]
     },
     "execution_count": 125,
     "metadata": {},
     "output_type": "execute_result"
    }
   ],
   "source": [
    "np.unique(cluster)"
   ]
  },
  {
   "cell_type": "code",
   "execution_count": 126,
   "metadata": {
    "collapsed": false
   },
   "outputs": [
    {
     "data": {
      "text/plain": [
       "array([ 0.,  1.,  2.,  3.,  4.,  5.,  6.,  7.,  8.,  9.])"
      ]
     },
     "execution_count": 126,
     "metadata": {},
     "output_type": "execute_result"
    }
   ],
   "source": [
    "np.unique(test_df.Label)"
   ]
  },
  {
   "cell_type": "code",
   "execution_count": 127,
   "metadata": {
    "collapsed": false
   },
   "outputs": [
    {
     "data": {
      "text/html": [
       "<div>\n",
       "<table border=\"1\" class=\"dataframe\">\n",
       "  <thead>\n",
       "    <tr style=\"text-align: right;\">\n",
       "      <th></th>\n",
       "      <th>0</th>\n",
       "      <th>1</th>\n",
       "      <th>2</th>\n",
       "      <th>3</th>\n",
       "      <th>4</th>\n",
       "      <th>5</th>\n",
       "      <th>6</th>\n",
       "      <th>7</th>\n",
       "      <th>8</th>\n",
       "      <th>9</th>\n",
       "      <th>...</th>\n",
       "      <th>32</th>\n",
       "      <th>33</th>\n",
       "      <th>34</th>\n",
       "      <th>35</th>\n",
       "      <th>36</th>\n",
       "      <th>37</th>\n",
       "      <th>38</th>\n",
       "      <th>39</th>\n",
       "      <th>Label</th>\n",
       "      <th>Cluster</th>\n",
       "    </tr>\n",
       "  </thead>\n",
       "  <tbody>\n",
       "    <tr>\n",
       "      <th>0</th>\n",
       "      <td>1.439396</td>\n",
       "      <td>1.533758</td>\n",
       "      <td>1.705850</td>\n",
       "      <td>2.993416</td>\n",
       "      <td>2.606283</td>\n",
       "      <td>3.178577</td>\n",
       "      <td>2.522242</td>\n",
       "      <td>2.848150</td>\n",
       "      <td>1.819115</td>\n",
       "      <td>0.940211</td>\n",
       "      <td>...</td>\n",
       "      <td>0.962655</td>\n",
       "      <td>1.472043</td>\n",
       "      <td>0.0</td>\n",
       "      <td>0.0</td>\n",
       "      <td>2.228551</td>\n",
       "      <td>0.698205</td>\n",
       "      <td>0.0</td>\n",
       "      <td>1.091734</td>\n",
       "      <td>7.0</td>\n",
       "      <td>0</td>\n",
       "    </tr>\n",
       "    <tr>\n",
       "      <th>1</th>\n",
       "      <td>3.876988</td>\n",
       "      <td>0.288837</td>\n",
       "      <td>1.514825</td>\n",
       "      <td>2.628214</td>\n",
       "      <td>4.046387</td>\n",
       "      <td>0.837923</td>\n",
       "      <td>2.547393</td>\n",
       "      <td>1.315813</td>\n",
       "      <td>2.081404</td>\n",
       "      <td>6.372713</td>\n",
       "      <td>...</td>\n",
       "      <td>1.920950</td>\n",
       "      <td>3.983616</td>\n",
       "      <td>0.0</td>\n",
       "      <td>0.0</td>\n",
       "      <td>1.879533</td>\n",
       "      <td>7.051126</td>\n",
       "      <td>0.0</td>\n",
       "      <td>1.306167</td>\n",
       "      <td>2.0</td>\n",
       "      <td>3</td>\n",
       "    </tr>\n",
       "    <tr>\n",
       "      <th>2</th>\n",
       "      <td>0.000000</td>\n",
       "      <td>0.860552</td>\n",
       "      <td>1.039834</td>\n",
       "      <td>2.888837</td>\n",
       "      <td>1.980653</td>\n",
       "      <td>1.164428</td>\n",
       "      <td>2.667731</td>\n",
       "      <td>1.959471</td>\n",
       "      <td>1.125587</td>\n",
       "      <td>0.797308</td>\n",
       "      <td>...</td>\n",
       "      <td>1.085797</td>\n",
       "      <td>1.518367</td>\n",
       "      <td>0.0</td>\n",
       "      <td>0.0</td>\n",
       "      <td>1.280862</td>\n",
       "      <td>3.333719</td>\n",
       "      <td>0.0</td>\n",
       "      <td>0.862952</td>\n",
       "      <td>1.0</td>\n",
       "      <td>4</td>\n",
       "    </tr>\n",
       "    <tr>\n",
       "      <th>3</th>\n",
       "      <td>4.746442</td>\n",
       "      <td>2.616378</td>\n",
       "      <td>1.453264</td>\n",
       "      <td>1.690279</td>\n",
       "      <td>7.269545</td>\n",
       "      <td>2.916892</td>\n",
       "      <td>3.879184</td>\n",
       "      <td>2.672343</td>\n",
       "      <td>2.504143</td>\n",
       "      <td>5.752549</td>\n",
       "      <td>...</td>\n",
       "      <td>2.177196</td>\n",
       "      <td>3.035470</td>\n",
       "      <td>0.0</td>\n",
       "      <td>0.0</td>\n",
       "      <td>2.508161</td>\n",
       "      <td>2.855093</td>\n",
       "      <td>0.0</td>\n",
       "      <td>2.298105</td>\n",
       "      <td>0.0</td>\n",
       "      <td>9</td>\n",
       "    </tr>\n",
       "    <tr>\n",
       "      <th>4</th>\n",
       "      <td>0.785093</td>\n",
       "      <td>2.686178</td>\n",
       "      <td>2.199318</td>\n",
       "      <td>1.730256</td>\n",
       "      <td>1.738629</td>\n",
       "      <td>2.907272</td>\n",
       "      <td>0.339924</td>\n",
       "      <td>0.638922</td>\n",
       "      <td>1.014574</td>\n",
       "      <td>2.956997</td>\n",
       "      <td>...</td>\n",
       "      <td>3.805755</td>\n",
       "      <td>1.695995</td>\n",
       "      <td>0.0</td>\n",
       "      <td>0.0</td>\n",
       "      <td>1.575763</td>\n",
       "      <td>1.248279</td>\n",
       "      <td>0.0</td>\n",
       "      <td>0.966686</td>\n",
       "      <td>4.0</td>\n",
       "      <td>7</td>\n",
       "    </tr>\n",
       "    <tr>\n",
       "      <th>5</th>\n",
       "      <td>0.000000</td>\n",
       "      <td>0.907846</td>\n",
       "      <td>1.860091</td>\n",
       "      <td>3.956175</td>\n",
       "      <td>2.304809</td>\n",
       "      <td>1.511563</td>\n",
       "      <td>3.293231</td>\n",
       "      <td>2.254326</td>\n",
       "      <td>1.606786</td>\n",
       "      <td>0.822425</td>\n",
       "      <td>...</td>\n",
       "      <td>1.460905</td>\n",
       "      <td>2.256330</td>\n",
       "      <td>0.0</td>\n",
       "      <td>0.0</td>\n",
       "      <td>2.147204</td>\n",
       "      <td>3.919574</td>\n",
       "      <td>0.0</td>\n",
       "      <td>1.328986</td>\n",
       "      <td>1.0</td>\n",
       "      <td>4</td>\n",
       "    </tr>\n",
       "    <tr>\n",
       "      <th>6</th>\n",
       "      <td>2.702995</td>\n",
       "      <td>2.322701</td>\n",
       "      <td>2.816763</td>\n",
       "      <td>3.447740</td>\n",
       "      <td>1.367013</td>\n",
       "      <td>4.249677</td>\n",
       "      <td>2.182889</td>\n",
       "      <td>2.405000</td>\n",
       "      <td>1.799878</td>\n",
       "      <td>2.467507</td>\n",
       "      <td>...</td>\n",
       "      <td>4.551793</td>\n",
       "      <td>1.597749</td>\n",
       "      <td>0.0</td>\n",
       "      <td>0.0</td>\n",
       "      <td>3.952549</td>\n",
       "      <td>2.051163</td>\n",
       "      <td>0.0</td>\n",
       "      <td>0.131553</td>\n",
       "      <td>4.0</td>\n",
       "      <td>8</td>\n",
       "    </tr>\n",
       "    <tr>\n",
       "      <th>7</th>\n",
       "      <td>0.722199</td>\n",
       "      <td>1.703578</td>\n",
       "      <td>0.804774</td>\n",
       "      <td>3.079304</td>\n",
       "      <td>1.651042</td>\n",
       "      <td>3.565207</td>\n",
       "      <td>2.313997</td>\n",
       "      <td>2.176391</td>\n",
       "      <td>0.811945</td>\n",
       "      <td>3.888415</td>\n",
       "      <td>...</td>\n",
       "      <td>3.381603</td>\n",
       "      <td>3.389746</td>\n",
       "      <td>0.0</td>\n",
       "      <td>0.0</td>\n",
       "      <td>0.708761</td>\n",
       "      <td>2.493856</td>\n",
       "      <td>0.0</td>\n",
       "      <td>4.601983</td>\n",
       "      <td>9.0</td>\n",
       "      <td>7</td>\n",
       "    </tr>\n",
       "    <tr>\n",
       "      <th>8</th>\n",
       "      <td>0.989394</td>\n",
       "      <td>2.781055</td>\n",
       "      <td>0.650421</td>\n",
       "      <td>2.817640</td>\n",
       "      <td>2.628393</td>\n",
       "      <td>0.216995</td>\n",
       "      <td>2.154655</td>\n",
       "      <td>1.524497</td>\n",
       "      <td>3.431820</td>\n",
       "      <td>1.541411</td>\n",
       "      <td>...</td>\n",
       "      <td>4.225015</td>\n",
       "      <td>0.684533</td>\n",
       "      <td>0.0</td>\n",
       "      <td>0.0</td>\n",
       "      <td>4.160695</td>\n",
       "      <td>4.556440</td>\n",
       "      <td>0.0</td>\n",
       "      <td>4.578584</td>\n",
       "      <td>5.0</td>\n",
       "      <td>7</td>\n",
       "    </tr>\n",
       "    <tr>\n",
       "      <th>9</th>\n",
       "      <td>3.128580</td>\n",
       "      <td>3.148782</td>\n",
       "      <td>2.128575</td>\n",
       "      <td>3.491287</td>\n",
       "      <td>5.596357</td>\n",
       "      <td>3.876930</td>\n",
       "      <td>3.640956</td>\n",
       "      <td>3.677432</td>\n",
       "      <td>2.751041</td>\n",
       "      <td>1.463485</td>\n",
       "      <td>...</td>\n",
       "      <td>5.100587</td>\n",
       "      <td>2.119728</td>\n",
       "      <td>0.0</td>\n",
       "      <td>0.0</td>\n",
       "      <td>3.042178</td>\n",
       "      <td>2.017816</td>\n",
       "      <td>0.0</td>\n",
       "      <td>3.169679</td>\n",
       "      <td>9.0</td>\n",
       "      <td>0</td>\n",
       "    </tr>\n",
       "  </tbody>\n",
       "</table>\n",
       "<p>10 rows × 42 columns</p>\n",
       "</div>"
      ],
      "text/plain": [
       "          0         1         2         3         4         5         6  \\\n",
       "0  1.439396  1.533758  1.705850  2.993416  2.606283  3.178577  2.522242   \n",
       "1  3.876988  0.288837  1.514825  2.628214  4.046387  0.837923  2.547393   \n",
       "2  0.000000  0.860552  1.039834  2.888837  1.980653  1.164428  2.667731   \n",
       "3  4.746442  2.616378  1.453264  1.690279  7.269545  2.916892  3.879184   \n",
       "4  0.785093  2.686178  2.199318  1.730256  1.738629  2.907272  0.339924   \n",
       "5  0.000000  0.907846  1.860091  3.956175  2.304809  1.511563  3.293231   \n",
       "6  2.702995  2.322701  2.816763  3.447740  1.367013  4.249677  2.182889   \n",
       "7  0.722199  1.703578  0.804774  3.079304  1.651042  3.565207  2.313997   \n",
       "8  0.989394  2.781055  0.650421  2.817640  2.628393  0.216995  2.154655   \n",
       "9  3.128580  3.148782  2.128575  3.491287  5.596357  3.876930  3.640956   \n",
       "\n",
       "          7         8         9   ...           32        33   34   35  \\\n",
       "0  2.848150  1.819115  0.940211   ...     0.962655  1.472043  0.0  0.0   \n",
       "1  1.315813  2.081404  6.372713   ...     1.920950  3.983616  0.0  0.0   \n",
       "2  1.959471  1.125587  0.797308   ...     1.085797  1.518367  0.0  0.0   \n",
       "3  2.672343  2.504143  5.752549   ...     2.177196  3.035470  0.0  0.0   \n",
       "4  0.638922  1.014574  2.956997   ...     3.805755  1.695995  0.0  0.0   \n",
       "5  2.254326  1.606786  0.822425   ...     1.460905  2.256330  0.0  0.0   \n",
       "6  2.405000  1.799878  2.467507   ...     4.551793  1.597749  0.0  0.0   \n",
       "7  2.176391  0.811945  3.888415   ...     3.381603  3.389746  0.0  0.0   \n",
       "8  1.524497  3.431820  1.541411   ...     4.225015  0.684533  0.0  0.0   \n",
       "9  3.677432  2.751041  1.463485   ...     5.100587  2.119728  0.0  0.0   \n",
       "\n",
       "         36        37   38        39  Label  Cluster  \n",
       "0  2.228551  0.698205  0.0  1.091734    7.0        0  \n",
       "1  1.879533  7.051126  0.0  1.306167    2.0        3  \n",
       "2  1.280862  3.333719  0.0  0.862952    1.0        4  \n",
       "3  2.508161  2.855093  0.0  2.298105    0.0        9  \n",
       "4  1.575763  1.248279  0.0  0.966686    4.0        7  \n",
       "5  2.147204  3.919574  0.0  1.328986    1.0        4  \n",
       "6  3.952549  2.051163  0.0  0.131553    4.0        8  \n",
       "7  0.708761  2.493856  0.0  4.601983    9.0        7  \n",
       "8  4.160695  4.556440  0.0  4.578584    5.0        7  \n",
       "9  3.042178  2.017816  0.0  3.169679    9.0        0  \n",
       "\n",
       "[10 rows x 42 columns]"
      ]
     },
     "execution_count": 127,
     "metadata": {},
     "output_type": "execute_result"
    }
   ],
   "source": [
    "test_df['Cluster'] = pd.DataFrame(cluster)\n",
    "test_df.head(10)"
   ]
  },
  {
   "cell_type": "code",
   "execution_count": 128,
   "metadata": {
    "collapsed": false
   },
   "outputs": [
    {
     "data": {
      "text/plain": [
       "array([[<matplotlib.axes._subplots.AxesSubplot object at 0x7fd69cb71898>,\n",
       "        <matplotlib.axes._subplots.AxesSubplot object at 0x7fd6b083ae80>,\n",
       "        <matplotlib.axes._subplots.AxesSubplot object at 0x7fd69cba4828>],\n",
       "       [<matplotlib.axes._subplots.AxesSubplot object at 0x7fd69cbf9390>,\n",
       "        <matplotlib.axes._subplots.AxesSubplot object at 0x7fd6b07cf4a8>,\n",
       "        <matplotlib.axes._subplots.AxesSubplot object at 0x7fd6acde60f0>],\n",
       "       [<matplotlib.axes._subplots.AxesSubplot object at 0x7fd6acdb1128>,\n",
       "        <matplotlib.axes._subplots.AxesSubplot object at 0x7fd6acd6b0b8>,\n",
       "        <matplotlib.axes._subplots.AxesSubplot object at 0x7fd6acd31908>],\n",
       "       [<matplotlib.axes._subplots.AxesSubplot object at 0x7fd6acceeb38>,\n",
       "        <matplotlib.axes._subplots.AxesSubplot object at 0x7fd6accba4e0>,\n",
       "        <matplotlib.axes._subplots.AxesSubplot object at 0x7fd6acc83b38>]], dtype=object)"
      ]
     },
     "execution_count": 128,
     "metadata": {},
     "output_type": "execute_result"
    },
    {
     "data": {
      "image/png": "[encoded data removed]",
      "text/plain": [
       "<matplotlib.figure.Figure at 0x7fd69cb58198>"
      ]
     },
     "metadata": {},
     "output_type": "display_data"
    }
   ],
   "source": [
    "test_df['Cluster'].hist(by=test_df['Label'])"
   ]
  },
  {
   "cell_type": "code",
   "execution_count": 129,
   "metadata": {
    "collapsed": false
   },
   "outputs": [
    {
     "data": {
      "text/plain": [
       "Label  Cluster\n",
       "0.0    0            3\n",
       "       1           63\n",
       "       2           35\n",
       "       3            3\n",
       "       5           30\n",
       "       6           75\n",
       "       7            1\n",
       "       8           57\n",
       "       9          713\n",
       "1.0    1            3\n",
       "       2            6\n",
       "       3            1\n",
       "       4          872\n",
       "       5          238\n",
       "       6            3\n",
       "       7            1\n",
       "       8           11\n",
       "2.0    0            5\n",
       "       1           13\n",
       "       2           23\n",
       "       3          712\n",
       "       4           53\n",
       "       5           81\n",
       "       6           52\n",
       "       7            5\n",
       "       8           68\n",
       "       9           20\n",
       "3.0    0           14\n",
       "       1            6\n",
       "       2          575\n",
       "                 ... \n",
       "6.0    9           21\n",
       "7.0    0          507\n",
       "       2            1\n",
       "       3            6\n",
       "       4           30\n",
       "       5           33\n",
       "       6           18\n",
       "       7          120\n",
       "       8          312\n",
       "       9            1\n",
       "8.0    0           69\n",
       "       1            6\n",
       "       2          222\n",
       "       3            3\n",
       "       4           17\n",
       "       5          208\n",
       "       6          369\n",
       "       7           19\n",
       "       8           60\n",
       "       9            1\n",
       "9.0    0          326\n",
       "       1            1\n",
       "       2            9\n",
       "       3            3\n",
       "       4           11\n",
       "       5            4\n",
       "       6           26\n",
       "       7          393\n",
       "       8          233\n",
       "       9            3\n",
       "Name: Cluster, dtype: int64"
      ]
     },
     "execution_count": 129,
     "metadata": {},
     "output_type": "execute_result"
    }
   ],
   "source": [
    "test_df.groupby(['Label','Cluster'])['Cluster'].count()"
   ]
  },
  {
   "cell_type": "code",
   "execution_count": 67,
   "metadata": {
    "collapsed": false
   },
   "outputs": [],
   "source": [
    "test_df['Vairance'] = pd.DataFrame(test_df.Label - test_df.Cluster)"
   ]
  },
  {
   "cell_type": "code",
   "execution_count": 130,
   "metadata": {
    "collapsed": false
   },
   "outputs": [
    {
     "data": {
      "text/html": [
       "<div>\n",
       "<table border=\"1\" class=\"dataframe\">\n",
       "  <thead>\n",
       "    <tr style=\"text-align: right;\">\n",
       "      <th></th>\n",
       "      <th>0</th>\n",
       "      <th>1</th>\n",
       "      <th>2</th>\n",
       "      <th>3</th>\n",
       "      <th>4</th>\n",
       "      <th>5</th>\n",
       "      <th>6</th>\n",
       "      <th>7</th>\n",
       "      <th>8</th>\n",
       "      <th>9</th>\n",
       "      <th>...</th>\n",
       "      <th>32</th>\n",
       "      <th>33</th>\n",
       "      <th>34</th>\n",
       "      <th>35</th>\n",
       "      <th>36</th>\n",
       "      <th>37</th>\n",
       "      <th>38</th>\n",
       "      <th>39</th>\n",
       "      <th>Label</th>\n",
       "      <th>Cluster</th>\n",
       "    </tr>\n",
       "  </thead>\n",
       "  <tbody>\n",
       "    <tr>\n",
       "      <th>0</th>\n",
       "      <td>1.439396</td>\n",
       "      <td>1.533758</td>\n",
       "      <td>1.705850</td>\n",
       "      <td>2.993416</td>\n",
       "      <td>2.606283</td>\n",
       "      <td>3.178577</td>\n",
       "      <td>2.522242</td>\n",
       "      <td>2.848150</td>\n",
       "      <td>1.819115</td>\n",
       "      <td>0.940211</td>\n",
       "      <td>...</td>\n",
       "      <td>0.962655</td>\n",
       "      <td>1.472043</td>\n",
       "      <td>0.0</td>\n",
       "      <td>0.0</td>\n",
       "      <td>2.228551</td>\n",
       "      <td>0.698205</td>\n",
       "      <td>0.0</td>\n",
       "      <td>1.091734</td>\n",
       "      <td>7.0</td>\n",
       "      <td>0</td>\n",
       "    </tr>\n",
       "    <tr>\n",
       "      <th>1</th>\n",
       "      <td>3.876988</td>\n",
       "      <td>0.288837</td>\n",
       "      <td>1.514825</td>\n",
       "      <td>2.628214</td>\n",
       "      <td>4.046387</td>\n",
       "      <td>0.837923</td>\n",
       "      <td>2.547393</td>\n",
       "      <td>1.315813</td>\n",
       "      <td>2.081404</td>\n",
       "      <td>6.372713</td>\n",
       "      <td>...</td>\n",
       "      <td>1.920950</td>\n",
       "      <td>3.983616</td>\n",
       "      <td>0.0</td>\n",
       "      <td>0.0</td>\n",
       "      <td>1.879533</td>\n",
       "      <td>7.051126</td>\n",
       "      <td>0.0</td>\n",
       "      <td>1.306167</td>\n",
       "      <td>2.0</td>\n",
       "      <td>3</td>\n",
       "    </tr>\n",
       "    <tr>\n",
       "      <th>2</th>\n",
       "      <td>0.000000</td>\n",
       "      <td>0.860552</td>\n",
       "      <td>1.039834</td>\n",
       "      <td>2.888837</td>\n",
       "      <td>1.980653</td>\n",
       "      <td>1.164428</td>\n",
       "      <td>2.667731</td>\n",
       "      <td>1.959471</td>\n",
       "      <td>1.125587</td>\n",
       "      <td>0.797308</td>\n",
       "      <td>...</td>\n",
       "      <td>1.085797</td>\n",
       "      <td>1.518367</td>\n",
       "      <td>0.0</td>\n",
       "      <td>0.0</td>\n",
       "      <td>1.280862</td>\n",
       "      <td>3.333719</td>\n",
       "      <td>0.0</td>\n",
       "      <td>0.862952</td>\n",
       "      <td>1.0</td>\n",
       "      <td>4</td>\n",
       "    </tr>\n",
       "    <tr>\n",
       "      <th>3</th>\n",
       "      <td>4.746442</td>\n",
       "      <td>2.616378</td>\n",
       "      <td>1.453264</td>\n",
       "      <td>1.690279</td>\n",
       "      <td>7.269545</td>\n",
       "      <td>2.916892</td>\n",
       "      <td>3.879184</td>\n",
       "      <td>2.672343</td>\n",
       "      <td>2.504143</td>\n",
       "      <td>5.752549</td>\n",
       "      <td>...</td>\n",
       "      <td>2.177196</td>\n",
       "      <td>3.035470</td>\n",
       "      <td>0.0</td>\n",
       "      <td>0.0</td>\n",
       "      <td>2.508161</td>\n",
       "      <td>2.855093</td>\n",
       "      <td>0.0</td>\n",
       "      <td>2.298105</td>\n",
       "      <td>0.0</td>\n",
       "      <td>9</td>\n",
       "    </tr>\n",
       "    <tr>\n",
       "      <th>4</th>\n",
       "      <td>0.785093</td>\n",
       "      <td>2.686178</td>\n",
       "      <td>2.199318</td>\n",
       "      <td>1.730256</td>\n",
       "      <td>1.738629</td>\n",
       "      <td>2.907272</td>\n",
       "      <td>0.339924</td>\n",
       "      <td>0.638922</td>\n",
       "      <td>1.014574</td>\n",
       "      <td>2.956997</td>\n",
       "      <td>...</td>\n",
       "      <td>3.805755</td>\n",
       "      <td>1.695995</td>\n",
       "      <td>0.0</td>\n",
       "      <td>0.0</td>\n",
       "      <td>1.575763</td>\n",
       "      <td>1.248279</td>\n",
       "      <td>0.0</td>\n",
       "      <td>0.966686</td>\n",
       "      <td>4.0</td>\n",
       "      <td>7</td>\n",
       "    </tr>\n",
       "  </tbody>\n",
       "</table>\n",
       "<p>5 rows × 42 columns</p>\n",
       "</div>"
      ],
      "text/plain": [
       "          0         1         2         3         4         5         6  \\\n",
       "0  1.439396  1.533758  1.705850  2.993416  2.606283  3.178577  2.522242   \n",
       "1  3.876988  0.288837  1.514825  2.628214  4.046387  0.837923  2.547393   \n",
       "2  0.000000  0.860552  1.039834  2.888837  1.980653  1.164428  2.667731   \n",
       "3  4.746442  2.616378  1.453264  1.690279  7.269545  2.916892  3.879184   \n",
       "4  0.785093  2.686178  2.199318  1.730256  1.738629  2.907272  0.339924   \n",
       "\n",
       "          7         8         9   ...           32        33   34   35  \\\n",
       "0  2.848150  1.819115  0.940211   ...     0.962655  1.472043  0.0  0.0   \n",
       "1  1.315813  2.081404  6.372713   ...     1.920950  3.983616  0.0  0.0   \n",
       "2  1.959471  1.125587  0.797308   ...     1.085797  1.518367  0.0  0.0   \n",
       "3  2.672343  2.504143  5.752549   ...     2.177196  3.035470  0.0  0.0   \n",
       "4  0.638922  1.014574  2.956997   ...     3.805755  1.695995  0.0  0.0   \n",
       "\n",
       "         36        37   38        39  Label  Cluster  \n",
       "0  2.228551  0.698205  0.0  1.091734    7.0        0  \n",
       "1  1.879533  7.051126  0.0  1.306167    2.0        3  \n",
       "2  1.280862  3.333719  0.0  0.862952    1.0        4  \n",
       "3  2.508161  2.855093  0.0  2.298105    0.0        9  \n",
       "4  1.575763  1.248279  0.0  0.966686    4.0        7  \n",
       "\n",
       "[5 rows x 42 columns]"
      ]
     },
     "execution_count": 130,
     "metadata": {},
     "output_type": "execute_result"
    }
   ],
   "source": [
    "test_df.head()"
   ]
  },
  {
   "cell_type": "code",
   "execution_count": 131,
   "metadata": {
    "collapsed": false
   },
   "outputs": [
    {
     "data": {
      "text/html": [
       "<div>\n",
       "<table border=\"1\" class=\"dataframe\">\n",
       "  <thead>\n",
       "    <tr style=\"text-align: right;\">\n",
       "      <th></th>\n",
       "      <th>0</th>\n",
       "      <th>1</th>\n",
       "      <th>2</th>\n",
       "      <th>3</th>\n",
       "      <th>4</th>\n",
       "      <th>5</th>\n",
       "      <th>6</th>\n",
       "      <th>7</th>\n",
       "      <th>8</th>\n",
       "      <th>9</th>\n",
       "      <th>...</th>\n",
       "      <th>32</th>\n",
       "      <th>33</th>\n",
       "      <th>34</th>\n",
       "      <th>35</th>\n",
       "      <th>36</th>\n",
       "      <th>37</th>\n",
       "      <th>38</th>\n",
       "      <th>39</th>\n",
       "      <th>Label</th>\n",
       "      <th>Cluster</th>\n",
       "    </tr>\n",
       "  </thead>\n",
       "  <tbody>\n",
       "    <tr>\n",
       "      <th>count</th>\n",
       "      <td>10000.000000</td>\n",
       "      <td>10000.000000</td>\n",
       "      <td>10000.000000</td>\n",
       "      <td>10000.000000</td>\n",
       "      <td>10000.000000</td>\n",
       "      <td>10000.000000</td>\n",
       "      <td>10000.000000</td>\n",
       "      <td>10000.000000</td>\n",
       "      <td>10000.000000</td>\n",
       "      <td>10000.000000</td>\n",
       "      <td>...</td>\n",
       "      <td>10000.000000</td>\n",
       "      <td>10000.000000</td>\n",
       "      <td>10000.0</td>\n",
       "      <td>10000.0</td>\n",
       "      <td>10000.000000</td>\n",
       "      <td>10000.000000</td>\n",
       "      <td>10000.0</td>\n",
       "      <td>10000.000000</td>\n",
       "      <td>10000.000000</td>\n",
       "      <td>10000.000000</td>\n",
       "    </tr>\n",
       "    <tr>\n",
       "      <th>mean</th>\n",
       "      <td>2.320601</td>\n",
       "      <td>2.141341</td>\n",
       "      <td>2.350264</td>\n",
       "      <td>2.568826</td>\n",
       "      <td>3.482336</td>\n",
       "      <td>2.470676</td>\n",
       "      <td>2.946397</td>\n",
       "      <td>2.105223</td>\n",
       "      <td>2.643307</td>\n",
       "      <td>3.081644</td>\n",
       "      <td>...</td>\n",
       "      <td>2.874107</td>\n",
       "      <td>2.402513</td>\n",
       "      <td>0.0</td>\n",
       "      <td>0.0</td>\n",
       "      <td>2.055657</td>\n",
       "      <td>3.396554</td>\n",
       "      <td>0.0</td>\n",
       "      <td>2.167426</td>\n",
       "      <td>4.443400</td>\n",
       "      <td>4.469900</td>\n",
       "    </tr>\n",
       "    <tr>\n",
       "      <th>std</th>\n",
       "      <td>1.478106</td>\n",
       "      <td>1.240657</td>\n",
       "      <td>1.315089</td>\n",
       "      <td>1.215278</td>\n",
       "      <td>2.064826</td>\n",
       "      <td>1.102161</td>\n",
       "      <td>1.091409</td>\n",
       "      <td>0.937434</td>\n",
       "      <td>1.391304</td>\n",
       "      <td>1.663919</td>\n",
       "      <td>...</td>\n",
       "      <td>1.427291</td>\n",
       "      <td>1.277320</td>\n",
       "      <td>0.0</td>\n",
       "      <td>0.0</td>\n",
       "      <td>1.027588</td>\n",
       "      <td>1.586462</td>\n",
       "      <td>0.0</td>\n",
       "      <td>1.324409</td>\n",
       "      <td>2.895865</td>\n",
       "      <td>2.887616</td>\n",
       "    </tr>\n",
       "    <tr>\n",
       "      <th>min</th>\n",
       "      <td>0.000000</td>\n",
       "      <td>0.000000</td>\n",
       "      <td>0.000000</td>\n",
       "      <td>0.000000</td>\n",
       "      <td>0.000000</td>\n",
       "      <td>0.000000</td>\n",
       "      <td>0.000000</td>\n",
       "      <td>0.000000</td>\n",
       "      <td>0.000000</td>\n",
       "      <td>0.000000</td>\n",
       "      <td>...</td>\n",
       "      <td>0.000000</td>\n",
       "      <td>0.000000</td>\n",
       "      <td>0.0</td>\n",
       "      <td>0.0</td>\n",
       "      <td>0.000000</td>\n",
       "      <td>0.000000</td>\n",
       "      <td>0.0</td>\n",
       "      <td>0.000000</td>\n",
       "      <td>0.000000</td>\n",
       "      <td>0.000000</td>\n",
       "    </tr>\n",
       "    <tr>\n",
       "      <th>25%</th>\n",
       "      <td>1.245947</td>\n",
       "      <td>1.183887</td>\n",
       "      <td>1.402701</td>\n",
       "      <td>1.664216</td>\n",
       "      <td>1.881223</td>\n",
       "      <td>1.622943</td>\n",
       "      <td>2.250474</td>\n",
       "      <td>1.442623</td>\n",
       "      <td>1.540446</td>\n",
       "      <td>1.852023</td>\n",
       "      <td>...</td>\n",
       "      <td>1.893954</td>\n",
       "      <td>1.479638</td>\n",
       "      <td>0.0</td>\n",
       "      <td>0.0</td>\n",
       "      <td>1.321352</td>\n",
       "      <td>2.215043</td>\n",
       "      <td>0.0</td>\n",
       "      <td>1.181993</td>\n",
       "      <td>2.000000</td>\n",
       "      <td>2.000000</td>\n",
       "    </tr>\n",
       "    <tr>\n",
       "      <th>50%</th>\n",
       "      <td>2.149874</td>\n",
       "      <td>2.063359</td>\n",
       "      <td>2.144441</td>\n",
       "      <td>2.526801</td>\n",
       "      <td>3.235991</td>\n",
       "      <td>2.395341</td>\n",
       "      <td>3.002272</td>\n",
       "      <td>2.117733</td>\n",
       "      <td>2.511769</td>\n",
       "      <td>2.908856</td>\n",
       "      <td>...</td>\n",
       "      <td>2.893382</td>\n",
       "      <td>2.316023</td>\n",
       "      <td>0.0</td>\n",
       "      <td>0.0</td>\n",
       "      <td>1.961714</td>\n",
       "      <td>3.429307</td>\n",
       "      <td>0.0</td>\n",
       "      <td>1.970621</td>\n",
       "      <td>4.000000</td>\n",
       "      <td>5.000000</td>\n",
       "    </tr>\n",
       "    <tr>\n",
       "      <th>75%</th>\n",
       "      <td>3.205377</td>\n",
       "      <td>2.974270</td>\n",
       "      <td>3.104858</td>\n",
       "      <td>3.447505</td>\n",
       "      <td>4.850150</td>\n",
       "      <td>3.228653</td>\n",
       "      <td>3.678726</td>\n",
       "      <td>2.769303</td>\n",
       "      <td>3.653602</td>\n",
       "      <td>4.277022</td>\n",
       "      <td>...</td>\n",
       "      <td>3.848012</td>\n",
       "      <td>3.244988</td>\n",
       "      <td>0.0</td>\n",
       "      <td>0.0</td>\n",
       "      <td>2.695083</td>\n",
       "      <td>4.513322</td>\n",
       "      <td>0.0</td>\n",
       "      <td>3.044030</td>\n",
       "      <td>7.000000</td>\n",
       "      <td>7.000000</td>\n",
       "    </tr>\n",
       "    <tr>\n",
       "      <th>max</th>\n",
       "      <td>8.526831</td>\n",
       "      <td>7.031223</td>\n",
       "      <td>8.093109</td>\n",
       "      <td>6.250950</td>\n",
       "      <td>10.171324</td>\n",
       "      <td>6.767524</td>\n",
       "      <td>6.519832</td>\n",
       "      <td>5.283956</td>\n",
       "      <td>6.969714</td>\n",
       "      <td>8.271577</td>\n",
       "      <td>...</td>\n",
       "      <td>7.962352</td>\n",
       "      <td>7.429311</td>\n",
       "      <td>0.0</td>\n",
       "      <td>0.0</td>\n",
       "      <td>6.465517</td>\n",
       "      <td>8.619820</td>\n",
       "      <td>0.0</td>\n",
       "      <td>7.539230</td>\n",
       "      <td>9.000000</td>\n",
       "      <td>9.000000</td>\n",
       "    </tr>\n",
       "  </tbody>\n",
       "</table>\n",
       "<p>8 rows × 42 columns</p>\n",
       "</div>"
      ],
      "text/plain": [
       "                  0             1             2             3             4  \\\n",
       "count  10000.000000  10000.000000  10000.000000  10000.000000  10000.000000   \n",
       "mean       2.320601      2.141341      2.350264      2.568826      3.482336   \n",
       "std        1.478106      1.240657      1.315089      1.215278      2.064826   \n",
       "min        0.000000      0.000000      0.000000      0.000000      0.000000   \n",
       "25%        1.245947      1.183887      1.402701      1.664216      1.881223   \n",
       "50%        2.149874      2.063359      2.144441      2.526801      3.235991   \n",
       "75%        3.205377      2.974270      3.104858      3.447505      4.850150   \n",
       "max        8.526831      7.031223      8.093109      6.250950     10.171324   \n",
       "\n",
       "                  5             6             7             8             9  \\\n",
       "count  10000.000000  10000.000000  10000.000000  10000.000000  10000.000000   \n",
       "mean       2.470676      2.946397      2.105223      2.643307      3.081644   \n",
       "std        1.102161      1.091409      0.937434      1.391304      1.663919   \n",
       "min        0.000000      0.000000      0.000000      0.000000      0.000000   \n",
       "25%        1.622943      2.250474      1.442623      1.540446      1.852023   \n",
       "50%        2.395341      3.002272      2.117733      2.511769      2.908856   \n",
       "75%        3.228653      3.678726      2.769303      3.653602      4.277022   \n",
       "max        6.767524      6.519832      5.283956      6.969714      8.271577   \n",
       "\n",
       "           ...                 32            33       34       35  \\\n",
       "count      ...       10000.000000  10000.000000  10000.0  10000.0   \n",
       "mean       ...           2.874107      2.402513      0.0      0.0   \n",
       "std        ...           1.427291      1.277320      0.0      0.0   \n",
       "min        ...           0.000000      0.000000      0.0      0.0   \n",
       "25%        ...           1.893954      1.479638      0.0      0.0   \n",
       "50%        ...           2.893382      2.316023      0.0      0.0   \n",
       "75%        ...           3.848012      3.244988      0.0      0.0   \n",
       "max        ...           7.962352      7.429311      0.0      0.0   \n",
       "\n",
       "                 36            37       38            39         Label  \\\n",
       "count  10000.000000  10000.000000  10000.0  10000.000000  10000.000000   \n",
       "mean       2.055657      3.396554      0.0      2.167426      4.443400   \n",
       "std        1.027588      1.586462      0.0      1.324409      2.895865   \n",
       "min        0.000000      0.000000      0.0      0.000000      0.000000   \n",
       "25%        1.321352      2.215043      0.0      1.181993      2.000000   \n",
       "50%        1.961714      3.429307      0.0      1.970621      4.000000   \n",
       "75%        2.695083      4.513322      0.0      3.044030      7.000000   \n",
       "max        6.465517      8.619820      0.0      7.539230      9.000000   \n",
       "\n",
       "            Cluster  \n",
       "count  10000.000000  \n",
       "mean       4.469900  \n",
       "std        2.887616  \n",
       "min        0.000000  \n",
       "25%        2.000000  \n",
       "50%        5.000000  \n",
       "75%        7.000000  \n",
       "max        9.000000  \n",
       "\n",
       "[8 rows x 42 columns]"
      ]
     },
     "execution_count": 131,
     "metadata": {},
     "output_type": "execute_result"
    }
   ],
   "source": [
    "test_df.describe()"
   ]
  },
  {
   "cell_type": "code",
   "execution_count": 132,
   "metadata": {
    "collapsed": false
   },
   "outputs": [
    {
     "data": {
      "text/html": [
       "<div>\n",
       "<table border=\"1\" class=\"dataframe\">\n",
       "  <thead>\n",
       "    <tr style=\"text-align: right;\">\n",
       "      <th></th>\n",
       "      <th>0</th>\n",
       "      <th>1</th>\n",
       "      <th>2</th>\n",
       "      <th>3</th>\n",
       "      <th>4</th>\n",
       "      <th>5</th>\n",
       "      <th>6</th>\n",
       "      <th>7</th>\n",
       "      <th>8</th>\n",
       "      <th>9</th>\n",
       "      <th>...</th>\n",
       "      <th>31</th>\n",
       "      <th>32</th>\n",
       "      <th>33</th>\n",
       "      <th>34</th>\n",
       "      <th>35</th>\n",
       "      <th>36</th>\n",
       "      <th>37</th>\n",
       "      <th>38</th>\n",
       "      <th>39</th>\n",
       "      <th>Label</th>\n",
       "    </tr>\n",
       "    <tr>\n",
       "      <th>Cluster</th>\n",
       "      <th></th>\n",
       "      <th></th>\n",
       "      <th></th>\n",
       "      <th></th>\n",
       "      <th></th>\n",
       "      <th></th>\n",
       "      <th></th>\n",
       "      <th></th>\n",
       "      <th></th>\n",
       "      <th></th>\n",
       "      <th></th>\n",
       "      <th></th>\n",
       "      <th></th>\n",
       "      <th></th>\n",
       "      <th></th>\n",
       "      <th></th>\n",
       "      <th></th>\n",
       "      <th></th>\n",
       "      <th></th>\n",
       "      <th></th>\n",
       "      <th></th>\n",
       "    </tr>\n",
       "  </thead>\n",
       "  <tbody>\n",
       "    <tr>\n",
       "      <th>0</th>\n",
       "      <td>1143</td>\n",
       "      <td>1143</td>\n",
       "      <td>1143</td>\n",
       "      <td>1143</td>\n",
       "      <td>1143</td>\n",
       "      <td>1143</td>\n",
       "      <td>1143</td>\n",
       "      <td>1143</td>\n",
       "      <td>1143</td>\n",
       "      <td>1143</td>\n",
       "      <td>...</td>\n",
       "      <td>1143</td>\n",
       "      <td>1143</td>\n",
       "      <td>1143</td>\n",
       "      <td>1143</td>\n",
       "      <td>1143</td>\n",
       "      <td>1143</td>\n",
       "      <td>1143</td>\n",
       "      <td>1143</td>\n",
       "      <td>1143</td>\n",
       "      <td>1143</td>\n",
       "    </tr>\n",
       "    <tr>\n",
       "      <th>1</th>\n",
       "      <td>879</td>\n",
       "      <td>879</td>\n",
       "      <td>879</td>\n",
       "      <td>879</td>\n",
       "      <td>879</td>\n",
       "      <td>879</td>\n",
       "      <td>879</td>\n",
       "      <td>879</td>\n",
       "      <td>879</td>\n",
       "      <td>879</td>\n",
       "      <td>...</td>\n",
       "      <td>879</td>\n",
       "      <td>879</td>\n",
       "      <td>879</td>\n",
       "      <td>879</td>\n",
       "      <td>879</td>\n",
       "      <td>879</td>\n",
       "      <td>879</td>\n",
       "      <td>879</td>\n",
       "      <td>879</td>\n",
       "      <td>879</td>\n",
       "    </tr>\n",
       "    <tr>\n",
       "      <th>2</th>\n",
       "      <td>1144</td>\n",
       "      <td>1144</td>\n",
       "      <td>1144</td>\n",
       "      <td>1144</td>\n",
       "      <td>1144</td>\n",
       "      <td>1144</td>\n",
       "      <td>1144</td>\n",
       "      <td>1144</td>\n",
       "      <td>1144</td>\n",
       "      <td>1144</td>\n",
       "      <td>...</td>\n",
       "      <td>1144</td>\n",
       "      <td>1144</td>\n",
       "      <td>1144</td>\n",
       "      <td>1144</td>\n",
       "      <td>1144</td>\n",
       "      <td>1144</td>\n",
       "      <td>1144</td>\n",
       "      <td>1144</td>\n",
       "      <td>1144</td>\n",
       "      <td>1144</td>\n",
       "    </tr>\n",
       "    <tr>\n",
       "      <th>3</th>\n",
       "      <td>757</td>\n",
       "      <td>757</td>\n",
       "      <td>757</td>\n",
       "      <td>757</td>\n",
       "      <td>757</td>\n",
       "      <td>757</td>\n",
       "      <td>757</td>\n",
       "      <td>757</td>\n",
       "      <td>757</td>\n",
       "      <td>757</td>\n",
       "      <td>...</td>\n",
       "      <td>757</td>\n",
       "      <td>757</td>\n",
       "      <td>757</td>\n",
       "      <td>757</td>\n",
       "      <td>757</td>\n",
       "      <td>757</td>\n",
       "      <td>757</td>\n",
       "      <td>757</td>\n",
       "      <td>757</td>\n",
       "      <td>757</td>\n",
       "    </tr>\n",
       "    <tr>\n",
       "      <th>4</th>\n",
       "      <td>1062</td>\n",
       "      <td>1062</td>\n",
       "      <td>1062</td>\n",
       "      <td>1062</td>\n",
       "      <td>1062</td>\n",
       "      <td>1062</td>\n",
       "      <td>1062</td>\n",
       "      <td>1062</td>\n",
       "      <td>1062</td>\n",
       "      <td>1062</td>\n",
       "      <td>...</td>\n",
       "      <td>1062</td>\n",
       "      <td>1062</td>\n",
       "      <td>1062</td>\n",
       "      <td>1062</td>\n",
       "      <td>1062</td>\n",
       "      <td>1062</td>\n",
       "      <td>1062</td>\n",
       "      <td>1062</td>\n",
       "      <td>1062</td>\n",
       "      <td>1062</td>\n",
       "    </tr>\n",
       "    <tr>\n",
       "      <th>5</th>\n",
       "      <td>1036</td>\n",
       "      <td>1036</td>\n",
       "      <td>1036</td>\n",
       "      <td>1036</td>\n",
       "      <td>1036</td>\n",
       "      <td>1036</td>\n",
       "      <td>1036</td>\n",
       "      <td>1036</td>\n",
       "      <td>1036</td>\n",
       "      <td>1036</td>\n",
       "      <td>...</td>\n",
       "      <td>1036</td>\n",
       "      <td>1036</td>\n",
       "      <td>1036</td>\n",
       "      <td>1036</td>\n",
       "      <td>1036</td>\n",
       "      <td>1036</td>\n",
       "      <td>1036</td>\n",
       "      <td>1036</td>\n",
       "      <td>1036</td>\n",
       "      <td>1036</td>\n",
       "    </tr>\n",
       "    <tr>\n",
       "      <th>6</th>\n",
       "      <td>887</td>\n",
       "      <td>887</td>\n",
       "      <td>887</td>\n",
       "      <td>887</td>\n",
       "      <td>887</td>\n",
       "      <td>887</td>\n",
       "      <td>887</td>\n",
       "      <td>887</td>\n",
       "      <td>887</td>\n",
       "      <td>887</td>\n",
       "      <td>...</td>\n",
       "      <td>887</td>\n",
       "      <td>887</td>\n",
       "      <td>887</td>\n",
       "      <td>887</td>\n",
       "      <td>887</td>\n",
       "      <td>887</td>\n",
       "      <td>887</td>\n",
       "      <td>887</td>\n",
       "      <td>887</td>\n",
       "      <td>887</td>\n",
       "    </tr>\n",
       "    <tr>\n",
       "      <th>7</th>\n",
       "      <td>1010</td>\n",
       "      <td>1010</td>\n",
       "      <td>1010</td>\n",
       "      <td>1010</td>\n",
       "      <td>1010</td>\n",
       "      <td>1010</td>\n",
       "      <td>1010</td>\n",
       "      <td>1010</td>\n",
       "      <td>1010</td>\n",
       "      <td>1010</td>\n",
       "      <td>...</td>\n",
       "      <td>1010</td>\n",
       "      <td>1010</td>\n",
       "      <td>1010</td>\n",
       "      <td>1010</td>\n",
       "      <td>1010</td>\n",
       "      <td>1010</td>\n",
       "      <td>1010</td>\n",
       "      <td>1010</td>\n",
       "      <td>1010</td>\n",
       "      <td>1010</td>\n",
       "    </tr>\n",
       "    <tr>\n",
       "      <th>8</th>\n",
       "      <td>1297</td>\n",
       "      <td>1297</td>\n",
       "      <td>1297</td>\n",
       "      <td>1297</td>\n",
       "      <td>1297</td>\n",
       "      <td>1297</td>\n",
       "      <td>1297</td>\n",
       "      <td>1297</td>\n",
       "      <td>1297</td>\n",
       "      <td>1297</td>\n",
       "      <td>...</td>\n",
       "      <td>1297</td>\n",
       "      <td>1297</td>\n",
       "      <td>1297</td>\n",
       "      <td>1297</td>\n",
       "      <td>1297</td>\n",
       "      <td>1297</td>\n",
       "      <td>1297</td>\n",
       "      <td>1297</td>\n",
       "      <td>1297</td>\n",
       "      <td>1297</td>\n",
       "    </tr>\n",
       "    <tr>\n",
       "      <th>9</th>\n",
       "      <td>785</td>\n",
       "      <td>785</td>\n",
       "      <td>785</td>\n",
       "      <td>785</td>\n",
       "      <td>785</td>\n",
       "      <td>785</td>\n",
       "      <td>785</td>\n",
       "      <td>785</td>\n",
       "      <td>785</td>\n",
       "      <td>785</td>\n",
       "      <td>...</td>\n",
       "      <td>785</td>\n",
       "      <td>785</td>\n",
       "      <td>785</td>\n",
       "      <td>785</td>\n",
       "      <td>785</td>\n",
       "      <td>785</td>\n",
       "      <td>785</td>\n",
       "      <td>785</td>\n",
       "      <td>785</td>\n",
       "      <td>785</td>\n",
       "    </tr>\n",
       "  </tbody>\n",
       "</table>\n",
       "<p>10 rows × 41 columns</p>\n",
       "</div>"
      ],
      "text/plain": [
       "            0     1     2     3     4     5     6     7     8     9  ...    \\\n",
       "Cluster                                                              ...     \n",
       "0        1143  1143  1143  1143  1143  1143  1143  1143  1143  1143  ...     \n",
       "1         879   879   879   879   879   879   879   879   879   879  ...     \n",
       "2        1144  1144  1144  1144  1144  1144  1144  1144  1144  1144  ...     \n",
       "3         757   757   757   757   757   757   757   757   757   757  ...     \n",
       "4        1062  1062  1062  1062  1062  1062  1062  1062  1062  1062  ...     \n",
       "5        1036  1036  1036  1036  1036  1036  1036  1036  1036  1036  ...     \n",
       "6         887   887   887   887   887   887   887   887   887   887  ...     \n",
       "7        1010  1010  1010  1010  1010  1010  1010  1010  1010  1010  ...     \n",
       "8        1297  1297  1297  1297  1297  1297  1297  1297  1297  1297  ...     \n",
       "9         785   785   785   785   785   785   785   785   785   785  ...     \n",
       "\n",
       "           31    32    33    34    35    36    37    38    39  Label  \n",
       "Cluster                                                               \n",
       "0        1143  1143  1143  1143  1143  1143  1143  1143  1143   1143  \n",
       "1         879   879   879   879   879   879   879   879   879    879  \n",
       "2        1144  1144  1144  1144  1144  1144  1144  1144  1144   1144  \n",
       "3         757   757   757   757   757   757   757   757   757    757  \n",
       "4        1062  1062  1062  1062  1062  1062  1062  1062  1062   1062  \n",
       "5        1036  1036  1036  1036  1036  1036  1036  1036  1036   1036  \n",
       "6         887   887   887   887   887   887   887   887   887    887  \n",
       "7        1010  1010  1010  1010  1010  1010  1010  1010  1010   1010  \n",
       "8        1297  1297  1297  1297  1297  1297  1297  1297  1297   1297  \n",
       "9         785   785   785   785   785   785   785   785   785    785  \n",
       "\n",
       "[10 rows x 41 columns]"
      ]
     },
     "execution_count": 132,
     "metadata": {},
     "output_type": "execute_result"
    }
   ],
   "source": [
    "test_df.groupby('Cluster').count()"
   ]
  },
  {
   "cell_type": "code",
   "execution_count": 133,
   "metadata": {
    "collapsed": false
   },
   "outputs": [
    {
     "ename": "KeyError",
     "evalue": "\"['A' 'B'] not in index\"",
     "output_type": "error",
     "traceback": [
      "\u001b[1;31m---------------------------------------------------------------------------\u001b[0m",
      "\u001b[1;31mKeyError\u001b[0m                                  Traceback (most recent call last)",
      "\u001b[1;32m<ipython-input-133-ee25dec3f13b>\u001b[0m in \u001b[0;36m<module>\u001b[1;34m()\u001b[0m\n\u001b[0;32m     11\u001b[0m            \u001b[0mhue\u001b[0m\u001b[1;33m=\u001b[0m\u001b[1;34m\"Label\"\u001b[0m\u001b[1;33m,\u001b[0m\u001b[1;33m\u001b[0m\u001b[0m\n\u001b[0;32m     12\u001b[0m            scatter_kws={\"marker\": \"D\", \n\u001b[1;32m---> 13\u001b[1;33m                         \"s\": 100})\n\u001b[0m\u001b[0;32m     14\u001b[0m \u001b[0mplt\u001b[0m\u001b[1;33m.\u001b[0m\u001b[0mtitle\u001b[0m\u001b[1;33m(\u001b[0m\u001b[1;34m'Histogram of IQ'\u001b[0m\u001b[1;33m)\u001b[0m\u001b[1;33m\u001b[0m\u001b[0m\n\u001b[0;32m     15\u001b[0m \u001b[0mplt\u001b[0m\u001b[1;33m.\u001b[0m\u001b[0mxlabel\u001b[0m\u001b[1;33m(\u001b[0m\u001b[1;34m'PC#1'\u001b[0m\u001b[1;33m)\u001b[0m\u001b[1;33m\u001b[0m\u001b[0m\n",
      "\u001b[1;32m/home/mrafi123/anaconda3/lib/python3.5/site-packages/seaborn/linearmodels.py\u001b[0m in \u001b[0;36mlmplot\u001b[1;34m(x, y, data, hue, col, row, palette, col_wrap, size, aspect, markers, sharex, sharey, hue_order, col_order, row_order, legend, legend_out, x_estimator, x_bins, x_ci, scatter, fit_reg, ci, n_boot, units, order, logistic, lowess, robust, logx, x_partial, y_partial, truncate, x_jitter, y_jitter, scatter_kws, line_kws)\u001b[0m\n\u001b[0;32m    539\u001b[0m     \u001b[0mneed_cols\u001b[0m \u001b[1;33m=\u001b[0m \u001b[1;33m[\u001b[0m\u001b[0mx\u001b[0m\u001b[1;33m,\u001b[0m \u001b[0my\u001b[0m\u001b[1;33m,\u001b[0m \u001b[0mhue\u001b[0m\u001b[1;33m,\u001b[0m \u001b[0mcol\u001b[0m\u001b[1;33m,\u001b[0m \u001b[0mrow\u001b[0m\u001b[1;33m,\u001b[0m \u001b[0munits\u001b[0m\u001b[1;33m,\u001b[0m \u001b[0mx_partial\u001b[0m\u001b[1;33m,\u001b[0m \u001b[0my_partial\u001b[0m\u001b[1;33m]\u001b[0m\u001b[1;33m\u001b[0m\u001b[0m\n\u001b[0;32m    540\u001b[0m     \u001b[0mcols\u001b[0m \u001b[1;33m=\u001b[0m \u001b[0mnp\u001b[0m\u001b[1;33m.\u001b[0m\u001b[0munique\u001b[0m\u001b[1;33m(\u001b[0m\u001b[1;33m[\u001b[0m\u001b[0ma\u001b[0m \u001b[1;32mfor\u001b[0m \u001b[0ma\u001b[0m \u001b[1;32min\u001b[0m \u001b[0mneed_cols\u001b[0m \u001b[1;32mif\u001b[0m \u001b[0ma\u001b[0m \u001b[1;32mis\u001b[0m \u001b[1;32mnot\u001b[0m \u001b[1;32mNone\u001b[0m\u001b[1;33m]\u001b[0m\u001b[1;33m)\u001b[0m\u001b[1;33m.\u001b[0m\u001b[0mtolist\u001b[0m\u001b[1;33m(\u001b[0m\u001b[1;33m)\u001b[0m\u001b[1;33m\u001b[0m\u001b[0m\n\u001b[1;32m--> 541\u001b[1;33m     \u001b[0mdata\u001b[0m \u001b[1;33m=\u001b[0m \u001b[0mdata\u001b[0m\u001b[1;33m[\u001b[0m\u001b[0mcols\u001b[0m\u001b[1;33m]\u001b[0m\u001b[1;33m\u001b[0m\u001b[0m\n\u001b[0m\u001b[0;32m    542\u001b[0m \u001b[1;33m\u001b[0m\u001b[0m\n\u001b[0;32m    543\u001b[0m     \u001b[1;31m# Initialize the grid\u001b[0m\u001b[1;33m\u001b[0m\u001b[1;33m\u001b[0m\u001b[0m\n",
      "\u001b[1;32m/home/mrafi123/anaconda3/lib/python3.5/site-packages/pandas/core/frame.py\u001b[0m in \u001b[0;36m__getitem__\u001b[1;34m(self, key)\u001b[0m\n\u001b[0;32m   1989\u001b[0m         \u001b[1;32mif\u001b[0m \u001b[0misinstance\u001b[0m\u001b[1;33m(\u001b[0m\u001b[0mkey\u001b[0m\u001b[1;33m,\u001b[0m \u001b[1;33m(\u001b[0m\u001b[0mSeries\u001b[0m\u001b[1;33m,\u001b[0m \u001b[0mnp\u001b[0m\u001b[1;33m.\u001b[0m\u001b[0mndarray\u001b[0m\u001b[1;33m,\u001b[0m \u001b[0mIndex\u001b[0m\u001b[1;33m,\u001b[0m \u001b[0mlist\u001b[0m\u001b[1;33m)\u001b[0m\u001b[1;33m)\u001b[0m\u001b[1;33m:\u001b[0m\u001b[1;33m\u001b[0m\u001b[0m\n\u001b[0;32m   1990\u001b[0m             \u001b[1;31m# either boolean or fancy integer index\u001b[0m\u001b[1;33m\u001b[0m\u001b[1;33m\u001b[0m\u001b[0m\n\u001b[1;32m-> 1991\u001b[1;33m             \u001b[1;32mreturn\u001b[0m \u001b[0mself\u001b[0m\u001b[1;33m.\u001b[0m\u001b[0m_getitem_array\u001b[0m\u001b[1;33m(\u001b[0m\u001b[0mkey\u001b[0m\u001b[1;33m)\u001b[0m\u001b[1;33m\u001b[0m\u001b[0m\n\u001b[0m\u001b[0;32m   1992\u001b[0m         \u001b[1;32melif\u001b[0m \u001b[0misinstance\u001b[0m\u001b[1;33m(\u001b[0m\u001b[0mkey\u001b[0m\u001b[1;33m,\u001b[0m \u001b[0mDataFrame\u001b[0m\u001b[1;33m)\u001b[0m\u001b[1;33m:\u001b[0m\u001b[1;33m\u001b[0m\u001b[0m\n\u001b[0;32m   1993\u001b[0m             \u001b[1;32mreturn\u001b[0m \u001b[0mself\u001b[0m\u001b[1;33m.\u001b[0m\u001b[0m_getitem_frame\u001b[0m\u001b[1;33m(\u001b[0m\u001b[0mkey\u001b[0m\u001b[1;33m)\u001b[0m\u001b[1;33m\u001b[0m\u001b[0m\n",
      "\u001b[1;32m/home/mrafi123/anaconda3/lib/python3.5/site-packages/pandas/core/frame.py\u001b[0m in \u001b[0;36m_getitem_array\u001b[1;34m(self, key)\u001b[0m\n\u001b[0;32m   2033\u001b[0m             \u001b[1;32mreturn\u001b[0m \u001b[0mself\u001b[0m\u001b[1;33m.\u001b[0m\u001b[0mtake\u001b[0m\u001b[1;33m(\u001b[0m\u001b[0mindexer\u001b[0m\u001b[1;33m,\u001b[0m \u001b[0maxis\u001b[0m\u001b[1;33m=\u001b[0m\u001b[1;36m0\u001b[0m\u001b[1;33m,\u001b[0m \u001b[0mconvert\u001b[0m\u001b[1;33m=\u001b[0m\u001b[1;32mFalse\u001b[0m\u001b[1;33m)\u001b[0m\u001b[1;33m\u001b[0m\u001b[0m\n\u001b[0;32m   2034\u001b[0m         \u001b[1;32melse\u001b[0m\u001b[1;33m:\u001b[0m\u001b[1;33m\u001b[0m\u001b[0m\n\u001b[1;32m-> 2035\u001b[1;33m             \u001b[0mindexer\u001b[0m \u001b[1;33m=\u001b[0m \u001b[0mself\u001b[0m\u001b[1;33m.\u001b[0m\u001b[0mix\u001b[0m\u001b[1;33m.\u001b[0m\u001b[0m_convert_to_indexer\u001b[0m\u001b[1;33m(\u001b[0m\u001b[0mkey\u001b[0m\u001b[1;33m,\u001b[0m \u001b[0maxis\u001b[0m\u001b[1;33m=\u001b[0m\u001b[1;36m1\u001b[0m\u001b[1;33m)\u001b[0m\u001b[1;33m\u001b[0m\u001b[0m\n\u001b[0m\u001b[0;32m   2036\u001b[0m             \u001b[1;32mreturn\u001b[0m \u001b[0mself\u001b[0m\u001b[1;33m.\u001b[0m\u001b[0mtake\u001b[0m\u001b[1;33m(\u001b[0m\u001b[0mindexer\u001b[0m\u001b[1;33m,\u001b[0m \u001b[0maxis\u001b[0m\u001b[1;33m=\u001b[0m\u001b[1;36m1\u001b[0m\u001b[1;33m,\u001b[0m \u001b[0mconvert\u001b[0m\u001b[1;33m=\u001b[0m\u001b[1;32mTrue\u001b[0m\u001b[1;33m)\u001b[0m\u001b[1;33m\u001b[0m\u001b[0m\n\u001b[0;32m   2037\u001b[0m \u001b[1;33m\u001b[0m\u001b[0m\n",
      "\u001b[1;32m/home/mrafi123/anaconda3/lib/python3.5/site-packages/pandas/core/indexing.py\u001b[0m in \u001b[0;36m_convert_to_indexer\u001b[1;34m(self, obj, axis, is_setter)\u001b[0m\n\u001b[0;32m   1212\u001b[0m                 \u001b[0mmask\u001b[0m \u001b[1;33m=\u001b[0m \u001b[0mcheck\u001b[0m \u001b[1;33m==\u001b[0m \u001b[1;33m-\u001b[0m\u001b[1;36m1\u001b[0m\u001b[1;33m\u001b[0m\u001b[0m\n\u001b[0;32m   1213\u001b[0m                 \u001b[1;32mif\u001b[0m \u001b[0mmask\u001b[0m\u001b[1;33m.\u001b[0m\u001b[0many\u001b[0m\u001b[1;33m(\u001b[0m\u001b[1;33m)\u001b[0m\u001b[1;33m:\u001b[0m\u001b[1;33m\u001b[0m\u001b[0m\n\u001b[1;32m-> 1214\u001b[1;33m                     \u001b[1;32mraise\u001b[0m \u001b[0mKeyError\u001b[0m\u001b[1;33m(\u001b[0m\u001b[1;34m'%s not in index'\u001b[0m \u001b[1;33m%\u001b[0m \u001b[0mobjarr\u001b[0m\u001b[1;33m[\u001b[0m\u001b[0mmask\u001b[0m\u001b[1;33m]\u001b[0m\u001b[1;33m)\u001b[0m\u001b[1;33m\u001b[0m\u001b[0m\n\u001b[0m\u001b[0;32m   1215\u001b[0m \u001b[1;33m\u001b[0m\u001b[0m\n\u001b[0;32m   1216\u001b[0m                 \u001b[1;32mreturn\u001b[0m \u001b[0m_values_from_object\u001b[0m\u001b[1;33m(\u001b[0m\u001b[0mindexer\u001b[0m\u001b[1;33m)\u001b[0m\u001b[1;33m\u001b[0m\u001b[0m\n",
      "\u001b[1;31mKeyError\u001b[0m: \"['A' 'B'] not in index\""
     ]
    }
   ],
   "source": [
    "test_df_sample=test_df[0:10000]\n",
    "test_df_sample=test_df_sample[test_df_sample.Label < 3]\n",
    "\n",
    "sb.set_context(\"notebook\", font_scale=1.1)\n",
    "sb.set_style(\"ticks\")\n",
    "\n",
    "\n",
    "sb.lmplot('A','B',\n",
    "           data=test_df_sample, \n",
    "           fit_reg=False, \n",
    "           hue=\"Label\",  \n",
    "           scatter_kws={\"marker\": \"D\", \n",
    "                        \"s\": 100})\n",
    "plt.title('Histogram of IQ')\n",
    "plt.xlabel('PC#1')\n",
    "plt.ylabel('PC#2')"
   ]
  },
  {
   "cell_type": "code",
   "execution_count": 63,
   "metadata": {
    "collapsed": false
   },
   "outputs": [
    {
     "data": {
      "text/plain": [
       "<matplotlib.text.Text at 0x7fee34963ac8>"
      ]
     },
     "execution_count": 63,
     "metadata": {},
     "output_type": "execute_result"
    },
    {
     "data": {
      "image/png": "[encoded data removed]",
      "text/plain": [
       "<matplotlib.figure.Figure at 0x7fee3530c2e8>"
      ]
     },
     "metadata": {},
     "output_type": "display_data"
    }
   ],
   "source": [
    "test_df_sample=test_df[0:10000]\n",
    "test_df_sample=test_df_sample[test_df_sample.Cluster < 10]\n",
    "\n",
    "sb.set_context(\"notebook\", font_scale=1.1)\n",
    "sb.set_style(\"ticks\")\n",
    "\n",
    "\n",
    "sb.lmplot('A','B',\n",
    "           data=test_df_sample, \n",
    "           fit_reg=False, \n",
    "           hue=\"Cluster\",  \n",
    "           scatter_kws={\"marker\": \"D\", \n",
    "                        \"s\": 100})\n",
    "plt.title('Histogram of IQ')\n",
    "plt.xlabel('PC#1')\n",
    "plt.ylabel('PC#2')"
   ]
  },
  {
   "cell_type": "code",
   "execution_count": 120,
   "metadata": {
    "collapsed": false
   },
   "outputs": [
    {
     "data": {
      "image/png": "[encoded data removed]",
      "text/plain": [
       "<matplotlib.figure.Figure at 0x7f551ca526d8>"
      ]
     },
     "metadata": {},
     "output_type": "display_data"
    }
   ],
   "source": [
    "cmap = sb.cubehelix_palette(as_cmap=True, rot=-.3, light=1)\n",
    "g = sb.clustermap(test_df[0:2], cmap=cmap, linewidths=.5)"
   ]
  },
  {
   "cell_type": "code",
   "execution_count": 74,
   "metadata": {
    "collapsed": true
   },
   "outputs": [],
   "source": [
    "reduced_train_data = reduced_train_data[0:501,]"
   ]
  },
  {
   "cell_type": "code",
   "execution_count": 75,
   "metadata": {
    "collapsed": false
   },
   "outputs": [
    {
     "data": {
      "text/plain": [
       "(501, 2)"
      ]
     },
     "execution_count": 75,
     "metadata": {},
     "output_type": "execute_result"
    }
   ],
   "source": [
    "reduced_train_data.shape"
   ]
  },
  {
   "cell_type": "code",
   "execution_count": 76,
   "metadata": {
    "collapsed": false
   },
   "outputs": [
    {
     "data": {
      "image/png": "[encoded data removed]",
      "text/plain": [
       "<matplotlib.figure.Figure at 0x7f551d08b9e8>"
      ]
     },
     "metadata": {},
     "output_type": "display_data"
    }
   ],
   "source": [
    "# Step size of the mesh. Decrease to increase the quality of the VQ.\n",
    "h = .05    # point in the mesh [x_min, x_max]x[y_min, y_max].\n",
    "\n",
    "# Plot the decision boundary. For that, we will assign a color to each\n",
    "x_min, x_max = reduced_train_data[:, 0].min() - 1, reduced_train_data[:, 0].max() + 1\n",
    "y_min, y_max = reduced_train_data[:, 1].min() - 1, reduced_train_data[:, 1].max() + 1\n",
    "xx, yy = np.meshgrid(np.arange(x_min, x_max, h), np.arange(y_min, y_max, h))\n",
    "\n",
    "# Obtain labels for each point in mesh. Use last trained model.\n",
    "Z = kmeans.predict(np.c_[xx.ravel(), yy.ravel()])\n",
    "\n",
    "# Put the result into a color plot\n",
    "Z = Z.reshape(xx.shape)\n",
    "plt.figure(1)\n",
    "plt.clf()\n",
    "plt.imshow(Z, interpolation='nearest',\n",
    "           extent=(xx.min(), xx.max(), yy.min(), yy.max()),\n",
    "           cmap=plt.cm.Paired,\n",
    "           aspect='auto', origin='lower')\n",
    "\n",
    "plt.plot(reduced_train_data[:, 0], reduced_train_data[:, 1], 'k.', markersize=7)\n",
    "# Plot the centroids as a white X\n",
    "centroids = kmeans.cluster_centers_\n",
    "plt.scatter(centroids[:, 0], centroids[:, 1],\n",
    "            marker='x', s=169, linewidths=3,\n",
    "            color='w', zorder=10)\n",
    "plt.title('K-means clustering on the dataset (PCA-reduced data)\\n'\n",
    "          'Centroids are marked with white cross')\n",
    "plt.xlim(x_min, x_max)\n",
    "plt.ylim(y_min, y_max)\n",
    "plt.xticks(())\n",
    "plt.yticks(())\n",
    "plt.show()"
   ]
  },
  {
   "cell_type": "code",
   "execution_count": null,
   "metadata": {
    "collapsed": true
   },
   "outputs": [],
   "source": [
    "raw_data['Cluster_Label'] = kmeans.labels_"
   ]
  }
 ],
 "metadata": {
  "kernelspec": {
   "display_name": "Python 3",
   "language": "python",
   "name": "python3"
  },
  "language_info": {
   "codemirror_mode": {
    "name": "ipython",
    "version": 3
   },
   "file_extension": ".py",
   "mimetype": "text/x-python",
   "name": "python",
   "nbconvert_exporter": "python",
   "pygments_lexer": "ipython3",
   "version": "3.5.2"
  }
 },
 "nbformat": 4,
 "nbformat_minor": 0
}
