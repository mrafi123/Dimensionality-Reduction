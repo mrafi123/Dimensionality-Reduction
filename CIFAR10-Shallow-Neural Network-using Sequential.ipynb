{
 "cells": [
  {
   "cell_type": "code",
   "execution_count": 1,
   "metadata": {
    "collapsed": false,
    "scrolled": true
   },
   "outputs": [
    {
     "name": "stdout",
     "output_type": "stream",
     "text": [
      "Couldn't import dot_parser, loading of dot files will not be possible.\n"
     ]
    },
    {
     "name": "stderr",
     "output_type": "stream",
     "text": [
      "Using gpu device 0: GeForce 920M (CNMeM is disabled, cuDNN not available)\n",
      "Using Theano backend.\n"
     ]
    }
   ],
   "source": [
    "import os    \n",
    "#os.environ['THEANO_FLAGS'] = \"device=gpu1\"  \n",
    "#os.environ[\"THEANO_FLAGS\"] = \"mode=FAST_RUN,device=gpu0,floatX=float32,lib.cnmem=1\"\n",
    "os.environ[\"THEANO_FLAGS\"] = \"mode=FAST_RUN,device=gpu0,floatX=float32\"\n",
    "#os.environ[\"THEANO_FLAGS\"] = \"mode=FAST_RUN,device=cpu,floatX=float32\"\n",
    "import theano\n",
    "import numpy as np\n",
    "from keras.layers import Input, Dense\n",
    "from keras.models import Model, Sequential\n",
    "from keras.optimizers import *\n",
    "from keras.utils.np_utils import *\n",
    "from keras.regularizers import l2, activity_l2\n",
    "\n",
    "from sklearn.cross_validation import train_test_split\n",
    "import matplotlib.pyplot as plt\n",
    "%matplotlib inline\n",
    "\n"
   ]
  },
  {
   "cell_type": "code",
   "execution_count": 2,
   "metadata": {
    "collapsed": false
   },
   "outputs": [],
   "source": [
    "# fix random seed for reproducibility\n",
    "seed = 7\n",
    "np.random.seed(seed)"
   ]
  },
  {
   "cell_type": "code",
   "execution_count": 7,
   "metadata": {
    "collapsed": false,
    "scrolled": true
   },
   "outputs": [],
   "source": [
    "X_train=np.load('/media/mrafi123/UStore/Dimensionality-Reduction/data/CIFAR10/X_train.npy')\n",
    "X_test=np.load('/media/mrafi123/UStore/Dimensionality-Reduction/data/CIFAR10/X_test.npy')\n",
    "y_train=np.load('/media/mrafi123/UStore/Dimensionality-Reduction/data/CIFAR10/y_train.npy')\n",
    "y_test=np.load('/media/mrafi123/UStore/Dimensionality-Reduction/data/CIFAR10/y_test.npy')"
   ]
  },
  {
   "cell_type": "markdown",
   "metadata": {
    "collapsed": false
   },
   "source": [
    "print (X_train.shape)\n",
    "print (y_train.shape)\n",
    "print (X_test.shape)\n",
    "print (y_test.shape)\n",
    "print (X_train[0])"
   ]
  },
  {
   "cell_type": "code",
   "execution_count": 8,
   "metadata": {
    "collapsed": false
   },
   "outputs": [],
   "source": [
    "# Normalize the data: subtract the mean image\n",
    "mean_image = np.mean(X_train, axis=0)\n",
    "X_train -= mean_image\n",
    "X_test -= mean_image\n"
   ]
  },
  {
   "cell_type": "markdown",
   "metadata": {},
   "source": [
    "print (X_train.shape)\n",
    "print (y_train.shape)\n",
    "print (X_test.shape)\n",
    "print (y_test.shape)\n",
    "print (mean_image)\n",
    "print (X_train[0])"
   ]
  },
  {
   "cell_type": "code",
   "execution_count": 5,
   "metadata": {
    "collapsed": false
   },
   "outputs": [],
   "source": [
    "X_train /= np.std(X_train, axis = 0) # normalize\n",
    "X_test /= np.std(X_test, axis = 0) # normalize\n",
    "\n"
   ]
  },
  {
   "cell_type": "markdown",
   "metadata": {},
   "source": [
    "print (X_train.shape)\n",
    "print (y_train.shape)\n",
    "print (X_test.shape)\n",
    "print (y_test.shape)\n",
    "print (mean_image)\n",
    "print (X_train[0])"
   ]
  },
  {
   "cell_type": "code",
   "execution_count": 9,
   "metadata": {
    "collapsed": false
   },
   "outputs": [
    {
     "name": "stdout",
     "output_type": "stream",
     "text": [
      "[[[ -71.71074  -74.05614  -69.5538 ]\n",
      "  [ -87.14036  -89.44238  -86.85358]\n",
      "  [ -81.05044  -88.24616  -89.58144]\n",
      "  ..., \n",
      "  [  26.94098   -4.307    -24.44078]\n",
      "  [  21.60692  -10.70848  -30.00036]\n",
      "  [  17.826    -11.4736   -28.89246]]\n",
      "\n",
      " [[-114.0993  -115.29484 -111.36412]\n",
      "  [-129.3446  -134.45914 -130.4656 ]\n",
      "  [-112.2169  -127.1767  -131.10234]\n",
      "  ..., \n",
      "  [  -7.04254  -47.13862  -75.90018]\n",
      "  [ -10.33038  -51.55898  -80.49918]\n",
      "  [  -7.1568   -47.38368  -73.45104]]\n",
      "\n",
      " [[-104.72472 -110.64818 -109.2514 ]\n",
      "  [-112.71662 -126.49748 -129.01922]\n",
      "  [ -80.47348 -107.05546 -121.47586]\n",
      "  ..., \n",
      "  [ -11.21066  -49.95824  -79.29398]\n",
      "  [  -8.59094  -49.54152  -79.06528]\n",
      "  [ -19.59134  -60.55772  -87.22356]]\n",
      "\n",
      " ..., \n",
      " [[  81.44628   44.0467   -18.1421 ]\n",
      "  [  76.41156   29.2665   -77.77894]\n",
      "  [  74.07492   38.1989   -84.73544]\n",
      "  ..., \n",
      "  [  35.75964    9.99658  -40.87088]\n",
      "  [ -68.68902  -92.7463  -104.75116]\n",
      "  [ -72.51674  -90.86008  -93.10554]]\n",
      "\n",
      " [[  52.9319    12.62384  -18.64896]\n",
      "  [  47.53098   -1.58318  -70.6934 ]\n",
      "  [  60.71512   19.8131   -82.16812]\n",
      "  ..., \n",
      "  [  58.50748   23.66242  -18.25642]\n",
      "  [ -28.58606  -62.64844  -78.71842]\n",
      "  [ -42.9967   -72.2858   -79.60626]]\n",
      "\n",
      " [[  49.26526   17.05222    0.55436]\n",
      "  [  41.40204    3.34674  -19.9712 ]\n",
      "  [  52.13484   16.24322  -26.9406 ]\n",
      "  ..., \n",
      "  [  89.22164   58.30292   26.16942]\n",
      "  [  24.43504   -7.61742  -29.90624]\n",
      "  [  -3.63908  -33.8503   -42.38186]]]\n"
     ]
    }
   ],
   "source": [
    "print (X_train[0])"
   ]
  },
  {
   "cell_type": "code",
   "execution_count": 10,
   "metadata": {
    "collapsed": false,
    "scrolled": true
   },
   "outputs": [
    {
     "name": "stdout",
     "output_type": "stream",
     "text": [
      "[[[ -71.71073914  -74.05613708  -69.55380249]\n",
      "  [ -87.14035797  -89.44238281  -86.85357666]\n",
      "  [ -81.05043793  -88.24616241  -89.58144379]\n",
      "  ..., \n",
      "  [  26.94098091   -4.30700016  -24.44078064]\n",
      "  [  21.60692024  -10.70847988  -30.00036049]\n",
      "  [  17.82600021  -11.47360039  -28.89245987]]\n",
      "\n",
      " [[-114.09929657 -115.29483795 -111.36412048]\n",
      "  [-129.34460449 -134.45913696 -130.46560669]\n",
      "  [-112.21690369 -127.17669678 -131.1023407 ]\n",
      "  ..., \n",
      "  [  -7.04254007  -47.13861847  -75.900177  ]\n",
      "  [ -10.33038044  -51.55897903  -80.49918365]\n",
      "  [  -7.15679979  -47.38367844  -73.45104218]]\n",
      "\n",
      " [[-104.72471619 -110.6481781  -109.25140381]\n",
      "  [-112.7166214  -126.4974823  -129.01922607]\n",
      "  [ -80.47348022 -107.05545807 -121.4758606 ]\n",
      "  ..., \n",
      "  [ -11.21065998  -49.95824051  -79.29398346]\n",
      "  [  -8.59094048  -49.54151917  -79.0652771 ]\n",
      "  [ -19.59133911  -60.55772018  -87.22355652]]\n",
      "\n",
      " ..., \n",
      " [[  81.44628143   44.04669952  -18.14209938]\n",
      "  [  76.41156006   29.26650047  -77.77893829]\n",
      "  [  74.07492065   38.19889832  -84.73544312]\n",
      "  ..., \n",
      "  [  35.75963974    9.99658012  -40.87088013]\n",
      "  [ -68.68901825  -92.74629974 -104.75115967]\n",
      "  [ -72.51673889  -90.8600769   -93.10553741]]\n",
      "\n",
      " [[  52.93190002   12.62384033  -18.64896011]\n",
      "  [  47.53097916   -1.58317995  -70.69339752]\n",
      "  [  60.71511841   19.81310081  -82.16812134]\n",
      "  ..., \n",
      "  [  58.50748062   23.66242027  -18.25642014]\n",
      "  [ -28.58605957  -62.64844131  -78.71842194]\n",
      "  [ -42.99670029  -72.28579712  -79.60626221]]\n",
      "\n",
      " [[  49.26525879   17.05221939    0.55435997]\n",
      "  [  41.40203857    3.34674001  -19.97120094]\n",
      "  [  52.1348381    16.24321938  -26.94059944]\n",
      "  ..., \n",
      "  [  89.22164154   58.3029213    26.16942024]\n",
      "  [  24.43503952   -7.6174202   -29.90624046]\n",
      "  [  -3.63908005  -33.85029984  -42.38185883]]]\n",
      "(50000, 3072)\n",
      "(10000, 3072)\n"
     ]
    }
   ],
   "source": [
    "#x_train = X_train.astype('float32') / 255.\n",
    "#x_test = X_test.astype('float32') / 255.\n",
    "x_train = X_train.astype('float32') / 1.\n",
    "x_test = X_test.astype('float32') / 1.\n",
    "print (x_train[0])\n",
    "x_train = x_train.reshape((len(x_train), np.prod(x_train.shape[1:])))\n",
    "x_test = x_test.reshape((len(x_test), np.prod(x_test.shape[1:])))\n",
    "print (x_train.shape)\n",
    "print (x_test.shape)"
   ]
  },
  {
   "cell_type": "code",
   "execution_count": 11,
   "metadata": {
    "collapsed": false
   },
   "outputs": [
    {
     "name": "stdout",
     "output_type": "stream",
     "text": [
      "(45000, 3072)\n",
      "(5000, 3072)\n"
     ]
    }
   ],
   "source": [
    "s_train, s_valid = train_test_split(x_train, test_size=0.1)\n",
    "print (s_train.shape)\n",
    "print (s_valid.shape)"
   ]
  },
  {
   "cell_type": "code",
   "execution_count": 12,
   "metadata": {
    "collapsed": false
   },
   "outputs": [
    {
     "name": "stdout",
     "output_type": "stream",
     "text": [
      "(45000,)\n",
      "(5000,)\n",
      "(45000, 10)\n",
      "(5000, 10)\n",
      "[[ 0.  1.  0. ...,  0.  0.  0.]\n",
      " [ 0.  0.  0. ...,  0.  0.  0.]\n",
      " [ 1.  0.  0. ...,  0.  0.  0.]\n",
      " ..., \n",
      " [ 0.  0.  0. ...,  1.  0.  0.]\n",
      " [ 0.  0.  0. ...,  0.  1.  0.]\n",
      " [ 1.  0.  0. ...,  0.  0.  0.]]\n"
     ]
    }
   ],
   "source": [
    "label_train, label_valid = train_test_split(y_train, test_size=0.1)\n",
    "print (label_train.shape)\n",
    "print (label_valid.shape)\n",
    "\n",
    "label_train=to_categorical(label_train)\n",
    "label_valid=to_categorical(label_valid)\n",
    "\n",
    "print (label_train.shape)\n",
    "print (label_valid.shape)\n",
    "print (label_train)"
   ]
  },
  {
   "cell_type": "code",
   "execution_count": 10,
   "metadata": {
    "collapsed": true
   },
   "outputs": [],
   "source": [
    "from keras import backend as K\n",
    "import numpy as np\n",
    "\n",
    "def my_init(shape, name=None):\n",
    "    value = np.random.random(shape)\n",
    "    print (value.shape)\n",
    "    return K.variable(value, name=name)\n",
    "\n",
    "#model.add(Dense(64, init=my_init))"
   ]
  },
  {
   "cell_type": "code",
   "execution_count": 11,
   "metadata": {
    "collapsed": false
   },
   "outputs": [
    {
     "name": "stdout",
     "output_type": "stream",
     "text": [
      "(100,)\n"
     ]
    },
    {
     "data": {
      "text/plain": [
       "<CudaNdarrayType(float32, vector)>"
      ]
     },
     "execution_count": 11,
     "metadata": {},
     "output_type": "execute_result"
    }
   ],
   "source": [
    "my_init(100)\n"
   ]
  },
  {
   "cell_type": "code",
   "execution_count": 19,
   "metadata": {
    "collapsed": false
   },
   "outputs": [],
   "source": [
    "model = Sequential()\n",
    "model.add(Dense(50, input_dim=3072,W_regularizer=l2(0.9),init='glorot_uniform', activation='relu'))\n",
    "#model.add(Dense(50,W_regularizer=l2(0.5),init='glorot_uniform', activation='relu'))\n",
    "model.add(Dense(10,W_regularizer=l2(0.9),init='glorot_uniform',activation='softmax'))"
   ]
  },
  {
   "cell_type": "code",
   "execution_count": 20,
   "metadata": {
    "collapsed": false,
    "scrolled": true
   },
   "outputs": [],
   "source": [
    "#autoencoder.compile(optimizer=Adam(lr=0.00001), loss='categorical_crossentropy') #around 35.47% test accuracy\n",
    "model.compile(optimizer=Adam(lr=0.0001), loss='categorical_crossentropy', metrics=['accuracy']) #around 40% test accuracy\n",
    "#model.compile(optimizer=Adam(lr=0.0001, beta_1=0.9, beta_2=0.999, epsilon=1e-08), loss='categorical_crossentropy', metrics=['accuracy']) #around 10% test accuracy\n",
    "#model.compile(optimizer=Adam(lr=0.00001), loss='categorical_crossentropy', metrics=['accuracy']) #around 10% test accuracy\n",
    "#model.compile(optimizer=SGD(lr=0.00001,decay=0.95,momentum=0.5), loss='categorical_crossentropy', metrics=['accuracy']) #around 10% test accuracy\n",
    "#model.compile(optimizer=SGD(lr=0.00001, momentum=0.0, decay=0.0, nesterov=False), loss='categorical_crossentropy', metrics=['accuracy']) #around 10% test accuracy"
   ]
  },
  {
   "cell_type": "code",
   "execution_count": 21,
   "metadata": {
    "collapsed": false
   },
   "outputs": [
    {
     "name": "stdout",
     "output_type": "stream",
     "text": [
      "Train on 45000 samples, validate on 5000 samples\n",
      "Epoch 1/60\n",
      "45000/45000 [==============================] - 1s - loss: 99.3109 - acc: 0.0990 - val_loss: 14.1679 - val_acc: 0.0950\n",
      "Epoch 2/60\n",
      "45000/45000 [==============================] - 1s - loss: 69.9906 - acc: 0.1035 - val_loss: 14.0452 - val_acc: 0.0972\n",
      "Epoch 3/60\n",
      "45000/45000 [==============================] - 1s - loss: 51.6123 - acc: 0.1040 - val_loss: 10.0848 - val_acc: 0.0922\n",
      "Epoch 4/60\n",
      "45000/45000 [==============================] - 1s - loss: 36.0937 - acc: 0.1070 - val_loss: 8.4243 - val_acc: 0.1000\n",
      "Epoch 5/60\n",
      "45000/45000 [==============================] - 1s - loss: 28.0916 - acc: 0.1082 - val_loss: 8.0840 - val_acc: 0.1014\n",
      "Epoch 6/60\n",
      "45000/45000 [==============================] - 1s - loss: 22.9222 - acc: 0.1079 - val_loss: 7.9472 - val_acc: 0.0980\n",
      "Epoch 7/60\n",
      "45000/45000 [==============================] - 1s - loss: 19.4577 - acc: 0.1084 - val_loss: 7.8490 - val_acc: 0.0964\n",
      "Epoch 8/60\n",
      "45000/45000 [==============================] - 1s - loss: 16.8811 - acc: 0.1086 - val_loss: 7.4503 - val_acc: 0.1008\n",
      "Epoch 9/60\n",
      "45000/45000 [==============================] - 1s - loss: 14.9832 - acc: 0.1083 - val_loss: 7.3849 - val_acc: 0.1018\n",
      "Epoch 10/60\n",
      "45000/45000 [==============================] - 1s - loss: 13.5972 - acc: 0.1100 - val_loss: 7.0772 - val_acc: 0.0988\n",
      "Epoch 11/60\n",
      "45000/45000 [==============================] - 1s - loss: 12.1748 - acc: 0.1136 - val_loss: 6.6312 - val_acc: 0.0962\n",
      "Epoch 12/60\n",
      "45000/45000 [==============================] - 1s - loss: 11.1314 - acc: 0.1128 - val_loss: 5.8347 - val_acc: 0.0994\n",
      "Epoch 13/60\n",
      "45000/45000 [==============================] - 1s - loss: 9.6531 - acc: 0.1191 - val_loss: 5.3339 - val_acc: 0.0990\n",
      "Epoch 14/60\n",
      "45000/45000 [==============================] - 1s - loss: 8.7295 - acc: 0.1183 - val_loss: 4.6967 - val_acc: 0.1052\n",
      "Epoch 15/60\n",
      "45000/45000 [==============================] - 1s - loss: 7.5800 - acc: 0.1227 - val_loss: 3.9756 - val_acc: 0.0946\n",
      "Epoch 16/60\n",
      "45000/45000 [==============================] - 1s - loss: 6.8352 - acc: 0.1266 - val_loss: 3.5874 - val_acc: 0.0948\n",
      "Epoch 17/60\n",
      "45000/45000 [==============================] - 1s - loss: 6.3332 - acc: 0.1304 - val_loss: 3.5042 - val_acc: 0.0986\n",
      "Epoch 18/60\n",
      "45000/45000 [==============================] - 1s - loss: 5.8545 - acc: 0.1339 - val_loss: 3.2618 - val_acc: 0.1032\n",
      "Epoch 19/60\n",
      "45000/45000 [==============================] - 1s - loss: 5.6276 - acc: 0.1354 - val_loss: 2.9308 - val_acc: 0.0956\n",
      "Epoch 20/60\n",
      "45000/45000 [==============================] - 1s - loss: 5.3498 - acc: 0.1394 - val_loss: 2.9915 - val_acc: 0.1026\n",
      "Epoch 21/60\n",
      "45000/45000 [==============================] - 1s - loss: 5.0575 - acc: 0.1390 - val_loss: 2.9711 - val_acc: 0.1052\n",
      "Epoch 22/60\n",
      "45000/45000 [==============================] - 1s - loss: 4.7820 - acc: 0.1422 - val_loss: 2.7990 - val_acc: 0.1008\n",
      "Epoch 23/60\n",
      "45000/45000 [==============================] - 1s - loss: 4.6022 - acc: 0.1433 - val_loss: 2.7691 - val_acc: 0.1026\n",
      "Epoch 24/60\n",
      "45000/45000 [==============================] - 1s - loss: 4.3689 - acc: 0.1500 - val_loss: 2.7073 - val_acc: 0.0972\n",
      "Epoch 25/60\n",
      "45000/45000 [==============================] - 1s - loss: 4.2170 - acc: 0.1484 - val_loss: 2.6499 - val_acc: 0.0998\n",
      "Epoch 26/60\n",
      "45000/45000 [==============================] - 1s - loss: 4.0852 - acc: 0.1460 - val_loss: 2.6882 - val_acc: 0.0992\n",
      "Epoch 27/60\n",
      "45000/45000 [==============================] - 1s - loss: 3.9095 - acc: 0.1474 - val_loss: 2.6474 - val_acc: 0.0988\n",
      "Epoch 28/60\n",
      "45000/45000 [==============================] - 1s - loss: 3.7368 - acc: 0.1517 - val_loss: 2.5722 - val_acc: 0.1038\n",
      "Epoch 29/60\n",
      "45000/45000 [==============================] - 1s - loss: 3.5987 - acc: 0.1498 - val_loss: 2.5790 - val_acc: 0.1024\n",
      "Epoch 30/60\n",
      "45000/45000 [==============================] - 1s - loss: 3.4569 - acc: 0.1519 - val_loss: 2.5187 - val_acc: 0.1020\n",
      "Epoch 31/60\n",
      "45000/45000 [==============================] - 1s - loss: 3.3203 - acc: 0.1507 - val_loss: 2.4978 - val_acc: 0.1016\n",
      "Epoch 32/60\n",
      "45000/45000 [==============================] - 1s - loss: 3.2173 - acc: 0.1506 - val_loss: 2.4927 - val_acc: 0.0994\n",
      "Epoch 33/60\n",
      "45000/45000 [==============================] - 1s - loss: 3.1000 - acc: 0.1525 - val_loss: 2.5207 - val_acc: 0.1022\n",
      "Epoch 34/60\n",
      "45000/45000 [==============================] - 1s - loss: 3.0102 - acc: 0.1473 - val_loss: 2.4750 - val_acc: 0.0920\n",
      "Epoch 35/60\n",
      "45000/45000 [==============================] - 1s - loss: 2.9017 - acc: 0.1501 - val_loss: 2.4300 - val_acc: 0.1030\n",
      "Epoch 36/60\n",
      "45000/45000 [==============================] - 1s - loss: 2.8168 - acc: 0.1472 - val_loss: 2.4363 - val_acc: 0.1004\n",
      "Epoch 37/60\n",
      "45000/45000 [==============================] - 1s - loss: 2.7476 - acc: 0.1447 - val_loss: 2.4071 - val_acc: 0.0968\n",
      "Epoch 38/60\n",
      "45000/45000 [==============================] - 1s - loss: 2.6728 - acc: 0.1448 - val_loss: 2.3885 - val_acc: 0.0992\n",
      "Epoch 39/60\n",
      "45000/45000 [==============================] - 1s - loss: 2.6129 - acc: 0.1436 - val_loss: 2.3687 - val_acc: 0.1024\n",
      "Epoch 40/60\n",
      "45000/45000 [==============================] - 1s - loss: 2.5562 - acc: 0.1430 - val_loss: 2.3641 - val_acc: 0.0970\n",
      "Epoch 41/60\n",
      "45000/45000 [==============================] - 1s - loss: 2.5086 - acc: 0.1425 - val_loss: 2.3539 - val_acc: 0.0942\n",
      "Epoch 42/60\n",
      "45000/45000 [==============================] - 1s - loss: 2.4742 - acc: 0.1394 - val_loss: 2.3550 - val_acc: 0.1012\n",
      "Epoch 43/60\n",
      "45000/45000 [==============================] - 1s - loss: 2.4371 - acc: 0.1376 - val_loss: 2.3448 - val_acc: 0.1006\n",
      "Epoch 44/60\n",
      "45000/45000 [==============================] - 1s - loss: 2.4091 - acc: 0.1364 - val_loss: 2.3327 - val_acc: 0.1008\n",
      "Epoch 45/60\n",
      "45000/45000 [==============================] - 1s - loss: 2.3855 - acc: 0.1355 - val_loss: 2.3357 - val_acc: 0.0998\n",
      "Epoch 46/60\n",
      "45000/45000 [==============================] - 1s - loss: 2.3660 - acc: 0.1334 - val_loss: 2.3363 - val_acc: 0.0974\n",
      "Epoch 47/60\n",
      "45000/45000 [==============================] - 1s - loss: 2.3511 - acc: 0.1310 - val_loss: 2.3200 - val_acc: 0.0882\n",
      "Epoch 48/60\n",
      "45000/45000 [==============================] - 1s - loss: 2.3397 - acc: 0.1308 - val_loss: 2.3171 - val_acc: 0.0944\n",
      "Epoch 49/60\n",
      "45000/45000 [==============================] - 1s - loss: 2.3295 - acc: 0.1307 - val_loss: 2.3138 - val_acc: 0.0966\n",
      "Epoch 50/60\n",
      "45000/45000 [==============================] - 1s - loss: 2.3226 - acc: 0.1280 - val_loss: 2.3102 - val_acc: 0.0998\n",
      "Epoch 51/60\n",
      "45000/45000 [==============================] - 1s - loss: 2.3180 - acc: 0.1253 - val_loss: 2.3107 - val_acc: 0.0928\n",
      "Epoch 52/60\n",
      "45000/45000 [==============================] - 1s - loss: 2.3143 - acc: 0.1208 - val_loss: 2.3084 - val_acc: 0.0976\n",
      "Epoch 53/60\n",
      "45000/45000 [==============================] - 1s - loss: 2.3115 - acc: 0.1203 - val_loss: 2.3061 - val_acc: 0.0960\n",
      "Epoch 54/60\n",
      "45000/45000 [==============================] - 1s - loss: 2.3093 - acc: 0.1184 - val_loss: 2.3056 - val_acc: 0.0940\n",
      "Epoch 55/60\n",
      "45000/45000 [==============================] - 1s - loss: 2.3076 - acc: 0.1167 - val_loss: 2.3059 - val_acc: 0.0982\n",
      "Epoch 56/60\n",
      "45000/45000 [==============================] - 1s - loss: 2.3063 - acc: 0.1137 - val_loss: 2.3044 - val_acc: 0.0968\n",
      "Epoch 57/60\n",
      "45000/45000 [==============================] - 1s - loss: 2.3056 - acc: 0.1117 - val_loss: 2.3045 - val_acc: 0.0940\n",
      "Epoch 58/60\n",
      "45000/45000 [==============================] - 1s - loss: 2.3047 - acc: 0.1113 - val_loss: 2.3048 - val_acc: 0.0928\n",
      "Epoch 59/60\n",
      "45000/45000 [==============================] - 1s - loss: 2.3043 - acc: 0.1095 - val_loss: 2.3033 - val_acc: 0.1018\n",
      "Epoch 60/60\n",
      "45000/45000 [==============================] - 1s - loss: 2.3039 - acc: 0.1119 - val_loss: 2.3034 - val_acc: 0.1016\n"
     ]
    }
   ],
   "source": [
    "history=model.fit(s_train, label_train,\n",
    "                nb_epoch=60,\n",
    "                batch_size=250,\n",
    "                shuffle=True,\n",
    "                validation_data=(s_valid, label_valid))"
   ]
  },
  {
   "cell_type": "markdown",
   "metadata": {},
   "source": [
    "print (history.history)"
   ]
  },
  {
   "cell_type": "code",
   "execution_count": 22,
   "metadata": {
    "collapsed": false
   },
   "outputs": [
    {
     "name": "stdout",
     "output_type": "stream",
     "text": [
      "0.152511111399\n"
     ]
    },
    {
     "data": {
      "image/png": "[encoded data removed]",
      "text/plain": [
       "<matplotlib.figure.Figure at 0x7efd6c0d7eb8>"
      ]
     },
     "metadata": {},
     "output_type": "display_data"
    }
   ],
   "source": [
    "\n",
    "plt.plot(history.history['acc'])\n",
    "print(max(history.history['acc']))"
   ]
  },
  {
   "cell_type": "code",
   "execution_count": 17,
   "metadata": {
    "collapsed": false
   },
   "outputs": [
    {
     "data": {
      "text/plain": [
       "[<matplotlib.lines.Line2D at 0x7efd6c5ed780>]"
      ]
     },
     "execution_count": 17,
     "metadata": {},
     "output_type": "execute_result"
    },
    {
     "data": {
      "image/png": "[encoded data removed]",
      "text/plain": [
       "<matplotlib.figure.Figure at 0x7efdf43f5780>"
      ]
     },
     "metadata": {},
     "output_type": "display_data"
    }
   ],
   "source": [
    "plt.plot(history.history['loss'])\n"
   ]
  },
  {
   "cell_type": "code",
   "execution_count": 23,
   "metadata": {
    "collapsed": false
   },
   "outputs": [
    {
     "data": {
      "text/plain": [
       "[<matplotlib.lines.Line2D at 0x7efd6bbd0208>]"
      ]
     },
     "execution_count": 23,
     "metadata": {},
     "output_type": "execute_result"
    },
    {
     "data": {
      "image/png": "[encoded data removed]",
      "text/plain": [
       "<matplotlib.figure.Figure at 0x7efd6bc7dc50>"
      ]
     },
     "metadata": {},
     "output_type": "display_data"
    }
   ],
   "source": [
    "plt.plot(history.history['val_acc'])"
   ]
  },
  {
   "cell_type": "code",
   "execution_count": 15,
   "metadata": {
    "collapsed": false,
    "scrolled": true
   },
   "outputs": [
    {
     "name": "stderr",
     "output_type": "stream",
     "text": [
      "/home/mrafi123/anaconda3/lib/python3.5/site-packages/keras/backend/theano_backend.py:514: UserWarning: theano.function was asked to create a function computing outputs given certain inputs, but the provided input variable at index 1 is not part of the computational graph needed to compute the outputs: keras_learning_phase.\n",
      "To make this warning into an error, you can pass the parameter on_unused_input='raise' to theano.function. To disable it completely, use on_unused_input='ignore'.\n",
      "  **kwargs)\n"
     ]
    },
    {
     "name": "stdout",
     "output_type": "stream",
     "text": [
      " 9696/10000 [============================>.] - ETA: 0sTest accuracy:  [7 7 6 ..., 4 8 1]\n",
      "(10000,)\n"
     ]
    }
   ],
   "source": [
    "test_acc = model.predict_classes(x_test) \n",
    "print ('Test accuracy: ', test_acc)\n",
    "print (test_acc.shape)\n",
    "# round predictions\n",
    "#rounded = [round(x) for x in test_acc]\n",
    "#rounded = np.round(test_acc)\n",
    "#print(rounded[1])"
   ]
  },
  {
   "cell_type": "code",
   "execution_count": null,
   "metadata": {
    "collapsed": false
   },
   "outputs": [],
   "source": []
  },
  {
   "cell_type": "code",
   "execution_count": 16,
   "metadata": {
    "collapsed": false
   },
   "outputs": [
    {
     "name": "stdout",
     "output_type": "stream",
     "text": [
      "(10000,)\n",
      "(10000,)\n"
     ]
    }
   ],
   "source": [
    "print (y_test.shape)\n",
    "#y_test=to_categorical(y_test)\n",
    "print (y_test.shape)"
   ]
  },
  {
   "cell_type": "code",
   "execution_count": 17,
   "metadata": {
    "collapsed": false
   },
   "outputs": [
    {
     "name": "stdout",
     "output_type": "stream",
     "text": [
      "tested  10000 digits\n",
      "correct:  1029 wrong:  8971 error rate:  89.71 %\n",
      "got correctly  10.29 %\n"
     ]
    }
   ],
   "source": [
    "num=len(x_test)\n",
    "r=0\n",
    "w=0\n",
    "for i in range(num):\n",
    "        #print ('y_pred ',test_acc[i])\n",
    "        #print ('labels ',y_test[i])\n",
    "        #without the use of all() returns error truth value of an array with more than one element is ambiguous\n",
    "        #if y_pred[i].all() == labels[i].all():\n",
    "        if np.array_equal(test_acc[i],y_test[i]):\n",
    "            r+=1\n",
    "        else:\n",
    "            w+=1\n",
    "print (\"tested \",  num, \"digits\")\n",
    "print (\"correct: \", r, \"wrong: \", w, \"error rate: \", float(w)*100/(r+w), \"%\")\n",
    "print (\"got correctly \", float(r)*100/(r+w), \"%\")\n"
   ]
  },
  {
   "cell_type": "code",
   "execution_count": null,
   "metadata": {
    "collapsed": true
   },
   "outputs": [],
   "source": []
  }
 ],
 "metadata": {
  "kernelspec": {
   "display_name": "Python 3",
   "language": "python",
   "name": "python3"
  },
  "language_info": {
   "codemirror_mode": {
    "name": "ipython",
    "version": 3
   },
   "file_extension": ".py",
   "mimetype": "text/x-python",
   "name": "python",
   "nbconvert_exporter": "python",
   "pygments_lexer": "ipython3",
   "version": "3.5.2"
  }
 },
 "nbformat": 4,
 "nbformat_minor": 0
}
