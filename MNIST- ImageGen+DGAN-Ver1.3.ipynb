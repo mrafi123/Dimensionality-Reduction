{
 "cells": [
  {
   "cell_type": "code",
   "execution_count": 1,
   "metadata": {
    "collapsed": false,
    "scrolled": true
   },
   "outputs": [
    {
     "name": "stdout",
     "output_type": "stream",
     "text": [
      "Couldn't import dot_parser, loading of dot files will not be possible.\n"
     ]
    },
    {
     "name": "stderr",
     "output_type": "stream",
     "text": [
      "Using gpu device 0: GeForce 920M (CNMeM is disabled, cuDNN not available)\n",
      "Using Theano backend.\n"
     ]
    }
   ],
   "source": [
    "import os    \n",
    "#os.environ['THEANO_FLAGS'] = \"device=gpu1\"  \n",
    "#os.environ[\"THEANO_FLAGS\"] = \"mode=FAST_RUN,device=gpu0,floatX=float32,lib.cnmem=1\"\n",
    "os.environ[\"THEANO_FLAGS\"] = \"mode=FAST_RUN,device=gpu0,floatX=float32\"\n",
    "import theano\n",
    "import numpy as np\n",
    "from keras.layers import Input, Dense, convolutional,Reshape, Flatten\n",
    "from keras.callbacks import EarlyStopping, ModelCheckpoint\n",
    "\n",
    "from keras.models import Model\n",
    "from keras.optimizers import *\n",
    "\n",
    "%matplotlib inline\n",
    "\n",
    "\n",
    "from keras.layers.core import Reshape,Dense,Dropout,Activation,Flatten,MaxoutDense\n",
    "\n",
    "from keras.layers.advanced_activations import LeakyReLU\n",
    "from keras.activations import *\n",
    "from keras.layers.convolutional import Convolution2D, MaxPooling2D, ZeroPadding2D, UpSampling2D\n",
    "from keras.regularizers import *\n",
    "from keras.layers.normalization import *\n"
   ]
  },
  {
   "cell_type": "code",
   "execution_count": 2,
   "metadata": {
    "collapsed": false,
    "scrolled": true
   },
   "outputs": [],
   "source": [
    "x_train = np.genfromtxt('x_train.out')\n",
    "y_train = np.genfromtxt('y_train.out')\n",
    "vx_train = np.genfromtxt('vx_train.out')\n",
    "vy_train = np.genfromtxt('vy_train.out')\n",
    "x_test = np.genfromtxt('x_test.out')\n",
    "y_test = np.genfromtxt('y_test.out')"
   ]
  },
  {
   "cell_type": "code",
   "execution_count": 3,
   "metadata": {
    "collapsed": false
   },
   "outputs": [
    {
     "name": "stdout",
     "output_type": "stream",
     "text": [
      "(50000, 784)\n",
      "(50000,)\n",
      "(10000, 784)\n",
      "(10000,)\n",
      "(10000, 784)\n",
      "(10000,)\n"
     ]
    }
   ],
   "source": [
    "print (x_train.shape)\n",
    "print (y_train.shape)\n",
    "print (vx_train.shape)\n",
    "print (vy_train.shape)\n",
    "print (x_test.shape)\n",
    "print (y_test.shape)"
   ]
  },
  {
   "cell_type": "code",
   "execution_count": 4,
   "metadata": {
    "collapsed": false
   },
   "outputs": [
    {
     "name": "stdout",
     "output_type": "stream",
     "text": [
      "(50000, 1, 28, 28)\n",
      "float64\n",
      "(10000, 1, 28, 28)\n",
      "float64\n",
      "(10000, 1, 28, 28)\n",
      "float64\n"
     ]
    }
   ],
   "source": [
    "train_x_temp = x_train.reshape(-1,1, 28, 28)\n",
    "val_x_temp = vx_train.reshape(-1,1, 28, 28)\n",
    "test_x_temp=x_test.reshape(-1,1, 28, 28)\n",
    "print(train_x_temp.shape)\n",
    "print((train_x_temp.dtype))\n",
    "\n",
    "print(val_x_temp.shape)\n",
    "print(val_x_temp.dtype)\n",
    "\n",
    "print(test_x_temp.shape)\n",
    "print(test_x_temp.dtype)\n"
   ]
  },
  {
   "cell_type": "code",
   "execution_count": 5,
   "metadata": {
    "collapsed": true
   },
   "outputs": [],
   "source": [
    "from keras.preprocessing.image import ImageDataGenerator, array_to_img, img_to_array, load_img\n"
   ]
  },
  {
   "cell_type": "markdown",
   "metadata": {
    "collapsed": true
   },
   "source": [
    "# define data preparation\n",
    "datagen = ImageDataGenerator(\n",
    "        rotation_range=20,\n",
    "        width_shift_range=0.2,\n",
    "        height_shift_range=0.2,\n",
    "        shear_range=0.2,\n",
    "        zoom_range=0.2,\n",
    "        horizontal_flip=False,\n",
    "        fill_mode='nearest',\n",
    "        zca_whitening=True) ---accuracy reduced"
   ]
  },
  {
   "cell_type": "code",
   "execution_count": 6,
   "metadata": {
    "collapsed": true
   },
   "outputs": [],
   "source": [
    "datagen = ImageDataGenerator(\n",
    "        rotation_range=20,\n",
    "        width_shift_range=0.2,\n",
    "        height_shift_range=0.2,\n",
    "        shear_range=0.2,\n",
    "        zoom_range=0.2,\n",
    "        horizontal_flip=False,\n",
    "        fill_mode='nearest')"
   ]
  },
  {
   "cell_type": "code",
   "execution_count": 7,
   "metadata": {
    "collapsed": false
   },
   "outputs": [
    {
     "data": {
      "text/plain": [
       "<keras.preprocessing.image.ImageDataGenerator at 0x7fec86cf96d8>"
      ]
     },
     "execution_count": 7,
     "metadata": {},
     "output_type": "execute_result"
    }
   ],
   "source": [
    "datagen"
   ]
  },
  {
   "cell_type": "code",
   "execution_count": 8,
   "metadata": {
    "collapsed": false
   },
   "outputs": [],
   "source": [
    "# fit parameters from data\n",
    "# Compute quantities required for featurewise normalization\n",
    "# (std, mean, and principal components if ZCA whitening is applied).\n",
    "datagen.fit(train_x_temp)\n",
    "#datagen_fit_v=datagen.fit(val_x_temp)"
   ]
  },
  {
   "cell_type": "code",
   "execution_count": 10,
   "metadata": {
    "collapsed": false
   },
   "outputs": [
    {
     "name": "stdout",
     "output_type": "stream",
     "text": [
      "50000\n",
      "50000\n",
      "(50000, 1, 28, 28)\n"
     ]
    }
   ],
   "source": [
    "import random\n",
    "\n",
    "ntrain = 50000\n",
    "print (train_x_temp.shape[0])\n",
    "trainidx = random.sample(range(0,train_x_temp.shape[0]), ntrain)\n",
    "print (len(trainidx))\n",
    "XT = train_x_temp[trainidx,:,:,:]\n",
    "print (XT.shape)\n"
   ]
  },
  {
   "cell_type": "code",
   "execution_count": 11,
   "metadata": {
    "collapsed": false
   },
   "outputs": [
    {
     "name": "stdout",
     "output_type": "stream",
     "text": [
      "10000\n",
      "10000\n",
      "(10000, 1, 28, 28)\n"
     ]
    }
   ],
   "source": [
    "ntrain_v = 10000\n",
    "print (val_x_temp.shape[0])\n",
    "validx = random.sample(range(0,val_x_temp.shape[0]), ntrain_v)\n",
    "print (len(validx))\n",
    "XV = val_x_temp[validx,:,:,:]\n",
    "print (XV.shape)"
   ]
  },
  {
   "cell_type": "code",
   "execution_count": 12,
   "metadata": {
    "collapsed": false
   },
   "outputs": [
    {
     "name": "stdout",
     "output_type": "stream",
     "text": [
      "(0, 1, 28, 28)\n"
     ]
    }
   ],
   "source": [
    "i=0\n",
    "generated_images = np.empty(shape=[0,1,28,28])\n",
    "print (generated_images.shape)\n",
    "for X_batch in datagen.flow(XT,batch_size=500):\n",
    "    generated_images = np.concatenate((generated_images, X_batch))\n",
    "    i += 1\n",
    "    if i > 99:\n",
    "        break  # otherwise the generator would loop indefinitely"
   ]
  },
  {
   "cell_type": "code",
   "execution_count": 13,
   "metadata": {
    "collapsed": false
   },
   "outputs": [
    {
     "name": "stdout",
     "output_type": "stream",
     "text": [
      "(0, 1, 28, 28)\n"
     ]
    }
   ],
   "source": [
    "i=0\n",
    "generated_images_v = np.empty(shape=[0,1,28,28])\n",
    "print (generated_images_v.shape)\n",
    "for V_batch in datagen.flow(XV,batch_size=100):\n",
    "    generated_images_v = np.concatenate((generated_images_v, V_batch))\n",
    "    i += 1\n",
    "    if i > 99:\n",
    "        break  # otherwise the generator would loop indefinitely"
   ]
  },
  {
   "cell_type": "code",
   "execution_count": 14,
   "metadata": {
    "collapsed": false
   },
   "outputs": [
    {
     "name": "stdout",
     "output_type": "stream",
     "text": [
      "(50000, 1, 28, 28)\n",
      "(10000, 1, 28, 28)\n"
     ]
    }
   ],
   "source": [
    "print (generated_images.shape)\n",
    "print (generated_images_v.shape)"
   ]
  },
  {
   "cell_type": "code",
   "execution_count": 15,
   "metadata": {
    "collapsed": false
   },
   "outputs": [
    {
     "data": {
      "image/png": "[encoded data removed]",
      "text/plain": [
       "<matplotlib.figure.Figure at 0x7fec86cf9dd8>"
      ]
     },
     "metadata": {},
     "output_type": "display_data"
    }
   ],
   "source": [
    "import matplotlib.pyplot as pyplot\n",
    "\n",
    "for i in range(0, 9):\n",
    "\tpyplot.subplot(330 + 1 + i)\n",
    "\tpyplot.imshow(XT[i].reshape(28, 28), cmap=pyplot.get_cmap('gray'))\n",
    "\t# show the plot\n",
    "pyplot.show()"
   ]
  },
  {
   "cell_type": "code",
   "execution_count": 16,
   "metadata": {
    "collapsed": false
   },
   "outputs": [
    {
     "data": {
      "image/png": "[encoded data removed]",
      "text/plain": [
       "<matplotlib.figure.Figure at 0x7fec87956668>"
      ]
     },
     "metadata": {},
     "output_type": "display_data"
    }
   ],
   "source": [
    "\tfor i in range(0, 9):\n",
    "\t\tpyplot.subplot(330 + 1 + i)\n",
    "\t\tpyplot.imshow(generated_images[i].reshape(28, 28), cmap=pyplot.get_cmap('gray'))\n",
    "\t# show the plot\n",
    "\tpyplot.show()"
   ]
  },
  {
   "cell_type": "code",
   "execution_count": 17,
   "metadata": {
    "collapsed": false
   },
   "outputs": [
    {
     "data": {
      "image/png": "[encoded data removed]",
      "text/plain": [
       "<matplotlib.figure.Figure at 0x7febe7e4ae48>"
      ]
     },
     "metadata": {},
     "output_type": "display_data"
    }
   ],
   "source": [
    "\tfor i in range(0, 9):\n",
    "\t\tpyplot.subplot(330 + 1 + i)\n",
    "\t\tpyplot.imshow(generated_images_v[i].reshape(28, 28), cmap=pyplot.get_cmap('gray'))\n",
    "\t# show the plot\n",
    "\tpyplot.show()"
   ]
  },
  {
   "cell_type": "code",
   "execution_count": 18,
   "metadata": {
    "collapsed": false
   },
   "outputs": [
    {
     "name": "stdout",
     "output_type": "stream",
     "text": [
      "(100000, 1, 28, 28)\n",
      "(100000, 2)\n"
     ]
    }
   ],
   "source": [
    "X = np.concatenate((XT, generated_images))\n",
    "print (X.shape)\n",
    "n = XT.shape[0]\n",
    "y = np.zeros([2*n,2])\n",
    "print (y.shape)\n",
    "y[:n,1] = 1\n",
    "y[n:,0] = 1"
   ]
  },
  {
   "cell_type": "code",
   "execution_count": 19,
   "metadata": {
    "collapsed": false
   },
   "outputs": [
    {
     "data": {
      "text/plain": [
       "array([[ 0.,  1.],\n",
       "       [ 0.,  1.],\n",
       "       [ 0.,  1.],\n",
       "       ..., \n",
       "       [ 1.,  0.],\n",
       "       [ 1.,  0.],\n",
       "       [ 1.,  0.]])"
      ]
     },
     "execution_count": 19,
     "metadata": {},
     "output_type": "execute_result"
    }
   ],
   "source": [
    "y"
   ]
  },
  {
   "cell_type": "code",
   "execution_count": 20,
   "metadata": {
    "collapsed": false
   },
   "outputs": [
    {
     "name": "stdout",
     "output_type": "stream",
     "text": [
      "(20000, 1, 28, 28)\n",
      "(20000, 2)\n",
      "[[ 0.  1.]\n",
      " [ 0.  1.]\n",
      " [ 0.  1.]\n",
      " ..., \n",
      " [ 1.  0.]\n",
      " [ 1.  0.]\n",
      " [ 1.  0.]]\n"
     ]
    }
   ],
   "source": [
    "val_X=np.concatenate((XV, generated_images_v))\n",
    "print (val_X.shape)\n",
    "n = XV.shape[0]\n",
    "val_y = np.zeros([2*n,2])\n",
    "print (val_y.shape)\n",
    "val_y[:n,1] = 1\n",
    "val_y[n:,0] = 1\n",
    "print (val_y)"
   ]
  },
  {
   "cell_type": "code",
   "execution_count": 21,
   "metadata": {
    "collapsed": false
   },
   "outputs": [
    {
     "name": "stdout",
     "output_type": "stream",
     "text": [
      "(1, 28, 28)\n"
     ]
    }
   ],
   "source": [
    "shp = XT.shape[1:]\n",
    "dropout_rate = 0.25\n",
    "opt = Adam(lr=1e-4)\n",
    "dopt = Adam(lr=1e-3)\n",
    "print (shp)"
   ]
  },
  {
   "cell_type": "markdown",
   "metadata": {
    "collapsed": false
   },
   "source": [
    "# Build Discriminative model ...\n",
    "d_input = Input(shape=shp)\n",
    "H = Convolution2D(256, 5, 5, subsample=(2, 2), border_mode = 'same', activation='relu')(d_input)\n",
    "H = LeakyReLU(0.2)(H)\n",
    "H = Dropout(dropout_rate)(H)\n",
    "H = Convolution2D(512, 5, 5, subsample=(2, 2), border_mode = 'same', activation='relu')(H)\n",
    "H = LeakyReLU(0.2)(H)\n",
    "H = Dropout(dropout_rate)(H)\n",
    "H = Flatten()(H)\n",
    "H = Dense(256)(H)\n",
    "H = LeakyReLU(0.2)(H)\n",
    "H = Dropout(dropout_rate)(H)\n",
    "#encoder = Dense(40,activation='sigmoid')(H)\n",
    "encoder = Dense(40)(H)\n",
    "d_V = Dense(2,activation='softmax')(encoder)\n",
    "discriminator = Model(d_input,d_V)\n",
    "discriminator.compile(loss='categorical_crossentropy', optimizer=dopt)\n",
    "discriminator.summary()\n",
    "\n",
    "encoder = Model(d_input,encoder)\n",
    "encoder.compile(loss='categorical_crossentropy', optimizer=dopt)\n",
    "encoder.summary()"
   ]
  },
  {
   "cell_type": "code",
   "execution_count": 22,
   "metadata": {
    "collapsed": false
   },
   "outputs": [
    {
     "name": "stdout",
     "output_type": "stream",
     "text": [
      "____________________________________________________________________________________________________\n",
      "Layer (type)                     Output Shape          Param #     Connected to                     \n",
      "====================================================================================================\n",
      "input_1 (InputLayer)             (None, 1, 28, 28)     0                                            \n",
      "____________________________________________________________________________________________________\n",
      "convolution2d_1 (Convolution2D)  (None, 64, 14, 14)    1664        input_1[0][0]                    \n",
      "____________________________________________________________________________________________________\n",
      "leakyrelu_1 (LeakyReLU)          (None, 64, 14, 14)    0           convolution2d_1[0][0]            \n",
      "____________________________________________________________________________________________________\n",
      "dropout_1 (Dropout)              (None, 64, 14, 14)    0           leakyrelu_1[0][0]                \n",
      "____________________________________________________________________________________________________\n",
      "convolution2d_2 (Convolution2D)  (None, 128, 7, 7)     204928      dropout_1[0][0]                  \n",
      "____________________________________________________________________________________________________\n",
      "leakyrelu_2 (LeakyReLU)          (None, 128, 7, 7)     0           convolution2d_2[0][0]            \n",
      "____________________________________________________________________________________________________\n",
      "dropout_2 (Dropout)              (None, 128, 7, 7)     0           leakyrelu_2[0][0]                \n",
      "____________________________________________________________________________________________________\n",
      "flatten_1 (Flatten)              (None, 6272)          0           dropout_2[0][0]                  \n",
      "____________________________________________________________________________________________________\n",
      "dense_1 (Dense)                  (None, 128)           802944      flatten_1[0][0]                  \n",
      "____________________________________________________________________________________________________\n",
      "leakyrelu_3 (LeakyReLU)          (None, 128)           0           dense_1[0][0]                    \n",
      "____________________________________________________________________________________________________\n",
      "dropout_3 (Dropout)              (None, 128)           0           leakyrelu_3[0][0]                \n",
      "____________________________________________________________________________________________________\n",
      "dense_2 (Dense)                  (None, 40)            5160        dropout_3[0][0]                  \n",
      "____________________________________________________________________________________________________\n",
      "dense_3 (Dense)                  (None, 2)             82          dense_2[0][0]                    \n",
      "====================================================================================================\n",
      "Total params: 1014778\n",
      "____________________________________________________________________________________________________\n",
      "____________________________________________________________________________________________________\n",
      "Layer (type)                     Output Shape          Param #     Connected to                     \n",
      "====================================================================================================\n",
      "input_1 (InputLayer)             (None, 1, 28, 28)     0                                            \n",
      "____________________________________________________________________________________________________\n",
      "convolution2d_1 (Convolution2D)  (None, 64, 14, 14)    1664        input_1[0][0]                    \n",
      "____________________________________________________________________________________________________\n",
      "leakyrelu_1 (LeakyReLU)          (None, 64, 14, 14)    0           convolution2d_1[0][0]            \n",
      "____________________________________________________________________________________________________\n",
      "dropout_1 (Dropout)              (None, 64, 14, 14)    0           leakyrelu_1[0][0]                \n",
      "____________________________________________________________________________________________________\n",
      "convolution2d_2 (Convolution2D)  (None, 128, 7, 7)     204928      dropout_1[0][0]                  \n",
      "____________________________________________________________________________________________________\n",
      "leakyrelu_2 (LeakyReLU)          (None, 128, 7, 7)     0           convolution2d_2[0][0]            \n",
      "____________________________________________________________________________________________________\n",
      "dropout_2 (Dropout)              (None, 128, 7, 7)     0           leakyrelu_2[0][0]                \n",
      "____________________________________________________________________________________________________\n",
      "flatten_1 (Flatten)              (None, 6272)          0           dropout_2[0][0]                  \n",
      "____________________________________________________________________________________________________\n",
      "dense_1 (Dense)                  (None, 128)           802944      flatten_1[0][0]                  \n",
      "____________________________________________________________________________________________________\n",
      "leakyrelu_3 (LeakyReLU)          (None, 128)           0           dense_1[0][0]                    \n",
      "____________________________________________________________________________________________________\n",
      "dropout_3 (Dropout)              (None, 128)           0           leakyrelu_3[0][0]                \n",
      "____________________________________________________________________________________________________\n",
      "dense_2 (Dense)                  (None, 40)            5160        dropout_3[0][0]                  \n",
      "====================================================================================================\n",
      "Total params: 1014696\n",
      "____________________________________________________________________________________________________\n"
     ]
    }
   ],
   "source": [
    "# Build Discriminative model ...\n",
    "d_input = Input(shape=shp)\n",
    "H = Convolution2D(64, 5, 5, subsample=(2, 2), border_mode = 'same', activation='relu')(d_input)\n",
    "H = LeakyReLU(0.2)(H)\n",
    "H = Dropout(dropout_rate)(H)\n",
    "H = Convolution2D(128, 5, 5, subsample=(2, 2), border_mode = 'same', activation='relu')(H)\n",
    "H = LeakyReLU(0.2)(H)\n",
    "H = Dropout(dropout_rate)(H)\n",
    "H = Flatten()(H)\n",
    "H = Dense(128)(H)\n",
    "H = LeakyReLU(0.2)(H)\n",
    "H = Dropout(dropout_rate)(H)\n",
    "#encoder = Dense(40,activation='sigmoid')(H)--not gving accuracy?what is the default?\n",
    "encoder = Dense(40)(H)\n",
    "d_V = Dense(2,activation='softmax')(encoder)\n",
    "discriminator = Model(d_input,d_V)\n",
    "discriminator.compile(loss='categorical_crossentropy', optimizer=dopt)\n",
    "discriminator.summary()\n",
    "\n",
    "encoder = Model(d_input,encoder)\n",
    "encoder.compile(loss='categorical_crossentropy', optimizer=dopt)\n",
    "encoder.summary()"
   ]
  },
  {
   "cell_type": "code",
   "execution_count": 23,
   "metadata": {
    "collapsed": true
   },
   "outputs": [],
   "source": [
    "nb_epoch=50\n",
    "batch_size=128\n",
    "random_state =55789"
   ]
  },
  {
   "cell_type": "code",
   "execution_count": 24,
   "metadata": {
    "collapsed": false
   },
   "outputs": [
    {
     "name": "stdout",
     "output_type": "stream",
     "text": [
      "weights_kfold_MNIST-Aug_Discmtv_Conn_Encoder-Ver1.3_epoch_50_batch_128.h5\n"
     ]
    }
   ],
   "source": [
    "kfold_weights_path = os.path.join('weights_kfold_' +  'MNIST-Aug_Discmtv_Conn_Encoder-Ver1.3' +\n",
    "                                  '_epoch_'+str(nb_epoch)+\n",
    "                                  '_batch_'+str(batch_size)\n",
    "                                  +'.h5')\n",
    "print(kfold_weights_path)"
   ]
  },
  {
   "cell_type": "code",
   "execution_count": 25,
   "metadata": {
    "collapsed": false
   },
   "outputs": [
    {
     "data": {
      "text/plain": [
       "False"
      ]
     },
     "execution_count": 25,
     "metadata": {},
     "output_type": "execute_result"
    }
   ],
   "source": [
    "os.path.isfile(kfold_weights_path)"
   ]
  },
  {
   "cell_type": "code",
   "execution_count": 26,
   "metadata": {
    "collapsed": false
   },
   "outputs": [
    {
     "name": "stdout",
     "output_type": "stream",
     "text": [
      "Training for the first time...\n"
     ]
    }
   ],
   "source": [
    "# Some transfer learning\n",
    "if os.path.isfile(kfold_weights_path):\n",
    "    print ('Loading already stored weights...')\n",
    "    discriminator.load_weights(kfold_weights_path)\n",
    "else:\n",
    "    print ('Training for the first time...')\n",
    "    "
   ]
  },
  {
   "cell_type": "code",
   "execution_count": 27,
   "metadata": {
    "collapsed": false
   },
   "outputs": [
    {
     "name": "stdout",
     "output_type": "stream",
     "text": [
      "Train on 100000 samples, validate on 20000 samples\n",
      "Epoch 1/50\n",
      " 99968/100000 [============================>.] - ETA: 0s - loss: 0.1024Epoch 00000: val_loss improved from inf to 0.05365, saving model to weights_kfold_MNIST-Aug_Discmtv_Conn_Encoder-Ver1.3_epoch_50_batch_128.h5\n",
      "100000/100000 [==============================] - 109s - loss: 0.1024 - val_loss: 0.0537\n",
      "Epoch 2/50\n",
      " 99968/100000 [============================>.] - ETA: 0s - loss: 0.0617Epoch 00001: val_loss did not improve\n",
      "100000/100000 [==============================] - 108s - loss: 0.0617 - val_loss: 0.0603\n",
      "Epoch 3/50\n",
      " 99968/100000 [============================>.] - ETA: 0s - loss: 0.0535Epoch 00002: val_loss improved from 0.05365 to 0.04184, saving model to weights_kfold_MNIST-Aug_Discmtv_Conn_Encoder-Ver1.3_epoch_50_batch_128.h5\n",
      "100000/100000 [==============================] - 109s - loss: 0.0535 - val_loss: 0.0418\n",
      "Epoch 4/50\n",
      " 99968/100000 [============================>.] - ETA: 0s - loss: 0.0491Epoch 00003: val_loss improved from 0.04184 to 0.03951, saving model to weights_kfold_MNIST-Aug_Discmtv_Conn_Encoder-Ver1.3_epoch_50_batch_128.h5\n",
      "100000/100000 [==============================] - 109s - loss: 0.0491 - val_loss: 0.0395\n",
      "Epoch 5/50\n",
      " 99968/100000 [============================>.] - ETA: 0s - loss: 0.0435Epoch 00004: val_loss did not improve\n",
      "100000/100000 [==============================] - 109s - loss: 0.0436 - val_loss: 0.0546\n",
      "Epoch 6/50\n",
      " 99968/100000 [============================>.] - ETA: 0s - loss: 0.0418Epoch 00005: val_loss improved from 0.03951 to 0.03551, saving model to weights_kfold_MNIST-Aug_Discmtv_Conn_Encoder-Ver1.3_epoch_50_batch_128.h5\n",
      "100000/100000 [==============================] - 109s - loss: 0.0418 - val_loss: 0.0355\n",
      "Epoch 7/50\n",
      " 99968/100000 [============================>.] - ETA: 0s - loss: 0.0353Epoch 00006: val_loss did not improve\n",
      "100000/100000 [==============================] - 109s - loss: 0.0352 - val_loss: 0.0392\n",
      "Epoch 8/50\n",
      " 99968/100000 [============================>.] - ETA: 0s - loss: 0.0320Epoch 00007: val_loss improved from 0.03551 to 0.02610, saving model to weights_kfold_MNIST-Aug_Discmtv_Conn_Encoder-Ver1.3_epoch_50_batch_128.h5\n",
      "100000/100000 [==============================] - 109s - loss: 0.0320 - val_loss: 0.0261\n",
      "Epoch 9/50\n",
      " 99968/100000 [============================>.] - ETA: 0s - loss: 0.0293Epoch 00008: val_loss improved from 0.02610 to 0.02574, saving model to weights_kfold_MNIST-Aug_Discmtv_Conn_Encoder-Ver1.3_epoch_50_batch_128.h5\n",
      "100000/100000 [==============================] - 109s - loss: 0.0293 - val_loss: 0.0257\n",
      "Epoch 10/50\n",
      " 99968/100000 [============================>.] - ETA: 0s - loss: 0.0257Epoch 00009: val_loss improved from 0.02574 to 0.02248, saving model to weights_kfold_MNIST-Aug_Discmtv_Conn_Encoder-Ver1.3_epoch_50_batch_128.h5\n",
      "100000/100000 [==============================] - 110s - loss: 0.0257 - val_loss: 0.0225\n",
      "Epoch 11/50\n",
      " 99968/100000 [============================>.] - ETA: 0s - loss: 0.0227Epoch 00010: val_loss improved from 0.02248 to 0.02098, saving model to weights_kfold_MNIST-Aug_Discmtv_Conn_Encoder-Ver1.3_epoch_50_batch_128.h5\n",
      "100000/100000 [==============================] - 110s - loss: 0.0227 - val_loss: 0.0210\n",
      "Epoch 12/50\n",
      " 99968/100000 [============================>.] - ETA: 0s - loss: 0.0209Epoch 00011: val_loss did not improve\n",
      "100000/100000 [==============================] - 111s - loss: 0.0209 - val_loss: 0.0302\n",
      "Epoch 13/50\n",
      " 99968/100000 [============================>.] - ETA: 0s - loss: 0.0198Epoch 00012: val_loss improved from 0.02098 to 0.01869, saving model to weights_kfold_MNIST-Aug_Discmtv_Conn_Encoder-Ver1.3_epoch_50_batch_128.h5\n",
      "100000/100000 [==============================] - 110s - loss: 0.0198 - val_loss: 0.0187\n",
      "Epoch 14/50\n",
      " 99968/100000 [============================>.] - ETA: 0s - loss: 0.0192Epoch 00013: val_loss did not improve\n",
      "100000/100000 [==============================] - 110s - loss: 0.0192 - val_loss: 0.0213\n",
      "Epoch 15/50\n",
      " 99968/100000 [============================>.] - ETA: 0s - loss: 0.0177Epoch 00014: val_loss improved from 0.01869 to 0.01751, saving model to weights_kfold_MNIST-Aug_Discmtv_Conn_Encoder-Ver1.3_epoch_50_batch_128.h5\n",
      "100000/100000 [==============================] - 110s - loss: 0.0177 - val_loss: 0.0175\n",
      "Epoch 16/50\n",
      " 99968/100000 [============================>.] - ETA: 0s - loss: 0.0153Epoch 00015: val_loss did not improve\n",
      "100000/100000 [==============================] - 110s - loss: 0.0153 - val_loss: 0.0194\n",
      "Epoch 17/50\n",
      " 99968/100000 [============================>.] - ETA: 0s - loss: 0.0142Epoch 00016: val_loss did not improve\n",
      "100000/100000 [==============================] - 109s - loss: 0.0142 - val_loss: 0.0260\n",
      "Epoch 18/50\n",
      " 99968/100000 [============================>.] - ETA: 0s - loss: 0.0137Epoch 00017: early stopping\n",
      "Epoch 00017: val_loss did not improve\n",
      "100000/100000 [==============================] - 111s - loss: 0.0137 - val_loss: 0.0284\n"
     ]
    }
   ],
   "source": [
    "callbacks = [\n",
    "                EarlyStopping(monitor='val_loss', patience=2, verbose=1),\n",
    "                ModelCheckpoint(kfold_weights_path, monitor='val_loss', save_best_only=True, verbose=1),\n",
    "            ]\n",
    "history=discriminator.fit(X, y,\n",
    "            nb_epoch=nb_epoch,\n",
    "            batch_size=batch_size,\n",
    "            shuffle=True,\n",
    "            validation_data=(val_X, val_y),\n",
    "            callbacks=callbacks\n",
    "            )"
   ]
  },
  {
   "cell_type": "code",
   "execution_count": 34,
   "metadata": {
    "collapsed": false
   },
   "outputs": [
    {
     "name": "stdout",
     "output_type": "stream",
     "text": [
      "dict_keys(['val_loss', 'loss'])\n"
     ]
    },
    {
     "ename": "KeyError",
     "evalue": "'acc'",
     "output_type": "error",
     "traceback": [
      "\u001b[1;31m---------------------------------------------------------------------------\u001b[0m",
      "\u001b[1;31mKeyError\u001b[0m                                  Traceback (most recent call last)",
      "\u001b[1;32m<ipython-input-34-204e5040c2bd>\u001b[0m in \u001b[0;36m<module>\u001b[1;34m()\u001b[0m\n\u001b[0;32m      1\u001b[0m \u001b[0mprint\u001b[0m\u001b[1;33m(\u001b[0m\u001b[0mhistory\u001b[0m\u001b[1;33m.\u001b[0m\u001b[0mhistory\u001b[0m\u001b[1;33m.\u001b[0m\u001b[0mkeys\u001b[0m\u001b[1;33m(\u001b[0m\u001b[1;33m)\u001b[0m\u001b[1;33m)\u001b[0m\u001b[1;33m\u001b[0m\u001b[0m\n\u001b[0;32m      2\u001b[0m \u001b[1;31m# summarize history for accuracy\u001b[0m\u001b[1;33m\u001b[0m\u001b[1;33m\u001b[0m\u001b[0m\n\u001b[1;32m----> 3\u001b[1;33m \u001b[0mpyplot\u001b[0m\u001b[1;33m.\u001b[0m\u001b[0mplot\u001b[0m\u001b[1;33m(\u001b[0m\u001b[0mhistory\u001b[0m\u001b[1;33m.\u001b[0m\u001b[0mhistory\u001b[0m\u001b[1;33m[\u001b[0m\u001b[1;34m'acc'\u001b[0m\u001b[1;33m]\u001b[0m\u001b[1;33m)\u001b[0m\u001b[1;33m\u001b[0m\u001b[0m\n\u001b[0m\u001b[0;32m      4\u001b[0m \u001b[0mpyplot\u001b[0m\u001b[1;33m.\u001b[0m\u001b[0mplot\u001b[0m\u001b[1;33m(\u001b[0m\u001b[0mhistory\u001b[0m\u001b[1;33m.\u001b[0m\u001b[0mhistory\u001b[0m\u001b[1;33m[\u001b[0m\u001b[1;34m'val_acc'\u001b[0m\u001b[1;33m]\u001b[0m\u001b[1;33m)\u001b[0m\u001b[1;33m\u001b[0m\u001b[0m\n\u001b[0;32m      5\u001b[0m \u001b[0mpyplot\u001b[0m\u001b[1;33m.\u001b[0m\u001b[0mtitle\u001b[0m\u001b[1;33m(\u001b[0m\u001b[1;34m'model accuracy'\u001b[0m\u001b[1;33m)\u001b[0m\u001b[1;33m\u001b[0m\u001b[0m\n",
      "\u001b[1;31mKeyError\u001b[0m: 'acc'"
     ]
    }
   ],
   "source": [
    "print(history.history.keys())\n",
    "# summarize history for accuracy\n",
    "pyplot.plot(history.history['acc'])\n",
    "pyplot.plot(history.history['val_acc'])\n",
    "pyplot.title('model accuracy')\n",
    "pyplot.ylabel('accuracy')\n",
    "pyplot.xlabel('epoch')\n",
    "pyplot.legend(['train', 'test'], loc='upper left')\n",
    "pyplot.show()\n"
   ]
  },
  {
   "cell_type": "code",
   "execution_count": 28,
   "metadata": {
    "collapsed": false
   },
   "outputs": [
    {
     "data": {
      "image/png": "[encoded data removed]",
      "text/plain": [
       "<matplotlib.figure.Figure at 0x7fec87e76748>"
      ]
     },
     "metadata": {},
     "output_type": "display_data"
    }
   ],
   "source": [
    "# summarize history for loss\n",
    "pyplot.plot(history.history['loss'])\n",
    "pyplot.plot(history.history['val_loss'])\n",
    "pyplot.title('model loss')\n",
    "pyplot.ylabel('loss')\n",
    "pyplot.xlabel('epoch')\n",
    "pyplot.legend(['train', 'test'], loc='upper left')\n",
    "pyplot.show()"
   ]
  },
  {
   "cell_type": "code",
   "execution_count": null,
   "metadata": {
    "collapsed": true
   },
   "outputs": [],
   "source": []
  },
  {
   "cell_type": "code",
   "execution_count": 29,
   "metadata": {
    "collapsed": false
   },
   "outputs": [
    {
     "name": "stdout",
     "output_type": "stream",
     "text": [
      "2000000\n",
      "(50000, 40)\n",
      "16000000\n"
     ]
    }
   ],
   "source": [
    "encoded_train_imgs = encoder.predict(train_x_temp)\n",
    "print (encoded_train_imgs.size)\n",
    "print (encoded_train_imgs.shape)\n",
    "print (encoded_train_imgs.nbytes)"
   ]
  },
  {
   "cell_type": "code",
   "execution_count": 30,
   "metadata": {
    "collapsed": false
   },
   "outputs": [
    {
     "name": "stdout",
     "output_type": "stream",
     "text": [
      "400000\n",
      "(10000, 40)\n",
      "3200000\n"
     ]
    }
   ],
   "source": [
    "encoded_test_imgs = encoder.predict(test_x_temp)\n",
    "print (encoded_test_imgs.size)\n",
    "print (encoded_test_imgs.shape)\n",
    "print (encoded_test_imgs.nbytes)"
   ]
  },
  {
   "cell_type": "code",
   "execution_count": 31,
   "metadata": {
    "collapsed": false
   },
   "outputs": [
    {
     "data": {
      "text/plain": [
       "array([[-7.91515589,  1.45334578, -1.96524858, ...,  0.02219454,\n",
       "         2.52484441,  2.11483955],\n",
       "       [-5.60996056,  0.70128495, -4.31555557, ...,  1.53380144,\n",
       "         3.56262922,  3.57921386],\n",
       "       [-8.09949017, -0.09362361, -1.58560848, ...,  2.19821072,\n",
       "         1.48151779,  0.34271389],\n",
       "       ..., \n",
       "       [-7.86966085,  0.94725263, -1.37635446, ..., -0.89113474,\n",
       "         1.70056796,  2.95607972],\n",
       "       [-6.74589825, -2.07191706, -1.39200497, ...,  0.81623995,\n",
       "         0.24283075,  1.11765587],\n",
       "       [-5.24686575, -0.12724097, -2.40967584, ...,  0.72109377,\n",
       "         2.42546511,  2.59433246]])"
      ]
     },
     "execution_count": 31,
     "metadata": {},
     "output_type": "execute_result"
    }
   ],
   "source": [
    "encoded_test_imgs"
   ]
  },
  {
   "cell_type": "code",
   "execution_count": 32,
   "metadata": {
    "collapsed": false
   },
   "outputs": [],
   "source": [
    "from sklearn.neighbors import KNeighborsClassifier\n",
    "clf = KNeighborsClassifier(n_neighbors=5)\n",
    "clf = clf.fit(encoded_train_imgs, y_train)"
   ]
  },
  {
   "cell_type": "code",
   "execution_count": 33,
   "metadata": {
    "collapsed": true
   },
   "outputs": [],
   "source": [
    "y_pred = clf.predict(encoded_test_imgs)\n"
   ]
  },
  {
   "cell_type": "code",
   "execution_count": 34,
   "metadata": {
    "collapsed": false
   },
   "outputs": [
    {
     "data": {
      "text/plain": [
       "array([ 7.,  2.,  1., ...,  4.,  5.,  6.])"
      ]
     },
     "execution_count": 34,
     "metadata": {},
     "output_type": "execute_result"
    }
   ],
   "source": [
    "y_pred"
   ]
  },
  {
   "cell_type": "code",
   "execution_count": 35,
   "metadata": {
    "collapsed": false
   },
   "outputs": [
    {
     "data": {
      "text/plain": [
       "array([ 7.,  2.,  1., ...,  4.,  5.,  6.])"
      ]
     },
     "execution_count": 35,
     "metadata": {},
     "output_type": "execute_result"
    }
   ],
   "source": [
    "y_test"
   ]
  },
  {
   "cell_type": "code",
   "execution_count": 36,
   "metadata": {
    "collapsed": false
   },
   "outputs": [
    {
     "name": "stdout",
     "output_type": "stream",
     "text": [
      "tested  10000 digits\n",
      "correct:  8159 wrong:  1841 error rate:  18.41 %\n",
      "got correctly  81.59 %\n"
     ]
    }
   ],
   "source": [
    "num=len(encoded_test_imgs)\n",
    "r=0\n",
    "w=0\n",
    "for i in range(num):\n",
    "        #print ('y_pred ',y_pred[i])\n",
    "        #print ('labels ',labels[i])\n",
    "        #without the use of all() returns error truth value of an array with more than one element is ambiguous\n",
    "        #if y_pred[i].all() == labels[i].all():\n",
    "        if np.array_equal(y_pred[i],y_test[i]):\n",
    "            r+=1\n",
    "        else:\n",
    "            w+=1\n",
    "print (\"tested \",  num, \"digits\")\n",
    "print (\"correct: \", r, \"wrong: \", w, \"error rate: \", float(w)*100/(r+w), \"%\")\n",
    "print (\"got correctly \", float(r)*100/(r+w), \"%\")\n",
    "# With Val only having Real images 5 epochs - 48.17%\n",
    "# With Val also having generated images +5 epochs - 28.89%\n",
    "# With Model complexity reduced and 5 epochs - 82.4%\n",
    "# With Model complexity reduced and 5 epochs - 81.4%\n",
    "# With1.1 ZCA added and 50 epochs - 64.61%\n",
    "# With1.1 ZCA removed and 50 epochs - 82.86%"
   ]
  },
  {
   "cell_type": "markdown",
   "metadata": {
    "collapsed": true
   },
   "source": [
    "Clustering..."
   ]
  },
  {
   "cell_type": "code",
   "execution_count": 43,
   "metadata": {
    "collapsed": true
   },
   "outputs": [],
   "source": [
    "from sklearn import linear_model\n",
    "from sklearn.preprocessing import scale\n",
    "import matplotlib.pyplot as plt\n",
    "import seaborn as sb\n",
    "%matplotlib inline\n",
    "from sklearn.cluster import KMeans\n",
    "import pandas as pd\n",
    "from sklearn.decomposition import PCA"
   ]
  },
  {
   "cell_type": "code",
   "execution_count": 43,
   "metadata": {
    "collapsed": true
   },
   "outputs": [],
   "source": [
    "# apply pca to reduce to 2 dimensions\n",
    "reduced_train_data = PCA(n_components=2).fit_transform(encoded_train_imgs)\n",
    "reduced_test_data = PCA(n_components=2).fit_transform(encoded_test_imgs)\n"
   ]
  },
  {
   "cell_type": "code",
   "execution_count": 44,
   "metadata": {
    "collapsed": true
   },
   "outputs": [],
   "source": [
    "# dont appy and further DR\n",
    "reduced_train_data = encoded_train_imgs\n",
    "reduced_test_data = encoded_test_imgs\n"
   ]
  },
  {
   "cell_type": "code",
   "execution_count": 45,
   "metadata": {
    "collapsed": false
   },
   "outputs": [
    {
     "name": "stdout",
     "output_type": "stream",
     "text": [
      "(50000, 40)\n",
      "(10000, 40)\n"
     ]
    }
   ],
   "source": [
    "print (reduced_train_data.shape)\n",
    "print (reduced_test_data.shape)"
   ]
  },
  {
   "cell_type": "code",
   "execution_count": 46,
   "metadata": {
    "collapsed": false
   },
   "outputs": [
    {
     "name": "stdout",
     "output_type": "stream",
     "text": [
      "(50000,)\n",
      "(50000, 1)\n",
      "(10000,)\n",
      "(10000, 1)\n"
     ]
    }
   ],
   "source": [
    "print(y_train.shape)\n",
    "y_train_pd=y_train.reshape(50000,1)\n",
    "print(y_train_pd.shape)\n",
    "print (y_test.shape)\n",
    "y_test_pd=y_test.reshape(10000,1)\n",
    "\n",
    "print (y_test_pd.shape)"
   ]
  },
  {
   "cell_type": "code",
   "execution_count": 47,
   "metadata": {
    "collapsed": true
   },
   "outputs": [],
   "source": [
    "train_df = pd.DataFrame(reduced_train_data)"
   ]
  },
  {
   "cell_type": "code",
   "execution_count": 48,
   "metadata": {
    "collapsed": false
   },
   "outputs": [],
   "source": [
    "train_df['Label'] = pd.DataFrame(y_train_pd)"
   ]
  },
  {
   "cell_type": "code",
   "execution_count": 49,
   "metadata": {
    "collapsed": false
   },
   "outputs": [
    {
     "data": {
      "text/html": [
       "<div>\n",
       "<table border=\"1\" class=\"dataframe\">\n",
       "  <thead>\n",
       "    <tr style=\"text-align: right;\">\n",
       "      <th></th>\n",
       "      <th>0</th>\n",
       "      <th>1</th>\n",
       "      <th>2</th>\n",
       "      <th>3</th>\n",
       "      <th>4</th>\n",
       "      <th>5</th>\n",
       "      <th>6</th>\n",
       "      <th>7</th>\n",
       "      <th>8</th>\n",
       "      <th>9</th>\n",
       "      <th>...</th>\n",
       "      <th>31</th>\n",
       "      <th>32</th>\n",
       "      <th>33</th>\n",
       "      <th>34</th>\n",
       "      <th>35</th>\n",
       "      <th>36</th>\n",
       "      <th>37</th>\n",
       "      <th>38</th>\n",
       "      <th>39</th>\n",
       "      <th>Label</th>\n",
       "    </tr>\n",
       "  </thead>\n",
       "  <tbody>\n",
       "    <tr>\n",
       "      <th>0</th>\n",
       "      <td>44.172901</td>\n",
       "      <td>80.101318</td>\n",
       "      <td>57.157349</td>\n",
       "      <td>48.919014</td>\n",
       "      <td>-4.873997</td>\n",
       "      <td>83.437462</td>\n",
       "      <td>6.429060</td>\n",
       "      <td>-133.290268</td>\n",
       "      <td>113.991096</td>\n",
       "      <td>-30.597767</td>\n",
       "      <td>...</td>\n",
       "      <td>-70.215256</td>\n",
       "      <td>-51.206177</td>\n",
       "      <td>1.344082</td>\n",
       "      <td>10.625076</td>\n",
       "      <td>-42.722263</td>\n",
       "      <td>165.196030</td>\n",
       "      <td>22.547836</td>\n",
       "      <td>110.217178</td>\n",
       "      <td>5.063454</td>\n",
       "      <td>5.0</td>\n",
       "    </tr>\n",
       "    <tr>\n",
       "      <th>1</th>\n",
       "      <td>42.489975</td>\n",
       "      <td>87.068733</td>\n",
       "      <td>58.592953</td>\n",
       "      <td>57.192947</td>\n",
       "      <td>1.604520</td>\n",
       "      <td>87.625175</td>\n",
       "      <td>10.705535</td>\n",
       "      <td>-142.677841</td>\n",
       "      <td>119.358711</td>\n",
       "      <td>-28.492935</td>\n",
       "      <td>...</td>\n",
       "      <td>-79.125916</td>\n",
       "      <td>-50.867664</td>\n",
       "      <td>0.994127</td>\n",
       "      <td>9.511981</td>\n",
       "      <td>-44.891640</td>\n",
       "      <td>177.835846</td>\n",
       "      <td>18.944477</td>\n",
       "      <td>119.954178</td>\n",
       "      <td>-2.401167</td>\n",
       "      <td>0.0</td>\n",
       "    </tr>\n",
       "    <tr>\n",
       "      <th>2</th>\n",
       "      <td>23.452095</td>\n",
       "      <td>45.535316</td>\n",
       "      <td>32.143772</td>\n",
       "      <td>31.401031</td>\n",
       "      <td>0.590254</td>\n",
       "      <td>47.327065</td>\n",
       "      <td>8.753423</td>\n",
       "      <td>-80.654160</td>\n",
       "      <td>62.811562</td>\n",
       "      <td>-11.228618</td>\n",
       "      <td>...</td>\n",
       "      <td>-45.127880</td>\n",
       "      <td>-27.306797</td>\n",
       "      <td>2.817532</td>\n",
       "      <td>8.247489</td>\n",
       "      <td>-23.872173</td>\n",
       "      <td>96.553146</td>\n",
       "      <td>11.744184</td>\n",
       "      <td>68.200241</td>\n",
       "      <td>-4.610242</td>\n",
       "      <td>4.0</td>\n",
       "    </tr>\n",
       "    <tr>\n",
       "      <th>3</th>\n",
       "      <td>32.281712</td>\n",
       "      <td>63.571724</td>\n",
       "      <td>44.427872</td>\n",
       "      <td>35.422047</td>\n",
       "      <td>0.784749</td>\n",
       "      <td>68.588379</td>\n",
       "      <td>0.810882</td>\n",
       "      <td>-105.797661</td>\n",
       "      <td>95.810707</td>\n",
       "      <td>-26.971449</td>\n",
       "      <td>...</td>\n",
       "      <td>-50.163067</td>\n",
       "      <td>-39.763065</td>\n",
       "      <td>-0.445694</td>\n",
       "      <td>7.675542</td>\n",
       "      <td>-42.680439</td>\n",
       "      <td>128.394089</td>\n",
       "      <td>19.388569</td>\n",
       "      <td>85.491943</td>\n",
       "      <td>11.926619</td>\n",
       "      <td>1.0</td>\n",
       "    </tr>\n",
       "    <tr>\n",
       "      <th>4</th>\n",
       "      <td>45.041615</td>\n",
       "      <td>86.868088</td>\n",
       "      <td>55.051579</td>\n",
       "      <td>50.896107</td>\n",
       "      <td>-1.170558</td>\n",
       "      <td>85.019684</td>\n",
       "      <td>5.605784</td>\n",
       "      <td>-141.929443</td>\n",
       "      <td>121.501221</td>\n",
       "      <td>-29.884911</td>\n",
       "      <td>...</td>\n",
       "      <td>-68.822006</td>\n",
       "      <td>-58.042744</td>\n",
       "      <td>-0.704793</td>\n",
       "      <td>15.569777</td>\n",
       "      <td>-49.800476</td>\n",
       "      <td>173.143372</td>\n",
       "      <td>27.273251</td>\n",
       "      <td>115.294472</td>\n",
       "      <td>7.662761</td>\n",
       "      <td>9.0</td>\n",
       "    </tr>\n",
       "  </tbody>\n",
       "</table>\n",
       "<p>5 rows × 41 columns</p>\n",
       "</div>"
      ],
      "text/plain": [
       "           0          1          2          3         4          5          6  \\\n",
       "0  44.172901  80.101318  57.157349  48.919014 -4.873997  83.437462   6.429060   \n",
       "1  42.489975  87.068733  58.592953  57.192947  1.604520  87.625175  10.705535   \n",
       "2  23.452095  45.535316  32.143772  31.401031  0.590254  47.327065   8.753423   \n",
       "3  32.281712  63.571724  44.427872  35.422047  0.784749  68.588379   0.810882   \n",
       "4  45.041615  86.868088  55.051579  50.896107 -1.170558  85.019684   5.605784   \n",
       "\n",
       "            7           8          9  ...           31         32        33  \\\n",
       "0 -133.290268  113.991096 -30.597767  ...   -70.215256 -51.206177  1.344082   \n",
       "1 -142.677841  119.358711 -28.492935  ...   -79.125916 -50.867664  0.994127   \n",
       "2  -80.654160   62.811562 -11.228618  ...   -45.127880 -27.306797  2.817532   \n",
       "3 -105.797661   95.810707 -26.971449  ...   -50.163067 -39.763065 -0.445694   \n",
       "4 -141.929443  121.501221 -29.884911  ...   -68.822006 -58.042744 -0.704793   \n",
       "\n",
       "          34         35          36         37          38         39  Label  \n",
       "0  10.625076 -42.722263  165.196030  22.547836  110.217178   5.063454    5.0  \n",
       "1   9.511981 -44.891640  177.835846  18.944477  119.954178  -2.401167    0.0  \n",
       "2   8.247489 -23.872173   96.553146  11.744184   68.200241  -4.610242    4.0  \n",
       "3   7.675542 -42.680439  128.394089  19.388569   85.491943  11.926619    1.0  \n",
       "4  15.569777 -49.800476  173.143372  27.273251  115.294472   7.662761    9.0  \n",
       "\n",
       "[5 rows x 41 columns]"
      ]
     },
     "execution_count": 49,
     "metadata": {},
     "output_type": "execute_result"
    }
   ],
   "source": [
    "train_df.head()"
   ]
  },
  {
   "cell_type": "code",
   "execution_count": 50,
   "metadata": {
    "collapsed": false
   },
   "outputs": [
    {
     "data": {
      "text/html": [
       "<div>\n",
       "<table border=\"1\" class=\"dataframe\">\n",
       "  <thead>\n",
       "    <tr style=\"text-align: right;\">\n",
       "      <th></th>\n",
       "      <th>0</th>\n",
       "      <th>1</th>\n",
       "      <th>2</th>\n",
       "      <th>3</th>\n",
       "      <th>4</th>\n",
       "      <th>5</th>\n",
       "      <th>6</th>\n",
       "      <th>7</th>\n",
       "      <th>8</th>\n",
       "      <th>9</th>\n",
       "      <th>...</th>\n",
       "      <th>31</th>\n",
       "      <th>32</th>\n",
       "      <th>33</th>\n",
       "      <th>34</th>\n",
       "      <th>35</th>\n",
       "      <th>36</th>\n",
       "      <th>37</th>\n",
       "      <th>38</th>\n",
       "      <th>39</th>\n",
       "      <th>Label</th>\n",
       "    </tr>\n",
       "  </thead>\n",
       "  <tbody>\n",
       "    <tr>\n",
       "      <th>0</th>\n",
       "      <td>29.102270</td>\n",
       "      <td>55.892616</td>\n",
       "      <td>36.242229</td>\n",
       "      <td>34.103996</td>\n",
       "      <td>-1.714672</td>\n",
       "      <td>56.537525</td>\n",
       "      <td>4.262784</td>\n",
       "      <td>-91.840912</td>\n",
       "      <td>77.717575</td>\n",
       "      <td>-19.084759</td>\n",
       "      <td>...</td>\n",
       "      <td>-47.496040</td>\n",
       "      <td>-36.668053</td>\n",
       "      <td>-0.259912</td>\n",
       "      <td>8.181935</td>\n",
       "      <td>-30.308220</td>\n",
       "      <td>112.767433</td>\n",
       "      <td>16.382227</td>\n",
       "      <td>75.244522</td>\n",
       "      <td>2.493395</td>\n",
       "      <td>7.0</td>\n",
       "    </tr>\n",
       "    <tr>\n",
       "      <th>1</th>\n",
       "      <td>47.545105</td>\n",
       "      <td>70.862389</td>\n",
       "      <td>55.005138</td>\n",
       "      <td>42.957127</td>\n",
       "      <td>-9.309855</td>\n",
       "      <td>76.660896</td>\n",
       "      <td>11.978909</td>\n",
       "      <td>-121.646790</td>\n",
       "      <td>100.862061</td>\n",
       "      <td>-27.461523</td>\n",
       "      <td>...</td>\n",
       "      <td>-65.827957</td>\n",
       "      <td>-46.576721</td>\n",
       "      <td>8.515875</td>\n",
       "      <td>13.076570</td>\n",
       "      <td>-36.004536</td>\n",
       "      <td>155.900101</td>\n",
       "      <td>23.448761</td>\n",
       "      <td>104.419029</td>\n",
       "      <td>2.719755</td>\n",
       "      <td>2.0</td>\n",
       "    </tr>\n",
       "    <tr>\n",
       "      <th>2</th>\n",
       "      <td>20.818821</td>\n",
       "      <td>38.016750</td>\n",
       "      <td>25.783333</td>\n",
       "      <td>20.835579</td>\n",
       "      <td>-1.370073</td>\n",
       "      <td>39.983494</td>\n",
       "      <td>0.959094</td>\n",
       "      <td>-62.872303</td>\n",
       "      <td>56.363949</td>\n",
       "      <td>-15.484451</td>\n",
       "      <td>...</td>\n",
       "      <td>-28.587330</td>\n",
       "      <td>-25.013227</td>\n",
       "      <td>-0.269255</td>\n",
       "      <td>6.385770</td>\n",
       "      <td>-24.634493</td>\n",
       "      <td>76.326019</td>\n",
       "      <td>13.197577</td>\n",
       "      <td>50.952347</td>\n",
       "      <td>7.802516</td>\n",
       "      <td>1.0</td>\n",
       "    </tr>\n",
       "    <tr>\n",
       "      <th>3</th>\n",
       "      <td>63.258415</td>\n",
       "      <td>118.308273</td>\n",
       "      <td>80.145393</td>\n",
       "      <td>72.303345</td>\n",
       "      <td>-3.287868</td>\n",
       "      <td>118.326897</td>\n",
       "      <td>11.329537</td>\n",
       "      <td>-197.113586</td>\n",
       "      <td>164.264786</td>\n",
       "      <td>-39.898129</td>\n",
       "      <td>...</td>\n",
       "      <td>-102.256905</td>\n",
       "      <td>-76.898544</td>\n",
       "      <td>3.204404</td>\n",
       "      <td>19.162313</td>\n",
       "      <td>-62.108604</td>\n",
       "      <td>241.935211</td>\n",
       "      <td>33.350620</td>\n",
       "      <td>162.449799</td>\n",
       "      <td>2.595430</td>\n",
       "      <td>0.0</td>\n",
       "    </tr>\n",
       "    <tr>\n",
       "      <th>4</th>\n",
       "      <td>31.619122</td>\n",
       "      <td>59.747513</td>\n",
       "      <td>39.610233</td>\n",
       "      <td>37.000698</td>\n",
       "      <td>-1.720964</td>\n",
       "      <td>59.194931</td>\n",
       "      <td>6.956316</td>\n",
       "      <td>-101.430664</td>\n",
       "      <td>82.045586</td>\n",
       "      <td>-17.807995</td>\n",
       "      <td>...</td>\n",
       "      <td>-52.648151</td>\n",
       "      <td>-39.078835</td>\n",
       "      <td>2.448805</td>\n",
       "      <td>11.874126</td>\n",
       "      <td>-31.605885</td>\n",
       "      <td>122.517487</td>\n",
       "      <td>17.915546</td>\n",
       "      <td>83.773354</td>\n",
       "      <td>-0.694030</td>\n",
       "      <td>4.0</td>\n",
       "    </tr>\n",
       "  </tbody>\n",
       "</table>\n",
       "<p>5 rows × 41 columns</p>\n",
       "</div>"
      ],
      "text/plain": [
       "           0           1          2          3         4           5  \\\n",
       "0  29.102270   55.892616  36.242229  34.103996 -1.714672   56.537525   \n",
       "1  47.545105   70.862389  55.005138  42.957127 -9.309855   76.660896   \n",
       "2  20.818821   38.016750  25.783333  20.835579 -1.370073   39.983494   \n",
       "3  63.258415  118.308273  80.145393  72.303345 -3.287868  118.326897   \n",
       "4  31.619122   59.747513  39.610233  37.000698 -1.720964   59.194931   \n",
       "\n",
       "           6           7           8          9  ...            31         32  \\\n",
       "0   4.262784  -91.840912   77.717575 -19.084759  ...    -47.496040 -36.668053   \n",
       "1  11.978909 -121.646790  100.862061 -27.461523  ...    -65.827957 -46.576721   \n",
       "2   0.959094  -62.872303   56.363949 -15.484451  ...    -28.587330 -25.013227   \n",
       "3  11.329537 -197.113586  164.264786 -39.898129  ...   -102.256905 -76.898544   \n",
       "4   6.956316 -101.430664   82.045586 -17.807995  ...    -52.648151 -39.078835   \n",
       "\n",
       "         33         34         35          36         37          38  \\\n",
       "0 -0.259912   8.181935 -30.308220  112.767433  16.382227   75.244522   \n",
       "1  8.515875  13.076570 -36.004536  155.900101  23.448761  104.419029   \n",
       "2 -0.269255   6.385770 -24.634493   76.326019  13.197577   50.952347   \n",
       "3  3.204404  19.162313 -62.108604  241.935211  33.350620  162.449799   \n",
       "4  2.448805  11.874126 -31.605885  122.517487  17.915546   83.773354   \n",
       "\n",
       "         39  Label  \n",
       "0  2.493395    7.0  \n",
       "1  2.719755    2.0  \n",
       "2  7.802516    1.0  \n",
       "3  2.595430    0.0  \n",
       "4 -0.694030    4.0  \n",
       "\n",
       "[5 rows x 41 columns]"
      ]
     },
     "execution_count": 50,
     "metadata": {},
     "output_type": "execute_result"
    }
   ],
   "source": [
    "#test_df = pd.DataFrame(reduced_test_data,columns=list('AB'))\n",
    "test_df = pd.DataFrame(reduced_test_data)\n",
    "test_df['Label'] = pd.DataFrame(y_test_pd)\n",
    "test_df.head()"
   ]
  },
  {
   "cell_type": "code",
   "execution_count": 51,
   "metadata": {
    "collapsed": false
   },
   "outputs": [
    {
     "data": {
      "text/plain": [
       "KMeans(algorithm='auto', copy_x=True, init='k-means++', max_iter=300,\n",
       "    n_clusters=10, n_init=10, n_jobs=1, precompute_distances='auto',\n",
       "    random_state=None, tol=0.0001, verbose=0)"
      ]
     },
     "execution_count": 51,
     "metadata": {},
     "output_type": "execute_result"
    }
   ],
   "source": [
    "# Create kmeans\n",
    "clstr = KMeans(n_clusters=10)\n",
    "clstr.fit(reduced_train_data) "
   ]
  },
  {
   "cell_type": "markdown",
   "metadata": {
    "collapsed": false
   },
   "source": [
    "# Create feature agglomeration\n",
    "from sklearn.cluster import FeatureAgglomeration\n",
    "clstr = FeatureAgglomeration(n_clusters=10)\n",
    "clstr.fit_transform(reduced_train_data) \n",
    "clstr.fit_transform(reduced_test_data) "
   ]
  },
  {
   "cell_type": "markdown",
   "metadata": {
    "collapsed": false
   },
   "source": [
    "from sklearn.cluster import Birch\n",
    "\n",
    "clstr=Birch(branching_factor=50, n_clusters=10, threshold=0.5,compute_labels=True)\n",
    "clstr.fit(reduced_train_data) "
   ]
  },
  {
   "cell_type": "code",
   "execution_count": 52,
   "metadata": {
    "collapsed": false
   },
   "outputs": [
    {
     "data": {
      "text/plain": [
       "(10, 40)"
      ]
     },
     "execution_count": 52,
     "metadata": {},
     "output_type": "execute_result"
    }
   ],
   "source": [
    "clstr.cluster_centers_.shape"
   ]
  },
  {
   "cell_type": "markdown",
   "metadata": {
    "collapsed": false
   },
   "source": [
    "clstr.cluster_centers_"
   ]
  },
  {
   "cell_type": "code",
   "execution_count": 53,
   "metadata": {
    "collapsed": false
   },
   "outputs": [
    {
     "data": {
      "text/plain": [
       "(50000,)"
      ]
     },
     "execution_count": 53,
     "metadata": {},
     "output_type": "execute_result"
    }
   ],
   "source": [
    "clstr.labels_.shape"
   ]
  },
  {
   "cell_type": "code",
   "execution_count": 54,
   "metadata": {
    "collapsed": false
   },
   "outputs": [],
   "source": [
    "clstr_predicted = clstr.predict(reduced_test_data)\n",
    "#clstr_predicted = clstr.fit_transform(reduced_test_data) "
   ]
  },
  {
   "cell_type": "code",
   "execution_count": 55,
   "metadata": {
    "collapsed": false
   },
   "outputs": [
    {
     "name": "stdout",
     "output_type": "stream",
     "text": [
      "(10000,)\n",
      "(10000, 1)\n"
     ]
    }
   ],
   "source": [
    "cluster= clstr_predicted\n",
    "print (cluster.shape)\n",
    "cluster=cluster.reshape(10000,1)\n",
    "print (cluster.shape)"
   ]
  },
  {
   "cell_type": "code",
   "execution_count": 56,
   "metadata": {
    "collapsed": false
   },
   "outputs": [
    {
     "data": {
      "text/plain": [
       "array([0, 1, 2, 3, 4, 5, 6, 7, 8, 9], dtype=int32)"
      ]
     },
     "execution_count": 56,
     "metadata": {},
     "output_type": "execute_result"
    }
   ],
   "source": [
    "np.unique(cluster)"
   ]
  },
  {
   "cell_type": "code",
   "execution_count": 57,
   "metadata": {
    "collapsed": false
   },
   "outputs": [
    {
     "data": {
      "text/plain": [
       "array([ 0.,  1.,  2.,  3.,  4.,  5.,  6.,  7.,  8.,  9.])"
      ]
     },
     "execution_count": 57,
     "metadata": {},
     "output_type": "execute_result"
    }
   ],
   "source": [
    "np.unique(test_df.Label)"
   ]
  },
  {
   "cell_type": "code",
   "execution_count": 58,
   "metadata": {
    "collapsed": false
   },
   "outputs": [
    {
     "data": {
      "text/html": [
       "<div>\n",
       "<table border=\"1\" class=\"dataframe\">\n",
       "  <thead>\n",
       "    <tr style=\"text-align: right;\">\n",
       "      <th></th>\n",
       "      <th>0</th>\n",
       "      <th>1</th>\n",
       "      <th>2</th>\n",
       "      <th>3</th>\n",
       "      <th>4</th>\n",
       "      <th>5</th>\n",
       "      <th>6</th>\n",
       "      <th>7</th>\n",
       "      <th>8</th>\n",
       "      <th>9</th>\n",
       "      <th>...</th>\n",
       "      <th>32</th>\n",
       "      <th>33</th>\n",
       "      <th>34</th>\n",
       "      <th>35</th>\n",
       "      <th>36</th>\n",
       "      <th>37</th>\n",
       "      <th>38</th>\n",
       "      <th>39</th>\n",
       "      <th>Label</th>\n",
       "      <th>Cluster</th>\n",
       "    </tr>\n",
       "  </thead>\n",
       "  <tbody>\n",
       "    <tr>\n",
       "      <th>0</th>\n",
       "      <td>29.102270</td>\n",
       "      <td>55.892616</td>\n",
       "      <td>36.242229</td>\n",
       "      <td>34.103996</td>\n",
       "      <td>-1.714672</td>\n",
       "      <td>56.537525</td>\n",
       "      <td>4.262784</td>\n",
       "      <td>-91.840912</td>\n",
       "      <td>77.717575</td>\n",
       "      <td>-19.084759</td>\n",
       "      <td>...</td>\n",
       "      <td>-36.668053</td>\n",
       "      <td>-0.259912</td>\n",
       "      <td>8.181935</td>\n",
       "      <td>-30.308220</td>\n",
       "      <td>112.767433</td>\n",
       "      <td>16.382227</td>\n",
       "      <td>75.244522</td>\n",
       "      <td>2.493395</td>\n",
       "      <td>7.0</td>\n",
       "      <td>1</td>\n",
       "    </tr>\n",
       "    <tr>\n",
       "      <th>1</th>\n",
       "      <td>47.545105</td>\n",
       "      <td>70.862389</td>\n",
       "      <td>55.005138</td>\n",
       "      <td>42.957127</td>\n",
       "      <td>-9.309855</td>\n",
       "      <td>76.660896</td>\n",
       "      <td>11.978909</td>\n",
       "      <td>-121.646790</td>\n",
       "      <td>100.862061</td>\n",
       "      <td>-27.461523</td>\n",
       "      <td>...</td>\n",
       "      <td>-46.576721</td>\n",
       "      <td>8.515875</td>\n",
       "      <td>13.076570</td>\n",
       "      <td>-36.004536</td>\n",
       "      <td>155.900101</td>\n",
       "      <td>23.448761</td>\n",
       "      <td>104.419029</td>\n",
       "      <td>2.719755</td>\n",
       "      <td>2.0</td>\n",
       "      <td>8</td>\n",
       "    </tr>\n",
       "    <tr>\n",
       "      <th>2</th>\n",
       "      <td>20.818821</td>\n",
       "      <td>38.016750</td>\n",
       "      <td>25.783333</td>\n",
       "      <td>20.835579</td>\n",
       "      <td>-1.370073</td>\n",
       "      <td>39.983494</td>\n",
       "      <td>0.959094</td>\n",
       "      <td>-62.872303</td>\n",
       "      <td>56.363949</td>\n",
       "      <td>-15.484451</td>\n",
       "      <td>...</td>\n",
       "      <td>-25.013227</td>\n",
       "      <td>-0.269255</td>\n",
       "      <td>6.385770</td>\n",
       "      <td>-24.634493</td>\n",
       "      <td>76.326019</td>\n",
       "      <td>13.197577</td>\n",
       "      <td>50.952347</td>\n",
       "      <td>7.802516</td>\n",
       "      <td>1.0</td>\n",
       "      <td>9</td>\n",
       "    </tr>\n",
       "    <tr>\n",
       "      <th>3</th>\n",
       "      <td>63.258415</td>\n",
       "      <td>118.308273</td>\n",
       "      <td>80.145393</td>\n",
       "      <td>72.303345</td>\n",
       "      <td>-3.287868</td>\n",
       "      <td>118.326897</td>\n",
       "      <td>11.329537</td>\n",
       "      <td>-197.113586</td>\n",
       "      <td>164.264786</td>\n",
       "      <td>-39.898129</td>\n",
       "      <td>...</td>\n",
       "      <td>-76.898544</td>\n",
       "      <td>3.204404</td>\n",
       "      <td>19.162313</td>\n",
       "      <td>-62.108604</td>\n",
       "      <td>241.935211</td>\n",
       "      <td>33.350620</td>\n",
       "      <td>162.449799</td>\n",
       "      <td>2.595430</td>\n",
       "      <td>0.0</td>\n",
       "      <td>2</td>\n",
       "    </tr>\n",
       "    <tr>\n",
       "      <th>4</th>\n",
       "      <td>31.619122</td>\n",
       "      <td>59.747513</td>\n",
       "      <td>39.610233</td>\n",
       "      <td>37.000698</td>\n",
       "      <td>-1.720964</td>\n",
       "      <td>59.194931</td>\n",
       "      <td>6.956316</td>\n",
       "      <td>-101.430664</td>\n",
       "      <td>82.045586</td>\n",
       "      <td>-17.807995</td>\n",
       "      <td>...</td>\n",
       "      <td>-39.078835</td>\n",
       "      <td>2.448805</td>\n",
       "      <td>11.874126</td>\n",
       "      <td>-31.605885</td>\n",
       "      <td>122.517487</td>\n",
       "      <td>17.915546</td>\n",
       "      <td>83.773354</td>\n",
       "      <td>-0.694030</td>\n",
       "      <td>4.0</td>\n",
       "      <td>3</td>\n",
       "    </tr>\n",
       "    <tr>\n",
       "      <th>5</th>\n",
       "      <td>30.088165</td>\n",
       "      <td>57.283504</td>\n",
       "      <td>37.310844</td>\n",
       "      <td>32.185070</td>\n",
       "      <td>-1.030125</td>\n",
       "      <td>59.001419</td>\n",
       "      <td>1.922771</td>\n",
       "      <td>-93.616196</td>\n",
       "      <td>83.786240</td>\n",
       "      <td>-22.313599</td>\n",
       "      <td>...</td>\n",
       "      <td>-37.274612</td>\n",
       "      <td>-1.063989</td>\n",
       "      <td>9.027158</td>\n",
       "      <td>-36.783558</td>\n",
       "      <td>114.154022</td>\n",
       "      <td>18.961212</td>\n",
       "      <td>75.941521</td>\n",
       "      <td>10.716215</td>\n",
       "      <td>1.0</td>\n",
       "      <td>1</td>\n",
       "    </tr>\n",
       "    <tr>\n",
       "      <th>6</th>\n",
       "      <td>37.384960</td>\n",
       "      <td>69.695381</td>\n",
       "      <td>45.197643</td>\n",
       "      <td>42.374573</td>\n",
       "      <td>-2.417540</td>\n",
       "      <td>68.784065</td>\n",
       "      <td>6.248705</td>\n",
       "      <td>-115.349236</td>\n",
       "      <td>95.753174</td>\n",
       "      <td>-23.126074</td>\n",
       "      <td>...</td>\n",
       "      <td>-46.328636</td>\n",
       "      <td>0.591296</td>\n",
       "      <td>13.229446</td>\n",
       "      <td>-36.822411</td>\n",
       "      <td>141.081024</td>\n",
       "      <td>20.939838</td>\n",
       "      <td>94.729515</td>\n",
       "      <td>1.330177</td>\n",
       "      <td>4.0</td>\n",
       "      <td>8</td>\n",
       "    </tr>\n",
       "    <tr>\n",
       "      <th>7</th>\n",
       "      <td>40.793713</td>\n",
       "      <td>76.735909</td>\n",
       "      <td>47.346928</td>\n",
       "      <td>45.862076</td>\n",
       "      <td>-1.508611</td>\n",
       "      <td>73.601028</td>\n",
       "      <td>6.748085</td>\n",
       "      <td>-125.912025</td>\n",
       "      <td>104.990097</td>\n",
       "      <td>-24.431799</td>\n",
       "      <td>...</td>\n",
       "      <td>-52.235756</td>\n",
       "      <td>0.482468</td>\n",
       "      <td>14.144353</td>\n",
       "      <td>-41.082085</td>\n",
       "      <td>154.221970</td>\n",
       "      <td>23.901434</td>\n",
       "      <td>102.363579</td>\n",
       "      <td>3.847312</td>\n",
       "      <td>9.0</td>\n",
       "      <td>8</td>\n",
       "    </tr>\n",
       "    <tr>\n",
       "      <th>8</th>\n",
       "      <td>45.711540</td>\n",
       "      <td>88.400032</td>\n",
       "      <td>62.349369</td>\n",
       "      <td>55.829449</td>\n",
       "      <td>-1.669926</td>\n",
       "      <td>89.849907</td>\n",
       "      <td>11.324306</td>\n",
       "      <td>-149.886429</td>\n",
       "      <td>123.183350</td>\n",
       "      <td>-28.677086</td>\n",
       "      <td>...</td>\n",
       "      <td>-54.110405</td>\n",
       "      <td>4.778359</td>\n",
       "      <td>14.461140</td>\n",
       "      <td>-47.538200</td>\n",
       "      <td>183.399765</td>\n",
       "      <td>23.832640</td>\n",
       "      <td>125.200539</td>\n",
       "      <td>-0.911029</td>\n",
       "      <td>5.0</td>\n",
       "      <td>7</td>\n",
       "    </tr>\n",
       "    <tr>\n",
       "      <th>9</th>\n",
       "      <td>56.751514</td>\n",
       "      <td>113.688248</td>\n",
       "      <td>72.661926</td>\n",
       "      <td>67.725616</td>\n",
       "      <td>0.523662</td>\n",
       "      <td>113.769455</td>\n",
       "      <td>6.176911</td>\n",
       "      <td>-187.108505</td>\n",
       "      <td>159.993729</td>\n",
       "      <td>-39.402233</td>\n",
       "      <td>...</td>\n",
       "      <td>-73.504990</td>\n",
       "      <td>-1.440103</td>\n",
       "      <td>18.080669</td>\n",
       "      <td>-65.219780</td>\n",
       "      <td>226.535095</td>\n",
       "      <td>33.153137</td>\n",
       "      <td>151.605194</td>\n",
       "      <td>8.051671</td>\n",
       "      <td>9.0</td>\n",
       "      <td>4</td>\n",
       "    </tr>\n",
       "  </tbody>\n",
       "</table>\n",
       "<p>10 rows × 42 columns</p>\n",
       "</div>"
      ],
      "text/plain": [
       "           0           1          2          3         4           5  \\\n",
       "0  29.102270   55.892616  36.242229  34.103996 -1.714672   56.537525   \n",
       "1  47.545105   70.862389  55.005138  42.957127 -9.309855   76.660896   \n",
       "2  20.818821   38.016750  25.783333  20.835579 -1.370073   39.983494   \n",
       "3  63.258415  118.308273  80.145393  72.303345 -3.287868  118.326897   \n",
       "4  31.619122   59.747513  39.610233  37.000698 -1.720964   59.194931   \n",
       "5  30.088165   57.283504  37.310844  32.185070 -1.030125   59.001419   \n",
       "6  37.384960   69.695381  45.197643  42.374573 -2.417540   68.784065   \n",
       "7  40.793713   76.735909  47.346928  45.862076 -1.508611   73.601028   \n",
       "8  45.711540   88.400032  62.349369  55.829449 -1.669926   89.849907   \n",
       "9  56.751514  113.688248  72.661926  67.725616  0.523662  113.769455   \n",
       "\n",
       "           6           7           8          9   ...            32        33  \\\n",
       "0   4.262784  -91.840912   77.717575 -19.084759   ...    -36.668053 -0.259912   \n",
       "1  11.978909 -121.646790  100.862061 -27.461523   ...    -46.576721  8.515875   \n",
       "2   0.959094  -62.872303   56.363949 -15.484451   ...    -25.013227 -0.269255   \n",
       "3  11.329537 -197.113586  164.264786 -39.898129   ...    -76.898544  3.204404   \n",
       "4   6.956316 -101.430664   82.045586 -17.807995   ...    -39.078835  2.448805   \n",
       "5   1.922771  -93.616196   83.786240 -22.313599   ...    -37.274612 -1.063989   \n",
       "6   6.248705 -115.349236   95.753174 -23.126074   ...    -46.328636  0.591296   \n",
       "7   6.748085 -125.912025  104.990097 -24.431799   ...    -52.235756  0.482468   \n",
       "8  11.324306 -149.886429  123.183350 -28.677086   ...    -54.110405  4.778359   \n",
       "9   6.176911 -187.108505  159.993729 -39.402233   ...    -73.504990 -1.440103   \n",
       "\n",
       "          34         35          36         37          38         39  Label  \\\n",
       "0   8.181935 -30.308220  112.767433  16.382227   75.244522   2.493395    7.0   \n",
       "1  13.076570 -36.004536  155.900101  23.448761  104.419029   2.719755    2.0   \n",
       "2   6.385770 -24.634493   76.326019  13.197577   50.952347   7.802516    1.0   \n",
       "3  19.162313 -62.108604  241.935211  33.350620  162.449799   2.595430    0.0   \n",
       "4  11.874126 -31.605885  122.517487  17.915546   83.773354  -0.694030    4.0   \n",
       "5   9.027158 -36.783558  114.154022  18.961212   75.941521  10.716215    1.0   \n",
       "6  13.229446 -36.822411  141.081024  20.939838   94.729515   1.330177    4.0   \n",
       "7  14.144353 -41.082085  154.221970  23.901434  102.363579   3.847312    9.0   \n",
       "8  14.461140 -47.538200  183.399765  23.832640  125.200539  -0.911029    5.0   \n",
       "9  18.080669 -65.219780  226.535095  33.153137  151.605194   8.051671    9.0   \n",
       "\n",
       "   Cluster  \n",
       "0        1  \n",
       "1        8  \n",
       "2        9  \n",
       "3        2  \n",
       "4        3  \n",
       "5        1  \n",
       "6        8  \n",
       "7        8  \n",
       "8        7  \n",
       "9        4  \n",
       "\n",
       "[10 rows x 42 columns]"
      ]
     },
     "execution_count": 58,
     "metadata": {},
     "output_type": "execute_result"
    }
   ],
   "source": [
    "test_df['Cluster'] = pd.DataFrame(cluster)\n",
    "test_df.head(10)"
   ]
  },
  {
   "cell_type": "code",
   "execution_count": 59,
   "metadata": {
    "collapsed": false
   },
   "outputs": [
    {
     "data": {
      "text/plain": [
       "array([[<matplotlib.axes._subplots.AxesSubplot object at 0x7faec8a95fd0>,\n",
       "        <matplotlib.axes._subplots.AxesSubplot object at 0x7faec0111ba8>,\n",
       "        <matplotlib.axes._subplots.AxesSubplot object at 0x7faec00de550>],\n",
       "       [<matplotlib.axes._subplots.AxesSubplot object at 0x7faec00f3748>,\n",
       "        <matplotlib.axes._subplots.AxesSubplot object at 0x7faec0062f98>,\n",
       "        <matplotlib.axes._subplots.AxesSubplot object at 0x7faec002dcc0>],\n",
       "       [<matplotlib.axes._subplots.AxesSubplot object at 0x7faebffec668>,\n",
       "        <matplotlib.axes._subplots.AxesSubplot object at 0x7faebffb95c0>,\n",
       "        <matplotlib.axes._subplots.AxesSubplot object at 0x7faebff6ad30>],\n",
       "       [<matplotlib.axes._subplots.AxesSubplot object at 0x7faebff38b70>,\n",
       "        <matplotlib.axes._subplots.AxesSubplot object at 0x7faebff435f8>,\n",
       "        <matplotlib.axes._subplots.AxesSubplot object at 0x7faebfec4240>]], dtype=object)"
      ]
     },
     "execution_count": 59,
     "metadata": {},
     "output_type": "execute_result"
    },
    {
     "data": {
      "image/png": "[encoded data removed]",
      "text/plain": [
       "<matplotlib.figure.Figure at 0x7faec8a49ef0>"
      ]
     },
     "metadata": {},
     "output_type": "display_data"
    }
   ],
   "source": [
    "test_df['Cluster'].hist(by=test_df['Label'])"
   ]
  },
  {
   "cell_type": "code",
   "execution_count": 60,
   "metadata": {
    "collapsed": false
   },
   "outputs": [
    {
     "data": {
      "text/plain": [
       "Label  Cluster\n",
       "0.0    0          154\n",
       "       1           67\n",
       "       2          102\n",
       "       3           88\n",
       "       4          150\n",
       "       5           40\n",
       "       6           73\n",
       "       7          148\n",
       "       8          136\n",
       "       9           22\n",
       "1.0    0           72\n",
       "       1          331\n",
       "       2           10\n",
       "       3          248\n",
       "       4           25\n",
       "       7           28\n",
       "       8          140\n",
       "       9          281\n",
       "2.0    0          200\n",
       "       1           70\n",
       "       2           89\n",
       "       3          101\n",
       "       4          162\n",
       "       5           12\n",
       "       6           46\n",
       "       7          166\n",
       "       8          163\n",
       "       9           23\n",
       "3.0    0          160\n",
       "       1           86\n",
       "                 ... \n",
       "7.0    0          188\n",
       "       1          142\n",
       "       2           28\n",
       "       3          221\n",
       "       4           72\n",
       "       5            3\n",
       "       6           12\n",
       "       7          121\n",
       "       8          192\n",
       "       9           49\n",
       "8.0    0          171\n",
       "       1           24\n",
       "       2          140\n",
       "       3           46\n",
       "       4          176\n",
       "       5           52\n",
       "       6           75\n",
       "       7          185\n",
       "       8           98\n",
       "       9            7\n",
       "9.0    0          203\n",
       "       1           41\n",
       "       2           66\n",
       "       3          119\n",
       "       4          124\n",
       "       5            4\n",
       "       6           33\n",
       "       7          209\n",
       "       8          194\n",
       "       9           16\n",
       "Name: Cluster, dtype: int64"
      ]
     },
     "execution_count": 60,
     "metadata": {},
     "output_type": "execute_result"
    }
   ],
   "source": [
    "test_df.groupby(['Label','Cluster'])['Cluster'].count()"
   ]
  },
  {
   "cell_type": "code",
   "execution_count": 61,
   "metadata": {
    "collapsed": false
   },
   "outputs": [
    {
     "data": {
      "text/plain": [
       "Cluster  Label\n",
       "0        0.0      154\n",
       "         1.0       72\n",
       "         2.0      200\n",
       "         3.0      160\n",
       "         4.0      208\n",
       "         5.0      135\n",
       "         6.0      177\n",
       "         7.0      188\n",
       "         8.0      171\n",
       "         9.0      203\n",
       "1        0.0       67\n",
       "         1.0      331\n",
       "         2.0       70\n",
       "         3.0       86\n",
       "         4.0       72\n",
       "         5.0       91\n",
       "         6.0       41\n",
       "         7.0      142\n",
       "         8.0       24\n",
       "         9.0       41\n",
       "2        0.0      102\n",
       "         1.0       10\n",
       "         2.0       89\n",
       "         3.0       97\n",
       "         4.0       64\n",
       "         5.0       54\n",
       "         6.0       93\n",
       "         7.0       28\n",
       "         8.0      140\n",
       "         9.0       66\n",
       "                 ... \n",
       "7        0.0      148\n",
       "         1.0       28\n",
       "         2.0      166\n",
       "         3.0      151\n",
       "         4.0      135\n",
       "         5.0      131\n",
       "         6.0      163\n",
       "         7.0      121\n",
       "         8.0      185\n",
       "         9.0      209\n",
       "8        0.0      136\n",
       "         1.0      140\n",
       "         2.0      163\n",
       "         3.0      152\n",
       "         4.0      199\n",
       "         5.0      177\n",
       "         6.0      147\n",
       "         7.0      192\n",
       "         8.0       98\n",
       "         9.0      194\n",
       "9        0.0       22\n",
       "         1.0      281\n",
       "         2.0       23\n",
       "         3.0       21\n",
       "         4.0       19\n",
       "         5.0       32\n",
       "         6.0       16\n",
       "         7.0       49\n",
       "         8.0        7\n",
       "         9.0       16\n",
       "Name: Label, dtype: int64"
      ]
     },
     "execution_count": 61,
     "metadata": {},
     "output_type": "execute_result"
    }
   ],
   "source": [
    "test_df.groupby(['Cluster','Label'])['Label'].count()"
   ]
  },
  {
   "cell_type": "code",
   "execution_count": 155,
   "metadata": {
    "collapsed": false
   },
   "outputs": [
    {
     "data": {
      "text/plain": [
       "Cluster\n",
       "0    1068\n",
       "1     966\n",
       "2     885\n",
       "3     953\n",
       "4     880\n",
       "5    1163\n",
       "6     829\n",
       "7     817\n",
       "8    1008\n",
       "9    1431\n",
       "Name: Label, dtype: int64"
      ]
     },
     "execution_count": 155,
     "metadata": {},
     "output_type": "execute_result"
    }
   ],
   "source": [
    "test_df.groupby(['Cluster'])['Label'].count()"
   ]
  },
  {
   "cell_type": "code",
   "execution_count": 63,
   "metadata": {
    "collapsed": true
   },
   "outputs": [],
   "source": [
    "#Determine Cluster accuracy\n",
    "from scipy.stats import mode \n"
   ]
  },
  {
   "cell_type": "code",
   "execution_count": 64,
   "metadata": {
    "collapsed": false
   },
   "outputs": [
    {
     "data": {
      "text/plain": [
       "Cluster\n",
       "0    [4.0]\n",
       "1    [1.0]\n",
       "2    [8.0]\n",
       "3    [1.0]\n",
       "4    [8.0]\n",
       "5    [8.0]\n",
       "6    [8.0]\n",
       "7    [9.0]\n",
       "8    [4.0]\n",
       "9    [1.0]\n",
       "Name: Label, dtype: object"
      ]
     },
     "execution_count": 64,
     "metadata": {},
     "output_type": "execute_result"
    }
   ],
   "source": [
    "f = lambda x: mode(x, axis=None)[0]\n",
    "\n",
    "test_df.groupby(['Cluster'])['Label'].apply(f)"
   ]
  },
  {
   "cell_type": "code",
   "execution_count": null,
   "metadata": {
    "collapsed": false
   },
   "outputs": [],
   "source": []
  },
  {
   "cell_type": "code",
   "execution_count": 65,
   "metadata": {
    "collapsed": false
   },
   "outputs": [],
   "source": [
    "#Actual_Label = test_df['Label'].tolist()\n",
    "#Cluster_Label = test_df['Cluster'].tolist()\n",
    "Actual_Label = np.array(test_df['Label'])\n",
    "Cluster_Label = np.array(test_df['Cluster'])"
   ]
  },
  {
   "cell_type": "code",
   "execution_count": 66,
   "metadata": {
    "collapsed": false
   },
   "outputs": [
    {
     "data": {
      "text/plain": [
       "array([ 7.,  2.,  1., ...,  4.,  5.,  6.])"
      ]
     },
     "execution_count": 66,
     "metadata": {},
     "output_type": "execute_result"
    }
   ],
   "source": [
    "Actual_Label"
   ]
  },
  {
   "cell_type": "code",
   "execution_count": 67,
   "metadata": {
    "collapsed": false
   },
   "outputs": [
    {
     "data": {
      "text/plain": [
       "array([1, 8, 9, ..., 4, 7, 2], dtype=int32)"
      ]
     },
     "execution_count": 67,
     "metadata": {},
     "output_type": "execute_result"
    }
   ],
   "source": [
    "Cluster_Label"
   ]
  },
  {
   "cell_type": "code",
   "execution_count": 68,
   "metadata": {
    "collapsed": false
   },
   "outputs": [],
   "source": [
    "Assigned_labels=np.zeros_like(Cluster_Label)\n",
    "#Assigned_labels = Assigned_labels.tolist()\n",
    "#Assigned_labels"
   ]
  },
  {
   "cell_type": "code",
   "execution_count": 162,
   "metadata": {
    "collapsed": false
   },
   "outputs": [
    {
     "data": {
      "text/plain": [
       "array([False, False, False, ..., False, False, False], dtype=bool)"
      ]
     },
     "execution_count": 162,
     "metadata": {},
     "output_type": "execute_result"
    }
   ],
   "source": [
    "Cluster_Label==1"
   ]
  },
  {
   "cell_type": "code",
   "execution_count": 69,
   "metadata": {
    "collapsed": false
   },
   "outputs": [
    {
     "name": "stdout",
     "output_type": "stream",
     "text": [
      "0\n",
      "1668\n",
      "[ 4.]\n",
      "1668\n",
      "1\n",
      "965\n",
      "[ 1.]\n",
      "965\n",
      "2\n",
      "743\n",
      "[ 8.]\n",
      "743\n",
      "3\n",
      "1351\n",
      "[ 1.]\n",
      "1351\n",
      "4\n",
      "1193\n",
      "[ 8.]\n",
      "1193\n",
      "5\n",
      "146\n",
      "[ 8.]\n",
      "146\n",
      "6\n",
      "413\n",
      "[ 8.]\n",
      "413\n",
      "7\n",
      "1437\n",
      "[ 9.]\n",
      "1437\n",
      "8\n",
      "1598\n",
      "[ 4.]\n",
      "1598\n",
      "9\n",
      "486\n",
      "[ 1.]\n",
      "486\n",
      "[1 4 1 ..., 8 9 8]\n"
     ]
    }
   ],
   "source": [
    "for i in range(10):\n",
    "    print(i)\n",
    "    mask=(Cluster_Label==i)\n",
    "    #print(mask)\n",
    "    Assigned_labels[mask]= mode(Actual_Label[mask])[0]\n",
    "    print(len(Actual_Label[mask]))\n",
    "    print(mode(Actual_Label[mask])[0])\n",
    "    print(len(Assigned_labels[mask]))\n",
    "    #print(labels[i])\n",
    "print(np.array(Assigned_labels))"
   ]
  },
  {
   "cell_type": "code",
   "execution_count": 70,
   "metadata": {
    "collapsed": true
   },
   "outputs": [],
   "source": [
    "Assigned_labels=np.array(Assigned_labels)"
   ]
  },
  {
   "cell_type": "code",
   "execution_count": 71,
   "metadata": {
    "collapsed": false
   },
   "outputs": [
    {
     "data": {
      "text/plain": [
       "0.19189999999999999"
      ]
     },
     "execution_count": 71,
     "metadata": {},
     "output_type": "execute_result"
    }
   ],
   "source": [
    "from sklearn.metrics import accuracy_score\n",
    "accuracy_score(Assigned_labels,Actual_Label)"
   ]
  },
  {
   "cell_type": "code",
   "execution_count": 136,
   "metadata": {
    "collapsed": false
   },
   "outputs": [
    {
     "data": {
      "text/plain": [
       "(10000,)"
      ]
     },
     "execution_count": 136,
     "metadata": {},
     "output_type": "execute_result"
    }
   ],
   "source": [
    "Assigned_labels.shape"
   ]
  },
  {
   "cell_type": "code",
   "execution_count": 135,
   "metadata": {
    "collapsed": false
   },
   "outputs": [
    {
     "ename": "AttributeError",
     "evalue": "'list' object has no attribute 'shape'",
     "output_type": "error",
     "traceback": [
      "\u001b[1;31m---------------------------------------------------------------------------\u001b[0m",
      "\u001b[1;31mAttributeError\u001b[0m                            Traceback (most recent call last)",
      "\u001b[1;32m<ipython-input-135-cd96ba7dc407>\u001b[0m in \u001b[0;36m<module>\u001b[1;34m()\u001b[0m\n\u001b[1;32m----> 1\u001b[1;33m \u001b[0mActual_Label\u001b[0m\u001b[1;33m.\u001b[0m\u001b[0mshape\u001b[0m\u001b[1;33m\u001b[0m\u001b[0m\n\u001b[0m",
      "\u001b[1;31mAttributeError\u001b[0m: 'list' object has no attribute 'shape'"
     ]
    }
   ],
   "source": [
    "Actual_Label.shape"
   ]
  },
  {
   "cell_type": "code",
   "execution_count": 130,
   "metadata": {
    "collapsed": false
   },
   "outputs": [
    {
     "data": {
      "text/html": [
       "<div>\n",
       "<table border=\"1\" class=\"dataframe\">\n",
       "  <thead>\n",
       "    <tr style=\"text-align: right;\">\n",
       "      <th></th>\n",
       "      <th>0</th>\n",
       "      <th>1</th>\n",
       "      <th>2</th>\n",
       "      <th>3</th>\n",
       "      <th>4</th>\n",
       "      <th>5</th>\n",
       "      <th>6</th>\n",
       "      <th>7</th>\n",
       "      <th>8</th>\n",
       "      <th>9</th>\n",
       "      <th>...</th>\n",
       "      <th>32</th>\n",
       "      <th>33</th>\n",
       "      <th>34</th>\n",
       "      <th>35</th>\n",
       "      <th>36</th>\n",
       "      <th>37</th>\n",
       "      <th>38</th>\n",
       "      <th>39</th>\n",
       "      <th>Label</th>\n",
       "      <th>Cluster</th>\n",
       "    </tr>\n",
       "  </thead>\n",
       "  <tbody>\n",
       "    <tr>\n",
       "      <th>0</th>\n",
       "      <td>1.439396</td>\n",
       "      <td>1.533758</td>\n",
       "      <td>1.705850</td>\n",
       "      <td>2.993416</td>\n",
       "      <td>2.606283</td>\n",
       "      <td>3.178577</td>\n",
       "      <td>2.522242</td>\n",
       "      <td>2.848150</td>\n",
       "      <td>1.819115</td>\n",
       "      <td>0.940211</td>\n",
       "      <td>...</td>\n",
       "      <td>0.962655</td>\n",
       "      <td>1.472043</td>\n",
       "      <td>0.0</td>\n",
       "      <td>0.0</td>\n",
       "      <td>2.228551</td>\n",
       "      <td>0.698205</td>\n",
       "      <td>0.0</td>\n",
       "      <td>1.091734</td>\n",
       "      <td>7.0</td>\n",
       "      <td>0</td>\n",
       "    </tr>\n",
       "    <tr>\n",
       "      <th>1</th>\n",
       "      <td>3.876988</td>\n",
       "      <td>0.288837</td>\n",
       "      <td>1.514825</td>\n",
       "      <td>2.628214</td>\n",
       "      <td>4.046387</td>\n",
       "      <td>0.837923</td>\n",
       "      <td>2.547393</td>\n",
       "      <td>1.315813</td>\n",
       "      <td>2.081404</td>\n",
       "      <td>6.372713</td>\n",
       "      <td>...</td>\n",
       "      <td>1.920950</td>\n",
       "      <td>3.983616</td>\n",
       "      <td>0.0</td>\n",
       "      <td>0.0</td>\n",
       "      <td>1.879533</td>\n",
       "      <td>7.051126</td>\n",
       "      <td>0.0</td>\n",
       "      <td>1.306167</td>\n",
       "      <td>2.0</td>\n",
       "      <td>3</td>\n",
       "    </tr>\n",
       "    <tr>\n",
       "      <th>2</th>\n",
       "      <td>0.000000</td>\n",
       "      <td>0.860552</td>\n",
       "      <td>1.039834</td>\n",
       "      <td>2.888837</td>\n",
       "      <td>1.980653</td>\n",
       "      <td>1.164428</td>\n",
       "      <td>2.667731</td>\n",
       "      <td>1.959471</td>\n",
       "      <td>1.125587</td>\n",
       "      <td>0.797308</td>\n",
       "      <td>...</td>\n",
       "      <td>1.085797</td>\n",
       "      <td>1.518367</td>\n",
       "      <td>0.0</td>\n",
       "      <td>0.0</td>\n",
       "      <td>1.280862</td>\n",
       "      <td>3.333719</td>\n",
       "      <td>0.0</td>\n",
       "      <td>0.862952</td>\n",
       "      <td>1.0</td>\n",
       "      <td>4</td>\n",
       "    </tr>\n",
       "    <tr>\n",
       "      <th>3</th>\n",
       "      <td>4.746442</td>\n",
       "      <td>2.616378</td>\n",
       "      <td>1.453264</td>\n",
       "      <td>1.690279</td>\n",
       "      <td>7.269545</td>\n",
       "      <td>2.916892</td>\n",
       "      <td>3.879184</td>\n",
       "      <td>2.672343</td>\n",
       "      <td>2.504143</td>\n",
       "      <td>5.752549</td>\n",
       "      <td>...</td>\n",
       "      <td>2.177196</td>\n",
       "      <td>3.035470</td>\n",
       "      <td>0.0</td>\n",
       "      <td>0.0</td>\n",
       "      <td>2.508161</td>\n",
       "      <td>2.855093</td>\n",
       "      <td>0.0</td>\n",
       "      <td>2.298105</td>\n",
       "      <td>0.0</td>\n",
       "      <td>9</td>\n",
       "    </tr>\n",
       "    <tr>\n",
       "      <th>4</th>\n",
       "      <td>0.785093</td>\n",
       "      <td>2.686178</td>\n",
       "      <td>2.199318</td>\n",
       "      <td>1.730256</td>\n",
       "      <td>1.738629</td>\n",
       "      <td>2.907272</td>\n",
       "      <td>0.339924</td>\n",
       "      <td>0.638922</td>\n",
       "      <td>1.014574</td>\n",
       "      <td>2.956997</td>\n",
       "      <td>...</td>\n",
       "      <td>3.805755</td>\n",
       "      <td>1.695995</td>\n",
       "      <td>0.0</td>\n",
       "      <td>0.0</td>\n",
       "      <td>1.575763</td>\n",
       "      <td>1.248279</td>\n",
       "      <td>0.0</td>\n",
       "      <td>0.966686</td>\n",
       "      <td>4.0</td>\n",
       "      <td>7</td>\n",
       "    </tr>\n",
       "  </tbody>\n",
       "</table>\n",
       "<p>5 rows × 42 columns</p>\n",
       "</div>"
      ],
      "text/plain": [
       "          0         1         2         3         4         5         6  \\\n",
       "0  1.439396  1.533758  1.705850  2.993416  2.606283  3.178577  2.522242   \n",
       "1  3.876988  0.288837  1.514825  2.628214  4.046387  0.837923  2.547393   \n",
       "2  0.000000  0.860552  1.039834  2.888837  1.980653  1.164428  2.667731   \n",
       "3  4.746442  2.616378  1.453264  1.690279  7.269545  2.916892  3.879184   \n",
       "4  0.785093  2.686178  2.199318  1.730256  1.738629  2.907272  0.339924   \n",
       "\n",
       "          7         8         9   ...           32        33   34   35  \\\n",
       "0  2.848150  1.819115  0.940211   ...     0.962655  1.472043  0.0  0.0   \n",
       "1  1.315813  2.081404  6.372713   ...     1.920950  3.983616  0.0  0.0   \n",
       "2  1.959471  1.125587  0.797308   ...     1.085797  1.518367  0.0  0.0   \n",
       "3  2.672343  2.504143  5.752549   ...     2.177196  3.035470  0.0  0.0   \n",
       "4  0.638922  1.014574  2.956997   ...     3.805755  1.695995  0.0  0.0   \n",
       "\n",
       "         36        37   38        39  Label  Cluster  \n",
       "0  2.228551  0.698205  0.0  1.091734    7.0        0  \n",
       "1  1.879533  7.051126  0.0  1.306167    2.0        3  \n",
       "2  1.280862  3.333719  0.0  0.862952    1.0        4  \n",
       "3  2.508161  2.855093  0.0  2.298105    0.0        9  \n",
       "4  1.575763  1.248279  0.0  0.966686    4.0        7  \n",
       "\n",
       "[5 rows x 42 columns]"
      ]
     },
     "execution_count": 130,
     "metadata": {},
     "output_type": "execute_result"
    }
   ],
   "source": [
    "test_df.head()"
   ]
  },
  {
   "cell_type": "code",
   "execution_count": 131,
   "metadata": {
    "collapsed": false
   },
   "outputs": [
    {
     "data": {
      "text/html": [
       "<div>\n",
       "<table border=\"1\" class=\"dataframe\">\n",
       "  <thead>\n",
       "    <tr style=\"text-align: right;\">\n",
       "      <th></th>\n",
       "      <th>0</th>\n",
       "      <th>1</th>\n",
       "      <th>2</th>\n",
       "      <th>3</th>\n",
       "      <th>4</th>\n",
       "      <th>5</th>\n",
       "      <th>6</th>\n",
       "      <th>7</th>\n",
       "      <th>8</th>\n",
       "      <th>9</th>\n",
       "      <th>...</th>\n",
       "      <th>32</th>\n",
       "      <th>33</th>\n",
       "      <th>34</th>\n",
       "      <th>35</th>\n",
       "      <th>36</th>\n",
       "      <th>37</th>\n",
       "      <th>38</th>\n",
       "      <th>39</th>\n",
       "      <th>Label</th>\n",
       "      <th>Cluster</th>\n",
       "    </tr>\n",
       "  </thead>\n",
       "  <tbody>\n",
       "    <tr>\n",
       "      <th>count</th>\n",
       "      <td>10000.000000</td>\n",
       "      <td>10000.000000</td>\n",
       "      <td>10000.000000</td>\n",
       "      <td>10000.000000</td>\n",
       "      <td>10000.000000</td>\n",
       "      <td>10000.000000</td>\n",
       "      <td>10000.000000</td>\n",
       "      <td>10000.000000</td>\n",
       "      <td>10000.000000</td>\n",
       "      <td>10000.000000</td>\n",
       "      <td>...</td>\n",
       "      <td>10000.000000</td>\n",
       "      <td>10000.000000</td>\n",
       "      <td>10000.0</td>\n",
       "      <td>10000.0</td>\n",
       "      <td>10000.000000</td>\n",
       "      <td>10000.000000</td>\n",
       "      <td>10000.0</td>\n",
       "      <td>10000.000000</td>\n",
       "      <td>10000.000000</td>\n",
       "      <td>10000.000000</td>\n",
       "    </tr>\n",
       "    <tr>\n",
       "      <th>mean</th>\n",
       "      <td>2.320601</td>\n",
       "      <td>2.141341</td>\n",
       "      <td>2.350264</td>\n",
       "      <td>2.568826</td>\n",
       "      <td>3.482336</td>\n",
       "      <td>2.470676</td>\n",
       "      <td>2.946397</td>\n",
       "      <td>2.105223</td>\n",
       "      <td>2.643307</td>\n",
       "      <td>3.081644</td>\n",
       "      <td>...</td>\n",
       "      <td>2.874107</td>\n",
       "      <td>2.402513</td>\n",
       "      <td>0.0</td>\n",
       "      <td>0.0</td>\n",
       "      <td>2.055657</td>\n",
       "      <td>3.396554</td>\n",
       "      <td>0.0</td>\n",
       "      <td>2.167426</td>\n",
       "      <td>4.443400</td>\n",
       "      <td>4.469900</td>\n",
       "    </tr>\n",
       "    <tr>\n",
       "      <th>std</th>\n",
       "      <td>1.478106</td>\n",
       "      <td>1.240657</td>\n",
       "      <td>1.315089</td>\n",
       "      <td>1.215278</td>\n",
       "      <td>2.064826</td>\n",
       "      <td>1.102161</td>\n",
       "      <td>1.091409</td>\n",
       "      <td>0.937434</td>\n",
       "      <td>1.391304</td>\n",
       "      <td>1.663919</td>\n",
       "      <td>...</td>\n",
       "      <td>1.427291</td>\n",
       "      <td>1.277320</td>\n",
       "      <td>0.0</td>\n",
       "      <td>0.0</td>\n",
       "      <td>1.027588</td>\n",
       "      <td>1.586462</td>\n",
       "      <td>0.0</td>\n",
       "      <td>1.324409</td>\n",
       "      <td>2.895865</td>\n",
       "      <td>2.887616</td>\n",
       "    </tr>\n",
       "    <tr>\n",
       "      <th>min</th>\n",
       "      <td>0.000000</td>\n",
       "      <td>0.000000</td>\n",
       "      <td>0.000000</td>\n",
       "      <td>0.000000</td>\n",
       "      <td>0.000000</td>\n",
       "      <td>0.000000</td>\n",
       "      <td>0.000000</td>\n",
       "      <td>0.000000</td>\n",
       "      <td>0.000000</td>\n",
       "      <td>0.000000</td>\n",
       "      <td>...</td>\n",
       "      <td>0.000000</td>\n",
       "      <td>0.000000</td>\n",
       "      <td>0.0</td>\n",
       "      <td>0.0</td>\n",
       "      <td>0.000000</td>\n",
       "      <td>0.000000</td>\n",
       "      <td>0.0</td>\n",
       "      <td>0.000000</td>\n",
       "      <td>0.000000</td>\n",
       "      <td>0.000000</td>\n",
       "    </tr>\n",
       "    <tr>\n",
       "      <th>25%</th>\n",
       "      <td>1.245947</td>\n",
       "      <td>1.183887</td>\n",
       "      <td>1.402701</td>\n",
       "      <td>1.664216</td>\n",
       "      <td>1.881223</td>\n",
       "      <td>1.622943</td>\n",
       "      <td>2.250474</td>\n",
       "      <td>1.442623</td>\n",
       "      <td>1.540446</td>\n",
       "      <td>1.852023</td>\n",
       "      <td>...</td>\n",
       "      <td>1.893954</td>\n",
       "      <td>1.479638</td>\n",
       "      <td>0.0</td>\n",
       "      <td>0.0</td>\n",
       "      <td>1.321352</td>\n",
       "      <td>2.215043</td>\n",
       "      <td>0.0</td>\n",
       "      <td>1.181993</td>\n",
       "      <td>2.000000</td>\n",
       "      <td>2.000000</td>\n",
       "    </tr>\n",
       "    <tr>\n",
       "      <th>50%</th>\n",
       "      <td>2.149874</td>\n",
       "      <td>2.063359</td>\n",
       "      <td>2.144441</td>\n",
       "      <td>2.526801</td>\n",
       "      <td>3.235991</td>\n",
       "      <td>2.395341</td>\n",
       "      <td>3.002272</td>\n",
       "      <td>2.117733</td>\n",
       "      <td>2.511769</td>\n",
       "      <td>2.908856</td>\n",
       "      <td>...</td>\n",
       "      <td>2.893382</td>\n",
       "      <td>2.316023</td>\n",
       "      <td>0.0</td>\n",
       "      <td>0.0</td>\n",
       "      <td>1.961714</td>\n",
       "      <td>3.429307</td>\n",
       "      <td>0.0</td>\n",
       "      <td>1.970621</td>\n",
       "      <td>4.000000</td>\n",
       "      <td>5.000000</td>\n",
       "    </tr>\n",
       "    <tr>\n",
       "      <th>75%</th>\n",
       "      <td>3.205377</td>\n",
       "      <td>2.974270</td>\n",
       "      <td>3.104858</td>\n",
       "      <td>3.447505</td>\n",
       "      <td>4.850150</td>\n",
       "      <td>3.228653</td>\n",
       "      <td>3.678726</td>\n",
       "      <td>2.769303</td>\n",
       "      <td>3.653602</td>\n",
       "      <td>4.277022</td>\n",
       "      <td>...</td>\n",
       "      <td>3.848012</td>\n",
       "      <td>3.244988</td>\n",
       "      <td>0.0</td>\n",
       "      <td>0.0</td>\n",
       "      <td>2.695083</td>\n",
       "      <td>4.513322</td>\n",
       "      <td>0.0</td>\n",
       "      <td>3.044030</td>\n",
       "      <td>7.000000</td>\n",
       "      <td>7.000000</td>\n",
       "    </tr>\n",
       "    <tr>\n",
       "      <th>max</th>\n",
       "      <td>8.526831</td>\n",
       "      <td>7.031223</td>\n",
       "      <td>8.093109</td>\n",
       "      <td>6.250950</td>\n",
       "      <td>10.171324</td>\n",
       "      <td>6.767524</td>\n",
       "      <td>6.519832</td>\n",
       "      <td>5.283956</td>\n",
       "      <td>6.969714</td>\n",
       "      <td>8.271577</td>\n",
       "      <td>...</td>\n",
       "      <td>7.962352</td>\n",
       "      <td>7.429311</td>\n",
       "      <td>0.0</td>\n",
       "      <td>0.0</td>\n",
       "      <td>6.465517</td>\n",
       "      <td>8.619820</td>\n",
       "      <td>0.0</td>\n",
       "      <td>7.539230</td>\n",
       "      <td>9.000000</td>\n",
       "      <td>9.000000</td>\n",
       "    </tr>\n",
       "  </tbody>\n",
       "</table>\n",
       "<p>8 rows × 42 columns</p>\n",
       "</div>"
      ],
      "text/plain": [
       "                  0             1             2             3             4  \\\n",
       "count  10000.000000  10000.000000  10000.000000  10000.000000  10000.000000   \n",
       "mean       2.320601      2.141341      2.350264      2.568826      3.482336   \n",
       "std        1.478106      1.240657      1.315089      1.215278      2.064826   \n",
       "min        0.000000      0.000000      0.000000      0.000000      0.000000   \n",
       "25%        1.245947      1.183887      1.402701      1.664216      1.881223   \n",
       "50%        2.149874      2.063359      2.144441      2.526801      3.235991   \n",
       "75%        3.205377      2.974270      3.104858      3.447505      4.850150   \n",
       "max        8.526831      7.031223      8.093109      6.250950     10.171324   \n",
       "\n",
       "                  5             6             7             8             9  \\\n",
       "count  10000.000000  10000.000000  10000.000000  10000.000000  10000.000000   \n",
       "mean       2.470676      2.946397      2.105223      2.643307      3.081644   \n",
       "std        1.102161      1.091409      0.937434      1.391304      1.663919   \n",
       "min        0.000000      0.000000      0.000000      0.000000      0.000000   \n",
       "25%        1.622943      2.250474      1.442623      1.540446      1.852023   \n",
       "50%        2.395341      3.002272      2.117733      2.511769      2.908856   \n",
       "75%        3.228653      3.678726      2.769303      3.653602      4.277022   \n",
       "max        6.767524      6.519832      5.283956      6.969714      8.271577   \n",
       "\n",
       "           ...                 32            33       34       35  \\\n",
       "count      ...       10000.000000  10000.000000  10000.0  10000.0   \n",
       "mean       ...           2.874107      2.402513      0.0      0.0   \n",
       "std        ...           1.427291      1.277320      0.0      0.0   \n",
       "min        ...           0.000000      0.000000      0.0      0.0   \n",
       "25%        ...           1.893954      1.479638      0.0      0.0   \n",
       "50%        ...           2.893382      2.316023      0.0      0.0   \n",
       "75%        ...           3.848012      3.244988      0.0      0.0   \n",
       "max        ...           7.962352      7.429311      0.0      0.0   \n",
       "\n",
       "                 36            37       38            39         Label  \\\n",
       "count  10000.000000  10000.000000  10000.0  10000.000000  10000.000000   \n",
       "mean       2.055657      3.396554      0.0      2.167426      4.443400   \n",
       "std        1.027588      1.586462      0.0      1.324409      2.895865   \n",
       "min        0.000000      0.000000      0.0      0.000000      0.000000   \n",
       "25%        1.321352      2.215043      0.0      1.181993      2.000000   \n",
       "50%        1.961714      3.429307      0.0      1.970621      4.000000   \n",
       "75%        2.695083      4.513322      0.0      3.044030      7.000000   \n",
       "max        6.465517      8.619820      0.0      7.539230      9.000000   \n",
       "\n",
       "            Cluster  \n",
       "count  10000.000000  \n",
       "mean       4.469900  \n",
       "std        2.887616  \n",
       "min        0.000000  \n",
       "25%        2.000000  \n",
       "50%        5.000000  \n",
       "75%        7.000000  \n",
       "max        9.000000  \n",
       "\n",
       "[8 rows x 42 columns]"
      ]
     },
     "execution_count": 131,
     "metadata": {},
     "output_type": "execute_result"
    }
   ],
   "source": [
    "test_df.describe()"
   ]
  },
  {
   "cell_type": "code",
   "execution_count": 132,
   "metadata": {
    "collapsed": false
   },
   "outputs": [
    {
     "data": {
      "text/html": [
       "<div>\n",
       "<table border=\"1\" class=\"dataframe\">\n",
       "  <thead>\n",
       "    <tr style=\"text-align: right;\">\n",
       "      <th></th>\n",
       "      <th>0</th>\n",
       "      <th>1</th>\n",
       "      <th>2</th>\n",
       "      <th>3</th>\n",
       "      <th>4</th>\n",
       "      <th>5</th>\n",
       "      <th>6</th>\n",
       "      <th>7</th>\n",
       "      <th>8</th>\n",
       "      <th>9</th>\n",
       "      <th>...</th>\n",
       "      <th>31</th>\n",
       "      <th>32</th>\n",
       "      <th>33</th>\n",
       "      <th>34</th>\n",
       "      <th>35</th>\n",
       "      <th>36</th>\n",
       "      <th>37</th>\n",
       "      <th>38</th>\n",
       "      <th>39</th>\n",
       "      <th>Label</th>\n",
       "    </tr>\n",
       "    <tr>\n",
       "      <th>Cluster</th>\n",
       "      <th></th>\n",
       "      <th></th>\n",
       "      <th></th>\n",
       "      <th></th>\n",
       "      <th></th>\n",
       "      <th></th>\n",
       "      <th></th>\n",
       "      <th></th>\n",
       "      <th></th>\n",
       "      <th></th>\n",
       "      <th></th>\n",
       "      <th></th>\n",
       "      <th></th>\n",
       "      <th></th>\n",
       "      <th></th>\n",
       "      <th></th>\n",
       "      <th></th>\n",
       "      <th></th>\n",
       "      <th></th>\n",
       "      <th></th>\n",
       "      <th></th>\n",
       "    </tr>\n",
       "  </thead>\n",
       "  <tbody>\n",
       "    <tr>\n",
       "      <th>0</th>\n",
       "      <td>1143</td>\n",
       "      <td>1143</td>\n",
       "      <td>1143</td>\n",
       "      <td>1143</td>\n",
       "      <td>1143</td>\n",
       "      <td>1143</td>\n",
       "      <td>1143</td>\n",
       "      <td>1143</td>\n",
       "      <td>1143</td>\n",
       "      <td>1143</td>\n",
       "      <td>...</td>\n",
       "      <td>1143</td>\n",
       "      <td>1143</td>\n",
       "      <td>1143</td>\n",
       "      <td>1143</td>\n",
       "      <td>1143</td>\n",
       "      <td>1143</td>\n",
       "      <td>1143</td>\n",
       "      <td>1143</td>\n",
       "      <td>1143</td>\n",
       "      <td>1143</td>\n",
       "    </tr>\n",
       "    <tr>\n",
       "      <th>1</th>\n",
       "      <td>879</td>\n",
       "      <td>879</td>\n",
       "      <td>879</td>\n",
       "      <td>879</td>\n",
       "      <td>879</td>\n",
       "      <td>879</td>\n",
       "      <td>879</td>\n",
       "      <td>879</td>\n",
       "      <td>879</td>\n",
       "      <td>879</td>\n",
       "      <td>...</td>\n",
       "      <td>879</td>\n",
       "      <td>879</td>\n",
       "      <td>879</td>\n",
       "      <td>879</td>\n",
       "      <td>879</td>\n",
       "      <td>879</td>\n",
       "      <td>879</td>\n",
       "      <td>879</td>\n",
       "      <td>879</td>\n",
       "      <td>879</td>\n",
       "    </tr>\n",
       "    <tr>\n",
       "      <th>2</th>\n",
       "      <td>1144</td>\n",
       "      <td>1144</td>\n",
       "      <td>1144</td>\n",
       "      <td>1144</td>\n",
       "      <td>1144</td>\n",
       "      <td>1144</td>\n",
       "      <td>1144</td>\n",
       "      <td>1144</td>\n",
       "      <td>1144</td>\n",
       "      <td>1144</td>\n",
       "      <td>...</td>\n",
       "      <td>1144</td>\n",
       "      <td>1144</td>\n",
       "      <td>1144</td>\n",
       "      <td>1144</td>\n",
       "      <td>1144</td>\n",
       "      <td>1144</td>\n",
       "      <td>1144</td>\n",
       "      <td>1144</td>\n",
       "      <td>1144</td>\n",
       "      <td>1144</td>\n",
       "    </tr>\n",
       "    <tr>\n",
       "      <th>3</th>\n",
       "      <td>757</td>\n",
       "      <td>757</td>\n",
       "      <td>757</td>\n",
       "      <td>757</td>\n",
       "      <td>757</td>\n",
       "      <td>757</td>\n",
       "      <td>757</td>\n",
       "      <td>757</td>\n",
       "      <td>757</td>\n",
       "      <td>757</td>\n",
       "      <td>...</td>\n",
       "      <td>757</td>\n",
       "      <td>757</td>\n",
       "      <td>757</td>\n",
       "      <td>757</td>\n",
       "      <td>757</td>\n",
       "      <td>757</td>\n",
       "      <td>757</td>\n",
       "      <td>757</td>\n",
       "      <td>757</td>\n",
       "      <td>757</td>\n",
       "    </tr>\n",
       "    <tr>\n",
       "      <th>4</th>\n",
       "      <td>1062</td>\n",
       "      <td>1062</td>\n",
       "      <td>1062</td>\n",
       "      <td>1062</td>\n",
       "      <td>1062</td>\n",
       "      <td>1062</td>\n",
       "      <td>1062</td>\n",
       "      <td>1062</td>\n",
       "      <td>1062</td>\n",
       "      <td>1062</td>\n",
       "      <td>...</td>\n",
       "      <td>1062</td>\n",
       "      <td>1062</td>\n",
       "      <td>1062</td>\n",
       "      <td>1062</td>\n",
       "      <td>1062</td>\n",
       "      <td>1062</td>\n",
       "      <td>1062</td>\n",
       "      <td>1062</td>\n",
       "      <td>1062</td>\n",
       "      <td>1062</td>\n",
       "    </tr>\n",
       "    <tr>\n",
       "      <th>5</th>\n",
       "      <td>1036</td>\n",
       "      <td>1036</td>\n",
       "      <td>1036</td>\n",
       "      <td>1036</td>\n",
       "      <td>1036</td>\n",
       "      <td>1036</td>\n",
       "      <td>1036</td>\n",
       "      <td>1036</td>\n",
       "      <td>1036</td>\n",
       "      <td>1036</td>\n",
       "      <td>...</td>\n",
       "      <td>1036</td>\n",
       "      <td>1036</td>\n",
       "      <td>1036</td>\n",
       "      <td>1036</td>\n",
       "      <td>1036</td>\n",
       "      <td>1036</td>\n",
       "      <td>1036</td>\n",
       "      <td>1036</td>\n",
       "      <td>1036</td>\n",
       "      <td>1036</td>\n",
       "    </tr>\n",
       "    <tr>\n",
       "      <th>6</th>\n",
       "      <td>887</td>\n",
       "      <td>887</td>\n",
       "      <td>887</td>\n",
       "      <td>887</td>\n",
       "      <td>887</td>\n",
       "      <td>887</td>\n",
       "      <td>887</td>\n",
       "      <td>887</td>\n",
       "      <td>887</td>\n",
       "      <td>887</td>\n",
       "      <td>...</td>\n",
       "      <td>887</td>\n",
       "      <td>887</td>\n",
       "      <td>887</td>\n",
       "      <td>887</td>\n",
       "      <td>887</td>\n",
       "      <td>887</td>\n",
       "      <td>887</td>\n",
       "      <td>887</td>\n",
       "      <td>887</td>\n",
       "      <td>887</td>\n",
       "    </tr>\n",
       "    <tr>\n",
       "      <th>7</th>\n",
       "      <td>1010</td>\n",
       "      <td>1010</td>\n",
       "      <td>1010</td>\n",
       "      <td>1010</td>\n",
       "      <td>1010</td>\n",
       "      <td>1010</td>\n",
       "      <td>1010</td>\n",
       "      <td>1010</td>\n",
       "      <td>1010</td>\n",
       "      <td>1010</td>\n",
       "      <td>...</td>\n",
       "      <td>1010</td>\n",
       "      <td>1010</td>\n",
       "      <td>1010</td>\n",
       "      <td>1010</td>\n",
       "      <td>1010</td>\n",
       "      <td>1010</td>\n",
       "      <td>1010</td>\n",
       "      <td>1010</td>\n",
       "      <td>1010</td>\n",
       "      <td>1010</td>\n",
       "    </tr>\n",
       "    <tr>\n",
       "      <th>8</th>\n",
       "      <td>1297</td>\n",
       "      <td>1297</td>\n",
       "      <td>1297</td>\n",
       "      <td>1297</td>\n",
       "      <td>1297</td>\n",
       "      <td>1297</td>\n",
       "      <td>1297</td>\n",
       "      <td>1297</td>\n",
       "      <td>1297</td>\n",
       "      <td>1297</td>\n",
       "      <td>...</td>\n",
       "      <td>1297</td>\n",
       "      <td>1297</td>\n",
       "      <td>1297</td>\n",
       "      <td>1297</td>\n",
       "      <td>1297</td>\n",
       "      <td>1297</td>\n",
       "      <td>1297</td>\n",
       "      <td>1297</td>\n",
       "      <td>1297</td>\n",
       "      <td>1297</td>\n",
       "    </tr>\n",
       "    <tr>\n",
       "      <th>9</th>\n",
       "      <td>785</td>\n",
       "      <td>785</td>\n",
       "      <td>785</td>\n",
       "      <td>785</td>\n",
       "      <td>785</td>\n",
       "      <td>785</td>\n",
       "      <td>785</td>\n",
       "      <td>785</td>\n",
       "      <td>785</td>\n",
       "      <td>785</td>\n",
       "      <td>...</td>\n",
       "      <td>785</td>\n",
       "      <td>785</td>\n",
       "      <td>785</td>\n",
       "      <td>785</td>\n",
       "      <td>785</td>\n",
       "      <td>785</td>\n",
       "      <td>785</td>\n",
       "      <td>785</td>\n",
       "      <td>785</td>\n",
       "      <td>785</td>\n",
       "    </tr>\n",
       "  </tbody>\n",
       "</table>\n",
       "<p>10 rows × 41 columns</p>\n",
       "</div>"
      ],
      "text/plain": [
       "            0     1     2     3     4     5     6     7     8     9  ...    \\\n",
       "Cluster                                                              ...     \n",
       "0        1143  1143  1143  1143  1143  1143  1143  1143  1143  1143  ...     \n",
       "1         879   879   879   879   879   879   879   879   879   879  ...     \n",
       "2        1144  1144  1144  1144  1144  1144  1144  1144  1144  1144  ...     \n",
       "3         757   757   757   757   757   757   757   757   757   757  ...     \n",
       "4        1062  1062  1062  1062  1062  1062  1062  1062  1062  1062  ...     \n",
       "5        1036  1036  1036  1036  1036  1036  1036  1036  1036  1036  ...     \n",
       "6         887   887   887   887   887   887   887   887   887   887  ...     \n",
       "7        1010  1010  1010  1010  1010  1010  1010  1010  1010  1010  ...     \n",
       "8        1297  1297  1297  1297  1297  1297  1297  1297  1297  1297  ...     \n",
       "9         785   785   785   785   785   785   785   785   785   785  ...     \n",
       "\n",
       "           31    32    33    34    35    36    37    38    39  Label  \n",
       "Cluster                                                               \n",
       "0        1143  1143  1143  1143  1143  1143  1143  1143  1143   1143  \n",
       "1         879   879   879   879   879   879   879   879   879    879  \n",
       "2        1144  1144  1144  1144  1144  1144  1144  1144  1144   1144  \n",
       "3         757   757   757   757   757   757   757   757   757    757  \n",
       "4        1062  1062  1062  1062  1062  1062  1062  1062  1062   1062  \n",
       "5        1036  1036  1036  1036  1036  1036  1036  1036  1036   1036  \n",
       "6         887   887   887   887   887   887   887   887   887    887  \n",
       "7        1010  1010  1010  1010  1010  1010  1010  1010  1010   1010  \n",
       "8        1297  1297  1297  1297  1297  1297  1297  1297  1297   1297  \n",
       "9         785   785   785   785   785   785   785   785   785    785  \n",
       "\n",
       "[10 rows x 41 columns]"
      ]
     },
     "execution_count": 132,
     "metadata": {},
     "output_type": "execute_result"
    }
   ],
   "source": [
    "test_df.groupby('Cluster').count()"
   ]
  },
  {
   "cell_type": "code",
   "execution_count": 133,
   "metadata": {
    "collapsed": false
   },
   "outputs": [
    {
     "ename": "KeyError",
     "evalue": "\"['A' 'B'] not in index\"",
     "output_type": "error",
     "traceback": [
      "\u001b[1;31m---------------------------------------------------------------------------\u001b[0m",
      "\u001b[1;31mKeyError\u001b[0m                                  Traceback (most recent call last)",
      "\u001b[1;32m<ipython-input-133-ee25dec3f13b>\u001b[0m in \u001b[0;36m<module>\u001b[1;34m()\u001b[0m\n\u001b[0;32m     11\u001b[0m            \u001b[0mhue\u001b[0m\u001b[1;33m=\u001b[0m\u001b[1;34m\"Label\"\u001b[0m\u001b[1;33m,\u001b[0m\u001b[1;33m\u001b[0m\u001b[0m\n\u001b[0;32m     12\u001b[0m            scatter_kws={\"marker\": \"D\", \n\u001b[1;32m---> 13\u001b[1;33m                         \"s\": 100})\n\u001b[0m\u001b[0;32m     14\u001b[0m \u001b[0mplt\u001b[0m\u001b[1;33m.\u001b[0m\u001b[0mtitle\u001b[0m\u001b[1;33m(\u001b[0m\u001b[1;34m'Histogram of IQ'\u001b[0m\u001b[1;33m)\u001b[0m\u001b[1;33m\u001b[0m\u001b[0m\n\u001b[0;32m     15\u001b[0m \u001b[0mplt\u001b[0m\u001b[1;33m.\u001b[0m\u001b[0mxlabel\u001b[0m\u001b[1;33m(\u001b[0m\u001b[1;34m'PC#1'\u001b[0m\u001b[1;33m)\u001b[0m\u001b[1;33m\u001b[0m\u001b[0m\n",
      "\u001b[1;32m/home/mrafi123/anaconda3/lib/python3.5/site-packages/seaborn/linearmodels.py\u001b[0m in \u001b[0;36mlmplot\u001b[1;34m(x, y, data, hue, col, row, palette, col_wrap, size, aspect, markers, sharex, sharey, hue_order, col_order, row_order, legend, legend_out, x_estimator, x_bins, x_ci, scatter, fit_reg, ci, n_boot, units, order, logistic, lowess, robust, logx, x_partial, y_partial, truncate, x_jitter, y_jitter, scatter_kws, line_kws)\u001b[0m\n\u001b[0;32m    539\u001b[0m     \u001b[0mneed_cols\u001b[0m \u001b[1;33m=\u001b[0m \u001b[1;33m[\u001b[0m\u001b[0mx\u001b[0m\u001b[1;33m,\u001b[0m \u001b[0my\u001b[0m\u001b[1;33m,\u001b[0m \u001b[0mhue\u001b[0m\u001b[1;33m,\u001b[0m \u001b[0mcol\u001b[0m\u001b[1;33m,\u001b[0m \u001b[0mrow\u001b[0m\u001b[1;33m,\u001b[0m \u001b[0munits\u001b[0m\u001b[1;33m,\u001b[0m \u001b[0mx_partial\u001b[0m\u001b[1;33m,\u001b[0m \u001b[0my_partial\u001b[0m\u001b[1;33m]\u001b[0m\u001b[1;33m\u001b[0m\u001b[0m\n\u001b[0;32m    540\u001b[0m     \u001b[0mcols\u001b[0m \u001b[1;33m=\u001b[0m \u001b[0mnp\u001b[0m\u001b[1;33m.\u001b[0m\u001b[0munique\u001b[0m\u001b[1;33m(\u001b[0m\u001b[1;33m[\u001b[0m\u001b[0ma\u001b[0m \u001b[1;32mfor\u001b[0m \u001b[0ma\u001b[0m \u001b[1;32min\u001b[0m \u001b[0mneed_cols\u001b[0m \u001b[1;32mif\u001b[0m \u001b[0ma\u001b[0m \u001b[1;32mis\u001b[0m \u001b[1;32mnot\u001b[0m \u001b[1;32mNone\u001b[0m\u001b[1;33m]\u001b[0m\u001b[1;33m)\u001b[0m\u001b[1;33m.\u001b[0m\u001b[0mtolist\u001b[0m\u001b[1;33m(\u001b[0m\u001b[1;33m)\u001b[0m\u001b[1;33m\u001b[0m\u001b[0m\n\u001b[1;32m--> 541\u001b[1;33m     \u001b[0mdata\u001b[0m \u001b[1;33m=\u001b[0m \u001b[0mdata\u001b[0m\u001b[1;33m[\u001b[0m\u001b[0mcols\u001b[0m\u001b[1;33m]\u001b[0m\u001b[1;33m\u001b[0m\u001b[0m\n\u001b[0m\u001b[0;32m    542\u001b[0m \u001b[1;33m\u001b[0m\u001b[0m\n\u001b[0;32m    543\u001b[0m     \u001b[1;31m# Initialize the grid\u001b[0m\u001b[1;33m\u001b[0m\u001b[1;33m\u001b[0m\u001b[0m\n",
      "\u001b[1;32m/home/mrafi123/anaconda3/lib/python3.5/site-packages/pandas/core/frame.py\u001b[0m in \u001b[0;36m__getitem__\u001b[1;34m(self, key)\u001b[0m\n\u001b[0;32m   1989\u001b[0m         \u001b[1;32mif\u001b[0m \u001b[0misinstance\u001b[0m\u001b[1;33m(\u001b[0m\u001b[0mkey\u001b[0m\u001b[1;33m,\u001b[0m \u001b[1;33m(\u001b[0m\u001b[0mSeries\u001b[0m\u001b[1;33m,\u001b[0m \u001b[0mnp\u001b[0m\u001b[1;33m.\u001b[0m\u001b[0mndarray\u001b[0m\u001b[1;33m,\u001b[0m \u001b[0mIndex\u001b[0m\u001b[1;33m,\u001b[0m \u001b[0mlist\u001b[0m\u001b[1;33m)\u001b[0m\u001b[1;33m)\u001b[0m\u001b[1;33m:\u001b[0m\u001b[1;33m\u001b[0m\u001b[0m\n\u001b[0;32m   1990\u001b[0m             \u001b[1;31m# either boolean or fancy integer index\u001b[0m\u001b[1;33m\u001b[0m\u001b[1;33m\u001b[0m\u001b[0m\n\u001b[1;32m-> 1991\u001b[1;33m             \u001b[1;32mreturn\u001b[0m \u001b[0mself\u001b[0m\u001b[1;33m.\u001b[0m\u001b[0m_getitem_array\u001b[0m\u001b[1;33m(\u001b[0m\u001b[0mkey\u001b[0m\u001b[1;33m)\u001b[0m\u001b[1;33m\u001b[0m\u001b[0m\n\u001b[0m\u001b[0;32m   1992\u001b[0m         \u001b[1;32melif\u001b[0m \u001b[0misinstance\u001b[0m\u001b[1;33m(\u001b[0m\u001b[0mkey\u001b[0m\u001b[1;33m,\u001b[0m \u001b[0mDataFrame\u001b[0m\u001b[1;33m)\u001b[0m\u001b[1;33m:\u001b[0m\u001b[1;33m\u001b[0m\u001b[0m\n\u001b[0;32m   1993\u001b[0m             \u001b[1;32mreturn\u001b[0m \u001b[0mself\u001b[0m\u001b[1;33m.\u001b[0m\u001b[0m_getitem_frame\u001b[0m\u001b[1;33m(\u001b[0m\u001b[0mkey\u001b[0m\u001b[1;33m)\u001b[0m\u001b[1;33m\u001b[0m\u001b[0m\n",
      "\u001b[1;32m/home/mrafi123/anaconda3/lib/python3.5/site-packages/pandas/core/frame.py\u001b[0m in \u001b[0;36m_getitem_array\u001b[1;34m(self, key)\u001b[0m\n\u001b[0;32m   2033\u001b[0m             \u001b[1;32mreturn\u001b[0m \u001b[0mself\u001b[0m\u001b[1;33m.\u001b[0m\u001b[0mtake\u001b[0m\u001b[1;33m(\u001b[0m\u001b[0mindexer\u001b[0m\u001b[1;33m,\u001b[0m \u001b[0maxis\u001b[0m\u001b[1;33m=\u001b[0m\u001b[1;36m0\u001b[0m\u001b[1;33m,\u001b[0m \u001b[0mconvert\u001b[0m\u001b[1;33m=\u001b[0m\u001b[1;32mFalse\u001b[0m\u001b[1;33m)\u001b[0m\u001b[1;33m\u001b[0m\u001b[0m\n\u001b[0;32m   2034\u001b[0m         \u001b[1;32melse\u001b[0m\u001b[1;33m:\u001b[0m\u001b[1;33m\u001b[0m\u001b[0m\n\u001b[1;32m-> 2035\u001b[1;33m             \u001b[0mindexer\u001b[0m \u001b[1;33m=\u001b[0m \u001b[0mself\u001b[0m\u001b[1;33m.\u001b[0m\u001b[0mix\u001b[0m\u001b[1;33m.\u001b[0m\u001b[0m_convert_to_indexer\u001b[0m\u001b[1;33m(\u001b[0m\u001b[0mkey\u001b[0m\u001b[1;33m,\u001b[0m \u001b[0maxis\u001b[0m\u001b[1;33m=\u001b[0m\u001b[1;36m1\u001b[0m\u001b[1;33m)\u001b[0m\u001b[1;33m\u001b[0m\u001b[0m\n\u001b[0m\u001b[0;32m   2036\u001b[0m             \u001b[1;32mreturn\u001b[0m \u001b[0mself\u001b[0m\u001b[1;33m.\u001b[0m\u001b[0mtake\u001b[0m\u001b[1;33m(\u001b[0m\u001b[0mindexer\u001b[0m\u001b[1;33m,\u001b[0m \u001b[0maxis\u001b[0m\u001b[1;33m=\u001b[0m\u001b[1;36m1\u001b[0m\u001b[1;33m,\u001b[0m \u001b[0mconvert\u001b[0m\u001b[1;33m=\u001b[0m\u001b[1;32mTrue\u001b[0m\u001b[1;33m)\u001b[0m\u001b[1;33m\u001b[0m\u001b[0m\n\u001b[0;32m   2037\u001b[0m \u001b[1;33m\u001b[0m\u001b[0m\n",
      "\u001b[1;32m/home/mrafi123/anaconda3/lib/python3.5/site-packages/pandas/core/indexing.py\u001b[0m in \u001b[0;36m_convert_to_indexer\u001b[1;34m(self, obj, axis, is_setter)\u001b[0m\n\u001b[0;32m   1212\u001b[0m                 \u001b[0mmask\u001b[0m \u001b[1;33m=\u001b[0m \u001b[0mcheck\u001b[0m \u001b[1;33m==\u001b[0m \u001b[1;33m-\u001b[0m\u001b[1;36m1\u001b[0m\u001b[1;33m\u001b[0m\u001b[0m\n\u001b[0;32m   1213\u001b[0m                 \u001b[1;32mif\u001b[0m \u001b[0mmask\u001b[0m\u001b[1;33m.\u001b[0m\u001b[0many\u001b[0m\u001b[1;33m(\u001b[0m\u001b[1;33m)\u001b[0m\u001b[1;33m:\u001b[0m\u001b[1;33m\u001b[0m\u001b[0m\n\u001b[1;32m-> 1214\u001b[1;33m                     \u001b[1;32mraise\u001b[0m \u001b[0mKeyError\u001b[0m\u001b[1;33m(\u001b[0m\u001b[1;34m'%s not in index'\u001b[0m \u001b[1;33m%\u001b[0m \u001b[0mobjarr\u001b[0m\u001b[1;33m[\u001b[0m\u001b[0mmask\u001b[0m\u001b[1;33m]\u001b[0m\u001b[1;33m)\u001b[0m\u001b[1;33m\u001b[0m\u001b[0m\n\u001b[0m\u001b[0;32m   1215\u001b[0m \u001b[1;33m\u001b[0m\u001b[0m\n\u001b[0;32m   1216\u001b[0m                 \u001b[1;32mreturn\u001b[0m \u001b[0m_values_from_object\u001b[0m\u001b[1;33m(\u001b[0m\u001b[0mindexer\u001b[0m\u001b[1;33m)\u001b[0m\u001b[1;33m\u001b[0m\u001b[0m\n",
      "\u001b[1;31mKeyError\u001b[0m: \"['A' 'B'] not in index\""
     ]
    }
   ],
   "source": [
    "test_df_sample=test_df[0:10000]\n",
    "test_df_sample=test_df_sample[test_df_sample.Label < 3]\n",
    "\n",
    "sb.set_context(\"notebook\", font_scale=1.1)\n",
    "sb.set_style(\"ticks\")\n",
    "\n",
    "\n",
    "sb.lmplot('A','B',\n",
    "           data=test_df_sample, \n",
    "           fit_reg=False, \n",
    "           hue=\"Label\",  \n",
    "           scatter_kws={\"marker\": \"D\", \n",
    "                        \"s\": 100})\n",
    "plt.title('Histogram of IQ')\n",
    "plt.xlabel('PC#1')\n",
    "plt.ylabel('PC#2')"
   ]
  },
  {
   "cell_type": "code",
   "execution_count": 63,
   "metadata": {
    "collapsed": false
   },
   "outputs": [
    {
     "data": {
      "text/plain": [
       "<matplotlib.text.Text at 0x7fee34963ac8>"
      ]
     },
     "execution_count": 63,
     "metadata": {},
     "output_type": "execute_result"
    },
    {
     "data": {
      "image/png": "[encoded data removed]",
      "text/plain": [
       "<matplotlib.figure.Figure at 0x7fee3530c2e8>"
      ]
     },
     "metadata": {},
     "output_type": "display_data"
    }
   ],
   "source": [
    "test_df_sample=test_df[0:10000]\n",
    "test_df_sample=test_df_sample[test_df_sample.Cluster < 10]\n",
    "\n",
    "sb.set_context(\"notebook\", font_scale=1.1)\n",
    "sb.set_style(\"ticks\")\n",
    "\n",
    "\n",
    "sb.lmplot('A','B',\n",
    "           data=test_df_sample, \n",
    "           fit_reg=False, \n",
    "           hue=\"Cluster\",  \n",
    "           scatter_kws={\"marker\": \"D\", \n",
    "                        \"s\": 100})\n",
    "plt.title('Histogram of IQ')\n",
    "plt.xlabel('PC#1')\n",
    "plt.ylabel('PC#2')"
   ]
  },
  {
   "cell_type": "code",
   "execution_count": 120,
   "metadata": {
    "collapsed": false
   },
   "outputs": [
    {
     "data": {
      "image/png": "[encoded data removed]",
      "text/plain": [
       "<matplotlib.figure.Figure at 0x7f551ca526d8>"
      ]
     },
     "metadata": {},
     "output_type": "display_data"
    }
   ],
   "source": [
    "cmap = sb.cubehelix_palette(as_cmap=True, rot=-.3, light=1)\n",
    "g = sb.clustermap(test_df[0:2], cmap=cmap, linewidths=.5)"
   ]
  },
  {
   "cell_type": "code",
   "execution_count": 74,
   "metadata": {
    "collapsed": true
   },
   "outputs": [],
   "source": [
    "reduced_train_data = reduced_train_data[0:501,]"
   ]
  },
  {
   "cell_type": "code",
   "execution_count": 75,
   "metadata": {
    "collapsed": false
   },
   "outputs": [
    {
     "data": {
      "text/plain": [
       "(501, 2)"
      ]
     },
     "execution_count": 75,
     "metadata": {},
     "output_type": "execute_result"
    }
   ],
   "source": [
    "reduced_train_data.shape"
   ]
  },
  {
   "cell_type": "code",
   "execution_count": 76,
   "metadata": {
    "collapsed": false
   },
   "outputs": [
    {
     "data": {
      "image/png": "[encoded data removed]",
      "text/plain": [
       "<matplotlib.figure.Figure at 0x7f551d08b9e8>"
      ]
     },
     "metadata": {},
     "output_type": "display_data"
    }
   ],
   "source": [
    "# Step size of the mesh. Decrease to increase the quality of the VQ.\n",
    "h = .05    # point in the mesh [x_min, x_max]x[y_min, y_max].\n",
    "\n",
    "# Plot the decision boundary. For that, we will assign a color to each\n",
    "x_min, x_max = reduced_train_data[:, 0].min() - 1, reduced_train_data[:, 0].max() + 1\n",
    "y_min, y_max = reduced_train_data[:, 1].min() - 1, reduced_train_data[:, 1].max() + 1\n",
    "xx, yy = np.meshgrid(np.arange(x_min, x_max, h), np.arange(y_min, y_max, h))\n",
    "\n",
    "# Obtain labels for each point in mesh. Use last trained model.\n",
    "Z = kmeans.predict(np.c_[xx.ravel(), yy.ravel()])\n",
    "\n",
    "# Put the result into a color plot\n",
    "Z = Z.reshape(xx.shape)\n",
    "plt.figure(1)\n",
    "plt.clf()\n",
    "plt.imshow(Z, interpolation='nearest',\n",
    "           extent=(xx.min(), xx.max(), yy.min(), yy.max()),\n",
    "           cmap=plt.cm.Paired,\n",
    "           aspect='auto', origin='lower')\n",
    "\n",
    "plt.plot(reduced_train_data[:, 0], reduced_train_data[:, 1], 'k.', markersize=7)\n",
    "# Plot the centroids as a white X\n",
    "centroids = kmeans.cluster_centers_\n",
    "plt.scatter(centroids[:, 0], centroids[:, 1],\n",
    "            marker='x', s=169, linewidths=3,\n",
    "            color='w', zorder=10)\n",
    "plt.title('K-means clustering on the dataset (PCA-reduced data)\\n'\n",
    "          'Centroids are marked with white cross')\n",
    "plt.xlim(x_min, x_max)\n",
    "plt.ylim(y_min, y_max)\n",
    "plt.xticks(())\n",
    "plt.yticks(())\n",
    "plt.show()"
   ]
  },
  {
   "cell_type": "code",
   "execution_count": null,
   "metadata": {
    "collapsed": true
   },
   "outputs": [],
   "source": [
    "raw_data['Cluster_Label'] = kmeans.labels_"
   ]
  }
 ],
 "metadata": {
  "kernelspec": {
   "display_name": "Python 3",
   "language": "python",
   "name": "python3"
  },
  "language_info": {
   "codemirror_mode": {
    "name": "ipython",
    "version": 3
   },
   "file_extension": ".py",
   "mimetype": "text/x-python",
   "name": "python",
   "nbconvert_exporter": "python",
   "pygments_lexer": "ipython3",
   "version": "3.5.2"
  }
 },
 "nbformat": 4,
 "nbformat_minor": 0
}
