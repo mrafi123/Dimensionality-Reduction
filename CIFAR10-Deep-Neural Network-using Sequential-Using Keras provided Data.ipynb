{
 "cells": [
  {
   "cell_type": "code",
   "execution_count": 1,
   "metadata": {
    "collapsed": false,
    "scrolled": true
   },
   "outputs": [
    {
     "name": "stdout",
     "output_type": "stream",
     "text": [
      "Couldn't import dot_parser, loading of dot files will not be possible.\n"
     ]
    },
    {
     "name": "stderr",
     "output_type": "stream",
     "text": [
      "Using gpu device 0: GeForce 920M (CNMeM is disabled, cuDNN not available)\n",
      "Using Theano backend.\n"
     ]
    }
   ],
   "source": [
    "import os    \n",
    "#os.environ['THEANO_FLAGS'] = \"device=gpu1\"  \n",
    "#os.environ[\"THEANO_FLAGS\"] = \"mode=FAST_RUN,device=gpu0,floatX=float32,lib.cnmem=1\"\n",
    "os.environ[\"THEANO_FLAGS\"] = \"mode=FAST_RUN,device=gpu0,floatX=float32\"\n",
    "#os.environ[\"THEANO_FLAGS\"] = \"mode=FAST_RUN,device=cpu,floatX=float32\"\n",
    "import theano\n",
    "import numpy as np\n",
    "from keras.datasets import cifar10\n",
    "\n",
    "from keras.models import Sequential\n",
    "from keras.layers.core import Dense, Dropout, Activation, Flatten\n",
    "from keras.layers.convolutional import Convolution2D, MaxPooling2D\n",
    "\n",
    "from keras.optimizers import *\n",
    "from keras.utils.np_utils import *\n",
    "from keras.regularizers import l2, activity_l2\n",
    "\n",
    "from sklearn.cross_validation import train_test_split\n",
    "import matplotlib.pyplot as plt\n",
    "%matplotlib inline\n",
    "\n"
   ]
  },
  {
   "cell_type": "code",
   "execution_count": 2,
   "metadata": {
    "collapsed": false
   },
   "outputs": [],
   "source": [
    "# fix random seed for reproducibility\n",
    "seed = 9\n",
    "np.random.seed(seed)"
   ]
  },
  {
   "cell_type": "code",
   "execution_count": 3,
   "metadata": {
    "collapsed": false,
    "scrolled": true
   },
   "outputs": [
    {
     "name": "stdout",
     "output_type": "stream",
     "text": [
      "X_train shape: (50000, 3, 32, 32)\n",
      "50000 train samples\n",
      "10000 test samples\n"
     ]
    }
   ],
   "source": [
    "# the data, shuffled and split between train and test sets\n",
    "(X_train, y_train), (X_test, y_test) = cifar10.load_data()\n",
    "print('X_train shape:', X_train.shape)\n",
    "print(X_train.shape[0], 'train samples')\n",
    "print(X_test.shape[0], 'test samples')"
   ]
  },
  {
   "cell_type": "markdown",
   "metadata": {
    "collapsed": false
   },
   "source": [
    "print (X_train.shape)\n",
    "print (y_train.shape)\n",
    "print (X_test.shape)\n",
    "print (y_test.shape)\n",
    "print (X_train[0])"
   ]
  },
  {
   "cell_type": "markdown",
   "metadata": {},
   "source": [
    "print (X_train.shape)\n",
    "print (y_train.shape)\n",
    "print (X_test.shape)\n",
    "print (y_test.shape)\n",
    "print (mean_image)\n",
    "print (X_train[0])"
   ]
  },
  {
   "cell_type": "code",
   "execution_count": 4,
   "metadata": {
    "collapsed": false
   },
   "outputs": [
    {
     "name": "stdout",
     "output_type": "stream",
     "text": [
      "[[[ 59  43  50 ..., 158 152 148]\n",
      "  [ 16   0  18 ..., 123 119 122]\n",
      "  [ 25  16  49 ..., 118 120 109]\n",
      "  ..., \n",
      "  [208 201 198 ..., 160  56  53]\n",
      "  [180 173 186 ..., 184  97  83]\n",
      "  [177 168 179 ..., 216 151 123]]\n",
      "\n",
      " [[ 62  46  48 ..., 132 125 124]\n",
      "  [ 20   0   8 ...,  88  83  87]\n",
      "  [ 24   7  27 ...,  84  84  73]\n",
      "  ..., \n",
      "  [170 153 161 ..., 133  31  34]\n",
      "  [139 123 144 ..., 148  62  53]\n",
      "  [144 129 142 ..., 184 118  92]]\n",
      "\n",
      " [[ 63  45  43 ..., 108 102 103]\n",
      "  [ 20   0   0 ...,  55  50  57]\n",
      "  [ 21   0   8 ...,  50  50  42]\n",
      "  ..., \n",
      "  [ 96  34  26 ...,  70   7  20]\n",
      "  [ 96  42  30 ...,  94  34  34]\n",
      "  [116  94  87 ..., 140  84  72]]]\n"
     ]
    }
   ],
   "source": [
    "print (X_train[0])"
   ]
  },
  {
   "cell_type": "code",
   "execution_count": 4,
   "metadata": {
    "collapsed": false,
    "scrolled": true
   },
   "outputs": [
    {
     "name": "stdout",
     "output_type": "stream",
     "text": [
      "[[[ 0.23137255  0.16862746  0.19607843 ...,  0.61960787  0.59607846\n",
      "    0.58039218]\n",
      "  [ 0.0627451   0.          0.07058824 ...,  0.48235294  0.46666667\n",
      "    0.47843137]\n",
      "  [ 0.09803922  0.0627451   0.19215687 ...,  0.4627451   0.47058824\n",
      "    0.42745098]\n",
      "  ..., \n",
      "  [ 0.81568629  0.78823531  0.7764706  ...,  0.627451    0.21960784\n",
      "    0.20784314]\n",
      "  [ 0.70588237  0.67843139  0.72941178 ...,  0.72156864  0.38039216\n",
      "    0.32549021]\n",
      "  [ 0.69411767  0.65882355  0.7019608  ...,  0.84705883  0.59215689\n",
      "    0.48235294]]\n",
      "\n",
      " [[ 0.24313726  0.18039216  0.1882353  ...,  0.51764709  0.49019608\n",
      "    0.48627451]\n",
      "  [ 0.07843138  0.          0.03137255 ...,  0.34509805  0.32549021\n",
      "    0.34117648]\n",
      "  [ 0.09411765  0.02745098  0.10588235 ...,  0.32941177  0.32941177\n",
      "    0.28627452]\n",
      "  ..., \n",
      "  [ 0.66666669  0.60000002  0.63137257 ...,  0.52156866  0.12156863\n",
      "    0.13333334]\n",
      "  [ 0.54509807  0.48235294  0.56470591 ...,  0.58039218  0.24313726\n",
      "    0.20784314]\n",
      "  [ 0.56470591  0.50588238  0.55686277 ...,  0.72156864  0.4627451\n",
      "    0.36078432]]\n",
      "\n",
      " [[ 0.24705882  0.17647059  0.16862746 ...,  0.42352942  0.40000001\n",
      "    0.40392157]\n",
      "  [ 0.07843138  0.          0.         ...,  0.21568628  0.19607843\n",
      "    0.22352941]\n",
      "  [ 0.08235294  0.          0.03137255 ...,  0.19607843  0.19607843\n",
      "    0.16470589]\n",
      "  ..., \n",
      "  [ 0.3764706   0.13333334  0.10196079 ...,  0.27450982  0.02745098\n",
      "    0.07843138]\n",
      "  [ 0.3764706   0.16470589  0.11764706 ...,  0.36862746  0.13333334\n",
      "    0.13333334]\n",
      "  [ 0.45490196  0.36862746  0.34117648 ...,  0.54901963  0.32941177\n",
      "    0.28235295]]]\n"
     ]
    }
   ],
   "source": [
    "x_train = X_train.astype('float32') / 255.\n",
    "x_test = X_test.astype('float32') / 255.\n",
    "#x_train = X_train.astype('float32') / 1.\n",
    "#x_test = X_test.astype('float32') / 1.\n",
    "print (x_train[0])\n"
   ]
  },
  {
   "cell_type": "code",
   "execution_count": 11,
   "metadata": {
    "collapsed": false
   },
   "outputs": [
    {
     "name": "stdout",
     "output_type": "stream",
     "text": [
      "(45000, 1)\n",
      "(5000, 1)\n",
      "(45000, 10)\n",
      "(5000, 10)\n",
      "[[ 0.  0.  0. ...,  0.  0.  0.]\n",
      " [ 0.  0.  0. ...,  1.  0.  0.]\n",
      " [ 0.  0.  0. ...,  0.  0.  1.]\n",
      " ..., \n",
      " [ 0.  0.  0. ...,  0.  0.  0.]\n",
      " [ 0.  0.  0. ...,  0.  0.  0.]\n",
      " [ 0.  0.  0. ...,  0.  0.  0.]]\n"
     ]
    }
   ],
   "source": [
    "label_train, label_valid = train_test_split(y_train, test_size=0.1)\n",
    "print (label_train.shape)\n",
    "print (label_valid.shape)\n",
    "\n",
    "label_train=to_categorical(label_train)\n",
    "label_valid=to_categorical(label_valid)\n",
    "\n",
    "print (label_train.shape)\n",
    "print (label_valid.shape)\n",
    "print (label_train)"
   ]
  },
  {
   "cell_type": "code",
   "execution_count": null,
   "metadata": {
    "collapsed": true
   },
   "outputs": [],
   "source": [
    "x_train = x_train.reshape((len(x_train), np.prod(x_train.shape[1:])))\n",
    "x_test = x_test.reshape((len(x_test), np.prod(x_test.shape[1:])))\n",
    "print (x_train.shape)\n",
    "print (x_test.shape)"
   ]
  },
  {
   "cell_type": "code",
   "execution_count": 21,
   "metadata": {
    "collapsed": false
   },
   "outputs": [],
   "source": [
    "# Normalize the data: subtract the mean image\n",
    "mean_image = np.mean(x_train, axis=0)\n",
    "x_train -= mean_image\n",
    "x_test -= mean_image\n"
   ]
  },
  {
   "cell_type": "code",
   "execution_count": 22,
   "metadata": {
    "collapsed": false
   },
   "outputs": [],
   "source": [
    "x_train /= np.std(x_train, axis = 0) # normalize\n",
    "x_train /= np.std(x_train, axis = 0) # normalize\n",
    "\n"
   ]
  },
  {
   "cell_type": "markdown",
   "metadata": {},
   "source": [
    "print (X_train.shape)\n",
    "print (y_train.shape)\n",
    "print (X_test.shape)\n",
    "print (y_test.shape)\n",
    "print (mean_image)\n",
    "print (X_train[0])"
   ]
  },
  {
   "cell_type": "code",
   "execution_count": 46,
   "metadata": {
    "collapsed": false
   },
   "outputs": [
    {
     "name": "stdout",
     "output_type": "stream",
     "text": [
      "[[[ 0.23137255  0.16862746  0.19607843 ...,  0.61960787  0.59607846\n",
      "    0.58039218]\n",
      "  [ 0.0627451   0.          0.07058824 ...,  0.48235294  0.46666667\n",
      "    0.47843137]\n",
      "  [ 0.09803922  0.0627451   0.19215687 ...,  0.4627451   0.47058824\n",
      "    0.42745098]\n",
      "  ..., \n",
      "  [ 0.81568629  0.78823531  0.7764706  ...,  0.627451    0.21960784\n",
      "    0.20784314]\n",
      "  [ 0.70588237  0.67843139  0.72941178 ...,  0.72156864  0.38039216\n",
      "    0.32549021]\n",
      "  [ 0.69411767  0.65882355  0.7019608  ...,  0.84705883  0.59215689\n",
      "    0.48235294]]\n",
      "\n",
      " [[ 0.24313726  0.18039216  0.1882353  ...,  0.51764709  0.49019608\n",
      "    0.48627451]\n",
      "  [ 0.07843138  0.          0.03137255 ...,  0.34509805  0.32549021\n",
      "    0.34117648]\n",
      "  [ 0.09411765  0.02745098  0.10588235 ...,  0.32941177  0.32941177\n",
      "    0.28627452]\n",
      "  ..., \n",
      "  [ 0.66666669  0.60000002  0.63137257 ...,  0.52156866  0.12156863\n",
      "    0.13333334]\n",
      "  [ 0.54509807  0.48235294  0.56470591 ...,  0.58039218  0.24313726\n",
      "    0.20784314]\n",
      "  [ 0.56470591  0.50588238  0.55686277 ...,  0.72156864  0.4627451\n",
      "    0.36078432]]\n",
      "\n",
      " [[ 0.24705882  0.17647059  0.16862746 ...,  0.42352942  0.40000001\n",
      "    0.40392157]\n",
      "  [ 0.07843138  0.          0.         ...,  0.21568628  0.19607843\n",
      "    0.22352941]\n",
      "  [ 0.08235294  0.          0.03137255 ...,  0.19607843  0.19607843\n",
      "    0.16470589]\n",
      "  ..., \n",
      "  [ 0.3764706   0.13333334  0.10196079 ...,  0.27450982  0.02745098\n",
      "    0.07843138]\n",
      "  [ 0.3764706   0.16470589  0.11764706 ...,  0.36862746  0.13333334\n",
      "    0.13333334]\n",
      "  [ 0.45490196  0.36862746  0.34117648 ...,  0.54901963  0.32941177\n",
      "    0.28235295]]]\n"
     ]
    }
   ],
   "source": [
    "print (x_train[0])\n"
   ]
  },
  {
   "cell_type": "code",
   "execution_count": 12,
   "metadata": {
    "collapsed": false
   },
   "outputs": [
    {
     "name": "stdout",
     "output_type": "stream",
     "text": [
      "(45000, 3, 32, 32)\n",
      "(5000, 3, 32, 32)\n"
     ]
    }
   ],
   "source": [
    "s_train, s_valid = train_test_split(x_train, test_size=0.1)\n",
    "print (s_train.shape)\n",
    "print (s_valid.shape)"
   ]
  },
  {
   "cell_type": "code",
   "execution_count": 10,
   "metadata": {
    "collapsed": true
   },
   "outputs": [],
   "source": [
    "from keras import backend as K\n",
    "import numpy as np\n",
    "\n",
    "def my_init(shape, name=None):\n",
    "    value = np.random.random(shape)\n",
    "    print (value.shape)\n",
    "    return K.variable(value, name=name)\n",
    "\n",
    "#model.add(Dense(64, init=my_init))"
   ]
  },
  {
   "cell_type": "code",
   "execution_count": 11,
   "metadata": {
    "collapsed": false
   },
   "outputs": [
    {
     "name": "stdout",
     "output_type": "stream",
     "text": [
      "(100,)\n"
     ]
    },
    {
     "data": {
      "text/plain": [
       "<CudaNdarrayType(float32, vector)>"
      ]
     },
     "execution_count": 11,
     "metadata": {},
     "output_type": "execute_result"
    }
   ],
   "source": [
    "my_init(100)\n"
   ]
  },
  {
   "cell_type": "markdown",
   "metadata": {
    "collapsed": false
   },
   "source": [
    "model = Sequential()\n",
    "model.add(Dense(1500, input_dim=3072,W_regularizer=l2(0.5),init='glorot_uniform', activation='relu'))\n",
    "model.add(Dense(750,W_regularizer=l2(0.5),init='glorot_uniform', activation='relu'))\n",
    "model.add(Dense(400,W_regularizer=l2(0.5),init='glorot_uniform', activation='relu'))\n",
    "model.add(Dense(200,W_regularizer=l2(0.5),init='glorot_uniform', activation='relu'))\n",
    "model.add(Dense(100,W_regularizer=l2(0.5),init='glorot_uniform', activation='relu'))\n",
    "model.add(Dense(50,W_regularizer=l2(0.5),init='glorot_uniform', activation='relu'))\n",
    "model.add(Dense(10,W_regularizer=l2(0.5),init='glorot_uniform',activation='softmax'))"
   ]
  },
  {
   "cell_type": "code",
   "execution_count": 13,
   "metadata": {
    "collapsed": true
   },
   "outputs": [],
   "source": [
    "nb_classes = 10\n",
    "img_channels=3\n",
    "img_rows=32\n",
    "img_cols=32\n"
   ]
  },
  {
   "cell_type": "code",
   "execution_count": 21,
   "metadata": {
    "collapsed": false
   },
   "outputs": [],
   "source": [
    "   model = Sequential()\n",
    " \n",
    "   model.add(Convolution2D(32, 3, 3, border_mode='same',\n",
    "                           input_shape=(img_channels, img_rows, img_cols)))\n",
    "   model.add(Activation('relu'))\n",
    "   model.add(Convolution2D(32, 3, 3))\n",
    "   model.add(Activation('relu'))\n",
    "   model.add(MaxPooling2D(pool_size=(2, 2)))\n",
    "   model.add(Dropout(0.25))\n",
    " \n",
    "   model.add(Convolution2D(64, 3, 3, border_mode='same'))\n",
    "   model.add(Activation('relu'))\n",
    "   model.add(Convolution2D(64, 3, 3))\n",
    "   model.add(Activation('relu'))\n",
    "   model.add(MaxPooling2D(pool_size=(2, 2)))\n",
    "   model.add(Dropout(0.25))\n",
    " \n",
    "   model.add(Flatten())\n",
    "   model.add(Dense(512))\n",
    "   model.add(Activation('relu'))\n",
    "   model.add(Dropout(0.5))\n",
    "   model.add(Dense(nb_classes))\n",
    "   model.add(Activation('softmax'))"
   ]
  },
  {
   "cell_type": "code",
   "execution_count": 22,
   "metadata": {
    "collapsed": false,
    "scrolled": true
   },
   "outputs": [],
   "source": [
    "#autoencoder.compile(optimizer=Adam(lr=0.00001), loss='categorical_crossentropy') #around 35.47% test accuracy\n",
    "model.compile(optimizer=Adam(lr=0.00001), loss='categorical_crossentropy', metrics=['accuracy']) #around 40% test accuracy\n",
    "#model.compile(optimizer=Adam(lr=0.0001, beta_1=0.9, beta_2=0.999, epsilon=1e-08), loss='categorical_crossentropy', metrics=['accuracy']) #around 10% test accuracy\n",
    "#model.compile(optimizer=Adam(lr=0.00001), loss='categorical_crossentropy', metrics=['accuracy']) #around 10% test accuracy\n",
    "#model.compile(optimizer=SGD(lr=0.00001,decay=0.95,momentum=0.5), loss='categorical_crossentropy', metrics=['accuracy']) #around 10% test accuracy\n",
    "#model.compile(optimizer=SGD(lr=0.00001, momentum=0.0, decay=0.0, nesterov=False), loss='categorical_crossentropy', metrics=['accuracy']) #around 10% test accuracy"
   ]
  },
  {
   "cell_type": "code",
   "execution_count": 23,
   "metadata": {
    "collapsed": false
   },
   "outputs": [
    {
     "name": "stdout",
     "output_type": "stream",
     "text": [
      "Train on 45000 samples, validate on 5000 samples\n",
      "Epoch 1/100\n",
      "45000/45000 [==============================] - 101s - loss: 2.3047 - acc: 0.0991 - val_loss: 2.3026 - val_acc: 0.0936\n",
      "Epoch 2/100\n",
      "45000/45000 [==============================] - 101s - loss: 2.3035 - acc: 0.1012 - val_loss: 2.3027 - val_acc: 0.0960\n",
      "Epoch 3/100\n",
      "45000/45000 [==============================] - 101s - loss: 2.3032 - acc: 0.0981 - val_loss: 2.3027 - val_acc: 0.1000\n",
      "Epoch 4/100\n",
      "45000/45000 [==============================] - 101s - loss: 2.3031 - acc: 0.1001 - val_loss: 2.3027 - val_acc: 0.1002\n",
      "Epoch 5/100\n",
      "45000/45000 [==============================] - 101s - loss: 2.3029 - acc: 0.0998 - val_loss: 2.3027 - val_acc: 0.1004\n",
      "Epoch 6/100\n",
      "45000/45000 [==============================] - 101s - loss: 2.3029 - acc: 0.0993 - val_loss: 2.3027 - val_acc: 0.0990\n",
      "Epoch 7/100\n",
      "45000/45000 [==============================] - 102s - loss: 2.3027 - acc: 0.0997 - val_loss: 2.3027 - val_acc: 0.1004\n",
      "Epoch 8/100\n",
      "45000/45000 [==============================] - 102s - loss: 2.3025 - acc: 0.1030 - val_loss: 2.3027 - val_acc: 0.0988\n",
      "Epoch 9/100\n",
      "45000/45000 [==============================] - 102s - loss: 2.3027 - acc: 0.1018 - val_loss: 2.3027 - val_acc: 0.1004\n",
      "Epoch 10/100\n",
      "45000/45000 [==============================] - 102s - loss: 2.3026 - acc: 0.0986 - val_loss: 2.3027 - val_acc: 0.1040\n",
      "Epoch 11/100\n",
      "45000/45000 [==============================] - 102s - loss: 2.3024 - acc: 0.1029 - val_loss: 2.3027 - val_acc: 0.1004\n",
      "Epoch 12/100\n",
      "45000/45000 [==============================] - 102s - loss: 2.3024 - acc: 0.1053 - val_loss: 2.3026 - val_acc: 0.0982\n",
      "Epoch 13/100\n",
      "45000/45000 [==============================] - 102s - loss: 2.3025 - acc: 0.1024 - val_loss: 2.3027 - val_acc: 0.0986\n",
      "Epoch 14/100\n",
      "45000/45000 [==============================] - 102s - loss: 2.3022 - acc: 0.1035 - val_loss: 2.3026 - val_acc: 0.0976\n",
      "Epoch 15/100\n",
      "45000/45000 [==============================] - 102s - loss: 2.3022 - acc: 0.1029 - val_loss: 2.3026 - val_acc: 0.1024\n",
      "Epoch 16/100\n",
      "45000/45000 [==============================] - 102s - loss: 2.3022 - acc: 0.1033 - val_loss: 2.3026 - val_acc: 0.0974\n",
      "Epoch 17/100\n",
      "45000/45000 [==============================] - 102s - loss: 2.3021 - acc: 0.1056 - val_loss: 2.3025 - val_acc: 0.1022\n",
      "Epoch 18/100\n",
      "45000/45000 [==============================] - 102s - loss: 2.3021 - acc: 0.1053 - val_loss: 2.3025 - val_acc: 0.1002\n",
      "Epoch 19/100\n",
      "45000/45000 [==============================] - 102s - loss: 2.3021 - acc: 0.1040 - val_loss: 2.3025 - val_acc: 0.1028\n",
      "Epoch 20/100\n",
      "45000/45000 [==============================] - 102s - loss: 2.3021 - acc: 0.1039 - val_loss: 2.3026 - val_acc: 0.1010\n",
      "Epoch 21/100\n",
      "45000/45000 [==============================] - 102s - loss: 2.3017 - acc: 0.1076 - val_loss: 2.3026 - val_acc: 0.1012\n",
      "Epoch 22/100\n",
      "45000/45000 [==============================] - 102s - loss: 2.3018 - acc: 0.1075 - val_loss: 2.3026 - val_acc: 0.1022\n",
      "Epoch 23/100\n",
      "45000/45000 [==============================] - 102s - loss: 2.3017 - acc: 0.1076 - val_loss: 2.3025 - val_acc: 0.1020\n",
      "Epoch 24/100\n",
      "45000/45000 [==============================] - 102s - loss: 2.3016 - acc: 0.1085 - val_loss: 2.3025 - val_acc: 0.0994\n",
      "Epoch 25/100\n",
      "45000/45000 [==============================] - 102s - loss: 2.3017 - acc: 0.1091 - val_loss: 2.3025 - val_acc: 0.0996\n",
      "Epoch 26/100\n",
      "45000/45000 [==============================] - 102s - loss: 2.3016 - acc: 0.1060 - val_loss: 2.3026 - val_acc: 0.0956\n",
      "Epoch 27/100\n",
      "45000/45000 [==============================] - 102s - loss: 2.3015 - acc: 0.1090 - val_loss: 2.3026 - val_acc: 0.1002\n",
      "Epoch 28/100\n",
      "45000/45000 [==============================] - 102s - loss: 2.3013 - acc: 0.1093 - val_loss: 2.3026 - val_acc: 0.0956\n",
      "Epoch 29/100\n",
      "45000/45000 [==============================] - 102s - loss: 2.3013 - acc: 0.1096 - val_loss: 2.3026 - val_acc: 0.0980\n",
      "Epoch 30/100\n",
      "45000/45000 [==============================] - 102s - loss: 2.3014 - acc: 0.1080 - val_loss: 2.3027 - val_acc: 0.0988\n",
      "Epoch 31/100\n",
      "45000/45000 [==============================] - 102s - loss: 2.3016 - acc: 0.1079 - val_loss: 2.3027 - val_acc: 0.0968\n",
      "Epoch 32/100\n",
      "45000/45000 [==============================] - 102s - loss: 2.3009 - acc: 0.1119 - val_loss: 2.3027 - val_acc: 0.0962\n",
      "Epoch 33/100\n",
      "45000/45000 [==============================] - 102s - loss: 2.3011 - acc: 0.1100 - val_loss: 2.3026 - val_acc: 0.0988\n",
      "Epoch 34/100\n",
      "45000/45000 [==============================] - 102s - loss: 2.3010 - acc: 0.1098 - val_loss: 2.3027 - val_acc: 0.0958\n",
      "Epoch 35/100\n",
      "45000/45000 [==============================] - 102s - loss: 2.3010 - acc: 0.1126 - val_loss: 2.3027 - val_acc: 0.0978\n",
      "Epoch 36/100\n",
      "45000/45000 [==============================] - 102s - loss: 2.3007 - acc: 0.1096 - val_loss: 2.3027 - val_acc: 0.0966\n",
      "Epoch 37/100\n",
      "45000/45000 [==============================] - 102s - loss: 2.3010 - acc: 0.1114 - val_loss: 2.3027 - val_acc: 0.0950\n",
      "Epoch 38/100\n",
      "45000/45000 [==============================] - 102s - loss: 2.3006 - acc: 0.1110 - val_loss: 2.3027 - val_acc: 0.0960\n",
      "Epoch 39/100\n",
      "45000/45000 [==============================] - 102s - loss: 2.3001 - acc: 0.1108 - val_loss: 2.3028 - val_acc: 0.0990\n",
      "Epoch 40/100\n",
      "45000/45000 [==============================] - 102s - loss: 2.2999 - acc: 0.1124 - val_loss: 2.3028 - val_acc: 0.0950\n",
      "Epoch 41/100\n",
      "45000/45000 [==============================] - 102s - loss: 2.3001 - acc: 0.1104 - val_loss: 2.3029 - val_acc: 0.0976\n",
      "Epoch 42/100\n",
      "45000/45000 [==============================] - 102s - loss: 2.3002 - acc: 0.1138 - val_loss: 2.3030 - val_acc: 0.0958\n",
      "Epoch 43/100\n",
      "45000/45000 [==============================] - 102s - loss: 2.3000 - acc: 0.1093 - val_loss: 2.3030 - val_acc: 0.0936\n",
      "Epoch 44/100\n",
      "45000/45000 [==============================] - 102s - loss: 2.3001 - acc: 0.1108 - val_loss: 2.3030 - val_acc: 0.0974\n",
      "Epoch 45/100\n",
      "45000/45000 [==============================] - 102s - loss: 2.2997 - acc: 0.1137 - val_loss: 2.3031 - val_acc: 0.0952\n",
      "Epoch 46/100\n",
      "45000/45000 [==============================] - 102s - loss: 2.2994 - acc: 0.1130 - val_loss: 2.3032 - val_acc: 0.0964\n",
      "Epoch 47/100\n",
      "45000/45000 [==============================] - 102s - loss: 2.2992 - acc: 0.1128 - val_loss: 2.3032 - val_acc: 0.0926\n",
      "Epoch 48/100\n",
      "45000/45000 [==============================] - 102s - loss: 2.2994 - acc: 0.1155 - val_loss: 2.3033 - val_acc: 0.0984\n",
      "Epoch 49/100\n",
      "45000/45000 [==============================] - 102s - loss: 2.2992 - acc: 0.1165 - val_loss: 2.3033 - val_acc: 0.0972\n",
      "Epoch 50/100\n",
      "45000/45000 [==============================] - 102s - loss: 2.2991 - acc: 0.1146 - val_loss: 2.3033 - val_acc: 0.0960\n",
      "Epoch 51/100\n",
      "45000/45000 [==============================] - 102s - loss: 2.2988 - acc: 0.1154 - val_loss: 2.3033 - val_acc: 0.0970\n",
      "Epoch 52/100\n",
      "45000/45000 [==============================] - 102s - loss: 2.2990 - acc: 0.1140 - val_loss: 2.3035 - val_acc: 0.0960\n",
      "Epoch 53/100\n",
      "45000/45000 [==============================] - 102s - loss: 2.2986 - acc: 0.1146 - val_loss: 2.3034 - val_acc: 0.0988\n",
      "Epoch 54/100\n",
      "45000/45000 [==============================] - 102s - loss: 2.2989 - acc: 0.1142 - val_loss: 2.3035 - val_acc: 0.0960\n",
      "Epoch 55/100\n",
      "45000/45000 [==============================] - 102s - loss: 2.2987 - acc: 0.1157 - val_loss: 2.3035 - val_acc: 0.0968\n",
      "Epoch 56/100\n",
      "45000/45000 [==============================] - 102s - loss: 2.2983 - acc: 0.1159 - val_loss: 2.3036 - val_acc: 0.0974\n",
      "Epoch 57/100\n",
      "45000/45000 [==============================] - 102s - loss: 2.2978 - acc: 0.1188 - val_loss: 2.3037 - val_acc: 0.0958\n",
      "Epoch 58/100\n",
      "45000/45000 [==============================] - 102s - loss: 2.2982 - acc: 0.1159 - val_loss: 2.3037 - val_acc: 0.0970\n",
      "Epoch 59/100\n",
      "45000/45000 [==============================] - 102s - loss: 2.2975 - acc: 0.1170 - val_loss: 2.3038 - val_acc: 0.0970\n",
      "Epoch 60/100\n",
      "45000/45000 [==============================] - 102s - loss: 2.2978 - acc: 0.1186 - val_loss: 2.3038 - val_acc: 0.0964\n",
      "Epoch 61/100\n",
      "45000/45000 [==============================] - 102s - loss: 2.2974 - acc: 0.1187 - val_loss: 2.3039 - val_acc: 0.0986\n",
      "Epoch 62/100\n",
      "45000/45000 [==============================] - 102s - loss: 2.2970 - acc: 0.1182 - val_loss: 2.3040 - val_acc: 0.0978\n",
      "Epoch 63/100\n",
      "45000/45000 [==============================] - 102s - loss: 2.2973 - acc: 0.1155 - val_loss: 2.3042 - val_acc: 0.1016\n",
      "Epoch 64/100\n",
      "45000/45000 [==============================] - 102s - loss: 2.2964 - acc: 0.1189 - val_loss: 2.3040 - val_acc: 0.0988\n",
      "Epoch 65/100\n",
      "45000/45000 [==============================] - 102s - loss: 2.2963 - acc: 0.1201 - val_loss: 2.3042 - val_acc: 0.0954\n",
      "Epoch 66/100\n",
      "45000/45000 [==============================] - 102s - loss: 2.2964 - acc: 0.1208 - val_loss: 2.3042 - val_acc: 0.0956\n",
      "Epoch 67/100\n",
      "45000/45000 [==============================] - 102s - loss: 2.2962 - acc: 0.1196 - val_loss: 2.3045 - val_acc: 0.0988\n",
      "Epoch 68/100\n",
      "45000/45000 [==============================] - 102s - loss: 2.2955 - acc: 0.1211 - val_loss: 2.3046 - val_acc: 0.0964\n",
      "Epoch 69/100\n",
      "45000/45000 [==============================] - 102s - loss: 2.2962 - acc: 0.1193 - val_loss: 2.3046 - val_acc: 0.0956\n",
      "Epoch 70/100\n",
      "45000/45000 [==============================] - 102s - loss: 2.2956 - acc: 0.1205 - val_loss: 2.3044 - val_acc: 0.0990\n",
      "Epoch 71/100\n",
      "45000/45000 [==============================] - 102s - loss: 2.2956 - acc: 0.1207 - val_loss: 2.3047 - val_acc: 0.0994\n",
      "Epoch 72/100\n",
      "45000/45000 [==============================] - 102s - loss: 2.2953 - acc: 0.1208 - val_loss: 2.3048 - val_acc: 0.0968\n",
      "Epoch 73/100\n",
      "45000/45000 [==============================] - 102s - loss: 2.2957 - acc: 0.1196 - val_loss: 2.3047 - val_acc: 0.0994\n",
      "Epoch 74/100\n",
      "45000/45000 [==============================] - 102s - loss: 2.2951 - acc: 0.1195 - val_loss: 2.3049 - val_acc: 0.0980\n",
      "Epoch 75/100\n",
      "45000/45000 [==============================] - 102s - loss: 2.2948 - acc: 0.1213 - val_loss: 2.3050 - val_acc: 0.0956\n",
      "Epoch 76/100\n",
      "45000/45000 [==============================] - 102s - loss: 2.2944 - acc: 0.1243 - val_loss: 2.3050 - val_acc: 0.0990\n",
      "Epoch 77/100\n",
      "45000/45000 [==============================] - 102s - loss: 2.2948 - acc: 0.1222 - val_loss: 2.3050 - val_acc: 0.0994\n",
      "Epoch 78/100\n",
      "45000/45000 [==============================] - 102s - loss: 2.2947 - acc: 0.1206 - val_loss: 2.3051 - val_acc: 0.1006\n",
      "Epoch 79/100\n",
      "45000/45000 [==============================] - 102s - loss: 2.2944 - acc: 0.1208 - val_loss: 2.3053 - val_acc: 0.0968\n",
      "Epoch 80/100\n",
      "45000/45000 [==============================] - 102s - loss: 2.2935 - acc: 0.1227 - val_loss: 2.3053 - val_acc: 0.0954\n",
      "Epoch 81/100\n",
      "45000/45000 [==============================] - 102s - loss: 2.2939 - acc: 0.1224 - val_loss: 2.3052 - val_acc: 0.1010\n",
      "Epoch 82/100\n",
      "45000/45000 [==============================] - 102s - loss: 2.2938 - acc: 0.1243 - val_loss: 2.3053 - val_acc: 0.0996\n",
      "Epoch 83/100\n",
      "45000/45000 [==============================] - 102s - loss: 2.2940 - acc: 0.1213 - val_loss: 2.3055 - val_acc: 0.0988\n",
      "Epoch 84/100\n",
      "45000/45000 [==============================] - 102s - loss: 2.2932 - acc: 0.1245 - val_loss: 2.3056 - val_acc: 0.0992\n",
      "Epoch 85/100\n",
      "45000/45000 [==============================] - 102s - loss: 2.2928 - acc: 0.1235 - val_loss: 2.3052 - val_acc: 0.0994\n",
      "Epoch 86/100\n",
      "45000/45000 [==============================] - 102s - loss: 2.2925 - acc: 0.1264 - val_loss: 2.3055 - val_acc: 0.0982\n",
      "Epoch 87/100\n",
      "45000/45000 [==============================] - 102s - loss: 2.2928 - acc: 0.1250 - val_loss: 2.3060 - val_acc: 0.1024\n",
      "Epoch 88/100\n",
      "45000/45000 [==============================] - 102s - loss: 2.2925 - acc: 0.1270 - val_loss: 2.3059 - val_acc: 0.0992\n",
      "Epoch 89/100\n",
      "45000/45000 [==============================] - 102s - loss: 2.2928 - acc: 0.1247 - val_loss: 2.3057 - val_acc: 0.0990\n",
      "Epoch 90/100\n",
      "45000/45000 [==============================] - 102s - loss: 2.2921 - acc: 0.1257 - val_loss: 2.3058 - val_acc: 0.1004\n",
      "Epoch 91/100\n",
      "45000/45000 [==============================] - 102s - loss: 2.2922 - acc: 0.1275 - val_loss: 2.3061 - val_acc: 0.0982\n",
      "Epoch 92/100\n",
      "45000/45000 [==============================] - 102s - loss: 2.2914 - acc: 0.1273 - val_loss: 2.3061 - val_acc: 0.1016\n",
      "Epoch 93/100\n",
      "45000/45000 [==============================] - 102s - loss: 2.2911 - acc: 0.1288 - val_loss: 2.3064 - val_acc: 0.1018\n",
      "Epoch 94/100\n",
      "45000/45000 [==============================] - 102s - loss: 2.2917 - acc: 0.1277 - val_loss: 2.3064 - val_acc: 0.0974\n",
      "Epoch 95/100\n",
      "45000/45000 [==============================] - 102s - loss: 2.2908 - acc: 0.1275 - val_loss: 2.3064 - val_acc: 0.1008\n",
      "Epoch 96/100\n",
      "45000/45000 [==============================] - 102s - loss: 2.2909 - acc: 0.1273 - val_loss: 2.3065 - val_acc: 0.1018\n",
      "Epoch 97/100\n",
      "45000/45000 [==============================] - 102s - loss: 2.2904 - acc: 0.1298 - val_loss: 2.3070 - val_acc: 0.1012\n",
      "Epoch 98/100\n",
      "45000/45000 [==============================] - 102s - loss: 2.2914 - acc: 0.1265 - val_loss: 2.3064 - val_acc: 0.1028\n",
      "Epoch 99/100\n",
      "45000/45000 [==============================] - 102s - loss: 2.2903 - acc: 0.1291 - val_loss: 2.3065 - val_acc: 0.1030\n",
      "Epoch 100/100\n",
      "45000/45000 [==============================] - 102s - loss: 2.2901 - acc: 0.1289 - val_loss: 2.3067 - val_acc: 0.1018\n"
     ]
    }
   ],
   "source": [
    "history=model.fit(s_train, label_train,\n",
    "                nb_epoch=100,\n",
    "                batch_size=128,\n",
    "                shuffle=True,\n",
    "                validation_data=(s_valid, label_valid))"
   ]
  },
  {
   "cell_type": "markdown",
   "metadata": {},
   "source": [
    "print (history.history)"
   ]
  },
  {
   "cell_type": "code",
   "execution_count": 24,
   "metadata": {
    "collapsed": false
   },
   "outputs": [
    {
     "name": "stdout",
     "output_type": "stream",
     "text": [
      "0.129777777786\n"
     ]
    },
    {
     "data": {
      "image/png": "[encoded data removed]",
      "text/plain": [
       "<matplotlib.figure.Figure at 0x7f9b42a6e6d8>"
      ]
     },
     "metadata": {},
     "output_type": "display_data"
    }
   ],
   "source": [
    "\n",
    "plt.plot(history.history['acc'])\n",
    "print(max(history.history['acc']))"
   ]
  },
  {
   "cell_type": "code",
   "execution_count": 25,
   "metadata": {
    "collapsed": false
   },
   "outputs": [
    {
     "data": {
      "text/plain": [
       "[<matplotlib.lines.Line2D at 0x7f9b37d310b8>]"
      ]
     },
     "execution_count": 25,
     "metadata": {},
     "output_type": "execute_result"
    },
    {
     "data": {
      "image/png": "[encoded data removed]",
      "text/plain": [
       "<matplotlib.figure.Figure at 0x7f9b37f5aa58>"
      ]
     },
     "metadata": {},
     "output_type": "display_data"
    }
   ],
   "source": [
    "plt.plot(history.history['loss'])\n"
   ]
  },
  {
   "cell_type": "code",
   "execution_count": 26,
   "metadata": {
    "collapsed": false
   },
   "outputs": [
    {
     "data": {
      "text/plain": [
       "[<matplotlib.lines.Line2D at 0x7f9b434a8198>]"
      ]
     },
     "execution_count": 26,
     "metadata": {},
     "output_type": "execute_result"
    },
    {
     "data": {
      "image/png": "[encoded data removed]",
      "text/plain": [
       "<matplotlib.figure.Figure at 0x7f9b43573128>"
      ]
     },
     "metadata": {},
     "output_type": "display_data"
    }
   ],
   "source": [
    "plt.plot(history.history['val_loss'])\n"
   ]
  },
  {
   "cell_type": "code",
   "execution_count": 27,
   "metadata": {
    "collapsed": false
   },
   "outputs": [
    {
     "name": "stdout",
     "output_type": "stream",
     "text": [
      "0.104\n"
     ]
    },
    {
     "data": {
      "image/png": "[encoded data removed]",
      "text/plain": [
       "<matplotlib.figure.Figure at 0x7f9b434d1e10>"
      ]
     },
     "metadata": {},
     "output_type": "display_data"
    }
   ],
   "source": [
    "plt.plot(history.history['val_acc'])\n",
    "print(max(history.history['val_acc']))"
   ]
  },
  {
   "cell_type": "code",
   "execution_count": 28,
   "metadata": {
    "collapsed": false,
    "scrolled": true
   },
   "outputs": [
    {
     "ename": "MemoryError",
     "evalue": "error freeing device pointer 0x503f50000 (an illegal instruction was encountered)\nApply node that caused the error: GpuReshape{4}(convolution2d_13_b, TensorConstant{[ 1 32  1  1]})\nToposort index: 12\nInputs types: [CudaNdarrayType(float32, vector), TensorType(int64, vector)]\nInputs shapes: [(32,), (4,)]\nInputs strides: [(1,), (8,)]\nInputs values: ['not shown', array([ 1, 32,  1,  1])]\nOutputs clients: [[GpuElemwise{Composite{(i0 * ((i1 + i2) + Abs((i1 + i2))))}}[(0, 1)](CudaNdarrayConstant{error while transferring the value: error (an illegal instruction was encountered)copying data to host}, GpuCorrMM{half, (1, 1)}.0, GpuReshape{4}.0)]]\n\nHINT: Re-running with most Theano optimization disabled could give you a back-trace of when this node was created. This can be done with by setting the Theano flag 'optimizer=fast_compile'. If that does not work, Theano optimizations can be disabled with 'optimizer=None'.\nHINT: Use the Theano flag 'exception_verbosity=high' for a debugprint and storage map footprint of this apply node.",
     "output_type": "error",
     "traceback": [
      "\u001b[1;31m---------------------------------------------------------------------------\u001b[0m",
      "\u001b[1;31mMemoryError\u001b[0m                               Traceback (most recent call last)",
      "\u001b[1;32m/home/mrafi123/anaconda3/lib/python3.5/site-packages/theano/compile/function_module.py\u001b[0m in \u001b[0;36m__call__\u001b[1;34m(self, *args, **kwargs)\u001b[0m\n\u001b[0;32m    858\u001b[0m         \u001b[1;32mtry\u001b[0m\u001b[1;33m:\u001b[0m\u001b[1;33m\u001b[0m\u001b[0m\n\u001b[1;32m--> 859\u001b[1;33m             \u001b[0moutputs\u001b[0m \u001b[1;33m=\u001b[0m \u001b[0mself\u001b[0m\u001b[1;33m.\u001b[0m\u001b[0mfn\u001b[0m\u001b[1;33m(\u001b[0m\u001b[1;33m)\u001b[0m\u001b[1;33m\u001b[0m\u001b[0m\n\u001b[0m\u001b[0;32m    860\u001b[0m         \u001b[1;32mexcept\u001b[0m \u001b[0mException\u001b[0m\u001b[1;33m:\u001b[0m\u001b[1;33m\u001b[0m\u001b[0m\n",
      "\u001b[1;31mMemoryError\u001b[0m: error freeing device pointer 0x503f50000 (an illegal instruction was encountered)",
      "\nDuring handling of the above exception, another exception occurred:\n",
      "\u001b[1;31mMemoryError\u001b[0m                               Traceback (most recent call last)",
      "\u001b[1;32m<ipython-input-28-2367437ec53a>\u001b[0m in \u001b[0;36m<module>\u001b[1;34m()\u001b[0m\n\u001b[1;32m----> 1\u001b[1;33m \u001b[0mtest_acc\u001b[0m \u001b[1;33m=\u001b[0m \u001b[0mmodel\u001b[0m\u001b[1;33m.\u001b[0m\u001b[0mpredict_classes\u001b[0m\u001b[1;33m(\u001b[0m\u001b[0mx_test\u001b[0m\u001b[1;33m)\u001b[0m\u001b[1;33m\u001b[0m\u001b[0m\n\u001b[0m\u001b[0;32m      2\u001b[0m \u001b[0mprint\u001b[0m \u001b[1;33m(\u001b[0m\u001b[1;34m'Test accuracy: '\u001b[0m\u001b[1;33m,\u001b[0m \u001b[0mtest_acc\u001b[0m\u001b[1;33m)\u001b[0m\u001b[1;33m\u001b[0m\u001b[0m\n\u001b[0;32m      3\u001b[0m \u001b[0mprint\u001b[0m \u001b[1;33m(\u001b[0m\u001b[0mtest_acc\u001b[0m\u001b[1;33m.\u001b[0m\u001b[0mshape\u001b[0m\u001b[1;33m)\u001b[0m\u001b[1;33m\u001b[0m\u001b[0m\n\u001b[0;32m      4\u001b[0m \u001b[1;31m# round predictions\u001b[0m\u001b[1;33m\u001b[0m\u001b[1;33m\u001b[0m\u001b[0m\n\u001b[0;32m      5\u001b[0m \u001b[1;31m#rounded = [round(x) for x in test_acc]\u001b[0m\u001b[1;33m\u001b[0m\u001b[1;33m\u001b[0m\u001b[0m\n",
      "\u001b[1;32m/home/mrafi123/anaconda3/lib/python3.5/site-packages/keras/models.py\u001b[0m in \u001b[0;36mpredict_classes\u001b[1;34m(self, x, batch_size, verbose)\u001b[0m\n\u001b[0;32m    565\u001b[0m             \u001b[0mA\u001b[0m \u001b[0mnumpy\u001b[0m \u001b[0marray\u001b[0m \u001b[0mof\u001b[0m \u001b[1;32mclass\u001b[0m \u001b[0mpredictions\u001b[0m\u001b[1;33m.\u001b[0m\u001b[1;33m\u001b[0m\u001b[0m\n\u001b[0;32m    566\u001b[0m         '''\n\u001b[1;32m--> 567\u001b[1;33m         \u001b[0mproba\u001b[0m \u001b[1;33m=\u001b[0m \u001b[0mself\u001b[0m\u001b[1;33m.\u001b[0m\u001b[0mpredict\u001b[0m\u001b[1;33m(\u001b[0m\u001b[0mx\u001b[0m\u001b[1;33m,\u001b[0m \u001b[0mbatch_size\u001b[0m\u001b[1;33m=\u001b[0m\u001b[0mbatch_size\u001b[0m\u001b[1;33m,\u001b[0m \u001b[0mverbose\u001b[0m\u001b[1;33m=\u001b[0m\u001b[0mverbose\u001b[0m\u001b[1;33m)\u001b[0m\u001b[1;33m\u001b[0m\u001b[0m\n\u001b[0m\u001b[0;32m    568\u001b[0m         \u001b[1;32mif\u001b[0m \u001b[0mproba\u001b[0m\u001b[1;33m.\u001b[0m\u001b[0mshape\u001b[0m\u001b[1;33m[\u001b[0m\u001b[1;33m-\u001b[0m\u001b[1;36m1\u001b[0m\u001b[1;33m]\u001b[0m \u001b[1;33m>\u001b[0m \u001b[1;36m1\u001b[0m\u001b[1;33m:\u001b[0m\u001b[1;33m\u001b[0m\u001b[0m\n\u001b[0;32m    569\u001b[0m             \u001b[1;32mreturn\u001b[0m \u001b[0mproba\u001b[0m\u001b[1;33m.\u001b[0m\u001b[0margmax\u001b[0m\u001b[1;33m(\u001b[0m\u001b[0maxis\u001b[0m\u001b[1;33m=\u001b[0m\u001b[1;33m-\u001b[0m\u001b[1;36m1\u001b[0m\u001b[1;33m)\u001b[0m\u001b[1;33m\u001b[0m\u001b[0m\n",
      "\u001b[1;32m/home/mrafi123/anaconda3/lib/python3.5/site-packages/keras/models.py\u001b[0m in \u001b[0;36mpredict\u001b[1;34m(self, x, batch_size, verbose)\u001b[0m\n\u001b[0;32m    457\u001b[0m         \u001b[1;32mif\u001b[0m \u001b[0mself\u001b[0m\u001b[1;33m.\u001b[0m\u001b[0mmodel\u001b[0m \u001b[1;32mis\u001b[0m \u001b[1;32mNone\u001b[0m\u001b[1;33m:\u001b[0m\u001b[1;33m\u001b[0m\u001b[0m\n\u001b[0;32m    458\u001b[0m             \u001b[0mself\u001b[0m\u001b[1;33m.\u001b[0m\u001b[0mbuild\u001b[0m\u001b[1;33m(\u001b[0m\u001b[1;33m)\u001b[0m\u001b[1;33m\u001b[0m\u001b[0m\n\u001b[1;32m--> 459\u001b[1;33m         \u001b[1;32mreturn\u001b[0m \u001b[0mself\u001b[0m\u001b[1;33m.\u001b[0m\u001b[0mmodel\u001b[0m\u001b[1;33m.\u001b[0m\u001b[0mpredict\u001b[0m\u001b[1;33m(\u001b[0m\u001b[0mx\u001b[0m\u001b[1;33m,\u001b[0m \u001b[0mbatch_size\u001b[0m\u001b[1;33m=\u001b[0m\u001b[0mbatch_size\u001b[0m\u001b[1;33m,\u001b[0m \u001b[0mverbose\u001b[0m\u001b[1;33m=\u001b[0m\u001b[0mverbose\u001b[0m\u001b[1;33m)\u001b[0m\u001b[1;33m\u001b[0m\u001b[0m\n\u001b[0m\u001b[0;32m    460\u001b[0m \u001b[1;33m\u001b[0m\u001b[0m\n\u001b[0;32m    461\u001b[0m     \u001b[1;32mdef\u001b[0m \u001b[0mpredict_on_batch\u001b[0m\u001b[1;33m(\u001b[0m\u001b[0mself\u001b[0m\u001b[1;33m,\u001b[0m \u001b[0mx\u001b[0m\u001b[1;33m)\u001b[0m\u001b[1;33m:\u001b[0m\u001b[1;33m\u001b[0m\u001b[0m\n",
      "\u001b[1;32m/home/mrafi123/anaconda3/lib/python3.5/site-packages/keras/engine/training.py\u001b[0m in \u001b[0;36mpredict\u001b[1;34m(self, x, batch_size, verbose)\u001b[0m\n\u001b[0;32m   1124\u001b[0m         \u001b[0mf\u001b[0m \u001b[1;33m=\u001b[0m \u001b[0mself\u001b[0m\u001b[1;33m.\u001b[0m\u001b[0mpredict_function\u001b[0m\u001b[1;33m\u001b[0m\u001b[0m\n\u001b[0;32m   1125\u001b[0m         return self._predict_loop(f, ins,\n\u001b[1;32m-> 1126\u001b[1;33m                                   batch_size=batch_size, verbose=verbose)\n\u001b[0m\u001b[0;32m   1127\u001b[0m \u001b[1;33m\u001b[0m\u001b[0m\n\u001b[0;32m   1128\u001b[0m     def train_on_batch(self, x, y,\n",
      "\u001b[1;32m/home/mrafi123/anaconda3/lib/python3.5/site-packages/keras/engine/training.py\u001b[0m in \u001b[0;36m_predict_loop\u001b[1;34m(self, f, ins, batch_size, verbose)\u001b[0m\n\u001b[0;32m    844\u001b[0m                 \u001b[0mins_batch\u001b[0m \u001b[1;33m=\u001b[0m \u001b[0mslice_X\u001b[0m\u001b[1;33m(\u001b[0m\u001b[0mins\u001b[0m\u001b[1;33m,\u001b[0m \u001b[0mbatch_ids\u001b[0m\u001b[1;33m)\u001b[0m\u001b[1;33m\u001b[0m\u001b[0m\n\u001b[0;32m    845\u001b[0m \u001b[1;33m\u001b[0m\u001b[0m\n\u001b[1;32m--> 846\u001b[1;33m             \u001b[0mbatch_outs\u001b[0m \u001b[1;33m=\u001b[0m \u001b[0mf\u001b[0m\u001b[1;33m(\u001b[0m\u001b[0mins_batch\u001b[0m\u001b[1;33m)\u001b[0m\u001b[1;33m\u001b[0m\u001b[0m\n\u001b[0m\u001b[0;32m    847\u001b[0m             \u001b[1;32mif\u001b[0m \u001b[0mtype\u001b[0m\u001b[1;33m(\u001b[0m\u001b[0mbatch_outs\u001b[0m\u001b[1;33m)\u001b[0m \u001b[1;33m!=\u001b[0m \u001b[0mlist\u001b[0m\u001b[1;33m:\u001b[0m\u001b[1;33m\u001b[0m\u001b[0m\n\u001b[0;32m    848\u001b[0m                 \u001b[0mbatch_outs\u001b[0m \u001b[1;33m=\u001b[0m \u001b[1;33m[\u001b[0m\u001b[0mbatch_outs\u001b[0m\u001b[1;33m]\u001b[0m\u001b[1;33m\u001b[0m\u001b[0m\n",
      "\u001b[1;32m/home/mrafi123/anaconda3/lib/python3.5/site-packages/keras/backend/theano_backend.py\u001b[0m in \u001b[0;36m__call__\u001b[1;34m(self, inputs)\u001b[0m\n\u001b[0;32m    516\u001b[0m     \u001b[1;32mdef\u001b[0m \u001b[0m__call__\u001b[0m\u001b[1;33m(\u001b[0m\u001b[0mself\u001b[0m\u001b[1;33m,\u001b[0m \u001b[0minputs\u001b[0m\u001b[1;33m)\u001b[0m\u001b[1;33m:\u001b[0m\u001b[1;33m\u001b[0m\u001b[0m\n\u001b[0;32m    517\u001b[0m         \u001b[1;32massert\u001b[0m \u001b[0mtype\u001b[0m\u001b[1;33m(\u001b[0m\u001b[0minputs\u001b[0m\u001b[1;33m)\u001b[0m \u001b[1;32min\u001b[0m \u001b[1;33m{\u001b[0m\u001b[0mlist\u001b[0m\u001b[1;33m,\u001b[0m \u001b[0mtuple\u001b[0m\u001b[1;33m}\u001b[0m\u001b[1;33m\u001b[0m\u001b[0m\n\u001b[1;32m--> 518\u001b[1;33m         \u001b[1;32mreturn\u001b[0m \u001b[0mself\u001b[0m\u001b[1;33m.\u001b[0m\u001b[0mfunction\u001b[0m\u001b[1;33m(\u001b[0m\u001b[1;33m*\u001b[0m\u001b[0minputs\u001b[0m\u001b[1;33m)\u001b[0m\u001b[1;33m\u001b[0m\u001b[0m\n\u001b[0m\u001b[0;32m    519\u001b[0m \u001b[1;33m\u001b[0m\u001b[0m\n\u001b[0;32m    520\u001b[0m \u001b[1;33m\u001b[0m\u001b[0m\n",
      "\u001b[1;32m/home/mrafi123/anaconda3/lib/python3.5/site-packages/theano/compile/function_module.py\u001b[0m in \u001b[0;36m__call__\u001b[1;34m(self, *args, **kwargs)\u001b[0m\n\u001b[0;32m    869\u001b[0m                     \u001b[0mnode\u001b[0m\u001b[1;33m=\u001b[0m\u001b[0mself\u001b[0m\u001b[1;33m.\u001b[0m\u001b[0mfn\u001b[0m\u001b[1;33m.\u001b[0m\u001b[0mnodes\u001b[0m\u001b[1;33m[\u001b[0m\u001b[0mself\u001b[0m\u001b[1;33m.\u001b[0m\u001b[0mfn\u001b[0m\u001b[1;33m.\u001b[0m\u001b[0mposition_of_error\u001b[0m\u001b[1;33m]\u001b[0m\u001b[1;33m,\u001b[0m\u001b[1;33m\u001b[0m\u001b[0m\n\u001b[0;32m    870\u001b[0m                     \u001b[0mthunk\u001b[0m\u001b[1;33m=\u001b[0m\u001b[0mthunk\u001b[0m\u001b[1;33m,\u001b[0m\u001b[1;33m\u001b[0m\u001b[0m\n\u001b[1;32m--> 871\u001b[1;33m                     storage_map=getattr(self.fn, 'storage_map', None))\n\u001b[0m\u001b[0;32m    872\u001b[0m             \u001b[1;32melse\u001b[0m\u001b[1;33m:\u001b[0m\u001b[1;33m\u001b[0m\u001b[0m\n\u001b[0;32m    873\u001b[0m                 \u001b[1;31m# old-style linkers raise their own exceptions\u001b[0m\u001b[1;33m\u001b[0m\u001b[1;33m\u001b[0m\u001b[0m\n",
      "\u001b[1;32m/home/mrafi123/anaconda3/lib/python3.5/site-packages/theano/gof/link.py\u001b[0m in \u001b[0;36mraise_with_op\u001b[1;34m(node, thunk, exc_info, storage_map)\u001b[0m\n\u001b[0;32m    312\u001b[0m         \u001b[1;31m# extra long error message in that case.\u001b[0m\u001b[1;33m\u001b[0m\u001b[1;33m\u001b[0m\u001b[0m\n\u001b[0;32m    313\u001b[0m         \u001b[1;32mpass\u001b[0m\u001b[1;33m\u001b[0m\u001b[0m\n\u001b[1;32m--> 314\u001b[1;33m     \u001b[0mreraise\u001b[0m\u001b[1;33m(\u001b[0m\u001b[0mexc_type\u001b[0m\u001b[1;33m,\u001b[0m \u001b[0mexc_value\u001b[0m\u001b[1;33m,\u001b[0m \u001b[0mexc_trace\u001b[0m\u001b[1;33m)\u001b[0m\u001b[1;33m\u001b[0m\u001b[0m\n\u001b[0m\u001b[0;32m    315\u001b[0m \u001b[1;33m\u001b[0m\u001b[0m\n\u001b[0;32m    316\u001b[0m \u001b[1;33m\u001b[0m\u001b[0m\n",
      "\u001b[1;32m/home/mrafi123/anaconda3/lib/python3.5/site-packages/six.py\u001b[0m in \u001b[0;36mreraise\u001b[1;34m(tp, value, tb)\u001b[0m\n\u001b[0;32m    683\u001b[0m             \u001b[0mvalue\u001b[0m \u001b[1;33m=\u001b[0m \u001b[0mtp\u001b[0m\u001b[1;33m(\u001b[0m\u001b[1;33m)\u001b[0m\u001b[1;33m\u001b[0m\u001b[0m\n\u001b[0;32m    684\u001b[0m         \u001b[1;32mif\u001b[0m \u001b[0mvalue\u001b[0m\u001b[1;33m.\u001b[0m\u001b[0m__traceback__\u001b[0m \u001b[1;32mis\u001b[0m \u001b[1;32mnot\u001b[0m \u001b[0mtb\u001b[0m\u001b[1;33m:\u001b[0m\u001b[1;33m\u001b[0m\u001b[0m\n\u001b[1;32m--> 685\u001b[1;33m             \u001b[1;32mraise\u001b[0m \u001b[0mvalue\u001b[0m\u001b[1;33m.\u001b[0m\u001b[0mwith_traceback\u001b[0m\u001b[1;33m(\u001b[0m\u001b[0mtb\u001b[0m\u001b[1;33m)\u001b[0m\u001b[1;33m\u001b[0m\u001b[0m\n\u001b[0m\u001b[0;32m    686\u001b[0m         \u001b[1;32mraise\u001b[0m \u001b[0mvalue\u001b[0m\u001b[1;33m\u001b[0m\u001b[0m\n\u001b[0;32m    687\u001b[0m \u001b[1;33m\u001b[0m\u001b[0m\n",
      "\u001b[1;32m/home/mrafi123/anaconda3/lib/python3.5/site-packages/theano/compile/function_module.py\u001b[0m in \u001b[0;36m__call__\u001b[1;34m(self, *args, **kwargs)\u001b[0m\n\u001b[0;32m    857\u001b[0m         \u001b[0mt0_fn\u001b[0m \u001b[1;33m=\u001b[0m \u001b[0mtime\u001b[0m\u001b[1;33m.\u001b[0m\u001b[0mtime\u001b[0m\u001b[1;33m(\u001b[0m\u001b[1;33m)\u001b[0m\u001b[1;33m\u001b[0m\u001b[0m\n\u001b[0;32m    858\u001b[0m         \u001b[1;32mtry\u001b[0m\u001b[1;33m:\u001b[0m\u001b[1;33m\u001b[0m\u001b[0m\n\u001b[1;32m--> 859\u001b[1;33m             \u001b[0moutputs\u001b[0m \u001b[1;33m=\u001b[0m \u001b[0mself\u001b[0m\u001b[1;33m.\u001b[0m\u001b[0mfn\u001b[0m\u001b[1;33m(\u001b[0m\u001b[1;33m)\u001b[0m\u001b[1;33m\u001b[0m\u001b[0m\n\u001b[0m\u001b[0;32m    860\u001b[0m         \u001b[1;32mexcept\u001b[0m \u001b[0mException\u001b[0m\u001b[1;33m:\u001b[0m\u001b[1;33m\u001b[0m\u001b[0m\n\u001b[0;32m    861\u001b[0m             \u001b[1;32mif\u001b[0m \u001b[0mhasattr\u001b[0m\u001b[1;33m(\u001b[0m\u001b[0mself\u001b[0m\u001b[1;33m.\u001b[0m\u001b[0mfn\u001b[0m\u001b[1;33m,\u001b[0m \u001b[1;34m'position_of_error'\u001b[0m\u001b[1;33m)\u001b[0m\u001b[1;33m:\u001b[0m\u001b[1;33m\u001b[0m\u001b[0m\n",
      "\u001b[1;31mMemoryError\u001b[0m: error freeing device pointer 0x503f50000 (an illegal instruction was encountered)\nApply node that caused the error: GpuReshape{4}(convolution2d_13_b, TensorConstant{[ 1 32  1  1]})\nToposort index: 12\nInputs types: [CudaNdarrayType(float32, vector), TensorType(int64, vector)]\nInputs shapes: [(32,), (4,)]\nInputs strides: [(1,), (8,)]\nInputs values: ['not shown', array([ 1, 32,  1,  1])]\nOutputs clients: [[GpuElemwise{Composite{(i0 * ((i1 + i2) + Abs((i1 + i2))))}}[(0, 1)](CudaNdarrayConstant{error while transferring the value: error (an illegal instruction was encountered)copying data to host}, GpuCorrMM{half, (1, 1)}.0, GpuReshape{4}.0)]]\n\nHINT: Re-running with most Theano optimization disabled could give you a back-trace of when this node was created. This can be done with by setting the Theano flag 'optimizer=fast_compile'. If that does not work, Theano optimizations can be disabled with 'optimizer=None'.\nHINT: Use the Theano flag 'exception_verbosity=high' for a debugprint and storage map footprint of this apply node."
     ]
    }
   ],
   "source": [
    "test_acc = model.predict_classes(x_test) \n",
    "print ('Test accuracy: ', test_acc)\n",
    "print (test_acc.shape)\n",
    "# round predictions\n",
    "#rounded = [round(x) for x in test_acc]\n",
    "#rounded = np.round(test_acc)\n",
    "#print(rounded[1])"
   ]
  },
  {
   "cell_type": "code",
   "execution_count": null,
   "metadata": {
    "collapsed": false
   },
   "outputs": [],
   "source": []
  },
  {
   "cell_type": "code",
   "execution_count": 16,
   "metadata": {
    "collapsed": false
   },
   "outputs": [
    {
     "name": "stdout",
     "output_type": "stream",
     "text": [
      "(10000,)\n",
      "(10000,)\n"
     ]
    }
   ],
   "source": [
    "print (y_test.shape)\n",
    "#y_test=to_categorical(y_test)\n",
    "print (y_test.shape)"
   ]
  },
  {
   "cell_type": "code",
   "execution_count": 17,
   "metadata": {
    "collapsed": false
   },
   "outputs": [
    {
     "name": "stdout",
     "output_type": "stream",
     "text": [
      "tested  10000 digits\n",
      "correct:  1029 wrong:  8971 error rate:  89.71 %\n",
      "got correctly  10.29 %\n"
     ]
    }
   ],
   "source": [
    "num=len(x_test)\n",
    "r=0\n",
    "w=0\n",
    "for i in range(num):\n",
    "        #print ('y_pred ',test_acc[i])\n",
    "        #print ('labels ',y_test[i])\n",
    "        #without the use of all() returns error truth value of an array with more than one element is ambiguous\n",
    "        #if y_pred[i].all() == labels[i].all():\n",
    "        if np.array_equal(test_acc[i],y_test[i]):\n",
    "            r+=1\n",
    "        else:\n",
    "            w+=1\n",
    "print (\"tested \",  num, \"digits\")\n",
    "print (\"correct: \", r, \"wrong: \", w, \"error rate: \", float(w)*100/(r+w), \"%\")\n",
    "print (\"got correctly \", float(r)*100/(r+w), \"%\")\n"
   ]
  },
  {
   "cell_type": "code",
   "execution_count": null,
   "metadata": {
    "collapsed": true
   },
   "outputs": [],
   "source": []
  }
 ],
 "metadata": {
  "kernelspec": {
   "display_name": "Python 3",
   "language": "python",
   "name": "python3"
  },
  "language_info": {
   "codemirror_mode": {
    "name": "ipython",
    "version": 3
   },
   "file_extension": ".py",
   "mimetype": "text/x-python",
   "name": "python",
   "nbconvert_exporter": "python",
   "pygments_lexer": "ipython3",
   "version": "3.5.2"
  }
 },
 "nbformat": 4,
 "nbformat_minor": 0
}
