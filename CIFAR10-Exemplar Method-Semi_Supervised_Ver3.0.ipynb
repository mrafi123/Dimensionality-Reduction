{
 "cells": [
  {
   "cell_type": "code",
   "execution_count": 1,
   "metadata": {
    "collapsed": false
   },
   "outputs": [
    {
     "name": "stderr",
     "output_type": "stream",
     "text": [
      "Using Theano backend.\n"
     ]
    },
    {
     "name": "stdout",
     "output_type": "stream",
     "text": [
      "Couldn't import dot_parser, loading of dot files will not be possible.\n"
     ]
    },
    {
     "name": "stderr",
     "output_type": "stream",
     "text": [
      "/home/mrafi123/anaconda3/lib/python3.5/site-packages/theano/gpuarray/dnn.py:135: UserWarning: Your cuDNN version is more recent than Theano. If you encounter problems, try updating Theano or downgrading cuDNN to version 5.1.\n",
      "  warnings.warn(\"Your cuDNN version is more recent than \"\n",
      "Using cuDNN version 6021 on context None\n",
      "Mapped name None to device cuda: GeForce 920M (0000:08:00.0)\n"
     ]
    }
   ],
   "source": [
    "import os    \n",
    "#os.environ[\"THEANO_FLAGS\"] = \"mode=FAST_RUN,device=gpu0,floatX=float32\"\n",
    "os.environ[\"THEANO_FLAGS\"] = \"mode=FAST_RUN,device=cuda,floatX=float32\"\n",
    "\n",
    "import numpy as np\n",
    "from sklearn.utils import shuffle\n",
    "import matplotlib\n",
    "matplotlib.use('Agg')\n",
    "import matplotlib.pyplot as plt\n",
    "from PIL import Image\n",
    "import argparse\n",
    "import math\n",
    "\n",
    "from keras.models import Sequential, Model\n",
    "from keras.callbacks import ModelCheckpoint\n",
    "from keras.layers import Dense, Input\n",
    "from keras.layers import Dropout\n",
    "from keras.layers import Reshape\n",
    "from keras.layers.core import Activation\n",
    "from keras.layers.normalization import BatchNormalization\n",
    "from keras.layers.convolutional import UpSampling2D, UpSampling3D\n",
    "from keras.layers.convolutional import Convolution2D, MaxPooling2D, Deconvolution2D\n",
    "from keras.layers.advanced_activations import LeakyReLU\n",
    "from keras.callbacks import EarlyStopping\n",
    "from keras.callbacks import ReduceLROnPlateau\n",
    "\n",
    "from keras.layers.core import Flatten\n",
    "from keras.constraints import maxnorm\n",
    "\n",
    "import keras.regularizers\n",
    "\n",
    "from keras.optimizers import SGD, Adam\n",
    "from keras.datasets import cifar10\n",
    "from keras.utils import np_utils\n",
    "from keras.preprocessing.image import ImageDataGenerator\n",
    "\n",
    "\n",
    "img_rows = 32\n",
    "img_cols = 32\n"
   ]
  },
  {
   "cell_type": "code",
   "execution_count": 2,
   "metadata": {
    "collapsed": false
   },
   "outputs": [
    {
     "name": "stdout",
     "output_type": "stream",
     "text": [
      "[GpuElemwise{exp,no_inplace}(<GpuArrayType<None>(float32, (False,))>), HostFromGpu(gpuarray)(GpuElemwise{exp,no_inplace}.0)]\n",
      "Looping 1000 times took 0.918359 seconds\n",
      "Result is [ 1.23178029  1.61879349  1.52278066 ...,  2.20771813  2.29967761\n",
      "  1.62323296]\n",
      "Used the gpu\n"
     ]
    }
   ],
   "source": [
    "#test for gpu\n",
    "from theano import function, config, shared, tensor\n",
    "import numpy\n",
    "import time\n",
    "\n",
    "vlen = 10 * 30 * 768  # 10 x #cores x # threads per core\n",
    "iters = 1000\n",
    "\n",
    "rng = numpy.random.RandomState(22)\n",
    "x = shared(numpy.asarray(rng.rand(vlen), config.floatX))\n",
    "f = function([], tensor.exp(x))\n",
    "print(f.maker.fgraph.toposort())\n",
    "t0 = time.time()\n",
    "for i in range(iters):\n",
    "    r = f()\n",
    "t1 = time.time()\n",
    "print(\"Looping %d times took %f seconds\" % (iters, t1 - t0))\n",
    "print(\"Result is %s\" % (r,))\n",
    "if numpy.any([isinstance(x.op, tensor.Elemwise) and\n",
    "              ('Gpu' not in type(x.op).__name__)\n",
    "              for x in f.maker.fgraph.toposort()]):\n",
    "    print('Used the cpu')\n",
    "else:\n",
    "    print('Used the gpu')"
   ]
  },
  {
   "cell_type": "code",
   "execution_count": 3,
   "metadata": {
    "collapsed": false
   },
   "outputs": [],
   "source": [
    "import seaborn as sns\n",
    "\n",
    "sns.set(style='white', context='notebook', palette='deep')\n"
   ]
  },
  {
   "cell_type": "code",
   "execution_count": null,
   "metadata": {
    "collapsed": true
   },
   "outputs": [],
   "source": []
  },
  {
   "cell_type": "code",
   "execution_count": 4,
   "metadata": {
    "collapsed": false
   },
   "outputs": [
    {
     "name": "stdout",
     "output_type": "stream",
     "text": [
      "x_train shape: (50000, 3, 32, 32)\n",
      "50000 train samples\n",
      "10000 test samples\n"
     ]
    }
   ],
   "source": [
    "# The data, shuffled and split between train and test sets:\n",
    "(x_train, y_train), (x_test, y_test) = cifar10.load_data()\n",
    "print('x_train shape:', x_train.shape)\n",
    "print(x_train.shape[0], 'train samples')\n",
    "print(x_test.shape[0], 'test samples')\n",
    "\n"
   ]
  },
  {
   "cell_type": "code",
   "execution_count": 5,
   "metadata": {
    "collapsed": false
   },
   "outputs": [
    {
     "data": {
      "image/png": "[encoded data removed]",
      "text/plain": [
       "<matplotlib.figure.Figure at 0x7fdfde641438>"
      ]
     },
     "metadata": {},
     "output_type": "display_data"
    }
   ],
   "source": [
    "%matplotlib inline\n",
    "\n",
    "classes = ['airplane','automobile','bird','cat','deer','dog','frog','horse','ship','truck']\n",
    "g = sns.countplot(y_train[:,0])\n",
    "g.set_xticklabels(classes,rotation = 45)\n",
    "g = g.set_xlabel('Label')"
   ]
  },
  {
   "cell_type": "code",
   "execution_count": 6,
   "metadata": {
    "collapsed": true
   },
   "outputs": [],
   "source": [
    "# Normalize the data\n",
    "x_train = x_train / 255.0\n",
    "x_test = x_test / 255.0"
   ]
  },
  {
   "cell_type": "code",
   "execution_count": 7,
   "metadata": {
    "collapsed": false
   },
   "outputs": [],
   "source": [
    "# Encode labels to hot vectors (ex : 2 -> [0,0,1,0,0,0,0,0,0,0])\n",
    "y_train = np_utils.to_categorical(y_train, 10)\n",
    "y_test = np_utils.to_categorical(y_test,  10)"
   ]
  },
  {
   "cell_type": "code",
   "execution_count": 8,
   "metadata": {
    "collapsed": false
   },
   "outputs": [
    {
     "name": "stdout",
     "output_type": "stream",
     "text": [
      "(50000, 3, 32, 32)\n",
      "(32, 32, 3)\n"
     ]
    }
   ],
   "source": [
    "print (x_train.shape) ## 3,,32,32\n",
    "image = x_train.reshape(x_train.shape[0], 3, 32, 32).transpose(0,2,3,1)\n",
    "print (image[0].shape) ## 3,,32,32"
   ]
  },
  {
   "cell_type": "code",
   "execution_count": 9,
   "metadata": {
    "collapsed": false
   },
   "outputs": [
    {
     "data": {
      "image/png": "[encoded data removed]",
      "text/plain": [
       "<matplotlib.figure.Figure at 0x7fdfdeb03e48>"
      ]
     },
     "metadata": {},
     "output_type": "display_data"
    }
   ],
   "source": [
    "# Some examples\n",
    "g = plt.imshow(image[19])"
   ]
  },
  {
   "cell_type": "markdown",
   "metadata": {},
   "source": [
    "## Split Data for Supervised and Unsupervised Training"
   ]
  },
  {
   "cell_type": "code",
   "execution_count": 10,
   "metadata": {
    "collapsed": true
   },
   "outputs": [],
   "source": [
    "from sklearn.model_selection import train_test_split\n",
    "\n",
    "l_images_train, u_images_train, l_labels_train, u_labels_train = train_test_split(\n",
    "    x_train,y_train,test_size=48000, random_state=42)"
   ]
  },
  {
   "cell_type": "code",
   "execution_count": 11,
   "metadata": {
    "collapsed": false
   },
   "outputs": [
    {
     "name": "stdout",
     "output_type": "stream",
     "text": [
      "(2000, 3, 32, 32)\n",
      "(48000, 3, 32, 32)\n",
      "(2000, 10)\n",
      "(48000, 10)\n"
     ]
    }
   ],
   "source": [
    "print (l_images_train.shape)\n",
    "print (u_images_train.shape)\n",
    "print (l_labels_train.shape)\n",
    "print (u_labels_train.shape)"
   ]
  },
  {
   "cell_type": "markdown",
   "metadata": {},
   "source": [
    "## Start Supervised Learning"
   ]
  },
  {
   "cell_type": "code",
   "execution_count": 12,
   "metadata": {
    "collapsed": true
   },
   "outputs": [],
   "source": [
    "#Set the CNN model \n",
    "model = Sequential()\n",
    "#model.add(Conv2D(filters = 32, kernel_size = (3,3),padding = 'Same', \n",
    "                 # activation ='relu', input_shape = (32,32,3)))\n",
    "model.add(Convolution2D(32,3, 3, border_mode='same',input_shape=(3, 32, 32), activation='relu'))\n",
    "\n",
    "#model.add(Conv2D(filters = 32, kernel_size = (3,3),padding = 'Same', activation ='relu'))\n",
    "model.add(Convolution2D(32,3, 3, border_mode='same',activation='relu'))\n",
    "model.add(MaxPooling2D(pool_size=(2,2)))\n",
    "model.add(BatchNormalization())\n",
    "model.add(Dropout(0.25))\n",
    "\n",
    "\n",
    "#model.add(Conv2D(filters = 64, kernel_size = (3,3),padding = 'Same', \n",
    "#                 activation ='relu'))\n",
    "model.add(Convolution2D(64,3, 3, border_mode='same',activation='relu'))\n",
    "\n",
    "#model.add(Conv2D(filters = 64, kernel_size = (3,3),padding = 'Same', \n",
    "#                 activation ='relu'))\n",
    "\n",
    "model.add(Convolution2D(64,3, 3, border_mode='same',activation='relu'))\n",
    "\n",
    "model.add(MaxPooling2D(pool_size=(2,2)))\n",
    "model.add(BatchNormalization())\n",
    "model.add(Dropout(0.25))\n",
    "\n",
    "#model.add(Conv2D(filters = 86, kernel_size = (3,3),padding = 'Same', \n",
    "#                 activation ='relu'))\n",
    "model.add(Convolution2D(86,3, 3, border_mode='same',activation='relu'))\n",
    "\n",
    "\n",
    "#model.add(Conv2D(filters = 86, kernel_size = (3,3),padding = 'Same', \n",
    "#                 activation ='relu'))\n",
    "model.add(Convolution2D(86,3, 3, border_mode='same',activation='relu'))\n",
    "\n",
    "model.add(MaxPooling2D(pool_size=(2,2)))\n",
    "model.add(BatchNormalization())\n",
    "model.add(Dropout(0.25))\n",
    "\n",
    "\n",
    "model.add(Flatten())\n",
    "model.add(Dense(1024, activation = \"relu\"))\n",
    "model.add(Dropout(0.5))\n",
    "model.add(Dense(512, activation = \"relu\"))\n",
    "model.add(Dense(10, activation = \"softmax\"))"
   ]
  },
  {
   "cell_type": "code",
   "execution_count": 13,
   "metadata": {
    "collapsed": false
   },
   "outputs": [],
   "source": [
    "from keras.optimizers import RMSprop\n",
    "\n",
    "# Define the optimizer\n",
    "optimizer = RMSprop(lr=0.001, decay=1e-6)"
   ]
  },
  {
   "cell_type": "code",
   "execution_count": 14,
   "metadata": {
    "collapsed": true
   },
   "outputs": [],
   "source": [
    "# Compile the model\n",
    "model.compile(optimizer = optimizer , loss = \"categorical_crossentropy\", metrics=[\"accuracy\"])"
   ]
  },
  {
   "cell_type": "code",
   "execution_count": 15,
   "metadata": {
    "collapsed": true
   },
   "outputs": [],
   "source": [
    "# Set a learning_rate annealer\n",
    "learning_rate_reduction = ReduceLROnPlateau(monitor='val_acc', \n",
    "                                            patience=3, \n",
    "                                            verbose=1, \n",
    "                                            factor=0.5, \n",
    "                                            min_lr=0.00001)"
   ]
  },
  {
   "cell_type": "code",
   "execution_count": 16,
   "metadata": {
    "collapsed": true
   },
   "outputs": [],
   "source": [
    "epochs = 30 # Turn epochs to 80 to get 0.87 accuracy\n",
    "batch_size = 64"
   ]
  },
  {
   "cell_type": "code",
   "execution_count": 17,
   "metadata": {
    "collapsed": false
   },
   "outputs": [],
   "source": [
    "# Set the random seed\n",
    "random_seed = 2\n",
    "# Split the train and the validation set for the fitting\n",
    "X_train, X_val, Y_train, Y_val = \\\n",
    "train_test_split(l_images_train, l_labels_train, test_size = 0.1, random_state=random_seed)\n"
   ]
  },
  {
   "cell_type": "code",
   "execution_count": 18,
   "metadata": {
    "collapsed": false
   },
   "outputs": [
    {
     "name": "stdout",
     "output_type": "stream",
     "text": [
      "(2000, 3, 32, 32)\n",
      "(2000, 10)\n",
      "(1800, 3, 32, 32)\n",
      "(1800, 10)\n",
      "(200, 3, 32, 32)\n",
      "(200, 10)\n"
     ]
    }
   ],
   "source": [
    "print (l_images_train.shape)\n",
    "print (l_labels_train.shape)\n",
    "print (X_train.shape)\n",
    "print (Y_train.shape)\n",
    "print (X_val.shape)\n",
    "print (Y_val.shape)\n"
   ]
  },
  {
   "cell_type": "code",
   "execution_count": 26,
   "metadata": {
    "collapsed": true
   },
   "outputs": [],
   "source": [
    "# With data augmentation to prevent the overfitting (accuracy 0.87)\n",
    "\n",
    "datagen = ImageDataGenerator(\n",
    "        featurewise_center=False,  # set input mean to 0 over the dataset\n",
    "        samplewise_center=False,  # set each sample mean to 0\n",
    "        featurewise_std_normalization=False,  # divide inputs by std of the dataset\n",
    "        samplewise_std_normalization=False,  # divide each input by its std\n",
    "        zca_whitening=False,  # apply ZCA whitening\n",
    "        rotation_range=10,  # randomly rotate images in the range (degrees, 0 to 180)\n",
    "        zoom_range = 0.1, # Randomly zoom image \n",
    "        width_shift_range=0.1,  # randomly shift images horizontally (fraction of total width)\n",
    "        height_shift_range=0.1,  # randomly shift images vertically (fraction of total height)\n",
    "        horizontal_flip=True,  # randomly flip images\n",
    "        vertical_flip=False)  # randomly flip images\n",
    "\n",
    "\n",
    "datagen.fit(X_train)\n"
   ]
  },
  {
   "cell_type": "code",
   "execution_count": 29,
   "metadata": {
    "collapsed": false
   },
   "outputs": [
    {
     "name": "stdout",
     "output_type": "stream",
     "text": [
      "Epoch 1/30\n",
      "1800/1800 [==============================] - 13s - loss: 2.1528 - acc: 0.1906 - val_loss: 2.1218 - val_acc: 0.2200\n",
      "Epoch 2/30\n",
      "1800/1800 [==============================] - 13s - loss: 2.1235 - acc: 0.2144 - val_loss: 3.0545 - val_acc: 0.1000\n",
      "Epoch 3/30\n",
      "1800/1800 [==============================] - 13s - loss: 2.0854 - acc: 0.2144 - val_loss: 2.4873 - val_acc: 0.0950\n",
      "Epoch 4/30\n",
      "1800/1800 [==============================] - 13s - loss: 2.0293 - acc: 0.2389 - val_loss: 2.6396 - val_acc: 0.1000\n",
      "Epoch 5/30\n",
      "1792/1800 [============================>.] - ETA: 0s - loss: 1.9833 - acc: 0.2489\n",
      "Epoch 00004: reducing learning rate to 0.0005000000237487257.\n",
      "1800/1800 [==============================] - 13s - loss: 1.9829 - acc: 0.2489 - val_loss: 2.5728 - val_acc: 0.1350\n",
      "Epoch 6/30\n",
      "1800/1800 [==============================] - 13s - loss: 1.9075 - acc: 0.2650 - val_loss: 2.5431 - val_acc: 0.1100\n",
      "Epoch 7/30\n",
      "1800/1800 [==============================] - 13s - loss: 1.8239 - acc: 0.3261 - val_loss: 2.9188 - val_acc: 0.1100\n",
      "Epoch 8/30\n",
      "1792/1800 [============================>.] - ETA: 0s - loss: 1.8184 - acc: 0.3253\n",
      "Epoch 00007: reducing learning rate to 0.0002500000118743628.\n",
      "1800/1800 [==============================] - 14s - loss: 1.8188 - acc: 0.3261 - val_loss: 2.1881 - val_acc: 0.1800\n",
      "Epoch 9/30\n",
      "1800/1800 [==============================] - 13s - loss: 1.7398 - acc: 0.3456 - val_loss: 2.4735 - val_acc: 0.1350\n",
      "Epoch 10/30\n",
      "1800/1800 [==============================] - 13s - loss: 1.6900 - acc: 0.3533 - val_loss: 2.4369 - val_acc: 0.1550\n",
      "Epoch 11/30\n",
      "1800/1800 [==============================] - 13s - loss: 1.7107 - acc: 0.3578 - val_loss: 2.1024 - val_acc: 0.2450\n",
      "Epoch 12/30\n",
      "1800/1800 [==============================] - 13s - loss: 1.6612 - acc: 0.3700 - val_loss: 2.8714 - val_acc: 0.1200\n",
      "Epoch 13/30\n",
      "1800/1800 [==============================] - 13s - loss: 1.6499 - acc: 0.3717 - val_loss: 2.0549 - val_acc: 0.2100\n",
      "Epoch 14/30\n",
      "1800/1800 [==============================] - 13s - loss: 1.6291 - acc: 0.3700 - val_loss: 2.4296 - val_acc: 0.1600\n",
      "Epoch 15/30\n",
      "1792/1800 [============================>.] - ETA: 0s - loss: 1.5970 - acc: 0.3867\n",
      "Epoch 00014: reducing learning rate to 0.0001250000059371814.\n",
      "1800/1800 [==============================] - 13s - loss: 1.5969 - acc: 0.3872 - val_loss: 2.2418 - val_acc: 0.2100\n",
      "Epoch 16/30\n",
      "1800/1800 [==============================] - 13s - loss: 1.5926 - acc: 0.3989 - val_loss: 1.9706 - val_acc: 0.2500\n",
      "Epoch 17/30\n",
      "1800/1800 [==============================] - 13s - loss: 1.5693 - acc: 0.3972 - val_loss: 2.0997 - val_acc: 0.2400\n",
      "Epoch 18/30\n",
      "1800/1800 [==============================] - 13s - loss: 1.5501 - acc: 0.4133 - val_loss: 2.2059 - val_acc: 0.2150\n",
      "Epoch 19/30\n",
      "1800/1800 [==============================] - 13s - loss: 1.5197 - acc: 0.4272 - val_loss: 1.9403 - val_acc: 0.2700\n",
      "Epoch 20/30\n",
      "1800/1800 [==============================] - 13s - loss: 1.5329 - acc: 0.4061 - val_loss: 1.7756 - val_acc: 0.3200\n",
      "Epoch 21/30\n",
      "1800/1800 [==============================] - 13s - loss: 1.5257 - acc: 0.4211 - val_loss: 1.6849 - val_acc: 0.3500\n",
      "Epoch 22/30\n",
      "1800/1800 [==============================] - 13s - loss: 1.5231 - acc: 0.4272 - val_loss: 1.6456 - val_acc: 0.3950\n",
      "Epoch 23/30\n",
      "1800/1800 [==============================] - 13s - loss: 1.5204 - acc: 0.4333 - val_loss: 1.6744 - val_acc: 0.3700\n",
      "Epoch 24/30\n",
      "1800/1800 [==============================] - 13s - loss: 1.4993 - acc: 0.4400 - val_loss: 1.5480 - val_acc: 0.4100\n",
      "Epoch 25/30\n",
      "1800/1800 [==============================] - 14s - loss: 1.4964 - acc: 0.4411 - val_loss: 1.7953 - val_acc: 0.3300\n",
      "Epoch 26/30\n",
      "1800/1800 [==============================] - 14s - loss: 1.4957 - acc: 0.4422 - val_loss: 1.8019 - val_acc: 0.3450\n",
      "Epoch 27/30\n",
      "1800/1800 [==============================] - 13s - loss: 1.4331 - acc: 0.4644 - val_loss: 1.4685 - val_acc: 0.4450\n",
      "Epoch 28/30\n",
      "1800/1800 [==============================] - 13s - loss: 1.4255 - acc: 0.4667 - val_loss: 1.4716 - val_acc: 0.4600\n",
      "Epoch 29/30\n",
      "1800/1800 [==============================] - 13s - loss: 1.4583 - acc: 0.4550 - val_loss: 1.6359 - val_acc: 0.3900\n",
      "Epoch 30/30\n",
      "1800/1800 [==============================] - 13s - loss: 1.4289 - acc: 0.4539 - val_loss: 1.9410 - val_acc: 0.2950\n"
     ]
    }
   ],
   "source": [
    "# Fit the model\n",
    "history = model.fit_generator(datagen.flow(X_train,Y_train, batch_size=batch_size, shuffle=True),\n",
    "                              nb_epoch = epochs, samples_per_epoch = X_train.shape[0],\n",
    "                              validation_data = (X_val,Y_val),\n",
    "                               callbacks=[learning_rate_reduction])"
   ]
  },
  {
   "cell_type": "code",
   "execution_count": 32,
   "metadata": {
    "collapsed": false
   },
   "outputs": [
    {
     "name": "stdout",
     "output_type": "stream",
     "text": [
      "Test loss: 2.06654905548\n",
      "Test accuracy: 0.2967\n"
     ]
    }
   ],
   "source": [
    "score = model.evaluate(x_test, y_test, verbose=0)\n",
    "print('Test loss:', score[0])\n",
    "print('Test accuracy:', score[1])"
   ]
  },
  {
   "cell_type": "code",
   "execution_count": 30,
   "metadata": {
    "collapsed": false
   },
   "outputs": [
    {
     "data": {
      "text/plain": [
       "array([[ 0.,  0.,  0., ...,  0.,  0.,  0.],\n",
       "       [ 0.,  0.,  0., ...,  0.,  1.,  0.],\n",
       "       [ 0.,  0.,  0., ...,  0.,  1.,  0.],\n",
       "       ..., \n",
       "       [ 0.,  0.,  0., ...,  0.,  0.,  0.],\n",
       "       [ 0.,  1.,  0., ...,  0.,  0.,  0.],\n",
       "       [ 0.,  0.,  0., ...,  1.,  0.,  0.]])"
      ]
     },
     "execution_count": 30,
     "metadata": {},
     "output_type": "execute_result"
    }
   ],
   "source": [
    "y_test"
   ]
  },
  {
   "cell_type": "code",
   "execution_count": 31,
   "metadata": {
    "collapsed": false
   },
   "outputs": [
    {
     "data": {
      "text/plain": [
       "array([[[[ 0.61960784,  0.62352941,  0.64705882, ...,  0.5372549 ,\n",
       "           0.49411765,  0.45490196],\n",
       "         [ 0.59607843,  0.59215686,  0.62352941, ...,  0.53333333,\n",
       "           0.49019608,  0.46666667],\n",
       "         [ 0.59215686,  0.59215686,  0.61960784, ...,  0.54509804,\n",
       "           0.50980392,  0.47058824],\n",
       "         ..., \n",
       "         [ 0.26666667,  0.16470588,  0.12156863, ...,  0.14901961,\n",
       "           0.05098039,  0.15686275],\n",
       "         [ 0.23921569,  0.19215686,  0.1372549 , ...,  0.10196078,\n",
       "           0.11372549,  0.07843137],\n",
       "         [ 0.21176471,  0.21960784,  0.17647059, ...,  0.09411765,\n",
       "           0.13333333,  0.08235294]],\n",
       "\n",
       "        [[ 0.43921569,  0.43529412,  0.45490196, ...,  0.37254902,\n",
       "           0.35686275,  0.33333333],\n",
       "         [ 0.43921569,  0.43137255,  0.44705882, ...,  0.37254902,\n",
       "           0.35686275,  0.34509804],\n",
       "         [ 0.43137255,  0.42745098,  0.43529412, ...,  0.38431373,\n",
       "           0.37254902,  0.34901961],\n",
       "         ..., \n",
       "         [ 0.48627451,  0.39215686,  0.34509804, ...,  0.38039216,\n",
       "           0.25098039,  0.33333333],\n",
       "         [ 0.45490196,  0.4       ,  0.33333333, ...,  0.32156863,\n",
       "           0.32156863,  0.25098039],\n",
       "         [ 0.41960784,  0.41176471,  0.34901961, ...,  0.30196078,\n",
       "           0.32941176,  0.2627451 ]],\n",
       "\n",
       "        [[ 0.19215686,  0.18431373,  0.2       , ...,  0.14117647,\n",
       "           0.14117647,  0.12941176],\n",
       "         [ 0.2       ,  0.15686275,  0.17647059, ...,  0.12156863,\n",
       "           0.1254902 ,  0.13333333],\n",
       "         [ 0.18431373,  0.12941176,  0.14117647, ...,  0.13333333,\n",
       "           0.13333333,  0.12941176],\n",
       "         ..., \n",
       "         [ 0.69411765,  0.58039216,  0.5372549 , ...,  0.57254902,\n",
       "           0.42352941,  0.49803922],\n",
       "         [ 0.65882353,  0.58039216,  0.51764706, ...,  0.50980392,\n",
       "           0.49411765,  0.41960784],\n",
       "         [ 0.62745098,  0.58431373,  0.51764706, ...,  0.48627451,\n",
       "           0.50588235,  0.43137255]]],\n",
       "\n",
       "\n",
       "       [[[ 0.92156863,  0.90588235,  0.90980392, ...,  0.91372549,\n",
       "           0.91372549,  0.90980392],\n",
       "         [ 0.93333333,  0.92156863,  0.92156863, ...,  0.9254902 ,\n",
       "           0.9254902 ,  0.92156863],\n",
       "         [ 0.92941176,  0.91764706,  0.91764706, ...,  0.92156863,\n",
       "           0.92156863,  0.91764706],\n",
       "         ..., \n",
       "         [ 0.34117647,  0.16862745,  0.0745098 , ...,  0.6627451 ,\n",
       "           0.71372549,  0.7372549 ],\n",
       "         [ 0.32156863,  0.18039216,  0.14117647, ...,  0.68235294,\n",
       "           0.7254902 ,  0.73333333],\n",
       "         [ 0.33333333,  0.24313725,  0.22745098, ...,  0.65882353,\n",
       "           0.70588235,  0.72941176]],\n",
       "\n",
       "        [[ 0.92156863,  0.90588235,  0.90980392, ...,  0.91372549,\n",
       "           0.91372549,  0.90980392],\n",
       "         [ 0.93333333,  0.92156863,  0.92156863, ...,  0.9254902 ,\n",
       "           0.9254902 ,  0.92156863],\n",
       "         [ 0.92941176,  0.91764706,  0.91764706, ...,  0.92156863,\n",
       "           0.92156863,  0.91764706],\n",
       "         ..., \n",
       "         [ 0.38823529,  0.2       ,  0.09019608, ...,  0.72156863,\n",
       "           0.77254902,  0.79215686],\n",
       "         [ 0.37647059,  0.22352941,  0.17254902, ...,  0.74117647,\n",
       "           0.78431373,  0.79215686],\n",
       "         [ 0.39607843,  0.29411765,  0.2627451 , ...,  0.71764706,\n",
       "           0.76470588,  0.78431373]],\n",
       "\n",
       "        [[ 0.92156863,  0.90588235,  0.90980392, ...,  0.91372549,\n",
       "           0.91372549,  0.90980392],\n",
       "         [ 0.93333333,  0.92156863,  0.92156863, ...,  0.9254902 ,\n",
       "           0.9254902 ,  0.92156863],\n",
       "         [ 0.92941176,  0.91764706,  0.91764706, ...,  0.92156863,\n",
       "           0.92156863,  0.91764706],\n",
       "         ..., \n",
       "         [ 0.34901961,  0.14509804,  0.04313725, ...,  0.70196078,\n",
       "           0.75686275,  0.78823529],\n",
       "         [ 0.32156863,  0.14117647,  0.08627451, ...,  0.71764706,\n",
       "           0.76862745,  0.78431373],\n",
       "         [ 0.3254902 ,  0.18823529,  0.14901961, ...,  0.69803922,\n",
       "           0.74901961,  0.78039216]]],\n",
       "\n",
       "\n",
       "       [[[ 0.61960784,  0.61960784,  0.54509804, ...,  0.89411765,\n",
       "           0.92941176,  0.93333333],\n",
       "         [ 0.66666667,  0.6745098 ,  0.59215686, ...,  0.90980392,\n",
       "           0.96470588,  0.96470588],\n",
       "         [ 0.68235294,  0.69019608,  0.61568627, ...,  0.90196078,\n",
       "           0.98039216,  0.96078431],\n",
       "         ..., \n",
       "         [ 0.12156863,  0.11764706,  0.10196078, ...,  0.14509804,\n",
       "           0.03529412,  0.01568627],\n",
       "         [ 0.09019608,  0.10588235,  0.09803922, ...,  0.0745098 ,\n",
       "           0.01568627,  0.01960784],\n",
       "         [ 0.10980392,  0.11764706,  0.1254902 , ...,  0.01960784,\n",
       "           0.01568627,  0.02745098]],\n",
       "\n",
       "        [[ 0.74509804,  0.73333333,  0.65098039, ...,  0.90588235,\n",
       "           0.9372549 ,  0.94509804],\n",
       "         [ 0.78431373,  0.78039216,  0.69019608, ...,  0.90980392,\n",
       "           0.96470588,  0.96862745],\n",
       "         [ 0.78823529,  0.78431373,  0.70196078, ...,  0.89803922,\n",
       "           0.97647059,  0.95686275],\n",
       "         ..., \n",
       "         [ 0.15686275,  0.15294118,  0.1372549 , ...,  0.15686275,\n",
       "           0.05098039,  0.02745098],\n",
       "         [ 0.13333333,  0.14901961,  0.14117647, ...,  0.07843137,\n",
       "           0.02352941,  0.02745098],\n",
       "         [ 0.16078431,  0.16862745,  0.17647059, ...,  0.02352941,\n",
       "           0.01960784,  0.03137255]],\n",
       "\n",
       "        [[ 0.87058824,  0.85490196,  0.76078431, ...,  0.91764706,\n",
       "           0.95294118,  0.96470588],\n",
       "         [ 0.89803922,  0.88627451,  0.78823529, ...,  0.9254902 ,\n",
       "           0.98039216,  0.98431373],\n",
       "         [ 0.88235294,  0.87058824,  0.78039216, ...,  0.90980392,\n",
       "           0.98431373,  0.96862745],\n",
       "         ..., \n",
       "         [ 0.17647059,  0.17254902,  0.15686275, ...,  0.18039216,\n",
       "           0.05490196,  0.01960784],\n",
       "         [ 0.15294118,  0.16862745,  0.16078431, ...,  0.09411765,\n",
       "           0.01176471,  0.01176471],\n",
       "         [ 0.18431373,  0.19607843,  0.20392157, ...,  0.03137255,\n",
       "           0.01176471,  0.02745098]]],\n",
       "\n",
       "\n",
       "       ..., \n",
       "       [[[ 0.07843137,  0.0745098 ,  0.05882353, ...,  0.03921569,\n",
       "           0.04705882,  0.05098039],\n",
       "         [ 0.08235294,  0.07843137,  0.07058824, ...,  0.03921569,\n",
       "           0.03921569,  0.04705882],\n",
       "         [ 0.08235294,  0.08235294,  0.07843137, ...,  0.04705882,\n",
       "           0.04705882,  0.05098039],\n",
       "         ..., \n",
       "         [ 0.12941176,  0.13333333,  0.13333333, ...,  0.10980392,\n",
       "           0.11372549,  0.09019608],\n",
       "         [ 0.12941176,  0.13333333,  0.13333333, ...,  0.10588235,\n",
       "           0.10588235,  0.09803922],\n",
       "         [ 0.12156863,  0.1254902 ,  0.12941176, ...,  0.09411765,\n",
       "           0.10196078,  0.09803922]],\n",
       "\n",
       "        [[ 0.05882353,  0.05490196,  0.05490196, ...,  0.03529412,\n",
       "           0.04313725,  0.04705882],\n",
       "         [ 0.0627451 ,  0.0627451 ,  0.06666667, ...,  0.03529412,\n",
       "           0.03529412,  0.04313725],\n",
       "         [ 0.0627451 ,  0.06666667,  0.07058824, ...,  0.04313725,\n",
       "           0.04313725,  0.04705882],\n",
       "         ..., \n",
       "         [ 0.09803922,  0.10196078,  0.10196078, ...,  0.09803922,\n",
       "           0.09803922,  0.07843137],\n",
       "         [ 0.09803922,  0.10196078,  0.10196078, ...,  0.09411765,\n",
       "           0.09411765,  0.08627451],\n",
       "         [ 0.09019608,  0.09411765,  0.09803922, ...,  0.09019608,\n",
       "           0.09019608,  0.07843137]],\n",
       "\n",
       "        [[ 0.04705882,  0.04313725,  0.04313725, ...,  0.02745098,\n",
       "           0.03529412,  0.03921569],\n",
       "         [ 0.05098039,  0.05098039,  0.04705882, ...,  0.02745098,\n",
       "           0.02745098,  0.03529412],\n",
       "         [ 0.05098039,  0.04705882,  0.04313725, ...,  0.03529412,\n",
       "           0.03529412,  0.03921569],\n",
       "         ..., \n",
       "         [ 0.05098039,  0.05882353,  0.05882353, ...,  0.20392157,\n",
       "           0.22745098,  0.16470588],\n",
       "         [ 0.05490196,  0.05882353,  0.05882353, ...,  0.20392157,\n",
       "           0.21960784,  0.18431373],\n",
       "         [ 0.04705882,  0.05098039,  0.05490196, ...,  0.19607843,\n",
       "           0.20784314,  0.18431373]]],\n",
       "\n",
       "\n",
       "       [[[ 0.09803922,  0.05882353,  0.09019608, ...,  0.23921569,\n",
       "           0.36078431,  0.29411765],\n",
       "         [ 0.04705882,  0.07843137,  0.09411765, ...,  0.45098039,\n",
       "           0.58431373,  0.40784314],\n",
       "         [ 0.04705882,  0.05882353,  0.13333333, ...,  0.60392157,\n",
       "           0.61568627,  0.45490196],\n",
       "         ..., \n",
       "         [ 0.39215686,  0.40392157,  0.40784314, ...,  0.38039216,\n",
       "           0.38431373,  0.35686275],\n",
       "         [ 0.40392157,  0.40784314,  0.41960784, ...,  0.39607843,\n",
       "           0.38823529,  0.36078431],\n",
       "         [ 0.37254902,  0.37254902,  0.39607843, ...,  0.36470588,\n",
       "           0.37254902,  0.36078431]],\n",
       "\n",
       "        [[ 0.15686275,  0.14117647,  0.16078431, ...,  0.32156863,\n",
       "           0.44313725,  0.34901961],\n",
       "         [ 0.09803922,  0.14509804,  0.14117647, ...,  0.5254902 ,\n",
       "           0.65882353,  0.45882353],\n",
       "         [ 0.09803922,  0.11372549,  0.15686275, ...,  0.6745098 ,\n",
       "           0.68627451,  0.50588235],\n",
       "         ..., \n",
       "         [ 0.50588235,  0.51764706,  0.5254902 , ...,  0.50196078,\n",
       "           0.49411765,  0.4745098 ],\n",
       "         [ 0.51764706,  0.51372549,  0.52941176, ...,  0.51764706,\n",
       "           0.49803922,  0.4745098 ],\n",
       "         [ 0.49411765,  0.48235294,  0.50196078, ...,  0.48627451,\n",
       "           0.48235294,  0.47058824]],\n",
       "\n",
       "        [[ 0.04705882,  0.01176471,  0.07058824, ...,  0.30588235,\n",
       "           0.43921569,  0.36078431],\n",
       "         [ 0.02352941,  0.02745098,  0.05882353, ...,  0.54117647,\n",
       "           0.69411765,  0.51372549],\n",
       "         [ 0.04313725,  0.02352941,  0.09411765, ...,  0.71372549,\n",
       "           0.75294118,  0.59215686],\n",
       "         ..., \n",
       "         [ 0.31764706,  0.32941176,  0.3372549 , ...,  0.32941176,\n",
       "           0.32941176,  0.30980392],\n",
       "         [ 0.3254902 ,  0.3254902 ,  0.34117647, ...,  0.34117647,\n",
       "           0.32941176,  0.30980392],\n",
       "         [ 0.30588235,  0.29803922,  0.31764706, ...,  0.31372549,\n",
       "           0.31764706,  0.31372549]]],\n",
       "\n",
       "\n",
       "       [[[ 0.28627451,  0.38431373,  0.38823529, ...,  0.52941176,\n",
       "           0.52941176,  0.79607843],\n",
       "         [ 0.27058824,  0.32941176,  0.26666667, ...,  0.33333333,\n",
       "           0.27843137,  0.47058824],\n",
       "         [ 0.27058824,  0.35294118,  0.24313725, ...,  0.29019608,\n",
       "           0.20784314,  0.24313725],\n",
       "         ..., \n",
       "         [ 0.48235294,  0.51764706,  0.50588235, ...,  0.42352941,\n",
       "           0.24313725,  0.10588235],\n",
       "         [ 0.45098039,  0.48235294,  0.50588235, ...,  0.45098039,\n",
       "           0.25882353,  0.10588235],\n",
       "         [ 0.45490196,  0.4745098 ,  0.50588235, ...,  0.45490196,\n",
       "           0.26666667,  0.10588235]],\n",
       "\n",
       "        [[ 0.30588235,  0.40392157,  0.41568627, ...,  0.58823529,\n",
       "           0.58431373,  0.84313725],\n",
       "         [ 0.28627451,  0.34901961,  0.29411765, ...,  0.37254902,\n",
       "           0.32156863,  0.52156863],\n",
       "         [ 0.28627451,  0.37254902,  0.27843137, ...,  0.31764706,\n",
       "           0.24313725,  0.29019608],\n",
       "         ..., \n",
       "         [ 0.50196078,  0.51764706,  0.50196078, ...,  0.41960784,\n",
       "           0.23529412,  0.10588235],\n",
       "         [ 0.4745098 ,  0.48627451,  0.49411765, ...,  0.45490196,\n",
       "           0.25490196,  0.10588235],\n",
       "         [ 0.47058824,  0.47843137,  0.50196078, ...,  0.45098039,\n",
       "           0.25490196,  0.10196078]],\n",
       "\n",
       "        [[ 0.29411765,  0.44313725,  0.44705882, ...,  0.59607843,\n",
       "           0.60392157,  0.8745098 ],\n",
       "         [ 0.2745098 ,  0.38039216,  0.31764706, ...,  0.34901961,\n",
       "           0.31372549,  0.52941176],\n",
       "         [ 0.2745098 ,  0.39215686,  0.29019608, ...,  0.2745098 ,\n",
       "           0.21176471,  0.27058824],\n",
       "         ..., \n",
       "         [ 0.37647059,  0.4       ,  0.39215686, ...,  0.34509804,\n",
       "           0.21568627,  0.10980392],\n",
       "         [ 0.35686275,  0.37254902,  0.38823529, ...,  0.36862745,\n",
       "           0.23137255,  0.10588235],\n",
       "         [ 0.35294118,  0.36862745,  0.39607843, ...,  0.36862745,\n",
       "           0.22745098,  0.10196078]]]])"
      ]
     },
     "execution_count": 31,
     "metadata": {},
     "output_type": "execute_result"
    }
   ],
   "source": [
    "x_test"
   ]
  },
  {
   "cell_type": "code",
   "execution_count": 46,
   "metadata": {
    "collapsed": true
   },
   "outputs": [],
   "source": [
    "y_pred = model.predict(x_test)"
   ]
  },
  {
   "cell_type": "code",
   "execution_count": 47,
   "metadata": {
    "collapsed": false
   },
   "outputs": [
    {
     "data": {
      "text/plain": [
       "array([  1.05853513e-04,   1.00144674e-03,   1.95034519e-02,\n",
       "         6.66136980e-01,   2.68864911e-02,   1.30998537e-01,\n",
       "         1.37116164e-01,   1.78372227e-02,   1.61508040e-04,\n",
       "         2.52373167e-04], dtype=float32)"
      ]
     },
     "execution_count": 47,
     "metadata": {},
     "output_type": "execute_result"
    }
   ],
   "source": [
    "y_pred[0]"
   ]
  },
  {
   "cell_type": "code",
   "execution_count": 48,
   "metadata": {
    "collapsed": true
   },
   "outputs": [],
   "source": [
    "y_pred_new = y_pred[:, :10]  # First 10 columns of full_array\n"
   ]
  },
  {
   "cell_type": "code",
   "execution_count": null,
   "metadata": {
    "collapsed": true
   },
   "outputs": [],
   "source": []
  },
  {
   "cell_type": "code",
   "execution_count": 49,
   "metadata": {
    "collapsed": false
   },
   "outputs": [
    {
     "data": {
      "text/plain": [
       "array([  1.14289239e-01,   4.46367413e-01,   2.23175809e-03,\n",
       "         7.35852169e-04,   2.43850611e-03,   4.43213998e-04,\n",
       "         9.43116756e-05,   4.91843512e-03,   1.75190508e-01,\n",
       "         2.53290802e-01], dtype=float32)"
      ]
     },
     "execution_count": 49,
     "metadata": {},
     "output_type": "execute_result"
    }
   ],
   "source": [
    "y_pred_new[1]"
   ]
  },
  {
   "cell_type": "code",
   "execution_count": 50,
   "metadata": {
    "collapsed": true
   },
   "outputs": [],
   "source": [
    "y_pred_new = np.ndarray.argmax(y_pred_new,axis=1)"
   ]
  },
  {
   "cell_type": "code",
   "execution_count": 51,
   "metadata": {
    "collapsed": false
   },
   "outputs": [
    {
     "data": {
      "text/plain": [
       "array([3, 1, 8, ..., 6, 6, 7])"
      ]
     },
     "execution_count": 51,
     "metadata": {},
     "output_type": "execute_result"
    }
   ],
   "source": [
    "y_pred_new"
   ]
  },
  {
   "cell_type": "code",
   "execution_count": 52,
   "metadata": {
    "collapsed": false
   },
   "outputs": [
    {
     "data": {
      "text/plain": [
       "(10000,)"
      ]
     },
     "execution_count": 52,
     "metadata": {},
     "output_type": "execute_result"
    }
   ],
   "source": [
    "y_pred_new.shape"
   ]
  },
  {
   "cell_type": "code",
   "execution_count": 53,
   "metadata": {
    "collapsed": true
   },
   "outputs": [],
   "source": [
    "y_test_new = np.ndarray.argmax(y_test,axis=1)"
   ]
  },
  {
   "cell_type": "code",
   "execution_count": 54,
   "metadata": {
    "collapsed": false
   },
   "outputs": [
    {
     "data": {
      "text/plain": [
       "array([3, 8, 8, ..., 5, 1, 7])"
      ]
     },
     "execution_count": 54,
     "metadata": {},
     "output_type": "execute_result"
    }
   ],
   "source": [
    "y_test_new"
   ]
  },
  {
   "cell_type": "code",
   "execution_count": null,
   "metadata": {
    "collapsed": true
   },
   "outputs": [],
   "source": []
  },
  {
   "cell_type": "code",
   "execution_count": null,
   "metadata": {
    "collapsed": true
   },
   "outputs": [],
   "source": []
  },
  {
   "cell_type": "code",
   "execution_count": 55,
   "metadata": {
    "collapsed": false
   },
   "outputs": [
    {
     "name": "stdout",
     "output_type": "stream",
     "text": [
      "tested  10000 digits\n",
      "correct:  2967 wrong:  7033 error rate:  70.33 %\n",
      "got correctly  29.67 %\n"
     ]
    }
   ],
   "source": [
    "num=10000\n",
    "r=0\n",
    "w=0\n",
    "for i in range(num):\n",
    "        #print ('y_pred ',y_pred[i])\n",
    "        #print ('labels ',labels[i])\n",
    "        #without the use of all() returns error truth value of an array with more than one element is ambiguous\n",
    "        #if y_pred_new[i].all() == y_test_new[i].all():\n",
    "        if np.array_equal(y_pred_new[i],y_test_new[i]):\n",
    "            r+=1\n",
    "        else:\n",
    "            w+=1\n",
    "print (\"tested \",  num, \"digits\")\n",
    "print (\"correct: \", r, \"wrong: \", w, \"error rate: \", float(w)*100/(r+w), \"%\")\n",
    "print (\"got correctly \", float(r)*100/(r+w), \"%\")"
   ]
  },
  {
   "cell_type": "markdown",
   "metadata": {
    "collapsed": true
   },
   "source": [
    "# With a Supervised Training using 2000 training samples\n",
    "# we get around 30% test accuracy"
   ]
  },
  {
   "cell_type": "markdown",
   "metadata": {},
   "source": [
    "## Start Unsupervised Learning - Exemplar, Augumented, Pseudo Labels"
   ]
  },
  {
   "cell_type": "markdown",
   "metadata": {},
   "source": [
    "No of Surrogate classes 50 - 32000 ----8000 is optimum\n",
    "No of Samples Per Surrogate class - 1 to 300\n",
    "According to the paper\n",
    "\n",
    "but for our purpose\n",
    "can we random select say 100 images - check thier distribution\n",
    "loop each of this image and automatically image augmentation for 200 images\n",
    "Label this 200 images as one surrogate classes\n",
    "100*200 = 20000 images and 100 labels\n",
    "\n"
   ]
  },
  {
   "cell_type": "code",
   "execution_count": 12,
   "metadata": {
    "collapsed": true
   },
   "outputs": [],
   "source": [
    "no_of_surrogate_classes = 1000\n",
    "surr_labels_train = np.arange(no_of_surrogate_classes)"
   ]
  },
  {
   "cell_type": "code",
   "execution_count": 13,
   "metadata": {
    "collapsed": false
   },
   "outputs": [
    {
     "name": "stdout",
     "output_type": "stream",
     "text": [
      "(1000, 1)\n",
      "1000\n"
     ]
    }
   ],
   "source": [
    "surr_labels_train = surr_labels_train.reshape(no_of_surrogate_classes,1)\n",
    "print(surr_labels_train.shape)\n",
    "print (len(surr_labels_train))"
   ]
  },
  {
   "cell_type": "code",
   "execution_count": 14,
   "metadata": {
    "collapsed": false
   },
   "outputs": [
    {
     "data": {
      "text/plain": [
       "array([[  0],\n",
       "       [  1],\n",
       "       [  2],\n",
       "       [  3],\n",
       "       [  4],\n",
       "       [  5],\n",
       "       [  6],\n",
       "       [  7],\n",
       "       [  8],\n",
       "       [  9],\n",
       "       [ 10],\n",
       "       [ 11],\n",
       "       [ 12],\n",
       "       [ 13],\n",
       "       [ 14],\n",
       "       [ 15],\n",
       "       [ 16],\n",
       "       [ 17],\n",
       "       [ 18],\n",
       "       [ 19],\n",
       "       [ 20],\n",
       "       [ 21],\n",
       "       [ 22],\n",
       "       [ 23],\n",
       "       [ 24],\n",
       "       [ 25],\n",
       "       [ 26],\n",
       "       [ 27],\n",
       "       [ 28],\n",
       "       [ 29],\n",
       "       [ 30],\n",
       "       [ 31],\n",
       "       [ 32],\n",
       "       [ 33],\n",
       "       [ 34],\n",
       "       [ 35],\n",
       "       [ 36],\n",
       "       [ 37],\n",
       "       [ 38],\n",
       "       [ 39],\n",
       "       [ 40],\n",
       "       [ 41],\n",
       "       [ 42],\n",
       "       [ 43],\n",
       "       [ 44],\n",
       "       [ 45],\n",
       "       [ 46],\n",
       "       [ 47],\n",
       "       [ 48],\n",
       "       [ 49],\n",
       "       [ 50],\n",
       "       [ 51],\n",
       "       [ 52],\n",
       "       [ 53],\n",
       "       [ 54],\n",
       "       [ 55],\n",
       "       [ 56],\n",
       "       [ 57],\n",
       "       [ 58],\n",
       "       [ 59],\n",
       "       [ 60],\n",
       "       [ 61],\n",
       "       [ 62],\n",
       "       [ 63],\n",
       "       [ 64],\n",
       "       [ 65],\n",
       "       [ 66],\n",
       "       [ 67],\n",
       "       [ 68],\n",
       "       [ 69],\n",
       "       [ 70],\n",
       "       [ 71],\n",
       "       [ 72],\n",
       "       [ 73],\n",
       "       [ 74],\n",
       "       [ 75],\n",
       "       [ 76],\n",
       "       [ 77],\n",
       "       [ 78],\n",
       "       [ 79],\n",
       "       [ 80],\n",
       "       [ 81],\n",
       "       [ 82],\n",
       "       [ 83],\n",
       "       [ 84],\n",
       "       [ 85],\n",
       "       [ 86],\n",
       "       [ 87],\n",
       "       [ 88],\n",
       "       [ 89],\n",
       "       [ 90],\n",
       "       [ 91],\n",
       "       [ 92],\n",
       "       [ 93],\n",
       "       [ 94],\n",
       "       [ 95],\n",
       "       [ 96],\n",
       "       [ 97],\n",
       "       [ 98],\n",
       "       [ 99],\n",
       "       [100],\n",
       "       [101],\n",
       "       [102],\n",
       "       [103],\n",
       "       [104],\n",
       "       [105],\n",
       "       [106],\n",
       "       [107],\n",
       "       [108],\n",
       "       [109],\n",
       "       [110],\n",
       "       [111],\n",
       "       [112],\n",
       "       [113],\n",
       "       [114],\n",
       "       [115],\n",
       "       [116],\n",
       "       [117],\n",
       "       [118],\n",
       "       [119],\n",
       "       [120],\n",
       "       [121],\n",
       "       [122],\n",
       "       [123],\n",
       "       [124],\n",
       "       [125],\n",
       "       [126],\n",
       "       [127],\n",
       "       [128],\n",
       "       [129],\n",
       "       [130],\n",
       "       [131],\n",
       "       [132],\n",
       "       [133],\n",
       "       [134],\n",
       "       [135],\n",
       "       [136],\n",
       "       [137],\n",
       "       [138],\n",
       "       [139],\n",
       "       [140],\n",
       "       [141],\n",
       "       [142],\n",
       "       [143],\n",
       "       [144],\n",
       "       [145],\n",
       "       [146],\n",
       "       [147],\n",
       "       [148],\n",
       "       [149],\n",
       "       [150],\n",
       "       [151],\n",
       "       [152],\n",
       "       [153],\n",
       "       [154],\n",
       "       [155],\n",
       "       [156],\n",
       "       [157],\n",
       "       [158],\n",
       "       [159],\n",
       "       [160],\n",
       "       [161],\n",
       "       [162],\n",
       "       [163],\n",
       "       [164],\n",
       "       [165],\n",
       "       [166],\n",
       "       [167],\n",
       "       [168],\n",
       "       [169],\n",
       "       [170],\n",
       "       [171],\n",
       "       [172],\n",
       "       [173],\n",
       "       [174],\n",
       "       [175],\n",
       "       [176],\n",
       "       [177],\n",
       "       [178],\n",
       "       [179],\n",
       "       [180],\n",
       "       [181],\n",
       "       [182],\n",
       "       [183],\n",
       "       [184],\n",
       "       [185],\n",
       "       [186],\n",
       "       [187],\n",
       "       [188],\n",
       "       [189],\n",
       "       [190],\n",
       "       [191],\n",
       "       [192],\n",
       "       [193],\n",
       "       [194],\n",
       "       [195],\n",
       "       [196],\n",
       "       [197],\n",
       "       [198],\n",
       "       [199],\n",
       "       [200],\n",
       "       [201],\n",
       "       [202],\n",
       "       [203],\n",
       "       [204],\n",
       "       [205],\n",
       "       [206],\n",
       "       [207],\n",
       "       [208],\n",
       "       [209],\n",
       "       [210],\n",
       "       [211],\n",
       "       [212],\n",
       "       [213],\n",
       "       [214],\n",
       "       [215],\n",
       "       [216],\n",
       "       [217],\n",
       "       [218],\n",
       "       [219],\n",
       "       [220],\n",
       "       [221],\n",
       "       [222],\n",
       "       [223],\n",
       "       [224],\n",
       "       [225],\n",
       "       [226],\n",
       "       [227],\n",
       "       [228],\n",
       "       [229],\n",
       "       [230],\n",
       "       [231],\n",
       "       [232],\n",
       "       [233],\n",
       "       [234],\n",
       "       [235],\n",
       "       [236],\n",
       "       [237],\n",
       "       [238],\n",
       "       [239],\n",
       "       [240],\n",
       "       [241],\n",
       "       [242],\n",
       "       [243],\n",
       "       [244],\n",
       "       [245],\n",
       "       [246],\n",
       "       [247],\n",
       "       [248],\n",
       "       [249],\n",
       "       [250],\n",
       "       [251],\n",
       "       [252],\n",
       "       [253],\n",
       "       [254],\n",
       "       [255],\n",
       "       [256],\n",
       "       [257],\n",
       "       [258],\n",
       "       [259],\n",
       "       [260],\n",
       "       [261],\n",
       "       [262],\n",
       "       [263],\n",
       "       [264],\n",
       "       [265],\n",
       "       [266],\n",
       "       [267],\n",
       "       [268],\n",
       "       [269],\n",
       "       [270],\n",
       "       [271],\n",
       "       [272],\n",
       "       [273],\n",
       "       [274],\n",
       "       [275],\n",
       "       [276],\n",
       "       [277],\n",
       "       [278],\n",
       "       [279],\n",
       "       [280],\n",
       "       [281],\n",
       "       [282],\n",
       "       [283],\n",
       "       [284],\n",
       "       [285],\n",
       "       [286],\n",
       "       [287],\n",
       "       [288],\n",
       "       [289],\n",
       "       [290],\n",
       "       [291],\n",
       "       [292],\n",
       "       [293],\n",
       "       [294],\n",
       "       [295],\n",
       "       [296],\n",
       "       [297],\n",
       "       [298],\n",
       "       [299],\n",
       "       [300],\n",
       "       [301],\n",
       "       [302],\n",
       "       [303],\n",
       "       [304],\n",
       "       [305],\n",
       "       [306],\n",
       "       [307],\n",
       "       [308],\n",
       "       [309],\n",
       "       [310],\n",
       "       [311],\n",
       "       [312],\n",
       "       [313],\n",
       "       [314],\n",
       "       [315],\n",
       "       [316],\n",
       "       [317],\n",
       "       [318],\n",
       "       [319],\n",
       "       [320],\n",
       "       [321],\n",
       "       [322],\n",
       "       [323],\n",
       "       [324],\n",
       "       [325],\n",
       "       [326],\n",
       "       [327],\n",
       "       [328],\n",
       "       [329],\n",
       "       [330],\n",
       "       [331],\n",
       "       [332],\n",
       "       [333],\n",
       "       [334],\n",
       "       [335],\n",
       "       [336],\n",
       "       [337],\n",
       "       [338],\n",
       "       [339],\n",
       "       [340],\n",
       "       [341],\n",
       "       [342],\n",
       "       [343],\n",
       "       [344],\n",
       "       [345],\n",
       "       [346],\n",
       "       [347],\n",
       "       [348],\n",
       "       [349],\n",
       "       [350],\n",
       "       [351],\n",
       "       [352],\n",
       "       [353],\n",
       "       [354],\n",
       "       [355],\n",
       "       [356],\n",
       "       [357],\n",
       "       [358],\n",
       "       [359],\n",
       "       [360],\n",
       "       [361],\n",
       "       [362],\n",
       "       [363],\n",
       "       [364],\n",
       "       [365],\n",
       "       [366],\n",
       "       [367],\n",
       "       [368],\n",
       "       [369],\n",
       "       [370],\n",
       "       [371],\n",
       "       [372],\n",
       "       [373],\n",
       "       [374],\n",
       "       [375],\n",
       "       [376],\n",
       "       [377],\n",
       "       [378],\n",
       "       [379],\n",
       "       [380],\n",
       "       [381],\n",
       "       [382],\n",
       "       [383],\n",
       "       [384],\n",
       "       [385],\n",
       "       [386],\n",
       "       [387],\n",
       "       [388],\n",
       "       [389],\n",
       "       [390],\n",
       "       [391],\n",
       "       [392],\n",
       "       [393],\n",
       "       [394],\n",
       "       [395],\n",
       "       [396],\n",
       "       [397],\n",
       "       [398],\n",
       "       [399],\n",
       "       [400],\n",
       "       [401],\n",
       "       [402],\n",
       "       [403],\n",
       "       [404],\n",
       "       [405],\n",
       "       [406],\n",
       "       [407],\n",
       "       [408],\n",
       "       [409],\n",
       "       [410],\n",
       "       [411],\n",
       "       [412],\n",
       "       [413],\n",
       "       [414],\n",
       "       [415],\n",
       "       [416],\n",
       "       [417],\n",
       "       [418],\n",
       "       [419],\n",
       "       [420],\n",
       "       [421],\n",
       "       [422],\n",
       "       [423],\n",
       "       [424],\n",
       "       [425],\n",
       "       [426],\n",
       "       [427],\n",
       "       [428],\n",
       "       [429],\n",
       "       [430],\n",
       "       [431],\n",
       "       [432],\n",
       "       [433],\n",
       "       [434],\n",
       "       [435],\n",
       "       [436],\n",
       "       [437],\n",
       "       [438],\n",
       "       [439],\n",
       "       [440],\n",
       "       [441],\n",
       "       [442],\n",
       "       [443],\n",
       "       [444],\n",
       "       [445],\n",
       "       [446],\n",
       "       [447],\n",
       "       [448],\n",
       "       [449],\n",
       "       [450],\n",
       "       [451],\n",
       "       [452],\n",
       "       [453],\n",
       "       [454],\n",
       "       [455],\n",
       "       [456],\n",
       "       [457],\n",
       "       [458],\n",
       "       [459],\n",
       "       [460],\n",
       "       [461],\n",
       "       [462],\n",
       "       [463],\n",
       "       [464],\n",
       "       [465],\n",
       "       [466],\n",
       "       [467],\n",
       "       [468],\n",
       "       [469],\n",
       "       [470],\n",
       "       [471],\n",
       "       [472],\n",
       "       [473],\n",
       "       [474],\n",
       "       [475],\n",
       "       [476],\n",
       "       [477],\n",
       "       [478],\n",
       "       [479],\n",
       "       [480],\n",
       "       [481],\n",
       "       [482],\n",
       "       [483],\n",
       "       [484],\n",
       "       [485],\n",
       "       [486],\n",
       "       [487],\n",
       "       [488],\n",
       "       [489],\n",
       "       [490],\n",
       "       [491],\n",
       "       [492],\n",
       "       [493],\n",
       "       [494],\n",
       "       [495],\n",
       "       [496],\n",
       "       [497],\n",
       "       [498],\n",
       "       [499],\n",
       "       [500],\n",
       "       [501],\n",
       "       [502],\n",
       "       [503],\n",
       "       [504],\n",
       "       [505],\n",
       "       [506],\n",
       "       [507],\n",
       "       [508],\n",
       "       [509],\n",
       "       [510],\n",
       "       [511],\n",
       "       [512],\n",
       "       [513],\n",
       "       [514],\n",
       "       [515],\n",
       "       [516],\n",
       "       [517],\n",
       "       [518],\n",
       "       [519],\n",
       "       [520],\n",
       "       [521],\n",
       "       [522],\n",
       "       [523],\n",
       "       [524],\n",
       "       [525],\n",
       "       [526],\n",
       "       [527],\n",
       "       [528],\n",
       "       [529],\n",
       "       [530],\n",
       "       [531],\n",
       "       [532],\n",
       "       [533],\n",
       "       [534],\n",
       "       [535],\n",
       "       [536],\n",
       "       [537],\n",
       "       [538],\n",
       "       [539],\n",
       "       [540],\n",
       "       [541],\n",
       "       [542],\n",
       "       [543],\n",
       "       [544],\n",
       "       [545],\n",
       "       [546],\n",
       "       [547],\n",
       "       [548],\n",
       "       [549],\n",
       "       [550],\n",
       "       [551],\n",
       "       [552],\n",
       "       [553],\n",
       "       [554],\n",
       "       [555],\n",
       "       [556],\n",
       "       [557],\n",
       "       [558],\n",
       "       [559],\n",
       "       [560],\n",
       "       [561],\n",
       "       [562],\n",
       "       [563],\n",
       "       [564],\n",
       "       [565],\n",
       "       [566],\n",
       "       [567],\n",
       "       [568],\n",
       "       [569],\n",
       "       [570],\n",
       "       [571],\n",
       "       [572],\n",
       "       [573],\n",
       "       [574],\n",
       "       [575],\n",
       "       [576],\n",
       "       [577],\n",
       "       [578],\n",
       "       [579],\n",
       "       [580],\n",
       "       [581],\n",
       "       [582],\n",
       "       [583],\n",
       "       [584],\n",
       "       [585],\n",
       "       [586],\n",
       "       [587],\n",
       "       [588],\n",
       "       [589],\n",
       "       [590],\n",
       "       [591],\n",
       "       [592],\n",
       "       [593],\n",
       "       [594],\n",
       "       [595],\n",
       "       [596],\n",
       "       [597],\n",
       "       [598],\n",
       "       [599],\n",
       "       [600],\n",
       "       [601],\n",
       "       [602],\n",
       "       [603],\n",
       "       [604],\n",
       "       [605],\n",
       "       [606],\n",
       "       [607],\n",
       "       [608],\n",
       "       [609],\n",
       "       [610],\n",
       "       [611],\n",
       "       [612],\n",
       "       [613],\n",
       "       [614],\n",
       "       [615],\n",
       "       [616],\n",
       "       [617],\n",
       "       [618],\n",
       "       [619],\n",
       "       [620],\n",
       "       [621],\n",
       "       [622],\n",
       "       [623],\n",
       "       [624],\n",
       "       [625],\n",
       "       [626],\n",
       "       [627],\n",
       "       [628],\n",
       "       [629],\n",
       "       [630],\n",
       "       [631],\n",
       "       [632],\n",
       "       [633],\n",
       "       [634],\n",
       "       [635],\n",
       "       [636],\n",
       "       [637],\n",
       "       [638],\n",
       "       [639],\n",
       "       [640],\n",
       "       [641],\n",
       "       [642],\n",
       "       [643],\n",
       "       [644],\n",
       "       [645],\n",
       "       [646],\n",
       "       [647],\n",
       "       [648],\n",
       "       [649],\n",
       "       [650],\n",
       "       [651],\n",
       "       [652],\n",
       "       [653],\n",
       "       [654],\n",
       "       [655],\n",
       "       [656],\n",
       "       [657],\n",
       "       [658],\n",
       "       [659],\n",
       "       [660],\n",
       "       [661],\n",
       "       [662],\n",
       "       [663],\n",
       "       [664],\n",
       "       [665],\n",
       "       [666],\n",
       "       [667],\n",
       "       [668],\n",
       "       [669],\n",
       "       [670],\n",
       "       [671],\n",
       "       [672],\n",
       "       [673],\n",
       "       [674],\n",
       "       [675],\n",
       "       [676],\n",
       "       [677],\n",
       "       [678],\n",
       "       [679],\n",
       "       [680],\n",
       "       [681],\n",
       "       [682],\n",
       "       [683],\n",
       "       [684],\n",
       "       [685],\n",
       "       [686],\n",
       "       [687],\n",
       "       [688],\n",
       "       [689],\n",
       "       [690],\n",
       "       [691],\n",
       "       [692],\n",
       "       [693],\n",
       "       [694],\n",
       "       [695],\n",
       "       [696],\n",
       "       [697],\n",
       "       [698],\n",
       "       [699],\n",
       "       [700],\n",
       "       [701],\n",
       "       [702],\n",
       "       [703],\n",
       "       [704],\n",
       "       [705],\n",
       "       [706],\n",
       "       [707],\n",
       "       [708],\n",
       "       [709],\n",
       "       [710],\n",
       "       [711],\n",
       "       [712],\n",
       "       [713],\n",
       "       [714],\n",
       "       [715],\n",
       "       [716],\n",
       "       [717],\n",
       "       [718],\n",
       "       [719],\n",
       "       [720],\n",
       "       [721],\n",
       "       [722],\n",
       "       [723],\n",
       "       [724],\n",
       "       [725],\n",
       "       [726],\n",
       "       [727],\n",
       "       [728],\n",
       "       [729],\n",
       "       [730],\n",
       "       [731],\n",
       "       [732],\n",
       "       [733],\n",
       "       [734],\n",
       "       [735],\n",
       "       [736],\n",
       "       [737],\n",
       "       [738],\n",
       "       [739],\n",
       "       [740],\n",
       "       [741],\n",
       "       [742],\n",
       "       [743],\n",
       "       [744],\n",
       "       [745],\n",
       "       [746],\n",
       "       [747],\n",
       "       [748],\n",
       "       [749],\n",
       "       [750],\n",
       "       [751],\n",
       "       [752],\n",
       "       [753],\n",
       "       [754],\n",
       "       [755],\n",
       "       [756],\n",
       "       [757],\n",
       "       [758],\n",
       "       [759],\n",
       "       [760],\n",
       "       [761],\n",
       "       [762],\n",
       "       [763],\n",
       "       [764],\n",
       "       [765],\n",
       "       [766],\n",
       "       [767],\n",
       "       [768],\n",
       "       [769],\n",
       "       [770],\n",
       "       [771],\n",
       "       [772],\n",
       "       [773],\n",
       "       [774],\n",
       "       [775],\n",
       "       [776],\n",
       "       [777],\n",
       "       [778],\n",
       "       [779],\n",
       "       [780],\n",
       "       [781],\n",
       "       [782],\n",
       "       [783],\n",
       "       [784],\n",
       "       [785],\n",
       "       [786],\n",
       "       [787],\n",
       "       [788],\n",
       "       [789],\n",
       "       [790],\n",
       "       [791],\n",
       "       [792],\n",
       "       [793],\n",
       "       [794],\n",
       "       [795],\n",
       "       [796],\n",
       "       [797],\n",
       "       [798],\n",
       "       [799],\n",
       "       [800],\n",
       "       [801],\n",
       "       [802],\n",
       "       [803],\n",
       "       [804],\n",
       "       [805],\n",
       "       [806],\n",
       "       [807],\n",
       "       [808],\n",
       "       [809],\n",
       "       [810],\n",
       "       [811],\n",
       "       [812],\n",
       "       [813],\n",
       "       [814],\n",
       "       [815],\n",
       "       [816],\n",
       "       [817],\n",
       "       [818],\n",
       "       [819],\n",
       "       [820],\n",
       "       [821],\n",
       "       [822],\n",
       "       [823],\n",
       "       [824],\n",
       "       [825],\n",
       "       [826],\n",
       "       [827],\n",
       "       [828],\n",
       "       [829],\n",
       "       [830],\n",
       "       [831],\n",
       "       [832],\n",
       "       [833],\n",
       "       [834],\n",
       "       [835],\n",
       "       [836],\n",
       "       [837],\n",
       "       [838],\n",
       "       [839],\n",
       "       [840],\n",
       "       [841],\n",
       "       [842],\n",
       "       [843],\n",
       "       [844],\n",
       "       [845],\n",
       "       [846],\n",
       "       [847],\n",
       "       [848],\n",
       "       [849],\n",
       "       [850],\n",
       "       [851],\n",
       "       [852],\n",
       "       [853],\n",
       "       [854],\n",
       "       [855],\n",
       "       [856],\n",
       "       [857],\n",
       "       [858],\n",
       "       [859],\n",
       "       [860],\n",
       "       [861],\n",
       "       [862],\n",
       "       [863],\n",
       "       [864],\n",
       "       [865],\n",
       "       [866],\n",
       "       [867],\n",
       "       [868],\n",
       "       [869],\n",
       "       [870],\n",
       "       [871],\n",
       "       [872],\n",
       "       [873],\n",
       "       [874],\n",
       "       [875],\n",
       "       [876],\n",
       "       [877],\n",
       "       [878],\n",
       "       [879],\n",
       "       [880],\n",
       "       [881],\n",
       "       [882],\n",
       "       [883],\n",
       "       [884],\n",
       "       [885],\n",
       "       [886],\n",
       "       [887],\n",
       "       [888],\n",
       "       [889],\n",
       "       [890],\n",
       "       [891],\n",
       "       [892],\n",
       "       [893],\n",
       "       [894],\n",
       "       [895],\n",
       "       [896],\n",
       "       [897],\n",
       "       [898],\n",
       "       [899],\n",
       "       [900],\n",
       "       [901],\n",
       "       [902],\n",
       "       [903],\n",
       "       [904],\n",
       "       [905],\n",
       "       [906],\n",
       "       [907],\n",
       "       [908],\n",
       "       [909],\n",
       "       [910],\n",
       "       [911],\n",
       "       [912],\n",
       "       [913],\n",
       "       [914],\n",
       "       [915],\n",
       "       [916],\n",
       "       [917],\n",
       "       [918],\n",
       "       [919],\n",
       "       [920],\n",
       "       [921],\n",
       "       [922],\n",
       "       [923],\n",
       "       [924],\n",
       "       [925],\n",
       "       [926],\n",
       "       [927],\n",
       "       [928],\n",
       "       [929],\n",
       "       [930],\n",
       "       [931],\n",
       "       [932],\n",
       "       [933],\n",
       "       [934],\n",
       "       [935],\n",
       "       [936],\n",
       "       [937],\n",
       "       [938],\n",
       "       [939],\n",
       "       [940],\n",
       "       [941],\n",
       "       [942],\n",
       "       [943],\n",
       "       [944],\n",
       "       [945],\n",
       "       [946],\n",
       "       [947],\n",
       "       [948],\n",
       "       [949],\n",
       "       [950],\n",
       "       [951],\n",
       "       [952],\n",
       "       [953],\n",
       "       [954],\n",
       "       [955],\n",
       "       [956],\n",
       "       [957],\n",
       "       [958],\n",
       "       [959],\n",
       "       [960],\n",
       "       [961],\n",
       "       [962],\n",
       "       [963],\n",
       "       [964],\n",
       "       [965],\n",
       "       [966],\n",
       "       [967],\n",
       "       [968],\n",
       "       [969],\n",
       "       [970],\n",
       "       [971],\n",
       "       [972],\n",
       "       [973],\n",
       "       [974],\n",
       "       [975],\n",
       "       [976],\n",
       "       [977],\n",
       "       [978],\n",
       "       [979],\n",
       "       [980],\n",
       "       [981],\n",
       "       [982],\n",
       "       [983],\n",
       "       [984],\n",
       "       [985],\n",
       "       [986],\n",
       "       [987],\n",
       "       [988],\n",
       "       [989],\n",
       "       [990],\n",
       "       [991],\n",
       "       [992],\n",
       "       [993],\n",
       "       [994],\n",
       "       [995],\n",
       "       [996],\n",
       "       [997],\n",
       "       [998],\n",
       "       [999]])"
      ]
     },
     "execution_count": 14,
     "metadata": {},
     "output_type": "execute_result"
    }
   ],
   "source": [
    "surr_labels_train"
   ]
  },
  {
   "cell_type": "code",
   "execution_count": 15,
   "metadata": {
    "collapsed": false
   },
   "outputs": [
    {
     "name": "stdout",
     "output_type": "stream",
     "text": [
      "(48000, 3, 32, 32)\n",
      "[[[ 0.7254902   0.70196078  0.7372549  ...,  0.51372549  0.62745098\n",
      "    0.79215686]\n",
      "  [ 0.71764706  0.71372549  0.76862745 ...,  0.5254902   0.62352941\n",
      "    0.80392157]\n",
      "  [ 0.71764706  0.71372549  0.77647059 ...,  0.50980392  0.60392157  0.8       ]\n",
      "  ..., \n",
      "  [ 0.42352941  0.42352941  0.40392157 ...,  0.40784314  0.41568627\n",
      "    0.40784314]\n",
      "  [ 0.39215686  0.39607843  0.4        ...,  0.41568627  0.41568627\n",
      "    0.41568627]\n",
      "  [ 0.37647059  0.36078431  0.36078431 ...,  0.41568627  0.41176471\n",
      "    0.41568627]]\n",
      "\n",
      " [[ 0.7254902   0.69019608  0.71764706 ...,  0.47843137  0.59607843\n",
      "    0.77647059]\n",
      "  [ 0.72156863  0.70588235  0.75294118 ...,  0.48627451  0.59215686\n",
      "    0.78431373]\n",
      "  [ 0.7254902   0.70980392  0.76470588 ...,  0.47058824  0.57254902\n",
      "    0.78431373]\n",
      "  ..., \n",
      "  [ 0.43921569  0.43921569  0.41960784 ...,  0.40392157  0.41176471\n",
      "    0.40392157]\n",
      "  [ 0.40392157  0.41176471  0.41568627 ...,  0.41176471  0.41176471\n",
      "    0.41176471]\n",
      "  [ 0.38823529  0.37254902  0.37254902 ...,  0.41176471  0.40784314\n",
      "    0.41176471]]\n",
      "\n",
      " [[ 0.69803922  0.64313725  0.65098039 ...,  0.41960784  0.55294118\n",
      "    0.75686275]\n",
      "  [ 0.70588235  0.67058824  0.69411765 ...,  0.42745098  0.54901961\n",
      "    0.76470588]\n",
      "  [ 0.72156863  0.68627451  0.72156863 ...,  0.41176471  0.52941176\n",
      "    0.76470588]\n",
      "  ..., \n",
      "  [ 0.44705882  0.44705882  0.42745098 ...,  0.43529412  0.44313725\n",
      "    0.43529412]\n",
      "  [ 0.41960784  0.42745098  0.43137255 ...,  0.44313725  0.44313725\n",
      "    0.44313725]\n",
      "  [ 0.41176471  0.39607843  0.39607843 ...,  0.43921569  0.43921569\n",
      "    0.44313725]]]\n"
     ]
    }
   ],
   "source": [
    "print(u_images_train.shape)\n",
    "print(u_images_train[0])"
   ]
  },
  {
   "cell_type": "code",
   "execution_count": 16,
   "metadata": {
    "collapsed": false
   },
   "outputs": [
    {
     "name": "stdout",
     "output_type": "stream",
     "text": [
      "48.0\n",
      "(1000, 3, 32, 32)\n",
      "{0: 85, 1: 106, 2: 94, 3: 102, 4: 94, 5: 110, 6: 90, 7: 113, 8: 96, 9: 110}\n"
     ]
    }
   ],
   "source": [
    "split = u_images_train.shape[0]/no_of_surrogate_classes\n",
    "print (split)\n",
    "\n",
    "divided_input = np.split(u_images_train, split)\n",
    "X_train = divided_input[0]\n",
    "print(X_train.shape)\n",
    "divided_output = np.split(u_labels_train, split)\n",
    "Y_train = divided_output[0]\n",
    "\n",
    "unique, counts = numpy.unique(np.ndarray.argmax(Y_train,axis=1), return_counts=True)\n",
    "print (dict(zip(unique, counts)))"
   ]
  },
  {
   "cell_type": "code",
   "execution_count": 17,
   "metadata": {
    "collapsed": false
   },
   "outputs": [
    {
     "name": "stdout",
     "output_type": "stream",
     "text": [
      "Using real-time data augmentation.\n"
     ]
    }
   ],
   "source": [
    "print('Using real-time data augmentation.')\n",
    "# This will do preprocessing and realtime data augmentation:\n",
    "datagen = ImageDataGenerator(\n",
    "        rescale = 1.5, # If None or 0, no rescaling is applied, otherwise we multiply the data by the value provided (before applying any other transformation).\n",
    "        featurewise_center=False,  # set input mean to 0 over the dataset\n",
    "        samplewise_center=False,  # set each sample mean to 0\n",
    "        featurewise_std_normalization=False,  # divide inputs by std of the dataset\n",
    "        samplewise_std_normalization=False,  # divide each input by its std\n",
    "        zca_whitening=False,  # apply ZCA whitening\n",
    "        rotation_range=10,  # randomly rotate images in the range (degrees, 0 to 180)\n",
    "        shear_range=0.1, #Float. Shear Intensity (Shear angle in counter-clockwise direction as radians)\n",
    "        zoom_range=0.2 , #Float or [lower, upper]. Range for random zoom. If a float,  [lower, upper] = [1-zoom_range, 1+zoom_range].\n",
    "        width_shift_range=0.1,  # randomly shift images horizontally (fraction of total width)\n",
    "        height_shift_range=0.1,  # randomly shift images vertically (fraction of total height)\n",
    "        horizontal_flip=True,  # randomly flip images\n",
    "        channel_shift_range = 0.1, #Range for random channel shifts.\n",
    "        vertical_flip=False)  # randomly flip images\n",
    "\n",
    "\n",
    "datagen.fit(X_train)\n"
   ]
  },
  {
   "cell_type": "code",
   "execution_count": 18,
   "metadata": {
    "collapsed": false
   },
   "outputs": [],
   "source": [
    "i=0\n",
    "generated_images = np.empty(shape=[0,3,32,32])\n",
    "generated_labels = np.empty(shape=[0,1])\n",
    "\n",
    "\n",
    "for i in range(50):\n",
    "    \n",
    "    for X_batch,Y_batch in datagen.flow(X_train,surr_labels_train,batch_size=len(X_train)):\n",
    "        generated_images = np.concatenate((generated_images, X_batch))\n",
    "        generated_labels = np.concatenate((generated_labels, Y_batch))\n",
    "        break  # otherwise the generator would loop indefinitely\n",
    "\n",
    "    i+=1\n",
    "    if i >= 50:\n",
    "        break\n"
   ]
  },
  {
   "cell_type": "code",
   "execution_count": 19,
   "metadata": {
    "collapsed": false
   },
   "outputs": [
    {
     "name": "stdout",
     "output_type": "stream",
     "text": [
      "(1000, 3, 32, 32)\n",
      "(1000, 1)\n",
      "(1000, 3, 32, 32)\n",
      "(1000, 1)\n",
      "(50000, 3, 32, 32)\n",
      "(50000, 1)\n"
     ]
    }
   ],
   "source": [
    "print (X_train.shape)\n",
    "print (surr_labels_train.shape)\n",
    "\n",
    "print (X_batch.shape)\n",
    "print (Y_batch.shape)\n",
    "print (generated_images.shape)\n",
    "print (generated_labels.shape)\n"
   ]
  },
  {
   "cell_type": "code",
   "execution_count": 27,
   "metadata": {
    "collapsed": false
   },
   "outputs": [
    {
     "name": "stdout",
     "output_type": "stream",
     "text": [
      "[[246]\n",
      " [500]\n",
      " [398]\n",
      " [513]\n",
      " [795]\n",
      " [885]\n",
      " [100]\n",
      " [940]\n",
      " [382]\n",
      " [515]\n",
      " [416]\n",
      " [838]\n",
      " [527]\n",
      " [578]\n",
      " [919]\n",
      " [220]\n",
      " [613]\n",
      " [765]\n",
      " [957]\n",
      " [166]\n",
      " [925]\n",
      " [615]\n",
      " [  4]\n",
      " [204]\n",
      " [760]\n",
      " [105]\n",
      " [989]\n",
      " [167]\n",
      " [666]\n",
      " [403]\n",
      " [655]\n",
      " [610]\n",
      " [ 46]\n",
      " [324]\n",
      " [602]\n",
      " [647]\n",
      " [809]\n",
      " [326]\n",
      " [184]\n",
      " [  5]\n",
      " [545]\n",
      " [300]\n",
      " [931]\n",
      " [496]\n",
      " [196]\n",
      " [122]\n",
      " [400]\n",
      " [163]\n",
      " [772]\n",
      " [962]\n",
      " [963]\n",
      " [ 83]\n",
      " [150]\n",
      " [418]\n",
      " [583]\n",
      " [949]\n",
      " [740]\n",
      " [392]\n",
      " [727]\n",
      " [482]\n",
      " [ 97]\n",
      " [257]\n",
      " [225]\n",
      " [134]\n",
      " [923]\n",
      " [221]\n",
      " [ 72]\n",
      " [127]\n",
      " [222]\n",
      " [ 44]\n",
      " [ 78]\n",
      " [582]\n",
      " [406]\n",
      " [604]\n",
      " [732]\n",
      " [997]\n",
      " [ 88]\n",
      " [552]\n",
      " [288]\n",
      " [673]\n",
      " [706]\n",
      " [524]\n",
      " [918]\n",
      " [146]\n",
      " [888]\n",
      " [ 19]\n",
      " [280]\n",
      " [884]\n",
      " [968]\n",
      " [285]\n",
      " [751]\n",
      " [817]\n",
      " [576]\n",
      " [294]\n",
      " [321]\n",
      " [441]\n",
      " [779]\n",
      " [898]\n",
      " [306]\n",
      " [397]\n",
      " [680]\n",
      " [433]\n",
      " [254]\n",
      " [958]\n",
      " [279]\n",
      " [ 98]\n",
      " [115]\n",
      " [986]\n",
      " [835]\n",
      " [109]\n",
      " [268]\n",
      " [405]\n",
      " [212]\n",
      " [241]\n",
      " [586]\n",
      " [139]\n",
      " [323]\n",
      " [556]\n",
      " [142]\n",
      " [784]\n",
      " [656]\n",
      " [823]\n",
      " [213]\n",
      " [331]\n",
      " [893]\n",
      " [628]\n",
      " [554]\n",
      " [874]\n",
      " [453]\n",
      " [990]\n",
      " [169]\n",
      " [879]\n",
      " [207]\n",
      " [149]\n",
      " [243]\n",
      " [503]\n",
      " [639]\n",
      " [701]\n",
      " [415]\n",
      " [286]\n",
      " [616]\n",
      " [340]\n",
      " [389]\n",
      " [470]\n",
      " [342]\n",
      " [121]\n",
      " [584]\n",
      " [813]\n",
      " [ 87]\n",
      " [695]\n",
      " [620]\n",
      " [708]\n",
      " [506]\n",
      " [185]\n",
      " [ 67]\n",
      " [660]\n",
      " [897]\n",
      " [378]\n",
      " [ 25]\n",
      " [116]\n",
      " [624]\n",
      " [205]\n",
      " [734]\n",
      " [359]\n",
      " [ 35]\n",
      " [782]\n",
      " [468]\n",
      " [128]\n",
      " [421]\n",
      " [206]\n",
      " [887]\n",
      " [730]\n",
      " [528]\n",
      " [612]\n",
      " [ 76]\n",
      " [719]\n",
      " [621]\n",
      " [343]\n",
      " [601]\n",
      " [780]\n",
      " [538]\n",
      " [816]\n",
      " [770]\n",
      " [677]\n",
      " [859]\n",
      " [978]\n",
      " [  1]\n",
      " [927]\n",
      " [635]\n",
      " [790]\n",
      " [230]\n",
      " [437]\n",
      " [488]\n",
      " [842]\n",
      " [623]\n",
      " [533]\n",
      " [228]\n",
      " [152]\n",
      " [917]\n",
      " [693]\n",
      " [154]\n",
      " [282]\n",
      " [491]\n",
      " [575]\n",
      " [214]\n",
      " [198]\n",
      " [289]\n",
      " [922]\n",
      " [768]\n",
      " [880]\n",
      " [802]\n",
      " [317]\n",
      " [178]\n",
      " [256]\n",
      " [274]\n",
      " [574]\n",
      " [ 43]\n",
      " [743]\n",
      " [818]\n",
      " [273]\n",
      " [603]\n",
      " [145]\n",
      " [ 29]\n",
      " [240]\n",
      " [333]\n",
      " [811]\n",
      " [ 49]\n",
      " [625]\n",
      " [993]\n",
      " [979]\n",
      " [531]\n",
      " [106]\n",
      " [867]\n",
      " [ 39]\n",
      " [579]\n",
      " [161]\n",
      " [632]\n",
      " [277]\n",
      " [830]\n",
      " [358]\n",
      " [478]\n",
      " [507]\n",
      " [101]\n",
      " [250]\n",
      " [532]\n",
      " [313]\n",
      " [799]\n",
      " [548]\n",
      " [921]\n",
      " [231]\n",
      " [558]\n",
      " [525]\n",
      " [253]\n",
      " [965]\n",
      " [255]\n",
      " [889]\n",
      " [684]\n",
      " [644]\n",
      " [283]\n",
      " [143]\n",
      " [442]\n",
      " [420]\n",
      " [709]\n",
      " [464]\n",
      " [973]\n",
      " [937]\n",
      " [714]\n",
      " [ 69]\n",
      " [529]\n",
      " [934]\n",
      " [ 91]\n",
      " [  9]\n",
      " [159]\n",
      " [173]\n",
      " [448]\n",
      " [486]\n",
      " [223]\n",
      " [662]\n",
      " [716]\n",
      " [539]\n",
      " [871]\n",
      " [672]\n",
      " [349]\n",
      " [463]\n",
      " [804]\n",
      " [886]\n",
      " [757]\n",
      " [847]\n",
      " [384]\n",
      " [775]\n",
      " [636]\n",
      " [750]\n",
      " [961]\n",
      " [960]\n",
      " [855]\n",
      " [263]\n",
      " [ 32]\n",
      " [915]\n",
      " [ 51]\n",
      " [771]\n",
      " [800]\n",
      " [203]\n",
      " [694]\n",
      " [776]\n",
      " [345]\n",
      " [298]\n",
      " [408]\n",
      " [870]\n",
      " [819]\n",
      " [299]\n",
      " [462]\n",
      " [302]\n",
      " [ 54]\n",
      " [472]\n",
      " [846]\n",
      " [530]\n",
      " [194]\n",
      " [485]\n",
      " [836]\n",
      " [651]\n",
      " [605]\n",
      " [581]\n",
      " [383]\n",
      " [769]\n",
      " [941]\n",
      " [ 11]\n",
      " [669]\n",
      " [744]\n",
      " [735]\n",
      " [674]\n",
      " [704]\n",
      " [413]\n",
      " [114]\n",
      " [972]\n",
      " [852]\n",
      " [748]\n",
      " [899]\n",
      " [512]\n",
      " [291]\n",
      " [767]\n",
      " [985]\n",
      " [752]\n",
      " [376]\n",
      " [367]\n",
      " [943]\n",
      " [998]\n",
      " [244]\n",
      " [705]\n",
      " [200]\n",
      " [633]\n",
      " [892]\n",
      " [560]\n",
      " [110]\n",
      " [360]\n",
      " [189]\n",
      " [641]\n",
      " [199]\n",
      " [535]\n",
      " [935]\n",
      " [975]\n",
      " [983]\n",
      " [857]\n",
      " [599]\n",
      " [685]\n",
      " [536]\n",
      " [929]\n",
      " [977]\n",
      " [ 77]\n",
      " [785]\n",
      " [174]\n",
      " [338]\n",
      " [233]\n",
      " [275]\n",
      " [216]\n",
      " [932]\n",
      " [970]\n",
      " [715]\n",
      " [618]\n",
      " [652]\n",
      " [912]\n",
      " [665]\n",
      " [264]\n",
      " [675]\n",
      " [724]\n",
      " [270]\n",
      " [659]\n",
      " [570]\n",
      " [494]\n",
      " [663]\n",
      " [ 73]\n",
      " [320]\n",
      " [547]\n",
      " [833]\n",
      " [319]\n",
      " [380]\n",
      " [165]\n",
      " [112]\n",
      " [132]\n",
      " [454]\n",
      " [916]\n",
      " [310]\n",
      " [967]\n",
      " [801]\n",
      " [ 79]\n",
      " [446]\n",
      " [229]\n",
      " [502]\n",
      " [153]\n",
      " [385]\n",
      " [637]\n",
      " [966]\n",
      " [451]\n",
      " [778]\n",
      " [439]\n",
      " [414]\n",
      " [379]\n",
      " [952]\n",
      " [861]\n",
      " [210]\n",
      " [690]\n",
      " [290]\n",
      " [738]\n",
      " [352]\n",
      " [377]\n",
      " [ 18]\n",
      " [844]\n",
      " [939]\n",
      " [653]\n",
      " [430]\n",
      " [292]\n",
      " [541]\n",
      " [774]\n",
      " [992]\n",
      " [445]\n",
      " [104]\n",
      " [259]\n",
      " [850]\n",
      " [133]\n",
      " [ 89]\n",
      " [791]\n",
      " [369]\n",
      " [876]\n",
      " [920]\n",
      " [834]\n",
      " [341]\n",
      " [981]\n",
      " [853]\n",
      " [  8]\n",
      " [366]\n",
      " [440]\n",
      " [497]\n",
      " [926]\n",
      " [797]\n",
      " [192]\n",
      " [245]\n",
      " [188]\n",
      " [702]\n",
      " [974]\n",
      " [386]\n",
      " [ 26]\n",
      " [865]\n",
      " [909]\n",
      " [995]\n",
      " [546]\n",
      " [854]\n",
      " [ 86]\n",
      " [  6]\n",
      " [373]\n",
      " [ 94]\n",
      " [664]\n",
      " [168]\n",
      " [587]\n",
      " [187]\n",
      " [980]\n",
      " [863]\n",
      " [236]\n",
      " [522]\n",
      " [597]\n",
      " [758]\n",
      " [138]\n",
      " [ 48]\n",
      " [718]\n",
      " [517]\n",
      " [215]\n",
      " [ 21]\n",
      " [396]\n",
      " [123]\n",
      " [334]\n",
      " [438]\n",
      " [905]\n",
      " [474]\n",
      " [269]\n",
      " [826]\n",
      " [777]\n",
      " [130]\n",
      " [590]\n",
      " [137]\n",
      " [393]\n",
      " [832]\n",
      " [308]\n",
      " [950]\n",
      " [ 93]\n",
      " [364]\n",
      " [563]\n",
      " [325]\n",
      " [410]\n",
      " [314]\n",
      " [140]\n",
      " [ 36]\n",
      " [252]\n",
      " [955]\n",
      " [796]\n",
      " [151]\n",
      " [ 30]\n",
      " [710]\n",
      " [622]\n",
      " [661]\n",
      " [ 60]\n",
      " [679]\n",
      " [428]\n",
      " [911]\n",
      " [588]\n",
      " [ 64]\n",
      " [696]\n",
      " [906]\n",
      " [894]\n",
      " [883]\n",
      " [476]\n",
      " [375]\n",
      " [806]\n",
      " [519]\n",
      " [344]\n",
      " [ 16]\n",
      " [218]\n",
      " [742]\n",
      " [ 82]\n",
      " [567]\n",
      " [504]\n",
      " [ 45]\n",
      " [523]\n",
      " [347]\n",
      " [521]\n",
      " [873]\n",
      " [402]\n",
      " [953]\n",
      " [309]\n",
      " [726]\n",
      " [261]\n",
      " [443]\n",
      " [991]\n",
      " [913]\n",
      " [ 85]\n",
      " [ 37]\n",
      " [ 74]\n",
      " [930]\n",
      " [534]\n",
      " [ 47]\n",
      " [843]\n",
      " [745]\n",
      " [351]\n",
      " [812]\n",
      " [458]\n",
      " [729]\n",
      " [964]\n",
      " [481]\n",
      " [423]\n",
      " [346]\n",
      " [526]\n",
      " [703]\n",
      " [692]\n",
      " [901]\n",
      " [725]\n",
      " [170]\n",
      " [452]\n",
      " [447]\n",
      " [634]\n",
      " [764]\n",
      " [609]\n",
      " [278]\n",
      " [ 55]\n",
      " [ 99]\n",
      " [697]\n",
      " [565]\n",
      " [183]\n",
      " [249]\n",
      " [ 40]\n",
      " [862]\n",
      " [520]\n",
      " [821]\n",
      " [186]\n",
      " [733]\n",
      " [473]\n",
      " [429]\n",
      " [284]\n",
      " [ 27]\n",
      " [895]\n",
      " [571]\n",
      " [543]\n",
      " [794]\n",
      " [585]\n",
      " [181]\n",
      " [307]\n",
      " [417]\n",
      " [336]\n",
      " [ 81]\n",
      " [509]\n",
      " [511]\n",
      " [492]\n",
      " [717]\n",
      " [606]\n",
      " [755]\n",
      " [594]\n",
      " [824]\n",
      " [829]\n",
      " [426]\n",
      " [ 95]\n",
      " [266]\n",
      " [435]\n",
      " [457]\n",
      " [827]\n",
      " [395]\n",
      " [947]\n",
      " [890]\n",
      " [456]\n",
      " [577]\n",
      " [793]\n",
      " [ 17]\n",
      " [ 80]\n",
      " [ 10]\n",
      " [592]\n",
      " [938]\n",
      " [455]\n",
      " [914]\n",
      " [747]\n",
      " [682]\n",
      " [667]\n",
      " [ 75]\n",
      " [761]\n",
      " [242]\n",
      " [593]\n",
      " [ 84]\n",
      " [162]\n",
      " [227]\n",
      " [766]\n",
      " [191]\n",
      " [248]\n",
      " [781]\n",
      " [226]\n",
      " [987]\n",
      " [487]\n",
      " [683]\n",
      " [936]\n",
      " [ 65]\n",
      " [372]\n",
      " [498]\n",
      " [ 62]\n",
      " [670]\n",
      " [141]\n",
      " [561]\n",
      " [234]\n",
      " [815]\n",
      " [956]\n",
      " [124]\n",
      " [368]\n",
      " [327]\n",
      " [589]\n",
      " [155]\n",
      " [ 41]\n",
      " [348]\n",
      " [608]\n",
      " [260]\n",
      " [569]\n",
      " [698]\n",
      " [658]\n",
      " [391]\n",
      " [180]\n",
      " [407]\n",
      " [262]\n",
      " [  7]\n",
      " [237]\n",
      " [431]\n",
      " [736]\n",
      " [762]\n",
      " [217]\n",
      " [737]\n",
      " [700]\n",
      " [948]\n",
      " [ 52]\n",
      " [858]\n",
      " [896]\n",
      " [875]\n",
      " [559]\n",
      " [374]\n",
      " [807]\n",
      " [ 31]\n",
      " [510]\n",
      " [354]\n",
      " [450]\n",
      " [ 24]\n",
      " [711]\n",
      " [946]\n",
      " [649]\n",
      " [461]\n",
      " [564]\n",
      " [792]\n",
      " [ 59]\n",
      " [691]\n",
      " [ 13]\n",
      " [388]\n",
      " [516]\n",
      " [355]\n",
      " [208]\n",
      " [537]\n",
      " [409]\n",
      " [390]\n",
      " [258]\n",
      " [111]\n",
      " [904]\n",
      " [713]\n",
      " [678]\n",
      " [157]\n",
      " [265]\n",
      " [849]\n",
      " [878]\n",
      " [182]\n",
      " [176]\n",
      " [928]\n",
      " [ 66]\n",
      " [626]\n",
      " [773]\n",
      " [449]\n",
      " [518]\n",
      " [425]\n",
      " [ 90]\n",
      " [841]\n",
      " [131]\n",
      " [756]\n",
      " [330]\n",
      " [544]\n",
      " [172]\n",
      " [126]\n",
      " [ 38]\n",
      " [224]\n",
      " [728]\n",
      " [877]\n",
      " [629]\n",
      " [822]\n",
      " [329]\n",
      " [ 92]\n",
      " [469]\n",
      " [209]\n",
      " [640]\n",
      " [281]\n",
      " [332]\n",
      " [868]\n",
      " [399]\n",
      " [466]\n",
      " [907]\n",
      " [598]\n",
      " [353]\n",
      " [828]\n",
      " [272]\n",
      " [190]\n",
      " [ 28]\n",
      " [988]\n",
      " [891]\n",
      " [753]\n",
      " [465]\n",
      " [910]\n",
      " [798]\n",
      " [  3]\n",
      " [301]\n",
      " [721]\n",
      " [ 56]\n",
      " [631]\n",
      " [118]\n",
      " [996]\n",
      " [650]\n",
      " [312]\n",
      " [954]\n",
      " [293]\n",
      " [542]\n",
      " [646]\n",
      " [ 63]\n",
      " [247]\n",
      " [401]\n",
      " [591]\n",
      " [617]\n",
      " [805]\n",
      " [514]\n",
      " [707]\n",
      " [688]\n",
      " [305]\n",
      " [720]\n",
      " [ 71]\n",
      " [ 70]\n",
      " [490]\n",
      " [668]\n",
      " [630]\n",
      " [315]\n",
      " [427]\n",
      " [999]\n",
      " [483]\n",
      " [164]\n",
      " [942]\n",
      " [120]\n",
      " [311]\n",
      " [303]\n",
      " [304]\n",
      " [864]\n",
      " [211]\n",
      " [102]\n",
      " [238]\n",
      " [645]\n",
      " [689]\n",
      " [117]\n",
      " [595]\n",
      " [316]\n",
      " [202]\n",
      " [ 42]\n",
      " [648]\n",
      " [627]\n",
      " [872]\n",
      " [ 57]\n",
      " [749]\n",
      " [365]\n",
      " [436]\n",
      " [882]\n",
      " [219]\n",
      " [136]\n",
      " [803]\n",
      " [193]\n",
      " [600]\n",
      " [ 12]\n",
      " [789]\n",
      " [681]\n",
      " [434]\n",
      " [ 68]\n",
      " [505]\n",
      " [ 33]\n",
      " [322]\n",
      " [573]\n",
      " [881]\n",
      " [171]\n",
      " [  0]\n",
      " [856]\n",
      " [638]\n",
      " [499]\n",
      " [739]\n",
      " [754]\n",
      " [994]\n",
      " [787]\n",
      " [848]\n",
      " [951]\n",
      " [562]\n",
      " [158]\n",
      " [387]\n",
      " [723]\n",
      " [741]\n",
      " [501]\n",
      " [ 96]\n",
      " [945]\n",
      " [404]\n",
      " [851]\n",
      " [568]\n",
      " [460]\n",
      " [493]\n",
      " [362]\n",
      " [475]\n",
      " [ 53]\n",
      " [160]\n",
      " [337]\n",
      " [686]\n",
      " [179]\n",
      " [699]\n",
      " [296]\n",
      " [459]\n",
      " [232]\n",
      " [335]\n",
      " [495]\n",
      " [135]\n",
      " [687]\n",
      " [643]\n",
      " [831]\n",
      " [412]\n",
      " [712]\n",
      " [908]\n",
      " [ 34]\n",
      " [239]\n",
      " [825]\n",
      " [722]\n",
      " [432]\n",
      " [540]\n",
      " [557]\n",
      " [654]\n",
      " [371]\n",
      " [287]\n",
      " [607]\n",
      " [550]\n",
      " [969]\n",
      " [356]\n",
      " [357]\n",
      " [276]\n",
      " [555]\n",
      " [611]\n",
      " [ 20]\n",
      " [759]\n",
      " [195]\n",
      " [933]\n",
      " [148]\n",
      " [ 23]\n",
      " [197]\n",
      " [839]\n",
      " [984]\n",
      " [235]\n",
      " [837]\n",
      " [175]\n",
      " [108]\n",
      " [508]\n",
      " [860]\n",
      " [869]\n",
      " [866]\n",
      " [746]\n",
      " [381]\n",
      " [147]\n",
      " [786]\n",
      " [297]\n",
      " [ 50]\n",
      " [553]\n",
      " [845]\n",
      " [783]\n",
      " [271]\n",
      " [808]\n",
      " [551]\n",
      " [840]\n",
      " [982]\n",
      " [350]\n",
      " [642]\n",
      " [  2]\n",
      " [444]\n",
      " [944]\n",
      " [113]\n",
      " [471]\n",
      " [394]\n",
      " [959]\n",
      " [671]\n",
      " [251]\n",
      " [156]\n",
      " [820]\n",
      " [572]\n",
      " [810]\n",
      " [177]\n",
      " [411]\n",
      " [ 58]\n",
      " [614]\n",
      " [971]\n",
      " [ 61]\n",
      " [363]\n",
      " [976]\n",
      " [900]\n",
      " [596]\n",
      " [295]\n",
      " [119]\n",
      " [479]\n",
      " [549]\n",
      " [676]\n",
      " [419]\n",
      " [788]\n",
      " [467]\n",
      " [201]\n",
      " [903]\n",
      " [144]\n",
      " [370]\n",
      " [ 15]\n",
      " [924]\n",
      " [339]\n",
      " [814]\n",
      " [125]\n",
      " [129]\n",
      " [ 22]\n",
      " [422]\n",
      " [489]\n",
      " [ 14]\n",
      " [619]\n",
      " [361]\n",
      " [480]\n",
      " [484]\n",
      " [566]\n",
      " [318]\n",
      " [763]\n",
      " [902]\n",
      " [477]\n",
      " [424]\n",
      " [657]\n",
      " [731]\n",
      " [267]\n",
      " [103]\n",
      " [107]\n",
      " [328]\n",
      " [580]]\n"
     ]
    }
   ],
   "source": [
    "print (Y_batch)"
   ]
  },
  {
   "cell_type": "code",
   "execution_count": 20,
   "metadata": {
    "collapsed": false
   },
   "outputs": [
    {
     "name": "stdout",
     "output_type": "stream",
     "text": [
      "{0.0: 50, 1.0: 50, 2.0: 50, 3.0: 50, 4.0: 50, 5.0: 50, 6.0: 50, 7.0: 50, 8.0: 50, 9.0: 50, 10.0: 50, 11.0: 50, 12.0: 50, 13.0: 50, 14.0: 50, 15.0: 50, 16.0: 50, 17.0: 50, 18.0: 50, 19.0: 50, 20.0: 50, 21.0: 50, 22.0: 50, 23.0: 50, 24.0: 50, 25.0: 50, 26.0: 50, 27.0: 50, 28.0: 50, 29.0: 50, 30.0: 50, 31.0: 50, 32.0: 50, 33.0: 50, 34.0: 50, 35.0: 50, 36.0: 50, 37.0: 50, 38.0: 50, 39.0: 50, 40.0: 50, 41.0: 50, 42.0: 50, 43.0: 50, 44.0: 50, 45.0: 50, 46.0: 50, 47.0: 50, 48.0: 50, 49.0: 50, 50.0: 50, 51.0: 50, 52.0: 50, 53.0: 50, 54.0: 50, 55.0: 50, 56.0: 50, 57.0: 50, 58.0: 50, 59.0: 50, 60.0: 50, 61.0: 50, 62.0: 50, 63.0: 50, 64.0: 50, 65.0: 50, 66.0: 50, 67.0: 50, 68.0: 50, 69.0: 50, 70.0: 50, 71.0: 50, 72.0: 50, 73.0: 50, 74.0: 50, 75.0: 50, 76.0: 50, 77.0: 50, 78.0: 50, 79.0: 50, 80.0: 50, 81.0: 50, 82.0: 50, 83.0: 50, 84.0: 50, 85.0: 50, 86.0: 50, 87.0: 50, 88.0: 50, 89.0: 50, 90.0: 50, 91.0: 50, 92.0: 50, 93.0: 50, 94.0: 50, 95.0: 50, 96.0: 50, 97.0: 50, 98.0: 50, 99.0: 50, 100.0: 50, 101.0: 50, 102.0: 50, 103.0: 50, 104.0: 50, 105.0: 50, 106.0: 50, 107.0: 50, 108.0: 50, 109.0: 50, 110.0: 50, 111.0: 50, 112.0: 50, 113.0: 50, 114.0: 50, 115.0: 50, 116.0: 50, 117.0: 50, 118.0: 50, 119.0: 50, 120.0: 50, 121.0: 50, 122.0: 50, 123.0: 50, 124.0: 50, 125.0: 50, 126.0: 50, 127.0: 50, 128.0: 50, 129.0: 50, 130.0: 50, 131.0: 50, 132.0: 50, 133.0: 50, 134.0: 50, 135.0: 50, 136.0: 50, 137.0: 50, 138.0: 50, 139.0: 50, 140.0: 50, 141.0: 50, 142.0: 50, 143.0: 50, 144.0: 50, 145.0: 50, 146.0: 50, 147.0: 50, 148.0: 50, 149.0: 50, 150.0: 50, 151.0: 50, 152.0: 50, 153.0: 50, 154.0: 50, 155.0: 50, 156.0: 50, 157.0: 50, 158.0: 50, 159.0: 50, 160.0: 50, 161.0: 50, 162.0: 50, 163.0: 50, 164.0: 50, 165.0: 50, 166.0: 50, 167.0: 50, 168.0: 50, 169.0: 50, 170.0: 50, 171.0: 50, 172.0: 50, 173.0: 50, 174.0: 50, 175.0: 50, 176.0: 50, 177.0: 50, 178.0: 50, 179.0: 50, 180.0: 50, 181.0: 50, 182.0: 50, 183.0: 50, 184.0: 50, 185.0: 50, 186.0: 50, 187.0: 50, 188.0: 50, 189.0: 50, 190.0: 50, 191.0: 50, 192.0: 50, 193.0: 50, 194.0: 50, 195.0: 50, 196.0: 50, 197.0: 50, 198.0: 50, 199.0: 50, 200.0: 50, 201.0: 50, 202.0: 50, 203.0: 50, 204.0: 50, 205.0: 50, 206.0: 50, 207.0: 50, 208.0: 50, 209.0: 50, 210.0: 50, 211.0: 50, 212.0: 50, 213.0: 50, 214.0: 50, 215.0: 50, 216.0: 50, 217.0: 50, 218.0: 50, 219.0: 50, 220.0: 50, 221.0: 50, 222.0: 50, 223.0: 50, 224.0: 50, 225.0: 50, 226.0: 50, 227.0: 50, 228.0: 50, 229.0: 50, 230.0: 50, 231.0: 50, 232.0: 50, 233.0: 50, 234.0: 50, 235.0: 50, 236.0: 50, 237.0: 50, 238.0: 50, 239.0: 50, 240.0: 50, 241.0: 50, 242.0: 50, 243.0: 50, 244.0: 50, 245.0: 50, 246.0: 50, 247.0: 50, 248.0: 50, 249.0: 50, 250.0: 50, 251.0: 50, 252.0: 50, 253.0: 50, 254.0: 50, 255.0: 50, 256.0: 50, 257.0: 50, 258.0: 50, 259.0: 50, 260.0: 50, 261.0: 50, 262.0: 50, 263.0: 50, 264.0: 50, 265.0: 50, 266.0: 50, 267.0: 50, 268.0: 50, 269.0: 50, 270.0: 50, 271.0: 50, 272.0: 50, 273.0: 50, 274.0: 50, 275.0: 50, 276.0: 50, 277.0: 50, 278.0: 50, 279.0: 50, 280.0: 50, 281.0: 50, 282.0: 50, 283.0: 50, 284.0: 50, 285.0: 50, 286.0: 50, 287.0: 50, 288.0: 50, 289.0: 50, 290.0: 50, 291.0: 50, 292.0: 50, 293.0: 50, 294.0: 50, 295.0: 50, 296.0: 50, 297.0: 50, 298.0: 50, 299.0: 50, 300.0: 50, 301.0: 50, 302.0: 50, 303.0: 50, 304.0: 50, 305.0: 50, 306.0: 50, 307.0: 50, 308.0: 50, 309.0: 50, 310.0: 50, 311.0: 50, 312.0: 50, 313.0: 50, 314.0: 50, 315.0: 50, 316.0: 50, 317.0: 50, 318.0: 50, 319.0: 50, 320.0: 50, 321.0: 50, 322.0: 50, 323.0: 50, 324.0: 50, 325.0: 50, 326.0: 50, 327.0: 50, 328.0: 50, 329.0: 50, 330.0: 50, 331.0: 50, 332.0: 50, 333.0: 50, 334.0: 50, 335.0: 50, 336.0: 50, 337.0: 50, 338.0: 50, 339.0: 50, 340.0: 50, 341.0: 50, 342.0: 50, 343.0: 50, 344.0: 50, 345.0: 50, 346.0: 50, 347.0: 50, 348.0: 50, 349.0: 50, 350.0: 50, 351.0: 50, 352.0: 50, 353.0: 50, 354.0: 50, 355.0: 50, 356.0: 50, 357.0: 50, 358.0: 50, 359.0: 50, 360.0: 50, 361.0: 50, 362.0: 50, 363.0: 50, 364.0: 50, 365.0: 50, 366.0: 50, 367.0: 50, 368.0: 50, 369.0: 50, 370.0: 50, 371.0: 50, 372.0: 50, 373.0: 50, 374.0: 50, 375.0: 50, 376.0: 50, 377.0: 50, 378.0: 50, 379.0: 50, 380.0: 50, 381.0: 50, 382.0: 50, 383.0: 50, 384.0: 50, 385.0: 50, 386.0: 50, 387.0: 50, 388.0: 50, 389.0: 50, 390.0: 50, 391.0: 50, 392.0: 50, 393.0: 50, 394.0: 50, 395.0: 50, 396.0: 50, 397.0: 50, 398.0: 50, 399.0: 50, 400.0: 50, 401.0: 50, 402.0: 50, 403.0: 50, 404.0: 50, 405.0: 50, 406.0: 50, 407.0: 50, 408.0: 50, 409.0: 50, 410.0: 50, 411.0: 50, 412.0: 50, 413.0: 50, 414.0: 50, 415.0: 50, 416.0: 50, 417.0: 50, 418.0: 50, 419.0: 50, 420.0: 50, 421.0: 50, 422.0: 50, 423.0: 50, 424.0: 50, 425.0: 50, 426.0: 50, 427.0: 50, 428.0: 50, 429.0: 50, 430.0: 50, 431.0: 50, 432.0: 50, 433.0: 50, 434.0: 50, 435.0: 50, 436.0: 50, 437.0: 50, 438.0: 50, 439.0: 50, 440.0: 50, 441.0: 50, 442.0: 50, 443.0: 50, 444.0: 50, 445.0: 50, 446.0: 50, 447.0: 50, 448.0: 50, 449.0: 50, 450.0: 50, 451.0: 50, 452.0: 50, 453.0: 50, 454.0: 50, 455.0: 50, 456.0: 50, 457.0: 50, 458.0: 50, 459.0: 50, 460.0: 50, 461.0: 50, 462.0: 50, 463.0: 50, 464.0: 50, 465.0: 50, 466.0: 50, 467.0: 50, 468.0: 50, 469.0: 50, 470.0: 50, 471.0: 50, 472.0: 50, 473.0: 50, 474.0: 50, 475.0: 50, 476.0: 50, 477.0: 50, 478.0: 50, 479.0: 50, 480.0: 50, 481.0: 50, 482.0: 50, 483.0: 50, 484.0: 50, 485.0: 50, 486.0: 50, 487.0: 50, 488.0: 50, 489.0: 50, 490.0: 50, 491.0: 50, 492.0: 50, 493.0: 50, 494.0: 50, 495.0: 50, 496.0: 50, 497.0: 50, 498.0: 50, 499.0: 50, 500.0: 50, 501.0: 50, 502.0: 50, 503.0: 50, 504.0: 50, 505.0: 50, 506.0: 50, 507.0: 50, 508.0: 50, 509.0: 50, 510.0: 50, 511.0: 50, 512.0: 50, 513.0: 50, 514.0: 50, 515.0: 50, 516.0: 50, 517.0: 50, 518.0: 50, 519.0: 50, 520.0: 50, 521.0: 50, 522.0: 50, 523.0: 50, 524.0: 50, 525.0: 50, 526.0: 50, 527.0: 50, 528.0: 50, 529.0: 50, 530.0: 50, 531.0: 50, 532.0: 50, 533.0: 50, 534.0: 50, 535.0: 50, 536.0: 50, 537.0: 50, 538.0: 50, 539.0: 50, 540.0: 50, 541.0: 50, 542.0: 50, 543.0: 50, 544.0: 50, 545.0: 50, 546.0: 50, 547.0: 50, 548.0: 50, 549.0: 50, 550.0: 50, 551.0: 50, 552.0: 50, 553.0: 50, 554.0: 50, 555.0: 50, 556.0: 50, 557.0: 50, 558.0: 50, 559.0: 50, 560.0: 50, 561.0: 50, 562.0: 50, 563.0: 50, 564.0: 50, 565.0: 50, 566.0: 50, 567.0: 50, 568.0: 50, 569.0: 50, 570.0: 50, 571.0: 50, 572.0: 50, 573.0: 50, 574.0: 50, 575.0: 50, 576.0: 50, 577.0: 50, 578.0: 50, 579.0: 50, 580.0: 50, 581.0: 50, 582.0: 50, 583.0: 50, 584.0: 50, 585.0: 50, 586.0: 50, 587.0: 50, 588.0: 50, 589.0: 50, 590.0: 50, 591.0: 50, 592.0: 50, 593.0: 50, 594.0: 50, 595.0: 50, 596.0: 50, 597.0: 50, 598.0: 50, 599.0: 50, 600.0: 50, 601.0: 50, 602.0: 50, 603.0: 50, 604.0: 50, 605.0: 50, 606.0: 50, 607.0: 50, 608.0: 50, 609.0: 50, 610.0: 50, 611.0: 50, 612.0: 50, 613.0: 50, 614.0: 50, 615.0: 50, 616.0: 50, 617.0: 50, 618.0: 50, 619.0: 50, 620.0: 50, 621.0: 50, 622.0: 50, 623.0: 50, 624.0: 50, 625.0: 50, 626.0: 50, 627.0: 50, 628.0: 50, 629.0: 50, 630.0: 50, 631.0: 50, 632.0: 50, 633.0: 50, 634.0: 50, 635.0: 50, 636.0: 50, 637.0: 50, 638.0: 50, 639.0: 50, 640.0: 50, 641.0: 50, 642.0: 50, 643.0: 50, 644.0: 50, 645.0: 50, 646.0: 50, 647.0: 50, 648.0: 50, 649.0: 50, 650.0: 50, 651.0: 50, 652.0: 50, 653.0: 50, 654.0: 50, 655.0: 50, 656.0: 50, 657.0: 50, 658.0: 50, 659.0: 50, 660.0: 50, 661.0: 50, 662.0: 50, 663.0: 50, 664.0: 50, 665.0: 50, 666.0: 50, 667.0: 50, 668.0: 50, 669.0: 50, 670.0: 50, 671.0: 50, 672.0: 50, 673.0: 50, 674.0: 50, 675.0: 50, 676.0: 50, 677.0: 50, 678.0: 50, 679.0: 50, 680.0: 50, 681.0: 50, 682.0: 50, 683.0: 50, 684.0: 50, 685.0: 50, 686.0: 50, 687.0: 50, 688.0: 50, 689.0: 50, 690.0: 50, 691.0: 50, 692.0: 50, 693.0: 50, 694.0: 50, 695.0: 50, 696.0: 50, 697.0: 50, 698.0: 50, 699.0: 50, 700.0: 50, 701.0: 50, 702.0: 50, 703.0: 50, 704.0: 50, 705.0: 50, 706.0: 50, 707.0: 50, 708.0: 50, 709.0: 50, 710.0: 50, 711.0: 50, 712.0: 50, 713.0: 50, 714.0: 50, 715.0: 50, 716.0: 50, 717.0: 50, 718.0: 50, 719.0: 50, 720.0: 50, 721.0: 50, 722.0: 50, 723.0: 50, 724.0: 50, 725.0: 50, 726.0: 50, 727.0: 50, 728.0: 50, 729.0: 50, 730.0: 50, 731.0: 50, 732.0: 50, 733.0: 50, 734.0: 50, 735.0: 50, 736.0: 50, 737.0: 50, 738.0: 50, 739.0: 50, 740.0: 50, 741.0: 50, 742.0: 50, 743.0: 50, 744.0: 50, 745.0: 50, 746.0: 50, 747.0: 50, 748.0: 50, 749.0: 50, 750.0: 50, 751.0: 50, 752.0: 50, 753.0: 50, 754.0: 50, 755.0: 50, 756.0: 50, 757.0: 50, 758.0: 50, 759.0: 50, 760.0: 50, 761.0: 50, 762.0: 50, 763.0: 50, 764.0: 50, 765.0: 50, 766.0: 50, 767.0: 50, 768.0: 50, 769.0: 50, 770.0: 50, 771.0: 50, 772.0: 50, 773.0: 50, 774.0: 50, 775.0: 50, 776.0: 50, 777.0: 50, 778.0: 50, 779.0: 50, 780.0: 50, 781.0: 50, 782.0: 50, 783.0: 50, 784.0: 50, 785.0: 50, 786.0: 50, 787.0: 50, 788.0: 50, 789.0: 50, 790.0: 50, 791.0: 50, 792.0: 50, 793.0: 50, 794.0: 50, 795.0: 50, 796.0: 50, 797.0: 50, 798.0: 50, 799.0: 50, 800.0: 50, 801.0: 50, 802.0: 50, 803.0: 50, 804.0: 50, 805.0: 50, 806.0: 50, 807.0: 50, 808.0: 50, 809.0: 50, 810.0: 50, 811.0: 50, 812.0: 50, 813.0: 50, 814.0: 50, 815.0: 50, 816.0: 50, 817.0: 50, 818.0: 50, 819.0: 50, 820.0: 50, 821.0: 50, 822.0: 50, 823.0: 50, 824.0: 50, 825.0: 50, 826.0: 50, 827.0: 50, 828.0: 50, 829.0: 50, 830.0: 50, 831.0: 50, 832.0: 50, 833.0: 50, 834.0: 50, 835.0: 50, 836.0: 50, 837.0: 50, 838.0: 50, 839.0: 50, 840.0: 50, 841.0: 50, 842.0: 50, 843.0: 50, 844.0: 50, 845.0: 50, 846.0: 50, 847.0: 50, 848.0: 50, 849.0: 50, 850.0: 50, 851.0: 50, 852.0: 50, 853.0: 50, 854.0: 50, 855.0: 50, 856.0: 50, 857.0: 50, 858.0: 50, 859.0: 50, 860.0: 50, 861.0: 50, 862.0: 50, 863.0: 50, 864.0: 50, 865.0: 50, 866.0: 50, 867.0: 50, 868.0: 50, 869.0: 50, 870.0: 50, 871.0: 50, 872.0: 50, 873.0: 50, 874.0: 50, 875.0: 50, 876.0: 50, 877.0: 50, 878.0: 50, 879.0: 50, 880.0: 50, 881.0: 50, 882.0: 50, 883.0: 50, 884.0: 50, 885.0: 50, 886.0: 50, 887.0: 50, 888.0: 50, 889.0: 50, 890.0: 50, 891.0: 50, 892.0: 50, 893.0: 50, 894.0: 50, 895.0: 50, 896.0: 50, 897.0: 50, 898.0: 50, 899.0: 50, 900.0: 50, 901.0: 50, 902.0: 50, 903.0: 50, 904.0: 50, 905.0: 50, 906.0: 50, 907.0: 50, 908.0: 50, 909.0: 50, 910.0: 50, 911.0: 50, 912.0: 50, 913.0: 50, 914.0: 50, 915.0: 50, 916.0: 50, 917.0: 50, 918.0: 50, 919.0: 50, 920.0: 50, 921.0: 50, 922.0: 50, 923.0: 50, 924.0: 50, 925.0: 50, 926.0: 50, 927.0: 50, 928.0: 50, 929.0: 50, 930.0: 50, 931.0: 50, 932.0: 50, 933.0: 50, 934.0: 50, 935.0: 50, 936.0: 50, 937.0: 50, 938.0: 50, 939.0: 50, 940.0: 50, 941.0: 50, 942.0: 50, 943.0: 50, 944.0: 50, 945.0: 50, 946.0: 50, 947.0: 50, 948.0: 50, 949.0: 50, 950.0: 50, 951.0: 50, 952.0: 50, 953.0: 50, 954.0: 50, 955.0: 50, 956.0: 50, 957.0: 50, 958.0: 50, 959.0: 50, 960.0: 50, 961.0: 50, 962.0: 50, 963.0: 50, 964.0: 50, 965.0: 50, 966.0: 50, 967.0: 50, 968.0: 50, 969.0: 50, 970.0: 50, 971.0: 50, 972.0: 50, 973.0: 50, 974.0: 50, 975.0: 50, 976.0: 50, 977.0: 50, 978.0: 50, 979.0: 50, 980.0: 50, 981.0: 50, 982.0: 50, 983.0: 50, 984.0: 50, 985.0: 50, 986.0: 50, 987.0: 50, 988.0: 50, 989.0: 50, 990.0: 50, 991.0: 50, 992.0: 50, 993.0: 50, 994.0: 50, 995.0: 50, 996.0: 50, 997.0: 50, 998.0: 50, 999.0: 50}\n"
     ]
    }
   ],
   "source": [
    "unique, counts = numpy.unique(generated_labels, return_counts=True)\n",
    "print (dict(zip(unique, counts)))"
   ]
  },
  {
   "cell_type": "code",
   "execution_count": 21,
   "metadata": {
    "collapsed": false
   },
   "outputs": [],
   "source": [
    "generated_labels = np_utils.to_categorical(generated_labels, no_of_surrogate_classes)"
   ]
  },
  {
   "cell_type": "code",
   "execution_count": 22,
   "metadata": {
    "collapsed": false
   },
   "outputs": [
    {
     "name": "stdout",
     "output_type": "stream",
     "text": [
      "(50000, 3, 32, 32)\n",
      "(50000, 1000)\n"
     ]
    }
   ],
   "source": [
    "print (generated_images.shape)\n",
    "print (generated_labels.shape)"
   ]
  },
  {
   "cell_type": "code",
   "execution_count": 23,
   "metadata": {
    "collapsed": false
   },
   "outputs": [],
   "source": [
    "from sklearn.model_selection import train_test_split\n",
    "generated_images_train, generated_images_val, generated_labels_train, generated_labels_val = \\\n",
    "train_test_split(generated_images,generated_labels,test_size=0.1, random_state=42)"
   ]
  },
  {
   "cell_type": "code",
   "execution_count": 24,
   "metadata": {
    "collapsed": false
   },
   "outputs": [
    {
     "name": "stdout",
     "output_type": "stream",
     "text": [
      "(45000, 3, 32, 32)\n",
      "(45000, 1000)\n",
      "(5000, 3, 32, 32)\n",
      "(5000, 1000)\n"
     ]
    }
   ],
   "source": [
    "print (generated_images_train.shape)\n",
    "print (generated_labels_train.shape)\n",
    "print (generated_images_val.shape)\n",
    "print (generated_labels_val.shape)"
   ]
  },
  {
   "cell_type": "code",
   "execution_count": null,
   "metadata": {
    "collapsed": true
   },
   "outputs": [],
   "source": []
  },
  {
   "cell_type": "code",
   "execution_count": 32,
   "metadata": {
    "collapsed": false
   },
   "outputs": [
    {
     "ename": "IndexError",
     "evalue": "index 18000 is out of bounds for axis 0 with size 18000",
     "output_type": "error",
     "traceback": [
      "\u001b[1;31m---------------------------------------------------------------------------\u001b[0m",
      "\u001b[1;31mIndexError\u001b[0m                                Traceback (most recent call last)",
      "\u001b[1;32m<ipython-input-32-ec83044fd8f5>\u001b[0m in \u001b[0;36m<module>\u001b[1;34m()\u001b[0m\n\u001b[0;32m     21\u001b[0m \u001b[1;33m\u001b[0m\u001b[0m\n\u001b[0;32m     22\u001b[0m \u001b[1;32mfor\u001b[0m \u001b[0mi\u001b[0m \u001b[1;32min\u001b[0m \u001b[0mrange\u001b[0m\u001b[1;33m(\u001b[0m\u001b[0mn\u001b[0m\u001b[1;33m)\u001b[0m\u001b[1;33m:\u001b[0m\u001b[1;33m\u001b[0m\u001b[0m\n\u001b[1;32m---> 23\u001b[1;33m     \u001b[1;32mif\u001b[0m \u001b[0mnp\u001b[0m\u001b[1;33m.\u001b[0m\u001b[0margmax\u001b[0m\u001b[1;33m(\u001b[0m\u001b[0mgenerated_labels_train\u001b[0m\u001b[1;33m[\u001b[0m\u001b[0mi\u001b[0m\u001b[1;33m]\u001b[0m\u001b[1;33m)\u001b[0m \u001b[1;33m==\u001b[0m \u001b[1;36m1\u001b[0m\u001b[1;33m:\u001b[0m\u001b[1;33m\u001b[0m\u001b[0m\n\u001b[0m\u001b[0;32m     24\u001b[0m         \u001b[0maxs\u001b[0m\u001b[1;33m[\u001b[0m\u001b[0mr\u001b[0m\u001b[1;33m,\u001b[0m \u001b[0mc\u001b[0m\u001b[1;33m]\u001b[0m\u001b[1;33m.\u001b[0m\u001b[0mimshow\u001b[0m\u001b[1;33m(\u001b[0m\u001b[0mImage\u001b[0m\u001b[1;33m.\u001b[0m\u001b[0mfromarray\u001b[0m\u001b[1;33m(\u001b[0m\u001b[0mimage\u001b[0m\u001b[1;33m[\u001b[0m\u001b[0mi\u001b[0m\u001b[1;33m]\u001b[0m\u001b[1;33m.\u001b[0m\u001b[0mastype\u001b[0m\u001b[1;33m(\u001b[0m\u001b[0mnp\u001b[0m\u001b[1;33m.\u001b[0m\u001b[0muint8\u001b[0m\u001b[1;33m)\u001b[0m\u001b[1;33m)\u001b[0m\u001b[1;33m)\u001b[0m\u001b[1;33m\u001b[0m\u001b[0m\n\u001b[0;32m     25\u001b[0m         \u001b[0maxs\u001b[0m\u001b[1;33m[\u001b[0m\u001b[0mr\u001b[0m\u001b[1;33m,\u001b[0m \u001b[0mc\u001b[0m\u001b[1;33m]\u001b[0m\u001b[1;33m.\u001b[0m\u001b[0mset_title\u001b[0m\u001b[1;33m(\u001b[0m\u001b[0mnp\u001b[0m\u001b[1;33m.\u001b[0m\u001b[0margmax\u001b[0m\u001b[1;33m(\u001b[0m\u001b[0mgenerated_labels_train\u001b[0m\u001b[1;33m[\u001b[0m\u001b[0mi\u001b[0m\u001b[1;33m]\u001b[0m\u001b[1;33m)\u001b[0m\u001b[1;33m)\u001b[0m\u001b[1;33m\u001b[0m\u001b[0m\n",
      "\u001b[1;31mIndexError\u001b[0m: index 18000 is out of bounds for axis 0 with size 18000"
     ]
    },
    {
     "data": {
      "image/png": "[encoded data removed]",
      "text/plain": [
       "<matplotlib.figure.Figure at 0x7effe5842b00>"
      ]
     },
     "metadata": {},
     "output_type": "display_data"
    }
   ],
   "source": [
    "%matplotlib inline\n",
    "\n",
    "import matplotlib.pyplot as plt\n",
    "\n",
    "n = 54000  # how many digits we will display\n",
    "rows=20\n",
    "columns=10\n",
    "fig, axs = plt.subplots(rows,columns,figsize=(20, 22))\n",
    "\n",
    "#plt.gray()\n",
    "#fig.subplots_adjust(hspace = .5, wspace=.001)\n",
    "\n",
    "#for r in range(rows):\n",
    "r=0\n",
    "c=0\n",
    "\n",
    "image = generated_images_train.reshape(generated_images_train.shape[0], 3, 32, 32).transpose(0,2,3,1)\n",
    "#image = image*127.5+127.5\n",
    "image = image*255\n",
    "\n",
    "\n",
    "for i in range(n):\n",
    "    if np.argmax(generated_labels_train[i]) == 1:\n",
    "        axs[r, c].imshow(Image.fromarray(image[i].astype(np.uint8)))\n",
    "        axs[r, c].set_title(np.argmax(generated_labels_train[i]))\n",
    "        axs[r, c].get_xaxis().set_visible(False)\n",
    "        axs[r, c].get_yaxis().set_visible(False)\n",
    "        #print (r,c)\n",
    "        c=c+1\n",
    "        if c==10:\n",
    "            #print ('breaking to next row')\n",
    "            r=r+1\n",
    "            c=0\n",
    "\n",
    "plt.show()\n"
   ]
  },
  {
   "cell_type": "code",
   "execution_count": 25,
   "metadata": {
    "collapsed": true
   },
   "outputs": [],
   "source": [
    "unsup_feature_layers = [\n",
    "    Convolution2D(32,3, 3, border_mode='same',input_shape=(3, 32, 32), activation='relu'),\n",
    "    Convolution2D(32,3, 3, border_mode='same',activation='relu'),\n",
    "    MaxPooling2D(pool_size=(2,2)),\n",
    "    BatchNormalization(),\n",
    "    Dropout(0.25),\n",
    "    Convolution2D(64,3, 3, border_mode='same',activation='relu'),\n",
    "    Convolution2D(64,3, 3, border_mode='same',activation='relu'),\n",
    "    MaxPooling2D(pool_size=(2,2)),\n",
    "    BatchNormalization(),\n",
    "    Dropout(0.25),\n",
    "    Convolution2D(86,3, 3, border_mode='same',activation='relu'),\n",
    "    Convolution2D(86,3, 3, border_mode='same',activation='relu'),\n",
    "    MaxPooling2D(pool_size=(2,2)),\n",
    "    BatchNormalization(),\n",
    "    Dropout (0.25),\n",
    "    Flatten(),\n",
    "    Dense(1024, activation = \"relu\"),\n",
    "    Dropout(0.5),\n",
    "    Dense(512, activation = \"relu\")\n",
    "    #Dense(512, activation = \"relu\"),   \n",
    "    #Dense(256, W_regularizer=keras.regularizers.l2(0.01)),\n",
    "    #Activation('sigmoid')  \n",
    "]\n",
    "# try spliting to feature layers, a encoder layer and a classification layer\n",
    "# havings sigmoid in between is killing the calssification accuracy\n",
    "# in version 2 - a relu layer before softmax is performing beutifully well\n",
    "unsup_classification_layers = [\n",
    "    Dense(no_of_surrogate_classes, activation='softmax', W_regularizer=keras.regularizers.l2(0.01), name='fc_layer2')\n",
    "]"
   ]
  },
  {
   "cell_type": "code",
   "execution_count": 26,
   "metadata": {
    "collapsed": true
   },
   "outputs": [],
   "source": [
    "#print model.summary()\n",
    "\n",
    "unsupmodel = Sequential(unsup_feature_layers + unsup_classification_layers)\n"
   ]
  },
  {
   "cell_type": "markdown",
   "metadata": {
    "collapsed": true
   },
   "source": [
    "#Set the CNN model for Unsupervised training\n",
    "unsupmodel = Sequential()\n",
    "#model.add(Conv2D(filters = 32, kernel_size = (3,3),padding = 'Same', \n",
    "                 # activation ='relu', input_shape = (32,32,3)))\n",
    "unsupmodel.add(Convolution2D(32,3, 3, border_mode='same',input_shape=(3, 32, 32), activation='relu'))\n",
    "\n",
    "#model.add(Conv2D(filters = 32, kernel_size = (3,3),padding = 'Same', activation ='relu'))\n",
    "unsupmodel.add(Convolution2D(32,3, 3, border_mode='same',activation='relu'))\n",
    "unsupmodel.add(MaxPooling2D(pool_size=(2,2)))\n",
    "unsupmodel.add(BatchNormalization())\n",
    "unsupmodel.add(Dropout(0.25))\n",
    "\n",
    "\n",
    "#model.add(Conv2D(filters = 64, kernel_size = (3,3),padding = 'Same', \n",
    "#                 activation ='relu'))\n",
    "unsupmodel.add(Convolution2D(64,3, 3, border_mode='same',activation='relu'))\n",
    "\n",
    "#model.add(Conv2D(filters = 64, kernel_size = (3,3),padding = 'Same', \n",
    "#                 activation ='relu'))\n",
    "\n",
    "unsupmodel.add(Convolution2D(64,3, 3, border_mode='same',activation='relu'))\n",
    "\n",
    "unsupmodel.add(MaxPooling2D(pool_size=(2,2)))\n",
    "unsupmodel.add(BatchNormalization())\n",
    "unsupmodel.add(Dropout(0.25))\n",
    "\n",
    "#model.add(Conv2D(filters = 86, kernel_size = (3,3),padding = 'Same', \n",
    "#                 activation ='relu'))\n",
    "unsupmodel.add(Convolution2D(86,3, 3, border_mode='same',activation='relu'))\n",
    "\n",
    "\n",
    "#model.add(Conv2D(filters = 86, kernel_size = (3,3),padding = 'Same', \n",
    "#                 activation ='relu'))\n",
    "unsupmodel.add(Convolution2D(86,3, 3, border_mode='same',activation='relu'))\n",
    "\n",
    "unsupmodel.add(MaxPooling2D(pool_size=(2,2)))\n",
    "unsupmodel.add(BatchNormalization())\n",
    "unsupmodel.add(Dropout(0.25))\n",
    "\n",
    "\n",
    "unsupmodel.add(Flatten())\n",
    "unsupmodel.add(Dense(1024, activation = \"relu\"))\n",
    "unsupmodel.add(Dropout(0.5))\n",
    "unsupmodel.add(Dense(512, activation = \"relu\"))\n",
    "unsupmodel.add(Dense(no_of_surrogate_classes, activation = \"softmax\"))"
   ]
  },
  {
   "cell_type": "code",
   "execution_count": 27,
   "metadata": {
    "collapsed": false
   },
   "outputs": [],
   "source": [
    "from keras.optimizers import RMSprop\n",
    "\n",
    "# Define the optimizer\n",
    "optimizer = RMSprop(lr=0.001, decay=1e-6)"
   ]
  },
  {
   "cell_type": "code",
   "execution_count": 28,
   "metadata": {
    "collapsed": true
   },
   "outputs": [],
   "source": [
    "# Compile the model\n",
    "unsupmodel.compile(optimizer = optimizer , loss = \"categorical_crossentropy\", metrics=[\"accuracy\"])"
   ]
  },
  {
   "cell_type": "code",
   "execution_count": 29,
   "metadata": {
    "collapsed": false
   },
   "outputs": [
    {
     "name": "stdout",
     "output_type": "stream",
     "text": [
      "____________________________________________________________________________________________________\n",
      "Layer (type)                     Output Shape          Param #     Connected to                     \n",
      "====================================================================================================\n",
      "convolution2d_1 (Convolution2D)  (None, 32, 32, 32)    896         convolution2d_input_1[0][0]      \n",
      "____________________________________________________________________________________________________\n",
      "convolution2d_2 (Convolution2D)  (None, 32, 32, 32)    9248        convolution2d_1[0][0]            \n",
      "____________________________________________________________________________________________________\n",
      "maxpooling2d_1 (MaxPooling2D)    (None, 32, 16, 16)    0           convolution2d_2[0][0]            \n",
      "____________________________________________________________________________________________________\n",
      "batchnormalization_1 (BatchNorma (None, 32, 16, 16)    64          maxpooling2d_1[0][0]             \n",
      "____________________________________________________________________________________________________\n",
      "dropout_1 (Dropout)              (None, 32, 16, 16)    0           batchnormalization_1[0][0]       \n",
      "____________________________________________________________________________________________________\n",
      "convolution2d_3 (Convolution2D)  (None, 64, 16, 16)    18496       dropout_1[0][0]                  \n",
      "____________________________________________________________________________________________________\n",
      "convolution2d_4 (Convolution2D)  (None, 64, 16, 16)    36928       convolution2d_3[0][0]            \n",
      "____________________________________________________________________________________________________\n",
      "maxpooling2d_2 (MaxPooling2D)    (None, 64, 8, 8)      0           convolution2d_4[0][0]            \n",
      "____________________________________________________________________________________________________\n",
      "batchnormalization_2 (BatchNorma (None, 64, 8, 8)      32          maxpooling2d_2[0][0]             \n",
      "____________________________________________________________________________________________________\n",
      "dropout_2 (Dropout)              (None, 64, 8, 8)      0           batchnormalization_2[0][0]       \n",
      "____________________________________________________________________________________________________\n",
      "convolution2d_5 (Convolution2D)  (None, 86, 8, 8)      49622       dropout_2[0][0]                  \n",
      "____________________________________________________________________________________________________\n",
      "convolution2d_6 (Convolution2D)  (None, 86, 8, 8)      66650       convolution2d_5[0][0]            \n",
      "____________________________________________________________________________________________________\n",
      "maxpooling2d_3 (MaxPooling2D)    (None, 86, 4, 4)      0           convolution2d_6[0][0]            \n",
      "____________________________________________________________________________________________________\n",
      "batchnormalization_3 (BatchNorma (None, 86, 4, 4)      16          maxpooling2d_3[0][0]             \n",
      "____________________________________________________________________________________________________\n",
      "dropout_3 (Dropout)              (None, 86, 4, 4)      0           batchnormalization_3[0][0]       \n",
      "____________________________________________________________________________________________________\n",
      "flatten_1 (Flatten)              (None, 1376)          0           dropout_3[0][0]                  \n",
      "____________________________________________________________________________________________________\n",
      "dense_1 (Dense)                  (None, 1024)          1410048     flatten_1[0][0]                  \n",
      "____________________________________________________________________________________________________\n",
      "dropout_4 (Dropout)              (None, 1024)          0           dense_1[0][0]                    \n",
      "____________________________________________________________________________________________________\n",
      "dense_2 (Dense)                  (None, 512)           524800      dropout_4[0][0]                  \n",
      "____________________________________________________________________________________________________\n",
      "fc_layer2 (Dense)                (None, 1000)          513000      dense_2[0][0]                    \n",
      "====================================================================================================\n",
      "Total params: 2,629,800\n",
      "Trainable params: 2,629,744\n",
      "Non-trainable params: 56\n",
      "____________________________________________________________________________________________________\n"
     ]
    }
   ],
   "source": [
    "unsupmodel.summary()"
   ]
  },
  {
   "cell_type": "code",
   "execution_count": 30,
   "metadata": {
    "collapsed": true
   },
   "outputs": [],
   "source": [
    "# Set a learning_rate annealer\n",
    "learning_rate_reduction = ReduceLROnPlateau(monitor='val_acc', \n",
    "                                            patience=3, \n",
    "                                            verbose=1, \n",
    "                                            factor=0.5, \n",
    "                                            min_lr=0.00001)"
   ]
  },
  {
   "cell_type": "code",
   "execution_count": 31,
   "metadata": {
    "collapsed": false
   },
   "outputs": [
    {
     "name": "stdout",
     "output_type": "stream",
     "text": [
      "weights_CIFAR10-ExemplarMethod-Semi_Supervised_Ver3.2_epoch_20_batch_128.h5\n"
     ]
    }
   ],
   "source": [
    "nb_epochs=20\n",
    "batch_size = 128\n",
    "kfold_weights_path = os.path.join('weights_' +  'CIFAR10-ExemplarMethod-Semi_Supervised_Ver3.2' +\n",
    "                                  '_epoch_'+str(nb_epochs)+\n",
    "                                  '_batch_'+str(batch_size)\n",
    "                                  +'.h5')\n",
    "print(kfold_weights_path)"
   ]
  },
  {
   "cell_type": "code",
   "execution_count": 32,
   "metadata": {
    "collapsed": false
   },
   "outputs": [
    {
     "data": {
      "text/plain": [
       "True"
      ]
     },
     "execution_count": 32,
     "metadata": {},
     "output_type": "execute_result"
    }
   ],
   "source": [
    "os.path.isfile(kfold_weights_path)"
   ]
  },
  {
   "cell_type": "code",
   "execution_count": 33,
   "metadata": {
    "collapsed": false
   },
   "outputs": [
    {
     "name": "stdout",
     "output_type": "stream",
     "text": [
      "Loading already stored weights...\n"
     ]
    }
   ],
   "source": [
    "# Some transfer learning\n",
    "if os.path.isfile(kfold_weights_path):\n",
    "    print ('Loading already stored weights...')\n",
    "    unsupmodel.load_weights(kfold_weights_path)\n",
    "else:\n",
    "    print ('Training for the first time...')\n",
    "    "
   ]
  },
  {
   "cell_type": "code",
   "execution_count": 34,
   "metadata": {
    "collapsed": true
   },
   "outputs": [],
   "source": [
    "nb_epochs=2"
   ]
  },
  {
   "cell_type": "code",
   "execution_count": 34,
   "metadata": {
    "collapsed": false
   },
   "outputs": [
    {
     "name": "stdout",
     "output_type": "stream",
     "text": [
      "Train on 45000 samples, validate on 5000 samples\n",
      "Epoch 1/20\n",
      "44928/45000 [============================>.] - ETA: 0s - loss: 0.7887 - acc: 0.8787Epoch 00000: val_loss improved from inf to 0.38249, saving model to weights_CIFAR10-ExemplarMethod-Semi_Supervised_Ver3.2_epoch_20_batch_128.h5\n",
      "45000/45000 [==============================] - 346s - loss: 0.7882 - acc: 0.8787 - val_loss: 0.3825 - val_acc: 0.9570\n",
      "Epoch 2/20\n",
      "44928/45000 [============================>.] - ETA: 0s - loss: 0.5311 - acc: 0.9116Epoch 00001: val_loss improved from 0.38249 to 0.31993, saving model to weights_CIFAR10-ExemplarMethod-Semi_Supervised_Ver3.2_epoch_20_batch_128.h5\n",
      "45000/45000 [==============================] - 354s - loss: 0.5307 - acc: 0.9117 - val_loss: 0.3199 - val_acc: 0.9550\n",
      "Epoch 3/20\n",
      "44928/45000 [============================>.] - ETA: 0s - loss: 0.4374 - acc: 0.9188Epoch 00002: val_loss did not improve\n",
      "45000/45000 [==============================] - 358s - loss: 0.4371 - acc: 0.9189 - val_loss: 0.3288 - val_acc: 0.9396\n",
      "Epoch 4/20\n",
      "44928/45000 [============================>.] - ETA: 0s - loss: 0.3819 - acc: 0.9250Epoch 00003: val_loss improved from 0.31993 to 0.19036, saving model to weights_CIFAR10-ExemplarMethod-Semi_Supervised_Ver3.2_epoch_20_batch_128.h5\n",
      "45000/45000 [==============================] - 359s - loss: 0.3818 - acc: 0.9250 - val_loss: 0.1904 - val_acc: 0.9714\n",
      "Epoch 5/20\n",
      "44928/45000 [============================>.] - ETA: 0s - loss: 0.3408 - acc: 0.9301Epoch 00004: val_loss did not improve\n",
      "45000/45000 [==============================] - 354s - loss: 0.3408 - acc: 0.9300 - val_loss: 0.3714 - val_acc: 0.9228\n",
      "Epoch 6/20\n",
      "44928/45000 [============================>.] - ETA: 0s - loss: 0.3180 - acc: 0.9340Epoch 00005: val_loss did not improve\n",
      "45000/45000 [==============================] - 358s - loss: 0.3180 - acc: 0.9339 - val_loss: 0.2265 - val_acc: 0.9536\n",
      "Epoch 7/20\n",
      "44928/45000 [============================>.] - ETA: 0s - loss: 0.3042 - acc: 0.9361Epoch 00006: val_loss did not improve\n",
      "45000/45000 [==============================] - 360s - loss: 0.3041 - acc: 0.9361 - val_loss: 0.2767 - val_acc: 0.9438\n",
      "Epoch 8/20\n",
      "44928/45000 [============================>.] - ETA: 0s - loss: 0.2817 - acc: 0.9405Epoch 00007: val_loss did not improve\n",
      "\n",
      "Epoch 00007: reducing learning rate to 0.0005000000237487257.\n",
      "45000/45000 [==============================] - 353s - loss: 0.2821 - acc: 0.9405 - val_loss: 0.3720 - val_acc: 0.9196\n",
      "Epoch 00007: early stopping\n"
     ]
    },
    {
     "data": {
      "text/plain": [
       "<keras.callbacks.History at 0x7fde819a0320>"
      ]
     },
     "execution_count": 34,
     "metadata": {},
     "output_type": "execute_result"
    }
   ],
   "source": [
    "callbacks = [\n",
    "                EarlyStopping(monitor='val_loss', patience=3, verbose=1),\n",
    "                ModelCheckpoint(kfold_weights_path, monitor='val_loss', \n",
    "                                save_best_only=True, \n",
    "                                verbose=1),\n",
    "                ReduceLROnPlateau(monitor='val_acc', \n",
    "                                            patience=3, \n",
    "                                            verbose=1, \n",
    "                                            factor=0.5, \n",
    "                                            min_lr=0.00001)\n",
    "            ]\n",
    "unsupmodel.fit(generated_images_train, generated_labels_train,\n",
    "            nb_epoch=nb_epochs,\n",
    "            batch_size=batch_size,\n",
    "            shuffle=True,\n",
    "            validation_data=(generated_images_val, generated_labels_val),\n",
    "            callbacks=callbacks\n",
    "            )"
   ]
  },
  {
   "cell_type": "code",
   "execution_count": 35,
   "metadata": {
    "collapsed": false
   },
   "outputs": [
    {
     "name": "stdout",
     "output_type": "stream",
     "text": [
      "(45000, 3, 32, 32)\n",
      "(45000, 1000)\n",
      "(5000, 3, 32, 32)\n",
      "(5000, 1000)\n"
     ]
    }
   ],
   "source": [
    "print (generated_images_train.shape)\n",
    "print (generated_labels_train.shape)\n",
    "print (generated_images_val.shape)\n",
    "print (generated_labels_val.shape)"
   ]
  },
  {
   "cell_type": "code",
   "execution_count": null,
   "metadata": {
    "collapsed": true
   },
   "outputs": [],
   "source": []
  },
  {
   "cell_type": "code",
   "execution_count": null,
   "metadata": {
    "collapsed": true
   },
   "outputs": [],
   "source": []
  },
  {
   "cell_type": "code",
   "execution_count": null,
   "metadata": {
    "collapsed": true
   },
   "outputs": [],
   "source": []
  },
  {
   "cell_type": "code",
   "execution_count": null,
   "metadata": {
    "collapsed": true
   },
   "outputs": [],
   "source": []
  },
  {
   "cell_type": "markdown",
   "metadata": {},
   "source": [
    "## Start Semi-Supervised by Combining both Supervised and Unsupervised "
   ]
  },
  {
   "cell_type": "code",
   "execution_count": 38,
   "metadata": {
    "collapsed": true
   },
   "outputs": [],
   "source": [
    "# Now that we have generated a weights file\n",
    "# we need a method to do some transfer learning\n",
    "# train the last few layers to predict the original 10 classes\n"
   ]
  },
  {
   "cell_type": "code",
   "execution_count": 39,
   "metadata": {
    "collapsed": true
   },
   "outputs": [],
   "source": [
    "# use the seed samples selected to do supervised training and check how well the \n",
    "# unsupervised model has learned"
   ]
  },
  {
   "cell_type": "code",
   "execution_count": 74,
   "metadata": {
    "collapsed": false
   },
   "outputs": [],
   "source": [
    "ss_feature_layers = [\n",
    "    Convolution2D(32,3, 3, border_mode='same',input_shape=(3, 32, 32), activation='relu'),\n",
    "    Convolution2D(32,3, 3, border_mode='same',activation='relu'),\n",
    "    MaxPooling2D(pool_size=(2,2)),\n",
    "    BatchNormalization(),\n",
    "    Dropout(0.25),\n",
    "    Convolution2D(64,3, 3, border_mode='same',activation='relu'),\n",
    "    Convolution2D(64,3, 3, border_mode='same',activation='relu'),\n",
    "    MaxPooling2D(pool_size=(2,2)),\n",
    "    BatchNormalization(),\n",
    "    Dropout(0.25),\n",
    "    Convolution2D(86,3, 3, border_mode='same',activation='relu'),\n",
    "    Convolution2D(86,3, 3, border_mode='same',activation='relu'),\n",
    "    MaxPooling2D(pool_size=(2,2)),\n",
    "    BatchNormalization(),\n",
    "    Dropout (0.25),\n",
    "    Flatten(),\n",
    "    Dense(1024, activation = \"relu\"),\n",
    "    Dropout(0.5),\n",
    "    Dense(512, activation = \"relu\")\n",
    "    #Dense(512, activation = \"relu\"),   \n",
    "    #Dense(256, W_regularizer=keras.regularizers.l2(0.01)),\n",
    "    #Activation('sigmoid')  \n",
    "]\n",
    "# try spliting to feature layers, a encoder layer and a classification layer\n",
    "# having sigmoid in between is killing the calssification accuracy\n",
    "# in version 2 - a relu layer before softmax is performing beutifully well\n",
    "# after transfer learning i think we need a dense layer before the softmax activation\n",
    "# it is causing the below valueerror hence introducing a dense 256 layer as in the original\n",
    "#ValueError: GpuElemwise. Input dimension mis-match.\n",
    "##Input 1 (indices start at 0) has shape[1] == 1000, but the output's size on that axis is 11.\n",
    "#classification_layers = [\n",
    "#    Dense(11, activation='softmax', W_regularizer=keras.regularizers.l2(0.01), name='fc_layer2')\n",
    "#]\n",
    "\n",
    "ss_classification_layers = [\n",
    "    Dense(256, activation = \"relu\", W_regularizer=keras.regularizers.l2(0.01), name='ss_fc_layer1'),\n",
    "    ## Can Relu improve? instead of Sigmoid\n",
    "    Dense(11, activation='softmax', W_regularizer=keras.regularizers.l2(0.01), name='ss_fc_layer2')\n",
    "]\n"
   ]
  },
  {
   "cell_type": "code",
   "execution_count": 75,
   "metadata": {
    "collapsed": false
   },
   "outputs": [],
   "source": [
    "#print model.summary()\n",
    "\n",
    "semisupmodel = Sequential(ss_feature_layers + ss_classification_layers)\n"
   ]
  },
  {
   "cell_type": "code",
   "execution_count": null,
   "metadata": {
    "collapsed": true
   },
   "outputs": [],
   "source": []
  },
  {
   "cell_type": "code",
   "execution_count": 76,
   "metadata": {
    "collapsed": false
   },
   "outputs": [],
   "source": [
    "from keras.optimizers import RMSprop\n",
    "\n",
    "# Define the optimizer\n",
    "optimizer = RMSprop(lr=0.001, decay=1e-6)"
   ]
  },
  {
   "cell_type": "code",
   "execution_count": 77,
   "metadata": {
    "collapsed": true
   },
   "outputs": [],
   "source": [
    "# Compile the model\n",
    "semisupmodel.compile(optimizer = optimizer , loss = \"categorical_crossentropy\", metrics=[\"accuracy\"])"
   ]
  },
  {
   "cell_type": "code",
   "execution_count": 78,
   "metadata": {
    "collapsed": false
   },
   "outputs": [
    {
     "name": "stdout",
     "output_type": "stream",
     "text": [
      "____________________________________________________________________________________________________\n",
      "Layer (type)                     Output Shape          Param #     Connected to                     \n",
      "====================================================================================================\n",
      "convolution2d_13 (Convolution2D) (None, 32, 32, 32)    896         convolution2d_input_3[0][0]      \n",
      "____________________________________________________________________________________________________\n",
      "convolution2d_14 (Convolution2D) (None, 32, 32, 32)    9248        convolution2d_13[0][0]           \n",
      "____________________________________________________________________________________________________\n",
      "maxpooling2d_7 (MaxPooling2D)    (None, 32, 16, 16)    0           convolution2d_14[0][0]           \n",
      "____________________________________________________________________________________________________\n",
      "batchnormalization_7 (BatchNorma (None, 32, 16, 16)    64          maxpooling2d_7[0][0]             \n",
      "____________________________________________________________________________________________________\n",
      "dropout_9 (Dropout)              (None, 32, 16, 16)    0           batchnormalization_7[0][0]       \n",
      "____________________________________________________________________________________________________\n",
      "convolution2d_15 (Convolution2D) (None, 64, 16, 16)    18496       dropout_9[0][0]                  \n",
      "____________________________________________________________________________________________________\n",
      "convolution2d_16 (Convolution2D) (None, 64, 16, 16)    36928       convolution2d_15[0][0]           \n",
      "____________________________________________________________________________________________________\n",
      "maxpooling2d_8 (MaxPooling2D)    (None, 64, 8, 8)      0           convolution2d_16[0][0]           \n",
      "____________________________________________________________________________________________________\n",
      "batchnormalization_8 (BatchNorma (None, 64, 8, 8)      32          maxpooling2d_8[0][0]             \n",
      "____________________________________________________________________________________________________\n",
      "dropout_10 (Dropout)             (None, 64, 8, 8)      0           batchnormalization_8[0][0]       \n",
      "____________________________________________________________________________________________________\n",
      "convolution2d_17 (Convolution2D) (None, 86, 8, 8)      49622       dropout_10[0][0]                 \n",
      "____________________________________________________________________________________________________\n",
      "convolution2d_18 (Convolution2D) (None, 86, 8, 8)      66650       convolution2d_17[0][0]           \n",
      "____________________________________________________________________________________________________\n",
      "maxpooling2d_9 (MaxPooling2D)    (None, 86, 4, 4)      0           convolution2d_18[0][0]           \n",
      "____________________________________________________________________________________________________\n",
      "batchnormalization_9 (BatchNorma (None, 86, 4, 4)      16          maxpooling2d_9[0][0]             \n",
      "____________________________________________________________________________________________________\n",
      "dropout_11 (Dropout)             (None, 86, 4, 4)      0           batchnormalization_9[0][0]       \n",
      "____________________________________________________________________________________________________\n",
      "flatten_3 (Flatten)              (None, 1376)          0           dropout_11[0][0]                 \n",
      "____________________________________________________________________________________________________\n",
      "dense_5 (Dense)                  (None, 1024)          1410048     flatten_3[0][0]                  \n",
      "____________________________________________________________________________________________________\n",
      "dropout_12 (Dropout)             (None, 1024)          0           dense_5[0][0]                    \n",
      "____________________________________________________________________________________________________\n",
      "dense_6 (Dense)                  (None, 512)           524800      dropout_12[0][0]                 \n",
      "____________________________________________________________________________________________________\n",
      "ss_fc_layer1 (Dense)             (None, 256)           131328      dense_6[0][0]                    \n",
      "____________________________________________________________________________________________________\n",
      "ss_fc_layer2 (Dense)             (None, 11)            2827        ss_fc_layer1[0][0]               \n",
      "====================================================================================================\n",
      "Total params: 2,250,955\n",
      "Trainable params: 2,250,899\n",
      "Non-trainable params: 56\n",
      "____________________________________________________________________________________________________\n"
     ]
    }
   ],
   "source": [
    "semisupmodel.summary()"
   ]
  },
  {
   "cell_type": "code",
   "execution_count": 79,
   "metadata": {
    "collapsed": false
   },
   "outputs": [
    {
     "data": {
      "text/plain": [
       "True"
      ]
     },
     "execution_count": 79,
     "metadata": {},
     "output_type": "execute_result"
    }
   ],
   "source": [
    "os.path.isfile(kfold_weights_path)"
   ]
  },
  {
   "cell_type": "code",
   "execution_count": 80,
   "metadata": {
    "collapsed": false
   },
   "outputs": [
    {
     "name": "stdout",
     "output_type": "stream",
     "text": [
      "weights_CIFAR10-ExemplarMethod-Semi_Supervised_Ver3.2_epoch_20_batch_128.h5\n"
     ]
    }
   ],
   "source": [
    "print (kfold_weights_path)"
   ]
  },
  {
   "cell_type": "code",
   "execution_count": 81,
   "metadata": {
    "collapsed": false
   },
   "outputs": [
    {
     "name": "stdout",
     "output_type": "stream",
     "text": [
      "<keras.layers.convolutional.Convolution2D object at 0x7fdde7121b38>\n",
      "<keras.layers.convolutional.Convolution2D object at 0x7fdde7121ba8>\n",
      "<keras.layers.pooling.MaxPooling2D object at 0x7fdde7121c18>\n",
      "<keras.layers.normalization.BatchNormalization object at 0x7fdde7121c88>\n",
      "<keras.layers.core.Dropout object at 0x7fdde7121cc0>\n",
      "<keras.layers.convolutional.Convolution2D object at 0x7fdde7121cf8>\n",
      "<keras.layers.convolutional.Convolution2D object at 0x7fdde7121d68>\n",
      "<keras.layers.pooling.MaxPooling2D object at 0x7fdde7121dd8>\n",
      "<keras.layers.normalization.BatchNormalization object at 0x7fdde7121e48>\n",
      "<keras.layers.core.Dropout object at 0x7fdde7121e80>\n",
      "<keras.layers.convolutional.Convolution2D object at 0x7fdde7121eb8>\n",
      "<keras.layers.convolutional.Convolution2D object at 0x7fdde7121f28>\n",
      "<keras.layers.pooling.MaxPooling2D object at 0x7fdde7121f98>\n",
      "<keras.layers.normalization.BatchNormalization object at 0x7fdde7131048>\n",
      "<keras.layers.core.Dropout object at 0x7fdde7131080>\n",
      "<keras.layers.core.Flatten object at 0x7fdde71310b8>\n",
      "<keras.layers.core.Dense object at 0x7fdde7131128>\n",
      "<keras.layers.core.Dropout object at 0x7fdde7131198>\n",
      "<keras.layers.core.Dense object at 0x7fdde7131208>\n"
     ]
    }
   ],
   "source": [
    "semisupmodel.load_weights(kfold_weights_path, by_name=True)\n",
    "\n",
    "for l in ss_feature_layers:\n",
    "    print (l)\n",
    "    l.trainable = False\n",
    "    #l.trainable = True"
   ]
  },
  {
   "cell_type": "markdown",
   "metadata": {
    "collapsed": false
   },
   "source": [
    "model.compile(loss='categorical_crossentropy',\n",
    "              optimizer='Adam',\n",
    "              metrics=['accuracy'])\n",
    "\n",
    "print('Model Compilation successful')"
   ]
  },
  {
   "cell_type": "markdown",
   "metadata": {
    "collapsed": true
   },
   "source": [
    "lr = 0.1\n",
    "\n",
    "sgd = SGD(lr=lr, decay=1e-5, momentum=0.8, nesterov=True)\n",
    "\n",
    "model.compile(loss='categorical_crossentropy',\n",
    "          optimizer=sgd,\n",
    "          metrics=['accuracy'])"
   ]
  },
  {
   "cell_type": "code",
   "execution_count": 82,
   "metadata": {
    "collapsed": false
   },
   "outputs": [
    {
     "name": "stdout",
     "output_type": "stream",
     "text": [
      "____________________________________________________________________________________________________\n",
      "Layer (type)                     Output Shape          Param #     Connected to                     \n",
      "====================================================================================================\n",
      "convolution2d_13 (Convolution2D) (None, 32, 32, 32)    896         convolution2d_input_3[0][0]      \n",
      "____________________________________________________________________________________________________\n",
      "convolution2d_14 (Convolution2D) (None, 32, 32, 32)    9248        convolution2d_13[0][0]           \n",
      "____________________________________________________________________________________________________\n",
      "maxpooling2d_7 (MaxPooling2D)    (None, 32, 16, 16)    0           convolution2d_14[0][0]           \n",
      "____________________________________________________________________________________________________\n",
      "batchnormalization_7 (BatchNorma (None, 32, 16, 16)    64          maxpooling2d_7[0][0]             \n",
      "____________________________________________________________________________________________________\n",
      "dropout_9 (Dropout)              (None, 32, 16, 16)    0           batchnormalization_7[0][0]       \n",
      "____________________________________________________________________________________________________\n",
      "convolution2d_15 (Convolution2D) (None, 64, 16, 16)    18496       dropout_9[0][0]                  \n",
      "____________________________________________________________________________________________________\n",
      "convolution2d_16 (Convolution2D) (None, 64, 16, 16)    36928       convolution2d_15[0][0]           \n",
      "____________________________________________________________________________________________________\n",
      "maxpooling2d_8 (MaxPooling2D)    (None, 64, 8, 8)      0           convolution2d_16[0][0]           \n",
      "____________________________________________________________________________________________________\n",
      "batchnormalization_8 (BatchNorma (None, 64, 8, 8)      32          maxpooling2d_8[0][0]             \n",
      "____________________________________________________________________________________________________\n",
      "dropout_10 (Dropout)             (None, 64, 8, 8)      0           batchnormalization_8[0][0]       \n",
      "____________________________________________________________________________________________________\n",
      "convolution2d_17 (Convolution2D) (None, 86, 8, 8)      49622       dropout_10[0][0]                 \n",
      "____________________________________________________________________________________________________\n",
      "convolution2d_18 (Convolution2D) (None, 86, 8, 8)      66650       convolution2d_17[0][0]           \n",
      "____________________________________________________________________________________________________\n",
      "maxpooling2d_9 (MaxPooling2D)    (None, 86, 4, 4)      0           convolution2d_18[0][0]           \n",
      "____________________________________________________________________________________________________\n",
      "batchnormalization_9 (BatchNorma (None, 86, 4, 4)      16          maxpooling2d_9[0][0]             \n",
      "____________________________________________________________________________________________________\n",
      "dropout_11 (Dropout)             (None, 86, 4, 4)      0           batchnormalization_9[0][0]       \n",
      "____________________________________________________________________________________________________\n",
      "flatten_3 (Flatten)              (None, 1376)          0           dropout_11[0][0]                 \n",
      "____________________________________________________________________________________________________\n",
      "dense_5 (Dense)                  (None, 1024)          1410048     flatten_3[0][0]                  \n",
      "____________________________________________________________________________________________________\n",
      "dropout_12 (Dropout)             (None, 1024)          0           dense_5[0][0]                    \n",
      "____________________________________________________________________________________________________\n",
      "dense_6 (Dense)                  (None, 512)           524800      dropout_12[0][0]                 \n",
      "____________________________________________________________________________________________________\n",
      "ss_fc_layer1 (Dense)             (None, 256)           131328      dense_6[0][0]                    \n",
      "____________________________________________________________________________________________________\n",
      "ss_fc_layer2 (Dense)             (None, 11)            2827        ss_fc_layer1[0][0]               \n",
      "====================================================================================================\n",
      "Total params: 2,250,955\n",
      "Trainable params: 134,155\n",
      "Non-trainable params: 2,116,800\n",
      "____________________________________________________________________________________________________\n"
     ]
    }
   ],
   "source": [
    "semisupmodel.summary()"
   ]
  },
  {
   "cell_type": "code",
   "execution_count": 45,
   "metadata": {
    "collapsed": false
   },
   "outputs": [
    {
     "name": "stdout",
     "output_type": "stream",
     "text": [
      "(2000, 3, 32, 32)\n"
     ]
    }
   ],
   "source": [
    "print(l_images_train.shape)\n"
   ]
  },
  {
   "cell_type": "code",
   "execution_count": 46,
   "metadata": {
    "collapsed": false
   },
   "outputs": [
    {
     "name": "stdout",
     "output_type": "stream",
     "text": [
      "[[[ 0.30196078  0.29803922  0.31372549 ...,  0.29803922  0.2745098\n",
      "    0.23529412]\n",
      "  [ 0.31764706  0.30980392  0.3254902  ...,  0.3254902   0.30196078\n",
      "    0.23529412]\n",
      "  [ 0.28235294  0.29803922  0.30980392 ...,  0.34117647  0.30980392\n",
      "    0.25098039]\n",
      "  ..., \n",
      "  [ 0.6745098   0.64313725  0.63921569 ...,  0.69803922  0.63529412\n",
      "    0.60392157]\n",
      "  [ 0.64705882  0.68627451  0.65490196 ...,  0.69411765  0.62352941\n",
      "    0.56470588]\n",
      "  [ 0.64705882  0.69019608  0.6745098  ...,  0.71764706  0.64705882\n",
      "    0.57647059]]\n",
      "\n",
      " [[ 0.31764706  0.30980392  0.32941176 ...,  0.30196078  0.28235294\n",
      "    0.24705882]\n",
      "  [ 0.32941176  0.32156863  0.34117647 ...,  0.32941176  0.30588235\n",
      "    0.24313725]\n",
      "  [ 0.29411765  0.30980392  0.32156863 ...,  0.34117647  0.30980392\n",
      "    0.25490196]\n",
      "  ..., \n",
      "  [ 0.6745098   0.64705882  0.63921569 ...,  0.67843137  0.62352941\n",
      "    0.60784314]\n",
      "  [ 0.64313725  0.68235294  0.64705882 ...,  0.67843137  0.61960784\n",
      "    0.57254902]\n",
      "  [ 0.64313725  0.68627451  0.67058824 ...,  0.70196078  0.63921569\n",
      "    0.58039216]]\n",
      "\n",
      " [[ 0.27843137  0.27843137  0.27058824 ...,  0.29803922  0.2745098\n",
      "    0.22352941]\n",
      "  [ 0.29411765  0.28235294  0.28627451 ...,  0.34117647  0.31764706\n",
      "    0.23529412]\n",
      "  [ 0.2627451   0.26666667  0.2745098  ...,  0.36862745  0.3372549\n",
      "    0.2627451 ]\n",
      "  ..., \n",
      "  [ 0.57647059  0.55294118  0.56862745 ...,  0.58823529  0.52156863\n",
      "    0.50588235]\n",
      "  [ 0.56862745  0.6         0.58039216 ...,  0.59607843  0.52941176\n",
      "    0.47843137]\n",
      "  [ 0.56862745  0.60784314  0.6        ...,  0.62352941  0.55294118\n",
      "    0.48627451]]]\n"
     ]
    }
   ],
   "source": [
    "print (l_images_train[0])"
   ]
  },
  {
   "cell_type": "code",
   "execution_count": 47,
   "metadata": {
    "collapsed": false
   },
   "outputs": [],
   "source": [
    "# concatenate unsup and sup images\n",
    "X_Train_Comb = np.concatenate((generated_images_train, l_images_train))"
   ]
  },
  {
   "cell_type": "code",
   "execution_count": 48,
   "metadata": {
    "collapsed": false
   },
   "outputs": [
    {
     "name": "stdout",
     "output_type": "stream",
     "text": [
      "(47000, 3, 32, 32)\n"
     ]
    }
   ],
   "source": [
    "print (X_Train_Comb.shape)\n"
   ]
  },
  {
   "cell_type": "code",
   "execution_count": 49,
   "metadata": {
    "collapsed": false
   },
   "outputs": [
    {
     "name": "stdout",
     "output_type": "stream",
     "text": [
      "(45000, 1)\n"
     ]
    }
   ],
   "source": [
    "generated_images_pseudo_label = np.zeros([len(generated_images_train),1])\n",
    "print (generated_images_pseudo_label.shape)\n",
    "# the pseudo-label can be other than -1, try 10 as the 11th label\n",
    "generated_images_pseudo_label.fill(10)\n"
   ]
  },
  {
   "cell_type": "code",
   "execution_count": 50,
   "metadata": {
    "collapsed": false
   },
   "outputs": [
    {
     "name": "stdout",
     "output_type": "stream",
     "text": [
      "(45000, 1)\n",
      "[[ 10.]\n",
      " [ 10.]\n",
      " [ 10.]\n",
      " ..., \n",
      " [ 10.]\n",
      " [ 10.]\n",
      " [ 10.]]\n"
     ]
    }
   ],
   "source": [
    "print (generated_images_pseudo_label.shape)\n",
    "print (generated_images_pseudo_label)"
   ]
  },
  {
   "cell_type": "code",
   "execution_count": null,
   "metadata": {
    "collapsed": true
   },
   "outputs": [],
   "source": []
  },
  {
   "cell_type": "code",
   "execution_count": 51,
   "metadata": {
    "collapsed": false
   },
   "outputs": [
    {
     "name": "stdout",
     "output_type": "stream",
     "text": [
      "(2000, 10)\n"
     ]
    }
   ],
   "source": [
    "print (l_labels_train.shape)\n"
   ]
  },
  {
   "cell_type": "code",
   "execution_count": 52,
   "metadata": {
    "collapsed": false
   },
   "outputs": [],
   "source": [
    "l_labels_train = np.argmax(l_labels_train,axis=1)"
   ]
  },
  {
   "cell_type": "code",
   "execution_count": 53,
   "metadata": {
    "collapsed": false
   },
   "outputs": [
    {
     "name": "stdout",
     "output_type": "stream",
     "text": [
      "(2000,)\n"
     ]
    }
   ],
   "source": [
    "print (l_labels_train.shape)\n"
   ]
  },
  {
   "cell_type": "code",
   "execution_count": 54,
   "metadata": {
    "collapsed": true
   },
   "outputs": [],
   "source": [
    "l_labels_train = l_labels_train.reshape(len(l_labels_train),1)\n"
   ]
  },
  {
   "cell_type": "code",
   "execution_count": 55,
   "metadata": {
    "collapsed": false
   },
   "outputs": [
    {
     "name": "stdout",
     "output_type": "stream",
     "text": [
      "(2000, 1)\n"
     ]
    }
   ],
   "source": [
    "print (l_labels_train.shape)\n"
   ]
  },
  {
   "cell_type": "code",
   "execution_count": 56,
   "metadata": {
    "collapsed": false
   },
   "outputs": [
    {
     "data": {
      "text/plain": [
       "array([[4],\n",
       "       [4],\n",
       "       [5],\n",
       "       ..., \n",
       "       [8],\n",
       "       [8],\n",
       "       [8]])"
      ]
     },
     "execution_count": 56,
     "metadata": {},
     "output_type": "execute_result"
    }
   ],
   "source": [
    "l_labels_train\n"
   ]
  },
  {
   "cell_type": "code",
   "execution_count": 57,
   "metadata": {
    "collapsed": true
   },
   "outputs": [],
   "source": [
    "# concatenate unsup and sup images\n",
    "Y_Train_Comb = np.concatenate((generated_images_pseudo_label, l_labels_train))"
   ]
  },
  {
   "cell_type": "code",
   "execution_count": 58,
   "metadata": {
    "collapsed": false
   },
   "outputs": [
    {
     "name": "stdout",
     "output_type": "stream",
     "text": [
      "(47000, 1)\n"
     ]
    }
   ],
   "source": [
    "print (Y_Train_Comb.shape)\n"
   ]
  },
  {
   "cell_type": "code",
   "execution_count": 59,
   "metadata": {
    "collapsed": false
   },
   "outputs": [
    {
     "name": "stdout",
     "output_type": "stream",
     "text": [
      "[[ 10.]\n",
      " [ 10.]\n",
      " [ 10.]\n",
      " ..., \n",
      " [  8.]\n",
      " [  8.]\n",
      " [  8.]]\n"
     ]
    }
   ],
   "source": [
    "print (Y_Train_Comb)\n"
   ]
  },
  {
   "cell_type": "code",
   "execution_count": 60,
   "metadata": {
    "collapsed": true
   },
   "outputs": [],
   "source": [
    "Y_Train_Comb = np_utils.to_categorical(Y_Train_Comb, 11)"
   ]
  },
  {
   "cell_type": "code",
   "execution_count": 61,
   "metadata": {
    "collapsed": false
   },
   "outputs": [
    {
     "name": "stdout",
     "output_type": "stream",
     "text": [
      "(47000, 11)\n"
     ]
    }
   ],
   "source": [
    "print (Y_Train_Comb.shape)\n"
   ]
  },
  {
   "cell_type": "code",
   "execution_count": 63,
   "metadata": {
    "collapsed": false
   },
   "outputs": [
    {
     "data": {
      "text/plain": [
       "array([[ 0.,  0.,  0., ...,  0.,  0.,  1.],\n",
       "       [ 0.,  0.,  0., ...,  0.,  0.,  1.],\n",
       "       [ 0.,  0.,  0., ...,  0.,  0.,  1.],\n",
       "       ..., \n",
       "       [ 0.,  0.,  0., ...,  1.,  0.,  0.],\n",
       "       [ 0.,  0.,  0., ...,  1.,  0.,  0.],\n",
       "       [ 0.,  0.,  0., ...,  1.,  0.,  0.]])"
      ]
     },
     "execution_count": 63,
     "metadata": {},
     "output_type": "execute_result"
    }
   ],
   "source": [
    "Y_Train_Comb"
   ]
  },
  {
   "cell_type": "code",
   "execution_count": 64,
   "metadata": {
    "collapsed": true
   },
   "outputs": [],
   "source": [
    "# Set a learning_rate annealer\n",
    "learning_rate_reduction = ReduceLROnPlateau(monitor='val_acc', \n",
    "                                            patience=3, \n",
    "                                            verbose=1, \n",
    "                                            factor=0.5, \n",
    "                                            min_lr=0.00001)"
   ]
  },
  {
   "cell_type": "code",
   "execution_count": 83,
   "metadata": {
    "collapsed": false
   },
   "outputs": [
    {
     "name": "stdout",
     "output_type": "stream",
     "text": [
      "weights_CIFAR10-ExemplarMethod-Semi_Supervised_Ver3.21ss_epoch_20_batch_128.h5\n"
     ]
    }
   ],
   "source": [
    "nb_epochs=20\n",
    "batch_size = 128\n",
    "ss_kfold_weights_path = os.path.join('weights_' +  'CIFAR10-ExemplarMethod-Semi_Supervised_Ver3.21ss' +\n",
    "                                  '_epoch_'+str(nb_epochs)+\n",
    "                                  '_batch_'+str(batch_size)\n",
    "                                  +'.h5')\n",
    "print(ss_kfold_weights_path)"
   ]
  },
  {
   "cell_type": "code",
   "execution_count": 85,
   "metadata": {
    "collapsed": false
   },
   "outputs": [
    {
     "data": {
      "text/plain": [
       "False"
      ]
     },
     "execution_count": 85,
     "metadata": {},
     "output_type": "execute_result"
    }
   ],
   "source": [
    "os.path.isfile(ss_kfold_weights_path)"
   ]
  },
  {
   "cell_type": "code",
   "execution_count": 68,
   "metadata": {
    "collapsed": true
   },
   "outputs": [],
   "source": [
    "from sklearn.model_selection import train_test_split\n",
    "ss_images_train, ss_images_val, ss_labels_train, ss_labels_val = \\\n",
    "train_test_split(X_Train_Comb, Y_Train_Comb,test_size=0.1, random_state=42)"
   ]
  },
  {
   "cell_type": "code",
   "execution_count": 86,
   "metadata": {
    "collapsed": false
   },
   "outputs": [
    {
     "name": "stdout",
     "output_type": "stream",
     "text": [
      "(42300, 3, 32, 32)\n",
      "(42300, 11)\n",
      "(4700, 3, 32, 32)\n",
      "(4700, 11)\n"
     ]
    }
   ],
   "source": [
    "print (ss_images_train.shape)\n",
    "print (ss_labels_train.shape)\n",
    "print (ss_images_val.shape)\n",
    "print (ss_labels_val.shape)"
   ]
  },
  {
   "cell_type": "code",
   "execution_count": 87,
   "metadata": {
    "collapsed": false
   },
   "outputs": [
    {
     "name": "stdout",
     "output_type": "stream",
     "text": [
      "Train on 42300 samples, validate on 4700 samples\n",
      "Epoch 1/20\n",
      "42240/42300 [============================>.] - ETA: 0s - loss: 0.9307 - acc: 0.9548Epoch 00000: val_loss improved from inf to 0.17462, saving model to weights_CIFAR10-ExemplarMethod-Semi_Supervised_Ver3.21ss_epoch_20_batch_128.h5\n",
      "42300/42300 [==============================] - 318s - loss: 0.9297 - acc: 0.9547 - val_loss: 0.1746 - val_acc: 0.9594\n",
      "Epoch 2/20\n",
      "42240/42300 [============================>.] - ETA: 0s - loss: 0.1712 - acc: 0.9572Epoch 00001: val_loss improved from 0.17462 to 0.14633, saving model to weights_CIFAR10-ExemplarMethod-Semi_Supervised_Ver3.21ss_epoch_20_batch_128.h5\n",
      "42300/42300 [==============================] - 317s - loss: 0.1711 - acc: 0.9572 - val_loss: 0.1463 - val_acc: 0.9594\n",
      "Epoch 3/20\n",
      "42240/42300 [============================>.] - ETA: 0s - loss: 0.1518 - acc: 0.9572Epoch 00002: val_loss did not improve\n",
      "42300/42300 [==============================] - 318s - loss: 0.1518 - acc: 0.9572 - val_loss: 0.2016 - val_acc: 0.9594\n",
      "Epoch 4/20\n",
      "42240/42300 [============================>.] - ETA: 0s - loss: 0.1423 - acc: 0.9577Epoch 00003: val_loss did not improve\n",
      "42300/42300 [==============================] - 318s - loss: 0.1428 - acc: 0.9577 - val_loss: 0.2260 - val_acc: 0.9474\n",
      "Epoch 5/20\n",
      "42240/42300 [============================>.] - ETA: 0s - loss: 0.1348 - acc: 0.9588Epoch 00004: val_loss improved from 0.14633 to 0.13625, saving model to weights_CIFAR10-ExemplarMethod-Semi_Supervised_Ver3.21ss_epoch_20_batch_128.h5\n",
      "42300/42300 [==============================] - 318s - loss: 0.1347 - acc: 0.9588 - val_loss: 0.1363 - val_acc: 0.9596\n",
      "Epoch 6/20\n",
      "42240/42300 [============================>.] - ETA: 0s - loss: 0.1322 - acc: 0.9593Epoch 00005: val_loss improved from 0.13625 to 0.13015, saving model to weights_CIFAR10-ExemplarMethod-Semi_Supervised_Ver3.21ss_epoch_20_batch_128.h5\n",
      "42300/42300 [==============================] - 318s - loss: 0.1324 - acc: 0.9593 - val_loss: 0.1301 - val_acc: 0.9596\n",
      "Epoch 7/20\n",
      "42240/42300 [============================>.] - ETA: 0s - loss: 0.1284 - acc: 0.9593Epoch 00006: val_loss did not improve\n",
      "42300/42300 [==============================] - 318s - loss: 0.1284 - acc: 0.9593 - val_loss: 0.1502 - val_acc: 0.9602\n",
      "Epoch 8/20\n",
      "42240/42300 [============================>.] - ETA: 0s - loss: 0.1431 - acc: 0.9579Epoch 00007: val_loss improved from 0.13015 to 0.12458, saving model to weights_CIFAR10-ExemplarMethod-Semi_Supervised_Ver3.21ss_epoch_20_batch_128.h5\n",
      "42300/42300 [==============================] - 318s - loss: 0.1432 - acc: 0.9578 - val_loss: 0.1246 - val_acc: 0.9613\n",
      "Epoch 9/20\n",
      "42240/42300 [============================>.] - ETA: 0s - loss: 0.1230 - acc: 0.9612Epoch 00008: val_loss improved from 0.12458 to 0.12034, saving model to weights_CIFAR10-ExemplarMethod-Semi_Supervised_Ver3.21ss_epoch_20_batch_128.h5\n",
      "42300/42300 [==============================] - 318s - loss: 0.1232 - acc: 0.9612 - val_loss: 0.1203 - val_acc: 0.9617\n",
      "Epoch 10/20\n",
      "42240/42300 [============================>.] - ETA: 0s - loss: 0.1188 - acc: 0.9620Epoch 00009: val_loss improved from 0.12034 to 0.11405, saving model to weights_CIFAR10-ExemplarMethod-Semi_Supervised_Ver3.21ss_epoch_20_batch_128.h5\n",
      "42300/42300 [==============================] - 318s - loss: 0.1188 - acc: 0.9620 - val_loss: 0.1140 - val_acc: 0.9632\n",
      "Epoch 11/20\n",
      "42240/42300 [============================>.] - ETA: 0s - loss: 0.1177 - acc: 0.9619Epoch 00010: val_loss improved from 0.11405 to 0.11040, saving model to weights_CIFAR10-ExemplarMethod-Semi_Supervised_Ver3.21ss_epoch_20_batch_128.h5\n",
      "42300/42300 [==============================] - 318s - loss: 0.1176 - acc: 0.9619 - val_loss: 0.1104 - val_acc: 0.9651\n",
      "Epoch 12/20\n",
      "42240/42300 [============================>.] - ETA: 0s - loss: 0.1146 - acc: 0.9626Epoch 00011: val_loss did not improve\n",
      "42300/42300 [==============================] - 318s - loss: 0.1147 - acc: 0.9626 - val_loss: 0.1147 - val_acc: 0.9626\n",
      "Epoch 13/20\n",
      "42240/42300 [============================>.] - ETA: 0s - loss: 0.1141 - acc: 0.9634Epoch 00012: val_loss did not improve\n",
      "42300/42300 [==============================] - 318s - loss: 0.1142 - acc: 0.9633 - val_loss: 0.1593 - val_acc: 0.9640\n",
      "Epoch 14/20\n",
      "42240/42300 [============================>.] - ETA: 0s - loss: 0.1104 - acc: 0.9634Epoch 00013: val_loss did not improve\n",
      "42300/42300 [==============================] - 318s - loss: 0.1105 - acc: 0.9634 - val_loss: 0.1198 - val_acc: 0.9638\n",
      "Epoch 15/20\n",
      "42240/42300 [============================>.] - ETA: 0s - loss: 0.1099 - acc: 0.9641Epoch 00014: val_loss improved from 0.11040 to 0.10798, saving model to weights_CIFAR10-ExemplarMethod-Semi_Supervised_Ver3.21ss_epoch_20_batch_128.h5\n",
      "42300/42300 [==============================] - 327s - loss: 0.1099 - acc: 0.9640 - val_loss: 0.1080 - val_acc: 0.9670\n",
      "Epoch 16/20\n",
      "42240/42300 [============================>.] - ETA: 0s - loss: 0.1072 - acc: 0.9640Epoch 00015: val_loss did not improve\n",
      "42300/42300 [==============================] - 319s - loss: 0.1072 - acc: 0.9640 - val_loss: 0.1121 - val_acc: 0.9640\n",
      "Epoch 17/20\n",
      "42240/42300 [============================>.] - ETA: 0s - loss: 0.1067 - acc: 0.9643Epoch 00016: val_loss improved from 0.10798 to 0.10333, saving model to weights_CIFAR10-ExemplarMethod-Semi_Supervised_Ver3.21ss_epoch_20_batch_128.h5\n",
      "42300/42300 [==============================] - 330s - loss: 0.1067 - acc: 0.9643 - val_loss: 0.1033 - val_acc: 0.9660\n",
      "Epoch 18/20\n",
      "42240/42300 [============================>.] - ETA: 0s - loss: 0.1066 - acc: 0.9642Epoch 00017: val_loss did not improve\n",
      "42300/42300 [==============================] - 333s - loss: 0.1066 - acc: 0.9643 - val_loss: 0.1472 - val_acc: 0.9640\n",
      "Epoch 19/20\n",
      "42240/42300 [============================>.] - ETA: 0s - loss: 0.1033 - acc: 0.9651Epoch 00018: val_loss did not improve\n",
      "\n",
      "Epoch 00018: reducing learning rate to 0.0005000000237487257.\n",
      "42300/42300 [==============================] - 324s - loss: 0.1033 - acc: 0.9652 - val_loss: 0.1163 - val_acc: 0.9653\n",
      "Epoch 20/20\n",
      "42240/42300 [============================>.] - ETA: 0s - loss: 0.0967 - acc: 0.9664Epoch 00019: val_loss did not improve\n",
      "42300/42300 [==============================] - 320s - loss: 0.0967 - acc: 0.9664 - val_loss: 0.1052 - val_acc: 0.9662\n"
     ]
    },
    {
     "data": {
      "text/plain": [
       "<keras.callbacks.History at 0x7fdde48d2e10>"
      ]
     },
     "execution_count": 87,
     "metadata": {},
     "output_type": "execute_result"
    }
   ],
   "source": [
    "callbacks = [\n",
    "                EarlyStopping(monitor='val_loss', patience=3, verbose=1),\n",
    "                ModelCheckpoint(ss_kfold_weights_path, monitor='val_loss', \n",
    "                                save_best_only=True, \n",
    "                                verbose=1),\n",
    "                ReduceLROnPlateau(monitor='val_acc', \n",
    "                                            patience=3, \n",
    "                                            verbose=1, \n",
    "                                            factor=0.5, \n",
    "                                            min_lr=0.00001)\n",
    "            ]\n",
    "semisupmodel.fit(ss_images_train, ss_labels_train,\n",
    "            nb_epoch=nb_epochs,\n",
    "            batch_size=batch_size,\n",
    "            shuffle=True,\n",
    "            validation_data=(ss_images_val, ss_labels_val),\n",
    "            callbacks=callbacks\n",
    "            )"
   ]
  },
  {
   "cell_type": "code",
   "execution_count": null,
   "metadata": {
    "collapsed": true
   },
   "outputs": [],
   "source": []
  },
  {
   "cell_type": "code",
   "execution_count": null,
   "metadata": {
    "collapsed": true
   },
   "outputs": [],
   "source": []
  },
  {
   "cell_type": "markdown",
   "metadata": {
    "collapsed": false
   },
   "source": []
  },
  {
   "cell_type": "code",
   "execution_count": 88,
   "metadata": {
    "collapsed": false
   },
   "outputs": [
    {
     "data": {
      "text/plain": [
       "array([[[[ 0.61960784,  0.62352941,  0.64705882, ...,  0.5372549 ,\n",
       "           0.49411765,  0.45490196],\n",
       "         [ 0.59607843,  0.59215686,  0.62352941, ...,  0.53333333,\n",
       "           0.49019608,  0.46666667],\n",
       "         [ 0.59215686,  0.59215686,  0.61960784, ...,  0.54509804,\n",
       "           0.50980392,  0.47058824],\n",
       "         ..., \n",
       "         [ 0.26666667,  0.16470588,  0.12156863, ...,  0.14901961,\n",
       "           0.05098039,  0.15686275],\n",
       "         [ 0.23921569,  0.19215686,  0.1372549 , ...,  0.10196078,\n",
       "           0.11372549,  0.07843137],\n",
       "         [ 0.21176471,  0.21960784,  0.17647059, ...,  0.09411765,\n",
       "           0.13333333,  0.08235294]],\n",
       "\n",
       "        [[ 0.43921569,  0.43529412,  0.45490196, ...,  0.37254902,\n",
       "           0.35686275,  0.33333333],\n",
       "         [ 0.43921569,  0.43137255,  0.44705882, ...,  0.37254902,\n",
       "           0.35686275,  0.34509804],\n",
       "         [ 0.43137255,  0.42745098,  0.43529412, ...,  0.38431373,\n",
       "           0.37254902,  0.34901961],\n",
       "         ..., \n",
       "         [ 0.48627451,  0.39215686,  0.34509804, ...,  0.38039216,\n",
       "           0.25098039,  0.33333333],\n",
       "         [ 0.45490196,  0.4       ,  0.33333333, ...,  0.32156863,\n",
       "           0.32156863,  0.25098039],\n",
       "         [ 0.41960784,  0.41176471,  0.34901961, ...,  0.30196078,\n",
       "           0.32941176,  0.2627451 ]],\n",
       "\n",
       "        [[ 0.19215686,  0.18431373,  0.2       , ...,  0.14117647,\n",
       "           0.14117647,  0.12941176],\n",
       "         [ 0.2       ,  0.15686275,  0.17647059, ...,  0.12156863,\n",
       "           0.1254902 ,  0.13333333],\n",
       "         [ 0.18431373,  0.12941176,  0.14117647, ...,  0.13333333,\n",
       "           0.13333333,  0.12941176],\n",
       "         ..., \n",
       "         [ 0.69411765,  0.58039216,  0.5372549 , ...,  0.57254902,\n",
       "           0.42352941,  0.49803922],\n",
       "         [ 0.65882353,  0.58039216,  0.51764706, ...,  0.50980392,\n",
       "           0.49411765,  0.41960784],\n",
       "         [ 0.62745098,  0.58431373,  0.51764706, ...,  0.48627451,\n",
       "           0.50588235,  0.43137255]]],\n",
       "\n",
       "\n",
       "       [[[ 0.92156863,  0.90588235,  0.90980392, ...,  0.91372549,\n",
       "           0.91372549,  0.90980392],\n",
       "         [ 0.93333333,  0.92156863,  0.92156863, ...,  0.9254902 ,\n",
       "           0.9254902 ,  0.92156863],\n",
       "         [ 0.92941176,  0.91764706,  0.91764706, ...,  0.92156863,\n",
       "           0.92156863,  0.91764706],\n",
       "         ..., \n",
       "         [ 0.34117647,  0.16862745,  0.0745098 , ...,  0.6627451 ,\n",
       "           0.71372549,  0.7372549 ],\n",
       "         [ 0.32156863,  0.18039216,  0.14117647, ...,  0.68235294,\n",
       "           0.7254902 ,  0.73333333],\n",
       "         [ 0.33333333,  0.24313725,  0.22745098, ...,  0.65882353,\n",
       "           0.70588235,  0.72941176]],\n",
       "\n",
       "        [[ 0.92156863,  0.90588235,  0.90980392, ...,  0.91372549,\n",
       "           0.91372549,  0.90980392],\n",
       "         [ 0.93333333,  0.92156863,  0.92156863, ...,  0.9254902 ,\n",
       "           0.9254902 ,  0.92156863],\n",
       "         [ 0.92941176,  0.91764706,  0.91764706, ...,  0.92156863,\n",
       "           0.92156863,  0.91764706],\n",
       "         ..., \n",
       "         [ 0.38823529,  0.2       ,  0.09019608, ...,  0.72156863,\n",
       "           0.77254902,  0.79215686],\n",
       "         [ 0.37647059,  0.22352941,  0.17254902, ...,  0.74117647,\n",
       "           0.78431373,  0.79215686],\n",
       "         [ 0.39607843,  0.29411765,  0.2627451 , ...,  0.71764706,\n",
       "           0.76470588,  0.78431373]],\n",
       "\n",
       "        [[ 0.92156863,  0.90588235,  0.90980392, ...,  0.91372549,\n",
       "           0.91372549,  0.90980392],\n",
       "         [ 0.93333333,  0.92156863,  0.92156863, ...,  0.9254902 ,\n",
       "           0.9254902 ,  0.92156863],\n",
       "         [ 0.92941176,  0.91764706,  0.91764706, ...,  0.92156863,\n",
       "           0.92156863,  0.91764706],\n",
       "         ..., \n",
       "         [ 0.34901961,  0.14509804,  0.04313725, ...,  0.70196078,\n",
       "           0.75686275,  0.78823529],\n",
       "         [ 0.32156863,  0.14117647,  0.08627451, ...,  0.71764706,\n",
       "           0.76862745,  0.78431373],\n",
       "         [ 0.3254902 ,  0.18823529,  0.14901961, ...,  0.69803922,\n",
       "           0.74901961,  0.78039216]]],\n",
       "\n",
       "\n",
       "       [[[ 0.61960784,  0.61960784,  0.54509804, ...,  0.89411765,\n",
       "           0.92941176,  0.93333333],\n",
       "         [ 0.66666667,  0.6745098 ,  0.59215686, ...,  0.90980392,\n",
       "           0.96470588,  0.96470588],\n",
       "         [ 0.68235294,  0.69019608,  0.61568627, ...,  0.90196078,\n",
       "           0.98039216,  0.96078431],\n",
       "         ..., \n",
       "         [ 0.12156863,  0.11764706,  0.10196078, ...,  0.14509804,\n",
       "           0.03529412,  0.01568627],\n",
       "         [ 0.09019608,  0.10588235,  0.09803922, ...,  0.0745098 ,\n",
       "           0.01568627,  0.01960784],\n",
       "         [ 0.10980392,  0.11764706,  0.1254902 , ...,  0.01960784,\n",
       "           0.01568627,  0.02745098]],\n",
       "\n",
       "        [[ 0.74509804,  0.73333333,  0.65098039, ...,  0.90588235,\n",
       "           0.9372549 ,  0.94509804],\n",
       "         [ 0.78431373,  0.78039216,  0.69019608, ...,  0.90980392,\n",
       "           0.96470588,  0.96862745],\n",
       "         [ 0.78823529,  0.78431373,  0.70196078, ...,  0.89803922,\n",
       "           0.97647059,  0.95686275],\n",
       "         ..., \n",
       "         [ 0.15686275,  0.15294118,  0.1372549 , ...,  0.15686275,\n",
       "           0.05098039,  0.02745098],\n",
       "         [ 0.13333333,  0.14901961,  0.14117647, ...,  0.07843137,\n",
       "           0.02352941,  0.02745098],\n",
       "         [ 0.16078431,  0.16862745,  0.17647059, ...,  0.02352941,\n",
       "           0.01960784,  0.03137255]],\n",
       "\n",
       "        [[ 0.87058824,  0.85490196,  0.76078431, ...,  0.91764706,\n",
       "           0.95294118,  0.96470588],\n",
       "         [ 0.89803922,  0.88627451,  0.78823529, ...,  0.9254902 ,\n",
       "           0.98039216,  0.98431373],\n",
       "         [ 0.88235294,  0.87058824,  0.78039216, ...,  0.90980392,\n",
       "           0.98431373,  0.96862745],\n",
       "         ..., \n",
       "         [ 0.17647059,  0.17254902,  0.15686275, ...,  0.18039216,\n",
       "           0.05490196,  0.01960784],\n",
       "         [ 0.15294118,  0.16862745,  0.16078431, ...,  0.09411765,\n",
       "           0.01176471,  0.01176471],\n",
       "         [ 0.18431373,  0.19607843,  0.20392157, ...,  0.03137255,\n",
       "           0.01176471,  0.02745098]]],\n",
       "\n",
       "\n",
       "       ..., \n",
       "       [[[ 0.07843137,  0.0745098 ,  0.05882353, ...,  0.03921569,\n",
       "           0.04705882,  0.05098039],\n",
       "         [ 0.08235294,  0.07843137,  0.07058824, ...,  0.03921569,\n",
       "           0.03921569,  0.04705882],\n",
       "         [ 0.08235294,  0.08235294,  0.07843137, ...,  0.04705882,\n",
       "           0.04705882,  0.05098039],\n",
       "         ..., \n",
       "         [ 0.12941176,  0.13333333,  0.13333333, ...,  0.10980392,\n",
       "           0.11372549,  0.09019608],\n",
       "         [ 0.12941176,  0.13333333,  0.13333333, ...,  0.10588235,\n",
       "           0.10588235,  0.09803922],\n",
       "         [ 0.12156863,  0.1254902 ,  0.12941176, ...,  0.09411765,\n",
       "           0.10196078,  0.09803922]],\n",
       "\n",
       "        [[ 0.05882353,  0.05490196,  0.05490196, ...,  0.03529412,\n",
       "           0.04313725,  0.04705882],\n",
       "         [ 0.0627451 ,  0.0627451 ,  0.06666667, ...,  0.03529412,\n",
       "           0.03529412,  0.04313725],\n",
       "         [ 0.0627451 ,  0.06666667,  0.07058824, ...,  0.04313725,\n",
       "           0.04313725,  0.04705882],\n",
       "         ..., \n",
       "         [ 0.09803922,  0.10196078,  0.10196078, ...,  0.09803922,\n",
       "           0.09803922,  0.07843137],\n",
       "         [ 0.09803922,  0.10196078,  0.10196078, ...,  0.09411765,\n",
       "           0.09411765,  0.08627451],\n",
       "         [ 0.09019608,  0.09411765,  0.09803922, ...,  0.09019608,\n",
       "           0.09019608,  0.07843137]],\n",
       "\n",
       "        [[ 0.04705882,  0.04313725,  0.04313725, ...,  0.02745098,\n",
       "           0.03529412,  0.03921569],\n",
       "         [ 0.05098039,  0.05098039,  0.04705882, ...,  0.02745098,\n",
       "           0.02745098,  0.03529412],\n",
       "         [ 0.05098039,  0.04705882,  0.04313725, ...,  0.03529412,\n",
       "           0.03529412,  0.03921569],\n",
       "         ..., \n",
       "         [ 0.05098039,  0.05882353,  0.05882353, ...,  0.20392157,\n",
       "           0.22745098,  0.16470588],\n",
       "         [ 0.05490196,  0.05882353,  0.05882353, ...,  0.20392157,\n",
       "           0.21960784,  0.18431373],\n",
       "         [ 0.04705882,  0.05098039,  0.05490196, ...,  0.19607843,\n",
       "           0.20784314,  0.18431373]]],\n",
       "\n",
       "\n",
       "       [[[ 0.09803922,  0.05882353,  0.09019608, ...,  0.23921569,\n",
       "           0.36078431,  0.29411765],\n",
       "         [ 0.04705882,  0.07843137,  0.09411765, ...,  0.45098039,\n",
       "           0.58431373,  0.40784314],\n",
       "         [ 0.04705882,  0.05882353,  0.13333333, ...,  0.60392157,\n",
       "           0.61568627,  0.45490196],\n",
       "         ..., \n",
       "         [ 0.39215686,  0.40392157,  0.40784314, ...,  0.38039216,\n",
       "           0.38431373,  0.35686275],\n",
       "         [ 0.40392157,  0.40784314,  0.41960784, ...,  0.39607843,\n",
       "           0.38823529,  0.36078431],\n",
       "         [ 0.37254902,  0.37254902,  0.39607843, ...,  0.36470588,\n",
       "           0.37254902,  0.36078431]],\n",
       "\n",
       "        [[ 0.15686275,  0.14117647,  0.16078431, ...,  0.32156863,\n",
       "           0.44313725,  0.34901961],\n",
       "         [ 0.09803922,  0.14509804,  0.14117647, ...,  0.5254902 ,\n",
       "           0.65882353,  0.45882353],\n",
       "         [ 0.09803922,  0.11372549,  0.15686275, ...,  0.6745098 ,\n",
       "           0.68627451,  0.50588235],\n",
       "         ..., \n",
       "         [ 0.50588235,  0.51764706,  0.5254902 , ...,  0.50196078,\n",
       "           0.49411765,  0.4745098 ],\n",
       "         [ 0.51764706,  0.51372549,  0.52941176, ...,  0.51764706,\n",
       "           0.49803922,  0.4745098 ],\n",
       "         [ 0.49411765,  0.48235294,  0.50196078, ...,  0.48627451,\n",
       "           0.48235294,  0.47058824]],\n",
       "\n",
       "        [[ 0.04705882,  0.01176471,  0.07058824, ...,  0.30588235,\n",
       "           0.43921569,  0.36078431],\n",
       "         [ 0.02352941,  0.02745098,  0.05882353, ...,  0.54117647,\n",
       "           0.69411765,  0.51372549],\n",
       "         [ 0.04313725,  0.02352941,  0.09411765, ...,  0.71372549,\n",
       "           0.75294118,  0.59215686],\n",
       "         ..., \n",
       "         [ 0.31764706,  0.32941176,  0.3372549 , ...,  0.32941176,\n",
       "           0.32941176,  0.30980392],\n",
       "         [ 0.3254902 ,  0.3254902 ,  0.34117647, ...,  0.34117647,\n",
       "           0.32941176,  0.30980392],\n",
       "         [ 0.30588235,  0.29803922,  0.31764706, ...,  0.31372549,\n",
       "           0.31764706,  0.31372549]]],\n",
       "\n",
       "\n",
       "       [[[ 0.28627451,  0.38431373,  0.38823529, ...,  0.52941176,\n",
       "           0.52941176,  0.79607843],\n",
       "         [ 0.27058824,  0.32941176,  0.26666667, ...,  0.33333333,\n",
       "           0.27843137,  0.47058824],\n",
       "         [ 0.27058824,  0.35294118,  0.24313725, ...,  0.29019608,\n",
       "           0.20784314,  0.24313725],\n",
       "         ..., \n",
       "         [ 0.48235294,  0.51764706,  0.50588235, ...,  0.42352941,\n",
       "           0.24313725,  0.10588235],\n",
       "         [ 0.45098039,  0.48235294,  0.50588235, ...,  0.45098039,\n",
       "           0.25882353,  0.10588235],\n",
       "         [ 0.45490196,  0.4745098 ,  0.50588235, ...,  0.45490196,\n",
       "           0.26666667,  0.10588235]],\n",
       "\n",
       "        [[ 0.30588235,  0.40392157,  0.41568627, ...,  0.58823529,\n",
       "           0.58431373,  0.84313725],\n",
       "         [ 0.28627451,  0.34901961,  0.29411765, ...,  0.37254902,\n",
       "           0.32156863,  0.52156863],\n",
       "         [ 0.28627451,  0.37254902,  0.27843137, ...,  0.31764706,\n",
       "           0.24313725,  0.29019608],\n",
       "         ..., \n",
       "         [ 0.50196078,  0.51764706,  0.50196078, ...,  0.41960784,\n",
       "           0.23529412,  0.10588235],\n",
       "         [ 0.4745098 ,  0.48627451,  0.49411765, ...,  0.45490196,\n",
       "           0.25490196,  0.10588235],\n",
       "         [ 0.47058824,  0.47843137,  0.50196078, ...,  0.45098039,\n",
       "           0.25490196,  0.10196078]],\n",
       "\n",
       "        [[ 0.29411765,  0.44313725,  0.44705882, ...,  0.59607843,\n",
       "           0.60392157,  0.8745098 ],\n",
       "         [ 0.2745098 ,  0.38039216,  0.31764706, ...,  0.34901961,\n",
       "           0.31372549,  0.52941176],\n",
       "         [ 0.2745098 ,  0.39215686,  0.29019608, ...,  0.2745098 ,\n",
       "           0.21176471,  0.27058824],\n",
       "         ..., \n",
       "         [ 0.37647059,  0.4       ,  0.39215686, ...,  0.34509804,\n",
       "           0.21568627,  0.10980392],\n",
       "         [ 0.35686275,  0.37254902,  0.38823529, ...,  0.36862745,\n",
       "           0.23137255,  0.10588235],\n",
       "         [ 0.35294118,  0.36862745,  0.39607843, ...,  0.36862745,\n",
       "           0.22745098,  0.10196078]]]])"
      ]
     },
     "execution_count": 88,
     "metadata": {},
     "output_type": "execute_result"
    }
   ],
   "source": [
    "x_test"
   ]
  },
  {
   "cell_type": "code",
   "execution_count": 89,
   "metadata": {
    "collapsed": false
   },
   "outputs": [
    {
     "data": {
      "text/plain": [
       "array([[ 0.,  0.,  0., ...,  0.,  0.,  0.],\n",
       "       [ 0.,  0.,  0., ...,  0.,  1.,  0.],\n",
       "       [ 0.,  0.,  0., ...,  0.,  1.,  0.],\n",
       "       ..., \n",
       "       [ 0.,  0.,  0., ...,  0.,  0.,  0.],\n",
       "       [ 0.,  1.,  0., ...,  0.,  0.,  0.],\n",
       "       [ 0.,  0.,  0., ...,  1.,  0.,  0.]])"
      ]
     },
     "execution_count": 89,
     "metadata": {},
     "output_type": "execute_result"
    }
   ],
   "source": [
    "y_test"
   ]
  },
  {
   "cell_type": "code",
   "execution_count": 59,
   "metadata": {
    "collapsed": true
   },
   "outputs": [],
   "source": []
  },
  {
   "cell_type": "code",
   "execution_count": 90,
   "metadata": {
    "collapsed": false
   },
   "outputs": [
    {
     "data": {
      "text/plain": [
       "(10000, 10)"
      ]
     },
     "execution_count": 90,
     "metadata": {},
     "output_type": "execute_result"
    }
   ],
   "source": [
    "y_test.shape"
   ]
  },
  {
   "cell_type": "code",
   "execution_count": 91,
   "metadata": {
    "collapsed": true
   },
   "outputs": [],
   "source": [
    "y_test = np.ndarray.argmax(y_test,axis=1)"
   ]
  },
  {
   "cell_type": "code",
   "execution_count": 92,
   "metadata": {
    "collapsed": false
   },
   "outputs": [
    {
     "data": {
      "text/plain": [
       "(10000,)"
      ]
     },
     "execution_count": 92,
     "metadata": {},
     "output_type": "execute_result"
    }
   ],
   "source": [
    "y_test.shape"
   ]
  },
  {
   "cell_type": "code",
   "execution_count": 93,
   "metadata": {
    "collapsed": true
   },
   "outputs": [],
   "source": [
    "y_test = np_utils.to_categorical(y_test, 11)"
   ]
  },
  {
   "cell_type": "code",
   "execution_count": 94,
   "metadata": {
    "collapsed": false
   },
   "outputs": [
    {
     "data": {
      "text/plain": [
       "(10000, 11)"
      ]
     },
     "execution_count": 94,
     "metadata": {},
     "output_type": "execute_result"
    }
   ],
   "source": [
    "y_test.shape"
   ]
  },
  {
   "cell_type": "code",
   "execution_count": 95,
   "metadata": {
    "collapsed": false
   },
   "outputs": [
    {
     "data": {
      "text/plain": [
       "array([[ 0.,  0.,  0., ...,  0.,  0.,  0.],\n",
       "       [ 0.,  0.,  0., ...,  1.,  0.,  0.],\n",
       "       [ 0.,  0.,  0., ...,  1.,  0.,  0.],\n",
       "       ..., \n",
       "       [ 0.,  0.,  0., ...,  0.,  0.,  0.],\n",
       "       [ 0.,  1.,  0., ...,  0.,  0.,  0.],\n",
       "       [ 0.,  0.,  0., ...,  0.,  0.,  0.]])"
      ]
     },
     "execution_count": 95,
     "metadata": {},
     "output_type": "execute_result"
    }
   ],
   "source": [
    "y_test"
   ]
  },
  {
   "cell_type": "code",
   "execution_count": 72,
   "metadata": {
    "collapsed": false
   },
   "outputs": [
    {
     "name": "stdout",
     "output_type": "stream",
     "text": [
      "Test loss: 2.57058504868\n",
      "Test accuracy: 0.0\n"
     ]
    }
   ],
   "source": [
    "score = semisupmodel.evaluate(x_test, y_test, verbose=0)\n",
    "print('Test loss:', score[0])\n",
    "print('Test accuracy:', score[1])"
   ]
  },
  {
   "cell_type": "code",
   "execution_count": 73,
   "metadata": {
    "collapsed": false
   },
   "outputs": [
    {
     "data": {
      "text/plain": [
       "array([[[ 0.92156863,  0.90588235,  0.90980392, ...,  0.91372549,\n",
       "          0.91372549,  0.90980392],\n",
       "        [ 0.93333333,  0.92156863,  0.92156863, ...,  0.9254902 ,\n",
       "          0.9254902 ,  0.92156863],\n",
       "        [ 0.92941176,  0.91764706,  0.91764706, ...,  0.92156863,\n",
       "          0.92156863,  0.91764706],\n",
       "        ..., \n",
       "        [ 0.34117647,  0.16862745,  0.0745098 , ...,  0.6627451 ,\n",
       "          0.71372549,  0.7372549 ],\n",
       "        [ 0.32156863,  0.18039216,  0.14117647, ...,  0.68235294,\n",
       "          0.7254902 ,  0.73333333],\n",
       "        [ 0.33333333,  0.24313725,  0.22745098, ...,  0.65882353,\n",
       "          0.70588235,  0.72941176]],\n",
       "\n",
       "       [[ 0.92156863,  0.90588235,  0.90980392, ...,  0.91372549,\n",
       "          0.91372549,  0.90980392],\n",
       "        [ 0.93333333,  0.92156863,  0.92156863, ...,  0.9254902 ,\n",
       "          0.9254902 ,  0.92156863],\n",
       "        [ 0.92941176,  0.91764706,  0.91764706, ...,  0.92156863,\n",
       "          0.92156863,  0.91764706],\n",
       "        ..., \n",
       "        [ 0.38823529,  0.2       ,  0.09019608, ...,  0.72156863,\n",
       "          0.77254902,  0.79215686],\n",
       "        [ 0.37647059,  0.22352941,  0.17254902, ...,  0.74117647,\n",
       "          0.78431373,  0.79215686],\n",
       "        [ 0.39607843,  0.29411765,  0.2627451 , ...,  0.71764706,\n",
       "          0.76470588,  0.78431373]],\n",
       "\n",
       "       [[ 0.92156863,  0.90588235,  0.90980392, ...,  0.91372549,\n",
       "          0.91372549,  0.90980392],\n",
       "        [ 0.93333333,  0.92156863,  0.92156863, ...,  0.9254902 ,\n",
       "          0.9254902 ,  0.92156863],\n",
       "        [ 0.92941176,  0.91764706,  0.91764706, ...,  0.92156863,\n",
       "          0.92156863,  0.91764706],\n",
       "        ..., \n",
       "        [ 0.34901961,  0.14509804,  0.04313725, ...,  0.70196078,\n",
       "          0.75686275,  0.78823529],\n",
       "        [ 0.32156863,  0.14117647,  0.08627451, ...,  0.71764706,\n",
       "          0.76862745,  0.78431373],\n",
       "        [ 0.3254902 ,  0.18823529,  0.14901961, ...,  0.69803922,\n",
       "          0.74901961,  0.78039216]]])"
      ]
     },
     "execution_count": 73,
     "metadata": {},
     "output_type": "execute_result"
    }
   ],
   "source": [
    "x_test[1]"
   ]
  },
  {
   "cell_type": "code",
   "execution_count": 96,
   "metadata": {
    "collapsed": false
   },
   "outputs": [],
   "source": [
    "y_pred = semisupmodel.predict(x_test)"
   ]
  },
  {
   "cell_type": "code",
   "execution_count": 97,
   "metadata": {
    "collapsed": false
   },
   "outputs": [
    {
     "data": {
      "text/plain": [
       "array([  3.01892292e-02,   1.16203120e-03,   3.85981612e-02,\n",
       "         2.05297209e-02,   2.54299901e-02,   1.20777292e-02,\n",
       "         1.46516217e-02,   6.57828478e-03,   1.08419880e-02,\n",
       "         4.06319101e-04,   8.39534760e-01], dtype=float32)"
      ]
     },
     "execution_count": 97,
     "metadata": {},
     "output_type": "execute_result"
    }
   ],
   "source": [
    "y_pred[0]"
   ]
  },
  {
   "cell_type": "code",
   "execution_count": 98,
   "metadata": {
    "collapsed": false
   },
   "outputs": [
    {
     "data": {
      "text/plain": [
       "array([ 0.,  0.,  0.,  1.,  0.,  0.,  0.,  0.,  0.,  0.,  0.])"
      ]
     },
     "execution_count": 98,
     "metadata": {},
     "output_type": "execute_result"
    }
   ],
   "source": [
    "y_test[0]"
   ]
  },
  {
   "cell_type": "code",
   "execution_count": 99,
   "metadata": {
    "collapsed": true
   },
   "outputs": [],
   "source": [
    "y_pred_new = y_pred[:, :10]  # First 10 columns of full_array\n"
   ]
  },
  {
   "cell_type": "code",
   "execution_count": 100,
   "metadata": {
    "collapsed": false
   },
   "outputs": [
    {
     "data": {
      "text/plain": [
       "array([ 0.03018923,  0.00116203,  0.03859816,  0.02052972,  0.02542999,\n",
       "        0.01207773,  0.01465162,  0.00657828,  0.01084199,  0.00040632], dtype=float32)"
      ]
     },
     "execution_count": 100,
     "metadata": {},
     "output_type": "execute_result"
    }
   ],
   "source": [
    "y_pred_new[0]"
   ]
  },
  {
   "cell_type": "code",
   "execution_count": 101,
   "metadata": {
    "collapsed": true
   },
   "outputs": [],
   "source": [
    "y_pred_new = np.ndarray.argmax(y_pred_new,axis=1)"
   ]
  },
  {
   "cell_type": "code",
   "execution_count": 102,
   "metadata": {
    "collapsed": false
   },
   "outputs": [
    {
     "data": {
      "text/plain": [
       "2"
      ]
     },
     "execution_count": 102,
     "metadata": {},
     "output_type": "execute_result"
    }
   ],
   "source": [
    "y_pred_new[0]"
   ]
  },
  {
   "cell_type": "code",
   "execution_count": 103,
   "metadata": {
    "collapsed": false
   },
   "outputs": [
    {
     "data": {
      "text/plain": [
       "(10000,)"
      ]
     },
     "execution_count": 103,
     "metadata": {},
     "output_type": "execute_result"
    }
   ],
   "source": [
    "y_pred_new.shape"
   ]
  },
  {
   "cell_type": "code",
   "execution_count": 104,
   "metadata": {
    "collapsed": false
   },
   "outputs": [
    {
     "data": {
      "text/plain": [
       "array([2, 8, 1, ..., 5, 6, 6])"
      ]
     },
     "execution_count": 104,
     "metadata": {},
     "output_type": "execute_result"
    }
   ],
   "source": [
    "y_pred_new"
   ]
  },
  {
   "cell_type": "code",
   "execution_count": 105,
   "metadata": {
    "collapsed": true
   },
   "outputs": [],
   "source": [
    "y_test_new = np.ndarray.argmax(y_test,axis=1)"
   ]
  },
  {
   "cell_type": "code",
   "execution_count": 106,
   "metadata": {
    "collapsed": false
   },
   "outputs": [
    {
     "data": {
      "text/plain": [
       "array([3, 8, 8, ..., 5, 1, 7])"
      ]
     },
     "execution_count": 106,
     "metadata": {},
     "output_type": "execute_result"
    }
   ],
   "source": [
    "y_test_new"
   ]
  },
  {
   "cell_type": "code",
   "execution_count": null,
   "metadata": {
    "collapsed": true
   },
   "outputs": [],
   "source": []
  },
  {
   "cell_type": "code",
   "execution_count": 107,
   "metadata": {
    "collapsed": false
   },
   "outputs": [
    {
     "name": "stdout",
     "output_type": "stream",
     "text": [
      "tested  10000 digits\n",
      "correct:  2537 wrong:  7463 error rate:  74.63 %\n",
      "got correctly  25.37 %\n"
     ]
    }
   ],
   "source": [
    "num=10000\n",
    "r=0\n",
    "w=0\n",
    "for i in range(num):\n",
    "        #print ('y_pred ',y_pred[i])\n",
    "        #print ('labels ',labels[i])\n",
    "        #without the use of all() returns error truth value of an array with more than one element is ambiguous\n",
    "        #if y_pred_new[i].all() == y_test_new[i].all():\n",
    "        if np.array_equal(y_pred_new[i],y_test_new[i]):\n",
    "            r+=1\n",
    "        else:\n",
    "            w+=1\n",
    "print (\"tested \",  num, \"digits\")\n",
    "print (\"correct: \", r, \"wrong: \", w, \"error rate: \", float(w)*100/(r+w), \"%\")\n",
    "print (\"got correctly \", float(r)*100/(r+w), \"%\")"
   ]
  },
  {
   "cell_type": "code",
   "execution_count": 108,
   "metadata": {
    "collapsed": false
   },
   "outputs": [
    {
     "name": "stdout",
     "output_type": "stream",
     "text": [
      "{0: 1000, 1: 1000, 2: 1000, 3: 1000, 4: 1000, 5: 1000, 6: 1000, 7: 1000, 8: 1000, 9: 1000}\n"
     ]
    }
   ],
   "source": [
    "unique, counts = numpy.unique(y_test_new, return_counts=True)\n",
    "print (dict(zip(unique, counts)))"
   ]
  },
  {
   "cell_type": "code",
   "execution_count": 109,
   "metadata": {
    "collapsed": false
   },
   "outputs": [
    {
     "name": "stdout",
     "output_type": "stream",
     "text": [
      "{0: 776, 1: 2309, 2: 213, 4: 770, 5: 817, 6: 3930, 7: 82, 8: 1103}\n"
     ]
    }
   ],
   "source": [
    "unique, counts = numpy.unique(y_pred_new, return_counts=True)\n",
    "print (dict(zip(unique, counts)))"
   ]
  },
  {
   "cell_type": "code",
   "execution_count": null,
   "metadata": {
    "collapsed": true
   },
   "outputs": [],
   "source": []
  },
  {
   "cell_type": "code",
   "execution_count": null,
   "metadata": {
    "collapsed": true
   },
   "outputs": [],
   "source": []
  },
  {
   "cell_type": "code",
   "execution_count": null,
   "metadata": {
    "collapsed": true
   },
   "outputs": [],
   "source": []
  },
  {
   "cell_type": "code",
   "execution_count": null,
   "metadata": {
    "collapsed": true
   },
   "outputs": [],
   "source": []
  },
  {
   "cell_type": "code",
   "execution_count": null,
   "metadata": {
    "collapsed": true
   },
   "outputs": [],
   "source": []
  }
 ],
 "metadata": {
  "kernelspec": {
   "display_name": "Python 3",
   "language": "python",
   "name": "python3"
  },
  "language_info": {
   "codemirror_mode": {
    "name": "ipython",
    "version": 3
   },
   "file_extension": ".py",
   "mimetype": "text/x-python",
   "name": "python",
   "nbconvert_exporter": "python",
   "pygments_lexer": "ipython3",
   "version": "3.5.2"
  }
 },
 "nbformat": 4,
 "nbformat_minor": 0
}
