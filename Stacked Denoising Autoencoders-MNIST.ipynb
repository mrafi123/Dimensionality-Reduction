{
 "cells": [
  {
   "cell_type": "code",
   "execution_count": 1,
   "metadata": {
    "collapsed": false,
    "scrolled": true
   },
   "outputs": [
    {
     "name": "stderr",
     "output_type": "stream",
     "text": [
      "Using gpu device 0: GeForce 920M (CNMeM is disabled, cuDNN not available)\n",
      "Using Theano backend.\n"
     ]
    }
   ],
   "source": [
    "import os    \n",
    "#os.environ['THEANO_FLAGS'] = \"device=gpu1\"  \n",
    "#os.environ[\"THEANO_FLAGS\"] = \"mode=FAST_RUN,device=gpu0,floatX=float32,lib.cnmem=1\"\n",
    "os.environ[\"THEANO_FLAGS\"] = \"mode=FAST_RUN,device=gpu0,floatX=float32\"\n",
    "import theano\n",
    "\n",
    "from keras.layers import Input, Dense\n",
    "from keras.models import Model\n",
    "from keras.callbacks import EarlyStopping, ModelCheckpoint\n",
    "\n",
    "from sklearn.cross_validation import train_test_split\n",
    "from sklearn.cross_validation import KFold\n",
    "\n",
    "from keras.datasets import mnist\n",
    "import numpy as np\n",
    "import matplotlib.pyplot as plt\n",
    "\n",
    "%matplotlib inline\n",
    "\n",
    "# this is the size of our encoded representations\n",
    "#encoding_dim = 32  # 32 floats -> compression of factor 24.5, assuming the input is 784 floats\n",
    "#encoding_dim = 3\n",
    "encoding_dim = 25\n",
    "\n",
    "\n",
    "# this is our input placeholder\n",
    "input_img = Input(shape=(784,))\n",
    "\n",
    "# \"encoded\" is the encoded representation of the input\n",
    "encoded = Dense(676, activation='relu')(input_img) #26X26\n",
    "encoded = Dense(484, activation='relu')(encoded) #22X22\n",
    "encoded = Dense(324, activation='relu')(encoded)  #18X18\n",
    "encoded = Dense(144, activation='relu')(encoded)  #12X12\n",
    "encoded = Dense(64, activation='relu')(encoded)  #8X8\n",
    "#encoded = Dense(20, activation='sigmoid')(encoded)  \n",
    "\n",
    "encoded = Dense(encoding_dim, activation='relu')(encoded)\n",
    "\n",
    "# \"decoded\" is the lossy reconstruction of the input\n",
    "\n",
    "decoded = Dense(784, activation='sigmoid')(encoded)\n",
    "\n",
    "# this model maps an input to its reconstruction\n",
    "autoencoder = Model(input=input_img, output=decoded)\n"
   ]
  },
  {
   "cell_type": "code",
   "execution_count": 2,
   "metadata": {
    "collapsed": false
   },
   "outputs": [
    {
     "name": "stdout",
     "output_type": "stream",
     "text": [
      "25\n",
      "input_1\n",
      "Elemwise{mul,no_inplace}.0\n",
      "sigmoid.0\n",
      "<keras.engine.training.Model object at 0x7f2e59499dd8>\n"
     ]
    }
   ],
   "source": [
    "print (encoding_dim)\n",
    "print (input_img)\n",
    "print (encoded)\n",
    "print (decoded)\n",
    "print (autoencoder)"
   ]
  },
  {
   "cell_type": "code",
   "execution_count": 3,
   "metadata": {
    "collapsed": true,
    "scrolled": true
   },
   "outputs": [],
   "source": [
    "# this model maps an input to its encoded representation\n",
    "encoder = Model(input=input_img, output=encoded)"
   ]
  },
  {
   "cell_type": "code",
   "execution_count": 4,
   "metadata": {
    "collapsed": false
   },
   "outputs": [
    {
     "name": "stdout",
     "output_type": "stream",
     "text": [
      "<keras.engine.training.Model object at 0x7f2e98740908>\n"
     ]
    }
   ],
   "source": [
    "print (encoder)"
   ]
  },
  {
   "cell_type": "code",
   "execution_count": 5,
   "metadata": {
    "collapsed": false,
    "scrolled": true
   },
   "outputs": [],
   "source": [
    "# create a placeholder for an encoded (32-dimensional) input\n",
    "encoded_input = Input(shape=(encoding_dim,))\n",
    "# retrieve the last layer of the autoencoder model\n",
    "decoder_layer = autoencoder.layers[-1]\n",
    "# create the decoder model\n",
    "decoder = Model(input=encoded_input, output=decoder_layer(encoded_input))"
   ]
  },
  {
   "cell_type": "code",
   "execution_count": 6,
   "metadata": {
    "collapsed": false
   },
   "outputs": [
    {
     "name": "stdout",
     "output_type": "stream",
     "text": [
      "input_2\n",
      "<keras.layers.core.Dense object at 0x7f2e594f8b38>\n",
      "<keras.engine.training.Model object at 0x7f2e59488be0>\n"
     ]
    }
   ],
   "source": [
    "print (encoded_input)\n",
    "print (decoder_layer)\n",
    "print (decoder)"
   ]
  },
  {
   "cell_type": "code",
   "execution_count": 7,
   "metadata": {
    "collapsed": true,
    "scrolled": true
   },
   "outputs": [],
   "source": [
    "autoencoder.compile(optimizer='adadelta', loss='binary_crossentropy')"
   ]
  },
  {
   "cell_type": "code",
   "execution_count": 11,
   "metadata": {
    "collapsed": false,
    "scrolled": true
   },
   "outputs": [
    {
     "name": "stdout",
     "output_type": "stream",
     "text": [
      "[[[0 0 0 ..., 0 0 0]\n",
      "  [0 0 0 ..., 0 0 0]\n",
      "  [0 0 0 ..., 0 0 0]\n",
      "  ..., \n",
      "  [0 0 0 ..., 0 0 0]\n",
      "  [0 0 0 ..., 0 0 0]\n",
      "  [0 0 0 ..., 0 0 0]]\n",
      "\n",
      " [[0 0 0 ..., 0 0 0]\n",
      "  [0 0 0 ..., 0 0 0]\n",
      "  [0 0 0 ..., 0 0 0]\n",
      "  ..., \n",
      "  [0 0 0 ..., 0 0 0]\n",
      "  [0 0 0 ..., 0 0 0]\n",
      "  [0 0 0 ..., 0 0 0]]\n",
      "\n",
      " [[0 0 0 ..., 0 0 0]\n",
      "  [0 0 0 ..., 0 0 0]\n",
      "  [0 0 0 ..., 0 0 0]\n",
      "  ..., \n",
      "  [0 0 0 ..., 0 0 0]\n",
      "  [0 0 0 ..., 0 0 0]\n",
      "  [0 0 0 ..., 0 0 0]]\n",
      "\n",
      " ..., \n",
      " [[0 0 0 ..., 0 0 0]\n",
      "  [0 0 0 ..., 0 0 0]\n",
      "  [0 0 0 ..., 0 0 0]\n",
      "  ..., \n",
      "  [0 0 0 ..., 0 0 0]\n",
      "  [0 0 0 ..., 0 0 0]\n",
      "  [0 0 0 ..., 0 0 0]]\n",
      "\n",
      " [[0 0 0 ..., 0 0 0]\n",
      "  [0 0 0 ..., 0 0 0]\n",
      "  [0 0 0 ..., 0 0 0]\n",
      "  ..., \n",
      "  [0 0 0 ..., 0 0 0]\n",
      "  [0 0 0 ..., 0 0 0]\n",
      "  [0 0 0 ..., 0 0 0]]\n",
      "\n",
      " [[0 0 0 ..., 0 0 0]\n",
      "  [0 0 0 ..., 0 0 0]\n",
      "  [0 0 0 ..., 0 0 0]\n",
      "  ..., \n",
      "  [0 0 0 ..., 0 0 0]\n",
      "  [0 0 0 ..., 0 0 0]\n",
      "  [0 0 0 ..., 0 0 0]]]\n",
      "[[[0 0 0 ..., 0 0 0]\n",
      "  [0 0 0 ..., 0 0 0]\n",
      "  [0 0 0 ..., 0 0 0]\n",
      "  ..., \n",
      "  [0 0 0 ..., 0 0 0]\n",
      "  [0 0 0 ..., 0 0 0]\n",
      "  [0 0 0 ..., 0 0 0]]\n",
      "\n",
      " [[0 0 0 ..., 0 0 0]\n",
      "  [0 0 0 ..., 0 0 0]\n",
      "  [0 0 0 ..., 0 0 0]\n",
      "  ..., \n",
      "  [0 0 0 ..., 0 0 0]\n",
      "  [0 0 0 ..., 0 0 0]\n",
      "  [0 0 0 ..., 0 0 0]]\n",
      "\n",
      " [[0 0 0 ..., 0 0 0]\n",
      "  [0 0 0 ..., 0 0 0]\n",
      "  [0 0 0 ..., 0 0 0]\n",
      "  ..., \n",
      "  [0 0 0 ..., 0 0 0]\n",
      "  [0 0 0 ..., 0 0 0]\n",
      "  [0 0 0 ..., 0 0 0]]\n",
      "\n",
      " ..., \n",
      " [[0 0 0 ..., 0 0 0]\n",
      "  [0 0 0 ..., 0 0 0]\n",
      "  [0 0 0 ..., 0 0 0]\n",
      "  ..., \n",
      "  [0 0 0 ..., 0 0 0]\n",
      "  [0 0 0 ..., 0 0 0]\n",
      "  [0 0 0 ..., 0 0 0]]\n",
      "\n",
      " [[0 0 0 ..., 0 0 0]\n",
      "  [0 0 0 ..., 0 0 0]\n",
      "  [0 0 0 ..., 0 0 0]\n",
      "  ..., \n",
      "  [0 0 0 ..., 0 0 0]\n",
      "  [0 0 0 ..., 0 0 0]\n",
      "  [0 0 0 ..., 0 0 0]]\n",
      "\n",
      " [[0 0 0 ..., 0 0 0]\n",
      "  [0 0 0 ..., 0 0 0]\n",
      "  [0 0 0 ..., 0 0 0]\n",
      "  ..., \n",
      "  [0 0 0 ..., 0 0 0]\n",
      "  [0 0 0 ..., 0 0 0]\n",
      "  [0 0 0 ..., 0 0 0]]]\n"
     ]
    }
   ],
   "source": [
    "(x_train, y_train), (x_test, y_test) = mnist.load_data()\n",
    "print(x_train)\n",
    "print(x_test)"
   ]
  },
  {
   "cell_type": "code",
   "execution_count": 20,
   "metadata": {
    "collapsed": false,
    "scrolled": true
   },
   "outputs": [],
   "source": [
    "x_train = x_train.astype('float32') / 255.\n",
    "x_test = x_test.astype('float32') / 255.\n",
    "x_train = x_train.reshape((len(x_train), np.prod(x_train.shape[1:])))\n",
    "x_test = x_test.reshape((len(x_test), np.prod(x_test.shape[1:])))"
   ]
  },
  {
   "cell_type": "code",
   "execution_count": 21,
   "metadata": {
    "collapsed": false
   },
   "outputs": [
    {
     "name": "stdout",
     "output_type": "stream",
     "text": [
      "60000\n",
      "(60000, 784)\n",
      "(10000, 784)\n",
      "(60000,)\n",
      "(10000,)\n",
      "float32\n",
      "float32\n",
      "[[ 0.  0.  0. ...,  0.  0.  0.]\n",
      " [ 0.  0.  0. ...,  0.  0.  0.]\n",
      " [ 0.  0.  0. ...,  0.  0.  0.]\n",
      " ..., \n",
      " [ 0.  0.  0. ...,  0.  0.  0.]\n",
      " [ 0.  0.  0. ...,  0.  0.  0.]\n",
      " [ 0.  0.  0. ...,  0.  0.  0.]]\n",
      "[[ 0.  0.  0. ...,  0.  0.  0.]\n",
      " [ 0.  0.  0. ...,  0.  0.  0.]\n",
      " [ 0.  0.  0. ...,  0.  0.  0.]\n",
      " ..., \n",
      " [ 0.  0.  0. ...,  0.  0.  0.]\n",
      " [ 0.  0.  0. ...,  0.  0.  0.]\n",
      " [ 0.  0.  0. ...,  0.  0.  0.]]\n"
     ]
    }
   ],
   "source": [
    "x_train = np.array(x_train)\n",
    "x_test = np.array(x_test)\n",
    "y_train = np.array(y_train)\n",
    "y_test = np.array(y_test)\n",
    "print(len(x_train))\n",
    "print (x_train.shape)\n",
    "print (x_test.shape)\n",
    "print (y_train.shape)\n",
    "print (y_test.shape)\n",
    "print (x_train.dtype)\n",
    "print (x_test.dtype)\n",
    "print (x_train)\n",
    "print (x_test)"
   ]
  },
  {
   "cell_type": "code",
   "execution_count": 22,
   "metadata": {
    "collapsed": true
   },
   "outputs": [],
   "source": [
    "nfold=10\n",
    "nb_epoch=50\n",
    "batch_size=256\n",
    "random_state =33"
   ]
  },
  {
   "cell_type": "code",
   "execution_count": 23,
   "metadata": {
    "collapsed": false
   },
   "outputs": [
    {
     "name": "stdout",
     "output_type": "stream",
     "text": [
      "mnist_weights_kfold_10_epoch_50_batch_256.h5\n"
     ]
    }
   ],
   "source": [
    "kfold_weights_path = os.path.join('mnist_weights_kfold_' + str(nfold) + \n",
    "                                  '_epoch_'+str(nb_epoch)+\n",
    "                                  '_batch_'+str(batch_size)\n",
    "                                  +'.h5')\n",
    "print(kfold_weights_path)"
   ]
  },
  {
   "cell_type": "code",
   "execution_count": 24,
   "metadata": {
    "collapsed": false
   },
   "outputs": [
    {
     "name": "stdout",
     "output_type": "stream",
     "text": [
      "sklearn.cross_validation.KFold(n=60000, n_folds=10, shuffle=True, random_state=33)\n"
     ]
    }
   ],
   "source": [
    "kf = KFold(len(x_train), n_folds=nfold, shuffle=True, random_state=random_state)\n",
    "print(kf)"
   ]
  },
  {
   "cell_type": "code",
   "execution_count": 25,
   "metadata": {
    "collapsed": false
   },
   "outputs": [
    {
     "name": "stdout",
     "output_type": "stream",
     "text": [
      "(60000, 25)\n",
      "(10000, 784)\n",
      "(10000, 25)\n",
      "(10000, 784)\n"
     ]
    }
   ],
   "source": [
    "train_full_encoded_imgs = np.zeros(shape=[x_train.shape[0],encoding_dim])\n",
    "print(train_full_encoded_imgs.shape)\n",
    "print(x_test.shape)\n",
    "test_full_encoded_imgs = np.zeros(shape=[x_test.shape[0],encoding_dim])\n",
    "test_full_decoded_imgs = np.zeros(shape=[x_test.shape[0],x_test.shape[1]])\n",
    "print(test_full_encoded_imgs.shape)\n",
    "print(test_full_decoded_imgs.shape)"
   ]
  },
  {
   "cell_type": "code",
   "execution_count": 26,
   "metadata": {
    "collapsed": false
   },
   "outputs": [
    {
     "data": {
      "text/plain": [
       "False"
      ]
     },
     "execution_count": 26,
     "metadata": {},
     "output_type": "execute_result"
    }
   ],
   "source": [
    "os.path.isfile(kfold_weights_path)"
   ]
  },
  {
   "cell_type": "code",
   "execution_count": 27,
   "metadata": {
    "collapsed": false
   },
   "outputs": [
    {
     "name": "stdout",
     "output_type": "stream",
     "text": [
      "\n",
      "\n",
      "Start KFold number 1 from 10\n",
      "Split train:  54000 54000\n",
      "Split valid:  6000 6000\n",
      "Train on 54000 samples, validate on 6000 samples\n",
      "Epoch 1/50\n",
      "54000/54000 [==============================] - 6s - loss: 0.3680 - val_loss: 0.2601\n",
      "Epoch 2/50\n",
      "54000/54000 [==============================] - 5s - loss: 0.2564 - val_loss: 0.2522\n",
      "Epoch 3/50\n",
      "54000/54000 [==============================] - 5s - loss: 0.2488 - val_loss: 0.2440\n",
      "Epoch 4/50\n",
      "54000/54000 [==============================] - 5s - loss: 0.2407 - val_loss: 0.2381\n",
      "Epoch 5/50\n",
      "54000/54000 [==============================] - 5s - loss: 0.2347 - val_loss: 0.2307\n",
      "Epoch 6/50\n",
      "54000/54000 [==============================] - 5s - loss: 0.2239 - val_loss: 0.2158\n",
      "Epoch 7/50\n",
      "54000/54000 [==============================] - 5s - loss: 0.2075 - val_loss: 0.2004\n",
      "Epoch 8/50\n",
      "54000/54000 [==============================] - 5s - loss: 0.1948 - val_loss: 0.1919\n",
      "Epoch 9/50\n",
      "54000/54000 [==============================] - 5s - loss: 0.1889 - val_loss: 0.1882\n",
      "Epoch 10/50\n",
      "54000/54000 [==============================] - 5s - loss: 0.1852 - val_loss: 0.1826\n",
      "Epoch 11/50\n",
      "54000/54000 [==============================] - 5s - loss: 0.1810 - val_loss: 0.1783\n",
      "Epoch 12/50\n",
      "54000/54000 [==============================] - 5s - loss: 0.1764 - val_loss: 0.1742\n",
      "Epoch 13/50\n",
      "54000/54000 [==============================] - 5s - loss: 0.1726 - val_loss: 0.1706\n",
      "Epoch 14/50\n",
      "54000/54000 [==============================] - 5s - loss: 0.1697 - val_loss: 0.1686\n",
      "Epoch 15/50\n",
      "54000/54000 [==============================] - 5s - loss: 0.1674 - val_loss: 0.1655\n",
      "Epoch 16/50\n",
      "54000/54000 [==============================] - 5s - loss: 0.1653 - val_loss: 0.1643\n",
      "Epoch 17/50\n",
      "54000/54000 [==============================] - 5s - loss: 0.1627 - val_loss: 0.1613\n",
      "Epoch 18/50\n",
      "54000/54000 [==============================] - 5s - loss: 0.1602 - val_loss: 0.1581\n",
      "Epoch 19/50\n",
      "54000/54000 [==============================] - 5s - loss: 0.1573 - val_loss: 0.1557\n",
      "Epoch 20/50\n",
      "54000/54000 [==============================] - 5s - loss: 0.1551 - val_loss: 0.1543\n",
      "Epoch 21/50\n",
      "54000/54000 [==============================] - 5s - loss: 0.1530 - val_loss: 0.1517\n",
      "Epoch 22/50\n",
      "54000/54000 [==============================] - 5s - loss: 0.1509 - val_loss: 0.1501\n",
      "Epoch 23/50\n",
      "54000/54000 [==============================] - 5s - loss: 0.1489 - val_loss: 0.1477\n",
      "Epoch 24/50\n",
      "54000/54000 [==============================] - 5s - loss: 0.1469 - val_loss: 0.1462\n",
      "Epoch 25/50\n",
      "54000/54000 [==============================] - 5s - loss: 0.1451 - val_loss: 0.1441\n",
      "Epoch 26/50\n",
      "54000/54000 [==============================] - 5s - loss: 0.1432 - val_loss: 0.1444\n",
      "Epoch 27/50\n",
      "54000/54000 [==============================] - 5s - loss: 0.1417 - val_loss: 0.1409\n",
      "Epoch 28/50\n",
      "54000/54000 [==============================] - 5s - loss: 0.1403 - val_loss: 0.1401\n",
      "Epoch 29/50\n",
      "54000/54000 [==============================] - 5s - loss: 0.1386 - val_loss: 0.1375\n",
      "Epoch 30/50\n",
      "54000/54000 [==============================] - 5s - loss: 0.1373 - val_loss: 0.1365\n",
      "Epoch 31/50\n",
      "54000/54000 [==============================] - 5s - loss: 0.1361 - val_loss: 0.1354\n",
      "Epoch 32/50\n",
      "54000/54000 [==============================] - 5s - loss: 0.1349 - val_loss: 0.1344\n",
      "Epoch 33/50\n",
      "54000/54000 [==============================] - 5s - loss: 0.1339 - val_loss: 0.1324\n",
      "Epoch 34/50\n",
      "54000/54000 [==============================] - 5s - loss: 0.1327 - val_loss: 0.1328\n",
      "Epoch 35/50\n",
      "54000/54000 [==============================] - 5s - loss: 0.1318 - val_loss: 0.1314\n",
      "Epoch 36/50\n",
      "54000/54000 [==============================] - 5s - loss: 0.1309 - val_loss: 0.1304\n",
      "Epoch 37/50\n",
      "54000/54000 [==============================] - 5s - loss: 0.1300 - val_loss: 0.1300\n",
      "Epoch 38/50\n",
      "54000/54000 [==============================] - 5s - loss: 0.1290 - val_loss: 0.1282\n",
      "Epoch 39/50\n",
      "54000/54000 [==============================] - 5s - loss: 0.1284 - val_loss: 0.1288\n",
      "Epoch 40/50\n",
      "54000/54000 [==============================] - 5s - loss: 0.1277 - val_loss: 0.1270\n",
      "Epoch 41/50\n",
      "54000/54000 [==============================] - 5s - loss: 0.1272 - val_loss: 0.1270\n",
      "Epoch 42/50\n",
      "54000/54000 [==============================] - 5s - loss: 0.1267 - val_loss: 0.1265\n",
      "Epoch 43/50\n",
      "54000/54000 [==============================] - 5s - loss: 0.1260 - val_loss: 0.1263\n",
      "Epoch 44/50\n",
      "54000/54000 [==============================] - 5s - loss: 0.1257 - val_loss: 0.1250\n",
      "Epoch 45/50\n",
      "54000/54000 [==============================] - 5s - loss: 0.1251 - val_loss: 0.1249\n",
      "Epoch 46/50\n",
      "54000/54000 [==============================] - 5s - loss: 0.1246 - val_loss: 0.1260\n",
      "Epoch 47/50\n",
      "54000/54000 [==============================] - 5s - loss: 0.1243 - val_loss: 0.1230\n",
      "Epoch 48/50\n",
      "54000/54000 [==============================] - 5s - loss: 0.1238 - val_loss: 0.1235\n",
      "Epoch 49/50\n",
      "54000/54000 [==============================] - 5s - loss: 0.1234 - val_loss: 0.1241\n",
      " 9984/10000 [============================>.] - ETA: 0s\n",
      "\n",
      "Start KFold number 2 from 10\n",
      "Split train:  54000 54000\n",
      "Split valid:  6000 6000\n",
      "Train on 54000 samples, validate on 6000 samples\n",
      "Epoch 1/50\n",
      "54000/54000 [==============================] - 5s - loss: 0.1230 - val_loss: 0.1236\n",
      "Epoch 2/50\n",
      "54000/54000 [==============================] - 5s - loss: 0.1225 - val_loss: 0.1241\n",
      "Epoch 3/50\n",
      "54000/54000 [==============================] - 6s - loss: 0.1222 - val_loss: 0.1225\n",
      "Epoch 4/50\n",
      "54000/54000 [==============================] - 6s - loss: 0.1216 - val_loss: 0.1219\n",
      "Epoch 5/50\n",
      "54000/54000 [==============================] - 6s - loss: 0.1213 - val_loss: 0.1216\n",
      "Epoch 6/50\n",
      "54000/54000 [==============================] - 5s - loss: 0.1208 - val_loss: 0.1219\n",
      "Epoch 7/50\n",
      "54000/54000 [==============================] - 5s - loss: 0.1204 - val_loss: 0.1205\n",
      "Epoch 8/50\n",
      "54000/54000 [==============================] - 5s - loss: 0.1200 - val_loss: 0.1212\n",
      "Epoch 9/50\n",
      "54000/54000 [==============================] - 5s - loss: 0.1196 - val_loss: 0.1202\n",
      "Epoch 10/50\n",
      "54000/54000 [==============================] - 5s - loss: 0.1192 - val_loss: 0.1198\n",
      "Epoch 11/50\n",
      "54000/54000 [==============================] - 5s - loss: 0.1186 - val_loss: 0.1194\n",
      "Epoch 12/50\n",
      "54000/54000 [==============================] - 5s - loss: 0.1182 - val_loss: 0.1189\n",
      "Epoch 13/50\n",
      "54000/54000 [==============================] - 5s - loss: 0.1178 - val_loss: 0.1182\n",
      "Epoch 14/50\n",
      "54000/54000 [==============================] - 6s - loss: 0.1171 - val_loss: 0.1174\n",
      "Epoch 15/50\n",
      "54000/54000 [==============================] - 5s - loss: 0.1166 - val_loss: 0.1191\n",
      "Epoch 16/50\n",
      "54000/54000 [==============================] - 6s - loss: 0.1162 - val_loss: 0.1168\n",
      "Epoch 17/50\n",
      "54000/54000 [==============================] - 5s - loss: 0.1156 - val_loss: 0.1174\n",
      "Epoch 18/50\n",
      "54000/54000 [==============================] - 5s - loss: 0.1153 - val_loss: 0.1157\n",
      "Epoch 19/50\n",
      "54000/54000 [==============================] - 5s - loss: 0.1146 - val_loss: 0.1159\n",
      "Epoch 20/50\n",
      "54000/54000 [==============================] - 5s - loss: 0.1143 - val_loss: 0.1155\n",
      "Epoch 21/50\n",
      "54000/54000 [==============================] - 5s - loss: 0.1137 - val_loss: 0.1144\n",
      "Epoch 22/50\n",
      "54000/54000 [==============================] - 5s - loss: 0.1132 - val_loss: 0.1136\n",
      "Epoch 23/50\n",
      "54000/54000 [==============================] - 5s - loss: 0.1129 - val_loss: 0.1135\n",
      "Epoch 24/50\n",
      "54000/54000 [==============================] - 6s - loss: 0.1126 - val_loss: 0.1129\n",
      "Epoch 25/50\n",
      "54000/54000 [==============================] - 5s - loss: 0.1122 - val_loss: 0.1134\n",
      "Epoch 26/50\n",
      "54000/54000 [==============================] - 5s - loss: 0.1120 - val_loss: 0.1137\n",
      " 9472/10000 [===========================>..] - ETA: 0s\n",
      "\n",
      "Start KFold number 3 from 10\n",
      "Split train:  54000 54000\n",
      "Split valid:  6000 6000\n",
      "Train on 54000 samples, validate on 6000 samples\n",
      "Epoch 1/50\n",
      "54000/54000 [==============================] - 5s - loss: 0.1118 - val_loss: 0.1121\n",
      "Epoch 2/50\n",
      "54000/54000 [==============================] - 5s - loss: 0.1113 - val_loss: 0.1123\n",
      "Epoch 3/50\n",
      "54000/54000 [==============================] - 5s - loss: 0.1111 - val_loss: 0.1118\n",
      "Epoch 4/50\n",
      "54000/54000 [==============================] - 5s - loss: 0.1107 - val_loss: 0.1105\n",
      "Epoch 5/50\n",
      "54000/54000 [==============================] - 6s - loss: 0.1105 - val_loss: 0.1115\n",
      "Epoch 6/50\n",
      "54000/54000 [==============================] - 6s - loss: 0.1102 - val_loss: 0.1107\n",
      " 8960/10000 [=========================>....] - ETA: 0s\n",
      "\n",
      "Start KFold number 4 from 10\n",
      "Split train:  54000 54000\n",
      "Split valid:  6000 6000\n",
      "Train on 54000 samples, validate on 6000 samples\n",
      "Epoch 1/50\n",
      "54000/54000 [==============================] - 5s - loss: 0.1101 - val_loss: 0.1087\n",
      "Epoch 2/50\n",
      "54000/54000 [==============================] - 5s - loss: 0.1099 - val_loss: 0.1099\n",
      "Epoch 3/50\n",
      "54000/54000 [==============================] - 5s - loss: 0.1097 - val_loss: 0.1093\n",
      " 9216/10000 [==========================>...] - ETA: 0s\n",
      "\n",
      "Start KFold number 5 from 10\n",
      "Split train:  54000 54000\n",
      "Split valid:  6000 6000\n",
      "Train on 54000 samples, validate on 6000 samples\n",
      "Epoch 1/50\n",
      "54000/54000 [==============================] - 5s - loss: 0.1095 - val_loss: 0.1090\n",
      "Epoch 2/50\n",
      "54000/54000 [==============================] - 5s - loss: 0.1092 - val_loss: 0.1074\n",
      "Epoch 3/50\n",
      "54000/54000 [==============================] - 5s - loss: 0.1091 - val_loss: 0.1084\n",
      "Epoch 4/50\n",
      "54000/54000 [==============================] - 6s - loss: 0.1088 - val_loss: 0.1074\n",
      "Epoch 5/50\n",
      "54000/54000 [==============================] - 5s - loss: 0.1085 - val_loss: 0.1070\n",
      "Epoch 6/50\n",
      "54000/54000 [==============================] - 6s - loss: 0.1081 - val_loss: 0.1083\n",
      "Epoch 7/50\n",
      "54000/54000 [==============================] - 5s - loss: 0.1079 - val_loss: 0.1065\n",
      "Epoch 8/50\n",
      "54000/54000 [==============================] - 5s - loss: 0.1076 - val_loss: 0.1062\n",
      "Epoch 9/50\n",
      "54000/54000 [==============================] - 6s - loss: 0.1073 - val_loss: 0.1063\n",
      "Epoch 10/50\n",
      "54000/54000 [==============================] - 6s - loss: 0.1071 - val_loss: 0.1070\n",
      " 9984/10000 [============================>.] - ETA: 0s\n",
      "\n",
      "Start KFold number 6 from 10\n",
      "Split train:  54000 54000\n",
      "Split valid:  6000 6000\n",
      "Train on 54000 samples, validate on 6000 samples\n",
      "Epoch 1/50\n",
      "54000/54000 [==============================] - 6s - loss: 0.1067 - val_loss: 0.1069\n",
      "Epoch 2/50\n",
      "54000/54000 [==============================] - 5s - loss: 0.1066 - val_loss: 0.1066\n",
      "Epoch 3/50\n",
      "54000/54000 [==============================] - 5s - loss: 0.1064 - val_loss: 0.1074\n",
      "Epoch 4/50\n",
      "54000/54000 [==============================] - 5s - loss: 0.1061 - val_loss: 0.1068\n",
      " 9728/10000 [============================>.] - ETA: 0s\n",
      "\n",
      "Start KFold number 7 from 10\n",
      "Split train:  54000 54000\n",
      "Split valid:  6000 6000\n",
      "Train on 54000 samples, validate on 6000 samples\n",
      "Epoch 1/50\n",
      "54000/54000 [==============================] - 6s - loss: 0.1061 - val_loss: 0.1061\n",
      "Epoch 2/50\n",
      "54000/54000 [==============================] - 5s - loss: 0.1059 - val_loss: 0.1055\n",
      "Epoch 3/50\n",
      "54000/54000 [==============================] - 5s - loss: 0.1058 - val_loss: 0.1064\n",
      "Epoch 4/50\n",
      "54000/54000 [==============================] - 5s - loss: 0.1057 - val_loss: 0.1067\n",
      " 9728/10000 [============================>.] - ETA: 0s\n",
      "\n",
      "Start KFold number 8 from 10\n",
      "Split train:  54000 54000\n",
      "Split valid:  6000 6000\n",
      "Train on 54000 samples, validate on 6000 samples\n",
      "Epoch 1/50\n",
      "54000/54000 [==============================] - 6s - loss: 0.1055 - val_loss: 0.1057\n",
      "Epoch 2/50\n",
      "54000/54000 [==============================] - 5s - loss: 0.1053 - val_loss: 0.1059\n",
      "Epoch 3/50\n",
      "54000/54000 [==============================] - 6s - loss: 0.1051 - val_loss: 0.1052\n",
      "Epoch 4/50\n",
      "54000/54000 [==============================] - 5s - loss: 0.1049 - val_loss: 0.1053\n",
      "Epoch 5/50\n",
      "54000/54000 [==============================] - 5s - loss: 0.1049 - val_loss: 0.1056\n",
      " 9472/10000 [===========================>..] - ETA: 0s\n",
      "\n",
      "Start KFold number 9 from 10\n",
      "Split train:  54000 54000\n",
      "Split valid:  6000 6000\n",
      "Train on 54000 samples, validate on 6000 samples\n",
      "Epoch 1/50\n",
      "54000/54000 [==============================] - 6s - loss: 0.1049 - val_loss: 0.1050\n",
      "Epoch 2/50\n",
      "54000/54000 [==============================] - 5s - loss: 0.1048 - val_loss: 0.1041\n",
      "Epoch 3/50\n",
      "54000/54000 [==============================] - 5s - loss: 0.1048 - val_loss: 0.1053\n",
      "Epoch 4/50\n",
      "54000/54000 [==============================] - 6s - loss: 0.1045 - val_loss: 0.1042\n",
      " 9984/10000 [============================>.] - ETA: 0s\n",
      "\n",
      "Start KFold number 10 from 10\n",
      "Split train:  54000 54000\n",
      "Split valid:  6000 6000\n",
      "Train on 54000 samples, validate on 6000 samples\n",
      "Epoch 1/50\n",
      "54000/54000 [==============================] - 6s - loss: 0.1045 - val_loss: 0.1039\n",
      "Epoch 2/50\n",
      "54000/54000 [==============================] - 6s - loss: 0.1043 - val_loss: 0.1044\n",
      "Epoch 3/50\n",
      "54000/54000 [==============================] - 5s - loss: 0.1042 - val_loss: 0.1037\n",
      "Epoch 4/50\n",
      "54000/54000 [==============================] - 5s - loss: 0.1041 - val_loss: 0.1044\n",
      "Epoch 5/50\n",
      "54000/54000 [==============================] - 5s - loss: 0.1040 - val_loss: 0.1038\n",
      " 9216/10000 [==========================>...] - ETA: 0s"
     ]
    }
   ],
   "source": [
    "num_fold = 0\n",
    "restore_from_last_checkpoint=0\n",
    "for train_index,valid_index in kf:\n",
    "    s_train,s_valid  = x_train[train_index], x_train[valid_index]\n",
    "    \n",
    "    noise_factor = 0.1\n",
    "    s_train_noisy = s_train + noise_factor * np.random.normal(loc=0.0, scale=1.0, size=s_train.shape) \n",
    "    s_valid_noisy = s_valid + noise_factor * np.random.normal(loc=0.0, scale=1.0, size=s_valid.shape) \n",
    "\n",
    "    s_train_noisy = np.clip(s_train_noisy, 0., 1.)\n",
    "    s_valid_noisy = np.clip(s_valid_noisy, 0., 1.)\n",
    "    #y_train, y_test = y[train_index], y[test_index]\n",
    "    \n",
    "    num_fold += 1\n",
    "    print('\\n\\nStart KFold number {} from {}'.format(num_fold, nfold))\n",
    "    print('Split train: ', len(s_train_noisy), len(s_train))\n",
    "    print('Split valid: ', len(s_valid_noisy), len(s_valid))\n",
    "\n",
    "    if not os.path.isfile(kfold_weights_path) or restore_from_last_checkpoint == 0:\n",
    "        callbacks = [\n",
    "                EarlyStopping(monitor='val_loss', patience=1, verbose=0),\n",
    "                ModelCheckpoint(kfold_weights_path, monitor='val_loss', save_best_only=True, verbose=0),\n",
    "        ]\n",
    "        autoencoder.fit(s_train_noisy, s_train,\n",
    "                nb_epoch=nb_epoch,\n",
    "                batch_size=batch_size,\n",
    "                shuffle=True,\n",
    "                validation_data=(s_valid_noisy, s_valid),\n",
    "                callbacks=callbacks)\n",
    "    #if os.path.isfile(kfold_weights_path):\n",
    "    #    autoencoder.load_weights(kfold_weights_path)\n",
    "    \n",
    "    # Store train predictions\n",
    "    train_encoded_imgs = encoder.predict(x_train,batch_size=batch_size, verbose=1)\n",
    "    train_full_encoded_imgs = np.add(train_full_encoded_imgs,train_encoded_imgs)\n",
    "\n",
    "    \n",
    "    # Store test predictions\n",
    "    test_encoded_imgs = encoder.predict(x_test,batch_size=batch_size, verbose=1)\n",
    "    #full_encoded_imgs = np.vstack([full_encoded_imgs,encoded_imgs])\n",
    "    test_full_encoded_imgs = np.add(test_full_encoded_imgs,test_encoded_imgs)\n",
    "    #full_encoded_imgs.append(encoded_imgs)\n",
    "    #print(full_encoded_imgs.shape)\n",
    "    \n",
    "    test_decoded_imgs = decoder.predict(test_encoded_imgs,batch_size=batch_size, verbose=1)\n",
    "    #full_decoded_imgs = np.vstack([full_decoded_imgs,decoded_imgs])\n",
    "    test_full_decoded_imgs = np.add(test_full_decoded_imgs,test_decoded_imgs)"
   ]
  },
  {
   "cell_type": "code",
   "execution_count": 28,
   "metadata": {
    "collapsed": false
   },
   "outputs": [
    {
     "name": "stdout",
     "output_type": "stream",
     "text": [
      "(10000, 25)\n",
      "(10000, 784)\n",
      "[[ 258.69605637  388.11466026  569.37429047 ...,  632.72894287\n",
      "   499.83559036  533.97979736]\n",
      " [ 164.94912148  335.53803825  180.92976284 ...,  283.46965218\n",
      "   267.86551666  275.40722656]\n",
      " [ 382.55105972  716.7828064   150.26498699 ...,  881.85058594\n",
      "   937.17345428  476.00152206]\n",
      " ..., \n",
      " [ 129.76131248  630.50040054  301.92808151 ...,  545.30134964\n",
      "   420.53948593  161.32355213]\n",
      " [ 143.94675541  620.91543961   93.72226548 ...,  392.40345383\n",
      "   253.05022049  154.85343838]\n",
      " [ 202.81918526  691.05644989  401.09265518 ...,  284.19529724\n",
      "   504.16067886  306.35155869]]\n",
      "[[  9.97370563e-13   8.69252599e-12   2.21960185e-16 ...,   2.34936514e-18\n",
      "    6.66736258e-14   3.08013979e-13]\n",
      " [  2.72881092e-06   4.85214877e-08   4.18115876e-06 ...,   4.63041578e-10\n",
      "    2.55070427e-07   6.24581858e-07]\n",
      " [  6.05516488e-21   5.11993772e-15   4.81668389e-17 ...,   6.15990082e-27\n",
      "    1.35609261e-24   4.47928727e-19]\n",
      " ..., \n",
      " [  3.28822593e-09   2.17695305e-08   6.18358958e-12 ...,   1.28476933e-10\n",
      "    7.79939451e-12   2.09827124e-10]\n",
      " [  9.11500510e-06   1.01376126e-05   3.91171899e-07 ...,   1.00353774e-07\n",
      "    4.26032187e-08   7.75813099e-08]\n",
      " [  8.55806134e-06   1.84260061e-09   3.72191897e-07 ...,   4.22050836e-09\n",
      "    1.43265105e-09   3.42712431e-08]]\n"
     ]
    }
   ],
   "source": [
    "print(test_full_encoded_imgs.shape)\n",
    "print(test_full_decoded_imgs.shape)\n",
    "print(test_full_encoded_imgs)\n",
    "print(test_full_decoded_imgs)"
   ]
  },
  {
   "cell_type": "code",
   "execution_count": 29,
   "metadata": {
    "collapsed": false
   },
   "outputs": [
    {
     "name": "stdout",
     "output_type": "stream",
     "text": [
      "(10000, 25)\n",
      "(10000, 784)\n",
      "[[ 25.86960564  38.81146603  56.93742905 ...,  63.27289429  49.98355904\n",
      "   53.39797974]\n",
      " [ 16.49491215  33.55380383  18.09297628 ...,  28.34696522  26.78655167\n",
      "   27.54072266]\n",
      " [ 38.25510597  71.67828064  15.0264987  ...,  88.18505859  93.71734543\n",
      "   47.60015221]\n",
      " ..., \n",
      " [ 12.97613125  63.05004005  30.19280815 ...,  54.53013496  42.05394859\n",
      "   16.13235521]\n",
      " [ 14.39467554  62.09154396   9.37222655 ...,  39.24034538  25.30502205\n",
      "   15.48534384]\n",
      " [ 20.28191853  69.10564499  40.10926552 ...,  28.41952972  50.41606789\n",
      "   30.63515587]]\n",
      "[[  9.97370563e-14   8.69252599e-13   2.21960185e-17 ...,   2.34936514e-19\n",
      "    6.66736258e-15   3.08013979e-14]\n",
      " [  2.72881092e-07   4.85214877e-09   4.18115876e-07 ...,   4.63041578e-11\n",
      "    2.55070427e-08   6.24581858e-08]\n",
      " [  6.05516488e-22   5.11993772e-16   4.81668389e-18 ...,   6.15990082e-28\n",
      "    1.35609261e-25   4.47928727e-20]\n",
      " ..., \n",
      " [  3.28822593e-10   2.17695305e-09   6.18358958e-13 ...,   1.28476933e-11\n",
      "    7.79939451e-13   2.09827124e-11]\n",
      " [  9.11500510e-07   1.01376126e-06   3.91171899e-08 ...,   1.00353774e-08\n",
      "    4.26032187e-09   7.75813099e-09]\n",
      " [  8.55806134e-07   1.84260061e-10   3.72191897e-08 ...,   4.22050836e-10\n",
      "    1.43265105e-10   3.42712431e-09]]\n"
     ]
    }
   ],
   "source": [
    "test_res_encoded_imgs = test_full_encoded_imgs/nfold\n",
    "test_res_decoded_imgs = test_full_decoded_imgs/nfold\n",
    "print(test_res_encoded_imgs.shape)\n",
    "print(test_res_decoded_imgs.shape)\n",
    "print(test_res_encoded_imgs)\n",
    "print(test_res_decoded_imgs)"
   ]
  },
  {
   "cell_type": "code",
   "execution_count": 30,
   "metadata": {
    "collapsed": false
   },
   "outputs": [
    {
     "name": "stdout",
     "output_type": "stream",
     "text": [
      "(60000, 25)\n",
      "[[ 18.23100576  23.81662464  18.99854145 ...,  31.8587883   12.5579906\n",
      "   25.71666718]\n",
      " [ 43.54422417  62.5840065   19.54129562 ...,  37.75556183  14.66361771\n",
      "   17.49903679]\n",
      " [ 48.05750999  17.18548927  36.03216305 ...,  14.47092199  39.41963081\n",
      "   13.67912722]\n",
      " ..., \n",
      " [ 37.65681362  19.69383726  23.11970654 ...,  50.00150261  34.69637337\n",
      "   16.24057746]\n",
      " [ 36.96308136  83.57092743  22.06893806 ...,  36.48172703  38.80593376\n",
      "   25.16331501]\n",
      " [ 25.92743359  62.00783501  13.20887337 ...,  28.05816689  21.21340294\n",
      "    4.93933022]]\n"
     ]
    }
   ],
   "source": [
    "train_res_encoded_imgs = train_full_encoded_imgs/nfold\n",
    "print(train_res_encoded_imgs.shape)\n",
    "print(train_res_encoded_imgs)"
   ]
  },
  {
   "cell_type": "code",
   "execution_count": 10,
   "metadata": {
    "collapsed": true
   },
   "outputs": [],
   "source": [
    "noise_factor = 0.5\n",
    "x_train_noisy = x_train + noise_factor * np.random.normal(loc=0.0, scale=1.0, size=x_train.shape) \n",
    "x_test_noisy = x_test + noise_factor * np.random.normal(loc=0.0, scale=1.0, size=x_test.shape) \n",
    "\n",
    "x_train_noisy = np.clip(x_train_noisy, 0., 1.)\n",
    "x_test_noisy = np.clip(x_test_noisy, 0., 1.)"
   ]
  },
  {
   "cell_type": "code",
   "execution_count": 51,
   "metadata": {
    "collapsed": true
   },
   "outputs": [],
   "source": [
    "s_train, s_valid = train_test_split(x_train, test_size=0.3)"
   ]
  },
  {
   "cell_type": "code",
   "execution_count": 35,
   "metadata": {
    "collapsed": false
   },
   "outputs": [
    {
     "data": {
      "image/png": "[encoded data removed]",
      "text/plain": [
       "<matplotlib.figure.Figure at 0x7f2e3df6b0f0>"
      ]
     },
     "metadata": {},
     "output_type": "display_data"
    }
   ],
   "source": [
    "import matplotlib.pyplot as plt\n",
    "n = 10\n",
    "plt.figure(figsize=(20, 2))\n",
    "for i in range(n):\n",
    "    ax = plt.subplot(2, n, i + 1)\n",
    "    #ax = plt.subplot(1, n, i)\n",
    "    plt.imshow(s_train_noisy[i].reshape(28, 28))\n",
    "    plt.gray()\n",
    "    ax.get_xaxis().set_visible(False)\n",
    "    ax.get_yaxis().set_visible(False)\n",
    "plt.show()"
   ]
  },
  {
   "cell_type": "code",
   "execution_count": 31,
   "metadata": {
    "collapsed": false
   },
   "outputs": [
    {
     "data": {
      "image/png": "[encoded data removed]",
      "text/plain": [
       "<matplotlib.figure.Figure at 0x7f2e593c71d0>"
      ]
     },
     "metadata": {},
     "output_type": "display_data"
    }
   ],
   "source": [
    "\n",
    "n = 10  # how many digits we will display\n",
    "plt.figure(figsize=(20, 6))\n",
    "for i in range(n):\n",
    "    # display original\n",
    "    ax = plt.subplot(2, n, i + 1)\n",
    "    plt.imshow(x_test[i].reshape(28, 28))\n",
    "    plt.gray()\n",
    "    ax.get_xaxis().set_visible(False)\n",
    "    ax.get_yaxis().set_visible(False)\n",
    "\n",
    "    # display encoded\n",
    "    #ax = plt.subplot(2, n, i + 1 + n)\n",
    "    #plt.imshow(encoded_imgs[i].reshape(6, 6))\n",
    "    #plt.gray()\n",
    "    #ax.get_xaxis().set_visible(False)\n",
    "    #ax.get_yaxis().set_visible(False)\n",
    "   \n",
    "    # display reconstruction\n",
    "    ax = plt.subplot(2, n, i + 1 + n)\n",
    "    plt.imshow(test_res_decoded_imgs[i].reshape(28, 28))\n",
    "    plt.gray()\n",
    "    ax.get_xaxis().set_visible(False)\n",
    "    ax.get_yaxis().set_visible(False)\n",
    "plt.show()"
   ]
  },
  {
   "cell_type": "code",
   "execution_count": 32,
   "metadata": {
    "collapsed": true
   },
   "outputs": [],
   "source": [
    "from sklearn.neighbors import KNeighborsClassifier\n",
    "clf = KNeighborsClassifier()\n",
    "clf = clf.fit(train_res_encoded_imgs, np.ravel(y_train))"
   ]
  },
  {
   "cell_type": "code",
   "execution_count": 33,
   "metadata": {
    "collapsed": true
   },
   "outputs": [],
   "source": [
    "y_pred = clf.predict(test_res_encoded_imgs)"
   ]
  },
  {
   "cell_type": "code",
   "execution_count": 34,
   "metadata": {
    "collapsed": false
   },
   "outputs": [
    {
     "name": "stdout",
     "output_type": "stream",
     "text": [
      "tested  10000 digits\n",
      "correct:  9534 wrong:  466 error rate:  4.66 %\n",
      "got correctly  95.34 %\n"
     ]
    }
   ],
   "source": [
    "num=len(test_res_encoded_imgs)\n",
    "r=0\n",
    "w=0\n",
    "y_test = np.ravel(y_test)\n",
    "for i in range(num):\n",
    "        #print ('y_pred ',y_pred[i])\n",
    "        #print ('labels ',labels[i])\n",
    "        #without the use of all() returns error truth value of an array with more than one element is ambiguous\n",
    "        #if y_pred[i].all() == labels[i].all():\n",
    "        if np.array_equal(y_pred[i],y_test[i]):\n",
    "            r+=1\n",
    "        else:\n",
    "            w+=1\n",
    "print (\"tested \",  num, \"digits\")\n",
    "print (\"correct: \", r, \"wrong: \", w, \"error rate: \", float(w)*100/(r+w), \"%\")\n",
    "print (\"got correctly \", float(r)*100/(r+w), \"%\")\n"
   ]
  },
  {
   "cell_type": "code",
   "execution_count": null,
   "metadata": {
    "collapsed": true
   },
   "outputs": [],
   "source": [
    "y_pred"
   ]
  },
  {
   "cell_type": "code",
   "execution_count": null,
   "metadata": {
    "collapsed": true
   },
   "outputs": [],
   "source": [
    "y_test"
   ]
  },
  {
   "cell_type": "code",
   "execution_count": null,
   "metadata": {
    "collapsed": true
   },
   "outputs": [],
   "source": [
    "Below code is without K-FOLD"
   ]
  },
  {
   "cell_type": "code",
   "execution_count": 17,
   "metadata": {
    "collapsed": false
   },
   "outputs": [
    {
     "name": "stdout",
     "output_type": "stream",
     "text": [
      "Train on 60000 samples, validate on 10000 samples\n",
      "Epoch 1/100\n",
      "60000/60000 [==============================] - 15s - loss: 0.2511 - val_loss: 0.2447\n",
      "Epoch 2/100\n",
      "60000/60000 [==============================] - 16s - loss: 0.2411 - val_loss: 0.2331\n",
      "Epoch 3/100\n",
      "60000/60000 [==============================] - 17s - loss: 0.2264 - val_loss: 0.2196\n",
      "Epoch 4/100\n",
      "60000/60000 [==============================] - 17s - loss: 0.2143 - val_loss: 0.2094\n",
      "Epoch 5/100\n",
      "60000/60000 [==============================] - 16s - loss: 0.2075 - val_loss: 0.2034\n",
      "Epoch 6/100\n",
      "60000/60000 [==============================] - 16s - loss: 0.2017 - val_loss: 0.1980\n",
      "Epoch 7/100\n",
      "60000/60000 [==============================] - 16s - loss: 0.1936 - val_loss: 0.1889\n",
      "Epoch 8/100\n",
      "60000/60000 [==============================] - 16s - loss: 0.1890 - val_loss: 0.1893\n",
      "Epoch 9/100\n",
      "60000/60000 [==============================] - 15s - loss: 0.1856 - val_loss: 0.1832\n",
      "Epoch 10/100\n",
      "60000/60000 [==============================] - 15s - loss: 0.1812 - val_loss: 0.1770\n",
      "Epoch 11/100\n",
      "60000/60000 [==============================] - 16s - loss: 0.1760 - val_loss: 0.1723\n",
      "Epoch 12/100\n",
      "60000/60000 [==============================] - 15s - loss: 0.1719 - val_loss: 0.1692\n",
      "Epoch 13/100\n",
      "60000/60000 [==============================] - 15s - loss: 0.1677 - val_loss: 0.1650\n",
      "Epoch 14/100\n",
      "60000/60000 [==============================] - 16s - loss: 0.1640 - val_loss: 0.1617\n",
      "Epoch 15/100\n",
      "60000/60000 [==============================] - 16s - loss: 0.1612 - val_loss: 0.1589\n",
      "Epoch 16/100\n",
      "60000/60000 [==============================] - 16s - loss: 0.1596 - val_loss: 0.1585\n",
      "Epoch 17/100\n",
      "60000/60000 [==============================] - 17s - loss: 0.1579 - val_loss: 0.1573\n",
      "Epoch 18/100\n",
      "60000/60000 [==============================] - 16s - loss: 0.1566 - val_loss: 0.1547\n",
      "Epoch 19/100\n",
      "60000/60000 [==============================] - 16s - loss: 0.1551 - val_loss: 0.1534\n",
      "Epoch 20/100\n",
      "60000/60000 [==============================] - 16s - loss: 0.1535 - val_loss: 0.1537\n",
      "Epoch 21/100\n",
      "60000/60000 [==============================] - 16s - loss: 0.1520 - val_loss: 0.1502\n",
      "Epoch 22/100\n",
      "60000/60000 [==============================] - 17s - loss: 0.1508 - val_loss: 0.1500\n",
      "Epoch 23/100\n",
      "60000/60000 [==============================] - 16s - loss: 0.1497 - val_loss: 0.1498\n",
      "Epoch 24/100\n",
      "60000/60000 [==============================] - 16s - loss: 0.1489 - val_loss: 0.1483\n",
      "Epoch 25/100\n",
      "60000/60000 [==============================] - 16s - loss: 0.1481 - val_loss: 0.1476\n",
      "Epoch 26/100\n",
      "60000/60000 [==============================] - 15s - loss: 0.1473 - val_loss: 0.1468\n",
      "Epoch 27/100\n",
      "60000/60000 [==============================] - 17s - loss: 0.1465 - val_loss: 0.1457\n",
      "Epoch 28/100\n",
      "60000/60000 [==============================] - 16s - loss: 0.1455 - val_loss: 0.1455\n",
      "Epoch 29/100\n",
      "60000/60000 [==============================] - 17s - loss: 0.1445 - val_loss: 0.1438\n",
      "Epoch 30/100\n",
      "60000/60000 [==============================] - 18s - loss: 0.1432 - val_loss: 0.1420\n",
      "Epoch 31/100\n",
      "60000/60000 [==============================] - 17s - loss: 0.1422 - val_loss: 0.1414\n",
      "Epoch 32/100\n",
      "60000/60000 [==============================] - 17s - loss: 0.1411 - val_loss: 0.1417\n",
      "Epoch 33/100\n",
      "60000/60000 [==============================] - 16s - loss: 0.1406 - val_loss: 0.1416\n",
      "Epoch 34/100\n",
      "60000/60000 [==============================] - 16s - loss: 0.1398 - val_loss: 0.1408\n",
      "Epoch 35/100\n",
      "60000/60000 [==============================] - 17s - loss: 0.1393 - val_loss: 0.1397\n",
      "Epoch 36/100\n",
      "60000/60000 [==============================] - 16s - loss: 0.1388 - val_loss: 0.1413\n",
      "Epoch 37/100\n",
      "60000/60000 [==============================] - 16s - loss: 0.1384 - val_loss: 0.1408\n",
      "Epoch 38/100\n",
      "60000/60000 [==============================] - 16s - loss: 0.1379 - val_loss: 0.1397\n",
      "Epoch 39/100\n",
      "60000/60000 [==============================] - 16s - loss: 0.1376 - val_loss: 0.1390\n",
      "Epoch 40/100\n",
      "60000/60000 [==============================] - 16s - loss: 0.1373 - val_loss: 0.1399\n",
      "Epoch 41/100\n",
      "60000/60000 [==============================] - 16s - loss: 0.1369 - val_loss: 0.1393\n",
      "Epoch 42/100\n",
      "60000/60000 [==============================] - 16s - loss: 0.1366 - val_loss: 0.1386\n",
      "Epoch 43/100\n",
      "60000/60000 [==============================] - 16s - loss: 0.1363 - val_loss: 0.1376\n",
      "Epoch 44/100\n",
      "60000/60000 [==============================] - 16s - loss: 0.1359 - val_loss: 0.1379\n",
      "Epoch 45/100\n",
      "60000/60000 [==============================] - 16s - loss: 0.1356 - val_loss: 0.1371\n",
      "Epoch 46/100\n",
      "60000/60000 [==============================] - 17s - loss: 0.1353 - val_loss: 0.1366\n",
      "Epoch 47/100\n",
      "60000/60000 [==============================] - 16s - loss: 0.1349 - val_loss: 0.1379\n",
      "Epoch 48/100\n",
      "60000/60000 [==============================] - 16s - loss: 0.1347 - val_loss: 0.1365\n",
      "Epoch 49/100\n",
      "60000/60000 [==============================] - 16s - loss: 0.1344 - val_loss: 0.1384\n",
      "Epoch 50/100\n",
      "60000/60000 [==============================] - 16s - loss: 0.1342 - val_loss: 0.1371\n",
      "Epoch 51/100\n",
      "60000/60000 [==============================] - 16s - loss: 0.1339 - val_loss: 0.1369\n",
      "Epoch 52/100\n",
      "60000/60000 [==============================] - 16s - loss: 0.1335 - val_loss: 0.1355\n",
      "Epoch 53/100\n",
      "60000/60000 [==============================] - 16s - loss: 0.1332 - val_loss: 0.1361\n",
      "Epoch 54/100\n",
      "60000/60000 [==============================] - 16s - loss: 0.1328 - val_loss: 0.1359\n",
      "Epoch 55/100\n",
      "60000/60000 [==============================] - 16s - loss: 0.1327 - val_loss: 0.1351\n",
      "Epoch 56/100\n",
      "60000/60000 [==============================] - 16s - loss: 0.1322 - val_loss: 0.1355\n",
      "Epoch 57/100\n",
      "60000/60000 [==============================] - 16s - loss: 0.1320 - val_loss: 0.1345\n",
      "Epoch 58/100\n",
      "60000/60000 [==============================] - 16s - loss: 0.1315 - val_loss: 0.1346\n",
      "Epoch 59/100\n",
      "60000/60000 [==============================] - 16s - loss: 0.1312 - val_loss: 0.1348\n",
      "Epoch 60/100\n",
      "60000/60000 [==============================] - 16s - loss: 0.1308 - val_loss: 0.1339\n",
      "Epoch 61/100\n",
      "60000/60000 [==============================] - 16s - loss: 0.1304 - val_loss: 0.1337\n",
      "Epoch 62/100\n",
      "60000/60000 [==============================] - 16s - loss: 0.1301 - val_loss: 0.1331\n",
      "Epoch 63/100\n",
      "60000/60000 [==============================] - 16s - loss: 0.1298 - val_loss: 0.1337\n",
      "Epoch 64/100\n",
      "60000/60000 [==============================] - 16s - loss: 0.1295 - val_loss: 0.1336\n",
      "Epoch 65/100\n",
      "60000/60000 [==============================] - 17s - loss: 0.1292 - val_loss: 0.1338\n",
      "Epoch 66/100\n",
      "60000/60000 [==============================] - 16s - loss: 0.1290 - val_loss: 0.1334\n",
      "Epoch 67/100\n",
      "60000/60000 [==============================] - 17s - loss: 0.1288 - val_loss: 0.1344\n",
      "Epoch 68/100\n",
      "60000/60000 [==============================] - 17s - loss: 0.1286 - val_loss: 0.1331\n",
      "Epoch 69/100\n",
      "60000/60000 [==============================] - 17s - loss: 0.1284 - val_loss: 0.1327\n",
      "Epoch 70/100\n",
      "60000/60000 [==============================] - 17s - loss: 0.1280 - val_loss: 0.1339\n",
      "Epoch 71/100\n",
      "60000/60000 [==============================] - 17s - loss: 0.1278 - val_loss: 0.1326\n",
      "Epoch 72/100\n",
      "60000/60000 [==============================] - 17s - loss: 0.1276 - val_loss: 0.1334\n",
      "Epoch 73/100\n",
      "60000/60000 [==============================] - 17s - loss: 0.1274 - val_loss: 0.1327\n",
      "Epoch 74/100\n",
      "60000/60000 [==============================] - 17s - loss: 0.1270 - val_loss: 0.1338\n",
      "Epoch 75/100\n",
      "60000/60000 [==============================] - 17s - loss: 0.1268 - val_loss: 0.1321\n",
      "Epoch 76/100\n",
      "60000/60000 [==============================] - 18s - loss: 0.1264 - val_loss: 0.1321\n",
      "Epoch 77/100\n",
      "60000/60000 [==============================] - 18s - loss: 0.1260 - val_loss: 0.1321\n",
      "Epoch 78/100\n",
      "60000/60000 [==============================] - 17s - loss: 0.1257 - val_loss: 0.1321\n",
      "Epoch 79/100\n",
      "60000/60000 [==============================] - 17s - loss: 0.1253 - val_loss: 0.1320\n",
      "Epoch 80/100\n",
      "60000/60000 [==============================] - 17s - loss: 0.1251 - val_loss: 0.1308\n",
      "Epoch 81/100\n",
      "60000/60000 [==============================] - 17s - loss: 0.1247 - val_loss: 0.1309\n",
      "Epoch 82/100\n",
      "60000/60000 [==============================] - 17s - loss: 0.1245 - val_loss: 0.1298\n",
      "Epoch 83/100\n",
      "60000/60000 [==============================] - 17s - loss: 0.1242 - val_loss: 0.1305\n",
      "Epoch 84/100\n",
      "60000/60000 [==============================] - 17s - loss: 0.1239 - val_loss: 0.1298\n",
      "Epoch 85/100\n",
      "60000/60000 [==============================] - 17s - loss: 0.1237 - val_loss: 0.1304\n",
      "Epoch 86/100\n",
      "60000/60000 [==============================] - 17s - loss: 0.1234 - val_loss: 0.1306\n",
      "Epoch 87/100\n",
      "60000/60000 [==============================] - 17s - loss: 0.1232 - val_loss: 0.1299\n",
      "Epoch 88/100\n",
      "60000/60000 [==============================] - 17s - loss: 0.1230 - val_loss: 0.1299\n",
      "Epoch 89/100\n",
      "60000/60000 [==============================] - 17s - loss: 0.1227 - val_loss: 0.1292\n",
      "Epoch 90/100\n",
      "60000/60000 [==============================] - 18s - loss: 0.1226 - val_loss: 0.1300\n",
      "Epoch 91/100\n",
      "60000/60000 [==============================] - 17s - loss: 0.1224 - val_loss: 0.1295\n",
      "Epoch 92/100\n",
      "60000/60000 [==============================] - 17s - loss: 0.1221 - val_loss: 0.1309\n",
      "Epoch 93/100\n",
      "60000/60000 [==============================] - 18s - loss: 0.1219 - val_loss: 0.1291\n",
      "Epoch 94/100\n",
      "60000/60000 [==============================] - 17s - loss: 0.1216 - val_loss: 0.1288\n",
      "Epoch 95/100\n",
      "60000/60000 [==============================] - 17s - loss: 0.1214 - val_loss: 0.1297\n",
      "Epoch 96/100\n",
      "60000/60000 [==============================] - 18s - loss: 0.1212 - val_loss: 0.1304\n",
      "Epoch 97/100\n",
      "60000/60000 [==============================] - 18s - loss: 0.1209 - val_loss: 0.1297\n",
      "Epoch 98/100\n",
      "60000/60000 [==============================] - 17s - loss: 0.1207 - val_loss: 0.1286\n",
      "Epoch 99/100\n",
      "60000/60000 [==============================] - 18s - loss: 0.1205 - val_loss: 0.1288\n",
      "Epoch 100/100\n",
      "60000/60000 [==============================] - 18s - loss: 0.1203 - val_loss: 0.1288\n"
     ]
    },
    {
     "data": {
      "text/plain": [
       "<keras.callbacks.History at 0x7fcad86ebcc0>"
      ]
     },
     "execution_count": 17,
     "metadata": {},
     "output_type": "execute_result"
    }
   ],
   "source": [
    "autoencoder.fit(x_train_noisy, x_train,\n",
    "                nb_epoch=100,\n",
    "                batch_size=128,\n",
    "                shuffle=True,\n",
    "                validation_data=(x_test_noisy, x_test),\n",
    "                #callbacks=[TensorBoard(log_dir='/tmp/tb', histogram_freq=0, write_graph=False)]\n",
    "               )"
   ]
  },
  {
   "cell_type": "code",
   "execution_count": 20,
   "metadata": {
    "collapsed": false
   },
   "outputs": [
    {
     "name": "stdout",
     "output_type": "stream",
     "text": [
      "1500000\n",
      "(60000, 25)\n",
      "12000000\n"
     ]
    }
   ],
   "source": [
    "#Predict the digits using a classifier\n",
    "#Use the reduce Encoded train and test images\n",
    "encoded_train_imgs = encoder.predict(x_train)\n",
    "print (encoded_train_imgs.size)\n",
    "print (encoded_train_imgs.shape)\n",
    "print (encoded_train_imgs.nbytes)\n"
   ]
  },
  {
   "cell_type": "code",
   "execution_count": 21,
   "metadata": {
    "collapsed": false
   },
   "outputs": [
    {
     "name": "stdout",
     "output_type": "stream",
     "text": [
      "250000\n",
      "(10000, 25)\n",
      "2000000\n"
     ]
    }
   ],
   "source": [
    "encoded_test_imgs = encoder.predict(x_test)\n",
    "print (encoded_test_imgs.size)\n",
    "print (encoded_test_imgs.shape)\n",
    "print (encoded_test_imgs.nbytes)"
   ]
  },
  {
   "cell_type": "code",
   "execution_count": 22,
   "metadata": {
    "collapsed": true
   },
   "outputs": [],
   "source": [
    "from sklearn.neighbors import KNeighborsClassifier\n",
    "clf = KNeighborsClassifier()\n",
    "clf = clf.fit(encoded_train_imgs, y_train)"
   ]
  },
  {
   "cell_type": "code",
   "execution_count": 23,
   "metadata": {
    "collapsed": true
   },
   "outputs": [],
   "source": [
    "y_pred = clf.predict(encoded_test_imgs)\n"
   ]
  },
  {
   "cell_type": "code",
   "execution_count": 25,
   "metadata": {
    "collapsed": false
   },
   "outputs": [
    {
     "name": "stdout",
     "output_type": "stream",
     "text": [
      "tested  10000 digits\n",
      "correct:  9387 wrong:  613 error rate:  6.13 %\n",
      "got correctly  93.87 %\n"
     ]
    }
   ],
   "source": [
    "num=len(encoded_test_imgs)\n",
    "r=0\n",
    "w=0\n",
    "for i in range(num):\n",
    "        #print ('y_pred ',y_pred[i])\n",
    "        #print ('labels ',labels[i])\n",
    "        #without the use of all() returns error truth value of an array with more than one element is ambiguous\n",
    "        #if y_pred[i].all() == labels[i].all():\n",
    "        if np.array_equal(y_pred[i],y_test[i]):\n",
    "            r+=1\n",
    "        else:\n",
    "            w+=1\n",
    "print (\"tested \",  num, \"digits\")\n",
    "print (\"correct: \", r, \"wrong: \", w, \"error rate: \", float(w)*100/(r+w), \"%\")\n",
    "print (\"got correctly \", float(r)*100/(r+w), \"%\")\n"
   ]
  },
  {
   "cell_type": "code",
   "execution_count": null,
   "metadata": {
    "collapsed": true
   },
   "outputs": [],
   "source": []
  }
 ],
 "metadata": {
  "kernelspec": {
   "display_name": "Python 3",
   "language": "python",
   "name": "python3"
  },
  "language_info": {
   "codemirror_mode": {
    "name": "ipython",
    "version": 3
   },
   "file_extension": ".py",
   "mimetype": "text/x-python",
   "name": "python",
   "nbconvert_exporter": "python",
   "pygments_lexer": "ipython3",
   "version": "3.5.2"
  }
 },
 "nbformat": 4,
 "nbformat_minor": 0
}
