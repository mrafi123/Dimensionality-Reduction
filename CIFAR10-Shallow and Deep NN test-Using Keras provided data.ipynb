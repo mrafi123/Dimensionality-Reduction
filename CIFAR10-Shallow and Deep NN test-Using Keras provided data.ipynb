{
 "cells": [
  {
   "cell_type": "code",
   "execution_count": 1,
   "metadata": {
    "collapsed": false
   },
   "outputs": [
    {
     "name": "stdout",
     "output_type": "stream",
     "text": [
      "Populating the interactive namespace from numpy and matplotlib\n",
      "Couldn't import dot_parser, loading of dot files will not be possible.\n"
     ]
    },
    {
     "name": "stderr",
     "output_type": "stream",
     "text": [
      "Using gpu device 0: GeForce 920M (CNMeM is disabled, cuDNN not available)\n",
      "Using Theano backend.\n"
     ]
    }
   ],
   "source": [
    "import os    \n",
    "%pylab inline\n",
    "import numpy as np\n",
    "import pandas as pd\n",
    "from scipy.misc import imread\n",
    "from sklearn.metrics import accuracy_score\n",
    "\n",
    "#os.environ['THEANO_FLAGS'] = \"device=gpu1\"  \n",
    "#os.environ[\"THEANO_FLAGS\"] = \"mode=FAST_RUN,device=gpu0,floatX=float32,lib.cnmem=1\"\n",
    "os.environ[\"THEANO_FLAGS\"] = \"mode=FAST_RUN,device=gpu0,floatX=float32\"\n",
    "import theano\n",
    "\n",
    "from keras.layers import Input, Dense\n",
    "from keras.layers import Activation, Dropout, Convolution2D, Flatten, MaxPooling2D, Reshape, InputLayer\n",
    "from keras.models import Sequential, Model\n",
    "from keras.optimizers import *\n",
    "from keras.utils.np_utils import *\n",
    "from keras.constraints import maxnorm\n",
    "from keras.callbacks import EarlyStopping, ModelCheckpoint\n",
    "\n",
    "from keras.datasets import cifar10\n",
    "\n",
    "import matplotlib.pyplot as plt\n",
    "%matplotlib inline\n",
    "\n",
    "from sklearn.cross_validation import train_test_split"
   ]
  },
  {
   "cell_type": "code",
   "execution_count": 2,
   "metadata": {
    "collapsed": false
   },
   "outputs": [],
   "source": [
    "# load data\n",
    "(X_train, y_train), (X_test, y_test) = cifar10.load_data()"
   ]
  },
  {
   "cell_type": "code",
   "execution_count": 3,
   "metadata": {
    "collapsed": false
   },
   "outputs": [
    {
     "name": "stdout",
     "output_type": "stream",
     "text": [
      "(50000, 3, 32, 32)\n",
      "(50000, 1)\n",
      "(10000, 3, 32, 32)\n",
      "(10000, 1)\n"
     ]
    }
   ],
   "source": [
    "print (X_train.shape)\n",
    "print (y_train.shape)\n",
    "print (X_test.shape)\n",
    "print (y_test.shape)"
   ]
  },
  {
   "cell_type": "code",
   "execution_count": 4,
   "metadata": {
    "collapsed": false
   },
   "outputs": [
    {
     "name": "stdout",
     "output_type": "stream",
     "text": [
      "10000\n",
      "[3 8 8 ..., 5 1 7]\n",
      "[1000 1000 1000 1000 1000 1000 1000 1000 1000 1000    0]\n",
      "[ 0  1  2  3  4  5  6  7  8  9 10 11]\n"
     ]
    },
    {
     "data": {
      "image/png": "[encoded data removed]",
      "text/plain": [
       "<matplotlib.figure.Figure at 0x7f86c8545b00>"
      ]
     },
     "metadata": {},
     "output_type": "display_data"
    }
   ],
   "source": [
    "test_classes=np.ravel(y_test)\n",
    "print (len(test_classes))\n",
    "print (test_classes)\n",
    "hist, bin_edges = np.histogram(test_classes,bins=[0,1,2,3,4,5,6,7,8,9,10,11])\n",
    "print (hist)\n",
    "print (bin_edges)\n",
    "\n",
    "# find the distribution of Classes in Train and Test\n",
    "plt.hist(test_classes, bins=[0,1,2,3,4,5,6,7,8,9,10])  # plt.hist passes it's arguments to np.histogram\n",
    "plt.title(\"Histogram of Classes in Training Data\")\n",
    "plt.show()"
   ]
  },
  {
   "cell_type": "code",
   "execution_count": 5,
   "metadata": {
    "collapsed": false
   },
   "outputs": [
    {
     "name": "stdout",
     "output_type": "stream",
     "text": [
      "50000\n",
      "[6 9 9 ..., 9 1 1]\n",
      "[5000 5000 5000 5000 5000 5000 5000 5000 5000 5000]\n",
      "[ 0  1  2  3  4  5  6  7  8  9 10]\n"
     ]
    },
    {
     "data": {
      "image/png": "[encoded data removed]",
      "text/plain": [
       "<matplotlib.figure.Figure at 0x7f86c82c4748>"
      ]
     },
     "metadata": {},
     "output_type": "display_data"
    }
   ],
   "source": [
    "train_classes=np.ravel(y_train)\n",
    "print (len(train_classes))\n",
    "print (train_classes)\n",
    "\n",
    "hist, bin_edges = np.histogram(train_classes,bins=[0,1,2,3,4,5,6,7,8,9,10])\n",
    "\n",
    "print (hist)\n",
    "print (bin_edges)\n",
    "\n",
    "# find the distribution of Classes in Train and Test\n",
    "plt.hist(train_classes, bins=[0,1,2,3,4,5,6,7,8,9,10])  # plt.hist passes it's arguments to np.histogram\n",
    "plt.title(\"Histogram of Classes in Training Data\")\n",
    "plt.show()"
   ]
  },
  {
   "cell_type": "code",
   "execution_count": 6,
   "metadata": {
    "collapsed": false
   },
   "outputs": [
    {
     "name": "stdout",
     "output_type": "stream",
     "text": [
      "(50000, 3, 32, 32)\n",
      "(10000, 3, 32, 32)\n"
     ]
    }
   ],
   "source": [
    "#x_train = X_train.reshape((len(X_train), np.prod(X_train.shape[1:])))\n",
    "#x_test = X_test.reshape((len(X_test), np.prod(X_test.shape[1:])))\n",
    "\n",
    "x_train=X_train\n",
    "x_test = X_test\n",
    "print (x_train.shape)\n",
    "print (x_test.shape)"
   ]
  },
  {
   "cell_type": "code",
   "execution_count": 5,
   "metadata": {
    "collapsed": true
   },
   "outputs": [],
   "source": [
    "x_train = x_train.astype('float32') / 255.\n",
    "x_test = x_test.astype('float32') / 255."
   ]
  },
  {
   "cell_type": "code",
   "execution_count": 7,
   "metadata": {
    "collapsed": true
   },
   "outputs": [],
   "source": [
    "x_train = x_train.astype('float32') / 1.\n",
    "x_test = x_test.astype('float32') / 1."
   ]
  },
  {
   "cell_type": "code",
   "execution_count": 8,
   "metadata": {
    "collapsed": false
   },
   "outputs": [],
   "source": [
    "# Normalize the data: subtract the mean image\n",
    "mean_image = np.mean(x_train, axis=0)\n",
    "x_train -= mean_image\n",
    "x_test -= mean_image"
   ]
  },
  {
   "cell_type": "code",
   "execution_count": 7,
   "metadata": {
    "collapsed": true
   },
   "outputs": [],
   "source": [
    "x_train /= np.std(x_train, axis = 0) # normalize\n",
    "x_test /= np.std(x_test, axis = 0) # normalize"
   ]
  },
  {
   "cell_type": "code",
   "execution_count": 9,
   "metadata": {
    "collapsed": false
   },
   "outputs": [
    {
     "name": "stdout",
     "output_type": "stream",
     "text": [
      "(50000, 3072)\n",
      "(10000, 3072)\n"
     ]
    }
   ],
   "source": [
    "x_train = x_train.reshape((len(x_train), np.prod(x_train.shape[1:])))\n",
    "x_test = x_test.reshape((len(x_test), np.prod(x_test.shape[1:])))\n",
    "print (x_train.shape)\n",
    "print (x_test.shape)"
   ]
  },
  {
   "cell_type": "code",
   "execution_count": 10,
   "metadata": {
    "collapsed": true
   },
   "outputs": [],
   "source": [
    "s_train, s_valid = train_test_split(x_train, test_size=0.1)\n",
    "label_train, label_valid = train_test_split(y_train, test_size=0.1)\n"
   ]
  },
  {
   "cell_type": "code",
   "execution_count": 11,
   "metadata": {
    "collapsed": false
   },
   "outputs": [
    {
     "name": "stdout",
     "output_type": "stream",
     "text": [
      "5000\n",
      "[7 3 2 ..., 3 7 3]\n",
      "[474 538 497 477 511 488 505 491 509 510]\n",
      "[ 0  1  2  3  4  5  6  7  8  9 10]\n"
     ]
    },
    {
     "data": {
      "image/png": "[encoded data removed]",
      "text/plain": [
       "<matplotlib.figure.Figure at 0x7f8704ce7ef0>"
      ]
     },
     "metadata": {},
     "output_type": "display_data"
    }
   ],
   "source": [
    "valid_classes=np.ravel(label_valid)\n",
    "print (len(valid_classes))\n",
    "print (valid_classes)\n",
    "\n",
    "hist, bin_edges = np.histogram(valid_classes,bins=[0,1,2,3,4,5,6,7,8,9,10])\n",
    "\n",
    "print (hist)\n",
    "print (bin_edges)\n",
    "\n",
    "# find the distribution of Classes in Train and Test\n",
    "plt.hist(valid_classes, bins=[0,1,2,3,4,5,6,7,8,9,10])  # plt.hist passes it's arguments to np.histogram\n",
    "plt.title(\"Histogram of Classes in Validation Data\")\n",
    "plt.show()"
   ]
  },
  {
   "cell_type": "code",
   "execution_count": null,
   "metadata": {
    "collapsed": true
   },
   "outputs": [],
   "source": []
  },
  {
   "cell_type": "code",
   "execution_count": 12,
   "metadata": {
    "collapsed": false
   },
   "outputs": [
    {
     "name": "stdout",
     "output_type": "stream",
     "text": [
      "(45000, 3072)\n",
      "(5000, 3072)\n",
      "(45000, 1)\n",
      "(5000, 1)\n",
      "(10000, 3072)\n",
      "(10000, 1)\n",
      "[[3]\n",
      " [8]\n",
      " [8]\n",
      " ..., \n",
      " [5]\n",
      " [1]\n",
      " [7]]\n",
      "(45000, 10)\n",
      "(5000, 10)\n",
      "(10000, 10)\n",
      "[[ 0.  0.  0. ...,  0.  0.  0.]\n",
      " [ 0.  0.  0. ...,  0.  1.  0.]\n",
      " [ 0.  0.  0. ...,  0.  1.  0.]\n",
      " ..., \n",
      " [ 0.  0.  0. ...,  0.  0.  0.]\n",
      " [ 0.  1.  0. ...,  0.  0.  0.]\n",
      " [ 0.  0.  0. ...,  1.  0.  0.]]\n",
      "[[ 0.  0.  0. ...,  1.  0.  0.]\n",
      " [ 0.  0.  0. ...,  0.  0.  0.]\n",
      " [ 0.  0.  1. ...,  0.  0.  0.]\n",
      " ..., \n",
      " [ 0.  0.  0. ...,  0.  0.  0.]\n",
      " [ 0.  0.  0. ...,  1.  0.  0.]\n",
      " [ 0.  0.  0. ...,  0.  0.  0.]]\n"
     ]
    }
   ],
   "source": [
    "print (s_train.shape)\n",
    "print (s_valid.shape)\n",
    "\n",
    "print (label_train.shape)\n",
    "print (label_valid.shape)\n",
    "print (x_test.shape)\n",
    "print (y_test.shape)\n",
    "print(y_test)\n",
    "label_train=to_categorical(label_train)\n",
    "label_valid=to_categorical(label_valid)\n",
    "label_test= to_categorical(y_test)\n",
    "print (label_train.shape)\n",
    "print (label_valid.shape)\n",
    "print (label_test.shape)\n",
    "print (label_test)\n",
    "print (label_valid)\n"
   ]
  },
  {
   "cell_type": "code",
   "execution_count": null,
   "metadata": {
    "collapsed": true
   },
   "outputs": [],
   "source": []
  },
  {
   "cell_type": "code",
   "execution_count": 13,
   "metadata": {
    "collapsed": true
   },
   "outputs": [],
   "source": [
    "# To stop potential randomness\n",
    "seed = 56\n",
    "rng = np.random.RandomState(seed)"
   ]
  },
  {
   "cell_type": "code",
   "execution_count": 23,
   "metadata": {
    "collapsed": true
   },
   "outputs": [],
   "source": [
    "# define vars\n",
    "input_num_units = 3072\n",
    "#hidden_num_units = 50\n",
    "hidden_num_units = 500\n",
    "output_num_units = 10\n",
    "\n",
    "epochs = 50\n",
    "batch_size = 512"
   ]
  },
  {
   "cell_type": "code",
   "execution_count": 24,
   "metadata": {
    "collapsed": false
   },
   "outputs": [],
   "source": [
    "# Shallow Network\n",
    "model = Sequential([\n",
    "  Dense(output_dim=hidden_num_units, input_dim=input_num_units, activation='relu'),\n",
    "  Dense(output_dim=output_num_units, input_dim=hidden_num_units, activation='softmax'),\n",
    "])"
   ]
  },
  {
   "cell_type": "code",
   "execution_count": null,
   "metadata": {
    "collapsed": true
   },
   "outputs": [],
   "source": [
    "# Deep network\n",
    "\n",
    "hidden1_num_units = 500\n",
    "hidden2_num_units = 500\n",
    "hidden3_num_units = 500\n",
    "hidden4_num_units = 500\n",
    "hidden5_num_units = 500\n"
   ]
  },
  {
   "cell_type": "code",
   "execution_count": 83,
   "metadata": {
    "collapsed": true
   },
   "outputs": [],
   "source": [
    "# Deep network\n",
    "model = Sequential([\n",
    " Dense(output_dim=hidden1_num_units, input_dim=input_num_units, activation='relu'),\n",
    " Dense(output_dim=hidden2_num_units, input_dim=hidden1_num_units, activation='relu'),\n",
    " Dense(output_dim=hidden3_num_units, input_dim=hidden2_num_units, activation='relu'),\n",
    " Dense(output_dim=hidden4_num_units, input_dim=hidden3_num_units, activation='relu'),\n",
    " Dense(output_dim=hidden5_num_units, input_dim=hidden4_num_units, activation='relu'),\n",
    "\n",
    "Dense(output_dim=output_num_units, input_dim=hidden5_num_units, activation='softmax'),\n",
    " ])"
   ]
  },
  {
   "cell_type": "code",
   "execution_count": 97,
   "metadata": {
    "collapsed": false
   },
   "outputs": [],
   "source": [
    "dropout_ratio = 0.2\n",
    "\n",
    "model = Sequential([\n",
    " Dense(output_dim=hidden1_num_units, input_dim=input_num_units, activation='relu'),\n",
    " Dropout(dropout_ratio),\n",
    " Dense(output_dim=hidden2_num_units, input_dim=hidden1_num_units, activation='relu'),\n",
    " Dropout(dropout_ratio),\n",
    " Dense(output_dim=hidden3_num_units, input_dim=hidden2_num_units, activation='relu'),\n",
    " Dropout(dropout_ratio),\n",
    " Dense(output_dim=hidden4_num_units, input_dim=hidden3_num_units, activation='relu'),\n",
    " Dropout(dropout_ratio),\n",
    " Dense(output_dim=hidden5_num_units, input_dim=hidden4_num_units, activation='relu'),\n",
    " Dropout(dropout_ratio),\n",
    "\n",
    "Dense(output_dim=output_num_units, input_dim=hidden5_num_units, activation='softmax'),\n",
    " ])"
   ]
  },
  {
   "cell_type": "code",
   "execution_count": 25,
   "metadata": {
    "collapsed": true
   },
   "outputs": [],
   "source": [
    "# compile the model with necessary attributes\n",
    "model.compile(loss='categorical_crossentropy', optimizer='adam', metrics=['accuracy'])"
   ]
  },
  {
   "cell_type": "code",
   "execution_count": 26,
   "metadata": {
    "collapsed": true
   },
   "outputs": [],
   "source": [
    "lrate = 0.002\n",
    "#decay = lrate/epochs\n",
    "decay = 0.95\n",
    "sgd = SGD(lr=lrate, momentum=0.9, decay=decay, nesterov=True)\n",
    "model.compile(loss='categorical_crossentropy', optimizer=sgd, metrics=['accuracy'])\n"
   ]
  },
  {
   "cell_type": "code",
   "execution_count": 27,
   "metadata": {
    "collapsed": false
   },
   "outputs": [
    {
     "name": "stdout",
     "output_type": "stream",
     "text": [
      "Train on 45000 samples, validate on 5000 samples\n",
      "Epoch 1/50\n",
      "45000/45000 [==============================] - 2s - loss: 14.3842 - acc: 0.1006 - val_loss: 14.4447 - val_acc: 0.0978\n",
      "Epoch 2/50\n",
      "45000/45000 [==============================] - 2s - loss: 14.2924 - acc: 0.1073 - val_loss: 14.4552 - val_acc: 0.0978\n",
      "Epoch 3/50\n",
      "45000/45000 [==============================] - 2s - loss: 14.2539 - acc: 0.1102 - val_loss: 14.4512 - val_acc: 0.0972\n",
      "Epoch 4/50\n",
      "45000/45000 [==============================] - 2s - loss: 14.2374 - acc: 0.1118 - val_loss: 14.4583 - val_acc: 0.0972\n",
      "Epoch 5/50\n",
      "45000/45000 [==============================] - 2s - loss: 14.2264 - acc: 0.1126 - val_loss: 14.4521 - val_acc: 0.0970\n",
      "Epoch 6/50\n",
      "45000/45000 [==============================] - 2s - loss: 14.2187 - acc: 0.1134 - val_loss: 14.4551 - val_acc: 0.0968\n",
      "Epoch 7/50\n",
      "45000/45000 [==============================] - 2s - loss: 14.2137 - acc: 0.1135 - val_loss: 14.4521 - val_acc: 0.0968\n",
      "Epoch 8/50\n",
      "45000/45000 [==============================] - 2s - loss: 14.2094 - acc: 0.1142 - val_loss: 14.4517 - val_acc: 0.0968\n",
      "Epoch 9/50\n",
      "45000/45000 [==============================] - 2s - loss: 14.2061 - acc: 0.1146 - val_loss: 14.4525 - val_acc: 0.0966\n",
      "Epoch 10/50\n",
      "45000/45000 [==============================] - 2s - loss: 14.2035 - acc: 0.1148 - val_loss: 14.4525 - val_acc: 0.0968\n",
      "Epoch 11/50\n",
      "45000/45000 [==============================] - 2s - loss: 14.2012 - acc: 0.1151 - val_loss: 14.4520 - val_acc: 0.0966\n",
      "Epoch 12/50\n",
      "45000/45000 [==============================] - 2s - loss: 14.1994 - acc: 0.1153 - val_loss: 14.4523 - val_acc: 0.0968\n",
      "Epoch 13/50\n",
      "45000/45000 [==============================] - 2s - loss: 14.1978 - acc: 0.1155 - val_loss: 14.4521 - val_acc: 0.0966\n",
      "Epoch 14/50\n",
      "45000/45000 [==============================] - 2s - loss: 14.1964 - acc: 0.1157 - val_loss: 14.4520 - val_acc: 0.0966\n",
      "Epoch 15/50\n",
      "45000/45000 [==============================] - 2s - loss: 14.1952 - acc: 0.1160 - val_loss: 14.4522 - val_acc: 0.0966\n",
      "Epoch 16/50\n",
      "45000/45000 [==============================] - 2s - loss: 14.1941 - acc: 0.1160 - val_loss: 14.4514 - val_acc: 0.0964\n",
      "Epoch 17/50\n",
      "45000/45000 [==============================] - 2s - loss: 14.1932 - acc: 0.1162 - val_loss: 14.4518 - val_acc: 0.0964\n",
      "Epoch 18/50\n",
      "45000/45000 [==============================] - 2s - loss: 14.1923 - acc: 0.1162 - val_loss: 14.4515 - val_acc: 0.0964\n",
      "Epoch 19/50\n",
      "45000/45000 [==============================] - 2s - loss: 14.1915 - acc: 0.1165 - val_loss: 14.4511 - val_acc: 0.0964\n",
      "Epoch 20/50\n",
      "45000/45000 [==============================] - 2s - loss: 14.1908 - acc: 0.1166 - val_loss: 14.4513 - val_acc: 0.0964\n",
      "Epoch 21/50\n",
      "45000/45000 [==============================] - 2s - loss: 14.1901 - acc: 0.1166 - val_loss: 14.4514 - val_acc: 0.0964\n",
      "Epoch 22/50\n",
      "45000/45000 [==============================] - 2s - loss: 14.1895 - acc: 0.1167 - val_loss: 14.4515 - val_acc: 0.0964\n",
      "Epoch 23/50\n",
      "45000/45000 [==============================] - 2s - loss: 14.1889 - acc: 0.1169 - val_loss: 14.4512 - val_acc: 0.0964\n",
      "Epoch 24/50\n",
      "45000/45000 [==============================] - 2s - loss: 14.1883 - acc: 0.1170 - val_loss: 14.4512 - val_acc: 0.0964\n",
      "Epoch 25/50\n",
      "45000/45000 [==============================] - 2s - loss: 14.1878 - acc: 0.1170 - val_loss: 14.4511 - val_acc: 0.0964\n",
      "Epoch 26/50\n",
      "45000/45000 [==============================] - 2s - loss: 14.1874 - acc: 0.1170 - val_loss: 14.4509 - val_acc: 0.0964\n",
      "Epoch 27/50\n",
      "45000/45000 [==============================] - 2s - loss: 14.1870 - acc: 0.1171 - val_loss: 14.4510 - val_acc: 0.0964\n",
      "Epoch 28/50\n",
      "45000/45000 [==============================] - 2s - loss: 14.1865 - acc: 0.1173 - val_loss: 14.4509 - val_acc: 0.0964\n",
      "Epoch 29/50\n",
      "45000/45000 [==============================] - 2s - loss: 14.1861 - acc: 0.1172 - val_loss: 14.4508 - val_acc: 0.0964\n",
      "Epoch 30/50\n",
      "45000/45000 [==============================] - 2s - loss: 14.1858 - acc: 0.1173 - val_loss: 14.4508 - val_acc: 0.0964\n",
      "Epoch 31/50\n",
      "45000/45000 [==============================] - 2s - loss: 14.1854 - acc: 0.1173 - val_loss: 14.4506 - val_acc: 0.0964\n",
      "Epoch 32/50\n",
      "45000/45000 [==============================] - 2s - loss: 14.1850 - acc: 0.1174 - val_loss: 14.4508 - val_acc: 0.0964\n",
      "Epoch 33/50\n",
      "45000/45000 [==============================] - 2s - loss: 14.1847 - acc: 0.1174 - val_loss: 14.4508 - val_acc: 0.0964\n",
      "Epoch 34/50\n",
      "45000/45000 [==============================] - 2s - loss: 14.1844 - acc: 0.1176 - val_loss: 14.4508 - val_acc: 0.0964\n",
      "Epoch 35/50\n",
      "45000/45000 [==============================] - 2s - loss: 14.1841 - acc: 0.1177 - val_loss: 14.4509 - val_acc: 0.0962\n",
      "Epoch 36/50\n",
      "45000/45000 [==============================] - 2s - loss: 14.1838 - acc: 0.1176 - val_loss: 14.4509 - val_acc: 0.0962\n",
      "Epoch 37/50\n",
      "45000/45000 [==============================] - 2s - loss: 14.1835 - acc: 0.1178 - val_loss: 14.4508 - val_acc: 0.0962\n",
      "Epoch 38/50\n",
      "45000/45000 [==============================] - 2s - loss: 14.1832 - acc: 0.1178 - val_loss: 14.4508 - val_acc: 0.0962\n",
      "Epoch 39/50\n",
      "45000/45000 [==============================] - 2s - loss: 14.1830 - acc: 0.1178 - val_loss: 14.4507 - val_acc: 0.0962\n",
      "Epoch 40/50\n",
      "45000/45000 [==============================] - 2s - loss: 14.1828 - acc: 0.1178 - val_loss: 14.4506 - val_acc: 0.0962\n",
      "Epoch 41/50\n",
      "45000/45000 [==============================] - 2s - loss: 14.1825 - acc: 0.1178 - val_loss: 14.4506 - val_acc: 0.0962\n",
      "Epoch 42/50\n",
      "45000/45000 [==============================] - 2s - loss: 14.1823 - acc: 0.1178 - val_loss: 14.4506 - val_acc: 0.0962\n",
      "Epoch 43/50\n",
      "45000/45000 [==============================] - 2s - loss: 14.1821 - acc: 0.1178 - val_loss: 14.4507 - val_acc: 0.0964\n",
      "Epoch 44/50\n",
      "45000/45000 [==============================] - 2s - loss: 14.1819 - acc: 0.1179 - val_loss: 14.4506 - val_acc: 0.0964\n",
      "Epoch 45/50\n",
      "45000/45000 [==============================] - 2s - loss: 14.1817 - acc: 0.1179 - val_loss: 14.4504 - val_acc: 0.0966\n",
      "Epoch 46/50\n",
      "45000/45000 [==============================] - 2s - loss: 14.1815 - acc: 0.1180 - val_loss: 14.4505 - val_acc: 0.0966\n",
      "Epoch 47/50\n",
      "45000/45000 [==============================] - 2s - loss: 14.1813 - acc: 0.1180 - val_loss: 14.4505 - val_acc: 0.0966\n",
      "Epoch 48/50\n",
      "45000/45000 [==============================] - 2s - loss: 14.1811 - acc: 0.1180 - val_loss: 14.4506 - val_acc: 0.0966\n",
      "Epoch 49/50\n",
      "45000/45000 [==============================] - 2s - loss: 14.1809 - acc: 0.1180 - val_loss: 14.4506 - val_acc: 0.0966\n",
      "Epoch 50/50\n",
      "45000/45000 [==============================] - 2s - loss: 14.1807 - acc: 0.1180 - val_loss: 14.4506 - val_acc: 0.0966\n"
     ]
    }
   ],
   "source": [
    "trained_model = model.fit(\n",
    "    s_train, label_train, nb_epoch=epochs, batch_size=batch_size, \n",
    "    validation_data=(s_valid, label_valid))"
   ]
  },
  {
   "cell_type": "code",
   "execution_count": 28,
   "metadata": {
    "collapsed": false
   },
   "outputs": [
    {
     "data": {
      "image/png": "[encoded data removed]",
      "text/plain": [
       "<matplotlib.figure.Figure at 0x7f86a57a94a8>"
      ]
     },
     "metadata": {},
     "output_type": "display_data"
    },
    {
     "data": {
      "image/png": "[encoded data removed]",
      "text/plain": [
       "<matplotlib.figure.Figure at 0x7f86a5708080>"
      ]
     },
     "metadata": {},
     "output_type": "display_data"
    }
   ],
   "source": [
    "# summarize history for accuracy\n",
    "plt.plot(trained_model.history['acc'])\n",
    "plt.plot(trained_model.history['val_acc'])\n",
    "plt.title('model accuracy')\n",
    "plt.ylabel('accuracy')\n",
    "plt.xlabel('epoch')\n",
    "plt.legend(['train', 'test'], loc='upper left')\n",
    "plt.show()\n",
    "# summarize history for loss\n",
    "plt.plot(trained_model.history['loss'])\n",
    "plt.plot(trained_model.history['val_loss'])\n",
    "plt.title('model loss')\n",
    "plt.ylabel('loss')\n",
    "plt.xlabel('epoch')\n",
    "plt.legend(['train', 'test'], loc='upper left')\n",
    "plt.show()"
   ]
  },
  {
   "cell_type": "code",
   "execution_count": 18,
   "metadata": {
    "collapsed": false
   },
   "outputs": [
    {
     "name": "stdout",
     "output_type": "stream",
     "text": [
      "(49950, 3, 32, 32)\n",
      "(50, 3, 32, 32)\n",
      "(10000, 3, 32, 32)\n",
      "Train on 49950 samples, validate on 10000 samples\n",
      "Epoch 1/25\n",
      "49950/49950 [==============================] - 82s - loss: 2.3162 - acc: 0.0990 - val_loss: 2.3043 - val_acc: 0.0894\n",
      "Epoch 2/25\n",
      "49950/49950 [==============================] - 82s - loss: 2.3036 - acc: 0.1018 - val_loss: 2.3038 - val_acc: 0.0893\n",
      "Epoch 3/25\n",
      "49950/49950 [==============================] - 83s - loss: 2.3029 - acc: 0.1033 - val_loss: 2.3034 - val_acc: 0.0955\n",
      "Epoch 4/25\n",
      "49950/49950 [==============================] - 82s - loss: 2.3026 - acc: 0.1026 - val_loss: 2.3035 - val_acc: 0.0919\n",
      "Epoch 5/25\n",
      "49950/49950 [==============================] - 83s - loss: 2.3026 - acc: 0.1038 - val_loss: 2.3041 - val_acc: 0.0968\n",
      "Epoch 6/25\n",
      "49950/49950 [==============================] - 83s - loss: 2.3023 - acc: 0.1026 - val_loss: 2.3047 - val_acc: 0.0924\n",
      "Epoch 7/25\n",
      "49950/49950 [==============================] - 83s - loss: 2.3020 - acc: 0.1072 - val_loss: 2.3058 - val_acc: 0.0789\n",
      "Epoch 8/25\n",
      "49920/49950 [============================>.] - ETA: 0s - loss: 2.3020 - acc: 0.1042Epoch 00007: early stopping\n",
      "49950/49950 [==============================] - 83s - loss: 2.3020 - acc: 0.1041 - val_loss: 2.3043 - val_acc: 0.0908\n"
     ]
    }
   ],
   "source": [
    "# reshape data\n",
    "#train_x_temp = s_train.reshape(-1,3,32,32)\n",
    "#val_x_temp = s_valid.reshape(-1,3,32,32)\n",
    "#test_x_temp=x_test.reshape(-1,3,32,32)\n",
    "\n",
    "train_x_temp = s_train\n",
    "val_x_temp = s_valid\n",
    "test_x_temp=x_test\n",
    "\n",
    "print(train_x_temp.shape)\n",
    "print(val_x_temp.shape)\n",
    "print(test_x_temp.shape)\n",
    "\n",
    "dropout_ratio = 0.5\n",
    "\n",
    "\n",
    "# define vars\n",
    "input_shape = (3072,)\n",
    "input_reshape = (3, 32, 32)\n",
    "\n",
    "conv_num_filters = 5\n",
    "conv_filter_size = 5\n",
    "\n",
    "pool_size = (2, 2)\n",
    "\n",
    "hidden_num_units = 512\n",
    "output_num_units = 10\n",
    "\n",
    "epochs = 25\n",
    "batch_size = 256\n",
    "\n",
    "callbacks = [\n",
    "                EarlyStopping(monitor='val_loss', patience=4, verbose=1)\n",
    "        ]\n",
    "\n",
    "model = Sequential([\n",
    " #InputLayer(input_shape=input_reshape),\n",
    "\n",
    " Convolution2D(32, 3, 3, border_mode='same',activation='relu',W_constraint=maxnorm(3),input_shape=input_reshape),\n",
    " #MaxPooling2D(pool_size=pool_size),\n",
    " Dropout(dropout_ratio),\n",
    " Convolution2D(32, 3, 3, border_mode='same',activation='relu',W_constraint=maxnorm(3)),\n",
    " MaxPooling2D(pool_size=pool_size),\n",
    " Flatten(),\n",
    " Dense(output_dim=hidden_num_units, activation='relu',W_constraint=maxnorm(3)),\n",
    " Dropout(0.5),\n",
    "        \n",
    " Dense(output_dim=output_num_units, input_dim=hidden_num_units, activation='softmax'),\n",
    "])\n",
    "\n",
    "#model.compile(loss='categorical_crossentropy', optimizer='adam', metrics=['accuracy'])\n",
    "# Compile model\n",
    "lrate = 0.005\n",
    "decay = lrate/epochs\n",
    "sgd = SGD(lr=lrate, momentum=0.9, decay=decay, nesterov=True)\n",
    "model.compile(loss='categorical_crossentropy', optimizer=sgd, metrics=['accuracy'])\n",
    "\n",
    "trained_model_conv = model.fit(train_x_temp, label_train, \n",
    "                               nb_epoch=epochs, batch_size=batch_size, \n",
    "                               validation_data=(test_x_temp, label_test),\n",
    "                               callbacks=callbacks\n",
    "                              )"
   ]
  },
  {
   "cell_type": "code",
   "execution_count": 12,
   "metadata": {
    "collapsed": false
   },
   "outputs": [
    {
     "name": "stdout",
     "output_type": "stream",
     "text": [
      "____________________________________________________________________________________________________\n",
      "Layer (type)                     Output Shape          Param #     Connected to                     \n",
      "====================================================================================================\n",
      "convolution2d_1 (Convolution2D)  (None, 32, 32, 32)    896         convolution2d_input_1[0][0]      \n",
      "____________________________________________________________________________________________________\n",
      "dropout_1 (Dropout)              (None, 32, 32, 32)    0           convolution2d_1[0][0]            \n",
      "____________________________________________________________________________________________________\n",
      "convolution2d_2 (Convolution2D)  (None, 32, 32, 32)    9248        dropout_1[0][0]                  \n",
      "____________________________________________________________________________________________________\n",
      "maxpooling2d_1 (MaxPooling2D)    (None, 32, 16, 16)    0           convolution2d_2[0][0]            \n",
      "____________________________________________________________________________________________________\n",
      "flatten_1 (Flatten)              (None, 8192)          0           maxpooling2d_1[0][0]             \n",
      "____________________________________________________________________________________________________\n",
      "dense_1 (Dense)                  (None, 512)           4194816     flatten_1[0][0]                  \n",
      "____________________________________________________________________________________________________\n",
      "dropout_2 (Dropout)              (None, 512)           0           dense_1[0][0]                    \n",
      "____________________________________________________________________________________________________\n",
      "dense_2 (Dense)                  (None, 10)            5130        dropout_2[0][0]                  \n",
      "====================================================================================================\n",
      "Total params: 4210090\n",
      "____________________________________________________________________________________________________\n"
     ]
    }
   ],
   "source": [
    "model.summary()"
   ]
  },
  {
   "cell_type": "code",
   "execution_count": 17,
   "metadata": {
    "collapsed": false
   },
   "outputs": [
    {
     "data": {
      "image/png": "[encoded data removed]",
      "text/plain": [
       "<matplotlib.figure.Figure at 0x7fec3e434898>"
      ]
     },
     "metadata": {},
     "output_type": "display_data"
    },
    {
     "data": {
      "image/png": "[encoded data removed]",
      "text/plain": [
       "<matplotlib.figure.Figure at 0x7fec50d3d358>"
      ]
     },
     "metadata": {},
     "output_type": "display_data"
    }
   ],
   "source": [
    "# summarize history for accuracy\n",
    "plt.plot(trained_model_conv.history['acc'])\n",
    "plt.plot(trained_model_conv.history['val_acc'])\n",
    "plt.title('model accuracy')\n",
    "plt.ylabel('accuracy')\n",
    "plt.xlabel('epoch')\n",
    "plt.legend(['train', 'test'], loc='upper left')\n",
    "plt.show()\n",
    "# summarize history for loss\n",
    "plt.plot(trained_model_conv.history['loss'])\n",
    "plt.plot(trained_model_conv.history['val_loss'])\n",
    "plt.title('model loss')\n",
    "plt.ylabel('loss')\n",
    "plt.xlabel('epoch')\n",
    "plt.legend(['train', 'test'], loc='upper left')\n",
    "plt.show()"
   ]
  },
  {
   "cell_type": "code",
   "execution_count": 86,
   "metadata": {
    "collapsed": false
   },
   "outputs": [
    {
     "name": "stdout",
     "output_type": "stream",
     "text": [
      " 9984/10000 [============================>.] - ETA: 0s"
     ]
    }
   ],
   "source": [
    "#pred = model.predict_classes(x_test)\n",
    "pred = model.predict_classes(x_test)"
   ]
  },
  {
   "cell_type": "code",
   "execution_count": 11,
   "metadata": {
    "collapsed": false
   },
   "outputs": [
    {
     "name": "stdout",
     "output_type": "stream",
     "text": [
      "10000/10000 [==============================] - 6s     \n"
     ]
    }
   ],
   "source": [
    "#pred = model.predict_classes(x_test)\n",
    "pred = model.predict_classes(test_x_temp)"
   ]
  },
  {
   "cell_type": "code",
   "execution_count": 12,
   "metadata": {
    "collapsed": false
   },
   "outputs": [
    {
     "data": {
      "text/plain": [
       "array([7, 6, 1, ..., 4, 2, 1])"
      ]
     },
     "execution_count": 12,
     "metadata": {},
     "output_type": "execute_result"
    }
   ],
   "source": [
    "pred"
   ]
  },
  {
   "cell_type": "code",
   "execution_count": 13,
   "metadata": {
    "collapsed": true
   },
   "outputs": [],
   "source": [
    "pred= to_categorical(pred)"
   ]
  },
  {
   "cell_type": "code",
   "execution_count": 14,
   "metadata": {
    "collapsed": false
   },
   "outputs": [
    {
     "data": {
      "text/plain": [
       "array([[ 0.,  0.,  0., ...,  1.,  0.,  0.],\n",
       "       [ 0.,  0.,  0., ...,  0.,  0.,  0.],\n",
       "       [ 0.,  1.,  0., ...,  0.,  0.,  0.],\n",
       "       ..., \n",
       "       [ 0.,  0.,  0., ...,  0.,  0.,  0.],\n",
       "       [ 0.,  0.,  1., ...,  0.,  0.,  0.],\n",
       "       [ 0.,  1.,  0., ...,  0.,  0.,  0.]])"
      ]
     },
     "execution_count": 14,
     "metadata": {},
     "output_type": "execute_result"
    }
   ],
   "source": [
    "pred"
   ]
  },
  {
   "cell_type": "code",
   "execution_count": 15,
   "metadata": {
    "collapsed": false
   },
   "outputs": [
    {
     "data": {
      "text/plain": [
       "array([[ 0.,  0.,  0., ...,  0.,  0.,  0.],\n",
       "       [ 0.,  0.,  0., ...,  0.,  1.,  0.],\n",
       "       [ 0.,  0.,  0., ...,  0.,  1.,  0.],\n",
       "       ..., \n",
       "       [ 0.,  0.,  0., ...,  0.,  0.,  0.],\n",
       "       [ 0.,  1.,  0., ...,  0.,  0.,  0.],\n",
       "       [ 0.,  0.,  0., ...,  1.,  0.,  0.]])"
      ]
     },
     "execution_count": 15,
     "metadata": {},
     "output_type": "execute_result"
    }
   ],
   "source": [
    "label_test"
   ]
  },
  {
   "cell_type": "code",
   "execution_count": 16,
   "metadata": {
    "collapsed": false
   },
   "outputs": [
    {
     "name": "stdout",
     "output_type": "stream",
     "text": [
      "tested  10000 digits\n",
      "correct:  928 wrong:  9072 error rate:  90.72 %\n",
      "got correctly  9.28 %\n"
     ]
    }
   ],
   "source": [
    "num=len(label_test)\n",
    "r=0\n",
    "w=0\n",
    "for i in range(num):\n",
    "        #print ('y_pred ',y_pred[i])\n",
    "        #print ('labels ',labels[i])\n",
    "        #without the use of all() returns error truth value of an array with more than one element is ambiguous\n",
    "        #if y_pred[i].all() == labels[i].all():\n",
    "        if np.array_equal(pred[i],label_test[i]):\n",
    "            r+=1\n",
    "        else:\n",
    "            w+=1\n",
    "print (\"tested \",  num, \"digits\")\n",
    "print (\"correct: \", r, \"wrong: \", w, \"error rate: \", float(w)*100/(r+w), \"%\")\n",
    "print (\"got correctly \", float(r)*100/(r+w), \"%\")"
   ]
  },
  {
   "cell_type": "code",
   "execution_count": null,
   "metadata": {
    "collapsed": true
   },
   "outputs": [],
   "source": []
  }
 ],
 "metadata": {
  "kernelspec": {
   "display_name": "Python 3",
   "language": "python",
   "name": "python3"
  },
  "language_info": {
   "codemirror_mode": {
    "name": "ipython",
    "version": 3
   },
   "file_extension": ".py",
   "mimetype": "text/x-python",
   "name": "python",
   "nbconvert_exporter": "python",
   "pygments_lexer": "ipython3",
   "version": "3.5.2"
  }
 },
 "nbformat": 4,
 "nbformat_minor": 0
}
