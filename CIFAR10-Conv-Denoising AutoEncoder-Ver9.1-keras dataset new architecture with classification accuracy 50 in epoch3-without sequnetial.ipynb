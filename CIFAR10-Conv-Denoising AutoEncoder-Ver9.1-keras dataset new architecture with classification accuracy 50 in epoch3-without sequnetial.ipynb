{
 "cells": [
  {
   "cell_type": "code",
   "execution_count": 1,
   "metadata": {
    "collapsed": false,
    "scrolled": true
   },
   "outputs": [
    {
     "name": "stderr",
     "output_type": "stream",
     "text": [
      "/home/mrafi123/anaconda3/lib/python3.5/site-packages/sklearn/cross_validation.py:44: DeprecationWarning: This module was deprecated in version 0.18 in favor of the model_selection module into which all the refactored classes and functions are moved. Also note that the interface of the new CV iterators are different from that of this module. This module will be removed in 0.20.\n",
      "  \"This module will be removed in 0.20.\", DeprecationWarning)\n",
      "Using Theano backend.\n"
     ]
    },
    {
     "name": "stdout",
     "output_type": "stream",
     "text": [
      "Couldn't import dot_parser, loading of dot files will not be possible.\n"
     ]
    },
    {
     "name": "stderr",
     "output_type": "stream",
     "text": [
      "WARNING (theano.sandbox.cuda): The cuda backend is deprecated and will be removed in the next release (v0.10).  Please switch to the gpuarray backend. You can get more information about how to switch at this URL:\n",
      " https://github.com/Theano/Theano/wiki/Converting-to-the-new-gpu-back-end%28gpuarray%29\n",
      "\n",
      "Using gpu device 0: GeForce 920M (CNMeM is disabled, cuDNN not available)\n"
     ]
    }
   ],
   "source": [
    "import os    \n",
    "#os.environ['THEANO_FLAGS'] = \"device=gpu1\"  \n",
    "#os.environ[\"THEANO_FLAGS\"] = \"mode=FAST_RUN,device=gpu0,floatX=float32,lib.cnmem=1\"\n",
    "os.environ[\"THEANO_FLAGS\"] = \"mode=FAST_RUN,device=gpu0,floatX=float32\"\n",
    "\n",
    "import numpy as np\n",
    "import pandas as pd\n",
    "from sklearn.cross_validation import train_test_split\n",
    "\n",
    "from keras.preprocessing.image import ImageDataGenerator\n",
    "from keras.models import Sequential, Model\n",
    "from keras.layers import Input, Dense, Dropout, Activation, Flatten, Reshape\n",
    "from keras.layers import Convolution2D, MaxPooling2D\n",
    "from keras.layers.convolutional import Convolution2D, MaxPooling2D, ZeroPadding2D\n",
    "from keras.utils import np_utils\n",
    "from keras.callbacks import LearningRateScheduler\n",
    "from keras.callbacks import EarlyStopping, ModelCheckpoint\n",
    "from keras.optimizers import *\n",
    "\n",
    "from keras.constraints import maxnorm\n",
    "from keras.datasets import cifar10\n",
    "\n",
    "from matplotlib import pyplot as plt\n",
    "%matplotlib inline\n"
   ]
  },
  {
   "cell_type": "code",
   "execution_count": 2,
   "metadata": {
    "collapsed": true
   },
   "outputs": [],
   "source": [
    "# load data\n",
    "(X_train, y_train), (X_test, y_test) = cifar10.load_data()"
   ]
  },
  {
   "cell_type": "code",
   "execution_count": 3,
   "metadata": {
    "collapsed": true
   },
   "outputs": [],
   "source": [
    "X_train = X_train.astype('float32')\n",
    "X_test = X_test.astype('float32')\n",
    "X_train = X_train / 255.0\n",
    "X_test = X_test / 255.0"
   ]
  },
  {
   "cell_type": "code",
   "execution_count": 4,
   "metadata": {
    "collapsed": true
   },
   "outputs": [],
   "source": [
    "\n",
    "# one hot encode outputs\n",
    "y_train = np_utils.to_categorical(y_train)\n",
    "y_test = np_utils.to_categorical(y_test)\n",
    "num_classes = y_test.shape[1]"
   ]
  },
  {
   "cell_type": "code",
   "execution_count": 5,
   "metadata": {
    "collapsed": false
   },
   "outputs": [
    {
     "name": "stdout",
     "output_type": "stream",
     "text": [
      "(50000, 3, 32, 32)\n",
      "(50000, 10)\n",
      "(10000, 3, 32, 32)\n",
      "(10000, 10)\n"
     ]
    }
   ],
   "source": [
    "print (X_train.shape)\n",
    "print (y_train.shape)\n",
    "print (X_test.shape)\n",
    "print (y_test.shape)"
   ]
  },
  {
   "cell_type": "code",
   "execution_count": 15,
   "metadata": {
    "collapsed": true
   },
   "outputs": [],
   "source": [
    "# Reinstallise models \n",
    "img_size = 32\n",
    "\n",
    "def cnn_model():\n",
    "    # this is our input placeholder\n",
    "    input_img = Input(shape=(3,32,32))\n",
    "    x = Convolution2D(32, 3, 3, activation='relu', border_mode='same')(input_img)\n",
    "    x = Dropout(0.2)(x)\n",
    "    x = Convolution2D(32, 3, 3, activation='relu', border_mode='same')(x)\n",
    "    x = MaxPooling2D((2, 2), border_mode='same')(x)\n",
    "\n",
    "    x = Convolution2D(64, 3, 3, activation='relu', border_mode='same')(x) \n",
    "    x = Dropout(0.2)(x)\n",
    "    x = Convolution2D(64, 3, 3, activation='relu', border_mode='same')(x) \n",
    "    x = MaxPooling2D((2, 2), border_mode='same')(x)\n",
    "    x = Dropout(0.2)(x)\n",
    "\n",
    "    x = Convolution2D(128, 3, 3, activation='relu', border_mode='same')(x) \n",
    "    x = Dropout(0.2)(x)\n",
    "    x = Convolution2D(128, 3, 3, activation='relu', border_mode='same')(x) \n",
    "    x = MaxPooling2D((2, 2), border_mode='same')(x)\n",
    "    x = Dropout(0.2)(x)\n",
    "\n",
    "    x = Flatten()(x)\n",
    "    x = Dropout(0.2)(x)\n",
    "    x= Dense (1024, activation = 'relu', W_constraint=maxnorm(3))(x)\n",
    "    x = Dropout(0.2)(x)\n",
    "    x= Dense (512, activation = 'relu', W_constraint=maxnorm(3))(x)\n",
    "    x = Dropout(0.2)(x)\n",
    "    encoder= Dense (40, activation = 'sigmoid', W_constraint=maxnorm(3))(x)\n",
    "    decoder = Dense (num_classes, activation = 'softmax')(encoder)\n",
    "    autoencoder = Model(input_img, decoder)\n",
    "\n",
    "    return autoencoder"
   ]
  },
  {
   "cell_type": "code",
   "execution_count": 16,
   "metadata": {
    "collapsed": true
   },
   "outputs": [],
   "source": [
    "model2 = cnn_model()\n"
   ]
  },
  {
   "cell_type": "code",
   "execution_count": 17,
   "metadata": {
    "collapsed": false
   },
   "outputs": [
    {
     "data": {
      "text/plain": [
       "<keras.engine.training.Model at 0x7fc9bcfa2400>"
      ]
     },
     "execution_count": 17,
     "metadata": {},
     "output_type": "execute_result"
    }
   ],
   "source": [
    "model2"
   ]
  },
  {
   "cell_type": "code",
   "execution_count": 18,
   "metadata": {
    "collapsed": false
   },
   "outputs": [],
   "source": [
    "\n",
    "\n",
    "\n",
    "model2 = cnn_model()\n",
    "modeladam = cnn_model()\n",
    "modelada = cnn_model()\n",
    "\n",
    "lr = 0.01\n",
    "\n",
    "sgd = SGD(lr=lr, decay=1e-5, momentum=0.8, nesterov=True)\n",
    "\n",
    "model2.compile(loss='categorical_crossentropy',\n",
    "          optimizer=sgd,\n",
    "          metrics=['accuracy'])\n",
    "\n",
    "modeladam.compile(loss='categorical_crossentropy',\n",
    "          optimizer='adam',\n",
    "          metrics=['accuracy'])\n",
    "\n",
    "modelada.compile(loss='categorical_crossentropy',\n",
    "          optimizer='adadelta',\n",
    "          metrics=['accuracy'])\n",
    "\n",
    "\n",
    "#def lr_schedule(epoch):\n",
    "    #return lr*(0.1**int(epoch/10))"
   ]
  },
  {
   "cell_type": "markdown",
   "metadata": {},
   "source": [
    "#just force fitting a sigmoid dense layer before softmax\n",
    "\n",
    "#Epoch 10/50\n",
    "50000/50000 [==============================] - 230s - loss: 0.7211 - acc: 0.7490 - val_loss: 0.7299 - val_acc: 0.7488\n",
    "\n",
    "# after changing from sequntial to model\n",
    "Epoch 5/50\n",
    "50000/50000 [==============================] - 295s - loss: 1.2006 - acc: 0.5701 - val_loss: 1.2521 - val_acc: 0.5642\n"
   ]
  },
  {
   "cell_type": "code",
   "execution_count": 19,
   "metadata": {
    "collapsed": false
   },
   "outputs": [
    {
     "name": "stdout",
     "output_type": "stream",
     "text": [
      "Train on 50000 samples, validate on 10000 samples\n",
      "Epoch 1/50\n",
      "50000/50000 [==============================] - 299s - loss: 2.0627 - acc: 0.2260 - val_loss: 1.8649 - val_acc: 0.2882\n",
      "Epoch 2/50\n",
      "50000/50000 [==============================] - 298s - loss: 1.7608 - acc: 0.3388 - val_loss: 1.6181 - val_acc: 0.4020\n",
      "Epoch 3/50\n",
      "50000/50000 [==============================] - 305s - loss: 1.5168 - acc: 0.4373 - val_loss: 1.3787 - val_acc: 0.4939\n",
      "Epoch 4/50\n",
      "50000/50000 [==============================] - 306s - loss: 1.3435 - acc: 0.5098 - val_loss: 1.2613 - val_acc: 0.5480\n",
      "Epoch 5/50\n",
      "50000/50000 [==============================] - 295s - loss: 1.2006 - acc: 0.5701 - val_loss: 1.2521 - val_acc: 0.5642\n",
      "Epoch 6/50\n",
      "  896/50000 [..............................] - ETA: 272s - loss: 1.1023 - acc: 0.6138"
     ]
    },
    {
     "ename": "KeyboardInterrupt",
     "evalue": "",
     "output_type": "error",
     "traceback": [
      "\u001b[1;31m---------------------------------------------------------------------------\u001b[0m",
      "\u001b[1;31mKeyboardInterrupt\u001b[0m                         Traceback (most recent call last)",
      "\u001b[1;32m<ipython-input-19-3470ced46e22>\u001b[0m in \u001b[0;36m<module>\u001b[1;34m()\u001b[0m\n\u001b[0;32m      4\u001b[0m \u001b[0mepochs\u001b[0m \u001b[1;33m=\u001b[0m \u001b[1;36m50\u001b[0m\u001b[1;33m\u001b[0m\u001b[0m\n\u001b[0;32m      5\u001b[0m \u001b[1;33m\u001b[0m\u001b[0m\n\u001b[1;32m----> 6\u001b[1;33m \u001b[0mmodel2\u001b[0m\u001b[1;33m.\u001b[0m\u001b[0mfit\u001b[0m\u001b[1;33m(\u001b[0m\u001b[0mX_train\u001b[0m\u001b[1;33m,\u001b[0m \u001b[0my_train\u001b[0m\u001b[1;33m,\u001b[0m \u001b[0mvalidation_data\u001b[0m\u001b[1;33m=\u001b[0m\u001b[1;33m(\u001b[0m\u001b[0mX_test\u001b[0m\u001b[1;33m,\u001b[0m \u001b[0my_test\u001b[0m\u001b[1;33m)\u001b[0m\u001b[1;33m,\u001b[0m \u001b[0mnb_epoch\u001b[0m\u001b[1;33m=\u001b[0m\u001b[0mepochs\u001b[0m\u001b[1;33m)\u001b[0m\u001b[1;33m\u001b[0m\u001b[0m\n\u001b[0m",
      "\u001b[1;32m/home/mrafi123/anaconda3/lib/python3.5/site-packages/keras/engine/training.py\u001b[0m in \u001b[0;36mfit\u001b[1;34m(self, x, y, batch_size, nb_epoch, verbose, callbacks, validation_split, validation_data, shuffle, class_weight, sample_weight, initial_epoch)\u001b[0m\n\u001b[0;32m   1194\u001b[0m                               \u001b[0mval_f\u001b[0m\u001b[1;33m=\u001b[0m\u001b[0mval_f\u001b[0m\u001b[1;33m,\u001b[0m \u001b[0mval_ins\u001b[0m\u001b[1;33m=\u001b[0m\u001b[0mval_ins\u001b[0m\u001b[1;33m,\u001b[0m \u001b[0mshuffle\u001b[0m\u001b[1;33m=\u001b[0m\u001b[0mshuffle\u001b[0m\u001b[1;33m,\u001b[0m\u001b[1;33m\u001b[0m\u001b[0m\n\u001b[0;32m   1195\u001b[0m                               \u001b[0mcallback_metrics\u001b[0m\u001b[1;33m=\u001b[0m\u001b[0mcallback_metrics\u001b[0m\u001b[1;33m,\u001b[0m\u001b[1;33m\u001b[0m\u001b[0m\n\u001b[1;32m-> 1196\u001b[1;33m                               initial_epoch=initial_epoch)\n\u001b[0m\u001b[0;32m   1197\u001b[0m \u001b[1;33m\u001b[0m\u001b[0m\n\u001b[0;32m   1198\u001b[0m     \u001b[1;32mdef\u001b[0m \u001b[0mevaluate\u001b[0m\u001b[1;33m(\u001b[0m\u001b[0mself\u001b[0m\u001b[1;33m,\u001b[0m \u001b[0mx\u001b[0m\u001b[1;33m,\u001b[0m \u001b[0my\u001b[0m\u001b[1;33m,\u001b[0m \u001b[0mbatch_size\u001b[0m\u001b[1;33m=\u001b[0m\u001b[1;36m32\u001b[0m\u001b[1;33m,\u001b[0m \u001b[0mverbose\u001b[0m\u001b[1;33m=\u001b[0m\u001b[1;36m1\u001b[0m\u001b[1;33m,\u001b[0m \u001b[0msample_weight\u001b[0m\u001b[1;33m=\u001b[0m\u001b[1;32mNone\u001b[0m\u001b[1;33m)\u001b[0m\u001b[1;33m:\u001b[0m\u001b[1;33m\u001b[0m\u001b[0m\n",
      "\u001b[1;32m/home/mrafi123/anaconda3/lib/python3.5/site-packages/keras/engine/training.py\u001b[0m in \u001b[0;36m_fit_loop\u001b[1;34m(self, f, ins, out_labels, batch_size, nb_epoch, verbose, callbacks, val_f, val_ins, shuffle, callback_metrics, initial_epoch)\u001b[0m\n\u001b[0;32m    889\u001b[0m                 \u001b[0mbatch_logs\u001b[0m\u001b[1;33m[\u001b[0m\u001b[1;34m'size'\u001b[0m\u001b[1;33m]\u001b[0m \u001b[1;33m=\u001b[0m \u001b[0mlen\u001b[0m\u001b[1;33m(\u001b[0m\u001b[0mbatch_ids\u001b[0m\u001b[1;33m)\u001b[0m\u001b[1;33m\u001b[0m\u001b[0m\n\u001b[0;32m    890\u001b[0m                 \u001b[0mcallbacks\u001b[0m\u001b[1;33m.\u001b[0m\u001b[0mon_batch_begin\u001b[0m\u001b[1;33m(\u001b[0m\u001b[0mbatch_index\u001b[0m\u001b[1;33m,\u001b[0m \u001b[0mbatch_logs\u001b[0m\u001b[1;33m)\u001b[0m\u001b[1;33m\u001b[0m\u001b[0m\n\u001b[1;32m--> 891\u001b[1;33m                 \u001b[0mouts\u001b[0m \u001b[1;33m=\u001b[0m \u001b[0mf\u001b[0m\u001b[1;33m(\u001b[0m\u001b[0mins_batch\u001b[0m\u001b[1;33m)\u001b[0m\u001b[1;33m\u001b[0m\u001b[0m\n\u001b[0m\u001b[0;32m    892\u001b[0m                 \u001b[1;32mif\u001b[0m \u001b[1;32mnot\u001b[0m \u001b[0misinstance\u001b[0m\u001b[1;33m(\u001b[0m\u001b[0mouts\u001b[0m\u001b[1;33m,\u001b[0m \u001b[0mlist\u001b[0m\u001b[1;33m)\u001b[0m\u001b[1;33m:\u001b[0m\u001b[1;33m\u001b[0m\u001b[0m\n\u001b[0;32m    893\u001b[0m                     \u001b[0mouts\u001b[0m \u001b[1;33m=\u001b[0m \u001b[1;33m[\u001b[0m\u001b[0mouts\u001b[0m\u001b[1;33m]\u001b[0m\u001b[1;33m\u001b[0m\u001b[0m\n",
      "\u001b[1;32m/home/mrafi123/anaconda3/lib/python3.5/site-packages/keras/backend/theano_backend.py\u001b[0m in \u001b[0;36m__call__\u001b[1;34m(self, inputs)\u001b[0m\n\u001b[0;32m    957\u001b[0m     \u001b[1;32mdef\u001b[0m \u001b[0m__call__\u001b[0m\u001b[1;33m(\u001b[0m\u001b[0mself\u001b[0m\u001b[1;33m,\u001b[0m \u001b[0minputs\u001b[0m\u001b[1;33m)\u001b[0m\u001b[1;33m:\u001b[0m\u001b[1;33m\u001b[0m\u001b[0m\n\u001b[0;32m    958\u001b[0m         \u001b[1;32massert\u001b[0m \u001b[0misinstance\u001b[0m\u001b[1;33m(\u001b[0m\u001b[0minputs\u001b[0m\u001b[1;33m,\u001b[0m \u001b[1;33m(\u001b[0m\u001b[0mlist\u001b[0m\u001b[1;33m,\u001b[0m \u001b[0mtuple\u001b[0m\u001b[1;33m)\u001b[0m\u001b[1;33m)\u001b[0m\u001b[1;33m\u001b[0m\u001b[0m\n\u001b[1;32m--> 959\u001b[1;33m         \u001b[1;32mreturn\u001b[0m \u001b[0mself\u001b[0m\u001b[1;33m.\u001b[0m\u001b[0mfunction\u001b[0m\u001b[1;33m(\u001b[0m\u001b[1;33m*\u001b[0m\u001b[0minputs\u001b[0m\u001b[1;33m)\u001b[0m\u001b[1;33m\u001b[0m\u001b[0m\n\u001b[0m\u001b[0;32m    960\u001b[0m \u001b[1;33m\u001b[0m\u001b[0m\n\u001b[0;32m    961\u001b[0m \u001b[1;33m\u001b[0m\u001b[0m\n",
      "\u001b[1;32m/home/mrafi123/anaconda3/lib/python3.5/site-packages/theano/compile/function_module.py\u001b[0m in \u001b[0;36m__call__\u001b[1;34m(self, *args, **kwargs)\u001b[0m\n\u001b[0;32m    882\u001b[0m         \u001b[1;32mtry\u001b[0m\u001b[1;33m:\u001b[0m\u001b[1;33m\u001b[0m\u001b[0m\n\u001b[0;32m    883\u001b[0m             \u001b[0moutputs\u001b[0m \u001b[1;33m=\u001b[0m\u001b[0;31m\\\u001b[0m\u001b[1;33m\u001b[0m\u001b[0m\n\u001b[1;32m--> 884\u001b[1;33m                 \u001b[0mself\u001b[0m\u001b[1;33m.\u001b[0m\u001b[0mfn\u001b[0m\u001b[1;33m(\u001b[0m\u001b[1;33m)\u001b[0m \u001b[1;32mif\u001b[0m \u001b[0moutput_subset\u001b[0m \u001b[1;32mis\u001b[0m \u001b[1;32mNone\u001b[0m \u001b[1;32melse\u001b[0m\u001b[0;31m\\\u001b[0m\u001b[1;33m\u001b[0m\u001b[0m\n\u001b[0m\u001b[0;32m    885\u001b[0m                 \u001b[0mself\u001b[0m\u001b[1;33m.\u001b[0m\u001b[0mfn\u001b[0m\u001b[1;33m(\u001b[0m\u001b[0moutput_subset\u001b[0m\u001b[1;33m=\u001b[0m\u001b[0moutput_subset\u001b[0m\u001b[1;33m)\u001b[0m\u001b[1;33m\u001b[0m\u001b[0m\n\u001b[0;32m    886\u001b[0m         \u001b[1;32mexcept\u001b[0m \u001b[0mException\u001b[0m\u001b[1;33m:\u001b[0m\u001b[1;33m\u001b[0m\u001b[0m\n",
      "\u001b[1;32m/home/mrafi123/anaconda3/lib/python3.5/site-packages/theano/ifelse.py\u001b[0m in \u001b[0;36mthunk\u001b[1;34m()\u001b[0m\n\u001b[0;32m    244\u001b[0m         \u001b[0moutputs\u001b[0m \u001b[1;33m=\u001b[0m \u001b[0mnode\u001b[0m\u001b[1;33m.\u001b[0m\u001b[0moutputs\u001b[0m\u001b[1;33m\u001b[0m\u001b[0m\n\u001b[0;32m    245\u001b[0m \u001b[1;33m\u001b[0m\u001b[0m\n\u001b[1;32m--> 246\u001b[1;33m         \u001b[1;32mdef\u001b[0m \u001b[0mthunk\u001b[0m\u001b[1;33m(\u001b[0m\u001b[1;33m)\u001b[0m\u001b[1;33m:\u001b[0m\u001b[1;33m\u001b[0m\u001b[0m\n\u001b[0m\u001b[0;32m    247\u001b[0m             \u001b[1;32mif\u001b[0m \u001b[1;32mnot\u001b[0m \u001b[0mcompute_map\u001b[0m\u001b[1;33m[\u001b[0m\u001b[0mcond\u001b[0m\u001b[1;33m]\u001b[0m\u001b[1;33m[\u001b[0m\u001b[1;36m0\u001b[0m\u001b[1;33m]\u001b[0m\u001b[1;33m:\u001b[0m\u001b[1;33m\u001b[0m\u001b[0m\n\u001b[0;32m    248\u001b[0m                 \u001b[1;32mreturn\u001b[0m \u001b[1;33m[\u001b[0m\u001b[1;36m0\u001b[0m\u001b[1;33m]\u001b[0m\u001b[1;33m\u001b[0m\u001b[0m\n",
      "\u001b[1;31mKeyboardInterrupt\u001b[0m: "
     ]
    }
   ],
   "source": [
    "# fitting the modelning for 23s in TITAN\n",
    "# each epoch run\n",
    "batch_size = 128\n",
    "epochs = 50\n",
    "\n",
    "model2.fit(X_train, y_train, validation_data=(X_test, y_test), nb_epoch=epochs)"
   ]
  },
  {
   "cell_type": "code",
   "execution_count": 2,
   "metadata": {
    "collapsed": false
   },
   "outputs": [],
   "source": [
    "# this is our input placeholder\n",
    "input_img = Input(shape=(3,32,32))\n",
    "\n",
    "x = convolutional.Convolution2D(16, 5, 5, activation='relu', border_mode='same')(input_img)\n",
    "x = convolutional.MaxPooling2D((2, 2), border_mode='same')(x)##64, 14, 14\n",
    "x = convolutional.Convolution2D(20, 5, 5, activation='relu', border_mode='same')(x) \n",
    "x = convolutional.MaxPooling2D((2, 2), border_mode='same')(x) ##32, 6, 6\n",
    "x = convolutional.Convolution2D(20, 5, 5, activation='relu', border_mode='same')(x) \n",
    "##x = convolutional.MaxPooling2D((2, 2), border_mode='same')(x) \n",
    "##x = convolutional.Convolution2D(10, 2, 2, activation='relu', border_mode='same')(x)\n",
    "encoded = convolutional.MaxPooling2D((2, 2), border_mode='same')(x) \n",
    "\n",
    "#x = Flatten()(x)\n",
    "#encoded = Dense(2, activation='sigmoid')(x)\n",
    "#x= Dense (320, activation = 'relu')(encoded)\n",
    "#x = Reshape((20,4,4))(x) \n",
    "x = convolutional.UpSampling2D((2, 2))(encoded) \n",
    "##x = convolutional.Convolution2D(10, 2, 2, activation='relu', border_mode='same')(x)\n",
    "##x = convolutional.UpSampling2D((2, 2))(x) \n",
    "x = convolutional.Convolution2D(20, 5, 5, activation='relu', border_mode='same')(x) \n",
    "x = convolutional.UpSampling2D((2, 2))(x) \n",
    "x = convolutional.Convolution2D(20, 5, 5, activation='relu', border_mode='same')(x) \n",
    "x = convolutional.UpSampling2D((2, 2))(x)\n",
    "x = convolutional.Convolution2D(16, 5, 5, activation='relu',border_mode='same')(x) \n",
    "decoded = convolutional.Convolution2D(3, 5, 5, activation='sigmoid', border_mode='same')(x) \n",
    "#x = Flatten()(x) ##3072\n",
    "#x = Dense(3072, activation='linear')(x)\n",
    "#decoded = Reshape((3,32,32))(x) ##3, 32, 32\n",
    "#decoded = convolutional.Convolution2D(3, 5, 5, activation='sigmoid', border_mode='same')(x)\n",
    "autoencoder = Model(input_img, decoded)\n",
    "#sgd=SGD(lr=0.002, momentum=0.1, decay=0.0, nesterov=False)\n",
    "autoencoder.compile(optimizer='Adam', loss='mean_squared_error',metrics=['accuracy'])"
   ]
  },
  {
   "cell_type": "markdown",
   "metadata": {
    "collapsed": false
   },
   "source": [
    "autoencoder.summary()"
   ]
  },
  {
   "cell_type": "code",
   "execution_count": null,
   "metadata": {
    "collapsed": true
   },
   "outputs": [],
   "source": []
  },
  {
   "cell_type": "markdown",
   "metadata": {
    "collapsed": false,
    "scrolled": true
   },
   "source": [
    "x_train = X_train.astype('float32') / 255.\n",
    "x_test = X_test.astype('float32') / 255.\n",
    "x_train = x_train.reshape((len(x_train), np.prod(x_train.shape[1:])))\n",
    "x_test = x_test.reshape((len(x_test), np.prod(x_test.shape[1:])))\n",
    "print (x_train.shape)\n",
    "print (x_test.shape)"
   ]
  },
  {
   "cell_type": "markdown",
   "metadata": {
    "collapsed": false
   },
   "source": [
    "x_train = x_train.reshape((len(x_train),3,32,32))\n",
    "x_test = x_test.reshape((len(x_test),3,32,32))\n",
    "print (x_train.shape)\n",
    "print (x_test.shape)"
   ]
  },
  {
   "cell_type": "code",
   "execution_count": 8,
   "metadata": {
    "collapsed": false
   },
   "outputs": [],
   "source": [
    "# this model maps an input to its encoded representation\n",
    "#encoding_dim=40\n",
    "#encoded = convolutional.Convolution2D(3, 5, 5, activation='relu', border_mode='same')(encoded)\n",
    "encoded = Flatten()(encoded)\n",
    "#encoded = Dense(encoding_dim, activation='sigmoid')(encoded)\n",
    "#encoded = convolutional.Convolution2D(3, 5, 5, activation='relu', border_mode='same')(encoded)\n",
    "#encoded = Reshape((3,32,32))(encoded) ##3, 32, 32\n",
    "\n",
    "encoder = Model(input_img, encoded)"
   ]
  },
  {
   "cell_type": "markdown",
   "metadata": {
    "collapsed": false,
    "scrolled": true
   },
   "source": [
    "print (encoder.summary())"
   ]
  },
  {
   "cell_type": "code",
   "execution_count": 10,
   "metadata": {
    "collapsed": true
   },
   "outputs": [],
   "source": [
    "nb_epoch=10\n",
    "batch_size=64\n",
    "random_state =5578"
   ]
  },
  {
   "cell_type": "code",
   "execution_count": 11,
   "metadata": {
    "collapsed": false
   },
   "outputs": [
    {
     "name": "stdout",
     "output_type": "stream",
     "text": [
      "weights_kfold_CIFAR10-Conv-AutoEncoder-Ver7.61_epoch_10_batch_64.h5\n"
     ]
    }
   ],
   "source": [
    "kfold_weights_path = os.path.join('weights_kfold_' +  'CIFAR10-Conv-AutoEncoder-Ver7.61' +\n",
    "                                  '_epoch_'+str(nb_epoch)+\n",
    "                                  '_batch_'+str(batch_size)\n",
    "                                  +'.h5')\n",
    "print(kfold_weights_path)"
   ]
  },
  {
   "cell_type": "code",
   "execution_count": 12,
   "metadata": {
    "collapsed": false
   },
   "outputs": [
    {
     "data": {
      "text/plain": [
       "False"
      ]
     },
     "execution_count": 12,
     "metadata": {},
     "output_type": "execute_result"
    }
   ],
   "source": [
    "os.path.isfile(kfold_weights_path)"
   ]
  },
  {
   "cell_type": "code",
   "execution_count": 13,
   "metadata": {
    "collapsed": false
   },
   "outputs": [
    {
     "name": "stdout",
     "output_type": "stream",
     "text": [
      "Training for the first time...\n"
     ]
    }
   ],
   "source": [
    "# Some transfer learning\n",
    "if os.path.isfile(kfold_weights_path):\n",
    "    print ('Loading already stored weights...')\n",
    "    autoencoder.load_weights(kfold_weights_path)\n",
    "else:\n",
    "    print ('Training for the first time...')\n",
    "    "
   ]
  },
  {
   "cell_type": "code",
   "execution_count": 14,
   "metadata": {
    "collapsed": true
   },
   "outputs": [],
   "source": [
    "noise_factor = 0.2\n",
    "s_train_noisy = x_train + noise_factor * np.random.normal(loc=0.0, scale=1.0, size=x_train.shape) \n",
    "s_test_noisy = x_test + noise_factor * np.random.normal(loc=0.0, scale=1.0, size=x_test.shape) \n",
    "\n",
    "s_train_noisy = np.clip(s_train_noisy, 0., 1.)\n",
    "s_test_noisy = np.clip(s_test_noisy, 0., 1.)"
   ]
  },
  {
   "cell_type": "code",
   "execution_count": 15,
   "metadata": {
    "collapsed": false,
    "scrolled": false
   },
   "outputs": [
    {
     "name": "stdout",
     "output_type": "stream",
     "text": [
      "Train on 50000 samples, validate on 10000 samples\n",
      "Epoch 1/10\n",
      "49984/50000 [============================>.] - ETA: 0s - loss: 0.0327 - acc: 0.0602Epoch 00000: val_loss improved from inf to 0.02486, saving model to weights_kfold_CIFAR10-Conv-AutoEncoder-Ver7.61_epoch_10_batch_64.h5\n",
      "50000/50000 [==============================] - 281s - loss: 0.0327 - acc: 0.0602 - val_loss: 0.0249 - val_acc: 0.0713\n",
      "Epoch 2/10\n",
      "49984/50000 [============================>.] - ETA: 0s - loss: 0.0233 - acc: 0.0779Epoch 00001: val_loss improved from 0.02486 to 0.02279, saving model to weights_kfold_CIFAR10-Conv-AutoEncoder-Ver7.61_epoch_10_batch_64.h5\n",
      "50000/50000 [==============================] - 281s - loss: 0.0233 - acc: 0.0779 - val_loss: 0.0228 - val_acc: 0.0829\n",
      "Epoch 3/10\n",
      "49984/50000 [============================>.] - ETA: 0s - loss: 0.0219 - acc: 0.0880Epoch 00002: val_loss improved from 0.02279 to 0.02087, saving model to weights_kfold_CIFAR10-Conv-AutoEncoder-Ver7.61_epoch_10_batch_64.h5\n",
      "50000/50000 [==============================] - 282s - loss: 0.0219 - acc: 0.0880 - val_loss: 0.0209 - val_acc: 0.0919\n",
      "Epoch 4/10\n",
      "49984/50000 [============================>.] - ETA: 0s - loss: 0.0193 - acc: 0.0945Epoch 00003: val_loss improved from 0.02087 to 0.01768, saving model to weights_kfold_CIFAR10-Conv-AutoEncoder-Ver7.61_epoch_10_batch_64.h5\n",
      "50000/50000 [==============================] - 288s - loss: 0.0193 - acc: 0.0946 - val_loss: 0.0177 - val_acc: 0.0992\n",
      "Epoch 5/10\n",
      "49984/50000 [============================>.] - ETA: 0s - loss: 0.0164 - acc: 0.1040Epoch 00004: val_loss improved from 0.01768 to 0.01576, saving model to weights_kfold_CIFAR10-Conv-AutoEncoder-Ver7.61_epoch_10_batch_64.h5\n",
      "50000/50000 [==============================] - 292s - loss: 0.0164 - acc: 0.1040 - val_loss: 0.0158 - val_acc: 0.1010\n",
      "Epoch 6/10\n",
      "49984/50000 [============================>.] - ETA: 0s - loss: 0.0149 - acc: 0.1104Epoch 00005: val_loss improved from 0.01576 to 0.01475, saving model to weights_kfold_CIFAR10-Conv-AutoEncoder-Ver7.61_epoch_10_batch_64.h5\n",
      "50000/50000 [==============================] - 293s - loss: 0.0149 - acc: 0.1103 - val_loss: 0.0148 - val_acc: 0.1090\n",
      "Epoch 7/10\n",
      "49984/50000 [============================>.] - ETA: 0s - loss: 0.0142 - acc: 0.1145Epoch 00006: val_loss improved from 0.01475 to 0.01388, saving model to weights_kfold_CIFAR10-Conv-AutoEncoder-Ver7.61_epoch_10_batch_64.h5\n",
      "50000/50000 [==============================] - 283s - loss: 0.0142 - acc: 0.1144 - val_loss: 0.0139 - val_acc: 0.1150\n",
      "Epoch 8/10\n",
      "49984/50000 [============================>.] - ETA: 0s - loss: 0.0136 - acc: 0.1188Epoch 00007: val_loss improved from 0.01388 to 0.01332, saving model to weights_kfold_CIFAR10-Conv-AutoEncoder-Ver7.61_epoch_10_batch_64.h5\n",
      "50000/50000 [==============================] - 283s - loss: 0.0136 - acc: 0.1188 - val_loss: 0.0133 - val_acc: 0.1246\n",
      "Epoch 9/10\n",
      "49984/50000 [============================>.] - ETA: 0s - loss: 0.0123 - acc: 0.1317Epoch 00008: val_loss improved from 0.01332 to 0.01196, saving model to weights_kfold_CIFAR10-Conv-AutoEncoder-Ver7.61_epoch_10_batch_64.h5\n",
      "50000/50000 [==============================] - 283s - loss: 0.0123 - acc: 0.1317 - val_loss: 0.0120 - val_acc: 0.1379\n",
      "Epoch 10/10\n",
      "49984/50000 [============================>.] - ETA: 0s - loss: 0.0115 - acc: 0.1412Epoch 00009: val_loss improved from 0.01196 to 0.01108, saving model to weights_kfold_CIFAR10-Conv-AutoEncoder-Ver7.61_epoch_10_batch_64.h5\n",
      "50000/50000 [==============================] - 283s - loss: 0.0115 - acc: 0.1412 - val_loss: 0.0111 - val_acc: 0.1376\n"
     ]
    },
    {
     "data": {
      "text/plain": [
       "<keras.callbacks.History at 0x7ff27fea3080>"
      ]
     },
     "execution_count": 15,
     "metadata": {},
     "output_type": "execute_result"
    }
   ],
   "source": [
    "callbacks = [\n",
    "                EarlyStopping(monitor='val_loss', patience=2, verbose=1),\n",
    "                ModelCheckpoint(kfold_weights_path, monitor='val_loss', save_best_only=True, verbose=1),\n",
    "            ]\n",
    "autoencoder.fit(s_train_noisy, x_train,\n",
    "            nb_epoch=nb_epoch,\n",
    "            batch_size=batch_size,\n",
    "            shuffle=True,\n",
    "            validation_data=(s_test_noisy, x_test),\n",
    "            callbacks=callbacks\n",
    "            )"
   ]
  },
  {
   "cell_type": "code",
   "execution_count": 18,
   "metadata": {
    "collapsed": false,
    "scrolled": true
   },
   "outputs": [
    {
     "name": "stdout",
     "output_type": "stream",
     "text": [
      "____________________________________________________________________________________________________\n",
      "Layer (type)                     Output Shape          Param #     Connected to                     \n",
      "====================================================================================================\n",
      "input_1 (InputLayer)             (None, 3, 32, 32)     0                                            \n",
      "____________________________________________________________________________________________________\n",
      "convolution2d_1 (Convolution2D)  (None, 16, 32, 32)    1216        input_1[0][0]                    \n",
      "____________________________________________________________________________________________________\n",
      "maxpooling2d_1 (MaxPooling2D)    (None, 16, 16, 16)    0           convolution2d_1[0][0]            \n",
      "____________________________________________________________________________________________________\n",
      "convolution2d_2 (Convolution2D)  (None, 20, 16, 16)    8020        maxpooling2d_1[0][0]             \n",
      "____________________________________________________________________________________________________\n",
      "maxpooling2d_2 (MaxPooling2D)    (None, 20, 8, 8)      0           convolution2d_2[0][0]            \n",
      "____________________________________________________________________________________________________\n",
      "convolution2d_3 (Convolution2D)  (None, 20, 8, 8)      10020       maxpooling2d_2[0][0]             \n",
      "____________________________________________________________________________________________________\n",
      "maxpooling2d_3 (MaxPooling2D)    (None, 20, 4, 4)      0           convolution2d_3[0][0]            \n",
      "____________________________________________________________________________________________________\n",
      "upsampling2d_1 (UpSampling2D)    (None, 20, 8, 8)      0           maxpooling2d_3[0][0]             \n",
      "____________________________________________________________________________________________________\n",
      "convolution2d_4 (Convolution2D)  (None, 20, 8, 8)      10020       upsampling2d_1[0][0]             \n",
      "____________________________________________________________________________________________________\n",
      "upsampling2d_2 (UpSampling2D)    (None, 20, 16, 16)    0           convolution2d_4[0][0]            \n",
      "____________________________________________________________________________________________________\n",
      "convolution2d_5 (Convolution2D)  (None, 20, 16, 16)    10020       upsampling2d_2[0][0]             \n",
      "____________________________________________________________________________________________________\n",
      "upsampling2d_3 (UpSampling2D)    (None, 20, 32, 32)    0           convolution2d_5[0][0]            \n",
      "____________________________________________________________________________________________________\n",
      "convolution2d_6 (Convolution2D)  (None, 16, 32, 32)    8016        upsampling2d_3[0][0]             \n",
      "____________________________________________________________________________________________________\n",
      "convolution2d_7 (Convolution2D)  (None, 3, 32, 32)     1203        convolution2d_6[0][0]            \n",
      "====================================================================================================\n",
      "Total params: 48515\n",
      "____________________________________________________________________________________________________\n"
     ]
    }
   ],
   "source": [
    "autoencoder.summary()"
   ]
  },
  {
   "cell_type": "code",
   "execution_count": 16,
   "metadata": {
    "collapsed": false
   },
   "outputs": [],
   "source": [
    "reconstructed_test_imgs = autoencoder.predict(x_test)\n"
   ]
  },
  {
   "cell_type": "code",
   "execution_count": 17,
   "metadata": {
    "collapsed": false
   },
   "outputs": [
    {
     "data": {
      "text/plain": [
       "(10000, 3, 32, 32)"
      ]
     },
     "execution_count": 17,
     "metadata": {},
     "output_type": "execute_result"
    }
   ],
   "source": [
    "reconstructed_test_imgs.shape"
   ]
  },
  {
   "cell_type": "code",
   "execution_count": 18,
   "metadata": {
    "collapsed": false,
    "scrolled": true
   },
   "outputs": [
    {
     "data": {
      "image/png": "[encoded data removed]",
      "text/plain": [
       "<matplotlib.figure.Figure at 0x7ff2760ba860>"
      ]
     },
     "metadata": {},
     "output_type": "display_data"
    }
   ],
   "source": [
    "import matplotlib.pyplot as plt\n",
    "\n",
    "n = 10 # how many digits we will display\n",
    "plt.figure(figsize=(20, 6))\n",
    "for i in range(n):\n",
    "    # display original\n",
    "    ax = plt.subplot(2, n, i + 1)\n",
    "    plt.imshow(x_test[i].reshape(32,32,3))\n",
    "    plt.gray()\n",
    "    ax.get_xaxis().set_visible(False)\n",
    "    ax.get_yaxis().set_visible(False)\n",
    "\n",
    "    # display encoded\n",
    "    #ax = plt.subplot(2, n, i + 1 + n)\n",
    "    #plt.imshow(encoded_imgs[i].reshape(6, 6))\n",
    "    #plt.gray()\n",
    "    #ax.get_xaxis().set_visible(False)\n",
    "    #ax.get_yaxis().set_visible(False)\n",
    "   \n",
    "    # display reconstruction\n",
    "    ax = plt.subplot(2, n, i + 1 + n)\n",
    "    plt.imshow(reconstructed_test_imgs[i].reshape(32,32,3))\n",
    "    plt.gray()\n",
    "    ax.get_xaxis().set_visible(False)\n",
    "    ax.get_yaxis().set_visible(False)\n",
    "plt.show()"
   ]
  },
  {
   "cell_type": "code",
   "execution_count": 23,
   "metadata": {
    "collapsed": false
   },
   "outputs": [
    {
     "name": "stdout",
     "output_type": "stream",
     "text": [
      "____________________________________________________________________________________________________\n",
      "Layer (type)                     Output Shape          Param #     Connected to                     \n",
      "====================================================================================================\n",
      "input_1 (InputLayer)             (None, 3, 32, 32)     0                                            \n",
      "____________________________________________________________________________________________________\n",
      "convolution2d_1 (Convolution2D)  (None, 16, 32, 32)    1216        input_1[0][0]                    \n",
      "____________________________________________________________________________________________________\n",
      "maxpooling2d_1 (MaxPooling2D)    (None, 16, 16, 16)    0           convolution2d_1[0][0]            \n",
      "____________________________________________________________________________________________________\n",
      "convolution2d_2 (Convolution2D)  (None, 20, 16, 16)    8020        maxpooling2d_1[0][0]             \n",
      "____________________________________________________________________________________________________\n",
      "maxpooling2d_2 (MaxPooling2D)    (None, 20, 8, 8)      0           convolution2d_2[0][0]            \n",
      "____________________________________________________________________________________________________\n",
      "convolution2d_3 (Convolution2D)  (None, 20, 8, 8)      10020       maxpooling2d_2[0][0]             \n",
      "____________________________________________________________________________________________________\n",
      "maxpooling2d_3 (MaxPooling2D)    (None, 20, 4, 4)      0           convolution2d_3[0][0]            \n",
      "____________________________________________________________________________________________________\n",
      "flatten_1 (Flatten)              (None, 320)           0           maxpooling2d_3[0][0]             \n",
      "====================================================================================================\n",
      "Total params: 19256\n",
      "____________________________________________________________________________________________________\n",
      "None\n"
     ]
    }
   ],
   "source": [
    "print (encoder.summary())"
   ]
  },
  {
   "cell_type": "code",
   "execution_count": 19,
   "metadata": {
    "collapsed": false
   },
   "outputs": [
    {
     "name": "stdout",
     "output_type": "stream",
     "text": [
      "16000000\n",
      "(50000, 320)\n",
      "128000000\n"
     ]
    }
   ],
   "source": [
    "encoded_train_imgs = encoder.predict(x_train)\n",
    "print (encoded_train_imgs.size)\n",
    "print (encoded_train_imgs.shape)\n",
    "print (encoded_train_imgs.nbytes)"
   ]
  },
  {
   "cell_type": "code",
   "execution_count": 20,
   "metadata": {
    "collapsed": false
   },
   "outputs": [
    {
     "name": "stdout",
     "output_type": "stream",
     "text": [
      "3200000\n",
      "(10000, 320)\n",
      "25600000\n"
     ]
    }
   ],
   "source": [
    "encoded_test_imgs = encoder.predict(x_test)\n",
    "print (encoded_test_imgs.size)\n",
    "print (encoded_test_imgs.shape)\n",
    "print (encoded_test_imgs.nbytes)"
   ]
  },
  {
   "cell_type": "code",
   "execution_count": 21,
   "metadata": {
    "collapsed": false
   },
   "outputs": [],
   "source": [
    "from sklearn.neighbors import KNeighborsClassifier\n",
    "clf = KNeighborsClassifier(n_neighbors=5)\n",
    "clf = clf.fit(encoded_train_imgs, y_train)"
   ]
  },
  {
   "cell_type": "code",
   "execution_count": 22,
   "metadata": {
    "collapsed": true
   },
   "outputs": [],
   "source": [
    "y_pred = clf.predict(encoded_test_imgs)\n"
   ]
  },
  {
   "cell_type": "code",
   "execution_count": 23,
   "metadata": {
    "collapsed": false
   },
   "outputs": [
    {
     "data": {
      "text/plain": [
       "array([4, 8, 1, ..., 5, 6, 4])"
      ]
     },
     "execution_count": 23,
     "metadata": {},
     "output_type": "execute_result"
    }
   ],
   "source": [
    "y_pred"
   ]
  },
  {
   "cell_type": "code",
   "execution_count": 24,
   "metadata": {
    "collapsed": false
   },
   "outputs": [
    {
     "name": "stdout",
     "output_type": "stream",
     "text": [
      "tested  10000 digits\n",
      "correct:  3756 wrong:  6244 error rate:  62.44 %\n",
      "got correctly  37.56 %\n"
     ]
    }
   ],
   "source": [
    "num=len(encoded_test_imgs)\n",
    "r=0\n",
    "w=0\n",
    "for i in range(num):\n",
    "        #print ('y_pred ',y_pred[i])\n",
    "        #print ('labels ',labels[i])\n",
    "        #without the use of all() returns error truth value of an array with more than one element is ambiguous\n",
    "        #if y_pred[i].all() == labels[i].all():\n",
    "        if np.array_equal(y_pred[i],y_test[i]):\n",
    "            r+=1\n",
    "        else:\n",
    "            w+=1\n",
    "print (\"tested \",  num, \"digits\")\n",
    "print (\"correct: \", r, \"wrong: \", w, \"error rate: \", float(w)*100/(r+w), \"%\")\n",
    "print (\"got correctly \", float(r)*100/(r+w), \"%\")\n"
   ]
  },
  {
   "cell_type": "code",
   "execution_count": 33,
   "metadata": {
    "collapsed": false
   },
   "outputs": [],
   "source": [
    "input_dim = Input(shape=(320,))\n",
    "x = Dense(100, activation='relu')(input_dim)\n",
    "classifier = Dense(10, activation='softmax')(x)\n",
    "nn = Model(input=input_dim, output=classifier)\n",
    "\n",
    "nn.compile(optimizer=Adam(lr=0.0001), loss='categorical_crossentropy',metrics=['accuracy'])"
   ]
  },
  {
   "cell_type": "code",
   "execution_count": 34,
   "metadata": {
    "collapsed": false
   },
   "outputs": [
    {
     "name": "stdout",
     "output_type": "stream",
     "text": [
      "(50000, 10)\n",
      "(10000, 10)\n"
     ]
    }
   ],
   "source": [
    "from keras.utils.np_utils import *\n",
    "\n",
    "label_train=to_categorical(y_train)\n",
    "label_test= to_categorical(y_test)\n",
    "print (label_train.shape)\n",
    "print (label_test.shape)"
   ]
  },
  {
   "cell_type": "code",
   "execution_count": 36,
   "metadata": {
    "collapsed": false
   },
   "outputs": [
    {
     "name": "stdout",
     "output_type": "stream",
     "text": [
      "Epoch 1/50\n",
      "50000/50000 [==============================] - 2s - loss: 1.5108 - acc: 0.4664     \n",
      "Epoch 2/50\n",
      "50000/50000 [==============================] - 1s - loss: 1.5075 - acc: 0.4673     \n",
      "Epoch 3/50\n",
      "50000/50000 [==============================] - 2s - loss: 1.5062 - acc: 0.4675     \n",
      "Epoch 4/50\n",
      "50000/50000 [==============================] - 1s - loss: 1.5034 - acc: 0.4692     \n",
      "Epoch 5/50\n",
      "50000/50000 [==============================] - 1s - loss: 1.5004 - acc: 0.4676     \n",
      "Epoch 6/50\n",
      "50000/50000 [==============================] - 1s - loss: 1.4986 - acc: 0.4683     \n",
      "Epoch 7/50\n",
      "50000/50000 [==============================] - 1s - loss: 1.4963 - acc: 0.4720     \n",
      "Epoch 8/50\n",
      "50000/50000 [==============================] - 2s - loss: 1.4934 - acc: 0.4737     \n",
      "Epoch 9/50\n",
      "50000/50000 [==============================] - 1s - loss: 1.4921 - acc: 0.4725     \n",
      "Epoch 10/50\n",
      "50000/50000 [==============================] - 2s - loss: 1.4900 - acc: 0.4734     \n",
      "Epoch 11/50\n",
      "50000/50000 [==============================] - 1s - loss: 1.4876 - acc: 0.4735     \n",
      "Epoch 12/50\n",
      "50000/50000 [==============================] - 1s - loss: 1.4850 - acc: 0.4746     \n",
      "Epoch 13/50\n",
      "50000/50000 [==============================] - 1s - loss: 1.4833 - acc: 0.4757     \n",
      "Epoch 14/50\n",
      "50000/50000 [==============================] - 2s - loss: 1.4818 - acc: 0.4772     \n",
      "Epoch 15/50\n",
      "50000/50000 [==============================] - 1s - loss: 1.4794 - acc: 0.4772     \n",
      "Epoch 16/50\n",
      "50000/50000 [==============================] - 1s - loss: 1.4769 - acc: 0.4766     \n",
      "Epoch 17/50\n",
      "50000/50000 [==============================] - 2s - loss: 1.4762 - acc: 0.4771     \n",
      "Epoch 18/50\n",
      "50000/50000 [==============================] - 1s - loss: 1.4731 - acc: 0.4784     \n",
      "Epoch 19/50\n",
      "50000/50000 [==============================] - 2s - loss: 1.4724 - acc: 0.4793     \n",
      "Epoch 20/50\n",
      "50000/50000 [==============================] - 2s - loss: 1.4699 - acc: 0.4809     \n",
      "Epoch 21/50\n",
      "50000/50000 [==============================] - 1s - loss: 1.4675 - acc: 0.4816     \n",
      "Epoch 22/50\n",
      "50000/50000 [==============================] - 1s - loss: 1.4669 - acc: 0.4831     \n",
      "Epoch 23/50\n",
      "50000/50000 [==============================] - 1s - loss: 1.4649 - acc: 0.4829     \n",
      "Epoch 24/50\n",
      "50000/50000 [==============================] - 2s - loss: 1.4625 - acc: 0.4823     \n",
      "Epoch 25/50\n",
      "50000/50000 [==============================] - 1s - loss: 1.4614 - acc: 0.4839     \n",
      "Epoch 26/50\n",
      "50000/50000 [==============================] - 1s - loss: 1.4589 - acc: 0.4848     \n",
      "Epoch 27/50\n",
      "50000/50000 [==============================] - 2s - loss: 1.4578 - acc: 0.4841     \n",
      "Epoch 28/50\n",
      "50000/50000 [==============================] - 2s - loss: 1.4562 - acc: 0.4840     \n",
      "Epoch 29/50\n",
      "50000/50000 [==============================] - 2s - loss: 1.4542 - acc: 0.4846     \n",
      "Epoch 30/50\n",
      "50000/50000 [==============================] - 2s - loss: 1.4531 - acc: 0.4871     \n",
      "Epoch 31/50\n",
      "50000/50000 [==============================] - 1s - loss: 1.4505 - acc: 0.4862     \n",
      "Epoch 32/50\n",
      "50000/50000 [==============================] - 2s - loss: 1.4493 - acc: 0.4882     \n",
      "Epoch 33/50\n",
      "50000/50000 [==============================] - 2s - loss: 1.4471 - acc: 0.4890     \n",
      "Epoch 34/50\n",
      "50000/50000 [==============================] - 2s - loss: 1.4468 - acc: 0.4873     \n",
      "Epoch 35/50\n",
      "50000/50000 [==============================] - 2s - loss: 1.4451 - acc: 0.4886     \n",
      "Epoch 36/50\n",
      "50000/50000 [==============================] - 2s - loss: 1.4429 - acc: 0.4892     \n",
      "Epoch 37/50\n",
      "50000/50000 [==============================] - 1s - loss: 1.4416 - acc: 0.4906     \n",
      "Epoch 38/50\n",
      "50000/50000 [==============================] - 2s - loss: 1.4402 - acc: 0.4908     \n",
      "Epoch 39/50\n",
      "50000/50000 [==============================] - 1s - loss: 1.4386 - acc: 0.4920     \n",
      "Epoch 40/50\n",
      "50000/50000 [==============================] - 1s - loss: 1.4373 - acc: 0.4922     \n",
      "Epoch 41/50\n",
      "50000/50000 [==============================] - 1s - loss: 1.4351 - acc: 0.4933     \n",
      "Epoch 42/50\n",
      "50000/50000 [==============================] - 2s - loss: 1.4346 - acc: 0.4939     \n",
      "Epoch 43/50\n",
      "50000/50000 [==============================] - 2s - loss: 1.4328 - acc: 0.4930     \n",
      "Epoch 44/50\n",
      "50000/50000 [==============================] - 1s - loss: 1.4319 - acc: 0.4936     \n",
      "Epoch 45/50\n",
      "50000/50000 [==============================] - 2s - loss: 1.4301 - acc: 0.4945     \n",
      "Epoch 46/50\n",
      "50000/50000 [==============================] - 2s - loss: 1.4286 - acc: 0.4955     \n",
      "Epoch 47/50\n",
      "50000/50000 [==============================] - 1s - loss: 1.4275 - acc: 0.4953     \n",
      "Epoch 48/50\n",
      "50000/50000 [==============================] - 2s - loss: 1.4269 - acc: 0.4963     \n",
      "Epoch 49/50\n",
      "50000/50000 [==============================] - 2s - loss: 1.4243 - acc: 0.4964     \n",
      "Epoch 50/50\n",
      "50000/50000 [==============================] - 2s - loss: 1.4246 - acc: 0.4955     \n"
     ]
    },
    {
     "data": {
      "text/plain": [
       "<keras.callbacks.History at 0x7f63d94bed68>"
      ]
     },
     "execution_count": 36,
     "metadata": {},
     "output_type": "execute_result"
    }
   ],
   "source": [
    "nn.fit(encoded_train_imgs, label_train,\n",
    "            nb_epoch=50,\n",
    "            batch_size=batch_size,\n",
    "            shuffle=True)"
   ]
  },
  {
   "cell_type": "code",
   "execution_count": 37,
   "metadata": {
    "collapsed": true
   },
   "outputs": [],
   "source": [
    "label_y_pred = nn.predict(encoded_test_imgs)\n"
   ]
  },
  {
   "cell_type": "code",
   "execution_count": 38,
   "metadata": {
    "collapsed": false
   },
   "outputs": [],
   "source": [
    "new_y_pred=[]\n",
    "for i in range (len(label_y_pred)):\n",
    "    new_y_pred.append([np.argmax(label_y_pred[i])])\n"
   ]
  },
  {
   "cell_type": "code",
   "execution_count": 39,
   "metadata": {
    "collapsed": true
   },
   "outputs": [],
   "source": [
    "new_y_pred=np.asarray(new_y_pred)"
   ]
  },
  {
   "cell_type": "code",
   "execution_count": 40,
   "metadata": {
    "collapsed": false
   },
   "outputs": [
    {
     "name": "stdout",
     "output_type": "stream",
     "text": [
      "(10000, 1)\n",
      "(10000, 10)\n"
     ]
    }
   ],
   "source": [
    "print (new_y_pred.shape)\n",
    "new_y_pred=to_categorical(new_y_pred)\n",
    "print (new_y_pred.shape)\n"
   ]
  },
  {
   "cell_type": "code",
   "execution_count": 41,
   "metadata": {
    "collapsed": false
   },
   "outputs": [
    {
     "name": "stdout",
     "output_type": "stream",
     "text": [
      "tested  10000 digits\n",
      "correct:  4689 wrong:  5311 error rate:  53.11 %\n",
      "got correctly  46.89 %\n"
     ]
    }
   ],
   "source": [
    "num=len(label_y_pred)\n",
    "r=0\n",
    "w=0\n",
    "for i in range(num):\n",
    "        #print ('y_pred ',y_pred[i])\n",
    "        #print ('labels ',labels[i])\n",
    "        #without the use of all() returns error truth value of an array with more than one element is ambiguous\n",
    "        #if y_pred[i].all() == labels[i].all():\n",
    "        if np.array_equal(new_y_pred[i],label_test[i]):\n",
    "            r+=1\n",
    "        else:\n",
    "            w+=1\n",
    "print (\"tested \",  num, \"digits\")\n",
    "print (\"correct: \", r, \"wrong: \", w, \"error rate: \", float(w)*100/(r+w), \"%\")\n",
    "print (\"got correctly \", float(r)*100/(r+w), \"%\")\n"
   ]
  },
  {
   "cell_type": "markdown",
   "metadata": {
    "collapsed": true
   },
   "source": [
    "Clustering..."
   ]
  },
  {
   "cell_type": "code",
   "execution_count": 42,
   "metadata": {
    "collapsed": true
   },
   "outputs": [],
   "source": [
    "from sklearn import linear_model\n",
    "from sklearn.preprocessing import scale\n",
    "import matplotlib.pyplot as plt\n",
    "import seaborn as sb\n",
    "%matplotlib inline\n",
    "from sklearn.cluster import KMeans\n",
    "import pandas as pd\n",
    "from sklearn.decomposition import PCA"
   ]
  },
  {
   "cell_type": "code",
   "execution_count": 43,
   "metadata": {
    "collapsed": true
   },
   "outputs": [],
   "source": [
    "# apply pca to reduce to 2 dimensions\n",
    "reduced_train_data = PCA(n_components=2).fit_transform(encoded_train_imgs)\n",
    "reduced_test_data = PCA(n_components=2).fit_transform(encoded_test_imgs)\n"
   ]
  },
  {
   "cell_type": "code",
   "execution_count": 43,
   "metadata": {
    "collapsed": true
   },
   "outputs": [],
   "source": [
    "# dont appy and further DR\n",
    "reduced_train_data = encoded_train_imgs\n",
    "reduced_test_data = encoded_test_imgs\n"
   ]
  },
  {
   "cell_type": "code",
   "execution_count": 44,
   "metadata": {
    "collapsed": false
   },
   "outputs": [
    {
     "name": "stdout",
     "output_type": "stream",
     "text": [
      "(50000, 320)\n",
      "(10000, 320)\n"
     ]
    }
   ],
   "source": [
    "print (reduced_train_data.shape)\n",
    "print (reduced_test_data.shape)"
   ]
  },
  {
   "cell_type": "code",
   "execution_count": 45,
   "metadata": {
    "collapsed": false
   },
   "outputs": [
    {
     "name": "stdout",
     "output_type": "stream",
     "text": [
      "(50000,)\n",
      "(50000, 1)\n",
      "(10000,)\n",
      "(10000, 1)\n"
     ]
    }
   ],
   "source": [
    "print(y_train.shape)\n",
    "y_train_pd=y_train.reshape(50000,1)\n",
    "print(y_train_pd.shape)\n",
    "print (y_test.shape)\n",
    "y_test_pd=y_test.reshape(10000,1)\n",
    "\n",
    "print (y_test_pd.shape)"
   ]
  },
  {
   "cell_type": "code",
   "execution_count": 46,
   "metadata": {
    "collapsed": true
   },
   "outputs": [],
   "source": [
    "train_df = pd.DataFrame(reduced_train_data)"
   ]
  },
  {
   "cell_type": "code",
   "execution_count": 47,
   "metadata": {
    "collapsed": false
   },
   "outputs": [],
   "source": [
    "train_df['Label'] = pd.DataFrame(y_train_pd)"
   ]
  },
  {
   "cell_type": "code",
   "execution_count": 48,
   "metadata": {
    "collapsed": false
   },
   "outputs": [
    {
     "data": {
      "text/html": [
       "<div>\n",
       "<table border=\"1\" class=\"dataframe\">\n",
       "  <thead>\n",
       "    <tr style=\"text-align: right;\">\n",
       "      <th></th>\n",
       "      <th>0</th>\n",
       "      <th>1</th>\n",
       "      <th>2</th>\n",
       "      <th>3</th>\n",
       "      <th>4</th>\n",
       "      <th>5</th>\n",
       "      <th>6</th>\n",
       "      <th>7</th>\n",
       "      <th>8</th>\n",
       "      <th>9</th>\n",
       "      <th>...</th>\n",
       "      <th>311</th>\n",
       "      <th>312</th>\n",
       "      <th>313</th>\n",
       "      <th>314</th>\n",
       "      <th>315</th>\n",
       "      <th>316</th>\n",
       "      <th>317</th>\n",
       "      <th>318</th>\n",
       "      <th>319</th>\n",
       "      <th>Label</th>\n",
       "    </tr>\n",
       "  </thead>\n",
       "  <tbody>\n",
       "    <tr>\n",
       "      <th>0</th>\n",
       "      <td>0.455669</td>\n",
       "      <td>0.366345</td>\n",
       "      <td>0.060660</td>\n",
       "      <td>0.268590</td>\n",
       "      <td>0.292897</td>\n",
       "      <td>0.552671</td>\n",
       "      <td>0.397126</td>\n",
       "      <td>0.630753</td>\n",
       "      <td>0.465152</td>\n",
       "      <td>0.608935</td>\n",
       "      <td>...</td>\n",
       "      <td>0.685544</td>\n",
       "      <td>0.661886</td>\n",
       "      <td>0.403672</td>\n",
       "      <td>0.000000</td>\n",
       "      <td>0.168242</td>\n",
       "      <td>0.745546</td>\n",
       "      <td>0.796957</td>\n",
       "      <td>0.929687</td>\n",
       "      <td>1.111563</td>\n",
       "      <td>6</td>\n",
       "    </tr>\n",
       "    <tr>\n",
       "      <th>1</th>\n",
       "      <td>0.247832</td>\n",
       "      <td>0.096990</td>\n",
       "      <td>0.075597</td>\n",
       "      <td>0.254119</td>\n",
       "      <td>0.664506</td>\n",
       "      <td>0.627813</td>\n",
       "      <td>0.856259</td>\n",
       "      <td>0.814512</td>\n",
       "      <td>0.793195</td>\n",
       "      <td>0.546414</td>\n",
       "      <td>...</td>\n",
       "      <td>1.150356</td>\n",
       "      <td>0.091861</td>\n",
       "      <td>0.232428</td>\n",
       "      <td>0.297112</td>\n",
       "      <td>0.564094</td>\n",
       "      <td>0.959183</td>\n",
       "      <td>0.609711</td>\n",
       "      <td>0.477930</td>\n",
       "      <td>0.588738</td>\n",
       "      <td>9</td>\n",
       "    </tr>\n",
       "    <tr>\n",
       "      <th>2</th>\n",
       "      <td>0.771376</td>\n",
       "      <td>0.800014</td>\n",
       "      <td>0.547575</td>\n",
       "      <td>0.250629</td>\n",
       "      <td>0.274114</td>\n",
       "      <td>0.289053</td>\n",
       "      <td>0.246014</td>\n",
       "      <td>0.200373</td>\n",
       "      <td>0.562737</td>\n",
       "      <td>0.814856</td>\n",
       "      <td>...</td>\n",
       "      <td>0.788122</td>\n",
       "      <td>0.584862</td>\n",
       "      <td>0.357225</td>\n",
       "      <td>0.334184</td>\n",
       "      <td>0.609438</td>\n",
       "      <td>0.880115</td>\n",
       "      <td>0.822711</td>\n",
       "      <td>0.793476</td>\n",
       "      <td>1.046375</td>\n",
       "      <td>9</td>\n",
       "    </tr>\n",
       "    <tr>\n",
       "      <th>3</th>\n",
       "      <td>0.288783</td>\n",
       "      <td>0.260356</td>\n",
       "      <td>0.050194</td>\n",
       "      <td>0.266597</td>\n",
       "      <td>0.226794</td>\n",
       "      <td>0.342339</td>\n",
       "      <td>0.263874</td>\n",
       "      <td>0.444384</td>\n",
       "      <td>0.307057</td>\n",
       "      <td>0.415231</td>\n",
       "      <td>...</td>\n",
       "      <td>0.622439</td>\n",
       "      <td>0.423251</td>\n",
       "      <td>0.511779</td>\n",
       "      <td>0.349222</td>\n",
       "      <td>0.378471</td>\n",
       "      <td>0.605067</td>\n",
       "      <td>0.564318</td>\n",
       "      <td>0.520880</td>\n",
       "      <td>0.812355</td>\n",
       "      <td>4</td>\n",
       "    </tr>\n",
       "    <tr>\n",
       "      <th>4</th>\n",
       "      <td>0.160283</td>\n",
       "      <td>0.137476</td>\n",
       "      <td>0.136598</td>\n",
       "      <td>0.113918</td>\n",
       "      <td>0.194033</td>\n",
       "      <td>0.193686</td>\n",
       "      <td>0.388103</td>\n",
       "      <td>0.371831</td>\n",
       "      <td>0.722674</td>\n",
       "      <td>0.907982</td>\n",
       "      <td>...</td>\n",
       "      <td>0.720694</td>\n",
       "      <td>0.513785</td>\n",
       "      <td>0.414330</td>\n",
       "      <td>0.507617</td>\n",
       "      <td>0.508139</td>\n",
       "      <td>0.514021</td>\n",
       "      <td>0.554551</td>\n",
       "      <td>0.749874</td>\n",
       "      <td>0.913586</td>\n",
       "      <td>1</td>\n",
       "    </tr>\n",
       "  </tbody>\n",
       "</table>\n",
       "<p>5 rows × 321 columns</p>\n",
       "</div>"
      ],
      "text/plain": [
       "          0         1         2         3         4         5         6  \\\n",
       "0  0.455669  0.366345  0.060660  0.268590  0.292897  0.552671  0.397126   \n",
       "1  0.247832  0.096990  0.075597  0.254119  0.664506  0.627813  0.856259   \n",
       "2  0.771376  0.800014  0.547575  0.250629  0.274114  0.289053  0.246014   \n",
       "3  0.288783  0.260356  0.050194  0.266597  0.226794  0.342339  0.263874   \n",
       "4  0.160283  0.137476  0.136598  0.113918  0.194033  0.193686  0.388103   \n",
       "\n",
       "          7         8         9  ...         311       312       313  \\\n",
       "0  0.630753  0.465152  0.608935  ...    0.685544  0.661886  0.403672   \n",
       "1  0.814512  0.793195  0.546414  ...    1.150356  0.091861  0.232428   \n",
       "2  0.200373  0.562737  0.814856  ...    0.788122  0.584862  0.357225   \n",
       "3  0.444384  0.307057  0.415231  ...    0.622439  0.423251  0.511779   \n",
       "4  0.371831  0.722674  0.907982  ...    0.720694  0.513785  0.414330   \n",
       "\n",
       "        314       315       316       317       318       319  Label  \n",
       "0  0.000000  0.168242  0.745546  0.796957  0.929687  1.111563      6  \n",
       "1  0.297112  0.564094  0.959183  0.609711  0.477930  0.588738      9  \n",
       "2  0.334184  0.609438  0.880115  0.822711  0.793476  1.046375      9  \n",
       "3  0.349222  0.378471  0.605067  0.564318  0.520880  0.812355      4  \n",
       "4  0.507617  0.508139  0.514021  0.554551  0.749874  0.913586      1  \n",
       "\n",
       "[5 rows x 321 columns]"
      ]
     },
     "execution_count": 48,
     "metadata": {},
     "output_type": "execute_result"
    }
   ],
   "source": [
    "train_df.head()"
   ]
  },
  {
   "cell_type": "code",
   "execution_count": 49,
   "metadata": {
    "collapsed": false
   },
   "outputs": [
    {
     "data": {
      "text/html": [
       "<div>\n",
       "<table border=\"1\" class=\"dataframe\">\n",
       "  <thead>\n",
       "    <tr style=\"text-align: right;\">\n",
       "      <th></th>\n",
       "      <th>0</th>\n",
       "      <th>1</th>\n",
       "      <th>2</th>\n",
       "      <th>3</th>\n",
       "      <th>4</th>\n",
       "      <th>5</th>\n",
       "      <th>6</th>\n",
       "      <th>7</th>\n",
       "      <th>8</th>\n",
       "      <th>9</th>\n",
       "      <th>...</th>\n",
       "      <th>311</th>\n",
       "      <th>312</th>\n",
       "      <th>313</th>\n",
       "      <th>314</th>\n",
       "      <th>315</th>\n",
       "      <th>316</th>\n",
       "      <th>317</th>\n",
       "      <th>318</th>\n",
       "      <th>319</th>\n",
       "      <th>Label</th>\n",
       "    </tr>\n",
       "  </thead>\n",
       "  <tbody>\n",
       "    <tr>\n",
       "      <th>0</th>\n",
       "      <td>0.395574</td>\n",
       "      <td>0.341846</td>\n",
       "      <td>0.111785</td>\n",
       "      <td>0.376675</td>\n",
       "      <td>0.464373</td>\n",
       "      <td>0.359181</td>\n",
       "      <td>0.221901</td>\n",
       "      <td>0.544247</td>\n",
       "      <td>0.452509</td>\n",
       "      <td>0.410711</td>\n",
       "      <td>...</td>\n",
       "      <td>0.691375</td>\n",
       "      <td>0.032354</td>\n",
       "      <td>0.178350</td>\n",
       "      <td>0.288121</td>\n",
       "      <td>0.542031</td>\n",
       "      <td>0.748920</td>\n",
       "      <td>0.539113</td>\n",
       "      <td>0.525297</td>\n",
       "      <td>0.828175</td>\n",
       "      <td>3</td>\n",
       "    </tr>\n",
       "    <tr>\n",
       "      <th>1</th>\n",
       "      <td>0.691583</td>\n",
       "      <td>0.776937</td>\n",
       "      <td>0.744247</td>\n",
       "      <td>0.596966</td>\n",
       "      <td>0.264329</td>\n",
       "      <td>0.262627</td>\n",
       "      <td>0.383502</td>\n",
       "      <td>0.348867</td>\n",
       "      <td>0.372752</td>\n",
       "      <td>0.657522</td>\n",
       "      <td>...</td>\n",
       "      <td>0.996233</td>\n",
       "      <td>0.574646</td>\n",
       "      <td>0.537352</td>\n",
       "      <td>0.714223</td>\n",
       "      <td>0.918355</td>\n",
       "      <td>0.888932</td>\n",
       "      <td>0.841357</td>\n",
       "      <td>0.716624</td>\n",
       "      <td>0.891559</td>\n",
       "      <td>8</td>\n",
       "    </tr>\n",
       "    <tr>\n",
       "      <th>2</th>\n",
       "      <td>0.470700</td>\n",
       "      <td>0.385204</td>\n",
       "      <td>0.338108</td>\n",
       "      <td>0.357773</td>\n",
       "      <td>0.323129</td>\n",
       "      <td>0.349198</td>\n",
       "      <td>0.478435</td>\n",
       "      <td>0.422427</td>\n",
       "      <td>0.368670</td>\n",
       "      <td>0.335321</td>\n",
       "      <td>...</td>\n",
       "      <td>0.890606</td>\n",
       "      <td>0.584155</td>\n",
       "      <td>0.652350</td>\n",
       "      <td>0.625161</td>\n",
       "      <td>0.878614</td>\n",
       "      <td>0.879853</td>\n",
       "      <td>0.893218</td>\n",
       "      <td>0.881771</td>\n",
       "      <td>0.951083</td>\n",
       "      <td>8</td>\n",
       "    </tr>\n",
       "    <tr>\n",
       "      <th>3</th>\n",
       "      <td>0.777573</td>\n",
       "      <td>0.782590</td>\n",
       "      <td>0.820206</td>\n",
       "      <td>0.644692</td>\n",
       "      <td>0.333116</td>\n",
       "      <td>0.366680</td>\n",
       "      <td>0.300172</td>\n",
       "      <td>0.200798</td>\n",
       "      <td>0.608773</td>\n",
       "      <td>0.678904</td>\n",
       "      <td>...</td>\n",
       "      <td>0.494791</td>\n",
       "      <td>0.397787</td>\n",
       "      <td>0.339839</td>\n",
       "      <td>0.303564</td>\n",
       "      <td>0.652963</td>\n",
       "      <td>0.827742</td>\n",
       "      <td>0.899003</td>\n",
       "      <td>0.908112</td>\n",
       "      <td>0.911832</td>\n",
       "      <td>0</td>\n",
       "    </tr>\n",
       "    <tr>\n",
       "      <th>4</th>\n",
       "      <td>0.191995</td>\n",
       "      <td>0.383221</td>\n",
       "      <td>0.180057</td>\n",
       "      <td>0.207453</td>\n",
       "      <td>0.316795</td>\n",
       "      <td>0.191869</td>\n",
       "      <td>0.223982</td>\n",
       "      <td>0.456134</td>\n",
       "      <td>0.450606</td>\n",
       "      <td>0.576912</td>\n",
       "      <td>...</td>\n",
       "      <td>0.729397</td>\n",
       "      <td>0.467367</td>\n",
       "      <td>0.490984</td>\n",
       "      <td>0.227297</td>\n",
       "      <td>0.464723</td>\n",
       "      <td>0.545207</td>\n",
       "      <td>0.511624</td>\n",
       "      <td>0.492628</td>\n",
       "      <td>0.663428</td>\n",
       "      <td>6</td>\n",
       "    </tr>\n",
       "  </tbody>\n",
       "</table>\n",
       "<p>5 rows × 321 columns</p>\n",
       "</div>"
      ],
      "text/plain": [
       "          0         1         2         3         4         5         6  \\\n",
       "0  0.395574  0.341846  0.111785  0.376675  0.464373  0.359181  0.221901   \n",
       "1  0.691583  0.776937  0.744247  0.596966  0.264329  0.262627  0.383502   \n",
       "2  0.470700  0.385204  0.338108  0.357773  0.323129  0.349198  0.478435   \n",
       "3  0.777573  0.782590  0.820206  0.644692  0.333116  0.366680  0.300172   \n",
       "4  0.191995  0.383221  0.180057  0.207453  0.316795  0.191869  0.223982   \n",
       "\n",
       "          7         8         9  ...         311       312       313  \\\n",
       "0  0.544247  0.452509  0.410711  ...    0.691375  0.032354  0.178350   \n",
       "1  0.348867  0.372752  0.657522  ...    0.996233  0.574646  0.537352   \n",
       "2  0.422427  0.368670  0.335321  ...    0.890606  0.584155  0.652350   \n",
       "3  0.200798  0.608773  0.678904  ...    0.494791  0.397787  0.339839   \n",
       "4  0.456134  0.450606  0.576912  ...    0.729397  0.467367  0.490984   \n",
       "\n",
       "        314       315       316       317       318       319  Label  \n",
       "0  0.288121  0.542031  0.748920  0.539113  0.525297  0.828175      3  \n",
       "1  0.714223  0.918355  0.888932  0.841357  0.716624  0.891559      8  \n",
       "2  0.625161  0.878614  0.879853  0.893218  0.881771  0.951083      8  \n",
       "3  0.303564  0.652963  0.827742  0.899003  0.908112  0.911832      0  \n",
       "4  0.227297  0.464723  0.545207  0.511624  0.492628  0.663428      6  \n",
       "\n",
       "[5 rows x 321 columns]"
      ]
     },
     "execution_count": 49,
     "metadata": {},
     "output_type": "execute_result"
    }
   ],
   "source": [
    "#test_df = pd.DataFrame(reduced_test_data,columns=list('AB'))\n",
    "test_df = pd.DataFrame(reduced_test_data)\n",
    "test_df['Label'] = pd.DataFrame(y_test_pd)\n",
    "test_df.head()"
   ]
  },
  {
   "cell_type": "code",
   "execution_count": 50,
   "metadata": {
    "collapsed": false
   },
   "outputs": [
    {
     "data": {
      "text/plain": [
       "KMeans(algorithm='auto', copy_x=True, init='k-means++', max_iter=300,\n",
       "    n_clusters=10, n_init=10, n_jobs=1, precompute_distances='auto',\n",
       "    random_state=None, tol=0.0001, verbose=0)"
      ]
     },
     "execution_count": 50,
     "metadata": {},
     "output_type": "execute_result"
    }
   ],
   "source": [
    "# Create kmeans\n",
    "clstr = KMeans(n_clusters=10)\n",
    "clstr.fit(reduced_train_data) "
   ]
  },
  {
   "cell_type": "code",
   "execution_count": 136,
   "metadata": {
    "collapsed": false
   },
   "outputs": [
    {
     "data": {
      "text/plain": [
       "array([[ 1.81141448,  0.4671192 ,  1.02058318, ...,  0.        ,\n",
       "         0.49137219,  1.41347396],\n",
       "       [ 2.59689069,  0.71984127,  1.48540811, ...,  0.        ,\n",
       "         0.59715393,  1.46986914],\n",
       "       [ 1.8940168 ,  0.65790261,  1.38038518, ...,  0.        ,\n",
       "         0.50923645,  1.45611537],\n",
       "       ..., \n",
       "       [ 1.67638564,  0.40097566,  0.57883746, ...,  0.        ,\n",
       "         0.38350861,  0.76492286],\n",
       "       [ 2.04537642,  0.44534843,  0.99352105, ...,  0.        ,\n",
       "         0.48418196,  1.25580359],\n",
       "       [ 1.8959285 ,  0.65028018,  1.03405117, ...,  0.        ,\n",
       "         0.41323781,  0.94610673]])"
      ]
     },
     "execution_count": 136,
     "metadata": {},
     "output_type": "execute_result"
    }
   ],
   "source": [
    "# Create feature agglomeration\n",
    "from sklearn.cluster import FeatureAgglomeration\n",
    "clstr = FeatureAgglomeration(n_clusters=10)\n",
    "clstr.fit_transform(reduced_train_data) \n",
    "clstr.fit_transform(reduced_test_data) "
   ]
  },
  {
   "cell_type": "code",
   "execution_count": 142,
   "metadata": {
    "collapsed": false
   },
   "outputs": [
    {
     "ename": "MemoryError",
     "evalue": "",
     "output_type": "error",
     "traceback": [
      "\u001b[1;31m---------------------------------------------------------------------------\u001b[0m",
      "\u001b[1;31mMemoryError\u001b[0m                               Traceback (most recent call last)",
      "\u001b[1;32m<ipython-input-142-bffb221b2da7>\u001b[0m in \u001b[0;36m<module>\u001b[1;34m()\u001b[0m\n\u001b[0;32m      2\u001b[0m \u001b[1;33m\u001b[0m\u001b[0m\n\u001b[0;32m      3\u001b[0m \u001b[0mclstr\u001b[0m\u001b[1;33m=\u001b[0m\u001b[0mBirch\u001b[0m\u001b[1;33m(\u001b[0m\u001b[0mbranching_factor\u001b[0m\u001b[1;33m=\u001b[0m\u001b[1;36m50\u001b[0m\u001b[1;33m,\u001b[0m \u001b[0mn_clusters\u001b[0m\u001b[1;33m=\u001b[0m\u001b[1;36m10\u001b[0m\u001b[1;33m,\u001b[0m \u001b[0mthreshold\u001b[0m\u001b[1;33m=\u001b[0m\u001b[1;36m0.5\u001b[0m\u001b[1;33m,\u001b[0m\u001b[0mcompute_labels\u001b[0m\u001b[1;33m=\u001b[0m\u001b[1;32mTrue\u001b[0m\u001b[1;33m)\u001b[0m\u001b[1;33m\u001b[0m\u001b[0m\n\u001b[1;32m----> 4\u001b[1;33m \u001b[0mclstr\u001b[0m\u001b[1;33m.\u001b[0m\u001b[0mfit\u001b[0m\u001b[1;33m(\u001b[0m\u001b[0mreduced_train_data\u001b[0m\u001b[1;33m)\u001b[0m\u001b[1;33m\u001b[0m\u001b[0m\n\u001b[0m",
      "\u001b[1;32m/home/mrafi123/anaconda3/lib/python3.5/site-packages/sklearn/cluster/birch.py\u001b[0m in \u001b[0;36mfit\u001b[1;34m(self, X, y)\u001b[0m\n\u001b[0;32m    423\u001b[0m         \"\"\"\n\u001b[0;32m    424\u001b[0m         \u001b[0mself\u001b[0m\u001b[1;33m.\u001b[0m\u001b[0mfit_\u001b[0m\u001b[1;33m,\u001b[0m \u001b[0mself\u001b[0m\u001b[1;33m.\u001b[0m\u001b[0mpartial_fit_\u001b[0m \u001b[1;33m=\u001b[0m \u001b[1;32mTrue\u001b[0m\u001b[1;33m,\u001b[0m \u001b[1;32mFalse\u001b[0m\u001b[1;33m\u001b[0m\u001b[0m\n\u001b[1;32m--> 425\u001b[1;33m         \u001b[1;32mreturn\u001b[0m \u001b[0mself\u001b[0m\u001b[1;33m.\u001b[0m\u001b[0m_fit\u001b[0m\u001b[1;33m(\u001b[0m\u001b[0mX\u001b[0m\u001b[1;33m)\u001b[0m\u001b[1;33m\u001b[0m\u001b[0m\n\u001b[0m\u001b[0;32m    426\u001b[0m \u001b[1;33m\u001b[0m\u001b[0m\n\u001b[0;32m    427\u001b[0m     \u001b[1;32mdef\u001b[0m \u001b[0m_fit\u001b[0m\u001b[1;33m(\u001b[0m\u001b[0mself\u001b[0m\u001b[1;33m,\u001b[0m \u001b[0mX\u001b[0m\u001b[1;33m)\u001b[0m\u001b[1;33m:\u001b[0m\u001b[1;33m\u001b[0m\u001b[0m\n",
      "\u001b[1;32m/home/mrafi123/anaconda3/lib/python3.5/site-packages/sklearn/cluster/birch.py\u001b[0m in \u001b[0;36m_fit\u001b[1;34m(self, X)\u001b[0m\n\u001b[0;32m    473\u001b[0m         \u001b[0mself\u001b[0m\u001b[1;33m.\u001b[0m\u001b[0msubcluster_centers_\u001b[0m \u001b[1;33m=\u001b[0m \u001b[0mcentroids\u001b[0m\u001b[1;33m\u001b[0m\u001b[0m\n\u001b[0;32m    474\u001b[0m \u001b[1;33m\u001b[0m\u001b[0m\n\u001b[1;32m--> 475\u001b[1;33m         \u001b[0mself\u001b[0m\u001b[1;33m.\u001b[0m\u001b[0m_global_clustering\u001b[0m\u001b[1;33m(\u001b[0m\u001b[0mX\u001b[0m\u001b[1;33m)\u001b[0m\u001b[1;33m\u001b[0m\u001b[0m\n\u001b[0m\u001b[0;32m    476\u001b[0m         \u001b[1;32mreturn\u001b[0m \u001b[0mself\u001b[0m\u001b[1;33m\u001b[0m\u001b[0m\n\u001b[0;32m    477\u001b[0m \u001b[1;33m\u001b[0m\u001b[0m\n",
      "\u001b[1;32m/home/mrafi123/anaconda3/lib/python3.5/site-packages/sklearn/cluster/birch.py\u001b[0m in \u001b[0;36m_global_clustering\u001b[1;34m(self, X)\u001b[0m\n\u001b[0;32m    609\u001b[0m \u001b[1;33m\u001b[0m\u001b[0m\n\u001b[0;32m    610\u001b[0m         \u001b[1;32mif\u001b[0m \u001b[0mcompute_labels\u001b[0m\u001b[1;33m:\u001b[0m\u001b[1;33m\u001b[0m\u001b[0m\n\u001b[1;32m--> 611\u001b[1;33m             \u001b[0mself\u001b[0m\u001b[1;33m.\u001b[0m\u001b[0mlabels_\u001b[0m \u001b[1;33m=\u001b[0m \u001b[0mself\u001b[0m\u001b[1;33m.\u001b[0m\u001b[0mpredict\u001b[0m\u001b[1;33m(\u001b[0m\u001b[0mX\u001b[0m\u001b[1;33m)\u001b[0m\u001b[1;33m\u001b[0m\u001b[0m\n\u001b[0m",
      "\u001b[1;32m/home/mrafi123/anaconda3/lib/python3.5/site-packages/sklearn/cluster/birch.py\u001b[0m in \u001b[0;36mpredict\u001b[1;34m(self, X)\u001b[0m\n\u001b[0;32m    544\u001b[0m         \u001b[0mX\u001b[0m \u001b[1;33m=\u001b[0m \u001b[0mcheck_array\u001b[0m\u001b[1;33m(\u001b[0m\u001b[0mX\u001b[0m\u001b[1;33m,\u001b[0m \u001b[0maccept_sparse\u001b[0m\u001b[1;33m=\u001b[0m\u001b[1;34m'csr'\u001b[0m\u001b[1;33m)\u001b[0m\u001b[1;33m\u001b[0m\u001b[0m\n\u001b[0;32m    545\u001b[0m         \u001b[0mself\u001b[0m\u001b[1;33m.\u001b[0m\u001b[0m_check_fit\u001b[0m\u001b[1;33m(\u001b[0m\u001b[0mX\u001b[0m\u001b[1;33m)\u001b[0m\u001b[1;33m\u001b[0m\u001b[0m\n\u001b[1;32m--> 546\u001b[1;33m         \u001b[0mreduced_distance\u001b[0m \u001b[1;33m=\u001b[0m \u001b[0msafe_sparse_dot\u001b[0m\u001b[1;33m(\u001b[0m\u001b[0mX\u001b[0m\u001b[1;33m,\u001b[0m \u001b[0mself\u001b[0m\u001b[1;33m.\u001b[0m\u001b[0msubcluster_centers_\u001b[0m\u001b[1;33m.\u001b[0m\u001b[0mT\u001b[0m\u001b[1;33m)\u001b[0m\u001b[1;33m\u001b[0m\u001b[0m\n\u001b[0m\u001b[0;32m    547\u001b[0m         \u001b[0mreduced_distance\u001b[0m \u001b[1;33m*=\u001b[0m \u001b[1;33m-\u001b[0m\u001b[1;36m2\u001b[0m\u001b[1;33m\u001b[0m\u001b[0m\n\u001b[0;32m    548\u001b[0m         \u001b[0mreduced_distance\u001b[0m \u001b[1;33m+=\u001b[0m \u001b[0mself\u001b[0m\u001b[1;33m.\u001b[0m\u001b[0m_subcluster_norms\u001b[0m\u001b[1;33m\u001b[0m\u001b[0m\n",
      "\u001b[1;32m/home/mrafi123/anaconda3/lib/python3.5/site-packages/sklearn/utils/extmath.py\u001b[0m in \u001b[0;36msafe_sparse_dot\u001b[1;34m(a, b, dense_output)\u001b[0m\n\u001b[0;32m    187\u001b[0m         \u001b[1;32mreturn\u001b[0m \u001b[0mret\u001b[0m\u001b[1;33m\u001b[0m\u001b[0m\n\u001b[0;32m    188\u001b[0m     \u001b[1;32melse\u001b[0m\u001b[1;33m:\u001b[0m\u001b[1;33m\u001b[0m\u001b[0m\n\u001b[1;32m--> 189\u001b[1;33m         \u001b[1;32mreturn\u001b[0m \u001b[0mfast_dot\u001b[0m\u001b[1;33m(\u001b[0m\u001b[0ma\u001b[0m\u001b[1;33m,\u001b[0m \u001b[0mb\u001b[0m\u001b[1;33m)\u001b[0m\u001b[1;33m\u001b[0m\u001b[0m\n\u001b[0m\u001b[0;32m    190\u001b[0m \u001b[1;33m\u001b[0m\u001b[0m\n\u001b[0;32m    191\u001b[0m \u001b[1;33m\u001b[0m\u001b[0m\n",
      "\u001b[1;31mMemoryError\u001b[0m: "
     ]
    }
   ],
   "source": [
    "from sklearn.cluster import Birch\n",
    "\n",
    "clstr=Birch(branching_factor=50, n_clusters=10, threshold=0.5,compute_labels=True)\n",
    "clstr.fit(reduced_train_data) "
   ]
  },
  {
   "cell_type": "code",
   "execution_count": 51,
   "metadata": {
    "collapsed": false
   },
   "outputs": [
    {
     "data": {
      "text/plain": [
       "(10, 320)"
      ]
     },
     "execution_count": 51,
     "metadata": {},
     "output_type": "execute_result"
    }
   ],
   "source": [
    "clstr.cluster_centers_.shape"
   ]
  },
  {
   "cell_type": "code",
   "execution_count": 115,
   "metadata": {
    "collapsed": false
   },
   "outputs": [
    {
     "data": {
      "text/plain": [
       "array([[  4.64786971e-01,   6.60513892e-01,   8.92555579e-01,\n",
       "          1.11229191e+00,   4.37295612e-01,   6.19030543e-01,\n",
       "          6.13268780e-01,   1.12855760e+00,   4.95165647e-01,\n",
       "          8.64621309e-01,   3.88060931e-01,   9.09406875e-01,\n",
       "          4.29670180e-01,   3.27949243e-01,   6.70221376e-01,\n",
       "          7.01085980e-01,   0.00000000e+00,   5.10927471e-01,\n",
       "          0.00000000e+00,   0.00000000e+00,   0.00000000e+00,\n",
       "          1.12622388e-05,   7.25404345e-01,   7.22582891e-01,\n",
       "          7.48904733e-01,   8.03207662e-01,   1.57172499e+00,\n",
       "          1.71384650e+00,   3.60972097e-01,   4.32895466e-01,\n",
       "          6.79752774e-01,   1.01016594e+00,   3.77502734e-01,\n",
       "          5.31383408e-01,   8.60406987e-01,   9.95592566e-01,\n",
       "          4.33833136e-01,   3.67922877e-01,   7.77157208e-01,\n",
       "          5.17646823e-01],\n",
       "       [  4.28718451e-01,   6.71004730e-01,   8.29649210e-01,\n",
       "          1.23347916e+00,   4.48583875e-01,   7.06843179e-01,\n",
       "          7.26657843e-01,   1.26540130e+00,   8.97757066e-01,\n",
       "          1.40198902e+00,   5.27978376e-01,   1.14699322e+00,\n",
       "          4.77515820e-01,   3.44104505e-01,   6.43522145e-01,\n",
       "          7.04345994e-01,   0.00000000e+00,   5.06644816e-01,\n",
       "          0.00000000e+00,   0.00000000e+00,   0.00000000e+00,\n",
       "          8.22338802e-06,   8.03936020e-01,   9.16222918e-01,\n",
       "          9.99341523e-01,   1.10465005e+00,   1.95475627e+00,\n",
       "          2.32196657e+00,   4.36769065e-01,   6.16141165e-01,\n",
       "          8.88710899e-01,   1.26818323e+00,   5.19069344e-01,\n",
       "          7.09532998e-01,   1.05283998e+00,   1.16567361e+00,\n",
       "          6.33152598e-01,   6.07546168e-01,   9.15495767e-01,\n",
       "          6.81452703e-01],\n",
       "       [  5.31575461e-01,   8.12780445e-01,   1.10804743e+00,\n",
       "          1.70518394e+00,   7.54352850e-01,   1.13334603e+00,\n",
       "          1.29820853e+00,   2.15495985e+00,   1.02814131e+00,\n",
       "          1.67966512e+00,   6.01557002e-01,   1.54283312e+00,\n",
       "          6.53563862e-01,   5.02229689e-01,   9.02455589e-01,\n",
       "          9.88973004e-01,   0.00000000e+00,   5.63356490e-01,\n",
       "          0.00000000e+00,   0.00000000e+00,   0.00000000e+00,\n",
       "          1.54159996e-19,   1.11909468e+00,   1.30278398e+00,\n",
       "          1.52939561e+00,   1.67853906e+00,   2.95979537e+00,\n",
       "          3.46365798e+00,   6.67422354e-01,   9.45874310e-01,\n",
       "          1.43109155e+00,   2.03728515e+00,   5.84573405e-01,\n",
       "          8.02697977e-01,   1.45455089e+00,   1.57140281e+00,\n",
       "          6.01072428e-01,   6.11339352e-01,   9.81098137e-01,\n",
       "          7.71897327e-01],\n",
       "       [  4.51454803e-01,   6.33061258e-01,   8.48614781e-01,\n",
       "          1.34495948e+00,   5.92733673e-01,   9.08409720e-01,\n",
       "          1.06342601e+00,   1.69469813e+00,   8.92966466e-01,\n",
       "          1.44339146e+00,   4.52044096e-01,   1.19900252e+00,\n",
       "          5.55728019e-01,   4.04575057e-01,   7.33045635e-01,\n",
       "          7.88758835e-01,   0.00000000e+00,   4.78585093e-01,\n",
       "          0.00000000e+00,   0.00000000e+00,   0.00000000e+00,\n",
       "          1.30228469e-05,   9.09571762e-01,   1.09331737e+00,\n",
       "          1.28560994e+00,   1.36827076e+00,   2.49456534e+00,\n",
       "          2.91161849e+00,   5.33868289e-01,   7.92011957e-01,\n",
       "          1.23962371e+00,   1.71910308e+00,   4.56629238e-01,\n",
       "          6.50173533e-01,   1.12122665e+00,   1.17727434e+00,\n",
       "          5.46447875e-01,   5.59227432e-01,   8.25089146e-01,\n",
       "          6.85536313e-01],\n",
       "       [  4.77139887e-01,   7.30218237e-01,   1.00848353e+00,\n",
       "          1.22923202e+00,   5.74560498e-01,   7.23207995e-01,\n",
       "          7.72158159e-01,   1.30748896e+00,   4.73971965e-01,\n",
       "          8.66569563e-01,   4.08634597e-01,   1.02870881e+00,\n",
       "          5.12326378e-01,   3.75107435e-01,   7.79532353e-01,\n",
       "          8.14355238e-01,   0.00000000e+00,   6.82502818e-01,\n",
       "          0.00000000e+00,   0.00000000e+00,   0.00000000e+00,\n",
       "          1.62630326e-19,   9.35974472e-01,   9.30021831e-01,\n",
       "          8.69585616e-01,   8.98517326e-01,   1.93162592e+00,\n",
       "          1.98727818e+00,   4.56111405e-01,   4.99614174e-01,\n",
       "          8.66633549e-01,   1.23411362e+00,   3.47261451e-01,\n",
       "          5.20847487e-01,   9.35677776e-01,   1.06511963e+00,\n",
       "          5.19633539e-01,   3.73764855e-01,   1.03315101e+00,\n",
       "          6.59844344e-01],\n",
       "       [  4.62407702e-01,   7.23778331e-01,   1.04041472e+00,\n",
       "          1.35621163e+00,   6.51156808e-01,   8.38643565e-01,\n",
       "          9.59993697e-01,   1.57927254e+00,   5.71334024e-01,\n",
       "          1.02174224e+00,   4.19852155e-01,   1.12816859e+00,\n",
       "          5.60414007e-01,   4.11789657e-01,   8.28298669e-01,\n",
       "          8.74828877e-01,   0.00000000e+00,   6.74704170e-01,\n",
       "          0.00000000e+00,   0.00000000e+00,   0.00000000e+00,\n",
       "          1.62630326e-19,   1.01124433e+00,   1.06878909e+00,\n",
       "          1.06747037e+00,   1.11478083e+00,   2.28587080e+00,\n",
       "          2.41174873e+00,   5.27670507e-01,   6.32327509e-01,\n",
       "          1.07361623e+00,   1.53238631e+00,   3.53995720e-01,\n",
       "          5.35869741e-01,   1.03840606e+00,   1.15945586e+00,\n",
       "          5.35345184e-01,   4.12639062e-01,   1.03775434e+00,\n",
       "          7.05936848e-01],\n",
       "       [  6.01859981e-01,   9.21476484e-01,   1.21281153e+00,\n",
       "          1.64237170e+00,   6.85391950e-01,   1.00699564e+00,\n",
       "          9.88130288e-01,   1.84454289e+00,   7.85450958e-01,\n",
       "          1.33670026e+00,   6.05423972e-01,   1.43483240e+00,\n",
       "          5.76961098e-01,   4.72773835e-01,   8.87533236e-01,\n",
       "          9.61761315e-01,   0.00000000e+00,   5.64493316e-01,\n",
       "          0.00000000e+00,   0.00000000e+00,   0.00000000e+00,\n",
       "          1.59242194e-19,   1.02269059e+00,   1.06408046e+00,\n",
       "          1.19132625e+00,   1.36725092e+00,   2.36450917e+00,\n",
       "          2.71702820e+00,   5.77737612e-01,   7.21131027e-01,\n",
       "          1.02777016e+00,   1.60349655e+00,   6.14206759e-01,\n",
       "          7.77781669e-01,   1.35039305e+00,   1.53503667e+00,\n",
       "          5.21063007e-01,   4.81520483e-01,   9.29497657e-01,\n",
       "          6.61662673e-01],\n",
       "       [  4.11852038e-01,   5.60867335e-01,   7.74898489e-01,\n",
       "          8.86388328e-01,   3.53348616e-01,   4.64803004e-01,\n",
       "          4.41459300e-01,   8.19855578e-01,   3.55671004e-01,\n",
       "          6.38210892e-01,   2.96036855e-01,   7.03133737e-01,\n",
       "          3.71508809e-01,   2.71655055e-01,   5.91404554e-01,\n",
       "          6.00790722e-01,   0.00000000e+00,   5.09212680e-01,\n",
       "          0.00000000e+00,   0.00000000e+00,   0.00000000e+00,\n",
       "          9.91881887e-05,   6.25496867e-01,   6.32475585e-01,\n",
       "          5.84105506e-01,   5.92317940e-01,   1.31102870e+00,\n",
       "          1.34792258e+00,   2.88825003e-01,   3.39241838e-01,\n",
       "          5.34894496e-01,   8.09558444e-01,   2.86108244e-01,\n",
       "          4.15661667e-01,   6.43486717e-01,   7.55408958e-01,\n",
       "          3.97060355e-01,   3.24508376e-01,   7.24081838e-01,\n",
       "          4.98383552e-01],\n",
       "       [  5.71049347e-01,   7.87667437e-01,   1.08392529e+00,\n",
       "          1.40736780e+00,   5.38945501e-01,   8.49135765e-01,\n",
       "          8.08987771e-01,   1.60408918e+00,   6.04479868e-01,\n",
       "          1.06720984e+00,   4.73297202e-01,   1.14905179e+00,\n",
       "          4.62061675e-01,   4.06150293e-01,   7.70170028e-01,\n",
       "          8.19429139e-01,   0.00000000e+00,   3.76955342e-01,\n",
       "          0.00000000e+00,   0.00000000e+00,   0.00000000e+00,\n",
       "          1.60936260e-19,   7.72875279e-01,   7.74841968e-01,\n",
       "          9.90113362e-01,   1.13923856e+00,   1.89991507e+00,\n",
       "          2.19925405e+00,   4.47540750e-01,   5.78768116e-01,\n",
       "          7.91190978e-01,   1.31166288e+00,   5.29908304e-01,\n",
       "          6.47959307e-01,   1.13644594e+00,   1.29708126e+00,\n",
       "          3.32994090e-01,   3.66436478e-01,   5.76343228e-01,\n",
       "          4.44662158e-01],\n",
       "       [  3.80537952e-01,   5.14872366e-01,   7.30279568e-01,\n",
       "          1.02051486e+00,   4.75326833e-01,   6.70523307e-01,\n",
       "          7.80602519e-01,   1.23652487e+00,   5.62609178e-01,\n",
       "          9.61084076e-01,   2.89452268e-01,   8.50612200e-01,\n",
       "          4.43297280e-01,   3.12062519e-01,   6.25599416e-01,\n",
       "          6.51659242e-01,   0.00000000e+00,   4.47964423e-01,\n",
       "          0.00000000e+00,   0.00000000e+00,   0.00000000e+00,\n",
       "          2.72055951e-06,   7.19064085e-01,   8.48988776e-01,\n",
       "          9.28483557e-01,   9.70983129e-01,   1.94509683e+00,\n",
       "          2.16364315e+00,   4.07703003e-01,   5.48753911e-01,\n",
       "          9.34101370e-01,   1.27645500e+00,   2.94178091e-01,\n",
       "          4.47434408e-01,   7.85887721e-01,   8.26936551e-01,\n",
       "          4.26399951e-01,   3.98163034e-01,   6.92875811e-01,\n",
       "          5.59590421e-01]])"
      ]
     },
     "execution_count": 115,
     "metadata": {},
     "output_type": "execute_result"
    }
   ],
   "source": [
    "clstr.cluster_centers_"
   ]
  },
  {
   "cell_type": "code",
   "execution_count": 52,
   "metadata": {
    "collapsed": false
   },
   "outputs": [
    {
     "data": {
      "text/plain": [
       "(50000,)"
      ]
     },
     "execution_count": 52,
     "metadata": {},
     "output_type": "execute_result"
    }
   ],
   "source": [
    "clstr.labels_.shape"
   ]
  },
  {
   "cell_type": "code",
   "execution_count": 54,
   "metadata": {
    "collapsed": false
   },
   "outputs": [],
   "source": [
    "clstr_predicted = clstr.predict(reduced_test_data)\n",
    "#clstr_predicted = clstr.fit_transform(reduced_test_data) "
   ]
  },
  {
   "cell_type": "code",
   "execution_count": 55,
   "metadata": {
    "collapsed": false
   },
   "outputs": [
    {
     "name": "stdout",
     "output_type": "stream",
     "text": [
      "(10000,)\n",
      "(10000, 1)\n"
     ]
    }
   ],
   "source": [
    "cluster= clstr_predicted\n",
    "print (cluster.shape)\n",
    "cluster=cluster.reshape(10000,1)\n",
    "print (cluster.shape)"
   ]
  },
  {
   "cell_type": "code",
   "execution_count": 56,
   "metadata": {
    "collapsed": false
   },
   "outputs": [
    {
     "data": {
      "text/plain": [
       "array([0, 1, 2, 3, 4, 5, 6, 7, 8, 9], dtype=int32)"
      ]
     },
     "execution_count": 56,
     "metadata": {},
     "output_type": "execute_result"
    }
   ],
   "source": [
    "np.unique(cluster)"
   ]
  },
  {
   "cell_type": "code",
   "execution_count": 57,
   "metadata": {
    "collapsed": false
   },
   "outputs": [
    {
     "data": {
      "text/plain": [
       "array([0, 1, 2, 3, 4, 5, 6, 7, 8, 9])"
      ]
     },
     "execution_count": 57,
     "metadata": {},
     "output_type": "execute_result"
    }
   ],
   "source": [
    "np.unique(test_df.Label)"
   ]
  },
  {
   "cell_type": "code",
   "execution_count": 58,
   "metadata": {
    "collapsed": false
   },
   "outputs": [
    {
     "data": {
      "text/html": [
       "<div>\n",
       "<table border=\"1\" class=\"dataframe\">\n",
       "  <thead>\n",
       "    <tr style=\"text-align: right;\">\n",
       "      <th></th>\n",
       "      <th>0</th>\n",
       "      <th>1</th>\n",
       "      <th>2</th>\n",
       "      <th>3</th>\n",
       "      <th>4</th>\n",
       "      <th>5</th>\n",
       "      <th>6</th>\n",
       "      <th>7</th>\n",
       "      <th>8</th>\n",
       "      <th>9</th>\n",
       "      <th>...</th>\n",
       "      <th>312</th>\n",
       "      <th>313</th>\n",
       "      <th>314</th>\n",
       "      <th>315</th>\n",
       "      <th>316</th>\n",
       "      <th>317</th>\n",
       "      <th>318</th>\n",
       "      <th>319</th>\n",
       "      <th>Label</th>\n",
       "      <th>Cluster</th>\n",
       "    </tr>\n",
       "  </thead>\n",
       "  <tbody>\n",
       "    <tr>\n",
       "      <th>0</th>\n",
       "      <td>0.395574</td>\n",
       "      <td>0.341846</td>\n",
       "      <td>0.111785</td>\n",
       "      <td>0.376675</td>\n",
       "      <td>0.464373</td>\n",
       "      <td>0.359181</td>\n",
       "      <td>0.221901</td>\n",
       "      <td>0.544247</td>\n",
       "      <td>0.452509</td>\n",
       "      <td>0.410711</td>\n",
       "      <td>...</td>\n",
       "      <td>0.032354</td>\n",
       "      <td>0.178350</td>\n",
       "      <td>0.288121</td>\n",
       "      <td>0.542031</td>\n",
       "      <td>0.748920</td>\n",
       "      <td>0.539113</td>\n",
       "      <td>0.525297</td>\n",
       "      <td>0.828175</td>\n",
       "      <td>3</td>\n",
       "      <td>2</td>\n",
       "    </tr>\n",
       "    <tr>\n",
       "      <th>1</th>\n",
       "      <td>0.691583</td>\n",
       "      <td>0.776937</td>\n",
       "      <td>0.744247</td>\n",
       "      <td>0.596966</td>\n",
       "      <td>0.264329</td>\n",
       "      <td>0.262627</td>\n",
       "      <td>0.383502</td>\n",
       "      <td>0.348867</td>\n",
       "      <td>0.372752</td>\n",
       "      <td>0.657522</td>\n",
       "      <td>...</td>\n",
       "      <td>0.574646</td>\n",
       "      <td>0.537352</td>\n",
       "      <td>0.714223</td>\n",
       "      <td>0.918355</td>\n",
       "      <td>0.888932</td>\n",
       "      <td>0.841357</td>\n",
       "      <td>0.716624</td>\n",
       "      <td>0.891559</td>\n",
       "      <td>8</td>\n",
       "      <td>3</td>\n",
       "    </tr>\n",
       "    <tr>\n",
       "      <th>2</th>\n",
       "      <td>0.470700</td>\n",
       "      <td>0.385204</td>\n",
       "      <td>0.338108</td>\n",
       "      <td>0.357773</td>\n",
       "      <td>0.323129</td>\n",
       "      <td>0.349198</td>\n",
       "      <td>0.478435</td>\n",
       "      <td>0.422427</td>\n",
       "      <td>0.368670</td>\n",
       "      <td>0.335321</td>\n",
       "      <td>...</td>\n",
       "      <td>0.584155</td>\n",
       "      <td>0.652350</td>\n",
       "      <td>0.625161</td>\n",
       "      <td>0.878614</td>\n",
       "      <td>0.879853</td>\n",
       "      <td>0.893218</td>\n",
       "      <td>0.881771</td>\n",
       "      <td>0.951083</td>\n",
       "      <td>8</td>\n",
       "      <td>4</td>\n",
       "    </tr>\n",
       "    <tr>\n",
       "      <th>3</th>\n",
       "      <td>0.777573</td>\n",
       "      <td>0.782590</td>\n",
       "      <td>0.820206</td>\n",
       "      <td>0.644692</td>\n",
       "      <td>0.333116</td>\n",
       "      <td>0.366680</td>\n",
       "      <td>0.300172</td>\n",
       "      <td>0.200798</td>\n",
       "      <td>0.608773</td>\n",
       "      <td>0.678904</td>\n",
       "      <td>...</td>\n",
       "      <td>0.397787</td>\n",
       "      <td>0.339839</td>\n",
       "      <td>0.303564</td>\n",
       "      <td>0.652963</td>\n",
       "      <td>0.827742</td>\n",
       "      <td>0.899003</td>\n",
       "      <td>0.908112</td>\n",
       "      <td>0.911832</td>\n",
       "      <td>0</td>\n",
       "      <td>4</td>\n",
       "    </tr>\n",
       "    <tr>\n",
       "      <th>4</th>\n",
       "      <td>0.191995</td>\n",
       "      <td>0.383221</td>\n",
       "      <td>0.180057</td>\n",
       "      <td>0.207453</td>\n",
       "      <td>0.316795</td>\n",
       "      <td>0.191869</td>\n",
       "      <td>0.223982</td>\n",
       "      <td>0.456134</td>\n",
       "      <td>0.450606</td>\n",
       "      <td>0.576912</td>\n",
       "      <td>...</td>\n",
       "      <td>0.467367</td>\n",
       "      <td>0.490984</td>\n",
       "      <td>0.227297</td>\n",
       "      <td>0.464723</td>\n",
       "      <td>0.545207</td>\n",
       "      <td>0.511624</td>\n",
       "      <td>0.492628</td>\n",
       "      <td>0.663428</td>\n",
       "      <td>6</td>\n",
       "      <td>9</td>\n",
       "    </tr>\n",
       "    <tr>\n",
       "      <th>5</th>\n",
       "      <td>0.227321</td>\n",
       "      <td>0.410952</td>\n",
       "      <td>0.171766</td>\n",
       "      <td>0.265043</td>\n",
       "      <td>0.645957</td>\n",
       "      <td>0.626015</td>\n",
       "      <td>0.359482</td>\n",
       "      <td>0.466061</td>\n",
       "      <td>0.727357</td>\n",
       "      <td>1.061126</td>\n",
       "      <td>...</td>\n",
       "      <td>0.239687</td>\n",
       "      <td>0.181439</td>\n",
       "      <td>0.259593</td>\n",
       "      <td>0.305427</td>\n",
       "      <td>0.847672</td>\n",
       "      <td>0.685517</td>\n",
       "      <td>0.422356</td>\n",
       "      <td>0.787903</td>\n",
       "      <td>6</td>\n",
       "      <td>8</td>\n",
       "    </tr>\n",
       "    <tr>\n",
       "      <th>6</th>\n",
       "      <td>0.257605</td>\n",
       "      <td>0.291806</td>\n",
       "      <td>0.000000</td>\n",
       "      <td>0.129530</td>\n",
       "      <td>0.374583</td>\n",
       "      <td>0.476567</td>\n",
       "      <td>0.132313</td>\n",
       "      <td>0.601992</td>\n",
       "      <td>0.738776</td>\n",
       "      <td>1.254616</td>\n",
       "      <td>...</td>\n",
       "      <td>0.410228</td>\n",
       "      <td>0.467427</td>\n",
       "      <td>0.825985</td>\n",
       "      <td>0.858383</td>\n",
       "      <td>0.782101</td>\n",
       "      <td>1.073241</td>\n",
       "      <td>0.908707</td>\n",
       "      <td>0.763761</td>\n",
       "      <td>1</td>\n",
       "      <td>0</td>\n",
       "    </tr>\n",
       "    <tr>\n",
       "      <th>7</th>\n",
       "      <td>0.528053</td>\n",
       "      <td>0.437562</td>\n",
       "      <td>0.082676</td>\n",
       "      <td>0.098854</td>\n",
       "      <td>0.368706</td>\n",
       "      <td>0.316767</td>\n",
       "      <td>0.276722</td>\n",
       "      <td>0.408885</td>\n",
       "      <td>0.536660</td>\n",
       "      <td>0.582488</td>\n",
       "      <td>...</td>\n",
       "      <td>0.263953</td>\n",
       "      <td>0.197708</td>\n",
       "      <td>0.072475</td>\n",
       "      <td>0.349760</td>\n",
       "      <td>0.884989</td>\n",
       "      <td>0.832232</td>\n",
       "      <td>0.762633</td>\n",
       "      <td>0.921880</td>\n",
       "      <td>6</td>\n",
       "      <td>8</td>\n",
       "    </tr>\n",
       "    <tr>\n",
       "      <th>8</th>\n",
       "      <td>0.842862</td>\n",
       "      <td>0.753357</td>\n",
       "      <td>0.527052</td>\n",
       "      <td>0.607268</td>\n",
       "      <td>0.275725</td>\n",
       "      <td>0.120726</td>\n",
       "      <td>0.165638</td>\n",
       "      <td>0.318049</td>\n",
       "      <td>0.411250</td>\n",
       "      <td>0.393857</td>\n",
       "      <td>...</td>\n",
       "      <td>0.331025</td>\n",
       "      <td>0.263125</td>\n",
       "      <td>0.281917</td>\n",
       "      <td>0.549997</td>\n",
       "      <td>0.961339</td>\n",
       "      <td>0.968444</td>\n",
       "      <td>0.916575</td>\n",
       "      <td>1.053953</td>\n",
       "      <td>3</td>\n",
       "      <td>1</td>\n",
       "    </tr>\n",
       "    <tr>\n",
       "      <th>9</th>\n",
       "      <td>0.853813</td>\n",
       "      <td>0.905315</td>\n",
       "      <td>0.593138</td>\n",
       "      <td>0.272959</td>\n",
       "      <td>0.342591</td>\n",
       "      <td>0.190993</td>\n",
       "      <td>0.512719</td>\n",
       "      <td>0.265590</td>\n",
       "      <td>0.718674</td>\n",
       "      <td>0.641313</td>\n",
       "      <td>...</td>\n",
       "      <td>0.300627</td>\n",
       "      <td>0.309515</td>\n",
       "      <td>0.447835</td>\n",
       "      <td>0.879479</td>\n",
       "      <td>1.064363</td>\n",
       "      <td>1.176584</td>\n",
       "      <td>0.740504</td>\n",
       "      <td>0.436587</td>\n",
       "      <td>1</td>\n",
       "      <td>3</td>\n",
       "    </tr>\n",
       "  </tbody>\n",
       "</table>\n",
       "<p>10 rows × 322 columns</p>\n",
       "</div>"
      ],
      "text/plain": [
       "          0         1         2         3         4         5         6  \\\n",
       "0  0.395574  0.341846  0.111785  0.376675  0.464373  0.359181  0.221901   \n",
       "1  0.691583  0.776937  0.744247  0.596966  0.264329  0.262627  0.383502   \n",
       "2  0.470700  0.385204  0.338108  0.357773  0.323129  0.349198  0.478435   \n",
       "3  0.777573  0.782590  0.820206  0.644692  0.333116  0.366680  0.300172   \n",
       "4  0.191995  0.383221  0.180057  0.207453  0.316795  0.191869  0.223982   \n",
       "5  0.227321  0.410952  0.171766  0.265043  0.645957  0.626015  0.359482   \n",
       "6  0.257605  0.291806  0.000000  0.129530  0.374583  0.476567  0.132313   \n",
       "7  0.528053  0.437562  0.082676  0.098854  0.368706  0.316767  0.276722   \n",
       "8  0.842862  0.753357  0.527052  0.607268  0.275725  0.120726  0.165638   \n",
       "9  0.853813  0.905315  0.593138  0.272959  0.342591  0.190993  0.512719   \n",
       "\n",
       "          7         8         9   ...          312       313       314  \\\n",
       "0  0.544247  0.452509  0.410711   ...     0.032354  0.178350  0.288121   \n",
       "1  0.348867  0.372752  0.657522   ...     0.574646  0.537352  0.714223   \n",
       "2  0.422427  0.368670  0.335321   ...     0.584155  0.652350  0.625161   \n",
       "3  0.200798  0.608773  0.678904   ...     0.397787  0.339839  0.303564   \n",
       "4  0.456134  0.450606  0.576912   ...     0.467367  0.490984  0.227297   \n",
       "5  0.466061  0.727357  1.061126   ...     0.239687  0.181439  0.259593   \n",
       "6  0.601992  0.738776  1.254616   ...     0.410228  0.467427  0.825985   \n",
       "7  0.408885  0.536660  0.582488   ...     0.263953  0.197708  0.072475   \n",
       "8  0.318049  0.411250  0.393857   ...     0.331025  0.263125  0.281917   \n",
       "9  0.265590  0.718674  0.641313   ...     0.300627  0.309515  0.447835   \n",
       "\n",
       "        315       316       317       318       319  Label  Cluster  \n",
       "0  0.542031  0.748920  0.539113  0.525297  0.828175      3        2  \n",
       "1  0.918355  0.888932  0.841357  0.716624  0.891559      8        3  \n",
       "2  0.878614  0.879853  0.893218  0.881771  0.951083      8        4  \n",
       "3  0.652963  0.827742  0.899003  0.908112  0.911832      0        4  \n",
       "4  0.464723  0.545207  0.511624  0.492628  0.663428      6        9  \n",
       "5  0.305427  0.847672  0.685517  0.422356  0.787903      6        8  \n",
       "6  0.858383  0.782101  1.073241  0.908707  0.763761      1        0  \n",
       "7  0.349760  0.884989  0.832232  0.762633  0.921880      6        8  \n",
       "8  0.549997  0.961339  0.968444  0.916575  1.053953      3        1  \n",
       "9  0.879479  1.064363  1.176584  0.740504  0.436587      1        3  \n",
       "\n",
       "[10 rows x 322 columns]"
      ]
     },
     "execution_count": 58,
     "metadata": {},
     "output_type": "execute_result"
    }
   ],
   "source": [
    "test_df['Cluster'] = pd.DataFrame(cluster)\n",
    "test_df.head(10)"
   ]
  },
  {
   "cell_type": "code",
   "execution_count": 59,
   "metadata": {
    "collapsed": false
   },
   "outputs": [
    {
     "data": {
      "text/plain": [
       "array([[<matplotlib.axes._subplots.AxesSubplot object at 0x7f6370e5d518>,\n",
       "        <matplotlib.axes._subplots.AxesSubplot object at 0x7f6370b99908>,\n",
       "        <matplotlib.axes._subplots.AxesSubplot object at 0x7f6370b63940>],\n",
       "       [<matplotlib.axes._subplots.AxesSubplot object at 0x7f6370b7bf98>,\n",
       "        <matplotlib.axes._subplots.AxesSubplot object at 0x7f6370ae9dd8>,\n",
       "        <matplotlib.axes._subplots.AxesSubplot object at 0x7f6370ab6550>],\n",
       "       [<matplotlib.axes._subplots.AxesSubplot object at 0x7f6370a75a90>,\n",
       "        <matplotlib.axes._subplots.AxesSubplot object at 0x7f6370a40ba8>,\n",
       "        <matplotlib.axes._subplots.AxesSubplot object at 0x7f63709fa9b0>],\n",
       "       [<matplotlib.axes._subplots.AxesSubplot object at 0x7f6370944ef0>,\n",
       "        <matplotlib.axes._subplots.AxesSubplot object at 0x7f63709541d0>,\n",
       "        <matplotlib.axes._subplots.AxesSubplot object at 0x7f63708d5588>]], dtype=object)"
      ]
     },
     "execution_count": 59,
     "metadata": {},
     "output_type": "execute_result"
    },
    {
     "data": {
      "image/png": "[encoded data removed]",
      "text/plain": [
       "<matplotlib.figure.Figure at 0x7f6370c09898>"
      ]
     },
     "metadata": {},
     "output_type": "display_data"
    }
   ],
   "source": [
    "test_df['Cluster'].hist(by=test_df['Label'])"
   ]
  },
  {
   "cell_type": "code",
   "execution_count": 61,
   "metadata": {
    "collapsed": false
   },
   "outputs": [
    {
     "data": {
      "text/plain": [
       "Label  Cluster\n",
       "0      0           20\n",
       "       1          246\n",
       "       2          175\n",
       "       3           68\n",
       "       4          107\n",
       "       5           74\n",
       "       6           51\n",
       "       7          160\n",
       "       8           56\n",
       "       9           43\n",
       "1      0           84\n",
       "       1           40\n",
       "       2           91\n",
       "       3           84\n",
       "       4          115\n",
       "       5          114\n",
       "       6          236\n",
       "       7           81\n",
       "       8          100\n",
       "       9           55\n",
       "2      0           82\n",
       "       1          152\n",
       "       2          304\n",
       "       3           17\n",
       "       4           36\n",
       "       5           51\n",
       "       6           57\n",
       "       7           52\n",
       "       8          184\n",
       "       9           65\n",
       "                 ... \n",
       "7      0           48\n",
       "       1           74\n",
       "       2          158\n",
       "       3           67\n",
       "       4           67\n",
       "       5          183\n",
       "       6           76\n",
       "       7           43\n",
       "       8          117\n",
       "       9          167\n",
       "8      0           17\n",
       "       1           91\n",
       "       2          144\n",
       "       3          163\n",
       "       4          297\n",
       "       5           51\n",
       "       6          116\n",
       "       7           35\n",
       "       8           34\n",
       "       9           52\n",
       "9      0           20\n",
       "       1           43\n",
       "       2           72\n",
       "       3          220\n",
       "       4          160\n",
       "       5          199\n",
       "       6          102\n",
       "       7           68\n",
       "       8           88\n",
       "       9           28\n",
       "Name: Cluster, dtype: int64"
      ]
     },
     "execution_count": 61,
     "metadata": {},
     "output_type": "execute_result"
    }
   ],
   "source": [
    "test_df.groupby(['Label','Cluster'])['Cluster'].count()"
   ]
  },
  {
   "cell_type": "code",
   "execution_count": 97,
   "metadata": {
    "collapsed": false
   },
   "outputs": [],
   "source": [
    "test_df['Vairance'] = pd.DataFrame(test_df.Label - test_df.Cluster)"
   ]
  },
  {
   "cell_type": "code",
   "execution_count": 17,
   "metadata": {
    "collapsed": false
   },
   "outputs": [
    {
     "ename": "NameError",
     "evalue": "name 'test_df' is not defined",
     "output_type": "error",
     "traceback": [
      "\u001b[1;31m---------------------------------------------------------------------------\u001b[0m",
      "\u001b[1;31mNameError\u001b[0m                                 Traceback (most recent call last)",
      "\u001b[1;32m<ipython-input-17-fed9066f56a2>\u001b[0m in \u001b[0;36m<module>\u001b[1;34m()\u001b[0m\n\u001b[1;32m----> 1\u001b[1;33m \u001b[0mtest_df\u001b[0m\u001b[1;33m.\u001b[0m\u001b[0mhead\u001b[0m\u001b[1;33m(\u001b[0m\u001b[1;33m)\u001b[0m\u001b[1;33m\u001b[0m\u001b[0m\n\u001b[0m",
      "\u001b[1;31mNameError\u001b[0m: name 'test_df' is not defined"
     ]
    }
   ],
   "source": [
    "test_df.head()"
   ]
  },
  {
   "cell_type": "code",
   "execution_count": 62,
   "metadata": {
    "collapsed": false
   },
   "outputs": [
    {
     "data": {
      "text/html": [
       "<div>\n",
       "<table border=\"1\" class=\"dataframe\">\n",
       "  <thead>\n",
       "    <tr style=\"text-align: right;\">\n",
       "      <th></th>\n",
       "      <th>0</th>\n",
       "      <th>1</th>\n",
       "      <th>2</th>\n",
       "      <th>3</th>\n",
       "      <th>4</th>\n",
       "      <th>5</th>\n",
       "      <th>6</th>\n",
       "      <th>7</th>\n",
       "      <th>8</th>\n",
       "      <th>9</th>\n",
       "      <th>...</th>\n",
       "      <th>312</th>\n",
       "      <th>313</th>\n",
       "      <th>314</th>\n",
       "      <th>315</th>\n",
       "      <th>316</th>\n",
       "      <th>317</th>\n",
       "      <th>318</th>\n",
       "      <th>319</th>\n",
       "      <th>Label</th>\n",
       "      <th>Cluster</th>\n",
       "    </tr>\n",
       "  </thead>\n",
       "  <tbody>\n",
       "    <tr>\n",
       "      <th>count</th>\n",
       "      <td>10000.000000</td>\n",
       "      <td>10000.000000</td>\n",
       "      <td>10000.000000</td>\n",
       "      <td>10000.000000</td>\n",
       "      <td>10000.000000</td>\n",
       "      <td>10000.000000</td>\n",
       "      <td>10000.000000</td>\n",
       "      <td>10000.000000</td>\n",
       "      <td>10000.000000</td>\n",
       "      <td>10000.000000</td>\n",
       "      <td>...</td>\n",
       "      <td>10000.000000</td>\n",
       "      <td>10000.000000</td>\n",
       "      <td>10000.000000</td>\n",
       "      <td>10000.000000</td>\n",
       "      <td>10000.000000</td>\n",
       "      <td>10000.000000</td>\n",
       "      <td>10000.000000</td>\n",
       "      <td>10000.000000</td>\n",
       "      <td>10000.000000</td>\n",
       "      <td>10000.000000</td>\n",
       "    </tr>\n",
       "    <tr>\n",
       "      <th>mean</th>\n",
       "      <td>0.427663</td>\n",
       "      <td>0.405293</td>\n",
       "      <td>0.337779</td>\n",
       "      <td>0.364387</td>\n",
       "      <td>0.349651</td>\n",
       "      <td>0.365740</td>\n",
       "      <td>0.328424</td>\n",
       "      <td>0.387479</td>\n",
       "      <td>0.549681</td>\n",
       "      <td>0.548449</td>\n",
       "      <td>...</td>\n",
       "      <td>0.352891</td>\n",
       "      <td>0.354300</td>\n",
       "      <td>0.346112</td>\n",
       "      <td>0.563764</td>\n",
       "      <td>0.740324</td>\n",
       "      <td>0.690437</td>\n",
       "      <td>0.679684</td>\n",
       "      <td>0.823218</td>\n",
       "      <td>4.500000</td>\n",
       "      <td>4.502200</td>\n",
       "    </tr>\n",
       "    <tr>\n",
       "      <th>std</th>\n",
       "      <td>0.232181</td>\n",
       "      <td>0.237533</td>\n",
       "      <td>0.241078</td>\n",
       "      <td>0.174166</td>\n",
       "      <td>0.165566</td>\n",
       "      <td>0.209575</td>\n",
       "      <td>0.217668</td>\n",
       "      <td>0.178798</td>\n",
       "      <td>0.189887</td>\n",
       "      <td>0.238187</td>\n",
       "      <td>...</td>\n",
       "      <td>0.172539</td>\n",
       "      <td>0.181832</td>\n",
       "      <td>0.186240</td>\n",
       "      <td>0.169071</td>\n",
       "      <td>0.231417</td>\n",
       "      <td>0.223451</td>\n",
       "      <td>0.232479</td>\n",
       "      <td>0.192497</td>\n",
       "      <td>2.872425</td>\n",
       "      <td>2.877468</td>\n",
       "    </tr>\n",
       "    <tr>\n",
       "      <th>min</th>\n",
       "      <td>0.000000</td>\n",
       "      <td>0.000000</td>\n",
       "      <td>0.000000</td>\n",
       "      <td>0.000000</td>\n",
       "      <td>0.000000</td>\n",
       "      <td>0.000000</td>\n",
       "      <td>0.000000</td>\n",
       "      <td>0.000000</td>\n",
       "      <td>0.000000</td>\n",
       "      <td>0.000000</td>\n",
       "      <td>...</td>\n",
       "      <td>0.000000</td>\n",
       "      <td>0.000000</td>\n",
       "      <td>0.000000</td>\n",
       "      <td>0.000000</td>\n",
       "      <td>0.000000</td>\n",
       "      <td>0.000000</td>\n",
       "      <td>0.000000</td>\n",
       "      <td>0.000000</td>\n",
       "      <td>0.000000</td>\n",
       "      <td>0.000000</td>\n",
       "    </tr>\n",
       "    <tr>\n",
       "      <th>25%</th>\n",
       "      <td>0.258664</td>\n",
       "      <td>0.228919</td>\n",
       "      <td>0.147721</td>\n",
       "      <td>0.242520</td>\n",
       "      <td>0.234644</td>\n",
       "      <td>0.217080</td>\n",
       "      <td>0.164286</td>\n",
       "      <td>0.262573</td>\n",
       "      <td>0.421242</td>\n",
       "      <td>0.381176</td>\n",
       "      <td>...</td>\n",
       "      <td>0.234909</td>\n",
       "      <td>0.231138</td>\n",
       "      <td>0.217552</td>\n",
       "      <td>0.446965</td>\n",
       "      <td>0.589172</td>\n",
       "      <td>0.539174</td>\n",
       "      <td>0.524083</td>\n",
       "      <td>0.693423</td>\n",
       "      <td>2.000000</td>\n",
       "      <td>2.000000</td>\n",
       "    </tr>\n",
       "    <tr>\n",
       "      <th>50%</th>\n",
       "      <td>0.408012</td>\n",
       "      <td>0.382922</td>\n",
       "      <td>0.307535</td>\n",
       "      <td>0.350371</td>\n",
       "      <td>0.332773</td>\n",
       "      <td>0.341496</td>\n",
       "      <td>0.303021</td>\n",
       "      <td>0.369695</td>\n",
       "      <td>0.534032</td>\n",
       "      <td>0.528937</td>\n",
       "      <td>...</td>\n",
       "      <td>0.348165</td>\n",
       "      <td>0.340175</td>\n",
       "      <td>0.324434</td>\n",
       "      <td>0.544235</td>\n",
       "      <td>0.718364</td>\n",
       "      <td>0.665807</td>\n",
       "      <td>0.653711</td>\n",
       "      <td>0.801951</td>\n",
       "      <td>4.500000</td>\n",
       "      <td>4.000000</td>\n",
       "    </tr>\n",
       "    <tr>\n",
       "      <th>75%</th>\n",
       "      <td>0.579507</td>\n",
       "      <td>0.555896</td>\n",
       "      <td>0.494863</td>\n",
       "      <td>0.476115</td>\n",
       "      <td>0.447602</td>\n",
       "      <td>0.490731</td>\n",
       "      <td>0.459659</td>\n",
       "      <td>0.495181</td>\n",
       "      <td>0.661072</td>\n",
       "      <td>0.692169</td>\n",
       "      <td>...</td>\n",
       "      <td>0.462126</td>\n",
       "      <td>0.463886</td>\n",
       "      <td>0.454750</td>\n",
       "      <td>0.660576</td>\n",
       "      <td>0.871595</td>\n",
       "      <td>0.816803</td>\n",
       "      <td>0.810049</td>\n",
       "      <td>0.932977</td>\n",
       "      <td>7.000000</td>\n",
       "      <td>7.000000</td>\n",
       "    </tr>\n",
       "    <tr>\n",
       "      <th>max</th>\n",
       "      <td>1.311494</td>\n",
       "      <td>1.777876</td>\n",
       "      <td>1.403263</td>\n",
       "      <td>1.384143</td>\n",
       "      <td>1.533438</td>\n",
       "      <td>2.632418</td>\n",
       "      <td>2.300130</td>\n",
       "      <td>1.783075</td>\n",
       "      <td>1.580732</td>\n",
       "      <td>1.933300</td>\n",
       "      <td>...</td>\n",
       "      <td>1.166120</td>\n",
       "      <td>1.197141</td>\n",
       "      <td>1.279142</td>\n",
       "      <td>1.558549</td>\n",
       "      <td>1.899446</td>\n",
       "      <td>1.801114</td>\n",
       "      <td>1.843321</td>\n",
       "      <td>1.781804</td>\n",
       "      <td>9.000000</td>\n",
       "      <td>9.000000</td>\n",
       "    </tr>\n",
       "  </tbody>\n",
       "</table>\n",
       "<p>8 rows × 322 columns</p>\n",
       "</div>"
      ],
      "text/plain": [
       "                  0             1             2             3             4  \\\n",
       "count  10000.000000  10000.000000  10000.000000  10000.000000  10000.000000   \n",
       "mean       0.427663      0.405293      0.337779      0.364387      0.349651   \n",
       "std        0.232181      0.237533      0.241078      0.174166      0.165566   \n",
       "min        0.000000      0.000000      0.000000      0.000000      0.000000   \n",
       "25%        0.258664      0.228919      0.147721      0.242520      0.234644   \n",
       "50%        0.408012      0.382922      0.307535      0.350371      0.332773   \n",
       "75%        0.579507      0.555896      0.494863      0.476115      0.447602   \n",
       "max        1.311494      1.777876      1.403263      1.384143      1.533438   \n",
       "\n",
       "                  5             6             7             8             9  \\\n",
       "count  10000.000000  10000.000000  10000.000000  10000.000000  10000.000000   \n",
       "mean       0.365740      0.328424      0.387479      0.549681      0.548449   \n",
       "std        0.209575      0.217668      0.178798      0.189887      0.238187   \n",
       "min        0.000000      0.000000      0.000000      0.000000      0.000000   \n",
       "25%        0.217080      0.164286      0.262573      0.421242      0.381176   \n",
       "50%        0.341496      0.303021      0.369695      0.534032      0.528937   \n",
       "75%        0.490731      0.459659      0.495181      0.661072      0.692169   \n",
       "max        2.632418      2.300130      1.783075      1.580732      1.933300   \n",
       "\n",
       "           ...                312           313           314           315  \\\n",
       "count      ...       10000.000000  10000.000000  10000.000000  10000.000000   \n",
       "mean       ...           0.352891      0.354300      0.346112      0.563764   \n",
       "std        ...           0.172539      0.181832      0.186240      0.169071   \n",
       "min        ...           0.000000      0.000000      0.000000      0.000000   \n",
       "25%        ...           0.234909      0.231138      0.217552      0.446965   \n",
       "50%        ...           0.348165      0.340175      0.324434      0.544235   \n",
       "75%        ...           0.462126      0.463886      0.454750      0.660576   \n",
       "max        ...           1.166120      1.197141      1.279142      1.558549   \n",
       "\n",
       "                316           317           318           319         Label  \\\n",
       "count  10000.000000  10000.000000  10000.000000  10000.000000  10000.000000   \n",
       "mean       0.740324      0.690437      0.679684      0.823218      4.500000   \n",
       "std        0.231417      0.223451      0.232479      0.192497      2.872425   \n",
       "min        0.000000      0.000000      0.000000      0.000000      0.000000   \n",
       "25%        0.589172      0.539174      0.524083      0.693423      2.000000   \n",
       "50%        0.718364      0.665807      0.653711      0.801951      4.500000   \n",
       "75%        0.871595      0.816803      0.810049      0.932977      7.000000   \n",
       "max        1.899446      1.801114      1.843321      1.781804      9.000000   \n",
       "\n",
       "            Cluster  \n",
       "count  10000.000000  \n",
       "mean       4.502200  \n",
       "std        2.877468  \n",
       "min        0.000000  \n",
       "25%        2.000000  \n",
       "50%        4.000000  \n",
       "75%        7.000000  \n",
       "max        9.000000  \n",
       "\n",
       "[8 rows x 322 columns]"
      ]
     },
     "execution_count": 62,
     "metadata": {},
     "output_type": "execute_result"
    }
   ],
   "source": [
    "test_df.describe()"
   ]
  },
  {
   "cell_type": "code",
   "execution_count": 63,
   "metadata": {
    "collapsed": false
   },
   "outputs": [
    {
     "data": {
      "text/html": [
       "<div>\n",
       "<table border=\"1\" class=\"dataframe\">\n",
       "  <thead>\n",
       "    <tr style=\"text-align: right;\">\n",
       "      <th></th>\n",
       "      <th>0</th>\n",
       "      <th>1</th>\n",
       "      <th>2</th>\n",
       "      <th>3</th>\n",
       "      <th>4</th>\n",
       "      <th>5</th>\n",
       "      <th>6</th>\n",
       "      <th>7</th>\n",
       "      <th>8</th>\n",
       "      <th>9</th>\n",
       "      <th>...</th>\n",
       "      <th>311</th>\n",
       "      <th>312</th>\n",
       "      <th>313</th>\n",
       "      <th>314</th>\n",
       "      <th>315</th>\n",
       "      <th>316</th>\n",
       "      <th>317</th>\n",
       "      <th>318</th>\n",
       "      <th>319</th>\n",
       "      <th>Label</th>\n",
       "    </tr>\n",
       "    <tr>\n",
       "      <th>Cluster</th>\n",
       "      <th></th>\n",
       "      <th></th>\n",
       "      <th></th>\n",
       "      <th></th>\n",
       "      <th></th>\n",
       "      <th></th>\n",
       "      <th></th>\n",
       "      <th></th>\n",
       "      <th></th>\n",
       "      <th></th>\n",
       "      <th></th>\n",
       "      <th></th>\n",
       "      <th></th>\n",
       "      <th></th>\n",
       "      <th></th>\n",
       "      <th></th>\n",
       "      <th></th>\n",
       "      <th></th>\n",
       "      <th></th>\n",
       "      <th></th>\n",
       "      <th></th>\n",
       "    </tr>\n",
       "  </thead>\n",
       "  <tbody>\n",
       "    <tr>\n",
       "      <th>0</th>\n",
       "      <td>705</td>\n",
       "      <td>705</td>\n",
       "      <td>705</td>\n",
       "      <td>705</td>\n",
       "      <td>705</td>\n",
       "      <td>705</td>\n",
       "      <td>705</td>\n",
       "      <td>705</td>\n",
       "      <td>705</td>\n",
       "      <td>705</td>\n",
       "      <td>...</td>\n",
       "      <td>705</td>\n",
       "      <td>705</td>\n",
       "      <td>705</td>\n",
       "      <td>705</td>\n",
       "      <td>705</td>\n",
       "      <td>705</td>\n",
       "      <td>705</td>\n",
       "      <td>705</td>\n",
       "      <td>705</td>\n",
       "      <td>705</td>\n",
       "    </tr>\n",
       "    <tr>\n",
       "      <th>1</th>\n",
       "      <td>1003</td>\n",
       "      <td>1003</td>\n",
       "      <td>1003</td>\n",
       "      <td>1003</td>\n",
       "      <td>1003</td>\n",
       "      <td>1003</td>\n",
       "      <td>1003</td>\n",
       "      <td>1003</td>\n",
       "      <td>1003</td>\n",
       "      <td>1003</td>\n",
       "      <td>...</td>\n",
       "      <td>1003</td>\n",
       "      <td>1003</td>\n",
       "      <td>1003</td>\n",
       "      <td>1003</td>\n",
       "      <td>1003</td>\n",
       "      <td>1003</td>\n",
       "      <td>1003</td>\n",
       "      <td>1003</td>\n",
       "      <td>1003</td>\n",
       "      <td>1003</td>\n",
       "    </tr>\n",
       "    <tr>\n",
       "      <th>2</th>\n",
       "      <td>1809</td>\n",
       "      <td>1809</td>\n",
       "      <td>1809</td>\n",
       "      <td>1809</td>\n",
       "      <td>1809</td>\n",
       "      <td>1809</td>\n",
       "      <td>1809</td>\n",
       "      <td>1809</td>\n",
       "      <td>1809</td>\n",
       "      <td>1809</td>\n",
       "      <td>...</td>\n",
       "      <td>1809</td>\n",
       "      <td>1809</td>\n",
       "      <td>1809</td>\n",
       "      <td>1809</td>\n",
       "      <td>1809</td>\n",
       "      <td>1809</td>\n",
       "      <td>1809</td>\n",
       "      <td>1809</td>\n",
       "      <td>1809</td>\n",
       "      <td>1809</td>\n",
       "    </tr>\n",
       "    <tr>\n",
       "      <th>3</th>\n",
       "      <td>671</td>\n",
       "      <td>671</td>\n",
       "      <td>671</td>\n",
       "      <td>671</td>\n",
       "      <td>671</td>\n",
       "      <td>671</td>\n",
       "      <td>671</td>\n",
       "      <td>671</td>\n",
       "      <td>671</td>\n",
       "      <td>671</td>\n",
       "      <td>...</td>\n",
       "      <td>671</td>\n",
       "      <td>671</td>\n",
       "      <td>671</td>\n",
       "      <td>671</td>\n",
       "      <td>671</td>\n",
       "      <td>671</td>\n",
       "      <td>671</td>\n",
       "      <td>671</td>\n",
       "      <td>671</td>\n",
       "      <td>671</td>\n",
       "    </tr>\n",
       "    <tr>\n",
       "      <th>4</th>\n",
       "      <td>937</td>\n",
       "      <td>937</td>\n",
       "      <td>937</td>\n",
       "      <td>937</td>\n",
       "      <td>937</td>\n",
       "      <td>937</td>\n",
       "      <td>937</td>\n",
       "      <td>937</td>\n",
       "      <td>937</td>\n",
       "      <td>937</td>\n",
       "      <td>...</td>\n",
       "      <td>937</td>\n",
       "      <td>937</td>\n",
       "      <td>937</td>\n",
       "      <td>937</td>\n",
       "      <td>937</td>\n",
       "      <td>937</td>\n",
       "      <td>937</td>\n",
       "      <td>937</td>\n",
       "      <td>937</td>\n",
       "      <td>937</td>\n",
       "    </tr>\n",
       "    <tr>\n",
       "      <th>5</th>\n",
       "      <td>949</td>\n",
       "      <td>949</td>\n",
       "      <td>949</td>\n",
       "      <td>949</td>\n",
       "      <td>949</td>\n",
       "      <td>949</td>\n",
       "      <td>949</td>\n",
       "      <td>949</td>\n",
       "      <td>949</td>\n",
       "      <td>949</td>\n",
       "      <td>...</td>\n",
       "      <td>949</td>\n",
       "      <td>949</td>\n",
       "      <td>949</td>\n",
       "      <td>949</td>\n",
       "      <td>949</td>\n",
       "      <td>949</td>\n",
       "      <td>949</td>\n",
       "      <td>949</td>\n",
       "      <td>949</td>\n",
       "      <td>949</td>\n",
       "    </tr>\n",
       "    <tr>\n",
       "      <th>6</th>\n",
       "      <td>967</td>\n",
       "      <td>967</td>\n",
       "      <td>967</td>\n",
       "      <td>967</td>\n",
       "      <td>967</td>\n",
       "      <td>967</td>\n",
       "      <td>967</td>\n",
       "      <td>967</td>\n",
       "      <td>967</td>\n",
       "      <td>967</td>\n",
       "      <td>...</td>\n",
       "      <td>967</td>\n",
       "      <td>967</td>\n",
       "      <td>967</td>\n",
       "      <td>967</td>\n",
       "      <td>967</td>\n",
       "      <td>967</td>\n",
       "      <td>967</td>\n",
       "      <td>967</td>\n",
       "      <td>967</td>\n",
       "      <td>967</td>\n",
       "    </tr>\n",
       "    <tr>\n",
       "      <th>7</th>\n",
       "      <td>574</td>\n",
       "      <td>574</td>\n",
       "      <td>574</td>\n",
       "      <td>574</td>\n",
       "      <td>574</td>\n",
       "      <td>574</td>\n",
       "      <td>574</td>\n",
       "      <td>574</td>\n",
       "      <td>574</td>\n",
       "      <td>574</td>\n",
       "      <td>...</td>\n",
       "      <td>574</td>\n",
       "      <td>574</td>\n",
       "      <td>574</td>\n",
       "      <td>574</td>\n",
       "      <td>574</td>\n",
       "      <td>574</td>\n",
       "      <td>574</td>\n",
       "      <td>574</td>\n",
       "      <td>574</td>\n",
       "      <td>574</td>\n",
       "    </tr>\n",
       "    <tr>\n",
       "      <th>8</th>\n",
       "      <td>1390</td>\n",
       "      <td>1390</td>\n",
       "      <td>1390</td>\n",
       "      <td>1390</td>\n",
       "      <td>1390</td>\n",
       "      <td>1390</td>\n",
       "      <td>1390</td>\n",
       "      <td>1390</td>\n",
       "      <td>1390</td>\n",
       "      <td>1390</td>\n",
       "      <td>...</td>\n",
       "      <td>1390</td>\n",
       "      <td>1390</td>\n",
       "      <td>1390</td>\n",
       "      <td>1390</td>\n",
       "      <td>1390</td>\n",
       "      <td>1390</td>\n",
       "      <td>1390</td>\n",
       "      <td>1390</td>\n",
       "      <td>1390</td>\n",
       "      <td>1390</td>\n",
       "    </tr>\n",
       "    <tr>\n",
       "      <th>9</th>\n",
       "      <td>995</td>\n",
       "      <td>995</td>\n",
       "      <td>995</td>\n",
       "      <td>995</td>\n",
       "      <td>995</td>\n",
       "      <td>995</td>\n",
       "      <td>995</td>\n",
       "      <td>995</td>\n",
       "      <td>995</td>\n",
       "      <td>995</td>\n",
       "      <td>...</td>\n",
       "      <td>995</td>\n",
       "      <td>995</td>\n",
       "      <td>995</td>\n",
       "      <td>995</td>\n",
       "      <td>995</td>\n",
       "      <td>995</td>\n",
       "      <td>995</td>\n",
       "      <td>995</td>\n",
       "      <td>995</td>\n",
       "      <td>995</td>\n",
       "    </tr>\n",
       "  </tbody>\n",
       "</table>\n",
       "<p>10 rows × 321 columns</p>\n",
       "</div>"
      ],
      "text/plain": [
       "            0     1     2     3     4     5     6     7     8     9  ...    \\\n",
       "Cluster                                                              ...     \n",
       "0         705   705   705   705   705   705   705   705   705   705  ...     \n",
       "1        1003  1003  1003  1003  1003  1003  1003  1003  1003  1003  ...     \n",
       "2        1809  1809  1809  1809  1809  1809  1809  1809  1809  1809  ...     \n",
       "3         671   671   671   671   671   671   671   671   671   671  ...     \n",
       "4         937   937   937   937   937   937   937   937   937   937  ...     \n",
       "5         949   949   949   949   949   949   949   949   949   949  ...     \n",
       "6         967   967   967   967   967   967   967   967   967   967  ...     \n",
       "7         574   574   574   574   574   574   574   574   574   574  ...     \n",
       "8        1390  1390  1390  1390  1390  1390  1390  1390  1390  1390  ...     \n",
       "9         995   995   995   995   995   995   995   995   995   995  ...     \n",
       "\n",
       "          311   312   313   314   315   316   317   318   319  Label  \n",
       "Cluster                                                               \n",
       "0         705   705   705   705   705   705   705   705   705    705  \n",
       "1        1003  1003  1003  1003  1003  1003  1003  1003  1003   1003  \n",
       "2        1809  1809  1809  1809  1809  1809  1809  1809  1809   1809  \n",
       "3         671   671   671   671   671   671   671   671   671    671  \n",
       "4         937   937   937   937   937   937   937   937   937    937  \n",
       "5         949   949   949   949   949   949   949   949   949    949  \n",
       "6         967   967   967   967   967   967   967   967   967    967  \n",
       "7         574   574   574   574   574   574   574   574   574    574  \n",
       "8        1390  1390  1390  1390  1390  1390  1390  1390  1390   1390  \n",
       "9         995   995   995   995   995   995   995   995   995    995  \n",
       "\n",
       "[10 rows x 321 columns]"
      ]
     },
     "execution_count": 63,
     "metadata": {},
     "output_type": "execute_result"
    }
   ],
   "source": [
    "test_df.groupby('Cluster').count()"
   ]
  },
  {
   "cell_type": "code",
   "execution_count": 58,
   "metadata": {
    "collapsed": false
   },
   "outputs": [
    {
     "data": {
      "text/plain": [
       "<matplotlib.text.Text at 0x7fee35319860>"
      ]
     },
     "execution_count": 58,
     "metadata": {},
     "output_type": "execute_result"
    },
    {
     "data": {
      "image/png": "[encoded data removed]",
      "text/plain": [
       "<matplotlib.figure.Figure at 0x7fee3530c9e8>"
      ]
     },
     "metadata": {},
     "output_type": "display_data"
    }
   ],
   "source": [
    "test_df_sample=test_df[0:10000]\n",
    "test_df_sample=test_df_sample[test_df_sample.Label < 3]\n",
    "\n",
    "sb.set_context(\"notebook\", font_scale=1.1)\n",
    "sb.set_style(\"ticks\")\n",
    "\n",
    "\n",
    "sb.lmplot('A','B',\n",
    "           data=test_df_sample, \n",
    "           fit_reg=False, \n",
    "           hue=\"Label\",  \n",
    "           scatter_kws={\"marker\": \"D\", \n",
    "                        \"s\": 100})\n",
    "plt.title('Histogram of IQ')\n",
    "plt.xlabel('PC#1')\n",
    "plt.ylabel('PC#2')"
   ]
  },
  {
   "cell_type": "code",
   "execution_count": 63,
   "metadata": {
    "collapsed": false
   },
   "outputs": [
    {
     "data": {
      "text/plain": [
       "<matplotlib.text.Text at 0x7fee34963ac8>"
      ]
     },
     "execution_count": 63,
     "metadata": {},
     "output_type": "execute_result"
    },
    {
     "data": {
      "image/png": "[encoded data removed]",
      "text/plain": [
       "<matplotlib.figure.Figure at 0x7fee3530c2e8>"
      ]
     },
     "metadata": {},
     "output_type": "display_data"
    }
   ],
   "source": [
    "test_df_sample=test_df[0:10000]\n",
    "test_df_sample=test_df_sample[test_df_sample.Cluster < 10]\n",
    "\n",
    "sb.set_context(\"notebook\", font_scale=1.1)\n",
    "sb.set_style(\"ticks\")\n",
    "\n",
    "\n",
    "sb.lmplot('A','B',\n",
    "           data=test_df_sample, \n",
    "           fit_reg=False, \n",
    "           hue=\"Cluster\",  \n",
    "           scatter_kws={\"marker\": \"D\", \n",
    "                        \"s\": 100})\n",
    "plt.title('Histogram of IQ')\n",
    "plt.xlabel('PC#1')\n",
    "plt.ylabel('PC#2')"
   ]
  },
  {
   "cell_type": "code",
   "execution_count": 120,
   "metadata": {
    "collapsed": false
   },
   "outputs": [
    {
     "data": {
      "image/png": "[encoded data removed]",
      "text/plain": [
       "<matplotlib.figure.Figure at 0x7f551ca526d8>"
      ]
     },
     "metadata": {},
     "output_type": "display_data"
    }
   ],
   "source": [
    "cmap = sb.cubehelix_palette(as_cmap=True, rot=-.3, light=1)\n",
    "g = sb.clustermap(test_df[0:2], cmap=cmap, linewidths=.5)"
   ]
  },
  {
   "cell_type": "code",
   "execution_count": 74,
   "metadata": {
    "collapsed": true
   },
   "outputs": [],
   "source": [
    "reduced_train_data = reduced_train_data[0:501,]"
   ]
  },
  {
   "cell_type": "code",
   "execution_count": 75,
   "metadata": {
    "collapsed": false
   },
   "outputs": [
    {
     "data": {
      "text/plain": [
       "(501, 2)"
      ]
     },
     "execution_count": 75,
     "metadata": {},
     "output_type": "execute_result"
    }
   ],
   "source": [
    "reduced_train_data.shape"
   ]
  },
  {
   "cell_type": "code",
   "execution_count": 76,
   "metadata": {
    "collapsed": false
   },
   "outputs": [
    {
     "data": {
      "image/png": "[encoded data removed]",
      "text/plain": [
       "<matplotlib.figure.Figure at 0x7f551d08b9e8>"
      ]
     },
     "metadata": {},
     "output_type": "display_data"
    }
   ],
   "source": [
    "# Step size of the mesh. Decrease to increase the quality of the VQ.\n",
    "h = .05    # point in the mesh [x_min, x_max]x[y_min, y_max].\n",
    "\n",
    "# Plot the decision boundary. For that, we will assign a color to each\n",
    "x_min, x_max = reduced_train_data[:, 0].min() - 1, reduced_train_data[:, 0].max() + 1\n",
    "y_min, y_max = reduced_train_data[:, 1].min() - 1, reduced_train_data[:, 1].max() + 1\n",
    "xx, yy = np.meshgrid(np.arange(x_min, x_max, h), np.arange(y_min, y_max, h))\n",
    "\n",
    "# Obtain labels for each point in mesh. Use last trained model.\n",
    "Z = kmeans.predict(np.c_[xx.ravel(), yy.ravel()])\n",
    "\n",
    "# Put the result into a color plot\n",
    "Z = Z.reshape(xx.shape)\n",
    "plt.figure(1)\n",
    "plt.clf()\n",
    "plt.imshow(Z, interpolation='nearest',\n",
    "           extent=(xx.min(), xx.max(), yy.min(), yy.max()),\n",
    "           cmap=plt.cm.Paired,\n",
    "           aspect='auto', origin='lower')\n",
    "\n",
    "plt.plot(reduced_train_data[:, 0], reduced_train_data[:, 1], 'k.', markersize=7)\n",
    "# Plot the centroids as a white X\n",
    "centroids = kmeans.cluster_centers_\n",
    "plt.scatter(centroids[:, 0], centroids[:, 1],\n",
    "            marker='x', s=169, linewidths=3,\n",
    "            color='w', zorder=10)\n",
    "plt.title('K-means clustering on the dataset (PCA-reduced data)\\n'\n",
    "          'Centroids are marked with white cross')\n",
    "plt.xlim(x_min, x_max)\n",
    "plt.ylim(y_min, y_max)\n",
    "plt.xticks(())\n",
    "plt.yticks(())\n",
    "plt.show()"
   ]
  },
  {
   "cell_type": "code",
   "execution_count": null,
   "metadata": {
    "collapsed": true
   },
   "outputs": [],
   "source": [
    "raw_data['Cluster_Label'] = kmeans.labels_"
   ]
  }
 ],
 "metadata": {
  "kernelspec": {
   "display_name": "Python 3",
   "language": "python",
   "name": "python3"
  },
  "language_info": {
   "codemirror_mode": {
    "name": "ipython",
    "version": 3
   },
   "file_extension": ".py",
   "mimetype": "text/x-python",
   "name": "python",
   "nbconvert_exporter": "python",
   "pygments_lexer": "ipython3",
   "version": "3.5.2"
  }
 },
 "nbformat": 4,
 "nbformat_minor": 0
}
