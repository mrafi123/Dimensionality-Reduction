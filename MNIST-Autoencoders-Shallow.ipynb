{
 "cells": [
  {
   "cell_type": "code",
   "execution_count": 1,
   "metadata": {
    "collapsed": false,
    "scrolled": true
   },
   "outputs": [
    {
     "name": "stderr",
     "output_type": "stream",
     "text": [
      "Using gpu device 0: GeForce 920M (CNMeM is disabled, cuDNN not available)\n",
      "Using Theano backend.\n"
     ]
    }
   ],
   "source": [
    "import os    \n",
    "#os.environ['THEANO_FLAGS'] = \"device=gpu1\"  \n",
    "#os.environ[\"THEANO_FLAGS\"] = \"mode=FAST_RUN,device=gpu0,floatX=float32,lib.cnmem=1\"\n",
    "os.environ[\"THEANO_FLAGS\"] = \"mode=FAST_RUN,device=gpu0,floatX=float32\"\n",
    "import theano\n",
    "\n",
    "from keras.layers import Input, Dense\n",
    "from keras.models import Model\n",
    "from keras.optimizers import *\n",
    "\n",
    "from sklearn.cross_validation import train_test_split\n",
    "\n",
    "%matplotlib inline\n",
    "\n",
    "# this is the size of our encoded representations\n",
    "#encoding_dim = 32  # 32 floats -> compression of factor 24.5, assuming the input is 784 floats\n",
    "#encoding_dim = 3\n",
    "encoding_dim = 40\n",
    "\n",
    "\n",
    "# this is our input placeholder\n",
    "input_img = Input(shape=(784,))\n",
    "\n",
    "# \"encoded\" is the encoded representation of the input\n",
    "# Just a single hidden layer fully connected shallow network architecture\n",
    "encoded = Dense(324, activation='relu')(input_img)  #18X18\n",
    "\n",
    "\n",
    "encoded = Dense(encoding_dim, activation='relu')(encoded)\n",
    "\n",
    "# \"decoded\" is the lossy reconstruction of the input\n",
    "\n",
    "decoded = Dense(784, activation='sigmoid')(encoded)\n",
    "\n",
    "# this model maps an input to its reconstruction\n",
    "autoencoder = Model(input=input_img, output=decoded)\n"
   ]
  },
  {
   "cell_type": "code",
   "execution_count": 2,
   "metadata": {
    "collapsed": false
   },
   "outputs": [
    {
     "name": "stdout",
     "output_type": "stream",
     "text": [
      "40\n",
      "input_1\n",
      "Elemwise{mul,no_inplace}.0\n",
      "sigmoid.0\n",
      "<keras.engine.training.Model object at 0x7f3bd4e16da0>\n"
     ]
    }
   ],
   "source": [
    "print (encoding_dim)\n",
    "print (input_img)\n",
    "print (encoded)\n",
    "print (decoded)\n",
    "print (autoencoder)"
   ]
  },
  {
   "cell_type": "code",
   "execution_count": 3,
   "metadata": {
    "collapsed": true,
    "scrolled": true
   },
   "outputs": [],
   "source": [
    "# this model maps an input to its encoded representation\n",
    "encoder = Model(input=input_img, output=encoded)"
   ]
  },
  {
   "cell_type": "code",
   "execution_count": 4,
   "metadata": {
    "collapsed": false
   },
   "outputs": [
    {
     "name": "stdout",
     "output_type": "stream",
     "text": [
      "<keras.engine.training.Model object at 0x7f3c1043c668>\n"
     ]
    }
   ],
   "source": [
    "print (encoder)"
   ]
  },
  {
   "cell_type": "code",
   "execution_count": 5,
   "metadata": {
    "collapsed": false,
    "scrolled": true
   },
   "outputs": [],
   "source": [
    "# create a placeholder for an encoded (32-dimensional) input\n",
    "encoded_input = Input(shape=(encoding_dim,))\n",
    "# retrieve the last layer of the autoencoder model\n",
    "decoder_layer = autoencoder.layers[-1]\n",
    "# create the decoder model\n",
    "decoder = Model(input=encoded_input, output=decoder_layer(encoded_input))"
   ]
  },
  {
   "cell_type": "code",
   "execution_count": 6,
   "metadata": {
    "collapsed": false
   },
   "outputs": [
    {
     "name": "stdout",
     "output_type": "stream",
     "text": [
      "input_2\n",
      "<keras.layers.core.Dense object at 0x7f3bd4e5c7f0>\n",
      "<keras.engine.training.Model object at 0x7f3bd4e5cf60>\n"
     ]
    }
   ],
   "source": [
    "print (encoded_input)\n",
    "print (decoder_layer)\n",
    "print (decoder)"
   ]
  },
  {
   "cell_type": "code",
   "execution_count": 7,
   "metadata": {
    "collapsed": false,
    "scrolled": true
   },
   "outputs": [],
   "source": [
    "autoencoder.compile(optimizer=Adam(lr=1e-3), loss='categorical_crossentropy')"
   ]
  },
  {
   "cell_type": "code",
   "execution_count": 8,
   "metadata": {
    "collapsed": false,
    "scrolled": true
   },
   "outputs": [],
   "source": [
    "from keras.datasets import mnist\n",
    "import numpy as np\n",
    "(x_train, y_train), (x_test, y_test) = mnist.load_data()"
   ]
  },
  {
   "cell_type": "code",
   "execution_count": 9,
   "metadata": {
    "collapsed": false,
    "scrolled": true
   },
   "outputs": [
    {
     "name": "stdout",
     "output_type": "stream",
     "text": [
      "(60000, 784)\n",
      "(10000, 784)\n"
     ]
    }
   ],
   "source": [
    "x_train = x_train.astype('float32') / 255.\n",
    "x_test = x_test.astype('float32') / 255.\n",
    "x_train = x_train.reshape((len(x_train), np.prod(x_train.shape[1:])))\n",
    "x_test = x_test.reshape((len(x_test), np.prod(x_test.shape[1:])))\n",
    "print (x_train.shape)\n",
    "print (x_test.shape)"
   ]
  },
  {
   "cell_type": "code",
   "execution_count": 10,
   "metadata": {
    "collapsed": true
   },
   "outputs": [],
   "source": [
    "s_train, s_valid = train_test_split(x_train, test_size=0.3)"
   ]
  },
  {
   "cell_type": "code",
   "execution_count": 11,
   "metadata": {
    "collapsed": false,
    "scrolled": false
   },
   "outputs": [
    {
     "name": "stdout",
     "output_type": "stream",
     "text": [
      "Train on 42000 samples, validate on 18000 samples\n",
      "Epoch 1/50\n",
      "42000/42000 [==============================] - 2s - loss: 588.0409 - val_loss: 562.8471\n",
      "Epoch 2/50\n",
      "42000/42000 [==============================] - 2s - loss: 552.0197 - val_loss: 546.1696\n",
      "Epoch 3/50\n",
      "42000/42000 [==============================] - 2s - loss: 538.4479 - val_loss: 535.2748\n",
      "Epoch 4/50\n",
      "42000/42000 [==============================] - 2s - loss: 528.9001 - val_loss: 527.7021\n",
      "Epoch 5/50\n",
      "42000/42000 [==============================] - 2s - loss: 523.8319 - val_loss: 524.4603\n",
      "Epoch 6/50\n",
      "42000/42000 [==============================] - 2s - loss: 521.1793 - val_loss: 522.3431\n",
      "Epoch 7/50\n",
      "42000/42000 [==============================] - 2s - loss: 519.4144 - val_loss: 521.2448\n",
      "Epoch 8/50\n",
      "42000/42000 [==============================] - 2s - loss: 518.3813 - val_loss: 520.3871\n",
      "Epoch 9/50\n",
      "42000/42000 [==============================] - 2s - loss: 517.5515 - val_loss: 519.3937\n",
      "Epoch 10/50\n",
      "42000/42000 [==============================] - 2s - loss: 516.6966 - val_loss: 518.6826\n",
      "Epoch 11/50\n",
      "42000/42000 [==============================] - 2s - loss: 515.9301 - val_loss: 518.1108\n",
      "Epoch 12/50\n",
      "42000/42000 [==============================] - 2s - loss: 515.5319 - val_loss: 517.7867\n",
      "Epoch 13/50\n",
      "42000/42000 [==============================] - 2s - loss: 515.2271 - val_loss: 517.5361\n",
      "Epoch 14/50\n",
      "42000/42000 [==============================] - 2s - loss: 514.9735 - val_loss: 517.2346\n",
      "Epoch 15/50\n",
      "42000/42000 [==============================] - 2s - loss: 514.7402 - val_loss: 517.1858\n",
      "Epoch 16/50\n",
      "42000/42000 [==============================] - 2s - loss: 514.5692 - val_loss: 517.0033\n",
      "Epoch 17/50\n",
      "42000/42000 [==============================] - 2s - loss: 514.3728 - val_loss: 516.7187\n",
      "Epoch 18/50\n",
      "42000/42000 [==============================] - 2s - loss: 514.2205 - val_loss: 516.6164\n",
      "Epoch 19/50\n",
      "42000/42000 [==============================] - 2s - loss: 514.0657 - val_loss: 516.4736\n",
      "Epoch 20/50\n",
      "42000/42000 [==============================] - 2s - loss: 513.9288 - val_loss: 516.3737\n",
      "Epoch 21/50\n",
      "42000/42000 [==============================] - 2s - loss: 513.7968 - val_loss: 516.3636\n",
      "Epoch 22/50\n",
      "42000/42000 [==============================] - 2s - loss: 513.6849 - val_loss: 516.1447\n",
      "Epoch 23/50\n",
      "42000/42000 [==============================] - 2s - loss: 513.5660 - val_loss: 516.0807\n",
      "Epoch 24/50\n",
      "42000/42000 [==============================] - 2s - loss: 513.4616 - val_loss: 515.9078\n",
      "Epoch 25/50\n",
      "42000/42000 [==============================] - 2s - loss: 513.3621 - val_loss: 515.8548\n",
      "Epoch 26/50\n",
      "42000/42000 [==============================] - 2s - loss: 513.2554 - val_loss: 515.7701\n",
      "Epoch 27/50\n",
      "42000/42000 [==============================] - 2s - loss: 513.1714 - val_loss: 515.6620\n",
      "Epoch 28/50\n",
      "42000/42000 [==============================] - 2s - loss: 513.0723 - val_loss: 515.5700\n",
      "Epoch 29/50\n",
      "42000/42000 [==============================] - 2s - loss: 512.9923 - val_loss: 515.5472\n",
      "Epoch 30/50\n",
      "42000/42000 [==============================] - 2s - loss: 512.9245 - val_loss: 515.4316\n",
      "Epoch 31/50\n",
      "42000/42000 [==============================] - 2s - loss: 512.8510 - val_loss: 515.3909\n",
      "Epoch 32/50\n",
      "42000/42000 [==============================] - 2s - loss: 512.7769 - val_loss: 515.2775\n",
      "Epoch 33/50\n",
      "42000/42000 [==============================] - 2s - loss: 512.7073 - val_loss: 515.2726\n",
      "Epoch 34/50\n",
      "42000/42000 [==============================] - 2s - loss: 512.6496 - val_loss: 515.1500\n",
      "Epoch 35/50\n",
      "42000/42000 [==============================] - 2s - loss: 512.5918 - val_loss: 515.1333\n",
      "Epoch 36/50\n",
      "42000/42000 [==============================] - 2s - loss: 512.5224 - val_loss: 515.0743\n",
      "Epoch 37/50\n",
      "42000/42000 [==============================] - 2s - loss: 512.4795 - val_loss: 515.0831\n",
      "Epoch 38/50\n",
      "42000/42000 [==============================] - 2s - loss: 512.4434 - val_loss: 514.9526\n",
      "Epoch 39/50\n",
      "42000/42000 [==============================] - 2s - loss: 512.3831 - val_loss: 514.9103\n",
      "Epoch 40/50\n",
      "42000/42000 [==============================] - 2s - loss: 512.3370 - val_loss: 514.9685\n",
      "Epoch 41/50\n",
      "42000/42000 [==============================] - 2s - loss: 512.2881 - val_loss: 514.9646\n",
      "Epoch 42/50\n",
      "42000/42000 [==============================] - 2s - loss: 512.2340 - val_loss: 514.8045\n",
      "Epoch 43/50\n",
      "42000/42000 [==============================] - 2s - loss: 512.1944 - val_loss: 514.7717\n",
      "Epoch 44/50\n",
      "42000/42000 [==============================] - 2s - loss: 512.1407 - val_loss: 514.3392\n",
      "Epoch 45/50\n",
      "42000/42000 [==============================] - 2s - loss: 511.6612 - val_loss: 514.2226\n",
      "Epoch 46/50\n",
      "42000/42000 [==============================] - 2s - loss: 511.6102 - val_loss: 514.1671\n",
      "Epoch 47/50\n",
      "42000/42000 [==============================] - 2s - loss: 511.5733 - val_loss: 514.1089\n",
      "Epoch 48/50\n",
      "42000/42000 [==============================] - 2s - loss: 511.5182 - val_loss: 514.1663\n",
      "Epoch 49/50\n",
      "42000/42000 [==============================] - 2s - loss: 511.4924 - val_loss: 514.1653\n",
      "Epoch 50/50\n",
      "42000/42000 [==============================] - 2s - loss: 511.4686 - val_loss: 514.0463\n"
     ]
    },
    {
     "data": {
      "text/plain": [
       "<keras.callbacks.History at 0x7f3bb6449ac8>"
      ]
     },
     "execution_count": 11,
     "metadata": {},
     "output_type": "execute_result"
    }
   ],
   "source": [
    "autoencoder.fit(s_train, s_train,\n",
    "                nb_epoch=50,\n",
    "                batch_size=256,\n",
    "                shuffle=True,\n",
    "                validation_data=(s_valid, s_valid))"
   ]
  },
  {
   "cell_type": "code",
   "execution_count": 12,
   "metadata": {
    "collapsed": false,
    "scrolled": true
   },
   "outputs": [
    {
     "name": "stdout",
     "output_type": "stream",
     "text": [
      "400000\n",
      "(10000, 40)\n",
      "3200000\n",
      "7840000\n",
      "(10000, 784)\n",
      "62720000\n"
     ]
    }
   ],
   "source": [
    "# encode and decode some digits\n",
    "# note that we take them from the *test* set\n",
    "encoded_imgs = encoder.predict(x_test)\n",
    "print (encoded_imgs.size)\n",
    "print (encoded_imgs.shape)\n",
    "print (encoded_imgs.nbytes)\n",
    "\n",
    "\n",
    "decoded_imgs = decoder.predict(encoded_imgs)\n",
    "print (decoded_imgs.size)\n",
    "print (decoded_imgs.shape)\n",
    "print (decoded_imgs.nbytes)"
   ]
  },
  {
   "cell_type": "code",
   "execution_count": 13,
   "metadata": {
    "collapsed": false,
    "scrolled": true
   },
   "outputs": [
    {
     "data": {
      "image/png": "[encoded data removed]",
      "text/plain": [
       "<matplotlib.figure.Figure at 0x7f3bb63d5550>"
      ]
     },
     "metadata": {},
     "output_type": "display_data"
    }
   ],
   "source": [
    "import matplotlib.pyplot as plt\n",
    "\n",
    "n = 10  # how many digits we will display\n",
    "plt.figure(figsize=(20, 6))\n",
    "for i in range(n):\n",
    "    # display original\n",
    "    ax = plt.subplot(2, n, i + 1)\n",
    "    plt.imshow(x_test[i].reshape(28, 28))\n",
    "    plt.gray()\n",
    "    ax.get_xaxis().set_visible(False)\n",
    "    ax.get_yaxis().set_visible(False)\n",
    "\n",
    "    # display encoded\n",
    "    #ax = plt.subplot(2, n, i + 1 + n)\n",
    "    #plt.imshow(encoded_imgs[i].reshape(6, 6))\n",
    "    #plt.gray()\n",
    "    #ax.get_xaxis().set_visible(False)\n",
    "    #ax.get_yaxis().set_visible(False)\n",
    "   \n",
    "    # display reconstruction\n",
    "    ax = plt.subplot(2, n, i + 1 + n)\n",
    "    plt.imshow(decoded_imgs[i].reshape(28, 28))\n",
    "    plt.gray()\n",
    "    ax.get_xaxis().set_visible(False)\n",
    "    ax.get_yaxis().set_visible(False)\n",
    "plt.show()"
   ]
  },
  {
   "cell_type": "code",
   "execution_count": 14,
   "metadata": {
    "collapsed": false
   },
   "outputs": [
    {
     "name": "stdout",
     "output_type": "stream",
     "text": [
      "2400000\n",
      "(60000, 40)\n",
      "19200000\n"
     ]
    }
   ],
   "source": [
    "#Predict the digits using a classifier\n",
    "#Use the reduce Encoded train and test images\n",
    "encoded_train_imgs = encoder.predict(x_train)\n",
    "print (encoded_train_imgs.size)\n",
    "print (encoded_train_imgs.shape)\n",
    "print (encoded_train_imgs.nbytes)\n"
   ]
  },
  {
   "cell_type": "code",
   "execution_count": 15,
   "metadata": {
    "collapsed": false
   },
   "outputs": [
    {
     "name": "stdout",
     "output_type": "stream",
     "text": [
      "400000\n",
      "(10000, 40)\n",
      "3200000\n"
     ]
    }
   ],
   "source": [
    "encoded_test_imgs = encoder.predict(x_test)\n",
    "print (encoded_test_imgs.size)\n",
    "print (encoded_test_imgs.shape)\n",
    "print (encoded_test_imgs.nbytes)"
   ]
  },
  {
   "cell_type": "code",
   "execution_count": 16,
   "metadata": {
    "collapsed": true
   },
   "outputs": [],
   "source": [
    "from sklearn.neighbors import KNeighborsClassifier\n",
    "clf = KNeighborsClassifier()\n",
    "clf = clf.fit(encoded_train_imgs, y_train)"
   ]
  },
  {
   "cell_type": "code",
   "execution_count": 17,
   "metadata": {
    "collapsed": true
   },
   "outputs": [],
   "source": [
    "y_pred = clf.predict(encoded_test_imgs)\n"
   ]
  },
  {
   "cell_type": "code",
   "execution_count": 18,
   "metadata": {
    "collapsed": false
   },
   "outputs": [
    {
     "name": "stdout",
     "output_type": "stream",
     "text": [
      "tested  10000 digits\n",
      "correct:  9670 wrong:  330 error rate:  3.3 %\n",
      "got correctly  96.7 %\n"
     ]
    }
   ],
   "source": [
    "num=len(encoded_test_imgs)\n",
    "r=0\n",
    "w=0\n",
    "for i in range(num):\n",
    "        #print ('y_pred ',y_pred[i])\n",
    "        #print ('labels ',labels[i])\n",
    "        #without the use of all() returns error truth value of an array with more than one element is ambiguous\n",
    "        #if y_pred[i].all() == labels[i].all():\n",
    "        if np.array_equal(y_pred[i],y_test[i]):\n",
    "            r+=1\n",
    "        else:\n",
    "            w+=1\n",
    "print (\"tested \",  num, \"digits\")\n",
    "print (\"correct: \", r, \"wrong: \", w, \"error rate: \", float(w)*100/(r+w), \"%\")\n",
    "print (\"got correctly \", float(r)*100/(r+w), \"%\")\n"
   ]
  }
 ],
 "metadata": {
  "kernelspec": {
   "display_name": "Python 3",
   "language": "python",
   "name": "python3"
  },
  "language_info": {
   "codemirror_mode": {
    "name": "ipython",
    "version": 3
   },
   "file_extension": ".py",
   "mimetype": "text/x-python",
   "name": "python",
   "nbconvert_exporter": "python",
   "pygments_lexer": "ipython3",
   "version": "3.5.2"
  }
 },
 "nbformat": 4,
 "nbformat_minor": 0
}
