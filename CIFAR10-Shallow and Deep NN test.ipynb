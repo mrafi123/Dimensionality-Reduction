{
 "cells": [
  {
   "cell_type": "code",
   "execution_count": 1,
   "metadata": {
    "collapsed": false
   },
   "outputs": [
    {
     "name": "stdout",
     "output_type": "stream",
     "text": [
      "Populating the interactive namespace from numpy and matplotlib\n",
      "Couldn't import dot_parser, loading of dot files will not be possible.\n"
     ]
    },
    {
     "name": "stderr",
     "output_type": "stream",
     "text": [
      "Using gpu device 0: GeForce 920M (CNMeM is disabled, cuDNN not available)\n",
      "Using Theano backend.\n"
     ]
    }
   ],
   "source": [
    "import os    \n",
    "%pylab inline\n",
    "import numpy as np\n",
    "import pandas as pd\n",
    "from scipy.misc import imread\n",
    "from sklearn.metrics import accuracy_score\n",
    "\n",
    "#os.environ['THEANO_FLAGS'] = \"device=gpu1\"  \n",
    "#os.environ[\"THEANO_FLAGS\"] = \"mode=FAST_RUN,device=gpu0,floatX=float32,lib.cnmem=1\"\n",
    "os.environ[\"THEANO_FLAGS\"] = \"mode=FAST_RUN,device=gpu0,floatX=float32\"\n",
    "import theano\n",
    "\n",
    "from keras.layers import Input, Dense\n",
    "from keras.layers import Activation, Dropout, Convolution2D, Flatten, MaxPooling2D, Reshape, InputLayer\n",
    "from keras.models import Sequential, Model\n",
    "from keras.optimizers import *\n",
    "from keras.utils.np_utils import *\n",
    "from keras.constraints import maxnorm\n",
    "\n",
    "\n",
    "import matplotlib.pyplot as plt\n",
    "%matplotlib inline\n",
    "\n",
    "from sklearn.cross_validation import train_test_split"
   ]
  },
  {
   "cell_type": "code",
   "execution_count": 2,
   "metadata": {
    "collapsed": false
   },
   "outputs": [],
   "source": [
    "X_train=np.load('/media/mrafi123/UStore/Dimensionality-Reduction/data/CIFAR10/X_train.npy')\n",
    "X_test=np.load('/media/mrafi123/UStore/Dimensionality-Reduction/data/CIFAR10/X_test.npy')\n",
    "y_train=np.load('/media/mrafi123/UStore/Dimensionality-Reduction/data/CIFAR10/y_train.npy')\n",
    "y_test=np.load('/media/mrafi123/UStore/Dimensionality-Reduction/data/CIFAR10/y_test.npy')"
   ]
  },
  {
   "cell_type": "code",
   "execution_count": 3,
   "metadata": {
    "collapsed": false
   },
   "outputs": [
    {
     "name": "stdout",
     "output_type": "stream",
     "text": [
      "(50000, 32, 32, 3)\n",
      "(50000,)\n",
      "(10000, 32, 32, 3)\n",
      "(10000,)\n"
     ]
    }
   ],
   "source": [
    "print (X_train.shape)\n",
    "print (y_train.shape)\n",
    "print (X_test.shape)\n",
    "print (y_test.shape)"
   ]
  },
  {
   "cell_type": "code",
   "execution_count": 4,
   "metadata": {
    "collapsed": false
   },
   "outputs": [
    {
     "name": "stdout",
     "output_type": "stream",
     "text": [
      "(50000, 32, 32, 3)\n",
      "(10000, 32, 32, 3)\n"
     ]
    }
   ],
   "source": [
    "#x_train = X_train.reshape((len(X_train), np.prod(X_train.shape[1:])))\n",
    "#x_test = X_test.reshape((len(X_test), np.prod(X_test.shape[1:])))\n",
    "\n",
    "x_train=X_train\n",
    "x_test = X_test\n",
    "print (x_train.shape)\n",
    "print (x_test.shape)"
   ]
  },
  {
   "cell_type": "code",
   "execution_count": 5,
   "metadata": {
    "collapsed": true
   },
   "outputs": [],
   "source": [
    "x_train = x_train.astype('float32') / 255.\n",
    "x_test = x_test.astype('float32') / 255."
   ]
  },
  {
   "cell_type": "code",
   "execution_count": 6,
   "metadata": {
    "collapsed": true
   },
   "outputs": [],
   "source": [
    "# Normalize the data: subtract the mean image\n",
    "mean_image = np.mean(x_train, axis=0)\n",
    "x_train -= mean_image\n",
    "x_test -= mean_image"
   ]
  },
  {
   "cell_type": "code",
   "execution_count": 15,
   "metadata": {
    "collapsed": true
   },
   "outputs": [],
   "source": [
    "x_train /= np.std(x_train, axis = 0) # normalize\n",
    "x_test /= np.std(x_test, axis = 0) # normalize"
   ]
  },
  {
   "cell_type": "code",
   "execution_count": 6,
   "metadata": {
    "collapsed": true
   },
   "outputs": [],
   "source": [
    "s_train, s_valid = train_test_split(x_train, test_size=0.2)\n",
    "label_train, label_valid = train_test_split(y_train, test_size=0.2)\n"
   ]
  },
  {
   "cell_type": "code",
   "execution_count": 7,
   "metadata": {
    "collapsed": false
   },
   "outputs": [
    {
     "name": "stdout",
     "output_type": "stream",
     "text": [
      "(40000, 32, 32, 3)\n",
      "(10000, 32, 32, 3)\n",
      "(40000,)\n",
      "(10000,)\n",
      "(10000, 32, 32, 3)\n",
      "(10000,)\n",
      "(40000, 10)\n",
      "(10000, 10)\n",
      "(10000, 10)\n"
     ]
    }
   ],
   "source": [
    "print (s_train.shape)\n",
    "print (s_valid.shape)\n",
    "\n",
    "print (label_train.shape)\n",
    "print (label_valid.shape)\n",
    "print (x_test.shape)\n",
    "print (y_test.shape)\n",
    "label_train=to_categorical(label_train)\n",
    "label_valid=to_categorical(label_valid)\n",
    "label_test= to_categorical(y_test)\n",
    "print (label_train.shape)\n",
    "print (label_valid.shape)\n",
    "print (label_test.shape)\n",
    "\n"
   ]
  },
  {
   "cell_type": "code",
   "execution_count": 8,
   "metadata": {
    "collapsed": true
   },
   "outputs": [],
   "source": [
    "# To stop potential randomness\n",
    "seed = 128\n",
    "rng = np.random.RandomState(seed)"
   ]
  },
  {
   "cell_type": "code",
   "execution_count": 96,
   "metadata": {
    "collapsed": true
   },
   "outputs": [],
   "source": [
    "# define vars\n",
    "input_num_units = 3072\n",
    "#hidden_num_units = 50\n",
    "#hidden_num_units = 500\n",
    "\n",
    "\n",
    "hidden1_num_units = 500\n",
    "hidden2_num_units = 500\n",
    "hidden3_num_units = 500\n",
    "hidden4_num_units = 500\n",
    "hidden5_num_units = 500\n",
    "\n",
    "output_num_units = 10\n",
    "\n",
    "epochs = 25\n",
    "batch_size = 128"
   ]
  },
  {
   "cell_type": "code",
   "execution_count": 63,
   "metadata": {
    "collapsed": false
   },
   "outputs": [],
   "source": [
    "# Shallow Network\n",
    "model = Sequential([\n",
    "  Dense(output_dim=hidden_num_units, input_dim=input_num_units, activation='relu'),\n",
    "  Dense(output_dim=output_num_units, input_dim=hidden_num_units, activation='softmax'),\n",
    "])"
   ]
  },
  {
   "cell_type": "code",
   "execution_count": 83,
   "metadata": {
    "collapsed": true
   },
   "outputs": [],
   "source": [
    "# Deep network\n",
    "model = Sequential([\n",
    " Dense(output_dim=hidden1_num_units, input_dim=input_num_units, activation='relu'),\n",
    " Dense(output_dim=hidden2_num_units, input_dim=hidden1_num_units, activation='relu'),\n",
    " Dense(output_dim=hidden3_num_units, input_dim=hidden2_num_units, activation='relu'),\n",
    " Dense(output_dim=hidden4_num_units, input_dim=hidden3_num_units, activation='relu'),\n",
    " Dense(output_dim=hidden5_num_units, input_dim=hidden4_num_units, activation='relu'),\n",
    "\n",
    "Dense(output_dim=output_num_units, input_dim=hidden5_num_units, activation='softmax'),\n",
    " ])"
   ]
  },
  {
   "cell_type": "code",
   "execution_count": 97,
   "metadata": {
    "collapsed": false
   },
   "outputs": [],
   "source": [
    "dropout_ratio = 0.2\n",
    "\n",
    "model = Sequential([\n",
    " Dense(output_dim=hidden1_num_units, input_dim=input_num_units, activation='relu'),\n",
    " Dropout(dropout_ratio),\n",
    " Dense(output_dim=hidden2_num_units, input_dim=hidden1_num_units, activation='relu'),\n",
    " Dropout(dropout_ratio),\n",
    " Dense(output_dim=hidden3_num_units, input_dim=hidden2_num_units, activation='relu'),\n",
    " Dropout(dropout_ratio),\n",
    " Dense(output_dim=hidden4_num_units, input_dim=hidden3_num_units, activation='relu'),\n",
    " Dropout(dropout_ratio),\n",
    " Dense(output_dim=hidden5_num_units, input_dim=hidden4_num_units, activation='relu'),\n",
    " Dropout(dropout_ratio),\n",
    "\n",
    "Dense(output_dim=output_num_units, input_dim=hidden5_num_units, activation='softmax'),\n",
    " ])"
   ]
  },
  {
   "cell_type": "code",
   "execution_count": 98,
   "metadata": {
    "collapsed": true
   },
   "outputs": [],
   "source": [
    "# compile the model with necessary attributes\n",
    "model.compile(loss='categorical_crossentropy', optimizer='adam', metrics=['accuracy'])"
   ]
  },
  {
   "cell_type": "code",
   "execution_count": 99,
   "metadata": {
    "collapsed": false
   },
   "outputs": [
    {
     "name": "stdout",
     "output_type": "stream",
     "text": [
      "Train on 40000 samples, validate on 10000 samples\n",
      "Epoch 1/25\n",
      "40000/40000 [==============================] - 11s - loss: 2.3277 - acc: 0.0996 - val_loss: 2.3046 - val_acc: 0.0966\n",
      "Epoch 2/25\n",
      "40000/40000 [==============================] - 11s - loss: 2.3053 - acc: 0.0984 - val_loss: 2.3034 - val_acc: 0.1009\n",
      "Epoch 3/25\n",
      "40000/40000 [==============================] - 11s - loss: 2.3041 - acc: 0.0980 - val_loss: 2.3031 - val_acc: 0.1009\n",
      "Epoch 4/25\n",
      "40000/40000 [==============================] - 11s - loss: 2.3034 - acc: 0.0995 - val_loss: 2.3029 - val_acc: 0.0961\n",
      "Epoch 5/25\n",
      "40000/40000 [==============================] - 11s - loss: 2.3028 - acc: 0.0977 - val_loss: 2.3113 - val_acc: 0.1019\n",
      "Epoch 6/25\n",
      "40000/40000 [==============================] - 11s - loss: 2.3034 - acc: 0.1014 - val_loss: 2.3031 - val_acc: 0.0942\n",
      "Epoch 7/25\n",
      "40000/40000 [==============================] - 11s - loss: 2.3034 - acc: 0.0998 - val_loss: 2.3031 - val_acc: 0.0969\n",
      "Epoch 8/25\n",
      "40000/40000 [==============================] - 11s - loss: 2.3028 - acc: 0.0996 - val_loss: 2.3028 - val_acc: 0.0944\n",
      "Epoch 9/25\n",
      "40000/40000 [==============================] - 11s - loss: 2.3027 - acc: 0.1019 - val_loss: 2.3028 - val_acc: 0.0988\n",
      "Epoch 10/25\n",
      "40000/40000 [==============================] - 11s - loss: 2.3027 - acc: 0.0973 - val_loss: 2.3029 - val_acc: 0.1058\n",
      "Epoch 11/25\n",
      "40000/40000 [==============================] - 11s - loss: 2.3030 - acc: 0.0989 - val_loss: 2.3029 - val_acc: 0.0944\n",
      "Epoch 12/25\n",
      "40000/40000 [==============================] - 11s - loss: 2.3030 - acc: 0.1008 - val_loss: 2.3029 - val_acc: 0.0944\n",
      "Epoch 13/25\n",
      "40000/40000 [==============================] - 11s - loss: 2.3028 - acc: 0.0999 - val_loss: 2.3029 - val_acc: 0.0944\n",
      "Epoch 14/25\n",
      "40000/40000 [==============================] - 11s - loss: 2.3027 - acc: 0.1007 - val_loss: 2.3029 - val_acc: 0.0944\n",
      "Epoch 15/25\n",
      "40000/40000 [==============================] - 11s - loss: 2.3028 - acc: 0.0990 - val_loss: 2.3029 - val_acc: 0.0957\n",
      "Epoch 16/25\n",
      "40000/40000 [==============================] - 11s - loss: 2.3034 - acc: 0.0995 - val_loss: 2.3030 - val_acc: 0.0960\n",
      "Epoch 17/25\n",
      "40000/40000 [==============================] - 11s - loss: 2.3027 - acc: 0.1016 - val_loss: 2.3029 - val_acc: 0.0944\n",
      "Epoch 18/25\n",
      "40000/40000 [==============================] - 11s - loss: 2.3027 - acc: 0.1010 - val_loss: 2.3029 - val_acc: 0.0944\n",
      "Epoch 19/25\n",
      "40000/40000 [==============================] - 11s - loss: 2.3028 - acc: 0.1018 - val_loss: 2.3028 - val_acc: 0.0960\n",
      "Epoch 20/25\n",
      "40000/40000 [==============================] - 11s - loss: 2.3027 - acc: 0.0999 - val_loss: 2.3029 - val_acc: 0.0944\n",
      "Epoch 21/25\n",
      "40000/40000 [==============================] - 11s - loss: 2.3027 - acc: 0.0989 - val_loss: 2.3028 - val_acc: 0.0944\n",
      "Epoch 22/25\n",
      "40000/40000 [==============================] - 11s - loss: 2.3027 - acc: 0.0987 - val_loss: 2.3028 - val_acc: 0.0944\n",
      "Epoch 23/25\n",
      "40000/40000 [==============================] - 11s - loss: 2.3027 - acc: 0.0994 - val_loss: 2.3028 - val_acc: 0.0944\n",
      "Epoch 24/25\n",
      "40000/40000 [==============================] - 11s - loss: 2.3030 - acc: 0.1013 - val_loss: 2.3028 - val_acc: 0.0944\n",
      "Epoch 25/25\n",
      "40000/40000 [==============================] - 11s - loss: 2.3027 - acc: 0.1003 - val_loss: 2.3028 - val_acc: 0.0960\n"
     ]
    }
   ],
   "source": [
    "trained_model = model.fit(\n",
    "    s_train, label_train, nb_epoch=epochs, batch_size=batch_size, \n",
    "    validation_data=(s_valid, label_valid))"
   ]
  },
  {
   "cell_type": "code",
   "execution_count": 9,
   "metadata": {
    "collapsed": false
   },
   "outputs": [
    {
     "name": "stdout",
     "output_type": "stream",
     "text": [
      "(40000, 3, 32, 32)\n",
      "(10000, 3, 32, 32)\n",
      "(10000, 3, 32, 32)\n",
      "Train on 40000 samples, validate on 10000 samples\n",
      "Epoch 1/25\n",
      "40000/40000 [==============================] - 99s - loss: 2.3042 - acc: 0.1002 - val_loss: 2.3030 - val_acc: 0.0989\n",
      "Epoch 2/25\n",
      "40000/40000 [==============================] - 96s - loss: 2.3033 - acc: 0.0995 - val_loss: 2.3037 - val_acc: 0.0975\n",
      "Epoch 3/25\n",
      "40000/40000 [==============================] - 98s - loss: 2.3032 - acc: 0.0955 - val_loss: 2.3026 - val_acc: 0.0993\n",
      "Epoch 4/25\n",
      "40000/40000 [==============================] - 99s - loss: 2.3028 - acc: 0.1012 - val_loss: 2.3034 - val_acc: 0.0975\n",
      "Epoch 5/25\n",
      "40000/40000 [==============================] - 98s - loss: 2.3029 - acc: 0.0990 - val_loss: 2.3028 - val_acc: 0.1000\n",
      "Epoch 6/25\n",
      "40000/40000 [==============================] - 101s - loss: 2.3025 - acc: 0.1029 - val_loss: 2.3028 - val_acc: 0.0999\n",
      "Epoch 7/25\n",
      "40000/40000 [==============================] - 98s - loss: 2.3021 - acc: 0.1035 - val_loss: 2.3027 - val_acc: 0.0979\n",
      "Epoch 8/25\n",
      "40000/40000 [==============================] - 100s - loss: 2.3020 - acc: 0.1030 - val_loss: 2.3028 - val_acc: 0.0991\n",
      "Epoch 9/25\n",
      "40000/40000 [==============================] - 101s - loss: 2.3017 - acc: 0.1050 - val_loss: 2.3026 - val_acc: 0.0986\n",
      "Epoch 10/25\n",
      "40000/40000 [==============================] - 98s - loss: 2.3016 - acc: 0.1060 - val_loss: 2.3029 - val_acc: 0.0947\n",
      "Epoch 11/25\n",
      "40000/40000 [==============================] - 97s - loss: 2.3014 - acc: 0.1050 - val_loss: 2.3027 - val_acc: 0.0944\n",
      "Epoch 12/25\n",
      "40000/40000 [==============================] - 97s - loss: 2.3010 - acc: 0.1058 - val_loss: 2.3027 - val_acc: 0.0998\n",
      "Epoch 13/25\n",
      "40000/40000 [==============================] - 97s - loss: 2.3009 - acc: 0.1067 - val_loss: 2.3029 - val_acc: 0.1005\n",
      "Epoch 14/25\n",
      "40000/40000 [==============================] - 98s - loss: 2.3007 - acc: 0.1057 - val_loss: 2.3029 - val_acc: 0.0981\n",
      "Epoch 15/25\n",
      "40000/40000 [==============================] - 99s - loss: 2.3001 - acc: 0.1077 - val_loss: 2.3032 - val_acc: 0.0990\n",
      "Epoch 16/25\n",
      "40000/40000 [==============================] - 98s - loss: 2.2996 - acc: 0.1094 - val_loss: 2.3029 - val_acc: 0.0986\n",
      "Epoch 17/25\n",
      "40000/40000 [==============================] - 97s - loss: 2.2991 - acc: 0.1113 - val_loss: 2.3031 - val_acc: 0.0997\n",
      "Epoch 18/25\n",
      "40000/40000 [==============================] - 96s - loss: 2.2985 - acc: 0.1149 - val_loss: 2.3036 - val_acc: 0.0966\n",
      "Epoch 19/25\n",
      "40000/40000 [==============================] - 96s - loss: 2.2982 - acc: 0.1146 - val_loss: 2.3033 - val_acc: 0.0985\n",
      "Epoch 20/25\n",
      "40000/40000 [==============================] - 97s - loss: 2.2978 - acc: 0.1147 - val_loss: 2.3033 - val_acc: 0.1038\n",
      "Epoch 21/25\n",
      "40000/40000 [==============================] - 97s - loss: 2.2964 - acc: 0.1157 - val_loss: 2.3038 - val_acc: 0.0993\n",
      "Epoch 22/25\n",
      "40000/40000 [==============================] - 97s - loss: 2.2962 - acc: 0.1159 - val_loss: 2.3038 - val_acc: 0.0955\n",
      "Epoch 23/25\n",
      "40000/40000 [==============================] - 98s - loss: 2.2962 - acc: 0.1161 - val_loss: 2.3038 - val_acc: 0.0979\n",
      "Epoch 24/25\n",
      "40000/40000 [==============================] - 100s - loss: 2.2949 - acc: 0.1163 - val_loss: 2.3043 - val_acc: 0.0977\n",
      "Epoch 25/25\n",
      "40000/40000 [==============================] - 95s - loss: 2.2950 - acc: 0.1176 - val_loss: 2.3046 - val_acc: 0.0986\n"
     ]
    }
   ],
   "source": [
    "# reshape data\n",
    "train_x_temp = s_train.reshape(-1,3,32,32)\n",
    "val_x_temp = s_valid.reshape(-1,3,32,32)\n",
    "test_x_temp=x_test.reshape(-1,3,32,32)\n",
    "\n",
    "#train_x_temp = s_train\n",
    "#val_x_temp = s_valid\n",
    "#test_x_temp=x_test\n",
    "\n",
    "print(train_x_temp.shape)\n",
    "print(val_x_temp.shape)\n",
    "print(test_x_temp.shape)\n",
    "\n",
    "dropout_ratio = 0.2\n",
    "\n",
    "\n",
    "# define vars\n",
    "input_shape = (3072,)\n",
    "input_reshape = (3, 32, 32)\n",
    "\n",
    "conv_num_filters = 5\n",
    "conv_filter_size = 5\n",
    "\n",
    "pool_size = (2, 2)\n",
    "\n",
    "hidden_num_units = 512\n",
    "output_num_units = 10\n",
    "\n",
    "epochs = 25\n",
    "batch_size = 32\n",
    "\n",
    "model = Sequential([\n",
    " #InputLayer(input_shape=input_reshape),\n",
    "\n",
    " Convolution2D(32, 3, 3, border_mode='same',activation='relu',W_constraint=maxnorm(3),input_shape=input_reshape),\n",
    " #MaxPooling2D(pool_size=pool_size),\n",
    " Dropout(dropout_ratio),\n",
    " Convolution2D(32, 3, 3, border_mode='same',activation='relu',W_constraint=maxnorm(3)),\n",
    " MaxPooling2D(pool_size=pool_size),\n",
    " Flatten(),\n",
    " Dense(output_dim=hidden_num_units, activation='relu',W_constraint=maxnorm(3)),\n",
    " Dropout(0.5),\n",
    "        \n",
    " Dense(output_dim=output_num_units, input_dim=hidden_num_units, activation='softmax'),\n",
    "])\n",
    "\n",
    "#model.compile(loss='categorical_crossentropy', optimizer='adam', metrics=['accuracy'])\n",
    "# Compile model\n",
    "lrate = 0.01\n",
    "decay = lrate/epochs\n",
    "sgd = SGD(lr=lrate, momentum=0.9, decay=decay, nesterov=False)\n",
    "model.compile(loss='categorical_crossentropy', optimizer=sgd, metrics=['accuracy'])\n",
    "\n",
    "trained_model_conv = model.fit(train_x_temp, label_train, \n",
    "                               nb_epoch=epochs, batch_size=batch_size, \n",
    "                               validation_data=(val_x_temp, label_valid))"
   ]
  },
  {
   "cell_type": "code",
   "execution_count": 10,
   "metadata": {
    "collapsed": false
   },
   "outputs": [
    {
     "name": "stdout",
     "output_type": "stream",
     "text": [
      "____________________________________________________________________________________________________\n",
      "Layer (type)                     Output Shape          Param #     Connected to                     \n",
      "====================================================================================================\n",
      "convolution2d_1 (Convolution2D)  (None, 32, 32, 32)    896         convolution2d_input_1[0][0]      \n",
      "____________________________________________________________________________________________________\n",
      "dropout_1 (Dropout)              (None, 32, 32, 32)    0           convolution2d_1[0][0]            \n",
      "____________________________________________________________________________________________________\n",
      "convolution2d_2 (Convolution2D)  (None, 32, 32, 32)    9248        dropout_1[0][0]                  \n",
      "____________________________________________________________________________________________________\n",
      "maxpooling2d_1 (MaxPooling2D)    (None, 32, 16, 16)    0           convolution2d_2[0][0]            \n",
      "____________________________________________________________________________________________________\n",
      "flatten_1 (Flatten)              (None, 8192)          0           maxpooling2d_1[0][0]             \n",
      "____________________________________________________________________________________________________\n",
      "dense_1 (Dense)                  (None, 512)           4194816     flatten_1[0][0]                  \n",
      "____________________________________________________________________________________________________\n",
      "dropout_2 (Dropout)              (None, 512)           0           dense_1[0][0]                    \n",
      "____________________________________________________________________________________________________\n",
      "dense_2 (Dense)                  (None, 10)            5130        dropout_2[0][0]                  \n",
      "====================================================================================================\n",
      "Total params: 4210090\n",
      "____________________________________________________________________________________________________\n"
     ]
    }
   ],
   "source": [
    "model.summary()"
   ]
  },
  {
   "cell_type": "code",
   "execution_count": 86,
   "metadata": {
    "collapsed": false
   },
   "outputs": [
    {
     "name": "stdout",
     "output_type": "stream",
     "text": [
      " 9984/10000 [============================>.] - ETA: 0s"
     ]
    }
   ],
   "source": [
    "#pred = model.predict_classes(x_test)\n",
    "pred = model.predict_classes(x_test)"
   ]
  },
  {
   "cell_type": "code",
   "execution_count": 11,
   "metadata": {
    "collapsed": false
   },
   "outputs": [
    {
     "name": "stdout",
     "output_type": "stream",
     "text": [
      "10000/10000 [==============================] - 6s     \n"
     ]
    }
   ],
   "source": [
    "#pred = model.predict_classes(x_test)\n",
    "pred = model.predict_classes(test_x_temp)"
   ]
  },
  {
   "cell_type": "code",
   "execution_count": 12,
   "metadata": {
    "collapsed": false
   },
   "outputs": [
    {
     "data": {
      "text/plain": [
       "array([7, 6, 1, ..., 4, 2, 1])"
      ]
     },
     "execution_count": 12,
     "metadata": {},
     "output_type": "execute_result"
    }
   ],
   "source": [
    "pred"
   ]
  },
  {
   "cell_type": "code",
   "execution_count": 13,
   "metadata": {
    "collapsed": true
   },
   "outputs": [],
   "source": [
    "pred= to_categorical(pred)"
   ]
  },
  {
   "cell_type": "code",
   "execution_count": 14,
   "metadata": {
    "collapsed": false
   },
   "outputs": [
    {
     "data": {
      "text/plain": [
       "array([[ 0.,  0.,  0., ...,  1.,  0.,  0.],\n",
       "       [ 0.,  0.,  0., ...,  0.,  0.,  0.],\n",
       "       [ 0.,  1.,  0., ...,  0.,  0.,  0.],\n",
       "       ..., \n",
       "       [ 0.,  0.,  0., ...,  0.,  0.,  0.],\n",
       "       [ 0.,  0.,  1., ...,  0.,  0.,  0.],\n",
       "       [ 0.,  1.,  0., ...,  0.,  0.,  0.]])"
      ]
     },
     "execution_count": 14,
     "metadata": {},
     "output_type": "execute_result"
    }
   ],
   "source": [
    "pred"
   ]
  },
  {
   "cell_type": "code",
   "execution_count": 15,
   "metadata": {
    "collapsed": false
   },
   "outputs": [
    {
     "data": {
      "text/plain": [
       "array([[ 0.,  0.,  0., ...,  0.,  0.,  0.],\n",
       "       [ 0.,  0.,  0., ...,  0.,  1.,  0.],\n",
       "       [ 0.,  0.,  0., ...,  0.,  1.,  0.],\n",
       "       ..., \n",
       "       [ 0.,  0.,  0., ...,  0.,  0.,  0.],\n",
       "       [ 0.,  1.,  0., ...,  0.,  0.,  0.],\n",
       "       [ 0.,  0.,  0., ...,  1.,  0.,  0.]])"
      ]
     },
     "execution_count": 15,
     "metadata": {},
     "output_type": "execute_result"
    }
   ],
   "source": [
    "label_test"
   ]
  },
  {
   "cell_type": "code",
   "execution_count": 16,
   "metadata": {
    "collapsed": false
   },
   "outputs": [
    {
     "name": "stdout",
     "output_type": "stream",
     "text": [
      "tested  10000 digits\n",
      "correct:  928 wrong:  9072 error rate:  90.72 %\n",
      "got correctly  9.28 %\n"
     ]
    }
   ],
   "source": [
    "num=len(label_test)\n",
    "r=0\n",
    "w=0\n",
    "for i in range(num):\n",
    "        #print ('y_pred ',y_pred[i])\n",
    "        #print ('labels ',labels[i])\n",
    "        #without the use of all() returns error truth value of an array with more than one element is ambiguous\n",
    "        #if y_pred[i].all() == labels[i].all():\n",
    "        if np.array_equal(pred[i],label_test[i]):\n",
    "            r+=1\n",
    "        else:\n",
    "            w+=1\n",
    "print (\"tested \",  num, \"digits\")\n",
    "print (\"correct: \", r, \"wrong: \", w, \"error rate: \", float(w)*100/(r+w), \"%\")\n",
    "print (\"got correctly \", float(r)*100/(r+w), \"%\")"
   ]
  },
  {
   "cell_type": "code",
   "execution_count": null,
   "metadata": {
    "collapsed": true
   },
   "outputs": [],
   "source": []
  }
 ],
 "metadata": {
  "kernelspec": {
   "display_name": "Python 3",
   "language": "python",
   "name": "python3"
  },
  "language_info": {
   "codemirror_mode": {
    "name": "ipython",
    "version": 3
   },
   "file_extension": ".py",
   "mimetype": "text/x-python",
   "name": "python",
   "nbconvert_exporter": "python",
   "pygments_lexer": "ipython3",
   "version": "3.5.2"
  }
 },
 "nbformat": 4,
 "nbformat_minor": 0
}
