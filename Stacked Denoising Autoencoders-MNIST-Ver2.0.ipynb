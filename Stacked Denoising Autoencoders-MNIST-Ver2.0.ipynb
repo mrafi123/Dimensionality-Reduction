{
 "cells": [
  {
   "cell_type": "code",
   "execution_count": 1,
   "metadata": {
    "collapsed": false,
    "scrolled": true
   },
   "outputs": [
    {
     "name": "stderr",
     "output_type": "stream",
     "text": [
      "Using gpu device 0: GeForce 920M (CNMeM is disabled, cuDNN not available)\n",
      "Using Theano backend.\n"
     ]
    }
   ],
   "source": [
    "import os    \n",
    "#os.environ['THEANO_FLAGS'] = \"device=gpu1\"  \n",
    "#os.environ[\"THEANO_FLAGS\"] = \"mode=FAST_RUN,device=gpu0,floatX=float32,lib.cnmem=1\"\n",
    "os.environ[\"THEANO_FLAGS\"] = \"mode=FAST_RUN,device=gpu0,floatX=float32\"\n",
    "import theano\n",
    "\n",
    "from keras.layers import Input, Dense\n",
    "from keras.models import Model\n",
    "from keras.callbacks import EarlyStopping, ModelCheckpoint\n",
    "from keras.optimizers import *\n",
    "from sklearn.cross_validation import train_test_split\n",
    "from sklearn.cross_validation import KFold\n",
    "\n",
    "from keras.datasets import mnist\n",
    "import numpy as np\n",
    "import matplotlib.pyplot as plt\n",
    "\n",
    "%matplotlib inline\n",
    "\n",
    "# this is the size of our encoded representations\n",
    "#encoding_dim = 32  # 32 floats -> compression of factor 24.5, assuming the input is 784 floats\n",
    "#encoding_dim = 3\n",
    "encoding_dim = 25\n",
    "\n",
    "\n",
    "# this is our input placeholder\n",
    "input_img = Input(shape=(784,))\n",
    "\n",
    "# \"encoded\" is the encoded representation of the input\n",
    "encoded = Dense(676, activation='relu')(input_img) #26X26\n",
    "encoded = Dense(484, activation='relu')(encoded) #22X22\n",
    "encoded = Dense(324, activation='relu')(encoded)  #18X18\n",
    "encoded = Dense(144, activation='relu')(encoded)  #12X12\n",
    "encoded = Dense(64, activation='relu')(encoded)  #8X8\n",
    "\n",
    "encoded = Dense(encoding_dim, activation='relu')(encoded)\n",
    "\n",
    "# \"decoded\" is the lossy reconstruction of the input\n",
    "\n",
    "decoded = Dense(784, activation='sigmoid')(encoded)\n",
    "\n",
    "# this model maps an input to its reconstruction\n",
    "autoencoder = Model(input=input_img, output=decoded)\n"
   ]
  },
  {
   "cell_type": "code",
   "execution_count": 2,
   "metadata": {
    "collapsed": false
   },
   "outputs": [
    {
     "name": "stdout",
     "output_type": "stream",
     "text": [
      "25\n",
      "input_1\n",
      "Elemwise{mul,no_inplace}.0\n",
      "sigmoid.0\n",
      "<keras.engine.training.Model object at 0x7f6c90800898>\n"
     ]
    }
   ],
   "source": [
    "print (encoding_dim)\n",
    "print (input_img)\n",
    "print (encoded)\n",
    "print (decoded)\n",
    "print (autoencoder)"
   ]
  },
  {
   "cell_type": "code",
   "execution_count": 3,
   "metadata": {
    "collapsed": true,
    "scrolled": true
   },
   "outputs": [],
   "source": [
    "# this model maps an input to its encoded representation\n",
    "encoder = Model(input=input_img, output=encoded)"
   ]
  },
  {
   "cell_type": "code",
   "execution_count": 4,
   "metadata": {
    "collapsed": false
   },
   "outputs": [
    {
     "name": "stdout",
     "output_type": "stream",
     "text": [
      "<keras.engine.training.Model object at 0x7f6cd02b2978>\n"
     ]
    }
   ],
   "source": [
    "print (encoder)"
   ]
  },
  {
   "cell_type": "code",
   "execution_count": 5,
   "metadata": {
    "collapsed": false,
    "scrolled": true
   },
   "outputs": [],
   "source": [
    "# create a placeholder for an encoded (32-dimensional) input\n",
    "encoded_input = Input(shape=(encoding_dim,))\n",
    "# retrieve the last layer of the autoencoder model\n",
    "decoder_layer = autoencoder.layers[-1]\n",
    "# create the decoder model\n",
    "decoder = Model(input=encoded_input, output=decoder_layer(encoded_input))"
   ]
  },
  {
   "cell_type": "code",
   "execution_count": 6,
   "metadata": {
    "collapsed": false
   },
   "outputs": [
    {
     "name": "stdout",
     "output_type": "stream",
     "text": [
      "input_2\n",
      "<keras.layers.core.Dense object at 0x7f6c907df668>\n",
      "<keras.engine.training.Model object at 0x7f6c907e6c18>\n"
     ]
    }
   ],
   "source": [
    "print (encoded_input)\n",
    "print (decoder_layer)\n",
    "print (decoder)"
   ]
  },
  {
   "cell_type": "code",
   "execution_count": 7,
   "metadata": {
    "collapsed": false,
    "scrolled": true
   },
   "outputs": [],
   "source": [
    "#autoencoder.compile(optimizer='adadelta', loss='binary_crossentropy')\n",
    "autoencoder.compile(optimizer=Adam(lr=1e-3), loss='categorical_crossentropy')"
   ]
  },
  {
   "cell_type": "code",
   "execution_count": 8,
   "metadata": {
    "collapsed": false,
    "scrolled": true
   },
   "outputs": [
    {
     "name": "stdout",
     "output_type": "stream",
     "text": [
      "[[[0 0 0 ..., 0 0 0]\n",
      "  [0 0 0 ..., 0 0 0]\n",
      "  [0 0 0 ..., 0 0 0]\n",
      "  ..., \n",
      "  [0 0 0 ..., 0 0 0]\n",
      "  [0 0 0 ..., 0 0 0]\n",
      "  [0 0 0 ..., 0 0 0]]\n",
      "\n",
      " [[0 0 0 ..., 0 0 0]\n",
      "  [0 0 0 ..., 0 0 0]\n",
      "  [0 0 0 ..., 0 0 0]\n",
      "  ..., \n",
      "  [0 0 0 ..., 0 0 0]\n",
      "  [0 0 0 ..., 0 0 0]\n",
      "  [0 0 0 ..., 0 0 0]]\n",
      "\n",
      " [[0 0 0 ..., 0 0 0]\n",
      "  [0 0 0 ..., 0 0 0]\n",
      "  [0 0 0 ..., 0 0 0]\n",
      "  ..., \n",
      "  [0 0 0 ..., 0 0 0]\n",
      "  [0 0 0 ..., 0 0 0]\n",
      "  [0 0 0 ..., 0 0 0]]\n",
      "\n",
      " ..., \n",
      " [[0 0 0 ..., 0 0 0]\n",
      "  [0 0 0 ..., 0 0 0]\n",
      "  [0 0 0 ..., 0 0 0]\n",
      "  ..., \n",
      "  [0 0 0 ..., 0 0 0]\n",
      "  [0 0 0 ..., 0 0 0]\n",
      "  [0 0 0 ..., 0 0 0]]\n",
      "\n",
      " [[0 0 0 ..., 0 0 0]\n",
      "  [0 0 0 ..., 0 0 0]\n",
      "  [0 0 0 ..., 0 0 0]\n",
      "  ..., \n",
      "  [0 0 0 ..., 0 0 0]\n",
      "  [0 0 0 ..., 0 0 0]\n",
      "  [0 0 0 ..., 0 0 0]]\n",
      "\n",
      " [[0 0 0 ..., 0 0 0]\n",
      "  [0 0 0 ..., 0 0 0]\n",
      "  [0 0 0 ..., 0 0 0]\n",
      "  ..., \n",
      "  [0 0 0 ..., 0 0 0]\n",
      "  [0 0 0 ..., 0 0 0]\n",
      "  [0 0 0 ..., 0 0 0]]]\n",
      "[[[0 0 0 ..., 0 0 0]\n",
      "  [0 0 0 ..., 0 0 0]\n",
      "  [0 0 0 ..., 0 0 0]\n",
      "  ..., \n",
      "  [0 0 0 ..., 0 0 0]\n",
      "  [0 0 0 ..., 0 0 0]\n",
      "  [0 0 0 ..., 0 0 0]]\n",
      "\n",
      " [[0 0 0 ..., 0 0 0]\n",
      "  [0 0 0 ..., 0 0 0]\n",
      "  [0 0 0 ..., 0 0 0]\n",
      "  ..., \n",
      "  [0 0 0 ..., 0 0 0]\n",
      "  [0 0 0 ..., 0 0 0]\n",
      "  [0 0 0 ..., 0 0 0]]\n",
      "\n",
      " [[0 0 0 ..., 0 0 0]\n",
      "  [0 0 0 ..., 0 0 0]\n",
      "  [0 0 0 ..., 0 0 0]\n",
      "  ..., \n",
      "  [0 0 0 ..., 0 0 0]\n",
      "  [0 0 0 ..., 0 0 0]\n",
      "  [0 0 0 ..., 0 0 0]]\n",
      "\n",
      " ..., \n",
      " [[0 0 0 ..., 0 0 0]\n",
      "  [0 0 0 ..., 0 0 0]\n",
      "  [0 0 0 ..., 0 0 0]\n",
      "  ..., \n",
      "  [0 0 0 ..., 0 0 0]\n",
      "  [0 0 0 ..., 0 0 0]\n",
      "  [0 0 0 ..., 0 0 0]]\n",
      "\n",
      " [[0 0 0 ..., 0 0 0]\n",
      "  [0 0 0 ..., 0 0 0]\n",
      "  [0 0 0 ..., 0 0 0]\n",
      "  ..., \n",
      "  [0 0 0 ..., 0 0 0]\n",
      "  [0 0 0 ..., 0 0 0]\n",
      "  [0 0 0 ..., 0 0 0]]\n",
      "\n",
      " [[0 0 0 ..., 0 0 0]\n",
      "  [0 0 0 ..., 0 0 0]\n",
      "  [0 0 0 ..., 0 0 0]\n",
      "  ..., \n",
      "  [0 0 0 ..., 0 0 0]\n",
      "  [0 0 0 ..., 0 0 0]\n",
      "  [0 0 0 ..., 0 0 0]]]\n"
     ]
    }
   ],
   "source": [
    "(x_train, y_train), (x_test, y_test) = mnist.load_data()\n",
    "print(x_train)\n",
    "print(x_test)"
   ]
  },
  {
   "cell_type": "code",
   "execution_count": 9,
   "metadata": {
    "collapsed": false,
    "scrolled": true
   },
   "outputs": [],
   "source": [
    "x_train = x_train.astype('float32') / 255.\n",
    "x_test = x_test.astype('float32') / 255.\n",
    "x_train = x_train.reshape((len(x_train), np.prod(x_train.shape[1:])))\n",
    "x_test = x_test.reshape((len(x_test), np.prod(x_test.shape[1:])))"
   ]
  },
  {
   "cell_type": "code",
   "execution_count": 10,
   "metadata": {
    "collapsed": false
   },
   "outputs": [
    {
     "name": "stdout",
     "output_type": "stream",
     "text": [
      "60000\n",
      "(60000, 784)\n",
      "(10000, 784)\n",
      "(60000,)\n",
      "(10000,)\n",
      "float32\n",
      "float32\n",
      "[[ 0.  0.  0. ...,  0.  0.  0.]\n",
      " [ 0.  0.  0. ...,  0.  0.  0.]\n",
      " [ 0.  0.  0. ...,  0.  0.  0.]\n",
      " ..., \n",
      " [ 0.  0.  0. ...,  0.  0.  0.]\n",
      " [ 0.  0.  0. ...,  0.  0.  0.]\n",
      " [ 0.  0.  0. ...,  0.  0.  0.]]\n",
      "[[ 0.  0.  0. ...,  0.  0.  0.]\n",
      " [ 0.  0.  0. ...,  0.  0.  0.]\n",
      " [ 0.  0.  0. ...,  0.  0.  0.]\n",
      " ..., \n",
      " [ 0.  0.  0. ...,  0.  0.  0.]\n",
      " [ 0.  0.  0. ...,  0.  0.  0.]\n",
      " [ 0.  0.  0. ...,  0.  0.  0.]]\n"
     ]
    }
   ],
   "source": [
    "x_train = np.array(x_train)\n",
    "x_test = np.array(x_test)\n",
    "y_train = np.array(y_train)\n",
    "y_test = np.array(y_test)\n",
    "print(len(x_train))\n",
    "print (x_train.shape)\n",
    "print (x_test.shape)\n",
    "print (y_train.shape)\n",
    "print (y_test.shape)\n",
    "print (x_train.dtype)\n",
    "print (x_test.dtype)\n",
    "print (x_train)\n",
    "print (x_test)"
   ]
  },
  {
   "cell_type": "code",
   "execution_count": 11,
   "metadata": {
    "collapsed": true
   },
   "outputs": [],
   "source": [
    "nfold=10\n",
    "nb_epoch=50\n",
    "batch_size=256\n",
    "random_state =33"
   ]
  },
  {
   "cell_type": "code",
   "execution_count": 12,
   "metadata": {
    "collapsed": false
   },
   "outputs": [
    {
     "name": "stdout",
     "output_type": "stream",
     "text": [
      "mnist_weights_kfold_10_epoch_50_batch_256_encoded_25.h5\n"
     ]
    }
   ],
   "source": [
    "kfold_weights_path = os.path.join('mnist_weights_kfold_' + str(nfold) + \n",
    "                                  '_epoch_'+str(nb_epoch)+\n",
    "                                  '_batch_'+str(batch_size) +\n",
    "                                  '_encoded_'+str(encoding_dim) +\n",
    "                                  '.h5')\n",
    "print(kfold_weights_path)"
   ]
  },
  {
   "cell_type": "code",
   "execution_count": 13,
   "metadata": {
    "collapsed": false
   },
   "outputs": [
    {
     "name": "stdout",
     "output_type": "stream",
     "text": [
      "sklearn.cross_validation.KFold(n=60000, n_folds=10, shuffle=True, random_state=33)\n"
     ]
    }
   ],
   "source": [
    "kf = KFold(len(x_train), n_folds=nfold, shuffle=True, random_state=random_state)\n",
    "print(kf)"
   ]
  },
  {
   "cell_type": "code",
   "execution_count": 14,
   "metadata": {
    "collapsed": false
   },
   "outputs": [
    {
     "name": "stdout",
     "output_type": "stream",
     "text": [
      "(60000, 25)\n",
      "(10000, 784)\n",
      "(10000, 25)\n",
      "(10000, 784)\n"
     ]
    }
   ],
   "source": [
    "train_full_encoded_imgs = np.zeros(shape=[x_train.shape[0],encoding_dim])\n",
    "print(train_full_encoded_imgs.shape)\n",
    "print(x_test.shape)\n",
    "test_full_encoded_imgs = np.zeros(shape=[x_test.shape[0],encoding_dim])\n",
    "test_full_decoded_imgs = np.zeros(shape=[x_test.shape[0],x_test.shape[1]])\n",
    "print(test_full_encoded_imgs.shape)\n",
    "print(test_full_decoded_imgs.shape)"
   ]
  },
  {
   "cell_type": "code",
   "execution_count": 15,
   "metadata": {
    "collapsed": false
   },
   "outputs": [
    {
     "data": {
      "text/plain": [
       "False"
      ]
     },
     "execution_count": 15,
     "metadata": {},
     "output_type": "execute_result"
    }
   ],
   "source": [
    "os.path.isfile(kfold_weights_path)"
   ]
  },
  {
   "cell_type": "code",
   "execution_count": 16,
   "metadata": {
    "collapsed": false
   },
   "outputs": [
    {
     "name": "stdout",
     "output_type": "stream",
     "text": [
      "\n",
      "\n",
      "Start KFold number 1 from 10\n",
      "Split train:  54000 54000\n",
      "Split valid:  6000 6000\n",
      "Train on 54000 samples, validate on 6000 samples\n",
      "Epoch 1/50\n",
      "54000/54000 [==============================] - 5s - loss: 589.8486 - val_loss: 564.1437\n",
      "Epoch 2/50\n",
      "54000/54000 [==============================] - 5s - loss: 557.6439 - val_loss: 546.8995\n",
      "Epoch 3/50\n",
      "54000/54000 [==============================] - 5s - loss: 546.1357 - val_loss: 539.1646\n",
      "Epoch 4/50\n",
      "54000/54000 [==============================] - 5s - loss: 540.5105 - val_loss: 535.4717\n",
      "Epoch 5/50\n",
      "54000/54000 [==============================] - 5s - loss: 537.3285 - val_loss: 532.8509\n",
      "Epoch 6/50\n",
      "54000/54000 [==============================] - 5s - loss: 534.6841 - val_loss: 530.7008\n",
      "Epoch 7/50\n",
      "54000/54000 [==============================] - 5s - loss: 532.5600 - val_loss: 528.6607\n",
      "Epoch 8/50\n",
      "54000/54000 [==============================] - 5s - loss: 530.8059 - val_loss: 527.5175\n",
      "Epoch 9/50\n",
      "54000/54000 [==============================] - 5s - loss: 529.5047 - val_loss: 526.2303\n",
      "Epoch 10/50\n",
      "54000/54000 [==============================] - 5s - loss: 528.5875 - val_loss: 525.7922\n",
      "Epoch 11/50\n",
      "54000/54000 [==============================] - 5s - loss: 527.7992 - val_loss: 525.2813\n",
      "Epoch 12/50\n",
      "54000/54000 [==============================] - 5s - loss: 526.8591 - val_loss: 524.2270\n",
      "Epoch 13/50\n",
      "54000/54000 [==============================] - 5s - loss: 526.1402 - val_loss: 523.8106\n",
      "Epoch 14/50\n",
      "54000/54000 [==============================] - 5s - loss: 525.5897 - val_loss: 523.3460\n",
      "Epoch 15/50\n",
      "54000/54000 [==============================] - 5s - loss: 525.0843 - val_loss: 523.0535\n",
      "Epoch 16/50\n",
      "54000/54000 [==============================] - 5s - loss: 524.4514 - val_loss: 522.2724\n",
      "Epoch 17/50\n",
      "54000/54000 [==============================] - 5s - loss: 523.7983 - val_loss: 521.8285\n",
      "Epoch 18/50\n",
      "54000/54000 [==============================] - 5s - loss: 523.1566 - val_loss: 521.4662\n",
      "Epoch 19/50\n",
      "54000/54000 [==============================] - 5s - loss: 522.6592 - val_loss: 520.9038\n",
      "Epoch 20/50\n",
      "54000/54000 [==============================] - 5s - loss: 522.1594 - val_loss: 520.6070\n",
      "Epoch 21/50\n",
      "54000/54000 [==============================] - 5s - loss: 521.7907 - val_loss: 520.5896\n",
      "Epoch 22/50\n",
      "54000/54000 [==============================] - 5s - loss: 521.5697 - val_loss: 520.1609\n",
      "Epoch 23/50\n",
      "54000/54000 [==============================] - 5s - loss: 521.2786 - val_loss: 520.1794\n",
      "Epoch 24/50\n",
      "54000/54000 [==============================] - 5s - loss: 521.0901 - val_loss: 519.9688\n",
      "Epoch 25/50\n",
      "54000/54000 [==============================] - 5s - loss: 520.8270 - val_loss: 519.9016\n",
      "Epoch 26/50\n",
      "54000/54000 [==============================] - 5s - loss: 520.6543 - val_loss: 519.7931\n",
      "Epoch 27/50\n",
      "54000/54000 [==============================] - 5s - loss: 520.4270 - val_loss: 519.8248\n",
      "Epoch 28/50\n",
      "54000/54000 [==============================] - 5s - loss: 520.2777 - val_loss: 519.6762\n",
      "Epoch 29/50\n",
      "54000/54000 [==============================] - 5s - loss: 520.1601 - val_loss: 519.8868\n",
      "Epoch 30/50\n",
      "54000/54000 [==============================] - 5s - loss: 519.9929 - val_loss: 519.6181\n",
      "Epoch 31/50\n",
      "54000/54000 [==============================] - 5s - loss: 519.8759 - val_loss: 519.7302\n",
      "Epoch 32/50\n",
      "54000/54000 [==============================] - 5s - loss: 519.7944 - val_loss: 519.7464\n",
      " 9984/10000 [============================>.] - ETA: 0s\n",
      "\n",
      "Start KFold number 2 from 10\n",
      "Split train:  54000 54000\n",
      "Split valid:  6000 6000\n",
      "Train on 54000 samples, validate on 6000 samples\n",
      "Epoch 1/50\n",
      "54000/54000 [==============================] - 5s - loss: 522.1498 - val_loss: 523.8636\n",
      "Epoch 2/50\n",
      "54000/54000 [==============================] - 5s - loss: 521.1572 - val_loss: 523.8215\n",
      "Epoch 3/50\n",
      "54000/54000 [==============================] - 5s - loss: 520.5910 - val_loss: 523.5381\n",
      "Epoch 4/50\n",
      "54000/54000 [==============================] - 5s - loss: 520.2563 - val_loss: 523.3452\n",
      "Epoch 5/50\n",
      "54000/54000 [==============================] - 5s - loss: 519.9665 - val_loss: 523.3798\n",
      "Epoch 6/50\n",
      "54000/54000 [==============================] - 5s - loss: 519.7293 - val_loss: 523.4902\n",
      " 8960/10000 [=========================>....] - ETA: 0s\n",
      "\n",
      "Start KFold number 3 from 10\n",
      "Split train:  54000 54000\n",
      "Split valid:  6000 6000\n",
      "Train on 54000 samples, validate on 6000 samples\n",
      "Epoch 1/50\n",
      "54000/54000 [==============================] - 5s - loss: 521.0994 - val_loss: 522.9990\n",
      "Epoch 2/50\n",
      "54000/54000 [==============================] - 5s - loss: 520.3767 - val_loss: 522.5817\n",
      "Epoch 3/50\n",
      "54000/54000 [==============================] - 5s - loss: 519.9410 - val_loss: 522.6642\n",
      "Epoch 4/50\n",
      "54000/54000 [==============================] - 5s - loss: 519.6256 - val_loss: 522.5369\n",
      "Epoch 5/50\n",
      "54000/54000 [==============================] - 5s - loss: 519.3255 - val_loss: 522.5433\n",
      "Epoch 6/50\n",
      "54000/54000 [==============================] - 5s - loss: 519.0730 - val_loss: 522.5526\n",
      " 9472/10000 [===========================>..] - ETA: 0s\n",
      "\n",
      "Start KFold number 4 from 10\n",
      "Split train:  54000 54000\n",
      "Split valid:  6000 6000\n",
      "Train on 54000 samples, validate on 6000 samples\n",
      "Epoch 1/50\n",
      "54000/54000 [==============================] - 5s - loss: 520.6922 - val_loss: 519.4201\n",
      "Epoch 2/50\n",
      "54000/54000 [==============================] - 5s - loss: 519.9975 - val_loss: 519.3269\n",
      "Epoch 3/50\n",
      "54000/54000 [==============================] - 5s - loss: 519.5804 - val_loss: 519.3393\n",
      "Epoch 4/50\n",
      "54000/54000 [==============================] - 5s - loss: 519.2859 - val_loss: 519.3844\n",
      "60000/60000 [==============================] - 1s     \n",
      " 9472/10000 [===========================>..] - ETA: 0s\n",
      "\n",
      "Start KFold number 5 from 10\n",
      "Split train:  54000 54000\n",
      "Split valid:  6000 6000\n",
      "Train on 54000 samples, validate on 6000 samples\n",
      "Epoch 1/50\n",
      "54000/54000 [==============================] - 5s - loss: 520.4031 - val_loss: 516.9879\n",
      "Epoch 2/50\n",
      "54000/54000 [==============================] - 5s - loss: 519.8245 - val_loss: 516.9566\n",
      "Epoch 3/50\n",
      "54000/54000 [==============================] - 5s - loss: 519.3916 - val_loss: 516.7940\n",
      "Epoch 4/50\n",
      "54000/54000 [==============================] - 5s - loss: 519.0744 - val_loss: 516.9683\n",
      "Epoch 5/50\n",
      "54000/54000 [==============================] - 5s - loss: 518.8750 - val_loss: 517.0206\n",
      "60000/60000 [==============================] - 1s     \n",
      " 9472/10000 [===========================>..] - ETA: 0s\n",
      "\n",
      "Start KFold number 6 from 10\n",
      "Split train:  54000 54000\n",
      "Split valid:  6000 6000\n",
      "Train on 54000 samples, validate on 6000 samples\n",
      "Epoch 1/50\n",
      "54000/54000 [==============================] - 5s - loss: 519.6937 - val_loss: 519.3862\n",
      "Epoch 2/50\n",
      "54000/54000 [==============================] - 5s - loss: 519.1151 - val_loss: 519.2094\n",
      "Epoch 3/50\n",
      "54000/54000 [==============================] - 5s - loss: 518.6397 - val_loss: 519.1350\n",
      "Epoch 4/50\n",
      "54000/54000 [==============================] - 5s - loss: 518.4073 - val_loss: 519.0193\n",
      "Epoch 5/50\n",
      "54000/54000 [==============================] - 5s - loss: 518.1835 - val_loss: 519.0845\n",
      "Epoch 6/50\n",
      "54000/54000 [==============================] - 5s - loss: 517.9750 - val_loss: 519.1048\n",
      " 9984/10000 [============================>.] - ETA: 0s\n",
      "\n",
      "Start KFold number 7 from 10\n",
      "Split train:  54000 54000\n",
      "Split valid:  6000 6000\n",
      "Train on 54000 samples, validate on 6000 samples\n",
      "Epoch 1/50\n",
      "54000/54000 [==============================] - 5s - loss: 519.3366 - val_loss: 518.4947\n",
      "Epoch 2/50\n",
      "54000/54000 [==============================] - 5s - loss: 518.6973 - val_loss: 518.1729\n",
      "Epoch 3/50\n",
      "54000/54000 [==============================] - 5s - loss: 518.3885 - val_loss: 518.1574\n",
      "Epoch 4/50\n",
      "54000/54000 [==============================] - 5s - loss: 518.1353 - val_loss: 518.1132\n",
      "Epoch 5/50\n",
      "54000/54000 [==============================] - 5s - loss: 517.9311 - val_loss: 518.1737\n",
      "Epoch 6/50\n",
      "54000/54000 [==============================] - 5s - loss: 517.7295 - val_loss: 518.1616\n",
      " 9728/10000 [============================>.] - ETA: 0s\n",
      "\n",
      "Start KFold number 8 from 10\n",
      "Split train:  54000 54000\n",
      "Split valid:  6000 6000\n",
      "Train on 54000 samples, validate on 6000 samples\n",
      "Epoch 1/50\n",
      "54000/54000 [==============================] - 5s - loss: 518.5823 - val_loss: 522.1097\n",
      "Epoch 2/50\n",
      "54000/54000 [==============================] - 5s - loss: 517.9657 - val_loss: 521.9186\n",
      "Epoch 3/50\n",
      "54000/54000 [==============================] - 5s - loss: 517.6116 - val_loss: 521.9471\n",
      "Epoch 4/50\n",
      "54000/54000 [==============================] - 5s - loss: 517.3234 - val_loss: 521.8899\n",
      "Epoch 5/50\n",
      "54000/54000 [==============================] - 5s - loss: 517.1278 - val_loss: 521.7267\n",
      "Epoch 6/50\n",
      "54000/54000 [==============================] - 5s - loss: 516.9222 - val_loss: 521.8155\n",
      "Epoch 7/50\n",
      "54000/54000 [==============================] - 5s - loss: 516.7178 - val_loss: 521.7450\n",
      " 9984/10000 [============================>.] - ETA: 0s\n",
      "\n",
      "Start KFold number 9 from 10\n",
      "Split train:  54000 54000\n",
      "Split valid:  6000 6000\n",
      "Train on 54000 samples, validate on 6000 samples\n",
      "Epoch 1/50\n",
      "54000/54000 [==============================] - 5s - loss: 518.6623 - val_loss: 517.5728\n",
      "Epoch 2/50\n",
      "54000/54000 [==============================] - 5s - loss: 518.0760 - val_loss: 517.4304\n",
      "Epoch 3/50\n",
      "54000/54000 [==============================] - 5s - loss: 517.7619 - val_loss: 517.4800\n",
      "Epoch 4/50\n",
      "54000/54000 [==============================] - 6s - loss: 517.4427 - val_loss: 517.3498\n",
      "Epoch 5/50\n",
      "54000/54000 [==============================] - 6s - loss: 517.1787 - val_loss: 517.2748\n",
      "Epoch 6/50\n",
      "54000/54000 [==============================] - 5s - loss: 517.0028 - val_loss: 517.3342\n",
      "Epoch 7/50\n",
      "54000/54000 [==============================] - 5s - loss: 516.8641 - val_loss: 517.6170\n",
      " 9728/10000 [============================>.] - ETA: 0s\n",
      "\n",
      "Start KFold number 10 from 10\n",
      "Split train:  54000 54000\n",
      "Split valid:  6000 6000\n",
      "Train on 54000 samples, validate on 6000 samples\n",
      "Epoch 1/50\n",
      "54000/54000 [==============================] - 5s - loss: 517.9936 - val_loss: 520.1629\n",
      "Epoch 2/50\n",
      "54000/54000 [==============================] - 5s - loss: 517.3540 - val_loss: 520.0788\n",
      "Epoch 3/50\n",
      "54000/54000 [==============================] - 5s - loss: 517.0308 - val_loss: 520.2522\n",
      "Epoch 4/50\n",
      "54000/54000 [==============================] - 5s - loss: 516.7556 - val_loss: 520.1664\n",
      " 9728/10000 [============================>.] - ETA: 0s"
     ]
    }
   ],
   "source": [
    "num_fold = 0\n",
    "restore_from_last_checkpoint=0\n",
    "for train_index,valid_index in kf:\n",
    "    s_train,s_valid  = x_train[train_index], x_train[valid_index]\n",
    "    \n",
    "    noise_factor = 0.25\n",
    "    s_train_noisy = s_train + noise_factor * np.random.normal(loc=0.0, scale=1.0, size=s_train.shape) \n",
    "    s_valid_noisy = s_valid + noise_factor * np.random.normal(loc=0.0, scale=1.0, size=s_valid.shape) \n",
    "\n",
    "    s_train_noisy = np.clip(s_train_noisy, 0., 1.)\n",
    "    s_valid_noisy = np.clip(s_valid_noisy, 0., 1.)\n",
    "    #y_train, y_test = y[train_index], y[test_index]\n",
    "    \n",
    "    num_fold += 1\n",
    "    print('\\n\\nStart KFold number {} from {}'.format(num_fold, nfold))\n",
    "    print('Split train: ', len(s_train_noisy), len(s_train))\n",
    "    print('Split valid: ', len(s_valid_noisy), len(s_valid))\n",
    "\n",
    "    if not os.path.isfile(kfold_weights_path) or restore_from_last_checkpoint == 0:\n",
    "        callbacks = [\n",
    "                EarlyStopping(monitor='val_loss', patience=1, verbose=0),\n",
    "                ModelCheckpoint(kfold_weights_path, monitor='val_loss', save_best_only=True, verbose=0),\n",
    "        ]\n",
    "        autoencoder.fit(s_train_noisy, s_train,\n",
    "                nb_epoch=nb_epoch,\n",
    "                batch_size=batch_size,\n",
    "                shuffle=True,\n",
    "                validation_data=(s_valid_noisy, s_valid),\n",
    "                callbacks=callbacks)\n",
    "    #if os.path.isfile(kfold_weights_path):\n",
    "    #    autoencoder.load_weights(kfold_weights_path)\n",
    "    \n",
    "    # Store train predictions\n",
    "    train_encoded_imgs = encoder.predict(x_train,batch_size=batch_size, verbose=1)\n",
    "    train_full_encoded_imgs = np.add(train_full_encoded_imgs,train_encoded_imgs)\n",
    "\n",
    "    \n",
    "    # Store test predictions\n",
    "    test_encoded_imgs = encoder.predict(x_test,batch_size=batch_size, verbose=1)\n",
    "    #full_encoded_imgs = np.vstack([full_encoded_imgs,encoded_imgs])\n",
    "    test_full_encoded_imgs = np.add(test_full_encoded_imgs,test_encoded_imgs)\n",
    "    #full_encoded_imgs.append(encoded_imgs)\n",
    "    #print(full_encoded_imgs.shape)\n",
    "    \n",
    "    test_decoded_imgs = decoder.predict(test_encoded_imgs,batch_size=batch_size, verbose=1)\n",
    "    #full_decoded_imgs = np.vstack([full_decoded_imgs,decoded_imgs])\n",
    "    test_full_decoded_imgs = np.add(test_full_decoded_imgs,test_decoded_imgs)"
   ]
  },
  {
   "cell_type": "code",
   "execution_count": 17,
   "metadata": {
    "collapsed": false
   },
   "outputs": [
    {
     "name": "stdout",
     "output_type": "stream",
     "text": [
      "(10000, 25)\n",
      "(10000, 784)\n",
      "[[  527.97799683   734.47298813   886.30836487 ...,   583.79726028\n",
      "    889.93103027   779.93975067]\n",
      " [  667.70310211    81.57831669   603.6771965  ...,   515.12591934\n",
      "    913.86081696   365.79897308]\n",
      " [ 1275.63214111   551.88928604    82.98371148 ...,   907.71569824\n",
      "   1363.25918579   885.09591675]\n",
      " ..., \n",
      " [  409.27776718   678.30307007   309.19971848 ...,   260.0249157\n",
      "    778.21221924   479.1549263 ]\n",
      " [  743.87985229   913.57566833  1452.5244751  ...,   278.59009552\n",
      "    722.98593903   332.9692173 ]\n",
      " [    7.52289559   573.95938492   155.83238983 ...,   423.28487015\n",
      "    330.95710373   460.72314453]]\n",
      "[[  0.00000000e+00   0.00000000e+00   0.00000000e+00 ...,   0.00000000e+00\n",
      "    0.00000000e+00   0.00000000e+00]\n",
      " [  3.04597443e-32   6.25419860e-34   1.05220407e-36 ...,   1.11256931e-30\n",
      "    4.76704888e-30   4.38579019e-31]\n",
      " [  0.00000000e+00   0.00000000e+00   0.00000000e+00 ...,   0.00000000e+00\n",
      "    0.00000000e+00   0.00000000e+00]\n",
      " ..., \n",
      " [  2.52586066e-37   4.15744518e-31   1.12493997e-32 ...,   8.88055726e-32\n",
      "    1.60621931e-38   1.14943487e-32]\n",
      " [  0.00000000e+00   1.43601467e-35   2.72030049e-33 ...,   1.90095609e-31\n",
      "    0.00000000e+00   6.24966643e-36]\n",
      " [  8.72368550e-38   5.94998228e-30   4.02680364e-30 ...,   3.42495655e-31\n",
      "    1.64283328e-30   1.04786313e-34]]\n"
     ]
    }
   ],
   "source": [
    "print(test_full_encoded_imgs.shape)\n",
    "print(test_full_decoded_imgs.shape)\n",
    "print(test_full_encoded_imgs)\n",
    "print(test_full_decoded_imgs)"
   ]
  },
  {
   "cell_type": "code",
   "execution_count": 18,
   "metadata": {
    "collapsed": false
   },
   "outputs": [
    {
     "name": "stdout",
     "output_type": "stream",
     "text": [
      "(10000, 25)\n",
      "(10000, 784)\n",
      "[[  52.79779968   73.44729881   88.63083649 ...,   58.37972603\n",
      "    88.99310303   77.99397507]\n",
      " [  66.77031021    8.15783167   60.36771965 ...,   51.51259193   91.3860817\n",
      "    36.57989731]\n",
      " [ 127.56321411   55.1889286     8.29837115 ...,   90.77156982\n",
      "   136.32591858   88.50959167]\n",
      " ..., \n",
      " [  40.92777672   67.83030701   30.91997185 ...,   26.00249157\n",
      "    77.82122192   47.91549263]\n",
      " [  74.38798523   91.35756683  145.25244751 ...,   27.85900955   72.2985939\n",
      "    33.29692173]\n",
      " [   0.75228956   57.39593849   15.58323898 ...,   42.32848701\n",
      "    33.09571037   46.07231445]]\n",
      "[[  0.00000000e+00   0.00000000e+00   0.00000000e+00 ...,   0.00000000e+00\n",
      "    0.00000000e+00   0.00000000e+00]\n",
      " [  3.04597443e-33   6.25419860e-35   1.05220407e-37 ...,   1.11256931e-31\n",
      "    4.76704888e-31   4.38579019e-32]\n",
      " [  0.00000000e+00   0.00000000e+00   0.00000000e+00 ...,   0.00000000e+00\n",
      "    0.00000000e+00   0.00000000e+00]\n",
      " ..., \n",
      " [  2.52586066e-38   4.15744518e-32   1.12493997e-33 ...,   8.88055726e-33\n",
      "    1.60621931e-39   1.14943487e-33]\n",
      " [  0.00000000e+00   1.43601467e-36   2.72030049e-34 ...,   1.90095609e-32\n",
      "    0.00000000e+00   6.24966643e-37]\n",
      " [  8.72368550e-39   5.94998228e-31   4.02680364e-31 ...,   3.42495655e-32\n",
      "    1.64283328e-31   1.04786313e-35]]\n"
     ]
    }
   ],
   "source": [
    "test_res_encoded_imgs = test_full_encoded_imgs/nfold\n",
    "test_res_decoded_imgs = test_full_decoded_imgs/nfold\n",
    "print(test_res_encoded_imgs.shape)\n",
    "print(test_res_decoded_imgs.shape)\n",
    "print(test_res_encoded_imgs)\n",
    "print(test_res_decoded_imgs)"
   ]
  },
  {
   "cell_type": "code",
   "execution_count": 19,
   "metadata": {
    "collapsed": false
   },
   "outputs": [
    {
     "name": "stdout",
     "output_type": "stream",
     "text": [
      "(60000, 25)\n",
      "[[  36.02939377   47.54022522    1.63911474 ...,   34.86504784\n",
      "    81.20817032   75.6874794 ]\n",
      " [  39.75662422   68.22014275   50.44898567 ...,   51.29592628\n",
      "    48.29339676   36.54299831]\n",
      " [  75.98902512   22.68591166   29.84251156 ...,   53.97143707\n",
      "     4.58583186   62.89119492]\n",
      " ..., \n",
      " [  65.47621727   35.21867542   51.85757256 ...,   60.86599617\n",
      "    68.29590225   85.91225891]\n",
      " [  36.92391357   84.53689346   19.3407589  ...,   75.52148819\n",
      "    28.91720467   61.16138954]\n",
      " [  75.14092407  132.02388      86.03532181 ...,  102.84205475\n",
      "    57.06687126   45.30354843]]\n"
     ]
    }
   ],
   "source": [
    "train_res_encoded_imgs = train_full_encoded_imgs/nfold\n",
    "print(train_res_encoded_imgs.shape)\n",
    "print(train_res_encoded_imgs)"
   ]
  },
  {
   "cell_type": "code",
   "execution_count": 20,
   "metadata": {
    "collapsed": false
   },
   "outputs": [
    {
     "data": {
      "image/png": "[encoded data removed]",
      "text/plain": [
       "<matplotlib.figure.Figure at 0x7f6c9073e940>"
      ]
     },
     "metadata": {},
     "output_type": "display_data"
    }
   ],
   "source": [
    "import matplotlib.pyplot as plt\n",
    "n = 10\n",
    "plt.figure(figsize=(20, 2))\n",
    "for i in range(n):\n",
    "    ax = plt.subplot(2, n, i + 1)\n",
    "    #ax = plt.subplot(1, n, i)\n",
    "    plt.imshow(s_train_noisy[i].reshape(28, 28))\n",
    "    plt.gray()\n",
    "    ax.get_xaxis().set_visible(False)\n",
    "    ax.get_yaxis().set_visible(False)\n",
    "plt.show()"
   ]
  },
  {
   "cell_type": "code",
   "execution_count": 21,
   "metadata": {
    "collapsed": false
   },
   "outputs": [
    {
     "data": {
      "image/png": "[encoded data removed]",
      "text/plain": [
       "<matplotlib.figure.Figure at 0x7f6c84538f60>"
      ]
     },
     "metadata": {},
     "output_type": "display_data"
    }
   ],
   "source": [
    "\n",
    "n = 10  # how many digits we will display\n",
    "plt.figure(figsize=(20, 6))\n",
    "for i in range(n):\n",
    "    # display original\n",
    "    ax = plt.subplot(2, n, i + 1)\n",
    "    plt.imshow(x_test[i].reshape(28, 28))\n",
    "    plt.gray()\n",
    "    ax.get_xaxis().set_visible(False)\n",
    "    ax.get_yaxis().set_visible(False)\n",
    "\n",
    "    # display encoded\n",
    "    #ax = plt.subplot(2, n, i + 1 + n)\n",
    "    #plt.imshow(encoded_imgs[i].reshape(6, 6))\n",
    "    #plt.gray()\n",
    "    #ax.get_xaxis().set_visible(False)\n",
    "    #ax.get_yaxis().set_visible(False)\n",
    "   \n",
    "    # display reconstruction\n",
    "    ax = plt.subplot(2, n, i + 1 + n)\n",
    "    plt.imshow(test_res_decoded_imgs[i].reshape(28, 28))\n",
    "    plt.gray()\n",
    "    ax.get_xaxis().set_visible(False)\n",
    "    ax.get_yaxis().set_visible(False)\n",
    "plt.show()"
   ]
  },
  {
   "cell_type": "code",
   "execution_count": 22,
   "metadata": {
    "collapsed": true
   },
   "outputs": [],
   "source": [
    "from sklearn.neighbors import KNeighborsClassifier\n",
    "clf = KNeighborsClassifier()\n",
    "clf = clf.fit(train_res_encoded_imgs, np.ravel(y_train))"
   ]
  },
  {
   "cell_type": "code",
   "execution_count": 23,
   "metadata": {
    "collapsed": true
   },
   "outputs": [],
   "source": [
    "y_pred = clf.predict(test_res_encoded_imgs)"
   ]
  },
  {
   "cell_type": "code",
   "execution_count": 24,
   "metadata": {
    "collapsed": false
   },
   "outputs": [
    {
     "name": "stdout",
     "output_type": "stream",
     "text": [
      "tested  10000 digits\n",
      "correct:  9513 wrong:  487 error rate:  4.87 %\n",
      "got correctly  95.13 %\n"
     ]
    }
   ],
   "source": [
    "num=len(test_res_encoded_imgs)\n",
    "r=0\n",
    "w=0\n",
    "y_test = np.ravel(y_test)\n",
    "for i in range(num):\n",
    "        #print ('y_pred ',y_pred[i])\n",
    "        #print ('labels ',labels[i])\n",
    "        #without the use of all() returns error truth value of an array with more than one element is ambiguous\n",
    "        #if y_pred[i].all() == labels[i].all():\n",
    "        if np.array_equal(y_pred[i],y_test[i]):\n",
    "            r+=1\n",
    "        else:\n",
    "            w+=1\n",
    "print (\"tested \",  num, \"digits\")\n",
    "print (\"correct: \", r, \"wrong: \", w, \"error rate: \", float(w)*100/(r+w), \"%\")\n",
    "print (\"got correctly \", float(r)*100/(r+w), \"%\")\n"
   ]
  },
  {
   "cell_type": "code",
   "execution_count": 25,
   "metadata": {
    "collapsed": false
   },
   "outputs": [
    {
     "data": {
      "text/plain": [
       "array([7, 2, 1, ..., 4, 5, 6], dtype=uint8)"
      ]
     },
     "execution_count": 25,
     "metadata": {},
     "output_type": "execute_result"
    }
   ],
   "source": [
    "y_pred"
   ]
  },
  {
   "cell_type": "code",
   "execution_count": 26,
   "metadata": {
    "collapsed": false
   },
   "outputs": [
    {
     "data": {
      "text/plain": [
       "array([7, 2, 1, ..., 4, 5, 6], dtype=uint8)"
      ]
     },
     "execution_count": 26,
     "metadata": {},
     "output_type": "execute_result"
    }
   ],
   "source": [
    "y_test"
   ]
  },
  {
   "cell_type": "code",
   "execution_count": null,
   "metadata": {
    "collapsed": true
   },
   "outputs": [],
   "source": []
  }
 ],
 "metadata": {
  "kernelspec": {
   "display_name": "Python 3",
   "language": "python",
   "name": "python3"
  },
  "language_info": {
   "codemirror_mode": {
    "name": "ipython",
    "version": 3
   },
   "file_extension": ".py",
   "mimetype": "text/x-python",
   "name": "python",
   "nbconvert_exporter": "python",
   "pygments_lexer": "ipython3",
   "version": "3.5.2"
  }
 },
 "nbformat": 4,
 "nbformat_minor": 0
}
