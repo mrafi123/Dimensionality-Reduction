{
 "cells": [
  {
   "cell_type": "code",
   "execution_count": 1,
   "metadata": {
    "collapsed": false,
    "scrolled": true
   },
   "outputs": [
    {
     "name": "stderr",
     "output_type": "stream",
     "text": [
      "Using gpu device 0: GeForce 920M (CNMeM is disabled, cuDNN not available)\n",
      "Using Theano backend.\n"
     ]
    }
   ],
   "source": [
    "import os    \n",
    "#os.environ['THEANO_FLAGS'] = \"device=gpu1\"  \n",
    "#os.environ[\"THEANO_FLAGS\"] = \"mode=FAST_RUN,device=gpu0,floatX=float32,lib.cnmem=1\"\n",
    "os.environ[\"THEANO_FLAGS\"] = \"mode=FAST_RUN,device=gpu0,floatX=float32\"\n",
    "import theano\n",
    "\n",
    "from keras.datasets import cifar10\n",
    "from keras.layers import Input, Dense\n",
    "from keras.models import Model\n",
    "from keras.callbacks import EarlyStopping, ModelCheckpoint\n",
    "\n",
    "from sklearn.cross_validation import train_test_split\n",
    "from sklearn.cross_validation import KFold\n",
    "\n",
    "import numpy as np\n",
    "import matplotlib.pyplot as plt\n",
    "\n",
    "\n",
    "%matplotlib inline\n",
    "\n",
    "# this is the size of our encoded representations\n",
    "#encoding_dim = 32  # 32 floats -> compression of factor 24.5, assuming the input is 784 floats\n",
    "#encoding_dim = 3\n",
    "encoding_dim = 700\n",
    "\n",
    "\n",
    "# this is our input placeholder\n",
    "input_img = Input(shape=(3072,))\n",
    "\n",
    "# \"encoded\" is the encoded representation of the input using relu\n",
    "encoded = Dense(2800, activation='relu')(input_img)\n",
    "encoded = Dense(2000, activation='relu')(encoded)\n",
    "encoded = Dense(1700, activation='relu')(encoded)\n",
    "encoded = Dense(1200, activation='relu')(encoded)\n",
    "encoded = Dense(1000, activation='relu')(encoded)\n",
    "encoded = Dense(800, activation='relu')(encoded)\n",
    "encoded = Dense(encoding_dim, activation='relu')(encoded)\n",
    "\n",
    "# \"encoded\" is the encoded representation of the input using softmax\n",
    "\"\"\"\n",
    "encoded = Dense(2800, activation='softmax')(input_img)\n",
    "encoded = Dense(2000, activation='softmax')(encoded)\n",
    "encoded = Dense(1700, activation='softmax')(encoded)\n",
    "encoded = Dense(1200, activation='softmax')(encoded)\n",
    "encoded = Dense(1000, activation='softmax')(encoded)\n",
    "encoded = Dense(800, activation='softmax')(encoded)\n",
    "encoded = Dense(encoding_dim, activation='softmax')(encoded)\n",
    "\"\"\"\n",
    "# \"decoded\" is the lossy reconstruction of the input\n",
    "decoded = Dense(3072, activation='sigmoid')(encoded)\n",
    "\n",
    "# this model maps an input to its reconstruction\n",
    "autoencoder = Model(input=input_img, output=decoded)\n"
   ]
  },
  {
   "cell_type": "code",
   "execution_count": 2,
   "metadata": {
    "collapsed": false,
    "scrolled": true
   },
   "outputs": [
    {
     "name": "stdout",
     "output_type": "stream",
     "text": [
      "600\n",
      "input_1\n",
      "Elemwise{mul,no_inplace}.0\n",
      "sigmoid.0\n",
      "<keras.engine.training.Model object at 0x7facfe02c518>\n"
     ]
    }
   ],
   "source": [
    "print (encoding_dim)\n",
    "print (input_img)\n",
    "print (encoded)\n",
    "print (decoded)\n",
    "print (autoencoder)"
   ]
  },
  {
   "cell_type": "code",
   "execution_count": 3,
   "metadata": {
    "collapsed": true,
    "scrolled": true
   },
   "outputs": [],
   "source": [
    "# this model maps an input to its encoded representation\n",
    "encoder = Model(input=input_img, output=encoded)"
   ]
  },
  {
   "cell_type": "code",
   "execution_count": 4,
   "metadata": {
    "collapsed": false
   },
   "outputs": [
    {
     "name": "stdout",
     "output_type": "stream",
     "text": [
      "<keras.engine.training.Model object at 0x7fad3cacf940>\n"
     ]
    }
   ],
   "source": [
    "print (encoder)"
   ]
  },
  {
   "cell_type": "code",
   "execution_count": 5,
   "metadata": {
    "collapsed": false,
    "scrolled": true
   },
   "outputs": [],
   "source": [
    "# create a placeholder for an encoded (32-dimensional) input\n",
    "encoded_input = Input(shape=(encoding_dim,))\n",
    "# retrieve the last layer of the autoencoder model\n",
    "decoder_layer = autoencoder.layers[-1]\n",
    "# create the decoder model\n",
    "decoder = Model(input=encoded_input, output=decoder_layer(encoded_input))"
   ]
  },
  {
   "cell_type": "code",
   "execution_count": 6,
   "metadata": {
    "collapsed": false
   },
   "outputs": [
    {
     "name": "stdout",
     "output_type": "stream",
     "text": [
      "input_2\n",
      "<keras.layers.core.Dense object at 0x7facfe1054e0>\n",
      "<keras.engine.training.Model object at 0x7facfe0472b0>\n"
     ]
    }
   ],
   "source": [
    "print (encoded_input)\n",
    "print (decoder_layer)\n",
    "print (decoder)"
   ]
  },
  {
   "cell_type": "code",
   "execution_count": 7,
   "metadata": {
    "collapsed": true,
    "scrolled": true
   },
   "outputs": [],
   "source": [
    "autoencoder.compile(optimizer='adadelta', loss='binary_crossentropy')"
   ]
  },
  {
   "cell_type": "code",
   "execution_count": 8,
   "metadata": {
    "collapsed": false,
    "scrolled": true
   },
   "outputs": [],
   "source": [
    "(X_train, y_train), (X_test, y_test) = cifar10.load_data()"
   ]
  },
  {
   "cell_type": "code",
   "execution_count": 9,
   "metadata": {
    "collapsed": false,
    "scrolled": true
   },
   "outputs": [],
   "source": [
    "x_train = X_train.astype('float32') / 255.\n",
    "x_test = X_test.astype('float32') / 255.\n",
    "x_train = x_train.reshape((len(x_train), np.prod(x_train.shape[1:])))\n",
    "x_test = x_test.reshape((len(x_test), np.prod(x_test.shape[1:])))\n"
   ]
  },
  {
   "cell_type": "code",
   "execution_count": 10,
   "metadata": {
    "collapsed": false
   },
   "outputs": [
    {
     "name": "stdout",
     "output_type": "stream",
     "text": [
      "50000\n",
      "(50000, 3072)\n",
      "(10000, 3072)\n",
      "(50000, 1)\n",
      "(10000, 1)\n"
     ]
    }
   ],
   "source": [
    "x_train = np.array(x_train)\n",
    "x_test = np.array(x_test)\n",
    "y_train = np.array(y_train)\n",
    "y_test = np.array(y_test)\n",
    "print(len(x_train))\n",
    "print (x_train.shape)\n",
    "print (x_test.shape)\n",
    "print (y_train.shape)\n",
    "print (y_test.shape)\n"
   ]
  },
  {
   "cell_type": "code",
   "execution_count": 11,
   "metadata": {
    "collapsed": true
   },
   "outputs": [],
   "source": [
    "#random_state = 121\n",
    "#s_train, s_valid = train_test_split(x_train, test_size=0.3, random_state=random_state)"
   ]
  },
  {
   "cell_type": "code",
   "execution_count": 12,
   "metadata": {
    "collapsed": false
   },
   "outputs": [
    {
     "name": "stdout",
     "output_type": "stream",
     "text": [
      "(35000, 3072)\n"
     ]
    }
   ],
   "source": [
    "noise_factor = 0.2\n",
    "s_train_noisy = s_train + noise_factor * np.random.normal(loc=0.0, scale=1.0, size=s_train.shape) \n",
    "s_valid_noisy = s_valid + noise_factor * np.random.normal(loc=0.0, scale=1.0, size=s_valid.shape) \n",
    "\n",
    "s_train_noisy = np.clip(s_train_noisy, 0., 1.)\n",
    "s_valid_noisy = np.clip(s_valid_noisy, 0., 1.)\n",
    "print (s_train_noisy.shape)"
   ]
  },
  {
   "cell_type": "code",
   "execution_count": 13,
   "metadata": {
    "collapsed": false
   },
   "outputs": [
    {
     "name": "stdout",
     "output_type": "stream",
     "text": [
      "(35000, 3, 32, 32)\n"
     ]
    },
    {
     "data": {
      "image/png": "[encoded data removed]",
      "text/plain": [
       "<matplotlib.figure.Figure at 0x7f6948172978>"
      ]
     },
     "metadata": {},
     "output_type": "display_data"
    }
   ],
   "source": [
    "s_train_noisy=s_train_noisy.reshape(35000,3,32,32)\n",
    "print (s_train_noisy.shape)\n",
    "n = 10  # how many digits we will display\n",
    "plt.figure(figsize=(20, 4))\n",
    "for i in range(n):\n",
    "    ax = plt.subplot(2, n, i + 1)\n",
    "    #ax = plt.subplot(1, n, i)\n",
    "    #Plot the raw original image\n",
    "    plt.imshow(np.transpose(s_train_noisy[i], (1, 2, 0)), interpolation='nearest')    \n",
    "    ax.get_xaxis().set_visible(False)\n",
    "    ax.get_yaxis().set_visible(False)\n",
    "     \n",
    "plt.show()"
   ]
  },
  {
   "cell_type": "code",
   "execution_count": 14,
   "metadata": {
    "collapsed": false
   },
   "outputs": [
    {
     "name": "stdout",
     "output_type": "stream",
     "text": [
      "(35000, 3072)\n",
      "(35000, 3072)\n",
      "(15000, 3072)\n",
      "(15000, 3072)\n"
     ]
    }
   ],
   "source": [
    "s_train_noisy = s_train_noisy.reshape((len(s_train_noisy), np.prod(s_train_noisy.shape[1:])))\n",
    "print (s_train_noisy.shape)\n",
    "print (s_train.shape)\n",
    "print (s_valid_noisy.shape)\n",
    "print (s_valid.shape)\n"
   ]
  },
  {
   "cell_type": "code",
   "execution_count": 11,
   "metadata": {
    "collapsed": true
   },
   "outputs": [],
   "source": [
    "nfold=5\n",
    "nb_epoch=50\n",
    "batch_size=256\n",
    "random_state =1236"
   ]
  },
  {
   "cell_type": "code",
   "execution_count": 12,
   "metadata": {
    "collapsed": false
   },
   "outputs": [
    {
     "name": "stdout",
     "output_type": "stream",
     "text": [
      "weights_kfold_5.h5\n"
     ]
    }
   ],
   "source": [
    "kfold_weights_path = os.path.join('weights_kfold_' + str(nfold) + '.h5')\n",
    "print(kfold_weights_path)"
   ]
  },
  {
   "cell_type": "code",
   "execution_count": 13,
   "metadata": {
    "collapsed": false
   },
   "outputs": [],
   "source": [
    "callbacks = [\n",
    "                EarlyStopping(monitor='val_loss', patience=0, verbose=0),\n",
    "                ModelCheckpoint(kfold_weights_path, monitor='val_loss', save_best_only=True, verbose=0),\n",
    "            ]\n",
    "\n",
    "#callbacks = [\n",
    "#                EarlyStopping(monitor='val_loss', patience=1, verbose=0)\n",
    "#            ]"
   ]
  },
  {
   "cell_type": "code",
   "execution_count": 14,
   "metadata": {
    "collapsed": false
   },
   "outputs": [
    {
     "name": "stdout",
     "output_type": "stream",
     "text": [
      "sklearn.cross_validation.KFold(n=50000, n_folds=5, shuffle=True, random_state=1236)\n"
     ]
    }
   ],
   "source": [
    "kf = KFold(len(x_train), n_folds=nfold, shuffle=True, random_state=random_state)\n",
    "print(kf)"
   ]
  },
  {
   "cell_type": "code",
   "execution_count": 15,
   "metadata": {
    "collapsed": false
   },
   "outputs": [
    {
     "name": "stdout",
     "output_type": "stream",
     "text": [
      "(10000, 600)\n",
      "(10000, 3072)\n"
     ]
    }
   ],
   "source": [
    "full_encoded_imgs = np.zeros(shape=[x_test.shape[0],encoding_dim])\n",
    "full_decoded_imgs = np.zeros(shape=[x_test.shape[0],x_train.shape[1]])\n",
    "print(full_encoded_imgs.shape)\n",
    "print(full_decoded_imgs.shape)"
   ]
  },
  {
   "cell_type": "code",
   "execution_count": 17,
   "metadata": {
    "collapsed": false
   },
   "outputs": [
    {
     "name": "stdout",
     "output_type": "stream",
     "text": [
      "\n",
      "\n",
      "Start KFold number 1 from 5\n",
      "Split train:  40000 40000\n",
      "Split valid:  10000 10000\n",
      "Train on 40000 samples, validate on 10000 samples\n",
      "Epoch 1/50\n",
      "40000/40000 [==============================] - 46s - loss: 0.6469 - val_loss: 0.6430\n",
      "Epoch 2/50\n",
      "40000/40000 [==============================] - 47s - loss: 0.6434 - val_loss: 0.6425\n",
      "Epoch 3/50\n",
      "40000/40000 [==============================] - 47s - loss: 0.6409 - val_loss: 0.6363\n",
      "Epoch 4/50\n",
      "40000/40000 [==============================] - 47s - loss: 0.6390 - val_loss: 0.6359\n",
      "Epoch 5/50\n",
      "40000/40000 [==============================] - 47s - loss: 0.6376 - val_loss: 0.6361\n",
      "10000/10000 [==============================] - 2s     \n",
      "10000/10000 [==============================] - 0s     \n",
      "\n",
      "\n",
      "Start KFold number 2 from 5\n",
      "Split train:  40000 40000\n",
      "Split valid:  10000 10000\n",
      "Train on 40000 samples, validate on 10000 samples\n",
      "Epoch 1/50\n",
      "40000/40000 [==============================] - 54s - loss: 0.6369 - val_loss: 0.6427\n",
      "10000/10000 [==============================] - 2s     \n",
      "10000/10000 [==============================] - 0s     \n",
      "\n",
      "\n",
      "Start KFold number 3 from 5\n",
      "Split train:  40000 40000\n",
      "Split valid:  10000 10000\n",
      "Train on 40000 samples, validate on 10000 samples\n",
      "Epoch 1/50\n",
      "40000/40000 [==============================] - 49s - loss: 0.6357 - val_loss: 0.6304\n",
      "Epoch 2/50\n",
      "40000/40000 [==============================] - 47s - loss: 0.6343 - val_loss: 0.6297\n",
      "Epoch 3/50\n",
      "40000/40000 [==============================] - 47s - loss: 0.6326 - val_loss: 0.6268\n",
      "Epoch 4/50\n",
      "40000/40000 [==============================] - 46s - loss: 0.6305 - val_loss: 0.6377\n",
      "10000/10000 [==============================] - 2s     \n",
      " 9984/10000 [============================>.] - ETA: 0s\n",
      "\n",
      "Start KFold number 4 from 5\n",
      "Split train:  40000 40000\n",
      "Split valid:  10000 10000\n",
      "Train on 40000 samples, validate on 10000 samples\n",
      "Epoch 1/50\n",
      "40000/40000 [==============================] - 47s - loss: 0.6293 - val_loss: 0.6245\n",
      "Epoch 2/50\n",
      "40000/40000 [==============================] - 46s - loss: 0.6269 - val_loss: 0.6264\n",
      "10000/10000 [==============================] - 2s     \n",
      "10000/10000 [==============================] - 0s     \n",
      "\n",
      "\n",
      "Start KFold number 5 from 5\n",
      "Split train:  40000 40000\n",
      "Split valid:  10000 10000\n",
      "Train on 40000 samples, validate on 10000 samples\n",
      "Epoch 1/50\n",
      "40000/40000 [==============================] - 47s - loss: 0.6256 - val_loss: 0.6241\n",
      "Epoch 2/50\n",
      "40000/40000 [==============================] - 47s - loss: 0.6249 - val_loss: 0.6212\n",
      "Epoch 3/50\n",
      "40000/40000 [==============================] - 47s - loss: 0.6242 - val_loss: 0.6224\n",
      "10000/10000 [==============================] - 2s     \n",
      "10000/10000 [==============================] - 0s     \n"
     ]
    }
   ],
   "source": [
    "num_fold = 0\n",
    "for train_index,valid_index in kf:\n",
    "    s_train,s_valid  = x_train[train_index], x_train[valid_index]\n",
    "    \n",
    "    noise_factor = 0.2\n",
    "    s_train_noisy = s_train + noise_factor * np.random.normal(loc=0.0, scale=1.0, size=s_train.shape) \n",
    "    s_valid_noisy = s_valid + noise_factor * np.random.normal(loc=0.0, scale=1.0, size=s_valid.shape) \n",
    "\n",
    "    s_train_noisy = np.clip(s_train_noisy, 0., 1.)\n",
    "    s_valid_noisy = np.clip(s_valid_noisy, 0., 1.)\n",
    "    #y_train, y_test = y[train_index], y[test_index]\n",
    "    \n",
    "    num_fold += 1\n",
    "    print('\\n\\nStart KFold number {} from {}'.format(num_fold, nfold))\n",
    "    print('Split train: ', len(s_train_noisy), len(s_train))\n",
    "    print('Split valid: ', len(s_valid_noisy), len(s_valid))\n",
    "        \n",
    "    autoencoder.fit(s_train_noisy, s_train,\n",
    "                nb_epoch=nb_epoch,\n",
    "                batch_size=batch_size,\n",
    "                shuffle=True,\n",
    "                validation_data=(s_valid_noisy, s_valid),\n",
    "                callbacks=callbacks)\n",
    "    \n",
    "    # Store test predictions\n",
    "    encoded_imgs = encoder.predict(x_test,batch_size=batch_size, verbose=1)\n",
    "    #full_encoded_imgs = np.vstack([full_encoded_imgs,encoded_imgs])\n",
    "    full_encoded_imgs = np.add(full_encoded_imgs,encoded_imgs)\n",
    "    #full_encoded_imgs.append(encoded_imgs)\n",
    "    #print(full_encoded_imgs.shape)\n",
    "    \n",
    "    decoded_imgs = decoder.predict(encoded_imgs,batch_size=batch_size, verbose=1)\n",
    "    #full_decoded_imgs = np.vstack([full_decoded_imgs,decoded_imgs])\n",
    "    full_decoded_imgs = np.add(full_decoded_imgs,decoded_imgs)\n",
    "\n",
    "    #full_decoded_imgs.append(decoded_imgs)\n",
    "    #print(full_decoded_imgs.shape)\n",
    "\n"
   ]
  },
  {
   "cell_type": "code",
   "execution_count": 18,
   "metadata": {
    "collapsed": false
   },
   "outputs": [
    {
     "name": "stdout",
     "output_type": "stream",
     "text": [
      "(10000, 600)\n",
      "(10000, 3072)\n"
     ]
    }
   ],
   "source": [
    "print(full_encoded_imgs.shape)\n",
    "print(full_decoded_imgs.shape)"
   ]
  },
  {
   "cell_type": "code",
   "execution_count": 19,
   "metadata": {
    "collapsed": false
   },
   "outputs": [
    {
     "name": "stdout",
     "output_type": "stream",
     "text": [
      "(10000, 600)\n",
      "(10000, 3072)\n"
     ]
    }
   ],
   "source": [
    "res_encoded_imgs = full_encoded_imgs/nfold\n",
    "res_decoded_imgs = full_decoded_imgs/nfold\n",
    "print(res_encoded_imgs.shape)\n",
    "print(res_decoded_imgs.shape)"
   ]
  },
  {
   "cell_type": "code",
   "execution_count": 17,
   "metadata": {
    "collapsed": false,
    "scrolled": false
   },
   "outputs": [
    {
     "name": "stdout",
     "output_type": "stream",
     "text": [
      "Train on 35000 samples, validate on 15000 samples\n",
      "Epoch 1/50\n",
      "35000/35000 [==============================] - 46s - loss: 0.6931 - val_loss: 0.6931\n",
      "Epoch 2/50\n",
      "35000/35000 [==============================] - 46s - loss: 0.6930 - val_loss: 0.6930\n",
      "Epoch 3/50\n",
      "35000/35000 [==============================] - 46s - loss: 0.6929 - val_loss: 0.6929\n",
      "Epoch 4/50\n",
      "35000/35000 [==============================] - 46s - loss: 0.6928 - val_loss: 0.6928\n",
      "Epoch 5/50\n",
      "35000/35000 [==============================] - 46s - loss: 0.6927 - val_loss: 0.6927\n",
      "Epoch 6/50\n",
      "35000/35000 [==============================] - 46s - loss: 0.6926 - val_loss: 0.6926\n",
      "Epoch 7/50\n",
      "35000/35000 [==============================] - 46s - loss: 0.6925 - val_loss: 0.6925\n",
      "Epoch 8/50\n",
      "35000/35000 [==============================] - 46s - loss: 0.6924 - val_loss: 0.6924\n",
      "Epoch 9/50\n",
      "35000/35000 [==============================] - 46s - loss: 0.6924 - val_loss: 0.6923\n",
      "Epoch 10/50\n",
      "35000/35000 [==============================] - 46s - loss: 0.6923 - val_loss: 0.6923\n",
      "Epoch 11/50\n",
      "35000/35000 [==============================] - 46s - loss: 0.6922 - val_loss: 0.6922\n",
      "Epoch 12/50\n",
      "35000/35000 [==============================] - 46s - loss: 0.6921 - val_loss: 0.6921\n",
      "Epoch 13/50\n",
      "35000/35000 [==============================] - 46s - loss: 0.6920 - val_loss: 0.6920\n",
      "Epoch 14/50\n",
      "35000/35000 [==============================] - 46s - loss: 0.6919 - val_loss: 0.6919\n",
      "Epoch 15/50\n",
      "35000/35000 [==============================] - 46s - loss: 0.6918 - val_loss: 0.6918\n",
      "Epoch 16/50\n",
      "35000/35000 [==============================] - 46s - loss: 0.6917 - val_loss: 0.6917\n",
      "Epoch 17/50\n",
      "35000/35000 [==============================] - 46s - loss: 0.6916 - val_loss: 0.6916\n",
      "Epoch 18/50\n",
      "35000/35000 [==============================] - 46s - loss: 0.6915 - val_loss: 0.6915\n",
      "Epoch 19/50\n",
      "35000/35000 [==============================] - 46s - loss: 0.6914 - val_loss: 0.6914\n",
      "Epoch 20/50\n",
      "35000/35000 [==============================] - 46s - loss: 0.6913 - val_loss: 0.6913\n",
      "Epoch 21/50\n",
      "35000/35000 [==============================] - 46s - loss: 0.6912 - val_loss: 0.6912\n",
      "Epoch 22/50\n",
      "35000/35000 [==============================] - 46s - loss: 0.6910 - val_loss: 0.6911\n",
      "Epoch 23/50\n",
      "35000/35000 [==============================] - 46s - loss: 0.6909 - val_loss: 0.6909\n",
      "Epoch 24/50\n",
      "35000/35000 [==============================] - 46s - loss: 0.6908 - val_loss: 0.6908\n",
      "Epoch 25/50\n",
      "35000/35000 [==============================] - 48s - loss: 0.6907 - val_loss: 0.6907\n",
      "Epoch 26/50\n",
      "35000/35000 [==============================] - 47s - loss: 0.6905 - val_loss: 0.6906\n",
      "Epoch 27/50\n",
      "35000/35000 [==============================] - 48s - loss: 0.6904 - val_loss: 0.6905\n",
      "Epoch 28/50\n",
      "35000/35000 [==============================] - 46s - loss: 0.6903 - val_loss: 0.6903\n",
      "Epoch 29/50\n",
      "35000/35000 [==============================] - 46s - loss: 0.6901 - val_loss: 0.6902\n",
      "Epoch 30/50\n",
      "35000/35000 [==============================] - 47s - loss: 0.6900 - val_loss: 0.6901\n",
      "Epoch 31/50\n",
      "35000/35000 [==============================] - 47s - loss: 0.6899 - val_loss: 0.6900\n",
      "Epoch 32/50\n",
      "35000/35000 [==============================] - 46s - loss: 0.6898 - val_loss: 0.6899\n",
      "Epoch 33/50\n",
      "35000/35000 [==============================] - 46s - loss: 0.6897 - val_loss: 0.6898\n",
      "Epoch 34/50\n",
      "35000/35000 [==============================] - 46s - loss: 0.6896 - val_loss: 0.6898\n",
      "Epoch 35/50\n",
      "35000/35000 [==============================] - 46s - loss: 0.6895 - val_loss: 0.6897\n",
      "Epoch 36/50\n",
      "35000/35000 [==============================] - 46s - loss: 0.6894 - val_loss: 0.6896\n",
      "Epoch 37/50\n",
      "35000/35000 [==============================] - 46s - loss: 0.6894 - val_loss: 0.6896\n",
      "Epoch 38/50\n",
      "35000/35000 [==============================] - 46s - loss: 0.6893 - val_loss: 0.6895\n",
      "Epoch 39/50\n",
      "35000/35000 [==============================] - 46s - loss: 0.6893 - val_loss: 0.6895\n",
      "Epoch 40/50\n",
      "35000/35000 [==============================] - 46s - loss: 0.6892 - val_loss: 0.6895\n",
      "Epoch 41/50\n",
      "35000/35000 [==============================] - 46s - loss: 0.6892 - val_loss: 0.6894\n",
      "Epoch 42/50\n",
      "35000/35000 [==============================] - 46s - loss: 0.6892 - val_loss: 0.6894\n",
      "Epoch 43/50\n",
      "35000/35000 [==============================] - 46s - loss: 0.6891 - val_loss: 0.6894\n",
      "Epoch 44/50\n",
      "35000/35000 [==============================] - 47s - loss: 0.6891 - val_loss: 0.6894\n",
      "Epoch 45/50\n",
      "35000/35000 [==============================] - 46s - loss: 0.6891 - val_loss: 0.6894\n",
      "Epoch 46/50\n",
      "35000/35000 [==============================] - 45s - loss: 0.6891 - val_loss: 0.6893\n",
      "Epoch 47/50\n",
      "35000/35000 [==============================] - 45s - loss: 0.6891 - val_loss: 0.6893\n",
      "Epoch 48/50\n",
      "35000/35000 [==============================] - 45s - loss: 0.6891 - val_loss: 0.6893\n",
      "Epoch 49/50\n",
      "35000/35000 [==============================] - 45s - loss: 0.6890 - val_loss: 0.6893\n",
      "Epoch 50/50\n",
      "35000/35000 [==============================] - 45s - loss: 0.6890 - val_loss: 0.6893\n"
     ]
    },
    {
     "data": {
      "text/plain": [
       "<keras.callbacks.History at 0x7f690916bbe0>"
      ]
     },
     "execution_count": 17,
     "metadata": {},
     "output_type": "execute_result"
    }
   ],
   "source": [
    "\"\"\"\n",
    "autoencoder.fit(s_train_noisy, s_train,\n",
    "                nb_epoch=50,\n",
    "                batch_size=256,\n",
    "                shuffle=True,\n",
    "                verbose=1,\n",
    "                validation_data=(s_valid_noisy, s_valid),\n",
    "                callbacks=callbacks)\n",
    "\"\"\""
   ]
  },
  {
   "cell_type": "code",
   "execution_count": 18,
   "metadata": {
    "collapsed": false,
    "scrolled": true
   },
   "outputs": [
    {
     "name": "stdout",
     "output_type": "stream",
     "text": [
      "6000000\n",
      "(10000, 600)\n",
      "48000000\n",
      "30720000\n",
      "(10000, 3072)\n",
      "245760000\n"
     ]
    }
   ],
   "source": [
    "# encode and decode some digits\n",
    "# note that we take them from the *test* set\n",
    "encoded_imgs = encoder.predict(x_test)\n",
    "print (encoded_imgs.size)\n",
    "print (encoded_imgs.shape)\n",
    "print (encoded_imgs.nbytes)\n",
    "\n",
    "\n",
    "decoded_imgs = decoder.predict(encoded_imgs)\n",
    "print (decoded_imgs.size)\n",
    "print (decoded_imgs.shape)\n",
    "print (decoded_imgs.nbytes)"
   ]
  },
  {
   "cell_type": "code",
   "execution_count": 20,
   "metadata": {
    "collapsed": false
   },
   "outputs": [
    {
     "data": {
      "image/png": "[encoded data removed]",
      "text/plain": [
       "<matplotlib.figure.Figure at 0x7facace2cef0>"
      ]
     },
     "metadata": {},
     "output_type": "display_data"
    }
   ],
   "source": [
    "import matplotlib.pyplot as plt\n",
    "res_decoded_imgs=res_decoded_imgs.reshape(10000,3,32,32)\n",
    "\n",
    "n = 10  # how many digits we will display\n",
    "plt.figure(figsize=(20, 4))\n",
    "for i in range(n):\n",
    "    ax = plt.subplot(2, n, i + 1)\n",
    "    #ax = plt.subplot(1, n, i)\n",
    "    #Plot the raw original image\n",
    "    plt.imshow(np.transpose(X_test[i], (1, 2, 0)), interpolation='nearest')    \n",
    "    ax.get_xaxis().set_visible(False)\n",
    "    ax.get_yaxis().set_visible(False)\n",
    "    \n",
    "    ax = plt.subplot(2, n, i + 1 + n)\n",
    "    plt.imshow(np.transpose(res_decoded_imgs[i], (1, 2, 0)), interpolation='nearest')    \n",
    "    ax.get_xaxis().set_visible(False)\n",
    "    ax.get_yaxis().set_visible(False)\n",
    "    \n",
    "plt.show()"
   ]
  },
  {
   "cell_type": "code",
   "execution_count": 21,
   "metadata": {
    "collapsed": false
   },
   "outputs": [
    {
     "name": "stdout",
     "output_type": "stream",
     "text": [
      "30000000\n",
      "(50000, 600)\n",
      "240000000\n",
      "(50000, 1)\n"
     ]
    }
   ],
   "source": [
    "#Predict the digits using a classifier\n",
    "#Use the reduce Encoded train and test images\n",
    "encoded_train_imgs = encoder.predict(x_train)\n",
    "print (encoded_train_imgs.size)\n",
    "print (encoded_train_imgs.shape)\n",
    "print (encoded_train_imgs.nbytes)\n",
    "print (y_train.shape)"
   ]
  },
  {
   "cell_type": "code",
   "execution_count": 22,
   "metadata": {
    "collapsed": false
   },
   "outputs": [
    {
     "name": "stdout",
     "output_type": "stream",
     "text": [
      "6000000\n",
      "(10000, 600)\n",
      "48000000\n",
      "(10000, 1)\n"
     ]
    }
   ],
   "source": [
    "encoded_test_imgs = encoder.predict(x_test)\n",
    "print (encoded_test_imgs.size)\n",
    "print (encoded_test_imgs.shape)\n",
    "print (encoded_test_imgs.nbytes)\n",
    "print (y_test.shape)"
   ]
  },
  {
   "cell_type": "code",
   "execution_count": 23,
   "metadata": {
    "collapsed": false
   },
   "outputs": [],
   "source": [
    "from sklearn.neighbors import KNeighborsClassifier\n",
    "clf = KNeighborsClassifier()\n",
    "clf = clf.fit(encoded_train_imgs, np.ravel(y_train))"
   ]
  },
  {
   "cell_type": "code",
   "execution_count": 24,
   "metadata": {
    "collapsed": true
   },
   "outputs": [],
   "source": [
    "y_pred = clf.predict(encoded_test_imgs)\n"
   ]
  },
  {
   "cell_type": "code",
   "execution_count": 25,
   "metadata": {
    "collapsed": false
   },
   "outputs": [
    {
     "name": "stdout",
     "output_type": "stream",
     "text": [
      "tested  10000 digits\n",
      "correct:  2570 wrong:  7430 error rate:  74.3 %\n",
      "got correctly  25.7 %\n"
     ]
    }
   ],
   "source": [
    "num=len(encoded_test_imgs)\n",
    "r=0\n",
    "w=0\n",
    "y_test = np.ravel(y_test)\n",
    "for i in range(num):\n",
    "        #print ('y_pred ',y_pred[i])\n",
    "        #print ('labels ',labels[i])\n",
    "        #without the use of all() returns error truth value of an array with more than one element is ambiguous\n",
    "        #if y_pred[i].all() == labels[i].all():\n",
    "        if np.array_equal(y_pred[i],y_test[i]):\n",
    "            r+=1\n",
    "        else:\n",
    "            w+=1\n",
    "print (\"tested \",  num, \"digits\")\n",
    "print (\"correct: \", r, \"wrong: \", w, \"error rate: \", float(w)*100/(r+w), \"%\")\n",
    "print (\"got correctly \", float(r)*100/(r+w), \"%\")\n"
   ]
  },
  {
   "cell_type": "code",
   "execution_count": null,
   "metadata": {
    "collapsed": true
   },
   "outputs": [],
   "source": []
  },
  {
   "cell_type": "code",
   "execution_count": null,
   "metadata": {
    "collapsed": true
   },
   "outputs": [],
   "source": []
  }
 ],
 "metadata": {
  "kernelspec": {
   "display_name": "Python 3",
   "language": "python",
   "name": "python3"
  },
  "language_info": {
   "codemirror_mode": {
    "name": "ipython",
    "version": 3
   },
   "file_extension": ".py",
   "mimetype": "text/x-python",
   "name": "python",
   "nbconvert_exporter": "python",
   "pygments_lexer": "ipython3",
   "version": "3.5.2"
  }
 },
 "nbformat": 4,
 "nbformat_minor": 0
}
